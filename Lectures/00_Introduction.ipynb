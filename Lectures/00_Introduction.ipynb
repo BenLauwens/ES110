{
 "cells": [
  {
   "cell_type": "markdown",
   "metadata": {
    "slideshow": {
     "slide_type": "slide"
    }
   },
   "source": [
    "# Lecture 0: Introduction"
   ]
  },
  {
   "cell_type": "markdown",
   "metadata": {
    "collapsed": true,
    "slideshow": {
     "slide_type": "fragment"
    }
   },
   "source": [
    "## Syllabus\n",
    "\n",
    "### Who are we?\n",
    "\n",
    "- Maj IMM Ben Lauwens, 150 POL, D30.11, ben.lauwens@rma.ac.be\n",
    "\n",
    "- Cdt IMM François Dossogne, 140 POL, D30. , francois.dossogne@rma.ac.be"
   ]
  },
  {
   "cell_type": "markdown",
   "metadata": {
    "slideshow": {
     "slide_type": "fragment"
    }
   },
   "source": [
    "### Course description\n",
    "\n",
    "ES112 (part MATLAB) is intended for students with little or no programming experience. It aims to provide students the means and the knowledge to succesfully use MATLAB (Octave) in all technical courses."
   ]
  },
  {
   "cell_type": "markdown",
   "metadata": {
    "collapsed": true,
    "slideshow": {
     "slide_type": "subslide"
    }
   },
   "source": [
    "### Course Materials\n",
    "\n",
    "- Handbook: Essential Mathematical Skills for engineering, science and applied mathematics\n",
    "- Jupyter notebooks: Lectures notes and Assignments"
   ]
  },
  {
   "cell_type": "markdown",
   "metadata": {
    "slideshow": {
     "slide_type": "fragment"
    }
   },
   "source": [
    "### Evaluation\n",
    "\n",
    "- Tests: 2 (be always prepared!)\n",
    "- Exam: oral defense after preparation with computer"
   ]
  },
  {
   "cell_type": "markdown",
   "metadata": {
    "slideshow": {
     "slide_type": "fragment"
    }
   },
   "source": [
    "### Schedule\n",
    "\n",
    "- Wednesday AM\n",
    "- Theory (1h) followed by exercises (1h)"
   ]
  },
  {
   "cell_type": "markdown",
   "metadata": {
    "slideshow": {
     "slide_type": "slide"
    }
   },
   "source": [
    "## VirtualBox\n",
    "\n",
    "- VirtualBox is a general-purpose full virtualizer for x86 hardware, targeted at server, desktop and embedded use.\n",
    "- [Download](https://www.virtualbox.org/wiki/Downloads) and [installation](https://www.virtualbox.org/manual/UserManual.html#installation) information can be found online.\n",
    "- Image *ES112* is provided with everything you will need.\n",
    "- Start in *headless* mode. "
   ]
  },
  {
   "cell_type": "markdown",
   "metadata": {
    "slideshow": {
     "slide_type": "slide"
    }
   },
   "source": [
    "## Jupyter\n",
    "\n",
    "Project Jupyter is an open source project was born out of the IPython Project in 2014 as it evolved to support interactive data science and scientific computing across all programming languages."
   ]
  },
  {
   "cell_type": "markdown",
   "metadata": {
    "slideshow": {
     "slide_type": "fragment"
    }
   },
   "source": [
    "### Access\n",
    "\n",
    "- [http://localhost:8888](http://localhost:8888)\n",
    "- Initial passwd is empty"
   ]
  },
  {
   "cell_type": "markdown",
   "metadata": {
    "slideshow": {
     "slide_type": "subslide"
    }
   },
   "source": [
    "### Dashboard\n",
    "\n",
    "3 taps: *Files*, *Running* and *Cluster*    "
   ]
  },
  {
   "cell_type": "markdown",
   "metadata": {
    "slideshow": {
     "slide_type": "fragment"
    }
   },
   "source": [
    "#### Files\n",
    "\n",
    "- Upload a file\n",
    "- New: *Octave*, *Python*, *Text File*, *Folder* and *Terminal*\n",
    "- Selectable and clickable directory listing:\n",
    "    - Select:\n",
    "        - Folder: *Rename*, *Move*, and *Delete*\n",
    "        - .ipynb files: *Duplicate*, *Rename*, *Move*, *Download* and *Delete*\n",
    "        - other files: *Duplicate*, *Rename*, *Move*, *Download*, *Edit* and *Delete*\n",
    "    - Click:\n",
    "        - Folder: show files in directory listing\n",
    "        - .ipynb files: launch notebook\n",
    "        - other files: show file"
   ]
  },
  {
   "cell_type": "markdown",
   "metadata": {
    "slideshow": {
     "slide_type": "subslide"
    }
   },
   "source": [
    "#### Running\n",
    "\n",
    "Active (running) terminals and notebooks with *shutdown* button."
   ]
  },
  {
   "cell_type": "markdown",
   "metadata": {
    "slideshow": {
     "slide_type": "fragment"
    }
   },
   "source": [
    "#### Cluster\n",
    "\n",
    "Not applicable"
   ]
  },
  {
   "cell_type": "markdown",
   "metadata": {
    "slideshow": {
     "slide_type": "slide"
    }
   },
   "source": [
    "## Notebook (Octave)\n",
    "\n",
    "### Interface\n",
    "\n",
    "The notebook UI has the following main areas:\n",
    "\n",
    "- Menu\n",
    "- Toolbar\n",
    "- Notebook area and cells"
   ]
  },
  {
   "cell_type": "markdown",
   "metadata": {
    "slideshow": {
     "slide_type": "subslide"
    }
   },
   "source": [
    "### Cells\n",
    "\n",
    "The content type of a notebook cell can be selected in the toolbar: \n",
    "\n",
    "- [Octave](https://www.gnu.org/software/octave/) Code\n",
    "- [Markdown](https://daringfireball.net/projects/markdown/) mixed with [LaTeX](https://www.latex-project.org)\n",
    "\n",
    "and the contents is processed by pushing `ctrl-enter`.\n",
    "\n",
    "Further [documentation](http://jupyter-notebook.readthedocs.io/en/latest/index.html) can be found online."
   ]
  },
  {
   "cell_type": "markdown",
   "metadata": {
    "slideshow": {
     "slide_type": "fragment"
    }
   },
   "source": [
    "### Presentation mode\n",
    "\n",
    "Presentation mode can be selected in the toolbar.\n",
    "\n",
    "Going through the slides is done by `page_down` and `page_up`.\n",
    "\n",
    "The slide type can be selected by activating `menu - View - Cell Toolbar - Slideshow` in normal mode."
   ]
  },
  {
   "cell_type": "markdown",
   "metadata": {
    "slideshow": {
     "slide_type": "subslide"
    }
   },
   "source": [
    "### Export\n",
    "\n",
    "The notebook can be exported as *html*, *html to pdf* and *tex to pdf* in the toolbar."
   ]
  }
 ],
 "metadata": {
  "celltoolbar": "Slideshow",
  "kernelspec": {
   "display_name": "Octave",
   "language": "octave",
   "name": "octave"
  },
  "language_info": {
   "file_extension": ".m",
   "help_links": [
    {
     "text": "GNU Octave",
     "url": "https://www.gnu.org/software/octave/support.html"
    },
    {
     "text": "Octave Kernel",
     "url": "https://github.com/Calysto/octave_kernel"
    },
    {
     "text": "MetaKernel Magics",
     "url": "https://github.com/calysto/metakernel/blob/master/metakernel/magics/README.md"
    }
   ],
   "mimetype": "text/x-octave",
   "name": "octave",
   "version": "4.2.1"
  }
 },
 "nbformat": 4,
 "nbformat_minor": 2
}
