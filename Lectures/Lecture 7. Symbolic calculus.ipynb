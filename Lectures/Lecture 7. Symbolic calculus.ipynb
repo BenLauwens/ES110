{
 "cells": [
  {
   "cell_type": "markdown",
   "metadata": {
    "hideCode": false,
    "hidePrompt": false,
    "slideshow": {
     "slide_type": "slide"
    }
   },
   "source": [
    "# Algebraic equations\n",
    "\n",
    "## Solving an algebraic equation\n",
    "\n",
    "If `S` is a symbolic expression, the command `solve`, attempts to find values of the symbolic variable in `S` for which `S` is zero, eg."
   ]
  },
  {
   "cell_type": "code",
   "execution_count": 1,
   "metadata": {
    "hideCode": false,
    "hidePrompt": false
   },
   "outputs": [
    {
     "name": "stdout",
     "output_type": "stream",
     "text": [
      "OctSymPy v2.6.0: this is free software without warranty, see source.\n",
      "Initializing communication with SymPy using a popen2() pipe.\n",
      "Some output from the Python subprocess (pid 3130) might appear next.\n",
      "Python 2.7.14 (default, Nov  3 2017, 10:55:25) \n",
      "[GCC 7.2.1 20170915 (Red Hat 7.2.1-2)] on linux2\n",
      "Type \"help\", \"copyright\", \"credits\" or \"license\" for more information.\n",
      ">>> >>> \n",
      "OctSymPy: Communication established.  SymPy v1.1.1.\n",
      "S = (sym)\n",
      "\n",
      "   2          \n",
      "  x  - 3⋅x - 4\n",
      "\n",
      "ans = (sym 2×1 matrix)\n",
      "\n",
      "  ⎡-1⎤\n",
      "  ⎢  ⎥\n",
      "  ⎣4 ⎦\n",
      "\n"
     ]
    }
   ],
   "source": [
    "pkg load symbolic\n",
    "syms x S\n",
    "S = x^2-3*x-4\n",
    "solve(S)"
   ]
  },
  {
   "cell_type": "markdown",
   "metadata": {
    "hideCode": false,
    "hidePrompt": false,
    "slideshow": {
     "slide_type": "subslide"
    }
   },
   "source": [
    "If more than one symbolic variable is used in the expression `E`, you must specify with respect to which variable you want to solve the equation, eg."
   ]
  },
  {
   "cell_type": "code",
   "execution_count": 2,
   "metadata": {
    "hideCode": false,
    "hidePrompt": false
   },
   "outputs": [
    {
     "name": "stdout",
     "output_type": "stream",
     "text": [
      "E = (sym)\n",
      "\n",
      "     2              \n",
      "  a⋅x  + b⋅x + c = 0\n",
      "\n",
      "ans = (sym 2×1 matrix)\n",
      "\n",
      "  ⎡           _____________⎤\n",
      "  ⎢          ╱           2 ⎥\n",
      "  ⎢   b    ╲╱  -4⋅a⋅c + b  ⎥\n",
      "  ⎢- ─── - ────────────────⎥\n",
      "  ⎢  2⋅a         2⋅a       ⎥\n",
      "  ⎢                        ⎥\n",
      "  ⎢           _____________⎥\n",
      "  ⎢          ╱           2 ⎥\n",
      "  ⎢   b    ╲╱  -4⋅a⋅c + b  ⎥\n",
      "  ⎢- ─── + ────────────────⎥\n",
      "  ⎣  2⋅a         2⋅a       ⎦\n",
      "\n",
      "ans = (sym)\n",
      "\n",
      "         c\n",
      "  -a⋅x - ─\n",
      "         x\n",
      "\n"
     ]
    }
   ],
   "source": [
    "syms a b c x\n",
    "E = a*x^2+b*x+c == 0\n",
    "solve(E, x)\n",
    "solve(E, b)"
   ]
  },
  {
   "cell_type": "markdown",
   "metadata": {
    "hideCode": false,
    "hidePrompt": false,
    "slideshow": {
     "slide_type": "subslide"
    }
   },
   "source": [
    "## Systems of algebraic equations\n",
    "\n",
    "As an example, suppose you have the system\n",
    "$$\n",
    "\\begin{cases}\n",
    "x^2y^2=0\\\\\n",
    "x-\\frac{y}{2}=\\alpha\n",
    "\\end{cases}\n",
    "$$\n",
    "and you want to solve for $x$ and $y$:"
   ]
  },
  {
   "cell_type": "code",
   "execution_count": 3,
   "metadata": {
    "hideCode": false,
    "hidePrompt": false
   },
   "outputs": [
    {
     "name": "stdout",
     "output_type": "stream",
     "text": [
      "x = (sym 2×1 matrix)\n",
      "\n",
      "  ⎡α⎤\n",
      "  ⎢ ⎥\n",
      "  ⎣0⎦\n",
      "\n",
      "y = (sym 2×1 matrix)\n",
      "\n",
      "  ⎡ 0  ⎤\n",
      "  ⎢    ⎥\n",
      "  ⎣-2⋅α⎦\n",
      "\n"
     ]
    }
   ],
   "source": [
    "syms x y alpha\n",
    "[x, y] = solve(x^2*y^2==0, x-y/2==alpha, x, y)"
   ]
  },
  {
   "cell_type": "markdown",
   "metadata": {
    "hideCode": false,
    "hidePrompt": false
   },
   "source": [
    "The solutions are\n",
    "$$\n",
    "\\begin{cases}\n",
    "x = \\alpha,\\ y = 0\\\\\n",
    "x = 0,\\ y=-2\\alpha\n",
    "\\end{cases}\n",
    "$$"
   ]
  },
  {
   "cell_type": "markdown",
   "metadata": {
    "hideCode": false,
    "hidePrompt": false,
    "slideshow": {
     "slide_type": "subslide"
    }
   },
   "source": [
    "This way of assigning output from `solve` is quite successful for \"small\" systems. If you had a 10-by-10 system of equations, typing\n",
    "\n",
    "`[x1, x2, x3, x4, x5, x6, x7, x8, x9, x10] = solve(...)`\n",
    "\n",
    "is both awkward and time consuming. To circumvent this difficulty, `solve` in MATLAB can return a struct whose fields are the solutions, and `solve` in Octave can return a cell array containing structs whose fields are the solution."
   ]
  },
  {
   "cell_type": "code",
   "execution_count": 4,
   "metadata": {
    "hideCode": false,
    "hidePrompt": false
   },
   "outputs": [
    {
     "name": "stdout",
     "output_type": "stream",
     "text": [
      "a = (sym 2×1 matrix)\n",
      "\n",
      "  ⎡-1⎤\n",
      "  ⎢  ⎥\n",
      "  ⎣3 ⎦\n",
      "\n",
      "u = (sym 2×1 matrix)\n",
      "\n",
      "  ⎡1⎤\n",
      "  ⎢ ⎥\n",
      "  ⎣5⎦\n",
      "\n",
      "v = (sym 2×1 matrix)\n",
      "\n",
      "  ⎡0 ⎤\n",
      "  ⎢  ⎥\n",
      "  ⎣-4⎦\n",
      "\n"
     ]
    }
   ],
   "source": [
    "syms a u v\n",
    "S = solve(u^2-v^2==a^2, u+v==1, a^2-2*a==3);\n",
    "sol1 = S{1}; % octave\n",
    "sol2 = S{2}; % octave\n",
    "a = [sol1.a; sol2.a]\n",
    "u = [sol1.u; sol2.u]\n",
    "v = [sol1.v; sol2.v]\n",
    "%S.a % MATLAB\n",
    "%S.u % MATLAB\n",
    "%S.v % MATLAB"
   ]
  },
  {
   "cell_type": "markdown",
   "metadata": {
    "hideCode": false,
    "hidePrompt": false,
    "slideshow": {
     "slide_type": "subslide"
    }
   },
   "source": [
    "## Linear systems\n",
    "\n",
    "Linear systems of equations can also be solved using matrix division, eg."
   ]
  },
  {
   "cell_type": "code",
   "execution_count": 5,
   "metadata": {
    "hideCode": false,
    "hidePrompt": false
   },
   "outputs": [
    {
     "name": "stdout",
     "output_type": "stream",
     "text": [
      "sol = (sym 2×1 matrix)\n",
      "\n",
      "  ⎡  5⋅u   2⋅v⎤\n",
      "  ⎢- ─── + ───⎥\n",
      "  ⎢   3     3 ⎥\n",
      "  ⎢           ⎥\n",
      "  ⎢  4⋅u   v  ⎥\n",
      "  ⎢  ─── - ─  ⎥\n",
      "  ⎣   3    3  ⎦\n",
      "\n",
      "z = (sym 2×1 matrix)\n",
      "\n",
      "  ⎡  5⋅u   2⋅v⎤\n",
      "  ⎢- ─── + ───⎥\n",
      "  ⎢   3     3 ⎥\n",
      "  ⎢           ⎥\n",
      "  ⎢  4⋅u   v  ⎥\n",
      "  ⎢  ─── - ─  ⎥\n",
      "  ⎣   3    3  ⎦\n",
      "\n"
     ]
    }
   ],
   "source": [
    "syms u v x y\n",
    "S = solve(x+2*y-u, 4*x+5*y-v, x, y);\n",
    "sol = [S.x;S.y]\n",
    "A = [1, 2; 4, 5];\n",
    "b = [u; v];\n",
    "z = A\\b"
   ]
  },
  {
   "cell_type": "markdown",
   "metadata": {
    "hideCode": false,
    "hidePrompt": false,
    "slideshow": {
     "slide_type": "subslide"
    }
   },
   "source": [
    "## Solving symbolic equations numerically\n",
    "\n",
    "Symbolic equations can also be solved numerically with the command `vpasolve`, eg."
   ]
  },
  {
   "cell_type": "code",
   "execution_count": 6,
   "metadata": {
    "hideCode": false,
    "hidePrompt": false
   },
   "outputs": [
    {
     "name": "stdout",
     "output_type": "stream",
     "text": [
      "ans = (sym 2×1 matrix)\n",
      "\n",
      "  ⎡1.7324062670465659633407456995303⎤\n",
      "  ⎢                                 ⎥\n",
      "  ⎣2.8297332667835974266598942031498⎦\n",
      "\n"
     ]
    }
   ],
   "source": [
    "syms x y\n",
    "eqns = [y*exp(x) == 16; x^5 == x + x*y^2];\n",
    "vpasolve(eqns, [x; y], [1; 1])"
   ]
  },
  {
   "cell_type": "markdown",
   "metadata": {
    "hideCode": false,
    "hidePrompt": false,
    "slideshow": {
     "slide_type": "slide"
    }
   },
   "source": [
    "Complex roots can be found but you must provide a complex initial guess:"
   ]
  },
  {
   "cell_type": "code",
   "execution_count": 7,
   "metadata": {
    "hideCode": false,
    "hidePrompt": false
   },
   "outputs": [
    {
     "name": "stdout",
     "output_type": "stream",
     "text": [
      "ans = (sym) 1.4142135623730950488016887242097⋅ⅈ\n"
     ]
    }
   ],
   "source": [
    "syms x\n",
    "vpasolve(x^2 + 2 == 0, x, 1i)"
   ]
  },
  {
   "cell_type": "markdown",
   "metadata": {
    "hideCode": false,
    "hidePrompt": false,
    "slideshow": {
     "slide_type": "slide"
    }
   },
   "source": [
    "# Calculus\n",
    "\n",
    "\n",
    "## Limits\n",
    "\n",
    "### Definition\n",
    "\n",
    "The fundamental idea of a limit is to make calculations on functions as a variable \"gets close to\" or approaches a certain value. Recall that the definition of the derivative is given by a limit\n",
    "$$\n",
    "f^\\prime = \\lim_{h\\rightarrow 0}\\frac{f(x+h)-f(x}{h}\n",
    "$$\n",
    "provided this limit exists. The command `limit` enables you to calculate the limits of functions directly, eg."
   ]
  },
  {
   "cell_type": "code",
   "execution_count": 8,
   "metadata": {
    "hideCode": false,
    "hidePrompt": false
   },
   "outputs": [
    {
     "name": "stdout",
     "output_type": "stream",
     "text": [
      "ans = (sym) -sin(x)\n"
     ]
    }
   ],
   "source": [
    "syms h x\n",
    "limit((cos(x+h)-cos(x))/h, h, 0)"
   ]
  },
  {
   "cell_type": "markdown",
   "metadata": {
    "hideCode": false,
    "hidePrompt": false
   },
   "source": [
    "Another example\n",
    "$$\n",
    "\\lim_{n\\rightarrow\\infty}\\left(1+\\frac{x}{n}\\right)^n=e^x\n",
    "$$\n"
   ]
  },
  {
   "cell_type": "code",
   "execution_count": 9,
   "metadata": {
    "hideCode": false,
    "hidePrompt": false,
    "scrolled": true
   },
   "outputs": [
    {
     "name": "stdout",
     "output_type": "stream",
     "text": [
      "ans = (sym)\n",
      "\n",
      "   x\n",
      "  ℯ \n",
      "\n"
     ]
    }
   ],
   "source": [
    "syms n x\n",
    "limit((1+x/n)^n, n, inf)"
   ]
  },
  {
   "cell_type": "markdown",
   "metadata": {
    "hideCode": false,
    "hidePrompt": false,
    "slideshow": {
     "slide_type": "subslide"
    }
   },
   "source": [
    "### One-sided limits\n",
    "\n",
    "You can also calculate one-sided limits, eg."
   ]
  },
  {
   "cell_type": "code",
   "execution_count": 10,
   "metadata": {
    "hideCode": false,
    "hidePrompt": false
   },
   "outputs": [
    {
     "name": "stdout",
     "output_type": "stream",
     "text": [
      "f = (sym)\n",
      "\n",
      "   x \n",
      "  ───\n",
      "  │x│\n",
      "\n",
      "ans = (sym) -1\n",
      "ans = (sym) 1\n"
     ]
    },
    {
     "data": {
      "image/svg+xml": [
       "<svg height=\"420px\" viewBox=\"0 0 560 420\" width=\"560px\" xmlns=\"http://www.w3.org/2000/svg\" xmlns:xlink=\"http://www.w3.org/1999/xlink\">\n",
       "\n",
       "<title>Gnuplot</title>\n",
       "<desc>Produced by GNUPLOT 5.0 patchlevel 6 </desc>\n",
       "\n",
       "<g id=\"gnuplot_canvas\">\n",
       "\n",
       "<rect fill=\"#ffffff\" height=\"420\" width=\"560\" x=\"0\" y=\"0\"/>\n",
       "<defs>\n",
       "\n",
       "\t<circle id=\"gpDot\" r=\"0.5\" stroke-width=\"0.5\"/>\n",
       "\t<path d=\"M-1,0 h2 M0,-1 v2\" id=\"gpPt0\" stroke=\"currentColor\" stroke-width=\"0.333\"/>\n",
       "\t<path d=\"M-1,-1 L1,1 M1,-1 L-1,1\" id=\"gpPt1\" stroke=\"currentColor\" stroke-width=\"0.333\"/>\n",
       "\t<path d=\"M-1,0 L1,0 M0,-1 L0,1 M-1,-1 L1,1 M-1,1 L1,-1\" id=\"gpPt2\" stroke=\"currentColor\" stroke-width=\"0.333\"/>\n",
       "\t<rect height=\"2\" id=\"gpPt3\" stroke=\"currentColor\" stroke-width=\"0.333\" width=\"2\" x=\"-1\" y=\"-1\"/>\n",
       "\t<rect fill=\"currentColor\" height=\"2\" id=\"gpPt4\" stroke=\"currentColor\" stroke-width=\"0.333\" width=\"2\" x=\"-1\" y=\"-1\"/>\n",
       "\t<circle cx=\"0\" cy=\"0\" id=\"gpPt5\" r=\"1\" stroke=\"currentColor\" stroke-width=\"0.333\"/>\n",
       "\t<use fill=\"currentColor\" id=\"gpPt6\" stroke=\"none\" xlink:href=\"#gpPt5\"/>\n",
       "\t<path d=\"M0,-1.33 L-1.33,0.67 L1.33,0.67 z\" id=\"gpPt7\" stroke=\"currentColor\" stroke-width=\"0.333\"/>\n",
       "\t<use fill=\"currentColor\" id=\"gpPt8\" stroke=\"none\" xlink:href=\"#gpPt7\"/>\n",
       "\t<use id=\"gpPt9\" stroke=\"currentColor\" transform=\"rotate(180)\" xlink:href=\"#gpPt7\"/>\n",
       "\t<use fill=\"currentColor\" id=\"gpPt10\" stroke=\"none\" xlink:href=\"#gpPt9\"/>\n",
       "\t<use id=\"gpPt11\" stroke=\"currentColor\" transform=\"rotate(45)\" xlink:href=\"#gpPt3\"/>\n",
       "\t<use fill=\"currentColor\" id=\"gpPt12\" stroke=\"none\" xlink:href=\"#gpPt11\"/>\n",
       "\t<path d=\"M0,1.330 L1.265,0.411 L0.782,-1.067 L-0.782,-1.076 L-1.265,0.411 z\" id=\"gpPt13\" stroke=\"currentColor\" stroke-width=\"0.333\"/>\n",
       "\t<use fill=\"currentColor\" id=\"gpPt14\" stroke=\"none\" xlink:href=\"#gpPt13\"/>\n",
       "\t<filter filterUnits=\"objectBoundingBox\" height=\"1\" id=\"textbox\" width=\"1\" x=\"0\" y=\"0\">\n",
       "\t  <feFlood flood-color=\"#FFFFFF\" flood-opacity=\"1\" result=\"bgnd\"/>\n",
       "\t  <feComposite in=\"SourceGraphic\" in2=\"bgnd\" operator=\"atop\"/>\n",
       "\t</filter>\n",
       "\t<filter filterUnits=\"objectBoundingBox\" height=\"1\" id=\"greybox\" width=\"1\" x=\"0\" y=\"0\">\n",
       "\t  <feFlood flood-color=\"lightgrey\" flood-opacity=\"1\" result=\"grey\"/>\n",
       "\t  <feComposite in=\"SourceGraphic\" in2=\"grey\" operator=\"atop\"/>\n",
       "\t</filter>\n",
       "</defs>\n",
       "<g color=\"#FFFFFF\" fill=\"none\" stroke=\"currentColor\" stroke-linecap=\"butt\" stroke-linejoin=\"miter\" stroke-width=\"1.00\">\n",
       "</g>\n",
       "<g color=\"black\" fill=\"none\" stroke=\"currentColor\" stroke-linecap=\"butt\" stroke-linejoin=\"miter\" stroke-width=\"1.00\">\n",
       "\t<g shape-rendering=\"crispEdges\" stroke=\"none\">\n",
       "\t\t<polygon fill=\"rgb(255, 255, 255)\" points=\"36.4,381.6 543.0,381.6 543.0,40.7 36.4,40.7 \"/>\n",
       "\t</g>\n",
       "</g>\n",
       "<g color=\"black\" fill=\"none\" stroke=\"currentColor\" stroke-linecap=\"butt\" stroke-linejoin=\"miter\" stroke-width=\"1.00\">\n",
       "\t<path d=\"M36.4,347.5 L44.8,347.5 M543.1,347.5 L534.7,347.5  \" stroke=\"rgb(  0,   0,   0)\"/>\t<g fill=\"rgb(38,38,38)\" font-family=\"Arial\" font-size=\"10.00\" stroke=\"none\" text-anchor=\"end\" transform=\"translate(30.8,350.8)\">\n",
       "\t\t<text><tspan font-family=\"Arial\">-1</tspan></text>\n",
       "\t</g>\n",
       "</g>\n",
       "<g color=\"black\" fill=\"none\" stroke=\"currentColor\" stroke-linecap=\"butt\" stroke-linejoin=\"miter\" stroke-width=\"1.00\">\n",
       "\t<path d=\"M36.4,279.3 L44.8,279.3 M543.1,279.3 L534.7,279.3  \" stroke=\"rgb(  0,   0,   0)\"/>\t<g fill=\"rgb(38,38,38)\" font-family=\"Arial\" font-size=\"10.00\" stroke=\"none\" text-anchor=\"end\" transform=\"translate(30.8,282.6)\">\n",
       "\t\t<text><tspan font-family=\"Arial\">-0.5</tspan></text>\n",
       "\t</g>\n",
       "</g>\n",
       "<g color=\"black\" fill=\"none\" stroke=\"currentColor\" stroke-linecap=\"butt\" stroke-linejoin=\"miter\" stroke-width=\"1.00\">\n",
       "\t<path d=\"M36.4,211.1 L44.8,211.1 M543.1,211.1 L534.7,211.1  \" stroke=\"rgb(  0,   0,   0)\"/>\t<g fill=\"rgb(38,38,38)\" font-family=\"Arial\" font-size=\"10.00\" stroke=\"none\" text-anchor=\"end\" transform=\"translate(30.8,214.4)\">\n",
       "\t\t<text><tspan font-family=\"Arial\">0</tspan></text>\n",
       "\t</g>\n",
       "</g>\n",
       "<g color=\"black\" fill=\"none\" stroke=\"currentColor\" stroke-linecap=\"butt\" stroke-linejoin=\"miter\" stroke-width=\"1.00\">\n",
       "\t<path d=\"M36.4,142.9 L44.8,142.9 M543.1,142.9 L534.7,142.9  \" stroke=\"rgb(  0,   0,   0)\"/>\t<g fill=\"rgb(38,38,38)\" font-family=\"Arial\" font-size=\"10.00\" stroke=\"none\" text-anchor=\"end\" transform=\"translate(30.8,146.2)\">\n",
       "\t\t<text><tspan font-family=\"Arial\">0.5</tspan></text>\n",
       "\t</g>\n",
       "</g>\n",
       "<g color=\"black\" fill=\"none\" stroke=\"currentColor\" stroke-linecap=\"butt\" stroke-linejoin=\"miter\" stroke-width=\"1.00\">\n",
       "\t<path d=\"M36.4,74.7 L44.8,74.7 M543.1,74.7 L534.7,74.7  \" stroke=\"rgb(  0,   0,   0)\"/>\t<g fill=\"rgb(38,38,38)\" font-family=\"Arial\" font-size=\"10.00\" stroke=\"none\" text-anchor=\"end\" transform=\"translate(30.8,78.0)\">\n",
       "\t\t<text><tspan font-family=\"Arial\">1</tspan></text>\n",
       "\t</g>\n",
       "</g>\n",
       "<g color=\"black\" fill=\"none\" stroke=\"currentColor\" stroke-linecap=\"butt\" stroke-linejoin=\"miter\" stroke-width=\"1.00\">\n",
       "\t<path d=\"M36.4,381.6 L36.4,373.2 M36.4,40.6 L36.4,49.0  \" stroke=\"rgb(  0,   0,   0)\"/>\t<g fill=\"rgb(38,38,38)\" font-family=\"Arial\" font-size=\"10.00\" stroke=\"none\" text-anchor=\"middle\" transform=\"translate(36.4,396.9)\">\n",
       "\t\t<text><tspan font-family=\"Arial\">-1</tspan></text>\n",
       "\t</g>\n",
       "</g>\n",
       "<g color=\"black\" fill=\"none\" stroke=\"currentColor\" stroke-linecap=\"butt\" stroke-linejoin=\"miter\" stroke-width=\"1.00\">\n",
       "\t<path d=\"M163.1,381.6 L163.1,373.2 M163.1,40.6 L163.1,49.0  \" stroke=\"rgb(  0,   0,   0)\"/>\t<g fill=\"rgb(38,38,38)\" font-family=\"Arial\" font-size=\"10.00\" stroke=\"none\" text-anchor=\"middle\" transform=\"translate(163.1,396.9)\">\n",
       "\t\t<text><tspan font-family=\"Arial\">-0.5</tspan></text>\n",
       "\t</g>\n",
       "</g>\n",
       "<g color=\"black\" fill=\"none\" stroke=\"currentColor\" stroke-linecap=\"butt\" stroke-linejoin=\"miter\" stroke-width=\"1.00\">\n",
       "\t<path d=\"M289.8,381.6 L289.8,373.2 M289.8,40.6 L289.8,49.0  \" stroke=\"rgb(  0,   0,   0)\"/>\t<g fill=\"rgb(38,38,38)\" font-family=\"Arial\" font-size=\"10.00\" stroke=\"none\" text-anchor=\"middle\" transform=\"translate(289.8,396.9)\">\n",
       "\t\t<text><tspan font-family=\"Arial\">0</tspan></text>\n",
       "\t</g>\n",
       "</g>\n",
       "<g color=\"black\" fill=\"none\" stroke=\"currentColor\" stroke-linecap=\"butt\" stroke-linejoin=\"miter\" stroke-width=\"1.00\">\n",
       "\t<path d=\"M416.4,381.6 L416.4,373.2 M416.4,40.6 L416.4,49.0  \" stroke=\"rgb(  0,   0,   0)\"/>\t<g fill=\"rgb(38,38,38)\" font-family=\"Arial\" font-size=\"10.00\" stroke=\"none\" text-anchor=\"middle\" transform=\"translate(416.4,396.9)\">\n",
       "\t\t<text><tspan font-family=\"Arial\">0.5</tspan></text>\n",
       "\t</g>\n",
       "</g>\n",
       "<g color=\"black\" fill=\"none\" stroke=\"currentColor\" stroke-linecap=\"butt\" stroke-linejoin=\"miter\" stroke-width=\"1.00\">\n",
       "\t<path d=\"M543.1,381.6 L543.1,373.2 M543.1,40.6 L543.1,49.0  \" stroke=\"rgb(  0,   0,   0)\"/>\t<g fill=\"rgb(38,38,38)\" font-family=\"Arial\" font-size=\"10.00\" stroke=\"none\" text-anchor=\"middle\" transform=\"translate(543.1,396.9)\">\n",
       "\t\t<text><tspan font-family=\"Arial\">1</tspan></text>\n",
       "\t</g>\n",
       "</g>\n",
       "<g color=\"black\" fill=\"none\" stroke=\"currentColor\" stroke-linecap=\"butt\" stroke-linejoin=\"miter\" stroke-width=\"1.00\">\n",
       "</g>\n",
       "<g color=\"black\" fill=\"none\" stroke=\"currentColor\" stroke-linecap=\"butt\" stroke-linejoin=\"miter\" stroke-width=\"1.00\">\n",
       "\t<g fill=\"rgb(38,38,38)\" font-family=\"Arial\" font-size=\"11.00\" stroke=\"none\" text-anchor=\"middle\" transform=\"translate(289.7,415.2)\">\n",
       "\t\t<text><tspan font-family=\"Arial\">x</tspan></text>\n",
       "\t</g>\n",
       "</g>\n",
       "<g color=\"black\" fill=\"none\" stroke=\"currentColor\" stroke-linecap=\"butt\" stroke-linejoin=\"miter\" stroke-width=\"1.00\">\n",
       "\t<g fill=\"rgb(0,0,0)\" font-family=\":Bold\" font-size=\"11.00\" stroke=\"none\" text-anchor=\"middle\" transform=\"translate(289.7,21.7)\">\n",
       "\t\t<text><tspan font-family=\"\" font-weight=\"bold\">x / abs (x)</tspan></text>\n",
       "\t</g>\n",
       "</g>\n",
       "<g color=\"black\" fill=\"none\" stroke=\"currentColor\" stroke-linecap=\"butt\" stroke-linejoin=\"miter\" stroke-width=\"1.00\">\n",
       "</g>\n",
       "\t<g id=\"gnuplot_plot_1a\"><title>gnuplot_plot_1a</title>\n",
       "<g color=\"#FFFFFF\" fill=\"none\" stroke=\"currentColor\" stroke-linecap=\"butt\" stroke-linejoin=\"miter\" stroke-width=\"0.50\">\n",
       "</g>\n",
       "<g color=\"black\" fill=\"none\" stroke=\"currentColor\" stroke-linecap=\"butt\" stroke-linejoin=\"miter\" stroke-width=\"0.50\">\n",
       "\t<path d=\"M36.4,347.5 L37.4,347.5 L38.4,347.5 L39.4,347.5 L40.5,347.5 L41.5,347.5 L42.5,347.5 L43.5,347.5   L44.5,347.5 L45.5,347.5 L46.6,347.5 L47.6,347.5 L48.6,347.5 L49.6,347.5 L50.6,347.5 L51.6,347.5   L52.6,347.5 L53.7,347.5 L54.7,347.5 L55.7,347.5 L56.7,347.5 L57.7,347.5 L58.7,347.5 L59.8,347.5   L60.8,347.5 L61.8,347.5 L62.8,347.5 L63.8,347.5 L64.8,347.5 L65.8,347.5 L66.9,347.5 L67.9,347.5   L68.9,347.5 L69.9,347.5 L70.9,347.5 L71.9,347.5 L73.0,347.5 L74.0,347.5 L75.0,347.5 L76.0,347.5   L77.0,347.5 L78.0,347.5 L79.0,347.5 L80.1,347.5 L81.1,347.5 L82.1,347.5 L83.1,347.5 L84.1,347.5   L85.1,347.5 L86.2,347.5 L87.2,347.5 L88.2,347.5 L89.2,347.5 L90.2,347.5 L91.2,347.5 L92.2,347.5   L93.3,347.5 L94.3,347.5 L95.3,347.5 L96.3,347.5 L97.3,347.5 L98.3,347.5 L99.4,347.5 L100.4,347.5   L101.4,347.5 L102.4,347.5 L103.4,347.5 L104.4,347.5 L105.4,347.5 L106.5,347.5 L107.5,347.5 L108.5,347.5   L109.5,347.5 L110.5,347.5 L111.5,347.5 L112.6,347.5 L113.6,347.5 L114.6,347.5 L115.6,347.5 L116.6,347.5   L117.6,347.5 L118.6,347.5 L119.7,347.5 L120.7,347.5 L121.7,347.5 L122.7,347.5 L123.7,347.5 L124.7,347.5   L125.8,347.5 L126.8,347.5 L127.8,347.5 L128.8,347.5 L129.8,347.5 L130.8,347.5 L131.9,347.5 L132.9,347.5   L133.9,347.5 L134.9,347.5 L135.9,347.5 L136.9,347.5 L137.9,347.5 L139.0,347.5 L140.0,347.5 L141.0,347.5   L142.0,347.5 L143.0,347.5 L144.0,347.5 L145.1,347.5 L146.1,347.5 L147.1,347.5 L148.1,347.5 L149.1,347.5   L150.1,347.5 L151.1,347.5 L152.2,347.5 L153.2,347.5 L154.2,347.5 L155.2,347.5 L156.2,347.5 L157.2,347.5   L158.3,347.5 L159.3,347.5 L160.3,347.5 L161.3,347.5 L162.3,347.5 L163.3,347.5 L164.3,347.5 L165.4,347.5   L166.4,347.5 L167.4,347.5 L168.4,347.5 L169.4,347.5 L170.4,347.5 L171.5,347.5 L172.5,347.5 L173.5,347.5   L174.5,347.5 L175.5,347.5 L176.5,347.5 L177.5,347.5 L178.6,347.5 L179.6,347.5 L180.6,347.5 L181.6,347.5   L182.6,347.5 L183.6,347.5 L184.7,347.5 L185.7,347.5 L186.7,347.5 L187.7,347.5 L188.7,347.5 L189.7,347.5   L190.7,347.5 L191.8,347.5 L192.8,347.5 L193.8,347.5 L194.8,347.5 L195.8,347.5 L196.8,347.5 L197.9,347.5   L198.9,347.5 L199.9,347.5 L200.9,347.5 L201.9,347.5 L202.9,347.5 L203.9,347.5 L205.0,347.5 L206.0,347.5   L207.0,347.5 L208.0,347.5 L209.0,347.5 L210.0,347.5 L211.1,347.5 L212.1,347.5 L213.1,347.5 L214.1,347.5   L215.1,347.5 L216.1,347.5 L217.1,347.5 L218.2,347.5 L219.2,347.5 L220.2,347.5 L221.2,347.5 L222.2,347.5   L223.2,347.5 L224.3,347.5 L225.3,347.5 L226.3,347.5 L227.3,347.5 L228.3,347.5 L229.3,347.5 L230.3,347.5   L231.4,347.5 L232.4,347.5 L233.4,347.5 L234.4,347.5 L235.4,347.5 L236.4,347.5 L237.5,347.5 L238.5,347.5   L239.5,347.5 L240.5,347.5 L241.5,347.5 L242.5,347.5 L243.5,347.5 L244.6,347.5 L245.6,347.5 L246.6,347.5   L247.6,347.5 L248.6,347.5 L249.6,347.5 L250.7,347.5 L251.7,347.5 L252.7,347.5 L253.7,347.5 L254.7,347.5   L255.7,347.5 L256.7,347.5 L257.8,347.5 L258.8,347.5 L259.8,347.5 L260.8,347.5 L261.8,347.5 L262.8,347.5   L263.9,347.5 L264.9,347.5 L265.9,347.5 L266.9,347.5 L267.9,347.5 L268.9,347.5 L269.9,347.5 L271.0,347.5   L272.0,347.5 L273.0,347.5 L274.0,347.5 L275.0,347.5 L276.0,347.5 L277.1,347.5 L278.1,347.5 L279.1,347.5   L280.1,347.5 L281.1,347.5 L282.1,347.5 L283.1,347.5 L284.2,347.5 L285.2,347.5 L286.2,347.5 L287.2,347.5   L288.2,347.5 M291.3,74.7 L292.3,74.7 L293.3,74.7 L294.3,74.7 L295.3,74.7 L296.4,74.7 L297.4,74.7   L298.4,74.7 L299.4,74.7 L300.4,74.7 L301.4,74.7 L302.4,74.7 L303.5,74.7 L304.5,74.7 L305.5,74.7   L306.5,74.7 L307.5,74.7 L308.5,74.7 L309.6,74.7 L310.6,74.7 L311.6,74.7 L312.6,74.7 L313.6,74.7   L314.6,74.7 L315.6,74.7 L316.7,74.7 L317.7,74.7 L318.7,74.7 L319.7,74.7 L320.7,74.7 L321.7,74.7   L322.8,74.7 L323.8,74.7 L324.8,74.7 L325.8,74.7 L326.8,74.7 L327.8,74.7 L328.8,74.7 L329.9,74.7   L330.9,74.7 L331.9,74.7 L332.9,74.7 L333.9,74.7 L334.9,74.7 L336.0,74.7 L337.0,74.7 L338.0,74.7   L339.0,74.7 L340.0,74.7 L341.0,74.7 L342.0,74.7 L343.1,74.7 L344.1,74.7 L345.1,74.7 L346.1,74.7   L347.1,74.7 L348.1,74.7 L349.2,74.7 L350.2,74.7 L351.2,74.7 L352.2,74.7 L353.2,74.7 L354.2,74.7   L355.2,74.7 L356.3,74.7 L357.3,74.7 L358.3,74.7 L359.3,74.7 L360.3,74.7 L361.3,74.7 L362.4,74.7   L363.4,74.7 L364.4,74.7 L365.4,74.7 L366.4,74.7 L367.4,74.7 L368.4,74.7 L369.5,74.7 L370.5,74.7   L371.5,74.7 L372.5,74.7 L373.5,74.7 L374.5,74.7 L375.6,74.7 L376.6,74.7 L377.6,74.7 L378.6,74.7   L379.6,74.7 L380.6,74.7 L381.6,74.7 L382.7,74.7 L383.7,74.7 L384.7,74.7 L385.7,74.7 L386.7,74.7   L387.7,74.7 L388.8,74.7 L389.8,74.7 L390.8,74.7 L391.8,74.7 L392.8,74.7 L393.8,74.7 L394.8,74.7   L395.9,74.7 L396.9,74.7 L397.9,74.7 L398.9,74.7 L399.9,74.7 L400.9,74.7 L402.0,74.7 L403.0,74.7   L404.0,74.7 L405.0,74.7 L406.0,74.7 L407.0,74.7 L408.0,74.7 L409.1,74.7 L410.1,74.7 L411.1,74.7   L412.1,74.7 L413.1,74.7 L414.1,74.7 L415.2,74.7 L416.2,74.7 L417.2,74.7 L418.2,74.7 L419.2,74.7   L420.2,74.7 L421.2,74.7 L422.3,74.7 L423.3,74.7 L424.3,74.7 L425.3,74.7 L426.3,74.7 L427.3,74.7   L428.4,74.7 L429.4,74.7 L430.4,74.7 L431.4,74.7 L432.4,74.7 L433.4,74.7 L434.4,74.7 L435.5,74.7   L436.5,74.7 L437.5,74.7 L438.5,74.7 L439.5,74.7 L440.5,74.7 L441.6,74.7 L442.6,74.7 L443.6,74.7   L444.6,74.7 L445.6,74.7 L446.6,74.7 L447.6,74.7 L448.7,74.7 L449.7,74.7 L450.7,74.7 L451.7,74.7   L452.7,74.7 L453.7,74.7 L454.8,74.7 L455.8,74.7 L456.8,74.7 L457.8,74.7 L458.8,74.7 L459.8,74.7   L460.9,74.7 L461.9,74.7 L462.9,74.7 L463.9,74.7 L464.9,74.7 L465.9,74.7 L466.9,74.7 L468.0,74.7   L469.0,74.7 L470.0,74.7 L471.0,74.7 L472.0,74.7 L473.0,74.7 L474.1,74.7 L475.1,74.7 L476.1,74.7   L477.1,74.7 L478.1,74.7 L479.1,74.7 L480.1,74.7 L481.2,74.7 L482.2,74.7 L483.2,74.7 L484.2,74.7   L485.2,74.7 L486.2,74.7 L487.3,74.7 L488.3,74.7 L489.3,74.7 L490.3,74.7 L491.3,74.7 L492.3,74.7   L493.3,74.7 L494.4,74.7 L495.4,74.7 L496.4,74.7 L497.4,74.7 L498.4,74.7 L499.4,74.7 L500.5,74.7   L501.5,74.7 L502.5,74.7 L503.5,74.7 L504.5,74.7 L505.5,74.7 L506.5,74.7 L507.6,74.7 L508.6,74.7   L509.6,74.7 L510.6,74.7 L511.6,74.7 L512.6,74.7 L513.7,74.7 L514.7,74.7 L515.7,74.7 L516.7,74.7   L517.7,74.7 L518.7,74.7 L519.7,74.7 L520.8,74.7 L521.8,74.7 L522.8,74.7 L523.8,74.7 L524.8,74.7   L525.8,74.7 L526.9,74.7 L527.9,74.7 L528.9,74.7 L529.9,74.7 L530.9,74.7 L531.9,74.7 L532.9,74.7   L534.0,74.7 L535.0,74.7 L536.0,74.7 L537.0,74.7 L538.0,74.7 L539.0,74.7 L540.1,74.7 L541.1,74.7   L542.1,74.7 L543.1,74.7  \" stroke=\"rgb(  0, 114, 189)\"/></g>\n",
       "\t</g>\n",
       "<g color=\"#FFFFFF\" fill=\"none\" stroke=\"rgb(  0, 114, 189)\" stroke-linecap=\"butt\" stroke-linejoin=\"miter\" stroke-width=\"2.00\">\n",
       "</g>\n",
       "<g color=\"black\" fill=\"none\" stroke=\"currentColor\" stroke-linecap=\"butt\" stroke-linejoin=\"miter\" stroke-width=\"2.00\">\n",
       "</g>\n",
       "<g color=\"black\" fill=\"none\" stroke=\"black\" stroke-linecap=\"butt\" stroke-linejoin=\"miter\" stroke-width=\"0.50\">\n",
       "</g>\n",
       "<g color=\"black\" fill=\"none\" stroke=\"currentColor\" stroke-linecap=\"butt\" stroke-linejoin=\"miter\" stroke-width=\"0.50\">\n",
       "\t<path d=\"M36.4,381.6 L543.1,381.6  \" stroke=\"rgb( 38,  38,  38)\"/></g>\n",
       "<g color=\"black\" fill=\"none\" stroke=\"currentColor\" stroke-linecap=\"butt\" stroke-linejoin=\"miter\" stroke-width=\"0.50\">\n",
       "\t<path d=\"M36.4,40.6 L543.1,40.6  \" stroke=\"rgb( 38,  38,  38)\"/></g>\n",
       "<g color=\"black\" fill=\"none\" stroke=\"currentColor\" stroke-linecap=\"butt\" stroke-linejoin=\"miter\" stroke-width=\"0.50\">\n",
       "\t<path d=\"M36.4,381.6 L36.4,40.6  \" stroke=\"rgb( 38,  38,  38)\"/></g>\n",
       "<g color=\"black\" fill=\"none\" stroke=\"currentColor\" stroke-linecap=\"butt\" stroke-linejoin=\"miter\" stroke-width=\"0.50\">\n",
       "\t<path d=\"M543.1,381.6 L543.1,40.6  \" stroke=\"rgb( 38,  38,  38)\"/></g>\n",
       "<g color=\"black\" fill=\"none\" stroke=\"rgb( 38,  38,  38)\" stroke-linecap=\"butt\" stroke-linejoin=\"miter\" stroke-width=\"1.00\">\n",
       "</g>\n",
       "<g color=\"black\" fill=\"none\" stroke=\"currentColor\" stroke-linecap=\"butt\" stroke-linejoin=\"miter\" stroke-width=\"1.00\">\n",
       "</g>\n",
       "</g>\n",
       "</svg>"
      ],
      "text/plain": [
       "<IPython.core.display.SVG object>"
      ]
     },
     "metadata": {},
     "output_type": "display_data"
    }
   ],
   "source": [
    "%plot --format svg\n",
    "syms x\n",
    "f = x/abs(x)\n",
    "ezplot(f, [-1, 1])\n",
    "limit(f,x,0,'left')\n",
    "limit(f,x,0,'right')"
   ]
  },
  {
   "cell_type": "markdown",
   "metadata": {
    "hideCode": false,
    "hidePrompt": false,
    "slideshow": {
     "slide_type": "subslide"
    }
   },
   "source": [
    "## Differentiation\n",
    "\n",
    "### Derivatives of symbolic functions\n",
    "\n",
    "To illustrate how to take derivatives, first create a symbolic expression:"
   ]
  },
  {
   "cell_type": "code",
   "execution_count": 11,
   "metadata": {
    "hideCode": false,
    "hidePrompt": false
   },
   "outputs": [
    {
     "name": "stdout",
     "output_type": "stream",
     "text": [
      "f = (sym) sin(5⋅x)\n"
     ]
    }
   ],
   "source": [
    "syms x\n",
    "f = sin(5*x)"
   ]
  },
  {
   "cell_type": "markdown",
   "metadata": {
    "hideCode": false,
    "hidePrompt": false
   },
   "source": [
    "The command"
   ]
  },
  {
   "cell_type": "code",
   "execution_count": 12,
   "metadata": {
    "hideCode": false,
    "hidePrompt": false
   },
   "outputs": [
    {
     "name": "stdout",
     "output_type": "stream",
     "text": [
      "ans = (sym) 5⋅cos(5⋅x)\n"
     ]
    }
   ],
   "source": [
    "diff(f)"
   ]
  },
  {
   "cell_type": "markdown",
   "metadata": {
    "hideCode": false,
    "hidePrompt": false
   },
   "source": [
    "differentiates `f` with respect to `x`."
   ]
  },
  {
   "cell_type": "markdown",
   "metadata": {
    "hideCode": false,
    "hidePrompt": false,
    "slideshow": {
     "slide_type": "subslide"
    }
   },
   "source": [
    "Let"
   ]
  },
  {
   "cell_type": "code",
   "execution_count": 13,
   "metadata": {
    "hideCode": false,
    "hidePrompt": false
   },
   "outputs": [
    {
     "name": "stdout",
     "output_type": "stream",
     "text": [
      "g = (sym)\n",
      "\n",
      "   x       \n",
      "  ℯ ⋅cos(x)\n",
      "\n"
     ]
    }
   ],
   "source": [
    "g = exp(x)*cos(x)"
   ]
  },
  {
   "cell_type": "markdown",
   "metadata": {
    "hideCode": false,
    "hidePrompt": false
   },
   "source": [
    "and differentiate `g`:"
   ]
  },
  {
   "cell_type": "code",
   "execution_count": 14,
   "metadata": {
    "hideCode": false,
    "hidePrompt": false
   },
   "outputs": [
    {
     "name": "stdout",
     "output_type": "stream",
     "text": [
      "ans = (sym)\n",
      "\n",
      "     x           x       \n",
      "  - ℯ ⋅sin(x) + ℯ ⋅cos(x)\n",
      "\n"
     ]
    }
   ],
   "source": [
    "diff(g)"
   ]
  },
  {
   "cell_type": "markdown",
   "metadata": {
    "hideCode": false,
    "hidePrompt": false
   },
   "source": [
    "To take the second derivative of `g`, enter"
   ]
  },
  {
   "cell_type": "code",
   "execution_count": 15,
   "metadata": {
    "hideCode": false,
    "hidePrompt": false
   },
   "outputs": [
    {
     "name": "stdout",
     "output_type": "stream",
     "text": [
      "ans = (sym)\n",
      "\n",
      "      x       \n",
      "  -2⋅ℯ ⋅sin(x)\n",
      "\n"
     ]
    }
   ],
   "source": [
    "diff(g, 2)"
   ]
  },
  {
   "cell_type": "markdown",
   "metadata": {
    "hideCode": false,
    "hidePrompt": false
   },
   "source": [
    "You can get the same result by taking the derivative twice:"
   ]
  },
  {
   "cell_type": "code",
   "execution_count": 16,
   "metadata": {
    "hideCode": false,
    "hidePrompt": false
   },
   "outputs": [
    {
     "name": "stdout",
     "output_type": "stream",
     "text": [
      "ans = (sym)\n",
      "\n",
      "      x       \n",
      "  -2⋅ℯ ⋅sin(x)\n",
      "\n"
     ]
    }
   ],
   "source": [
    "diff(diff(g))"
   ]
  },
  {
   "cell_type": "markdown",
   "metadata": {
    "hideCode": false,
    "hidePrompt": false,
    "slideshow": {
     "slide_type": "subslide"
    }
   },
   "source": [
    "### Derivatives of functions with several variables\n",
    "\n",
    "To differentiate a function that contains more than one symbolic variable, you must specify with respect to which variable you want to differentiate. the `diff` command then calculates the partial derivative of the expression with respect to that variable, eg. the commands"
   ]
  },
  {
   "cell_type": "code",
   "execution_count": 17,
   "metadata": {
    "hideCode": false,
    "hidePrompt": false
   },
   "outputs": [
    {
     "name": "stdout",
     "output_type": "stream",
     "text": [
      "f = (sym) sin(s⋅t)\n",
      "ans = (sym) s⋅cos(s⋅t)\n"
     ]
    }
   ],
   "source": [
    "syms s t\n",
    "f = sin(s*t)\n",
    "diff(f, t)"
   ]
  },
  {
   "cell_type": "markdown",
   "metadata": {
    "hideCode": false,
    "hidePrompt": false
   },
   "source": [
    "calculate the partial derivative of the function $f:\\mathbb R^2\\rightarrow \\mathbb R:(s,t)\\mapsto \\sin(st)$, i.e. \n",
    "$$\n",
    "\\frac{\\partial f}{\\partial t}:\\mathbb R^2\\rightarrow \\mathbb R:(s,t)\\mapsto s\\cos(st)\n",
    "$$\n",
    "\n",
    "To differentiate with respect to the variable `s`, enter"
   ]
  },
  {
   "cell_type": "code",
   "execution_count": 18,
   "metadata": {
    "hideCode": false,
    "hidePrompt": false
   },
   "outputs": [
    {
     "name": "stdout",
     "output_type": "stream",
     "text": [
      "ans = (sym) t⋅cos(s⋅t)\n"
     ]
    }
   ],
   "source": [
    "diff(f, s)"
   ]
  },
  {
   "cell_type": "markdown",
   "metadata": {
    "hideCode": false,
    "hidePrompt": false
   },
   "source": [
    "If you do not specify a variable, MATLAB chooses a default variable by the same rule as described in the previous lecture (`subs` command)."
   ]
  },
  {
   "cell_type": "markdown",
   "metadata": {
    "hideCode": false,
    "hidePrompt": false,
    "slideshow": {
     "slide_type": "subslide"
    }
   },
   "source": [
    "Some more examples:"
   ]
  },
  {
   "cell_type": "code",
   "execution_count": 19,
   "metadata": {
    "hideCode": false,
    "hidePrompt": false
   },
   "outputs": [
    {
     "name": "stdout",
     "output_type": "stream",
     "text": [
      "df = (sym)\n",
      "\n",
      "     n\n",
      "  n⋅x \n",
      "  ────\n",
      "   x  \n",
      "\n",
      "ans = (sym)\n",
      "\n",
      "     n - 1\n",
      "  n⋅x     \n",
      "\n",
      "dg = (sym) a⋅cos(a⋅t + b)\n",
      "dh = (sym)\n",
      "\n",
      "     ⅈ⋅θ\n",
      "  ⅈ⋅ℯ   \n",
      "\n"
     ]
    }
   ],
   "source": [
    "syms a b x n t theta\n",
    "f = x^n;\n",
    "df = diff(f)\n",
    "simplify(df)\n",
    "g = sin(a*t+b);\n",
    "dg = diff(g)\n",
    "h = exp(1i*theta);\n",
    "dh = diff(h)"
   ]
  },
  {
   "cell_type": "markdown",
   "metadata": {
    "hideCode": false,
    "hidePrompt": false
   },
   "source": [
    "### Gradient\n",
    "\n",
    "The command `gradient(f,v)` finds the gradient vector of the scalar function `f` with respect to vector `v` in Cartesian coordinates:\n",
    "$$\\nabla f=\\begin{bmatrix}\n",
    "\\frac{\\partial f}{\\partial x}\\\\\n",
    "\\frac{\\partial f}{\\partial y}\\\\\n",
    "\\frac{\\partial f}{\\partial z}\n",
    "\\end{bmatrix}$$"
   ]
  },
  {
   "cell_type": "code",
   "execution_count": 20,
   "metadata": {
    "hideCode": false,
    "hidePrompt": false
   },
   "outputs": [
    {
     "name": "stdout",
     "output_type": "stream",
     "text": [
      "gradf = (sym 2×1 matrix)\n",
      "\n",
      "  ⎡2⋅x⎤\n",
      "  ⎢   ⎥\n",
      "  ⎣2⋅y⎦\n",
      "\n"
     ]
    }
   ],
   "source": [
    "syms x y\n",
    "f = x^2 + y^2;\n",
    "gradf = gradient(f)"
   ]
  },
  {
   "cell_type": "markdown",
   "metadata": {
    "hideCode": false,
    "hidePrompt": false,
    "slideshow": {
     "slide_type": "subslide"
    }
   },
   "source": [
    "The gradient points in the direction of maximal increase:"
   ]
  },
  {
   "cell_type": "code",
   "execution_count": 21,
   "metadata": {
    "hideCode": false,
    "hidePrompt": false
   },
   "outputs": [
    {
     "name": "stdout",
     "output_type": "stream",
     "text": [
      "ff =\n",
      "\n",
      "@(x, y) x .^ 2 + y .^ 2\n",
      "\n"
     ]
    },
    {
     "data": {
      "image/svg+xml": [
       "<svg height=\"420px\" viewBox=\"0 0 560 420\" width=\"560px\" xmlns=\"http://www.w3.org/2000/svg\" xmlns:xlink=\"http://www.w3.org/1999/xlink\">\n",
       "\n",
       "<title>Gnuplot</title>\n",
       "<desc>Produced by GNUPLOT 5.0 patchlevel 6 </desc>\n",
       "\n",
       "<g id=\"gnuplot_canvas\">\n",
       "\n",
       "<rect fill=\"#ffffff\" height=\"420\" width=\"560\" x=\"0\" y=\"0\"/>\n",
       "<defs>\n",
       "\n",
       "\t<circle id=\"gpDot\" r=\"0.5\" stroke-width=\"0.5\"/>\n",
       "\t<path d=\"M-1,0 h2 M0,-1 v2\" id=\"gpPt0\" stroke=\"currentColor\" stroke-width=\"0.333\"/>\n",
       "\t<path d=\"M-1,-1 L1,1 M1,-1 L-1,1\" id=\"gpPt1\" stroke=\"currentColor\" stroke-width=\"0.333\"/>\n",
       "\t<path d=\"M-1,0 L1,0 M0,-1 L0,1 M-1,-1 L1,1 M-1,1 L1,-1\" id=\"gpPt2\" stroke=\"currentColor\" stroke-width=\"0.333\"/>\n",
       "\t<rect height=\"2\" id=\"gpPt3\" stroke=\"currentColor\" stroke-width=\"0.333\" width=\"2\" x=\"-1\" y=\"-1\"/>\n",
       "\t<rect fill=\"currentColor\" height=\"2\" id=\"gpPt4\" stroke=\"currentColor\" stroke-width=\"0.333\" width=\"2\" x=\"-1\" y=\"-1\"/>\n",
       "\t<circle cx=\"0\" cy=\"0\" id=\"gpPt5\" r=\"1\" stroke=\"currentColor\" stroke-width=\"0.333\"/>\n",
       "\t<use fill=\"currentColor\" id=\"gpPt6\" stroke=\"none\" xlink:href=\"#gpPt5\"/>\n",
       "\t<path d=\"M0,-1.33 L-1.33,0.67 L1.33,0.67 z\" id=\"gpPt7\" stroke=\"currentColor\" stroke-width=\"0.333\"/>\n",
       "\t<use fill=\"currentColor\" id=\"gpPt8\" stroke=\"none\" xlink:href=\"#gpPt7\"/>\n",
       "\t<use id=\"gpPt9\" stroke=\"currentColor\" transform=\"rotate(180)\" xlink:href=\"#gpPt7\"/>\n",
       "\t<use fill=\"currentColor\" id=\"gpPt10\" stroke=\"none\" xlink:href=\"#gpPt9\"/>\n",
       "\t<use id=\"gpPt11\" stroke=\"currentColor\" transform=\"rotate(45)\" xlink:href=\"#gpPt3\"/>\n",
       "\t<use fill=\"currentColor\" id=\"gpPt12\" stroke=\"none\" xlink:href=\"#gpPt11\"/>\n",
       "\t<path d=\"M0,1.330 L1.265,0.411 L0.782,-1.067 L-0.782,-1.076 L-1.265,0.411 z\" id=\"gpPt13\" stroke=\"currentColor\" stroke-width=\"0.333\"/>\n",
       "\t<use fill=\"currentColor\" id=\"gpPt14\" stroke=\"none\" xlink:href=\"#gpPt13\"/>\n",
       "\t<filter filterUnits=\"objectBoundingBox\" height=\"1\" id=\"textbox\" width=\"1\" x=\"0\" y=\"0\">\n",
       "\t  <feFlood flood-color=\"#FFFFFF\" flood-opacity=\"1\" result=\"bgnd\"/>\n",
       "\t  <feComposite in=\"SourceGraphic\" in2=\"bgnd\" operator=\"atop\"/>\n",
       "\t</filter>\n",
       "\t<filter filterUnits=\"objectBoundingBox\" height=\"1\" id=\"greybox\" width=\"1\" x=\"0\" y=\"0\">\n",
       "\t  <feFlood flood-color=\"lightgrey\" flood-opacity=\"1\" result=\"grey\"/>\n",
       "\t  <feComposite in=\"SourceGraphic\" in2=\"grey\" operator=\"atop\"/>\n",
       "\t</filter>\n",
       "</defs>\n",
       "<g color=\"#FFFFFF\" fill=\"none\" stroke=\"currentColor\" stroke-linecap=\"butt\" stroke-linejoin=\"miter\" stroke-width=\"1.00\">\n",
       "</g>\n",
       "<g color=\"black\" fill=\"none\" stroke=\"currentColor\" stroke-linecap=\"butt\" stroke-linejoin=\"miter\" stroke-width=\"1.00\">\n",
       "\t<g shape-rendering=\"crispEdges\" stroke=\"none\">\n",
       "\t\t<polygon fill=\"rgb(255, 255, 255)\" points=\"50.1,392.6 529.2,392.6 529.2,14.8 50.1,14.8 \"/>\n",
       "\t</g>\n",
       "</g>\n",
       "<g color=\"black\" fill=\"none\" stroke=\"currentColor\" stroke-linecap=\"butt\" stroke-linejoin=\"miter\" stroke-width=\"1.00\">\n",
       "</g>\n",
       "\t<g id=\"gnuplot_plot_1a\"><title>gnuplot_plot_1a</title>\n",
       "<g color=\"black\" fill=\"none\" stroke=\"currentColor\" stroke-linecap=\"butt\" stroke-linejoin=\"miter\" stroke-width=\"1.00\">\n",
       "\t<g shape-rendering=\"crispEdges\" stroke=\"none\">\n",
       "\t\t<polygon fill=\"rgb( 32, 146, 140)\" points=\"529.3,392.6 529.3,371.3 529.3,347.4 529.3,323.4 529.3,299.5 529.3,275.5 529.3,251.6 529.3,227.6 529.3,203.6 529.3,179.7 529.3,155.7 529.3,131.8 529.3,107.8 529.3,83.9 529.3,59.9 529.3,36.0 529.3,14.7 50.1,14.7 50.1,36.0 50.1,59.9 50.1,83.9 50.1,107.8 50.1,131.8 50.1,155.7 50.1,179.7 50.1,203.6 50.1,227.6 50.1,251.6 50.1,275.5 50.1,299.5 50.1,323.4 50.1,347.4 50.1,371.3 50.1,392.6 \"/>\n",
       "\t</g>\n",
       "\t<path d=\"M529.3,392.6 L529.3,371.3 L529.3,347.4 L529.3,323.4 L529.3,299.5 L529.3,275.5 L529.3,251.6 L529.3,227.6   L529.3,203.6 L529.3,179.7 L529.3,155.7 L529.3,131.8 L529.3,107.8 L529.3,83.9 L529.3,59.9 L529.3,36.0   L529.3,14.7 M50.1,14.7 L50.1,36.0 L50.1,59.9 L50.1,83.9 L50.1,107.8 L50.1,131.8 L50.1,155.7   L50.1,179.7 L50.1,203.6 L50.1,227.6 L50.1,251.6 L50.1,275.5 L50.1,299.5 L50.1,323.4 L50.1,347.4   L50.1,371.3 L50.1,392.6  \" stroke=\"rgb( 32, 146, 140)\"/></g>\n",
       "\t</g>\n",
       "\t<g id=\"gnuplot_plot_2a\"><title>gnuplot_plot_2a</title>\n",
       "<g color=\"#FFFFFF\" fill=\"none\" stroke=\"rgb( 32, 146, 140)\" stroke-linecap=\"butt\" stroke-linejoin=\"miter\" stroke-width=\"0.50\">\n",
       "</g>\n",
       "<g color=\"black\" fill=\"none\" stroke=\"currentColor\" stroke-linecap=\"butt\" stroke-linejoin=\"miter\" stroke-width=\"0.50\">\n",
       "\t<path d=\"M529.3,392.6 L529.3,371.3 L529.3,347.4 L529.3,323.4 L529.3,299.5 L529.3,275.5 L529.3,251.6 L529.3,227.6   L529.3,203.6 L529.3,179.7 L529.3,155.7 L529.3,131.8 L529.3,107.8 L529.3,83.9 L529.3,59.9 L529.3,36.0   L529.3,14.7 M50.1,14.7 L50.1,36.0 L50.1,59.9 L50.1,83.9 L50.1,107.8 L50.1,131.8 L50.1,155.7   L50.1,179.7 L50.1,203.6 L50.1,227.6 L50.1,251.6 L50.1,275.5 L50.1,299.5 L50.1,323.4 L50.1,347.4   L50.1,371.3 L50.1,392.6  \" stroke=\"rgb(  0,   0,   0)\"/></g>\n",
       "\t</g>\n",
       "\t<g id=\"gnuplot_plot_3a\"><title>gnuplot_plot_3a</title>\n",
       "<g color=\"#FFFFFF\" fill=\"none\" stroke=\"rgb(  0,   0,   0)\" stroke-linecap=\"butt\" stroke-linejoin=\"miter\" stroke-width=\"1.00\">\n",
       "</g>\n",
       "<g color=\"black\" fill=\"none\" stroke=\"currentColor\" stroke-linecap=\"butt\" stroke-linejoin=\"miter\" stroke-width=\"1.00\">\n",
       "\t<g shape-rendering=\"crispEdges\" stroke=\"none\">\n",
       "\t\t<polygon fill=\"rgb( 42, 119, 142)\" points=\"417.3,392.6 433.5,380.8 444.4,371.3 457.4,358.3 466.9,347.4 481.4,327.6 484.1,323.4 496.8,299.5 505.3,278.6 506.5,275.5 512.8,251.6 516.6,227.6 517.8,203.6 516.6,179.7 512.8,155.7 506.5,131.8 505.3,128.7 496.8,107.8 484.1,83.9 481.4,79.7 466.9,59.9 457.4,49.0 444.4,36.0 433.5,26.5 417.4,14.7 162.1,14.7 145.9,26.5 135.0,36.0 122.0,49.0 112.5,59.9 98.0,79.7 95.3,83.9 82.6,107.8 74.1,128.7 72.9,131.8 66.6,155.7 62.8,179.7 61.6,203.6 62.8,227.6 66.6,251.6 72.9,275.5 74.1,278.6 82.6,299.5 95.3,323.4 98.0,327.6 112.5,347.4 122.0,358.3 135.0,371.3 145.9,380.8 162.0,392.6 \"/>\n",
       "\t</g>\n",
       "\t<path d=\"M417.3,392.6 L433.5,380.8 L444.4,371.3 L457.4,358.3 L466.9,347.4 L481.4,327.6 L484.1,323.4 L496.8,299.5   L505.3,278.6 L506.5,275.5 L512.8,251.6 L516.6,227.6 L517.8,203.6 L516.6,179.7 L512.8,155.7 L506.5,131.8   L505.3,128.7 L496.8,107.8 L484.1,83.9 L481.4,79.7 L466.9,59.9 L457.4,49.0 L444.4,36.0 L433.5,26.5   L417.3,14.7 M162.1,14.7 L145.9,26.5 L135.0,36.0 L122.0,49.0 L112.5,59.9 L98.0,79.7 L95.3,83.9   L82.6,107.8 L74.1,128.7 L72.9,131.8 L66.6,155.7 L62.8,179.7 L61.6,203.6 L62.8,227.6 L66.6,251.6   L72.9,275.5 L74.1,278.6 L82.6,299.5 L95.3,323.4 L98.0,327.6 L112.5,347.4 L122.0,358.3 L135.0,371.3   L145.9,380.8 L162.1,392.6  \" stroke=\"rgb( 42, 119, 142)\"/></g>\n",
       "\t</g>\n",
       "\t<g id=\"gnuplot_plot_4a\"><title>gnuplot_plot_4a</title>\n",
       "<g color=\"#FFFFFF\" fill=\"none\" stroke=\"rgb( 42, 119, 142)\" stroke-linecap=\"butt\" stroke-linejoin=\"miter\" stroke-width=\"0.50\">\n",
       "</g>\n",
       "<g color=\"black\" fill=\"none\" stroke=\"currentColor\" stroke-linecap=\"butt\" stroke-linejoin=\"miter\" stroke-width=\"0.50\">\n",
       "\t<path d=\"M417.3,392.6 L433.5,380.8 L444.4,371.3 L457.4,358.3 L466.9,347.4 L481.4,327.6 L484.1,323.4 L496.8,299.5   L505.3,278.6 L506.5,275.5 L512.8,251.6 L516.6,227.6 L517.8,203.6 L516.6,179.7 L512.8,155.7 L506.5,131.8   L505.3,128.7 L496.8,107.8 L484.1,83.9 L481.4,79.7 L466.9,59.9 L457.4,49.0 L444.4,36.0 L433.5,26.5   L417.3,14.7 M162.1,14.7 L145.9,26.5 L135.0,36.0 L122.0,49.0 L112.5,59.9 L98.0,79.7 L95.3,83.9   L82.6,107.8 L74.1,128.7 L72.9,131.8 L66.6,155.7 L62.8,179.7 L61.6,203.6 L62.8,227.6 L66.6,251.6   L72.9,275.5 L74.1,278.6 L82.6,299.5 L95.3,323.4 L98.0,327.6 L112.5,347.4 L122.0,358.3 L135.0,371.3   L145.9,380.8 L162.1,392.6  \" stroke=\"rgb(  0,   0,   0)\"/></g>\n",
       "\t</g>\n",
       "\t<g id=\"gnuplot_plot_5a\"><title>gnuplot_plot_5a</title>\n",
       "<g color=\"#FFFFFF\" fill=\"none\" stroke=\"rgb(  0,   0,   0)\" stroke-linecap=\"butt\" stroke-linejoin=\"miter\" stroke-width=\"1.00\">\n",
       "</g>\n",
       "<g color=\"black\" fill=\"none\" stroke=\"currentColor\" stroke-linecap=\"butt\" stroke-linejoin=\"miter\" stroke-width=\"1.00\">\n",
       "\t<g shape-rendering=\"crispEdges\" stroke=\"none\">\n",
       "\t\t<polygon fill=\"rgb( 52,  96, 141)\" points=\"366.5,392.6 385.5,383.7 406.1,371.3 409.5,369.0 433.5,348.7 434.8,347.4 455.1,323.4 457.4,320.0 469.8,299.5 480.9,275.5 481.4,274.2 488.0,251.6 492.3,227.6 493.7,203.6 492.3,179.7 488.0,155.7 481.4,133.1 480.9,131.8 469.8,107.8 457.4,87.3 455.1,83.9 434.8,59.9 433.5,58.6 409.5,38.3 406.1,36.0 385.5,23.6 366.6,14.7 212.9,14.7 193.9,23.6 173.3,36.0 169.9,38.3 145.9,58.6 144.6,59.9 124.3,83.9 122.0,87.3 109.6,107.8 98.5,131.8 98.0,133.1 91.4,155.7 87.1,179.7 85.7,203.6 87.1,227.6 91.4,251.6 98.0,274.2 98.5,275.5 109.6,299.5 122.0,320.0 124.3,323.4 144.6,347.4 145.9,348.7 169.9,369.0 173.3,371.3 193.9,383.7 212.8,392.6 \"/>\n",
       "\t</g>\n",
       "\t<path d=\"M366.4,392.6 L385.5,383.7 L406.1,371.3 L409.5,369.0 L433.5,348.7 L434.8,347.4 L455.1,323.4 L457.4,320.0   L469.8,299.5 L480.9,275.5 L481.4,274.2 L488.0,251.6 L492.3,227.6 L493.7,203.6 L492.3,179.7 L488.0,155.7   L481.4,133.1 L480.9,131.8 L469.8,107.8 L457.4,87.3 L455.1,83.9 L434.8,59.9 L433.5,58.6 L409.5,38.3   L406.1,36.0 L385.5,23.6 L366.4,14.7 M213.0,14.7 L193.9,23.6 L173.3,36.0 L169.9,38.3 L145.9,58.6   L144.6,59.9 L124.3,83.9 L122.0,87.3 L109.6,107.8 L98.5,131.8 L98.0,133.1 L91.4,155.7 L87.1,179.7   L85.7,203.6 L87.1,227.6 L91.4,251.6 L98.0,274.2 L98.5,275.5 L109.6,299.5 L122.0,320.0 L124.3,323.4   L144.6,347.4 L145.9,348.7 L169.9,369.0 L173.3,371.3 L193.9,383.7 L213.0,392.6  \" stroke=\"rgb( 52,  96, 141)\"/></g>\n",
       "\t</g>\n",
       "\t<g id=\"gnuplot_plot_6a\"><title>gnuplot_plot_6a</title>\n",
       "<g color=\"#FFFFFF\" fill=\"none\" stroke=\"rgb( 52,  96, 141)\" stroke-linecap=\"butt\" stroke-linejoin=\"miter\" stroke-width=\"0.50\">\n",
       "</g>\n",
       "<g color=\"black\" fill=\"none\" stroke=\"currentColor\" stroke-linecap=\"butt\" stroke-linejoin=\"miter\" stroke-width=\"0.50\">\n",
       "\t<path d=\"M366.4,392.6 L385.5,383.7 L406.1,371.3 L409.5,369.0 L433.5,348.7 L434.8,347.4 L455.1,323.4 L457.4,320.0   L469.8,299.5 L480.9,275.5 L481.4,274.2 L488.0,251.6 L492.3,227.6 L493.7,203.6 L492.3,179.7 L488.0,155.7   L481.4,133.1 L480.9,131.8 L469.8,107.8 L457.4,87.3 L455.1,83.9 L434.8,59.9 L433.5,58.6 L409.5,38.3   L406.1,36.0 L385.5,23.6 L366.4,14.7 M213.0,14.7 L193.9,23.6 L173.3,36.0 L169.9,38.3 L145.9,58.6   L144.6,59.9 L124.3,83.9 L122.0,87.3 L109.6,107.8 L98.5,131.8 L98.0,133.1 L91.4,155.7 L87.1,179.7   L85.7,203.6 L87.1,227.6 L91.4,251.6 L98.0,274.2 L98.5,275.5 L109.6,299.5 L122.0,320.0 L124.3,323.4   L144.6,347.4 L145.9,348.7 L169.9,369.0 L173.3,371.3 L193.9,383.7 L213.0,392.6  \" stroke=\"rgb(  0,   0,   0)\"/></g>\n",
       "\t</g>\n",
       "\t<g id=\"gnuplot_plot_7a\"><title>gnuplot_plot_7a</title>\n",
       "<g color=\"#FFFFFF\" fill=\"none\" stroke=\"rgb(  0,   0,   0)\" stroke-linecap=\"butt\" stroke-linejoin=\"miter\" stroke-width=\"1.00\">\n",
       "</g>\n",
       "<g color=\"black\" fill=\"none\" stroke=\"currentColor\" stroke-linecap=\"butt\" stroke-linejoin=\"miter\" stroke-width=\"1.00\">\n",
       "\t<g shape-rendering=\"crispEdges\" stroke=\"none\">\n",
       "\t\t<polygon fill=\"rgb( 66,  65, 134)\" points=\"234.4,371.3 241.8,373.8 265.7,378.6 289.7,380.2 313.7,378.6 337.6,373.8 345.0,371.3 361.6,365.0 385.5,352.1 392.3,347.4 409.5,333.3 419.4,323.4 433.5,306.3 438.2,299.5 451.1,275.5 457.4,259.0 459.9,251.6 464.7,227.6 466.3,203.6 464.7,179.7 459.9,155.7 457.4,148.3 451.1,131.8 438.2,107.8 433.5,101.0 419.4,83.9 409.5,74.0 392.3,59.9 385.5,55.2 361.6,42.3 345.0,36.0 337.6,33.5 313.7,28.7 289.7,27.1 265.7,28.7 241.8,33.5 234.4,36.0 217.8,42.3 193.9,55.2 187.1,59.9 169.9,74.0 160.0,83.9 145.9,101.0 141.2,107.8 128.3,131.8 122.0,148.3 119.5,155.7 114.7,179.7 113.1,203.6 114.7,227.6 119.5,251.6 122.0,259.0 128.3,275.5 141.2,299.5 145.9,306.3 160.0,323.4 169.9,333.3 187.1,347.4 193.9,352.1 217.8,365.0 \"/>\n",
       "\t</g>\n",
       "\t<path d=\"M234.4,371.3 L241.8,373.8 L265.7,378.6 L289.7,380.2 L313.7,378.6 L337.6,373.8 L345.0,371.3 L361.6,365.0   L385.5,352.1 L392.3,347.4 L409.5,333.3 L419.4,323.4 L433.5,306.3 L438.2,299.5 L451.1,275.5 L457.4,259.0   L459.9,251.6 L464.7,227.6 L466.3,203.6 L464.7,179.7 L459.9,155.7 L457.4,148.3 L451.1,131.8 L438.2,107.8   L433.5,101.0 L419.4,83.9 L409.5,74.0 L392.3,59.9 L385.5,55.2 L361.6,42.3 L345.0,36.0 L337.6,33.5   L313.7,28.7 L289.7,27.1 L265.7,28.7 L241.8,33.5 L234.4,36.0 L217.8,42.3 L193.9,55.2 L187.1,59.9   L169.9,74.0 L160.0,83.9 L145.9,101.0 L141.2,107.8 L128.3,131.8 L122.0,148.3 L119.5,155.7 L114.7,179.7   L113.1,203.6 L114.7,227.6 L119.5,251.6 L122.0,259.0 L128.3,275.5 L141.2,299.5 L145.9,306.3 L160.0,323.4   L169.9,333.3 L187.1,347.4 L193.9,352.1 L217.8,365.0  \" stroke=\"rgb( 66,  65, 134)\"/></g>\n",
       "\t</g>\n",
       "\t<g id=\"gnuplot_plot_8a\"><title>gnuplot_plot_8a</title>\n",
       "<g color=\"#FFFFFF\" fill=\"none\" stroke=\"rgb( 66,  65, 134)\" stroke-linecap=\"butt\" stroke-linejoin=\"miter\" stroke-width=\"0.50\">\n",
       "</g>\n",
       "<g color=\"black\" fill=\"none\" stroke=\"currentColor\" stroke-linecap=\"butt\" stroke-linejoin=\"miter\" stroke-width=\"0.50\">\n",
       "\t<path d=\"M234.4,371.3 L241.8,373.8 L265.7,378.6 L289.7,380.2 L313.7,378.6 L337.6,373.8 L345.0,371.3 L361.6,365.0   L385.5,352.1 L392.3,347.4 L409.5,333.3 L419.4,323.4 L433.5,306.3 L438.2,299.5 L451.1,275.5 L457.4,259.0   L459.9,251.6 L464.7,227.6 L466.3,203.6 L464.7,179.7 L459.9,155.7 L457.4,148.3 L451.1,131.8 L438.2,107.8   L433.5,101.0 L419.4,83.9 L409.5,74.0 L392.3,59.9 L385.5,55.2 L361.6,42.3 L345.0,36.0 L337.6,33.5   L313.7,28.7 L289.7,27.1 L265.7,28.7 L241.8,33.5 L234.4,36.0 L217.8,42.3 L193.9,55.2 L187.1,59.9   L169.9,74.0 L160.0,83.9 L145.9,101.0 L141.2,107.8 L128.3,131.8 L122.0,148.3 L119.5,155.7 L114.7,179.7   L113.1,203.6 L114.7,227.6 L119.5,251.6 L122.0,259.0 L128.3,275.5 L141.2,299.5 L145.9,306.3 L160.0,323.4   L169.9,333.3 L187.1,347.4 L193.9,352.1 L217.8,365.0 L234.4,371.3  \" stroke=\"rgb(  0,   0,   0)\"/></g>\n",
       "\t</g>\n",
       "\t<g id=\"gnuplot_plot_9a\"><title>gnuplot_plot_9a</title>\n",
       "<g color=\"#FFFFFF\" fill=\"none\" stroke=\"rgb(  0,   0,   0)\" stroke-linecap=\"butt\" stroke-linejoin=\"miter\" stroke-width=\"1.00\">\n",
       "</g>\n",
       "<g color=\"black\" fill=\"none\" stroke=\"currentColor\" stroke-linecap=\"butt\" stroke-linejoin=\"miter\" stroke-width=\"1.00\">\n",
       "\t<g shape-rendering=\"crispEdges\" stroke=\"none\">\n",
       "\t\t<polygon fill=\"rgb( 72,  35, 116)\" points=\"281.0,347.4 289.7,348.1 298.4,347.4 313.7,346.0 337.6,339.5 361.6,328.6 369.7,323.4 385.5,311.1 397.2,299.5 409.5,283.6 414.6,275.5 425.5,251.6 432.1,227.6 433.5,212.4 434.1,203.6 433.5,194.9 432.1,179.7 425.5,155.7 414.6,131.8 409.5,123.7 397.2,107.8 385.5,96.2 369.7,83.9 361.6,78.7 337.6,67.8 313.7,61.3 298.4,59.9 289.7,59.2 281.0,59.9 265.7,61.3 241.8,67.8 217.8,78.7 209.7,83.9 193.9,96.2 182.2,107.8 169.9,123.7 164.8,131.8 153.9,155.7 147.3,179.7 145.9,194.9 145.3,203.6 145.9,212.4 147.3,227.6 153.9,251.6 164.8,275.5 169.9,283.6 182.2,299.5 193.9,311.1 209.7,323.4 217.8,328.6 241.8,339.5 265.7,346.0 \"/>\n",
       "\t</g>\n",
       "\t<path d=\"M281.0,347.4 L289.7,348.1 L298.4,347.4 L313.7,346.0 L337.6,339.5 L361.6,328.6 L369.7,323.4 L385.5,311.1   L397.2,299.5 L409.5,283.6 L414.6,275.5 L425.5,251.6 L432.1,227.6 L433.5,212.4 L434.1,203.6 L433.5,194.9   L432.1,179.7 L425.5,155.7 L414.6,131.8 L409.5,123.7 L397.2,107.8 L385.5,96.2 L369.7,83.9 L361.6,78.7   L337.6,67.8 L313.7,61.3 L298.4,59.9 L289.7,59.2 L281.0,59.9 L265.7,61.3 L241.8,67.8 L217.8,78.7   L209.7,83.9 L193.9,96.2 L182.2,107.8 L169.9,123.7 L164.8,131.8 L153.9,155.7 L147.3,179.7 L145.9,194.9   L145.3,203.6 L145.9,212.4 L147.3,227.6 L153.9,251.6 L164.8,275.5 L169.9,283.6 L182.2,299.5 L193.9,311.1   L209.7,323.4 L217.8,328.6 L241.8,339.5 L265.7,346.0  \" stroke=\"rgb( 72,  35, 116)\"/></g>\n",
       "\t</g>\n",
       "\t<g id=\"gnuplot_plot_10a\"><title>gnuplot_plot_10a</title>\n",
       "<g color=\"#FFFFFF\" fill=\"none\" stroke=\"rgb( 72,  35, 116)\" stroke-linecap=\"butt\" stroke-linejoin=\"miter\" stroke-width=\"0.50\">\n",
       "</g>\n",
       "<g color=\"black\" fill=\"none\" stroke=\"currentColor\" stroke-linecap=\"butt\" stroke-linejoin=\"miter\" stroke-width=\"0.50\">\n",
       "\t<path d=\"M281.0,347.4 L289.7,348.1 L298.4,347.4 L313.7,346.0 L337.6,339.5 L361.6,328.6 L369.7,323.4 L385.5,311.1   L397.2,299.5 L409.5,283.6 L414.6,275.5 L425.5,251.6 L432.1,227.6 L433.5,212.4 L434.1,203.6 L433.5,194.9   L432.1,179.7 L425.5,155.7 L414.6,131.8 L409.5,123.7 L397.2,107.8 L385.5,96.2 L369.7,83.9 L361.6,78.7   L337.6,67.8 L313.7,61.3 L298.4,59.9 L289.7,59.2 L281.0,59.9 L265.7,61.3 L241.8,67.8 L217.8,78.7   L209.7,83.9 L193.9,96.2 L182.2,107.8 L169.9,123.7 L164.8,131.8 L153.9,155.7 L147.3,179.7 L145.9,194.9   L145.3,203.6 L145.9,212.4 L147.3,227.6 L153.9,251.6 L164.8,275.5 L169.9,283.6 L182.2,299.5 L193.9,311.1   L209.7,323.4 L217.8,328.6 L241.8,339.5 L265.7,346.0 L281.0,347.4  \" stroke=\"rgb(  0,   0,   0)\"/></g>\n",
       "\t</g>\n",
       "\t<g id=\"gnuplot_plot_11a\"><title>gnuplot_plot_11a</title>\n",
       "<g color=\"#FFFFFF\" fill=\"none\" stroke=\"rgb(  0,   0,   0)\" stroke-linecap=\"butt\" stroke-linejoin=\"miter\" stroke-width=\"1.00\">\n",
       "</g>\n",
       "<g color=\"black\" fill=\"none\" stroke=\"currentColor\" stroke-linecap=\"butt\" stroke-linejoin=\"miter\" stroke-width=\"1.00\">\n",
       "\t<g shape-rendering=\"crispEdges\" stroke=\"none\">\n",
       "\t\t<polygon fill=\"rgb( 68,   1,  84)\" points=\"256.3,299.5 265.7,302.6 289.7,305.3 313.7,302.6 323.1,299.5 337.6,293.3 361.6,276.1 362.2,275.5 379.3,251.6 385.5,237.0 388.7,227.6 391.3,203.6 388.7,179.7 385.5,170.3 379.3,155.7 362.2,131.8 361.6,131.2 337.6,114.0 323.1,107.8 313.7,104.7 289.7,102.0 265.7,104.7 256.3,107.8 241.8,114.0 217.8,131.2 217.2,131.8 200.1,155.7 193.9,170.3 190.7,179.7 188.1,203.6 190.7,227.6 193.9,237.0 200.1,251.6 217.2,275.5 217.8,276.1 241.8,293.3 \"/>\n",
       "\t</g>\n",
       "\t<path d=\"M256.3,299.5 L265.7,302.6 L289.7,305.3 L313.7,302.6 L323.1,299.5 L337.6,293.3 L361.6,276.1 L362.2,275.5   L379.3,251.6 L385.5,237.0 L388.7,227.6 L391.3,203.6 L388.7,179.7 L385.5,170.3 L379.3,155.7 L362.2,131.8   L361.6,131.2 L337.6,114.0 L323.1,107.8 L313.7,104.7 L289.7,102.0 L265.7,104.7 L256.3,107.8 L241.8,114.0   L217.8,131.2 L217.2,131.8 L200.1,155.7 L193.9,170.3 L190.7,179.7 L188.1,203.6 L190.7,227.6 L193.9,237.0   L200.1,251.6 L217.2,275.5 L217.8,276.1 L241.8,293.3  \" stroke=\"rgb( 68,   1,  84)\"/></g>\n",
       "\t</g>\n",
       "\t<g id=\"gnuplot_plot_12a\"><title>gnuplot_plot_12a</title>\n",
       "<g color=\"#FFFFFF\" fill=\"none\" stroke=\"rgb( 68,   1,  84)\" stroke-linecap=\"butt\" stroke-linejoin=\"miter\" stroke-width=\"0.50\">\n",
       "</g>\n",
       "<g color=\"black\" fill=\"none\" stroke=\"currentColor\" stroke-linecap=\"butt\" stroke-linejoin=\"miter\" stroke-width=\"0.50\">\n",
       "\t<path d=\"M256.3,299.5 L265.7,302.6 L289.7,305.3 L313.7,302.6 L323.1,299.5 L337.6,293.3 L361.6,276.1 L362.2,275.5   L379.3,251.6 L385.5,237.0 L388.7,227.6 L391.3,203.6 L388.7,179.7 L385.5,170.3 L379.3,155.7 L362.2,131.8   L361.6,131.2 L337.6,114.0 L323.1,107.8 L313.7,104.7 L289.7,102.0 L265.7,104.7 L256.3,107.8 L241.8,114.0   L217.8,131.2 L217.2,131.8 L200.1,155.7 L193.9,170.3 L190.7,179.7 L188.1,203.6 L190.7,227.6 L193.9,237.0   L200.1,251.6 L217.2,275.5 L217.8,276.1 L241.8,293.3 L256.3,299.5  \" stroke=\"rgb(  0,   0,   0)\"/></g>\n",
       "\t</g>\n",
       "\t<g id=\"gnuplot_plot_13a\"><title>gnuplot_plot_13a</title>\n",
       "<g color=\"#FFFFFF\" fill=\"none\" stroke=\"rgb(  0,   0,   0)\" stroke-linecap=\"butt\" stroke-linejoin=\"miter\" stroke-width=\"1.00\">\n",
       "</g>\n",
       "<g color=\"black\" fill=\"none\" stroke=\"currentColor\" stroke-linecap=\"butt\" stroke-linejoin=\"miter\" stroke-width=\"1.00\">\n",
       "\t<g shape-rendering=\"crispEdges\" stroke=\"none\">\n",
       "\t\t<polygon fill=\"rgb( 35, 169, 132)\" points=\"529.3,392.6 529.3,371.3 529.3,347.4 529.3,323.4 529.3,299.5 529.3,275.8 520.6,299.5 509.2,323.4 505.3,330.2 494.2,347.4 481.4,364.1 475.1,371.3 457.4,389.1 453.4,392.6 \"/>\n",
       "\t</g>\n",
       "\t<path d=\"M529.3,392.6 L529.3,371.3 L529.3,347.4 L529.3,323.4 L529.3,299.5 L529.3,275.8 L520.6,299.5 L509.2,323.4   L505.3,330.2 L494.2,347.4 L481.4,364.1 L475.1,371.3 L457.4,389.1 L453.3,392.6  \" stroke=\"rgb( 35, 169, 132)\"/></g>\n",
       "\t</g>\n",
       "\t<g id=\"gnuplot_plot_14a\"><title>gnuplot_plot_14a</title>\n",
       "<g color=\"#FFFFFF\" fill=\"none\" stroke=\"rgb( 35, 169, 132)\" stroke-linecap=\"butt\" stroke-linejoin=\"miter\" stroke-width=\"0.50\">\n",
       "</g>\n",
       "<g color=\"black\" fill=\"none\" stroke=\"currentColor\" stroke-linecap=\"butt\" stroke-linejoin=\"miter\" stroke-width=\"0.50\">\n",
       "\t<path d=\"M529.3,392.6 L529.3,371.3 L529.3,347.4 L529.3,323.4 L529.3,299.5 L529.3,275.8 L520.6,299.5 L509.2,323.4   L505.3,330.2 L494.2,347.4 L481.4,364.1 L475.1,371.3 L457.4,389.1 L453.3,392.6  \" stroke=\"rgb(  0,   0,   0)\"/></g>\n",
       "\t</g>\n",
       "\t<g id=\"gnuplot_plot_15a\"><title>gnuplot_plot_15a</title>\n",
       "<g color=\"#FFFFFF\" fill=\"none\" stroke=\"rgb(  0,   0,   0)\" stroke-linecap=\"butt\" stroke-linejoin=\"miter\" stroke-width=\"1.00\">\n",
       "</g>\n",
       "<g color=\"black\" fill=\"none\" stroke=\"currentColor\" stroke-linecap=\"butt\" stroke-linejoin=\"miter\" stroke-width=\"1.00\">\n",
       "\t<g shape-rendering=\"crispEdges\" stroke=\"none\">\n",
       "\t\t<polygon fill=\"rgb( 35, 169, 132)\" points=\"520.6,107.8 529.3,131.5 529.3,107.8 529.3,83.9 529.3,59.9 529.3,36.0 529.3,14.7 453.3,14.7 457.4,18.2 475.1,36.0 481.4,43.2 494.2,59.9 505.3,77.1 509.2,83.9 \"/>\n",
       "\t</g>\n",
       "\t<path d=\"M520.6,107.8 L529.3,131.5 L529.3,107.8 L529.3,83.9 L529.3,59.9 L529.3,36.0 L529.3,14.7 M453.3,14.7   L457.4,18.2 L475.1,36.0 L481.4,43.2 L494.2,59.9 L505.3,77.1 L509.2,83.9  \" stroke=\"rgb( 35, 169, 132)\"/></g>\n",
       "\t</g>\n",
       "\t<g id=\"gnuplot_plot_16a\"><title>gnuplot_plot_16a</title>\n",
       "<g color=\"#FFFFFF\" fill=\"none\" stroke=\"rgb( 35, 169, 132)\" stroke-linecap=\"butt\" stroke-linejoin=\"miter\" stroke-width=\"0.50\">\n",
       "</g>\n",
       "<g color=\"black\" fill=\"none\" stroke=\"currentColor\" stroke-linecap=\"butt\" stroke-linejoin=\"miter\" stroke-width=\"0.50\">\n",
       "\t<path d=\"M520.6,107.8 L529.3,131.5 L529.3,107.8 L529.3,83.9 L529.3,59.9 L529.3,36.0 L529.3,14.7 M453.3,14.7   L457.4,18.2 L475.1,36.0 L481.4,43.2 L494.2,59.9 L505.3,77.1 L509.2,83.9 L520.6,107.8  \" stroke=\"rgb(  0,   0,   0)\"/></g>\n",
       "\t</g>\n",
       "\t<g id=\"gnuplot_plot_17a\"><title>gnuplot_plot_17a</title>\n",
       "<g color=\"#FFFFFF\" fill=\"none\" stroke=\"rgb(  0,   0,   0)\" stroke-linecap=\"butt\" stroke-linejoin=\"miter\" stroke-width=\"1.00\">\n",
       "</g>\n",
       "<g color=\"black\" fill=\"none\" stroke=\"currentColor\" stroke-linecap=\"butt\" stroke-linejoin=\"miter\" stroke-width=\"1.00\">\n",
       "\t<g shape-rendering=\"crispEdges\" stroke=\"none\">\n",
       "\t\t<polygon fill=\"rgb( 35, 169, 132)\" points=\"126.1,392.6 122.0,389.1 104.3,371.3 98.0,364.1 85.2,347.4 74.1,330.2 70.2,323.4 58.8,299.5 50.1,275.8 50.1,299.5 50.1,323.4 50.1,347.4 50.1,371.3 50.1,392.6 \"/>\n",
       "\t</g>\n",
       "\t<path d=\"M126.1,392.6 L122.0,389.1 L104.3,371.3 L98.0,364.1 L85.2,347.4 L74.1,330.2 L70.2,323.4 L58.8,299.5   L50.1,275.8 L50.1,299.5 L50.1,323.4 L50.1,347.4 L50.1,371.3 L50.1,392.6  \" stroke=\"rgb( 35, 169, 132)\"/></g>\n",
       "\t</g>\n",
       "\t<g id=\"gnuplot_plot_18a\"><title>gnuplot_plot_18a</title>\n",
       "<g color=\"#FFFFFF\" fill=\"none\" stroke=\"rgb( 35, 169, 132)\" stroke-linecap=\"butt\" stroke-linejoin=\"miter\" stroke-width=\"0.50\">\n",
       "</g>\n",
       "<g color=\"black\" fill=\"none\" stroke=\"currentColor\" stroke-linecap=\"butt\" stroke-linejoin=\"miter\" stroke-width=\"0.50\">\n",
       "\t<path d=\"M126.1,392.6 L122.0,389.1 L104.3,371.3 L98.0,364.1 L85.2,347.4 L74.1,330.2 L70.2,323.4 L58.8,299.5   L50.1,275.8 L50.1,299.5 L50.1,323.4 L50.1,347.4 L50.1,371.3 L50.1,392.6  \" stroke=\"rgb(  0,   0,   0)\"/></g>\n",
       "\t</g>\n",
       "\t<g id=\"gnuplot_plot_19a\"><title>gnuplot_plot_19a</title>\n",
       "<g color=\"#FFFFFF\" fill=\"none\" stroke=\"rgb(  0,   0,   0)\" stroke-linecap=\"butt\" stroke-linejoin=\"miter\" stroke-width=\"1.00\">\n",
       "</g>\n",
       "<g color=\"black\" fill=\"none\" stroke=\"currentColor\" stroke-linecap=\"butt\" stroke-linejoin=\"miter\" stroke-width=\"1.00\">\n",
       "\t<g shape-rendering=\"crispEdges\" stroke=\"none\">\n",
       "\t\t<polygon fill=\"rgb( 35, 169, 132)\" points=\"50.1,107.8 50.1,131.5 58.8,107.8 70.2,83.9 74.1,77.1 85.2,59.9 98.0,43.2 104.3,36.0 122.0,18.2 126.0,14.7 50.1,14.7 50.1,36.0 50.1,59.9 50.1,83.9 \"/>\n",
       "\t</g>\n",
       "\t<path d=\"M50.1,107.8 L50.1,131.5 L58.8,107.8 L70.2,83.9 L74.1,77.1 L85.2,59.9 L98.0,43.2 L104.3,36.0   L122.0,18.2 L126.1,14.7 M50.1,14.7 L50.1,36.0 L50.1,59.9 L50.1,83.9  \" stroke=\"rgb( 35, 169, 132)\"/></g>\n",
       "\t</g>\n",
       "\t<g id=\"gnuplot_plot_20a\"><title>gnuplot_plot_20a</title>\n",
       "<g color=\"#FFFFFF\" fill=\"none\" stroke=\"rgb( 35, 169, 132)\" stroke-linecap=\"butt\" stroke-linejoin=\"miter\" stroke-width=\"0.50\">\n",
       "</g>\n",
       "<g color=\"black\" fill=\"none\" stroke=\"currentColor\" stroke-linecap=\"butt\" stroke-linejoin=\"miter\" stroke-width=\"0.50\">\n",
       "\t<path d=\"M50.1,107.8 L50.1,131.5 L58.8,107.8 L70.2,83.9 L74.1,77.1 L85.2,59.9 L98.0,43.2 L104.3,36.0   L122.0,18.2 L126.1,14.7 M50.1,14.7 L50.1,36.0 L50.1,59.9 L50.1,83.9 L50.1,107.8  \" stroke=\"rgb(  0,   0,   0)\"/></g>\n",
       "\t</g>\n",
       "\t<g id=\"gnuplot_plot_21a\"><title>gnuplot_plot_21a</title>\n",
       "<g color=\"#FFFFFF\" fill=\"none\" stroke=\"rgb(  0,   0,   0)\" stroke-linecap=\"butt\" stroke-linejoin=\"miter\" stroke-width=\"1.00\">\n",
       "</g>\n",
       "<g color=\"black\" fill=\"none\" stroke=\"currentColor\" stroke-linecap=\"butt\" stroke-linejoin=\"miter\" stroke-width=\"1.00\">\n",
       "\t<g shape-rendering=\"crispEdges\" stroke=\"none\">\n",
       "\t\t<polygon fill=\"rgb( 66, 190, 113)\" points=\"518.3,59.9 529.3,78.9 529.3,59.9 529.3,36.0 529.3,14.7 482.7,14.7 501.5,36.0 505.3,41.0 \"/>\n",
       "\t</g>\n",
       "\t<path d=\"M518.3,59.9 L529.3,78.9 L529.3,59.9 L529.3,36.0 L529.3,14.7 M482.7,14.7 L501.5,36.0 L505.3,41.0    \" stroke=\"rgb( 66, 190, 113)\"/></g>\n",
       "\t</g>\n",
       "\t<g id=\"gnuplot_plot_22a\"><title>gnuplot_plot_22a</title>\n",
       "<g color=\"#FFFFFF\" fill=\"none\" stroke=\"rgb( 66, 190, 113)\" stroke-linecap=\"butt\" stroke-linejoin=\"miter\" stroke-width=\"0.50\">\n",
       "</g>\n",
       "<g color=\"black\" fill=\"none\" stroke=\"currentColor\" stroke-linecap=\"butt\" stroke-linejoin=\"miter\" stroke-width=\"0.50\">\n",
       "\t<path d=\"M518.3,59.9 L529.3,78.9 L529.3,59.9 L529.3,36.0 L529.3,14.7 M482.7,14.7 L501.5,36.0 L505.3,41.0   L518.3,59.9  \" stroke=\"rgb(  0,   0,   0)\"/></g>\n",
       "\t</g>\n",
       "\t<g id=\"gnuplot_plot_23a\"><title>gnuplot_plot_23a</title>\n",
       "<g color=\"#FFFFFF\" fill=\"none\" stroke=\"rgb(  0,   0,   0)\" stroke-linecap=\"butt\" stroke-linejoin=\"miter\" stroke-width=\"1.00\">\n",
       "</g>\n",
       "<g color=\"black\" fill=\"none\" stroke=\"currentColor\" stroke-linecap=\"butt\" stroke-linejoin=\"miter\" stroke-width=\"1.00\">\n",
       "\t<g shape-rendering=\"crispEdges\" stroke=\"none\">\n",
       "\t\t<polygon fill=\"rgb( 66, 190, 113)\" points=\"50.1,59.9 50.1,78.9 61.1,59.9 74.1,41.0 77.9,36.0 96.6,14.7 50.1,14.7 50.1,36.0 \"/>\n",
       "\t</g>\n",
       "\t<path d=\"M50.1,59.9 L50.1,78.9 L61.1,59.9 L74.1,41.0 L77.9,36.0 L96.7,14.7 M50.1,14.7 L50.1,36.0    \" stroke=\"rgb( 66, 190, 113)\"/></g>\n",
       "\t</g>\n",
       "\t<g id=\"gnuplot_plot_24a\"><title>gnuplot_plot_24a</title>\n",
       "<g color=\"#FFFFFF\" fill=\"none\" stroke=\"rgb( 66, 190, 113)\" stroke-linecap=\"butt\" stroke-linejoin=\"miter\" stroke-width=\"0.50\">\n",
       "</g>\n",
       "<g color=\"black\" fill=\"none\" stroke=\"currentColor\" stroke-linecap=\"butt\" stroke-linejoin=\"miter\" stroke-width=\"0.50\">\n",
       "\t<path d=\"M50.1,59.9 L50.1,78.9 L61.1,59.9 L74.1,41.0 L77.9,36.0 L96.7,14.7 M50.1,14.7 L50.1,36.0   L50.1,59.9  \" stroke=\"rgb(  0,   0,   0)\"/></g>\n",
       "\t</g>\n",
       "\t<g id=\"gnuplot_plot_25a\"><title>gnuplot_plot_25a</title>\n",
       "<g color=\"#FFFFFF\" fill=\"none\" stroke=\"rgb(  0,   0,   0)\" stroke-linecap=\"butt\" stroke-linejoin=\"miter\" stroke-width=\"1.00\">\n",
       "</g>\n",
       "<g color=\"black\" fill=\"none\" stroke=\"currentColor\" stroke-linecap=\"butt\" stroke-linejoin=\"miter\" stroke-width=\"1.00\">\n",
       "\t<g shape-rendering=\"crispEdges\" stroke=\"none\">\n",
       "\t\t<polygon fill=\"rgb( 66, 190, 113)\" points=\"529.3,392.6 529.3,371.3 529.3,347.4 529.3,328.4 518.3,347.4 505.3,366.3 501.5,371.3 482.8,392.6 \"/>\n",
       "\t</g>\n",
       "\t<path d=\"M529.3,392.6 L529.3,371.3 L529.3,347.4 L529.3,328.4 L518.3,347.4 L505.3,366.3 L501.5,371.3 L482.7,392.6    \" stroke=\"rgb( 66, 190, 113)\"/></g>\n",
       "\t</g>\n",
       "\t<g id=\"gnuplot_plot_26a\"><title>gnuplot_plot_26a</title>\n",
       "<g color=\"#FFFFFF\" fill=\"none\" stroke=\"rgb( 66, 190, 113)\" stroke-linecap=\"butt\" stroke-linejoin=\"miter\" stroke-width=\"0.50\">\n",
       "</g>\n",
       "<g color=\"black\" fill=\"none\" stroke=\"currentColor\" stroke-linecap=\"butt\" stroke-linejoin=\"miter\" stroke-width=\"0.50\">\n",
       "\t<path d=\"M529.3,392.6 L529.3,371.3 L529.3,347.4 L529.3,328.4 L518.3,347.4 L505.3,366.3 L501.5,371.3 L482.7,392.6    \" stroke=\"rgb(  0,   0,   0)\"/></g>\n",
       "\t</g>\n",
       "\t<g id=\"gnuplot_plot_27a\"><title>gnuplot_plot_27a</title>\n",
       "<g color=\"#FFFFFF\" fill=\"none\" stroke=\"rgb(  0,   0,   0)\" stroke-linecap=\"butt\" stroke-linejoin=\"miter\" stroke-width=\"1.00\">\n",
       "</g>\n",
       "<g color=\"black\" fill=\"none\" stroke=\"currentColor\" stroke-linecap=\"butt\" stroke-linejoin=\"miter\" stroke-width=\"1.00\">\n",
       "\t<g shape-rendering=\"crispEdges\" stroke=\"none\">\n",
       "\t\t<polygon fill=\"rgb( 66, 190, 113)\" points=\"96.7,392.6 77.9,371.3 74.1,366.3 61.1,347.4 50.1,328.4 50.1,347.4 50.1,371.3 50.1,392.6 \"/>\n",
       "\t</g>\n",
       "\t<path d=\"M96.7,392.6 L77.9,371.3 L74.1,366.3 L61.1,347.4 L50.1,328.4 L50.1,347.4 L50.1,371.3 L50.1,392.6    \" stroke=\"rgb( 66, 190, 113)\"/></g>\n",
       "\t</g>\n",
       "\t<g id=\"gnuplot_plot_28a\"><title>gnuplot_plot_28a</title>\n",
       "<g color=\"#FFFFFF\" fill=\"none\" stroke=\"rgb( 66, 190, 113)\" stroke-linecap=\"butt\" stroke-linejoin=\"miter\" stroke-width=\"0.50\">\n",
       "</g>\n",
       "<g color=\"black\" fill=\"none\" stroke=\"currentColor\" stroke-linecap=\"butt\" stroke-linejoin=\"miter\" stroke-width=\"0.50\">\n",
       "\t<path d=\"M96.7,392.6 L77.9,371.3 L74.1,366.3 L61.1,347.4 L50.1,328.4 L50.1,347.4 L50.1,371.3 L50.1,392.6    \" stroke=\"rgb(  0,   0,   0)\"/></g>\n",
       "\t</g>\n",
       "\t<g id=\"gnuplot_plot_29a\"><title>gnuplot_plot_29a</title>\n",
       "<g color=\"#FFFFFF\" fill=\"none\" stroke=\"rgb(  0,   0,   0)\" stroke-linecap=\"butt\" stroke-linejoin=\"miter\" stroke-width=\"1.00\">\n",
       "</g>\n",
       "<g color=\"black\" fill=\"none\" stroke=\"currentColor\" stroke-linecap=\"butt\" stroke-linejoin=\"miter\" stroke-width=\"1.00\">\n",
       "\t<g shape-rendering=\"crispEdges\" stroke=\"none\">\n",
       "\t\t<polygon fill=\"rgb(128, 211,  77)\" points=\"508.0,14.7 524.8,36.0 529.3,42.5 529.3,36.0 529.3,14.7 \"/>\n",
       "\t</g>\n",
       "\t<path d=\"M524.8,36.0 L529.3,42.5 L529.3,36.0 L529.3,14.7  \" stroke=\"rgb(128, 211,  77)\"/></g>\n",
       "\t</g>\n",
       "\t<g id=\"gnuplot_plot_30a\"><title>gnuplot_plot_30a</title>\n",
       "<g color=\"#FFFFFF\" fill=\"none\" stroke=\"rgb(128, 211,  77)\" stroke-linecap=\"butt\" stroke-linejoin=\"miter\" stroke-width=\"0.50\">\n",
       "</g>\n",
       "<g color=\"black\" fill=\"none\" stroke=\"currentColor\" stroke-linecap=\"butt\" stroke-linejoin=\"miter\" stroke-width=\"0.50\">\n",
       "\t<path d=\"M524.8,36.0 L529.3,42.5 L529.3,36.0 L529.3,14.7 M508.0,14.7 L524.8,36.0  \" stroke=\"rgb(  0,   0,   0)\"/></g>\n",
       "\t</g>\n",
       "\t<g id=\"gnuplot_plot_31a\"><title>gnuplot_plot_31a</title>\n",
       "<g color=\"#FFFFFF\" fill=\"none\" stroke=\"rgb(  0,   0,   0)\" stroke-linecap=\"butt\" stroke-linejoin=\"miter\" stroke-width=\"1.00\">\n",
       "</g>\n",
       "<g color=\"black\" fill=\"none\" stroke=\"currentColor\" stroke-linecap=\"butt\" stroke-linejoin=\"miter\" stroke-width=\"1.00\">\n",
       "\t<g shape-rendering=\"crispEdges\" stroke=\"none\">\n",
       "\t\t<polygon fill=\"rgb(128, 211,  77)\" points=\"71.4,392.6 54.6,371.3 50.1,364.8 50.1,371.3 50.1,392.6 \"/>\n",
       "\t</g>\n",
       "\t<path d=\"M71.4,392.6 L54.6,371.3 L50.1,364.8 L50.1,371.3 L50.1,392.6  \" stroke=\"rgb(128, 211,  77)\"/></g>\n",
       "\t</g>\n",
       "\t<g id=\"gnuplot_plot_32a\"><title>gnuplot_plot_32a</title>\n",
       "<g color=\"#FFFFFF\" fill=\"none\" stroke=\"rgb(128, 211,  77)\" stroke-linecap=\"butt\" stroke-linejoin=\"miter\" stroke-width=\"0.50\">\n",
       "</g>\n",
       "<g color=\"black\" fill=\"none\" stroke=\"currentColor\" stroke-linecap=\"butt\" stroke-linejoin=\"miter\" stroke-width=\"0.50\">\n",
       "\t<path d=\"M71.4,392.6 L54.6,371.3 L50.1,364.8 L50.1,371.3 L50.1,392.6  \" stroke=\"rgb(  0,   0,   0)\"/></g>\n",
       "\t</g>\n",
       "\t<g id=\"gnuplot_plot_33a\"><title>gnuplot_plot_33a</title>\n",
       "<g color=\"#FFFFFF\" fill=\"none\" stroke=\"rgb(  0,   0,   0)\" stroke-linecap=\"butt\" stroke-linejoin=\"miter\" stroke-width=\"1.00\">\n",
       "</g>\n",
       "<g color=\"black\" fill=\"none\" stroke=\"currentColor\" stroke-linecap=\"butt\" stroke-linejoin=\"miter\" stroke-width=\"1.00\">\n",
       "\t<g shape-rendering=\"crispEdges\" stroke=\"none\">\n",
       "\t\t<polygon fill=\"rgb(128, 211,  77)\" points=\"529.3,392.6 529.3,371.3 529.3,364.8 524.8,371.3 508.1,392.6 \"/>\n",
       "\t</g>\n",
       "\t<path d=\"M529.3,392.6 L529.3,371.3 L529.3,364.8 L524.8,371.3 L508.0,392.6  \" stroke=\"rgb(128, 211,  77)\"/></g>\n",
       "\t</g>\n",
       "\t<g id=\"gnuplot_plot_34a\"><title>gnuplot_plot_34a</title>\n",
       "<g color=\"#FFFFFF\" fill=\"none\" stroke=\"rgb(128, 211,  77)\" stroke-linecap=\"butt\" stroke-linejoin=\"miter\" stroke-width=\"0.50\">\n",
       "</g>\n",
       "<g color=\"black\" fill=\"none\" stroke=\"currentColor\" stroke-linecap=\"butt\" stroke-linejoin=\"miter\" stroke-width=\"0.50\">\n",
       "\t<path d=\"M529.3,392.6 L529.3,371.3 L529.3,364.8 L524.8,371.3 L508.0,392.6  \" stroke=\"rgb(  0,   0,   0)\"/></g>\n",
       "\t</g>\n",
       "\t<g id=\"gnuplot_plot_35a\"><title>gnuplot_plot_35a</title>\n",
       "<g color=\"#FFFFFF\" fill=\"none\" stroke=\"rgb(  0,   0,   0)\" stroke-linecap=\"butt\" stroke-linejoin=\"miter\" stroke-width=\"1.00\">\n",
       "</g>\n",
       "<g color=\"black\" fill=\"none\" stroke=\"currentColor\" stroke-linecap=\"butt\" stroke-linejoin=\"miter\" stroke-width=\"1.00\">\n",
       "\t<g shape-rendering=\"crispEdges\" stroke=\"none\">\n",
       "\t\t<polygon fill=\"rgb(128, 211,  77)\" points=\"50.1,14.7 50.1,36.0 50.1,42.5 54.6,36.0 71.3,14.7 \"/>\n",
       "\t</g>\n",
       "\t<path d=\"M50.1,36.0 L50.1,42.5 L54.6,36.0 L71.4,14.7  \" stroke=\"rgb(128, 211,  77)\"/></g>\n",
       "\t</g>\n",
       "\t<g id=\"gnuplot_plot_36a\"><title>gnuplot_plot_36a</title>\n",
       "<g color=\"#FFFFFF\" fill=\"none\" stroke=\"rgb(128, 211,  77)\" stroke-linecap=\"butt\" stroke-linejoin=\"miter\" stroke-width=\"0.50\">\n",
       "</g>\n",
       "<g color=\"black\" fill=\"none\" stroke=\"currentColor\" stroke-linecap=\"butt\" stroke-linejoin=\"miter\" stroke-width=\"0.50\">\n",
       "\t<path d=\"M50.1,36.0 L50.1,42.5 L54.6,36.0 L71.4,14.7 M50.1,14.7 L50.1,36.0  \" stroke=\"rgb(  0,   0,   0)\"/></g>\n",
       "\t</g>\n",
       "\t<g id=\"gnuplot_plot_37a\"><title>gnuplot_plot_37a</title>\n",
       "<g color=\"#FFFFFF\" fill=\"none\" stroke=\"rgb(  0,   0,   0)\" stroke-linecap=\"butt\" stroke-linejoin=\"miter\" stroke-width=\"1.00\">\n",
       "</g>\n",
       "<g color=\"black\" fill=\"none\" stroke=\"currentColor\" stroke-linecap=\"butt\" stroke-linejoin=\"miter\" stroke-width=\"1.00\">\n",
       "</g>\n",
       "\t</g>\n",
       "\t<g id=\"gnuplot_plot_38a\"><title>gnuplot_plot_38a</title>\n",
       "<g color=\"#FFFFFF\" fill=\"none\" stroke=\"rgb(191, 223,  37)\" stroke-linecap=\"butt\" stroke-linejoin=\"miter\" stroke-width=\"0.50\">\n",
       "</g>\n",
       "<g color=\"black\" fill=\"none\" stroke=\"currentColor\" stroke-linecap=\"butt\" stroke-linejoin=\"miter\" stroke-width=\"0.50\">\n",
       "</g>\n",
       "\t</g>\n",
       "\t<g id=\"gnuplot_plot_39a\"><title>gnuplot_plot_39a</title>\n",
       "<g color=\"#FFFFFF\" fill=\"none\" stroke=\"rgb(  0,   0,   0)\" stroke-linecap=\"butt\" stroke-linejoin=\"miter\" stroke-width=\"1.00\">\n",
       "</g>\n",
       "<g color=\"black\" fill=\"none\" stroke=\"currentColor\" stroke-linecap=\"butt\" stroke-linejoin=\"miter\" stroke-width=\"1.00\">\n",
       "</g>\n",
       "\t</g>\n",
       "\t<g id=\"gnuplot_plot_40a\"><title>gnuplot_plot_40a</title>\n",
       "<g color=\"#FFFFFF\" fill=\"none\" stroke=\"rgb(191, 223,  37)\" stroke-linecap=\"butt\" stroke-linejoin=\"miter\" stroke-width=\"0.50\">\n",
       "</g>\n",
       "<g color=\"black\" fill=\"none\" stroke=\"currentColor\" stroke-linecap=\"butt\" stroke-linejoin=\"miter\" stroke-width=\"0.50\">\n",
       "</g>\n",
       "\t</g>\n",
       "\t<g id=\"gnuplot_plot_41a\"><title>gnuplot_plot_41a</title>\n",
       "<g color=\"#FFFFFF\" fill=\"none\" stroke=\"rgb(  0,   0,   0)\" stroke-linecap=\"butt\" stroke-linejoin=\"miter\" stroke-width=\"1.00\">\n",
       "</g>\n",
       "<g color=\"black\" fill=\"none\" stroke=\"currentColor\" stroke-linecap=\"butt\" stroke-linejoin=\"miter\" stroke-width=\"1.00\">\n",
       "</g>\n",
       "\t</g>\n",
       "\t<g id=\"gnuplot_plot_42a\"><title>gnuplot_plot_42a</title>\n",
       "<g color=\"#FFFFFF\" fill=\"none\" stroke=\"rgb(191, 223,  37)\" stroke-linecap=\"butt\" stroke-linejoin=\"miter\" stroke-width=\"0.50\">\n",
       "</g>\n",
       "<g color=\"black\" fill=\"none\" stroke=\"currentColor\" stroke-linecap=\"butt\" stroke-linejoin=\"miter\" stroke-width=\"0.50\">\n",
       "</g>\n",
       "\t</g>\n",
       "\t<g id=\"gnuplot_plot_43a\"><title>gnuplot_plot_43a</title>\n",
       "<g color=\"#FFFFFF\" fill=\"none\" stroke=\"rgb(  0,   0,   0)\" stroke-linecap=\"butt\" stroke-linejoin=\"miter\" stroke-width=\"1.00\">\n",
       "</g>\n",
       "<g color=\"black\" fill=\"none\" stroke=\"currentColor\" stroke-linecap=\"butt\" stroke-linejoin=\"miter\" stroke-width=\"1.00\">\n",
       "</g>\n",
       "\t</g>\n",
       "\t<g id=\"gnuplot_plot_44a\"><title>gnuplot_plot_44a</title>\n",
       "<g color=\"#FFFFFF\" fill=\"none\" stroke=\"rgb(191, 223,  37)\" stroke-linecap=\"butt\" stroke-linejoin=\"miter\" stroke-width=\"0.50\">\n",
       "</g>\n",
       "<g color=\"black\" fill=\"none\" stroke=\"currentColor\" stroke-linecap=\"butt\" stroke-linejoin=\"miter\" stroke-width=\"0.50\">\n",
       "</g>\n",
       "\t</g>\n",
       "\t<g id=\"gnuplot_plot_45a\"><title>gnuplot_plot_45a</title>\n",
       "<g color=\"#FFFFFF\" fill=\"none\" stroke=\"rgb(  0,   0,   0)\" stroke-linecap=\"butt\" stroke-linejoin=\"miter\" stroke-width=\"1.00\">\n",
       "</g>\n",
       "<g color=\"black\" fill=\"none\" stroke=\"currentColor\" stroke-linecap=\"butt\" stroke-linejoin=\"miter\" stroke-width=\"1.00\">\n",
       "</g>\n",
       "\t</g>\n",
       "\t<g id=\"gnuplot_plot_46a\"><title>gnuplot_plot_46a</title>\n",
       "<g color=\"#FFFFFF\" fill=\"none\" stroke=\"rgb(253, 231,  37)\" stroke-linecap=\"butt\" stroke-linejoin=\"miter\" stroke-width=\"0.50\">\n",
       "</g>\n",
       "<g color=\"black\" fill=\"none\" stroke=\"currentColor\" stroke-linecap=\"butt\" stroke-linejoin=\"miter\" stroke-width=\"0.50\">\n",
       "</g>\n",
       "\t</g>\n",
       "\t<g id=\"gnuplot_plot_47a\"><title>gnuplot_plot_47a</title>\n",
       "<g color=\"#FFFFFF\" fill=\"none\" stroke=\"rgb(  0,   0,   0)\" stroke-linecap=\"butt\" stroke-linejoin=\"miter\" stroke-width=\"1.00\">\n",
       "</g>\n",
       "<g color=\"black\" fill=\"none\" stroke=\"currentColor\" stroke-linecap=\"butt\" stroke-linejoin=\"miter\" stroke-width=\"1.00\">\n",
       "</g>\n",
       "\t</g>\n",
       "\t<g id=\"gnuplot_plot_48a\"><title>gnuplot_plot_48a</title>\n",
       "<g color=\"#FFFFFF\" fill=\"none\" stroke=\"rgb(253, 231,  37)\" stroke-linecap=\"butt\" stroke-linejoin=\"miter\" stroke-width=\"0.50\">\n",
       "</g>\n",
       "<g color=\"black\" fill=\"none\" stroke=\"currentColor\" stroke-linecap=\"butt\" stroke-linejoin=\"miter\" stroke-width=\"0.50\">\n",
       "</g>\n",
       "\t</g>\n",
       "\t<g id=\"gnuplot_plot_49a\"><title>gnuplot_plot_49a</title>\n",
       "<g color=\"#FFFFFF\" fill=\"none\" stroke=\"rgb(  0,   0,   0)\" stroke-linecap=\"butt\" stroke-linejoin=\"miter\" stroke-width=\"1.00\">\n",
       "</g>\n",
       "<g color=\"black\" fill=\"none\" stroke=\"currentColor\" stroke-linecap=\"butt\" stroke-linejoin=\"miter\" stroke-width=\"1.00\">\n",
       "</g>\n",
       "\t</g>\n",
       "\t<g id=\"gnuplot_plot_50a\"><title>gnuplot_plot_50a</title>\n",
       "<g color=\"#FFFFFF\" fill=\"none\" stroke=\"rgb(253, 231,  37)\" stroke-linecap=\"butt\" stroke-linejoin=\"miter\" stroke-width=\"0.50\">\n",
       "</g>\n",
       "<g color=\"black\" fill=\"none\" stroke=\"currentColor\" stroke-linecap=\"butt\" stroke-linejoin=\"miter\" stroke-width=\"0.50\">\n",
       "</g>\n",
       "\t</g>\n",
       "\t<g id=\"gnuplot_plot_51a\"><title>gnuplot_plot_51a</title>\n",
       "<g color=\"#FFFFFF\" fill=\"none\" stroke=\"rgb(  0,   0,   0)\" stroke-linecap=\"butt\" stroke-linejoin=\"miter\" stroke-width=\"1.00\">\n",
       "</g>\n",
       "<g color=\"black\" fill=\"none\" stroke=\"currentColor\" stroke-linecap=\"butt\" stroke-linejoin=\"miter\" stroke-width=\"1.00\">\n",
       "</g>\n",
       "\t</g>\n",
       "\t<g id=\"gnuplot_plot_52a\"><title>gnuplot_plot_52a</title>\n",
       "<g color=\"#FFFFFF\" fill=\"none\" stroke=\"rgb(253, 231,  37)\" stroke-linecap=\"butt\" stroke-linejoin=\"miter\" stroke-width=\"0.50\">\n",
       "</g>\n",
       "<g color=\"black\" fill=\"none\" stroke=\"currentColor\" stroke-linecap=\"butt\" stroke-linejoin=\"miter\" stroke-width=\"0.50\">\n",
       "</g>\n",
       "\t</g>\n",
       "\t<g id=\"gnuplot_plot_53a\"><title>gnuplot_plot_53a</title>\n",
       "<g color=\"#FFFFFF\" fill=\"none\" stroke=\"rgb(  0,   0,   0)\" stroke-linecap=\"butt\" stroke-linejoin=\"miter\" stroke-width=\"2.00\">\n",
       "</g>\n",
       "<g color=\"black\" fill=\"none\" stroke=\"currentColor\" stroke-linecap=\"butt\" stroke-linejoin=\"miter\" stroke-width=\"2.00\">\n",
       "\t<path d=\"M50.1,371.3 M50.1,347.4 M50.1,323.4 M50.1,299.5 M50.1,275.5 M50.1,251.6 M50.1,227.6 M50.1,203.6   M50.1,179.7 M50.1,155.7 M50.1,131.8 M50.1,107.8 M50.1,83.9 M50.1,59.9 M50.1,36.0 M74.1,371.3   L55.6,385.7 M74.1,347.4 L55.6,359.7 M74.1,323.4 L55.6,333.7 M74.1,299.5 L55.6,307.7 M74.1,275.5   L55.6,281.7 M74.1,251.6 L55.6,255.7 M74.1,227.6 L55.6,229.7 M74.1,203.6 L55.6,203.6 M74.1,179.7   L55.6,177.6 M74.1,155.7 L55.6,151.6 M74.1,131.8 L55.6,125.6 M74.1,107.8 L55.6,99.6 M74.1,83.9   L55.6,73.6 M74.1,59.9 L55.6,47.6 M74.1,36.0 L55.6,21.6 M98.0,371.3 L81.6,385.7 M98.0,347.4   L81.6,359.7 M98.0,323.4 L81.6,333.7 M98.0,299.5 L81.6,307.7 M98.0,275.5 L81.6,281.7 M98.0,251.6   L81.6,255.7 M98.0,227.6 L81.6,229.7 M98.0,203.6 L81.6,203.6 M98.0,179.7 L81.6,177.6 M98.0,155.7   L81.6,151.6 M98.0,131.8 L81.6,125.6 M98.0,107.8 L81.6,99.6 M98.0,83.9 L81.6,73.6 M98.0,59.9   L81.6,47.6 M98.0,36.0 L81.6,21.6 M122.0,371.3 L107.6,385.7 M122.0,347.4 L107.6,359.7 M122.0,323.4   L107.6,333.7 M122.0,299.5 L107.6,307.7 M122.0,275.5 L107.6,281.7 M122.0,251.6 L107.6,255.7 M122.0,227.6   L107.6,229.7 M122.0,203.6 L107.6,203.6 M122.0,179.7 L107.6,177.6 M122.0,155.7 L107.6,151.6 M122.0,131.8   L107.6,125.6 M122.0,107.8 L107.6,99.6 M122.0,83.9 L107.6,73.6 M122.0,59.9 L107.6,47.6 M122.0,36.0   L107.6,21.6 M145.9,371.3 L133.6,385.7 M145.9,347.4 L133.6,359.7 M145.9,323.4 L133.6,333.7 M145.9,299.5   L133.6,307.7 M145.9,275.5 L133.6,281.7 M145.9,251.6 L133.6,255.7 M145.9,227.6 L133.6,229.7 M145.9,203.6   L133.6,203.6 M145.9,179.7 L133.6,177.6 M145.9,155.7 L133.6,151.6 M145.9,131.8 L133.6,125.6 M145.9,107.8   L133.6,99.6 M145.9,83.9 L133.6,73.6 M145.9,59.9 L133.6,47.6 M145.9,36.0 L133.6,21.6 M169.9,371.3   L159.6,385.7 M169.9,347.4 L159.6,359.7 M169.9,323.4 L159.6,333.7 M169.9,299.5 L159.6,307.7 M169.9,275.5   L159.6,281.7 M169.9,251.6 L159.6,255.7 M169.9,227.6 L159.6,229.7 M169.9,203.6 L159.6,203.6 M169.9,179.7   L159.6,177.6 M169.9,155.7 L159.6,151.6 M169.9,131.8 L159.6,125.6 M169.9,107.8 L159.6,99.6 M169.9,83.9   L159.6,73.6 M169.9,59.9 L159.6,47.6 M169.9,36.0 L159.6,21.6 M193.9,371.3 L185.6,385.7 M193.9,347.4   L185.6,359.7 M193.9,323.4 L185.6,333.7 M193.9,299.5 L185.6,307.7 M193.9,275.5 L185.6,281.7 M193.9,251.6   L185.6,255.7 M193.9,227.6 L185.6,229.7 M193.9,203.6 L185.6,203.6 M193.9,179.7 L185.6,177.6 M193.9,155.7   L185.6,151.6 M193.9,131.8 L185.6,125.6 M193.9,107.8 L185.6,99.6 M193.9,83.9 L185.6,73.6 M193.9,59.9   L185.6,47.6 M193.9,36.0 L185.6,21.6 M217.8,371.3 L211.7,385.7 M217.8,347.4 L211.7,359.7 M217.8,323.4   L211.7,333.7 M217.8,299.5 L211.7,307.7 M217.8,275.5 L211.7,281.7 M217.8,251.6 L211.7,255.7 M217.8,227.6   L211.7,229.7 M217.8,203.6 L211.7,203.6 M217.8,179.7 L211.7,177.6 M217.8,155.7 L211.7,151.6 M217.8,131.8   L211.7,125.6 M217.8,107.8 L211.7,99.6 M217.8,83.9 L211.7,73.6 M217.8,59.9 L211.7,47.6 M217.8,36.0   L211.7,21.6 M241.8,371.3 L237.7,385.7 M241.8,347.4 L237.7,359.7 M241.8,323.4 L237.7,333.7 M241.8,299.5   L237.7,307.7 M241.8,275.5 L237.7,281.7 M241.8,251.6 L237.7,255.7 M241.8,227.6 L237.7,229.7 M241.8,203.6   L237.7,203.6 M241.8,179.7 L237.7,177.6 M241.8,155.7 L237.7,151.6 M241.8,131.8 L237.7,125.6 M241.8,107.8   L237.7,99.6 M241.8,83.9 L237.7,73.6 M241.8,59.9 L237.7,47.6 M241.8,36.0 L237.7,21.6 M265.7,371.3   L263.7,385.7 M265.7,347.4 L263.7,359.7 M265.7,323.4 L263.7,333.7 M265.7,299.5 L263.7,307.7 M265.7,275.5   L263.7,281.7 M265.7,251.6 L263.7,255.7 M265.7,227.6 L263.7,229.7 M265.7,203.6 L263.7,203.6 M265.7,179.7   L263.7,177.6 M265.7,155.7 L263.7,151.6 M265.7,131.8 L263.7,125.6 M265.7,107.8 L263.7,99.6 M265.7,83.9   L263.7,73.6 M265.7,59.9 L263.7,47.6 M265.7,36.0 L263.7,21.6 M289.7,371.3 L289.7,385.7 M289.7,347.4   L289.7,359.7 M289.7,323.4 L289.7,333.7 M289.7,299.5 L289.7,307.7 M289.7,275.5 L289.7,281.7 M289.7,251.6   L289.7,255.7 M289.7,227.6 L289.7,229.7 M289.7,203.6 M289.7,179.7 L289.7,177.6 M289.7,155.7 L289.7,151.6   M289.7,131.8 L289.7,125.6 M289.7,107.8 L289.7,99.6 M289.7,83.9 L289.7,73.6 M289.7,59.9 L289.7,47.6   M289.7,36.0 L289.7,21.6 M313.7,371.3 L315.7,385.7 M313.7,347.4 L315.7,359.7 M313.7,323.4 L315.7,333.7   M313.7,299.5 L315.7,307.7 M313.7,275.5 L315.7,281.7 M313.7,251.6 L315.7,255.7 M313.7,227.6 L315.7,229.7   M313.7,203.6 L315.7,203.6 M313.7,179.7 L315.7,177.6 M313.7,155.7 L315.7,151.6 M313.7,131.8 L315.7,125.6   M313.7,107.8 L315.7,99.6 M313.7,83.9 L315.7,73.6 M313.7,59.9 L315.7,47.6 M313.7,36.0 L315.7,21.6   M337.6,371.3 L341.7,385.7 M337.6,347.4 L341.7,359.7 M337.6,323.4 L341.7,333.7 M337.6,299.5 L341.7,307.7   M337.6,275.5 L341.7,281.7 M337.6,251.6 L341.7,255.7 M337.6,227.6 L341.7,229.7 M337.6,203.6 L341.7,203.6   M337.6,179.7 L341.7,177.6 M337.6,155.7 L341.7,151.6 M337.6,131.8 L341.7,125.6 M337.6,107.8 L341.7,99.6   M337.6,83.9 L341.7,73.6 M337.6,59.9 L341.7,47.6 M337.6,36.0 L341.7,21.6 M361.6,371.3 L367.7,385.7   M361.6,347.4 L367.7,359.7 M361.6,323.4 L367.7,333.7 M361.6,299.5 L367.7,307.7 M361.6,275.5 L367.7,281.7   M361.6,251.6 L367.7,255.7 M361.6,227.6 L367.7,229.7 M361.6,203.6 L367.7,203.6 M361.6,179.7 L367.7,177.6   M361.6,155.7 L367.7,151.6 M361.6,131.8 L367.7,125.6 M361.6,107.8 L367.7,99.6 M361.6,83.9 L367.7,73.6   M361.6,59.9 L367.7,47.6 M361.6,36.0 L367.7,21.6 M385.5,371.3 L393.8,385.7 M385.5,347.4 L393.8,359.7   M385.5,323.4 L393.8,333.7 M385.5,299.5 L393.8,307.7 M385.5,275.5 L393.8,281.7 M385.5,251.6 L393.8,255.7   M385.5,227.6 L393.8,229.7 M385.5,203.6 L393.8,203.6 M385.5,179.7 L393.8,177.6 M385.5,155.7 L393.8,151.6   M385.5,131.8 L393.8,125.6 M385.5,107.8 L393.8,99.6 M385.5,83.9 L393.8,73.6 M385.5,59.9 L393.8,47.6   M385.5,36.0 L393.8,21.6 M409.5,371.3 L419.8,385.7 M409.5,347.4 L419.8,359.7 M409.5,323.4 L419.8,333.7   M409.5,299.5 L419.8,307.7 M409.5,275.5 L419.8,281.7 M409.5,251.6 L419.8,255.7 M409.5,227.6 L419.8,229.7   M409.5,203.6 L419.8,203.6 M409.5,179.7 L419.8,177.6 M409.5,155.7 L419.8,151.6 M409.5,131.8 L419.8,125.6   M409.5,107.8 L419.8,99.6 M409.5,83.9 L419.8,73.6 M409.5,59.9 L419.8,47.6 M409.5,36.0 L419.8,21.6   M433.5,371.3 L445.8,385.7 M433.5,347.4 L445.8,359.7 M433.5,323.4 L445.8,333.7 M433.5,299.5 L445.8,307.7   M433.5,275.5 L445.8,281.7 M433.5,251.6 L445.8,255.7 M433.5,227.6 L445.8,229.7 M433.5,203.6 L445.8,203.6   M433.5,179.7 L445.8,177.6 M433.5,155.7 L445.8,151.6 M433.5,131.8 L445.8,125.6 M433.5,107.8 L445.8,99.6   M433.5,83.9 L445.8,73.6 M433.5,59.9 L445.8,47.6 M433.5,36.0 L445.8,21.6 M457.4,371.3 L471.8,385.7   M457.4,347.4 L471.8,359.7 M457.4,323.4 L471.8,333.7 M457.4,299.5 L471.8,307.7 M457.4,275.5 L471.8,281.7   M457.4,251.6 L471.8,255.7 M457.4,227.6 L471.8,229.7 M457.4,203.6 L471.8,203.6 M457.4,179.7 L471.8,177.6   M457.4,155.7 L471.8,151.6  \" stroke=\"rgb(255,   0,   0)\"/>\t<path d=\"M457.4,131.8 L471.8,125.6 M457.4,107.8 L471.8,99.6 M457.4,83.9 L471.8,73.6 M457.4,59.9 L471.8,47.6   M457.4,36.0 L471.8,21.6 M481.4,371.3 L497.8,385.7 M481.4,347.4 L497.8,359.7 M481.4,323.4 L497.8,333.7   M481.4,299.5 L497.8,307.7 M481.4,275.5 L497.8,281.7 M481.4,251.6 L497.8,255.7 M481.4,227.6 L497.8,229.7   M481.4,203.6 L497.8,203.6 M481.4,179.7 L497.8,177.6 M481.4,155.7 L497.8,151.6 M481.4,131.8 L497.8,125.6   M481.4,107.8 L497.8,99.6 M481.4,83.9 L497.8,73.6 M481.4,59.9 L497.8,47.6 M481.4,36.0 L497.8,21.6   M505.3,371.3 L523.8,385.7 M505.3,347.4 L523.8,359.7 M505.3,323.4 L523.8,333.7 M505.3,299.5 L523.8,307.7   M505.3,275.5 L523.8,281.7 M505.3,251.6 L523.8,255.7 M505.3,227.6 L523.8,229.7 M505.3,203.6 L523.8,203.6   M505.3,179.7 L523.8,177.6 M505.3,155.7 L523.8,151.6 M505.3,131.8 L523.8,125.6 M505.3,107.8 L523.8,99.6   M505.3,83.9 L523.8,73.6 M505.3,59.9 L523.8,47.6 M505.3,36.0 L523.8,21.6 M529.3,371.3 M529.3,347.4   M529.3,323.4 M529.3,299.5 M529.3,275.5 M529.3,251.6 M529.3,227.6 M529.3,203.6 M529.3,179.7 M529.3,155.7   M529.3,131.8 M529.3,107.8 M529.3,83.9 M529.3,59.9 M529.3,36.0  \" stroke=\"rgb(255,   0,   0)\"/></g>\n",
       "\t</g>\n",
       "\t<g id=\"gnuplot_plot_54a\"><title>gnuplot_plot_54a</title>\n",
       "<g color=\"black\" fill=\"none\" stroke=\"currentColor\" stroke-linecap=\"butt\" stroke-linejoin=\"miter\" stroke-width=\"2.00\">\n",
       "\t<path d=\"M60.1,378.9 L55.6,385.7 L63.3,383.0 M60.4,353.6 L55.6,359.7 L63.1,357.7 M60.6,328.2 L55.6,333.7   L62.9,332.3 M60.8,302.9 L55.6,307.7 L62.7,307.0 M61.1,277.6 L55.6,281.7 L62.4,281.7 M61.3,252.2   L55.6,255.7 L62.2,256.4 M61.5,226.9 L55.6,229.7 L62.0,231.0 M61.7,201.6 L55.6,203.6 L61.7,205.7   M62.0,176.3 L55.6,177.6 L61.5,180.4 M62.2,150.9 L55.6,151.6 L61.3,155.1 M62.4,125.6 L55.6,125.6   L61.1,129.7 M62.7,100.3 L55.6,99.6 L60.8,104.4 M62.9,75.0 L55.6,73.6 L60.6,79.1 M63.1,49.6   L55.6,47.6 L60.4,53.7 M63.3,24.3 L55.6,21.6 L60.1,28.4 M85.5,379.1 L81.6,385.7 L88.7,382.8   M85.7,353.8 L81.6,359.7 L88.4,357.4 M85.9,328.5 L81.6,333.7 L88.2,332.1 M86.2,303.1 L81.6,307.7   L88.0,306.8 M86.4,277.8 L81.6,281.7 L87.8,281.5 M86.6,252.5 L81.6,255.7 L87.5,256.1 M86.8,227.2   L81.6,229.7 L87.3,230.8 M87.1,201.8 L81.6,203.6 L87.1,205.5 M87.3,176.5 L81.6,177.6 L86.8,180.1   M87.5,151.2 L81.6,151.6 L86.6,154.8 M87.8,125.8 L81.6,125.6 L86.4,129.5 M88.0,100.5 L81.6,99.6   L86.2,104.2 M88.2,75.2 L81.6,73.6 L85.9,78.8 M88.4,49.9 L81.6,47.6 L85.7,53.5 M88.7,24.5   L81.6,21.6 L85.5,28.2 M110.8,379.3 L107.6,385.7 L114.0,382.5 M111.0,354.0 L107.6,359.7 L113.8,357.2   M111.3,328.7 L107.6,333.7 L113.5,331.9 M111.5,303.4 L107.6,307.7 L113.3,306.6 M111.7,278.0 L107.6,281.7   L113.1,281.2 M111.9,252.7 L107.6,255.7 L112.9,255.9 M112.2,227.4 L107.6,229.7 L112.6,230.6 M112.4,202.1   L107.6,203.6 L112.4,205.2 M112.6,176.7 L107.6,177.6 L112.2,179.9 M112.9,151.4 L107.6,151.6 L111.9,154.6   M113.1,126.1 L107.6,125.6 L111.7,129.3 M113.3,100.7 L107.6,99.6 L111.5,103.9 M113.5,75.4 L107.6,73.6   L111.3,78.6 M113.8,50.1 L107.6,47.6 L111.0,53.3 M114.0,24.8 L107.6,21.6 L110.8,28.0 M136.1,379.6   L133.6,385.7 L139.3,382.3 M136.4,354.2 L133.6,359.7 L139.1,357.0 M136.6,328.9 L133.6,333.7 L138.9,331.6   M136.8,303.6 L133.6,307.7 L138.6,306.3 M137.0,278.3 L133.6,281.7 L138.4,281.0 M137.3,252.9 L133.6,255.7   L138.2,255.7 M137.5,227.6 L133.6,229.7 L138.0,230.3 M137.7,202.3 L133.6,203.6 L137.7,205.0 M138.0,177.0   L133.6,177.6 L137.5,179.7 M138.2,151.6 L133.6,151.6 L137.3,154.4 M138.4,126.3 L133.6,125.6 L137.0,129.0   M138.6,101.0 L133.6,99.6 L136.8,103.7 M138.9,75.7 L133.6,73.6 L136.6,78.4 M139.1,50.3 L133.6,47.6   L136.4,53.1 M139.3,25.0 L133.6,21.6 L136.1,27.7 M161.5,379.8 L159.6,385.7 L164.7,382.1 M161.7,354.5   L159.6,359.7 L164.4,356.7 M161.9,329.1 L159.6,333.7 L164.2,331.4 M162.1,303.8 L159.6,307.7 L164.0,306.1   M162.4,278.5 L159.6,281.7 L163.7,280.8 M162.6,253.2 L159.6,255.7 L163.5,255.4 M162.8,227.8 L159.6,229.7   L163.3,230.1 M163.1,202.5 L159.6,203.6 L163.1,204.8 M163.3,177.2 L159.6,177.6 L162.8,179.5 M163.5,151.9   L159.6,151.6 L162.6,154.1 M163.7,126.5 L159.6,125.6 L162.4,128.8 M164.0,101.2 L159.6,99.6 L162.1,103.5   M164.2,75.9 L159.6,73.6 L161.9,78.2 M164.4,50.6 L159.6,47.6 L161.7,52.8 M164.7,25.2 L159.6,21.6   L161.5,27.5 M186.8,380.0 L185.6,385.7 L190.0,381.8 M187.0,354.7 L185.6,359.7 L189.8,356.5 M187.2,329.4   L185.6,333.7 L189.5,331.2 M187.5,304.0 L185.6,307.7 L189.3,305.9 M187.7,278.7 L185.6,281.7 L189.1,280.5   M187.9,253.4 L185.6,255.7 L188.8,255.2 M188.2,228.1 L185.6,229.7 L188.6,229.9 M188.4,202.7 L185.6,203.6   L188.4,204.6 M188.6,177.4 L185.6,177.6 L188.2,179.2 M188.8,152.1 L185.6,151.6 L187.9,153.9 M189.1,126.8   L185.6,125.6 L187.7,128.6 M189.3,101.4 L185.6,99.6 L187.5,103.3 M189.5,76.1 L185.6,73.6 L187.2,77.9   M189.8,50.8 L185.6,47.6 L187.0,52.6 M190.0,25.5 L185.6,21.6 L186.8,27.3 M212.1,380.2 L211.7,385.7   L215.3,381.6 M212.3,354.9 L211.7,359.7 L215.1,356.3 M212.6,329.6 L211.7,333.7 L214.9,331.0 M212.8,304.3   L211.7,307.7 L214.6,305.6 M213.0,278.9 L211.7,281.7 L214.4,280.3 M213.3,253.6 L211.7,255.7 L214.2,255.0   M213.5,228.3 L211.7,229.7 L213.9,229.7 M213.7,203.0 L211.7,203.6 L213.7,204.3 M213.9,177.6 L211.7,177.6   L213.5,179.0 M214.2,152.3 L211.7,151.6 L213.3,153.7 M214.4,127.0 L211.7,125.6 L213.0,128.4 M214.6,101.7   L211.7,99.6 L212.8,103.0 M214.9,76.3 L211.7,73.6 L212.6,77.7 M215.1,51.0 L211.7,47.6 L212.3,52.4   M215.3,25.7 L211.7,21.6 L212.1,27.1 M237.4,380.5 L237.7,385.7 L240.6,381.4 M237.7,355.1 L237.7,359.7   L240.4,356.1 M237.9,329.8 L237.7,333.7 L240.2,330.7 M238.1,304.5 L237.7,307.7 L240.0,305.4 M238.4,279.2   L237.7,281.7 L239.7,280.1 M238.6,253.8 L237.7,255.7 L239.5,254.8 M238.8,228.5 L237.7,229.7 L239.3,229.4   M239.0,203.2 L237.7,203.6 L239.0,204.1 M239.3,177.9 L237.7,177.6 L238.8,178.8 M239.5,152.5 L237.7,151.6   L238.6,153.5 M239.7,127.2 L237.7,125.6 L238.4,128.1 M240.0,101.9 L237.7,99.6 L238.1,102.8 M240.2,76.6   L237.7,73.6 L237.9,77.5 M240.4,51.2 L237.7,47.6 L237.7,52.2 M240.6,25.9 L237.7,21.6 L237.4,26.8   M262.8,380.7 L263.7,385.7 L266.0,381.2 M263.0,355.4 L263.7,359.7 L265.7,355.8 M263.2,330.1 L263.7,333.7   L265.5,330.5 M263.5,304.7 L263.7,307.7 L265.3,305.2 M263.7,279.4 L263.7,281.7 L265.1,279.9 M263.9,254.1   L263.7,255.7 L264.8,254.5 M264.1,228.7 L263.7,229.7 L264.6,229.2 M264.4,203.4 L263.7,203.6 L264.4,203.9   M264.6,178.1 L263.7,177.6 L264.1,178.6 M264.8,152.8 L263.7,151.6 L263.9,153.2 M265.1,127.4 L263.7,125.6   L263.7,127.9 M265.3,102.1 L263.7,99.6 L263.5,102.6 M265.5,76.8 L263.7,73.6 L263.2,77.2 M265.7,51.5   L263.7,47.6 L263.0,51.9 M266.0,26.1 L263.7,21.6 L262.8,26.6 M288.1,380.9 L289.7,385.7 L291.3,380.9   M288.3,355.6 L289.7,359.7 L291.1,355.6 M288.6,330.3 L289.7,333.7 L290.8,330.3 M288.8,305.0 L289.7,307.7   L290.6,305.0 M289.0,279.6 L289.7,281.7 L290.4,279.6 M289.2,254.3 L289.7,255.7 L290.2,254.3 M289.5,229.0   L289.7,229.7 L289.9,229.0 M289.7,203.6 M289.9,178.3 L289.7,177.6 L289.5,178.3 M290.2,153.0 L289.7,151.6   L289.2,153.0 M290.4,127.7 L289.7,125.6 L289.0,127.7 M290.6,102.3 L289.7,99.6 L288.8,102.3 M290.8,77.0   L289.7,73.6 L288.6,77.0 M291.1,51.7 L289.7,47.6 L288.3,51.7 M291.3,26.4 L289.7,21.6 L288.1,26.4   M313.4,381.2 L315.7,385.7 L316.6,380.7 M313.7,355.8 L315.7,359.7 L316.4,355.4 M313.9,330.5 L315.7,333.7   L316.2,330.1 M314.1,305.2 L315.7,307.7 L315.9,304.7 M314.3,279.9 L315.7,281.7 L315.7,279.4 M314.6,254.5   L315.7,255.7 L315.5,254.1 M314.8,229.2 L315.7,229.7 L315.3,228.7 M315.0,203.9 L315.7,203.6 L315.0,203.4   M315.3,178.6 L315.7,177.6 L314.8,178.1 M315.5,153.2 L315.7,151.6 L314.6,152.8 M315.7,127.9 L315.7,125.6   L314.3,127.4 M315.9,102.6 L315.7,99.6 L314.1,102.1 M316.2,77.2 L315.7,73.6 L313.9,76.8 M316.4,51.9   L315.7,47.6 L313.7,51.5 M316.6,26.6 L315.7,21.6 L313.4,26.1 M338.8,381.4 L341.7,385.7 L342.0,380.5   M339.0,356.1 L341.7,359.7 L341.7,355.1 M339.2,330.7 L341.7,333.7 L341.5,329.8 M339.4,305.4 L341.7,307.7   L341.3,304.5 M339.7,280.1 L341.7,281.7 L341.0,279.2 M339.9,254.8 L341.7,255.7 L340.8,253.8 M340.1,229.4   L341.7,229.7 L340.6,228.5  \" stroke=\"rgb(255,   0,   0)\"/>\t<path d=\"M340.4,204.1 L341.7,203.6 L340.4,203.2 M340.6,178.8 L341.7,177.6 L340.1,177.9 M340.8,153.5 L341.7,151.6   L339.9,152.5 M341.0,128.1 L341.7,125.6 L339.7,127.2 M341.3,102.8 L341.7,99.6 L339.4,101.9 M341.5,77.5   L341.7,73.6 L339.2,76.6 M341.7,52.2 L341.7,47.6 L339.0,51.2 M342.0,26.8 L341.7,21.6 L338.8,25.9   M364.1,381.6 L367.7,385.7 L367.3,380.2 M364.3,356.3 L367.7,359.7 L367.1,354.9 M364.5,331.0 L367.7,333.7   L366.8,329.6 M364.8,305.6 L367.7,307.7 L366.6,304.3 M365.0,280.3 L367.7,281.7 L366.4,278.9 M365.2,255.0   L367.7,255.7 L366.1,253.6 M365.5,229.7 L367.7,229.7 L365.9,228.3 M365.7,204.3 L367.7,203.6 L365.7,203.0   M365.9,179.0 L367.7,177.6 L365.5,177.6 M366.1,153.7 L367.7,151.6 L365.2,152.3 M366.4,128.4 L367.7,125.6   L365.0,127.0 M366.6,103.0 L367.7,99.6 L364.8,101.7 M366.8,77.7 L367.7,73.6 L364.5,76.3 M367.1,52.4   L367.7,47.6 L364.3,51.0 M367.3,27.1 L367.7,21.6 L364.1,25.7 M389.4,381.8 L393.8,385.7 L392.6,380.0   M389.6,356.5 L393.8,359.7 L392.4,354.7 M389.9,331.2 L393.8,333.7 L392.2,329.4 M390.1,305.9 L393.8,307.7   L391.9,304.0 M390.3,280.5 L393.8,281.7 L391.7,278.7 M390.6,255.2 L393.8,255.7 L391.5,253.4 M390.8,229.9   L393.8,229.7 L391.2,228.1 M391.0,204.6 L393.8,203.6 L391.0,202.7 M391.2,179.2 L393.8,177.6 L390.8,177.4   M391.5,153.9 L393.8,151.6 L390.6,152.1 M391.7,128.6 L393.8,125.6 L390.3,126.8 M391.9,103.3 L393.8,99.6   L390.1,101.4 M392.2,77.9 L393.8,73.6 L389.9,76.1 M392.4,52.6 L393.8,47.6 L389.6,50.8 M392.6,27.3   L393.8,21.6 L389.4,25.5 M414.7,382.1 L419.8,385.7 L417.9,379.8 M415.0,356.7 L419.8,359.7 L417.7,354.5   M415.2,331.4 L419.8,333.7 L417.5,329.1 M415.4,306.1 L419.8,307.7 L417.3,303.8 M415.7,280.8 L419.8,281.7   L417.0,278.5 M415.9,255.4 L419.8,255.7 L416.8,253.2 M416.1,230.1 L419.8,229.7 L416.6,227.8 M416.3,204.8   L419.8,203.6 L416.3,202.5 M416.6,179.5 L419.8,177.6 L416.1,177.2 M416.8,154.1 L419.8,151.6 L415.9,151.9   M417.0,128.8 L419.8,125.6 L415.7,126.5 M417.3,103.5 L419.8,99.6 L415.4,101.2 M417.5,78.2 L419.8,73.6   L415.2,75.9 M417.7,52.8 L419.8,47.6 L415.0,50.6 M417.9,27.5 L419.8,21.6 L414.7,25.2 M440.1,382.3   L445.8,385.7 L443.3,379.6 M440.3,357.0 L445.8,359.7 L443.0,354.2 M440.5,331.6 L445.8,333.7 L442.8,328.9   M440.8,306.3 L445.8,307.7 L442.6,303.6 M441.0,281.0 L445.8,281.7 L442.4,278.3 M441.2,255.7 L445.8,255.7   L442.1,252.9 M441.4,230.3 L445.8,229.7 L441.9,227.6 M441.7,205.0 L445.8,203.6 L441.7,202.3 M441.9,179.7   L445.8,177.6 L441.4,177.0 M442.1,154.4 L445.8,151.6 L441.2,151.6 M442.4,129.0 L445.8,125.6 L441.0,126.3   M442.6,103.7 L445.8,99.6 L440.8,101.0 M442.8,78.4 L445.8,73.6 L440.5,75.7 M443.0,53.1 L445.8,47.6   L440.3,50.3 M443.3,27.7 L445.8,21.6 L440.1,25.0 M465.4,382.5 L471.8,385.7 L468.6,379.3 M465.6,357.2   L471.8,359.7 L468.4,354.0 M465.9,331.9 L471.8,333.7 L468.1,328.7 M466.1,306.6 L471.8,307.7 L467.9,303.4   M466.3,281.2 L471.8,281.7 L467.7,278.0 M466.5,255.9 L471.8,255.7 L467.5,252.7 M466.8,230.6 L471.8,229.7   L467.2,227.4 M467.0,205.2 L471.8,203.6 L467.0,202.1 M467.2,179.9 L471.8,177.6 L466.8,176.7 M467.5,154.6   L471.8,151.6 L466.5,151.4 M467.7,129.3 L471.8,125.6 L466.3,126.1 M467.9,103.9 L471.8,99.6 L466.1,100.7   M468.1,78.6 L471.8,73.6 L465.9,75.4 M468.4,53.3 L471.8,47.6 L465.6,50.1 M468.6,28.0 L471.8,21.6   L465.4,24.8 M490.7,382.8 L497.8,385.7 L493.9,379.1 M491.0,357.4 L497.8,359.7 L493.7,353.8 M491.2,332.1   L497.8,333.7 L493.5,328.5 M491.4,306.8 L497.8,307.7 L493.2,303.1 M491.6,281.5 L497.8,281.7 L493.0,277.8   M491.9,256.1 L497.8,255.7 L492.8,252.5 M492.1,230.8 L497.8,229.7 L492.6,227.2 M492.3,205.5 L497.8,203.6   L492.3,201.8 M492.6,180.1 L497.8,177.6 L492.1,176.5 M492.8,154.8 L497.8,151.6 L491.9,151.2 M493.0,129.5   L497.8,125.6 L491.6,125.8 M493.2,104.2 L497.8,99.6 L491.4,100.5 M493.5,78.8 L497.8,73.6 L491.2,75.2   M493.7,53.5 L497.8,47.6 L491.0,49.9 M493.9,28.2 L497.8,21.6 L490.7,24.5 M516.1,383.0 L523.8,385.7   L519.3,378.9 M516.3,357.7 L523.8,359.7 L519.0,353.6 M516.5,332.3 L523.8,333.7 L518.8,328.2 M516.7,307.0   L523.8,307.7 L518.6,302.9 M517.0,281.7 L523.8,281.7 L518.3,277.6 M517.2,256.4 L523.8,255.7 L518.1,252.2   M517.4,231.0 L523.8,229.7 L517.9,226.9 M517.7,205.7 L523.8,203.6 L517.7,201.6 M517.9,180.4 L523.8,177.6   L517.4,176.3 M518.1,155.1 L523.8,151.6 L517.2,150.9 M518.3,129.7 L523.8,125.6 L517.0,125.6 M518.6,104.4   L523.8,99.6 L516.7,100.3 M518.8,79.1 L523.8,73.6 L516.5,75.0 M519.0,53.7 L523.8,47.6 L516.3,49.6   M519.3,28.4 L523.8,21.6 L516.1,24.3  \" stroke=\"rgb(255,   0,   0)\"/></g>\n",
       "\t</g>\n",
       "<g color=\"#FFFFFF\" fill=\"none\" stroke=\"rgb(255,   0,   0)\" stroke-linecap=\"butt\" stroke-linejoin=\"miter\" stroke-width=\"1.00\">\n",
       "</g>\n",
       "<g color=\"black\" fill=\"none\" stroke=\"currentColor\" stroke-linecap=\"butt\" stroke-linejoin=\"miter\" stroke-width=\"1.00\">\n",
       "\t<path d=\"M50.1,347.4 L58.5,347.4 M529.3,347.4 L520.9,347.4  \" stroke=\"rgb(  0,   0,   0)\"/>\t<g fill=\"rgb(38,38,38)\" font-family=\"Arial\" font-size=\"10.00\" stroke=\"none\" text-anchor=\"end\" transform=\"translate(44.5,350.7)\">\n",
       "\t\t<text><tspan font-family=\"Arial\">-0.6</tspan></text>\n",
       "\t</g>\n",
       "</g>\n",
       "<g color=\"black\" fill=\"none\" stroke=\"currentColor\" stroke-linecap=\"butt\" stroke-linejoin=\"miter\" stroke-width=\"1.00\">\n",
       "\t<path d=\"M50.1,299.5 L58.5,299.5 M529.3,299.5 L520.9,299.5  \" stroke=\"rgb(  0,   0,   0)\"/>\t<g fill=\"rgb(38,38,38)\" font-family=\"Arial\" font-size=\"10.00\" stroke=\"none\" text-anchor=\"end\" transform=\"translate(44.5,302.8)\">\n",
       "\t\t<text><tspan font-family=\"Arial\">-0.4</tspan></text>\n",
       "\t</g>\n",
       "</g>\n",
       "<g color=\"black\" fill=\"none\" stroke=\"currentColor\" stroke-linecap=\"butt\" stroke-linejoin=\"miter\" stroke-width=\"1.00\">\n",
       "\t<path d=\"M50.1,251.6 L58.5,251.6 M529.3,251.6 L520.9,251.6  \" stroke=\"rgb(  0,   0,   0)\"/>\t<g fill=\"rgb(38,38,38)\" font-family=\"Arial\" font-size=\"10.00\" stroke=\"none\" text-anchor=\"end\" transform=\"translate(44.5,254.9)\">\n",
       "\t\t<text><tspan font-family=\"Arial\">-0.2</tspan></text>\n",
       "\t</g>\n",
       "</g>\n",
       "<g color=\"black\" fill=\"none\" stroke=\"currentColor\" stroke-linecap=\"butt\" stroke-linejoin=\"miter\" stroke-width=\"1.00\">\n",
       "\t<path d=\"M50.1,203.6 L58.5,203.6 M529.3,203.6 L520.9,203.6  \" stroke=\"rgb(  0,   0,   0)\"/>\t<g fill=\"rgb(38,38,38)\" font-family=\"Arial\" font-size=\"10.00\" stroke=\"none\" text-anchor=\"end\" transform=\"translate(44.5,206.9)\">\n",
       "\t\t<text><tspan font-family=\"Arial\">0</tspan></text>\n",
       "\t</g>\n",
       "</g>\n",
       "<g color=\"black\" fill=\"none\" stroke=\"currentColor\" stroke-linecap=\"butt\" stroke-linejoin=\"miter\" stroke-width=\"1.00\">\n",
       "\t<path d=\"M50.1,155.7 L58.5,155.7 M529.3,155.7 L520.9,155.7  \" stroke=\"rgb(  0,   0,   0)\"/>\t<g fill=\"rgb(38,38,38)\" font-family=\"Arial\" font-size=\"10.00\" stroke=\"none\" text-anchor=\"end\" transform=\"translate(44.5,159.0)\">\n",
       "\t\t<text><tspan font-family=\"Arial\">0.2</tspan></text>\n",
       "\t</g>\n",
       "</g>\n",
       "<g color=\"black\" fill=\"none\" stroke=\"currentColor\" stroke-linecap=\"butt\" stroke-linejoin=\"miter\" stroke-width=\"1.00\">\n",
       "\t<path d=\"M50.1,107.8 L58.5,107.8 M529.3,107.8 L520.9,107.8  \" stroke=\"rgb(  0,   0,   0)\"/>\t<g fill=\"rgb(38,38,38)\" font-family=\"Arial\" font-size=\"10.00\" stroke=\"none\" text-anchor=\"end\" transform=\"translate(44.5,111.1)\">\n",
       "\t\t<text><tspan font-family=\"Arial\">0.4</tspan></text>\n",
       "\t</g>\n",
       "</g>\n",
       "<g color=\"black\" fill=\"none\" stroke=\"currentColor\" stroke-linecap=\"butt\" stroke-linejoin=\"miter\" stroke-width=\"1.00\">\n",
       "\t<path d=\"M50.1,59.9 L58.5,59.9 M529.3,59.9 L520.9,59.9  \" stroke=\"rgb(  0,   0,   0)\"/>\t<g fill=\"rgb(38,38,38)\" font-family=\"Arial\" font-size=\"10.00\" stroke=\"none\" text-anchor=\"end\" transform=\"translate(44.5,63.2)\">\n",
       "\t\t<text><tspan font-family=\"Arial\">0.6</tspan></text>\n",
       "\t</g>\n",
       "</g>\n",
       "<g color=\"black\" fill=\"none\" stroke=\"currentColor\" stroke-linecap=\"butt\" stroke-linejoin=\"miter\" stroke-width=\"1.00\">\n",
       "\t<path d=\"M50.1,392.6 L50.1,384.2 M50.1,14.7 L50.1,23.1  \" stroke=\"rgb(  0,   0,   0)\"/>\t<g fill=\"rgb(38,38,38)\" font-family=\"Arial\" font-size=\"10.00\" stroke=\"none\" text-anchor=\"middle\" transform=\"translate(50.1,407.9)\">\n",
       "\t\t<text><tspan font-family=\"Arial\">-1</tspan></text>\n",
       "\t</g>\n",
       "</g>\n",
       "<g color=\"black\" fill=\"none\" stroke=\"currentColor\" stroke-linecap=\"butt\" stroke-linejoin=\"miter\" stroke-width=\"1.00\">\n",
       "\t<path d=\"M169.9,392.6 L169.9,384.2 M169.9,14.7 L169.9,23.1  \" stroke=\"rgb(  0,   0,   0)\"/>\t<g fill=\"rgb(38,38,38)\" font-family=\"Arial\" font-size=\"10.00\" stroke=\"none\" text-anchor=\"middle\" transform=\"translate(169.9,407.9)\">\n",
       "\t\t<text><tspan font-family=\"Arial\">-0.5</tspan></text>\n",
       "\t</g>\n",
       "</g>\n",
       "<g color=\"black\" fill=\"none\" stroke=\"currentColor\" stroke-linecap=\"butt\" stroke-linejoin=\"miter\" stroke-width=\"1.00\">\n",
       "\t<path d=\"M289.7,392.6 L289.7,384.2 M289.7,14.7 L289.7,23.1  \" stroke=\"rgb(  0,   0,   0)\"/>\t<g fill=\"rgb(38,38,38)\" font-family=\"Arial\" font-size=\"10.00\" stroke=\"none\" text-anchor=\"middle\" transform=\"translate(289.7,407.9)\">\n",
       "\t\t<text><tspan font-family=\"Arial\">0</tspan></text>\n",
       "\t</g>\n",
       "</g>\n",
       "<g color=\"black\" fill=\"none\" stroke=\"currentColor\" stroke-linecap=\"butt\" stroke-linejoin=\"miter\" stroke-width=\"1.00\">\n",
       "\t<path d=\"M409.5,392.6 L409.5,384.2 M409.5,14.7 L409.5,23.1  \" stroke=\"rgb(  0,   0,   0)\"/>\t<g fill=\"rgb(38,38,38)\" font-family=\"Arial\" font-size=\"10.00\" stroke=\"none\" text-anchor=\"middle\" transform=\"translate(409.5,407.9)\">\n",
       "\t\t<text><tspan font-family=\"Arial\">0.5</tspan></text>\n",
       "\t</g>\n",
       "</g>\n",
       "<g color=\"black\" fill=\"none\" stroke=\"currentColor\" stroke-linecap=\"butt\" stroke-linejoin=\"miter\" stroke-width=\"1.00\">\n",
       "\t<path d=\"M529.3,392.6 L529.3,384.2 M529.3,14.7 L529.3,23.1  \" stroke=\"rgb(  0,   0,   0)\"/>\t<g fill=\"rgb(38,38,38)\" font-family=\"Arial\" font-size=\"10.00\" stroke=\"none\" text-anchor=\"middle\" transform=\"translate(529.3,407.9)\">\n",
       "\t\t<text><tspan font-family=\"Arial\">1</tspan></text>\n",
       "\t</g>\n",
       "</g>\n",
       "<g color=\"black\" fill=\"none\" stroke=\"currentColor\" stroke-linecap=\"butt\" stroke-linejoin=\"miter\" stroke-width=\"1.00\">\n",
       "</g>\n",
       "<g color=\"black\" fill=\"none\" stroke=\"rgb(  0,   0,   0)\" stroke-linecap=\"butt\" stroke-linejoin=\"miter\" stroke-width=\"2.00\">\n",
       "</g>\n",
       "<g color=\"black\" fill=\"none\" stroke=\"currentColor\" stroke-linecap=\"butt\" stroke-linejoin=\"miter\" stroke-width=\"2.00\">\n",
       "</g>\n",
       "<g color=\"black\" fill=\"none\" stroke=\"black\" stroke-linecap=\"butt\" stroke-linejoin=\"miter\" stroke-width=\"0.50\">\n",
       "</g>\n",
       "<g color=\"black\" fill=\"none\" stroke=\"currentColor\" stroke-linecap=\"butt\" stroke-linejoin=\"miter\" stroke-width=\"0.50\">\n",
       "\t<path d=\"M50.1,392.6 L529.3,392.6  \" stroke=\"rgb( 38,  38,  38)\"/></g>\n",
       "<g color=\"black\" fill=\"none\" stroke=\"currentColor\" stroke-linecap=\"butt\" stroke-linejoin=\"miter\" stroke-width=\"0.50\">\n",
       "\t<path d=\"M50.1,14.7 L529.3,14.7  \" stroke=\"rgb( 38,  38,  38)\"/></g>\n",
       "<g color=\"black\" fill=\"none\" stroke=\"currentColor\" stroke-linecap=\"butt\" stroke-linejoin=\"miter\" stroke-width=\"0.50\">\n",
       "\t<path d=\"M50.1,392.6 L50.1,14.7  \" stroke=\"rgb( 38,  38,  38)\"/></g>\n",
       "<g color=\"black\" fill=\"none\" stroke=\"currentColor\" stroke-linecap=\"butt\" stroke-linejoin=\"miter\" stroke-width=\"0.50\">\n",
       "\t<path d=\"M529.3,392.6 L529.3,14.7  \" stroke=\"rgb( 38,  38,  38)\"/></g>\n",
       "<g color=\"black\" fill=\"none\" stroke=\"rgb( 38,  38,  38)\" stroke-linecap=\"butt\" stroke-linejoin=\"miter\" stroke-width=\"1.00\">\n",
       "</g>\n",
       "<g color=\"black\" fill=\"none\" stroke=\"currentColor\" stroke-linecap=\"butt\" stroke-linejoin=\"miter\" stroke-width=\"1.00\">\n",
       "</g>\n",
       "</g>\n",
       "</svg>"
      ],
      "text/plain": [
       "<IPython.core.display.SVG object>"
      ]
     },
     "metadata": {},
     "output_type": "display_data"
    }
   ],
   "source": [
    "[X, Y] = meshgrid(-1:.1:1,-1:.1:1);\n",
    "ff = matlabFunction(f)\n",
    "contourf(X, Y, ff(X,Y))\n",
    "axis equal\n",
    "hold on\n",
    "fg1 = matlabFunction(gradf(1)); % convert symbolic function to a MATLAB function\n",
    "fg2 = matlabFunction(gradf(2));\n",
    "quiver(X, Y, fg1(X), fg2(Y),'linewidth', 2, 'color', 'red');"
   ]
  },
  {
   "cell_type": "markdown",
   "metadata": {
    "hideCode": false,
    "hidePrompt": false,
    "slideshow": {
     "slide_type": "subslide"
    }
   },
   "source": [
    "### Derivatives of vector (matrix) valued functions\n",
    "\n",
    "The `diff` command can also take a symbolic vector (or matrix) as its input. In this case the differentiation is done element-by-element, eg."
   ]
  },
  {
   "cell_type": "code",
   "execution_count": 22,
   "metadata": {
    "hideCode": false,
    "hidePrompt": false
   },
   "outputs": [
    {
     "name": "stdout",
     "output_type": "stream",
     "text": [
      "ans = (sym 2×2 matrix)\n",
      "\n",
      "  ⎡-a⋅sin(a⋅x)  a⋅cos(a⋅x) ⎤\n",
      "  ⎢                        ⎥\n",
      "  ⎣-a⋅cos(a⋅x)  -a⋅sin(a⋅x)⎦\n",
      "\n"
     ]
    }
   ],
   "source": [
    "syms a x\n",
    "A = [cos(a*x), sin(a*x); -sin(a*x), cos(a*x)];\n",
    "diff(A)"
   ]
  },
  {
   "cell_type": "markdown",
   "metadata": {
    "hideCode": false,
    "hidePrompt": false,
    "slideshow": {
     "slide_type": "subslide"
    }
   },
   "source": [
    "### Jacobian\n",
    "\n",
    "You can also perform differentiation of a column vector with respect to a row vector. Consider the transformation from Euclidean $(x,y,z)$ to spherical ($(r, \\lambda, \\phi)$ coordinates as given by\n",
    "$$\n",
    "\\begin{cases}\n",
    "x = r \\cos\\lambda\\cos\\phi\\\\\n",
    "y = r \\cos\\lambda\\sin\\phi\\\\\n",
    "z = r \\sin\\lambda\n",
    "\\end{cases}\n",
    "$$\n",
    "Note that $\\lambda$ corresponds to elevation or latitude while $\\phi$ denotes azimuth or longitude.\n",
    "\n",
    "To calculate the Jacobian matrix $J$, of this transformation, use the `jacobian` command. The mathematical notation for $J$ is\n",
    "$$\n",
    "J = \\frac{\\partial(x,y,z)}{\\partial(r,\\lambda,\\phi)}\n",
    "$$\n"
   ]
  },
  {
   "cell_type": "markdown",
   "metadata": {
    "hideCode": false,
    "hidePrompt": false,
    "slideshow": {
     "slide_type": "subslide"
    }
   },
   "source": [
    "The commands"
   ]
  },
  {
   "cell_type": "code",
   "execution_count": 23,
   "metadata": {
    "hideCode": false,
    "hidePrompt": false
   },
   "outputs": [
    {
     "name": "stdout",
     "output_type": "stream",
     "text": [
      "x = (sym) r⋅cos(λ)⋅cos(φ)\n",
      "y = (sym) r⋅sin(φ)⋅cos(λ)\n",
      "z = (sym) r⋅sin(λ)\n",
      "J = (sym 3×3 matrix)\n",
      "\n",
      "  ⎡cos(λ)⋅cos(φ)  -r⋅sin(λ)⋅cos(φ)  -r⋅sin(φ)⋅cos(λ)⎤\n",
      "  ⎢                                                 ⎥\n",
      "  ⎢sin(φ)⋅cos(λ)  -r⋅sin(λ)⋅sin(φ)  r⋅cos(λ)⋅cos(φ) ⎥\n",
      "  ⎢                                                 ⎥\n",
      "  ⎣   sin(λ)          r⋅cos(λ)             0        ⎦\n",
      "\n"
     ]
    }
   ],
   "source": [
    "syms r lambda phi\n",
    "x = r*cos(lambda)*cos(phi)\n",
    "y = r*cos(lambda)*sin(phi)\n",
    "z = r*sin(lambda)\n",
    "J = jacobian([x;y;z],[r lambda phi])"
   ]
  },
  {
   "cell_type": "markdown",
   "metadata": {
    "hideCode": false,
    "hidePrompt": false
   },
   "source": [
    "return the Jacobian and the command"
   ]
  },
  {
   "cell_type": "code",
   "execution_count": 24,
   "metadata": {
    "hideCode": false,
    "hidePrompt": false
   },
   "outputs": [
    {
     "name": "stdout",
     "output_type": "stream",
     "text": [
      "detJ = (sym)\n",
      "\n",
      "    2       \n",
      "  -r ⋅cos(λ)\n",
      "\n"
     ]
    }
   ],
   "source": [
    "detJ = simplify(det(J))"
   ]
  },
  {
   "cell_type": "markdown",
   "metadata": {
    "hideCode": false,
    "hidePrompt": false
   },
   "source": [
    "returns its determinant."
   ]
  },
  {
   "cell_type": "markdown",
   "metadata": {
    "hideCode": false,
    "hidePrompt": false,
    "slideshow": {
     "slide_type": "subslide"
    }
   },
   "source": [
    "### Curl\n",
    "\n",
    "The curl of the vector field $\\bar v = \\begin{bmatrix} v_1(x,y,z)\\\\ v_2(x,y,z)\\\\ v_3(x,y,z)\\end{bmatrix}$ with respect to the vector $\\begin{bmatrix}x\\\\y\\\\z\\end{bmatrix}$ in Cartesian coordinates is the vector\n",
    "$$\n",
    "\\nabla \\times \\bar v = \\begin{bmatrix}\n",
    "\\frac{\\partial v_3}{\\partial y}-\\frac{\\partial v_2}{\\partial z}\\\\\n",
    "\\frac{\\partial v_1}{\\partial z}-\\frac{\\partial v_3}{\\partial x}\\\\\n",
    "\\frac{\\partial v_2}{\\partial x}-\\frac{\\partial v_1}{\\partial y}\n",
    "\\end{bmatrix}\n",
    "$$"
   ]
  },
  {
   "cell_type": "code",
   "execution_count": 25,
   "metadata": {
    "hideCode": false,
    "hidePrompt": false
   },
   "outputs": [
    {
     "name": "stdout",
     "output_type": "stream",
     "text": [
      "ans = (sym 3×1 matrix)\n",
      "\n",
      "  ⎡  2  3        3   ⎤\n",
      "  ⎢ x ⋅z  - 2⋅x⋅y ⋅z ⎥\n",
      "  ⎢                  ⎥\n",
      "  ⎢  3  2          3 ⎥\n",
      "  ⎢ x ⋅y  - 2⋅x⋅y⋅z  ⎥\n",
      "  ⎢                  ⎥\n",
      "  ⎢     3        3  2⎥\n",
      "  ⎣- 2⋅x ⋅y⋅z + y ⋅z ⎦\n",
      "\n"
     ]
    }
   ],
   "source": [
    "syms x y z\n",
    "curl([x^3*y^2*z; y^3*z^2*x; z^3*x^2*y], [x; y; z])"
   ]
  },
  {
   "cell_type": "markdown",
   "metadata": {
    "hideCode": false,
    "hidePrompt": false,
    "slideshow": {
     "slide_type": "subslide"
    }
   },
   "source": [
    "The curl of a vector field at a specified point indicates that an elementary paddle wheel placed in the point will start rotating yes or no:"
   ]
  },
  {
   "cell_type": "code",
   "execution_count": 26,
   "metadata": {
    "hideCode": false,
    "hidePrompt": false
   },
   "outputs": [
    {
     "name": "stdout",
     "output_type": "stream",
     "text": [
      "ans = (sym 3×1 matrix)\n",
      "\n",
      "  ⎡0 ⎤\n",
      "  ⎢  ⎥\n",
      "  ⎢0 ⎥\n",
      "  ⎢  ⎥\n",
      "  ⎣-2⎦\n",
      "\n"
     ]
    }
   ],
   "source": [
    "syms x y z\n",
    "v = [y; -x; 0];\n",
    "curl(v, [x; y; z])"
   ]
  },
  {
   "cell_type": "code",
   "execution_count": 27,
   "metadata": {
    "hideCode": false,
    "hidePrompt": false
   },
   "outputs": [
    {
     "data": {
      "image/svg+xml": [
       "<svg height=\"420px\" viewBox=\"0 0 560 420\" width=\"560px\" xmlns=\"http://www.w3.org/2000/svg\" xmlns:xlink=\"http://www.w3.org/1999/xlink\">\n",
       "\n",
       "<title>Gnuplot</title>\n",
       "<desc>Produced by GNUPLOT 5.0 patchlevel 6 </desc>\n",
       "\n",
       "<g id=\"gnuplot_canvas\">\n",
       "\n",
       "<rect fill=\"#ffffff\" height=\"420\" width=\"560\" x=\"0\" y=\"0\"/>\n",
       "<defs>\n",
       "\n",
       "\t<circle id=\"gpDot\" r=\"0.5\" stroke-width=\"0.5\"/>\n",
       "\t<path d=\"M-1,0 h2 M0,-1 v2\" id=\"gpPt0\" stroke=\"currentColor\" stroke-width=\"0.333\"/>\n",
       "\t<path d=\"M-1,-1 L1,1 M1,-1 L-1,1\" id=\"gpPt1\" stroke=\"currentColor\" stroke-width=\"0.333\"/>\n",
       "\t<path d=\"M-1,0 L1,0 M0,-1 L0,1 M-1,-1 L1,1 M-1,1 L1,-1\" id=\"gpPt2\" stroke=\"currentColor\" stroke-width=\"0.333\"/>\n",
       "\t<rect height=\"2\" id=\"gpPt3\" stroke=\"currentColor\" stroke-width=\"0.333\" width=\"2\" x=\"-1\" y=\"-1\"/>\n",
       "\t<rect fill=\"currentColor\" height=\"2\" id=\"gpPt4\" stroke=\"currentColor\" stroke-width=\"0.333\" width=\"2\" x=\"-1\" y=\"-1\"/>\n",
       "\t<circle cx=\"0\" cy=\"0\" id=\"gpPt5\" r=\"1\" stroke=\"currentColor\" stroke-width=\"0.333\"/>\n",
       "\t<use fill=\"currentColor\" id=\"gpPt6\" stroke=\"none\" xlink:href=\"#gpPt5\"/>\n",
       "\t<path d=\"M0,-1.33 L-1.33,0.67 L1.33,0.67 z\" id=\"gpPt7\" stroke=\"currentColor\" stroke-width=\"0.333\"/>\n",
       "\t<use fill=\"currentColor\" id=\"gpPt8\" stroke=\"none\" xlink:href=\"#gpPt7\"/>\n",
       "\t<use id=\"gpPt9\" stroke=\"currentColor\" transform=\"rotate(180)\" xlink:href=\"#gpPt7\"/>\n",
       "\t<use fill=\"currentColor\" id=\"gpPt10\" stroke=\"none\" xlink:href=\"#gpPt9\"/>\n",
       "\t<use id=\"gpPt11\" stroke=\"currentColor\" transform=\"rotate(45)\" xlink:href=\"#gpPt3\"/>\n",
       "\t<use fill=\"currentColor\" id=\"gpPt12\" stroke=\"none\" xlink:href=\"#gpPt11\"/>\n",
       "\t<path d=\"M0,1.330 L1.265,0.411 L0.782,-1.067 L-0.782,-1.076 L-1.265,0.411 z\" id=\"gpPt13\" stroke=\"currentColor\" stroke-width=\"0.333\"/>\n",
       "\t<use fill=\"currentColor\" id=\"gpPt14\" stroke=\"none\" xlink:href=\"#gpPt13\"/>\n",
       "\t<filter filterUnits=\"objectBoundingBox\" height=\"1\" id=\"textbox\" width=\"1\" x=\"0\" y=\"0\">\n",
       "\t  <feFlood flood-color=\"#FFFFFF\" flood-opacity=\"1\" result=\"bgnd\"/>\n",
       "\t  <feComposite in=\"SourceGraphic\" in2=\"bgnd\" operator=\"atop\"/>\n",
       "\t</filter>\n",
       "\t<filter filterUnits=\"objectBoundingBox\" height=\"1\" id=\"greybox\" width=\"1\" x=\"0\" y=\"0\">\n",
       "\t  <feFlood flood-color=\"lightgrey\" flood-opacity=\"1\" result=\"grey\"/>\n",
       "\t  <feComposite in=\"SourceGraphic\" in2=\"grey\" operator=\"atop\"/>\n",
       "\t</filter>\n",
       "</defs>\n",
       "<g color=\"#FFFFFF\" fill=\"none\" stroke=\"currentColor\" stroke-linecap=\"butt\" stroke-linejoin=\"miter\" stroke-width=\"1.00\">\n",
       "</g>\n",
       "<g color=\"black\" fill=\"none\" stroke=\"currentColor\" stroke-linecap=\"butt\" stroke-linejoin=\"miter\" stroke-width=\"1.00\">\n",
       "\t<g shape-rendering=\"crispEdges\" stroke=\"none\">\n",
       "\t\t<polygon fill=\"rgb(255, 255, 255)\" points=\"40.2,396.0 527.9,396.0 527.9,11.4 40.2,11.4 \"/>\n",
       "\t</g>\n",
       "</g>\n",
       "<g color=\"black\" fill=\"none\" stroke=\"currentColor\" stroke-linecap=\"butt\" stroke-linejoin=\"miter\" stroke-width=\"1.00\">\n",
       "\t<path d=\"M40.2,345.4 L48.6,345.4 M528.0,345.4 L519.6,345.4  \" stroke=\"rgb(  0,   0,   0)\"/>\t<g fill=\"rgb(38,38,38)\" font-family=\"Arial\" font-size=\"10.00\" stroke=\"none\" text-anchor=\"end\" transform=\"translate(34.6,348.7)\">\n",
       "\t\t<text><tspan font-family=\"Arial\">-4</tspan></text>\n",
       "\t</g>\n",
       "</g>\n",
       "<g color=\"black\" fill=\"none\" stroke=\"currentColor\" stroke-linecap=\"butt\" stroke-linejoin=\"miter\" stroke-width=\"1.00\">\n",
       "\t<path d=\"M40.2,274.5 L48.6,274.5 M528.0,274.5 L519.6,274.5  \" stroke=\"rgb(  0,   0,   0)\"/>\t<g fill=\"rgb(38,38,38)\" font-family=\"Arial\" font-size=\"10.00\" stroke=\"none\" text-anchor=\"end\" transform=\"translate(34.6,277.8)\">\n",
       "\t\t<text><tspan font-family=\"Arial\">-2</tspan></text>\n",
       "\t</g>\n",
       "</g>\n",
       "<g color=\"black\" fill=\"none\" stroke=\"currentColor\" stroke-linecap=\"butt\" stroke-linejoin=\"miter\" stroke-width=\"1.00\">\n",
       "\t<path d=\"M40.2,203.6 L48.6,203.6 M528.0,203.6 L519.6,203.6  \" stroke=\"rgb(  0,   0,   0)\"/>\t<g fill=\"rgb(38,38,38)\" font-family=\"Arial\" font-size=\"10.00\" stroke=\"none\" text-anchor=\"end\" transform=\"translate(34.6,206.9)\">\n",
       "\t\t<text><tspan font-family=\"Arial\">0</tspan></text>\n",
       "\t</g>\n",
       "</g>\n",
       "<g color=\"black\" fill=\"none\" stroke=\"currentColor\" stroke-linecap=\"butt\" stroke-linejoin=\"miter\" stroke-width=\"1.00\">\n",
       "\t<path d=\"M40.2,132.8 L48.6,132.8 M528.0,132.8 L519.6,132.8  \" stroke=\"rgb(  0,   0,   0)\"/>\t<g fill=\"rgb(38,38,38)\" font-family=\"Arial\" font-size=\"10.00\" stroke=\"none\" text-anchor=\"end\" transform=\"translate(34.6,136.1)\">\n",
       "\t\t<text><tspan font-family=\"Arial\">2</tspan></text>\n",
       "\t</g>\n",
       "</g>\n",
       "<g color=\"black\" fill=\"none\" stroke=\"currentColor\" stroke-linecap=\"butt\" stroke-linejoin=\"miter\" stroke-width=\"1.00\">\n",
       "\t<path d=\"M40.2,61.9 L48.6,61.9 M528.0,61.9 L519.6,61.9  \" stroke=\"rgb(  0,   0,   0)\"/>\t<g fill=\"rgb(38,38,38)\" font-family=\"Arial\" font-size=\"10.00\" stroke=\"none\" text-anchor=\"end\" transform=\"translate(34.6,65.2)\">\n",
       "\t\t<text><tspan font-family=\"Arial\">4</tspan></text>\n",
       "\t</g>\n",
       "</g>\n",
       "<g color=\"black\" fill=\"none\" stroke=\"currentColor\" stroke-linecap=\"butt\" stroke-linejoin=\"miter\" stroke-width=\"1.00\">\n",
       "\t<path d=\"M71.5,396.0 L71.5,387.6 M71.5,11.3 L71.5,19.7  \" stroke=\"rgb(  0,   0,   0)\"/>\t<g fill=\"rgb(38,38,38)\" font-family=\"Arial\" font-size=\"10.00\" stroke=\"none\" text-anchor=\"middle\" transform=\"translate(71.5,411.3)\">\n",
       "\t\t<text><tspan font-family=\"Arial\">-6</tspan></text>\n",
       "\t</g>\n",
       "</g>\n",
       "<g color=\"black\" fill=\"none\" stroke=\"currentColor\" stroke-linecap=\"butt\" stroke-linejoin=\"miter\" stroke-width=\"1.00\">\n",
       "\t<path d=\"M142.4,396.0 L142.4,387.6 M142.4,11.3 L142.4,19.7  \" stroke=\"rgb(  0,   0,   0)\"/>\t<g fill=\"rgb(38,38,38)\" font-family=\"Arial\" font-size=\"10.00\" stroke=\"none\" text-anchor=\"middle\" transform=\"translate(142.4,411.3)\">\n",
       "\t\t<text><tspan font-family=\"Arial\">-4</tspan></text>\n",
       "\t</g>\n",
       "</g>\n",
       "<g color=\"black\" fill=\"none\" stroke=\"currentColor\" stroke-linecap=\"butt\" stroke-linejoin=\"miter\" stroke-width=\"1.00\">\n",
       "\t<path d=\"M213.2,396.0 L213.2,387.6 M213.2,11.3 L213.2,19.7  \" stroke=\"rgb(  0,   0,   0)\"/>\t<g fill=\"rgb(38,38,38)\" font-family=\"Arial\" font-size=\"10.00\" stroke=\"none\" text-anchor=\"middle\" transform=\"translate(213.2,411.3)\">\n",
       "\t\t<text><tspan font-family=\"Arial\">-2</tspan></text>\n",
       "\t</g>\n",
       "</g>\n",
       "<g color=\"black\" fill=\"none\" stroke=\"currentColor\" stroke-linecap=\"butt\" stroke-linejoin=\"miter\" stroke-width=\"1.00\">\n",
       "\t<path d=\"M284.1,396.0 L284.1,387.6 M284.1,11.3 L284.1,19.7  \" stroke=\"rgb(  0,   0,   0)\"/>\t<g fill=\"rgb(38,38,38)\" font-family=\"Arial\" font-size=\"10.00\" stroke=\"none\" text-anchor=\"middle\" transform=\"translate(284.1,411.3)\">\n",
       "\t\t<text><tspan font-family=\"Arial\">0</tspan></text>\n",
       "\t</g>\n",
       "</g>\n",
       "<g color=\"black\" fill=\"none\" stroke=\"currentColor\" stroke-linecap=\"butt\" stroke-linejoin=\"miter\" stroke-width=\"1.00\">\n",
       "\t<path d=\"M355.0,396.0 L355.0,387.6 M355.0,11.3 L355.0,19.7  \" stroke=\"rgb(  0,   0,   0)\"/>\t<g fill=\"rgb(38,38,38)\" font-family=\"Arial\" font-size=\"10.00\" stroke=\"none\" text-anchor=\"middle\" transform=\"translate(355.0,411.3)\">\n",
       "\t\t<text><tspan font-family=\"Arial\">2</tspan></text>\n",
       "\t</g>\n",
       "</g>\n",
       "<g color=\"black\" fill=\"none\" stroke=\"currentColor\" stroke-linecap=\"butt\" stroke-linejoin=\"miter\" stroke-width=\"1.00\">\n",
       "\t<path d=\"M425.8,396.0 L425.8,387.6 M425.8,11.3 L425.8,19.7  \" stroke=\"rgb(  0,   0,   0)\"/>\t<g fill=\"rgb(38,38,38)\" font-family=\"Arial\" font-size=\"10.00\" stroke=\"none\" text-anchor=\"middle\" transform=\"translate(425.8,411.3)\">\n",
       "\t\t<text><tspan font-family=\"Arial\">4</tspan></text>\n",
       "\t</g>\n",
       "</g>\n",
       "<g color=\"black\" fill=\"none\" stroke=\"currentColor\" stroke-linecap=\"butt\" stroke-linejoin=\"miter\" stroke-width=\"1.00\">\n",
       "\t<path d=\"M496.7,396.0 L496.7,387.6 M496.7,11.3 L496.7,19.7  \" stroke=\"rgb(  0,   0,   0)\"/>\t<g fill=\"rgb(38,38,38)\" font-family=\"Arial\" font-size=\"10.00\" stroke=\"none\" text-anchor=\"middle\" transform=\"translate(496.7,411.3)\">\n",
       "\t\t<text><tspan font-family=\"Arial\">6</tspan></text>\n",
       "\t</g>\n",
       "</g>\n",
       "<g color=\"black\" fill=\"none\" stroke=\"currentColor\" stroke-linecap=\"butt\" stroke-linejoin=\"miter\" stroke-width=\"1.00\">\n",
       "</g>\n",
       "<g color=\"black\" fill=\"none\" stroke=\"currentColor\" stroke-linecap=\"butt\" stroke-linejoin=\"miter\" stroke-width=\"1.00\">\n",
       "</g>\n",
       "\t<g id=\"gnuplot_plot_1a\"><title>gnuplot_plot_1a</title>\n",
       "<g color=\"#FFFFFF\" fill=\"none\" stroke=\"rgb(  0,   0,   0)\" stroke-linecap=\"butt\" stroke-linejoin=\"miter\" stroke-width=\"2.00\">\n",
       "</g>\n",
       "<g color=\"black\" fill=\"none\" stroke=\"currentColor\" stroke-linecap=\"butt\" stroke-linejoin=\"miter\" stroke-width=\"2.00\">\n",
       "\t<path d=\"M106.9,380.8 L91.7,365.6 M106.9,363.1 L93.3,347.9 M106.9,345.4 L94.8,330.2 M106.9,327.7 L96.3,312.5   M106.9,309.9 L97.8,294.8 M106.9,292.2 L99.3,277.0 M106.9,274.5 L100.8,259.3 M106.9,256.8 L102.4,241.6   M106.9,239.1 L103.9,223.9 M106.9,221.4 L105.4,206.2 M106.9,203.6 L106.9,188.5 M106.9,185.9 L108.4,170.7   M106.9,168.2 L110.0,153.0 M106.9,150.5 L111.5,135.3 M106.9,132.8 L113.0,117.6 M106.9,115.1 L114.5,99.9   M106.9,97.4 L116.0,82.2 M106.9,79.6 L117.6,64.4 M106.9,61.9 L119.1,46.7 M106.9,44.2 L120.6,29.0   M106.9,26.5 L122.1,11.3 M124.6,380.8 L109.5,367.1 M124.6,363.1 L111.0,349.4 M124.6,345.4 L112.5,331.7   M124.6,327.7 L114.0,314.0 M124.6,309.9 L115.5,296.3 M124.6,292.2 L117.0,278.6 M124.6,274.5 L118.6,260.8   M124.6,256.8 L120.1,243.1 M124.6,239.1 L121.6,225.4 M124.6,221.4 L123.1,207.7 M124.6,203.6 L124.6,190.0   M124.6,185.9 L126.2,172.3 M124.6,168.2 L127.7,154.6 M124.6,150.5 L129.2,136.8 M124.6,132.8 L130.7,119.1   M124.6,115.1 L132.2,101.4 M124.6,97.4 L133.8,83.7 M124.6,79.6 L135.3,66.0 M124.6,61.9 L136.8,48.3   M124.6,44.2 L138.3,30.5 M124.6,26.5 L139.8,12.8 M142.4,380.8 L127.2,368.7 M142.4,363.1 L128.7,350.9   M142.4,345.4 L130.2,333.2 M142.4,327.7 L131.7,315.5 M142.4,309.9 L133.2,297.8 M142.4,292.2 L134.8,280.1   M142.4,274.5 L136.3,262.4 M142.4,256.8 L137.8,244.7 M142.4,239.1 L139.3,226.9 M142.4,221.4 L140.8,209.2   M142.4,203.6 L142.4,191.5 M142.4,185.9 L143.9,173.8 M142.4,168.2 L145.4,156.1 M142.4,150.5 L146.9,138.4   M142.4,132.8 L148.4,120.6 M142.4,115.1 L149.9,102.9 M142.4,97.4 L151.5,85.2 M142.4,79.6 L153.0,67.5   M142.4,61.9 L154.5,49.8 M142.4,44.2 L156.0,32.1 M142.4,26.5 L157.5,14.3 M160.1,380.8 L144.9,370.2   M160.1,363.1 L146.4,352.5 M160.1,345.4 L147.9,334.8 M160.1,327.7 L149.4,317.0 M160.1,309.9 L151.0,299.3   M160.1,292.2 L152.5,281.6 M160.1,274.5 L154.0,263.9 M160.1,256.8 L155.5,246.2 M160.1,239.1 L157.0,228.5   M160.1,221.4 L158.6,210.7 M160.1,203.6 L160.1,193.0 M160.1,185.9 L161.6,175.3 M160.1,168.2 L163.1,157.6   M160.1,150.5 L164.6,139.9 M160.1,132.8 L166.1,122.2 M160.1,115.1 L167.7,104.4 M160.1,97.4 L169.2,86.7   M160.1,79.6 L170.7,69.0 M160.1,61.9 L172.2,51.3 M160.1,44.2 L173.7,33.6 M160.1,26.5 L175.3,15.9   M177.8,380.8 L162.6,371.7 M177.8,363.1 L164.1,354.0 M177.8,345.4 L165.6,336.3 M177.8,327.7 L167.2,318.6   M177.8,309.9 L168.7,300.8 M177.8,292.2 L170.2,283.1 M177.8,274.5 L171.7,265.4 M177.8,256.8 L173.2,247.7   M177.8,239.1 L174.8,230.0 M177.8,221.4 L176.3,212.3 M177.8,203.6 L177.8,194.5 M177.8,185.9 L179.3,176.8   M177.8,168.2 L180.8,159.1 M177.8,150.5 L182.3,141.4 M177.8,132.8 L183.9,123.7 M177.8,115.1 L185.4,106.0   M177.8,97.4 L186.9,88.2 M177.8,79.6 L188.4,70.5 M177.8,61.9 L189.9,52.8 M177.8,44.2 L191.5,35.1   M177.8,26.5 L193.0,17.4 M195.5,380.8 L180.3,373.2 M195.5,363.1 L181.8,355.5 M195.5,345.4 L183.4,337.8   M195.5,327.7 L184.9,320.1 M195.5,309.9 L186.4,302.4 M195.5,292.2 L187.9,284.6 M195.5,274.5 L189.4,266.9   M195.5,256.8 L191.0,249.2 M195.5,239.1 L192.5,231.5 M195.5,221.4 L194.0,213.8 M195.5,203.6 L195.5,196.1   M195.5,185.9 L197.0,178.3 M195.5,168.2 L198.5,160.6 M195.5,150.5 L200.1,142.9 M195.5,132.8 L201.6,125.2   M195.5,115.1 L203.1,107.5 M195.5,97.4 L204.6,89.8 M195.5,79.6 L206.1,72.0 M195.5,61.9 L207.7,54.3   M195.5,44.2 L209.2,36.6 M195.5,26.5 L210.7,18.9 M213.2,380.8 L198.0,374.7 M213.2,363.1 L199.6,357.0   M213.2,345.4 L201.1,339.3 M213.2,327.7 L202.6,321.6 M213.2,309.9 L204.1,303.9 M213.2,292.2 L205.6,286.2   M213.2,274.5 L207.2,268.4 M213.2,256.8 L208.7,250.7 M213.2,239.1 L210.2,233.0 M213.2,221.4 L211.7,215.3   M213.2,203.6 L213.2,197.6 M213.2,185.9 L214.7,179.9 M213.2,168.2 L216.3,162.1 M213.2,150.5 L217.8,144.4   M213.2,132.8 L219.3,126.7 M213.2,115.1 L220.8,109.0 M213.2,97.4 L222.3,91.3 M213.2,79.6 L223.9,73.6   M213.2,61.9 L225.4,55.8 M213.2,44.2 L226.9,38.1 M213.2,26.5 L228.4,20.4 M230.9,380.8 L215.8,376.3   M230.9,363.1 L217.3,358.5 M230.9,345.4 L218.8,340.8 M230.9,327.7 L220.3,323.1 M230.9,309.9 L221.8,305.4   M230.9,292.2 L223.4,287.7 M230.9,274.5 L224.9,270.0 M230.9,256.8 L226.4,252.2 M230.9,239.1 L227.9,234.5   M230.9,221.4 L229.4,216.8 M230.9,203.6 L230.9,199.1 M230.9,185.9 L232.5,181.4 M230.9,168.2 L234.0,163.7   M230.9,150.5 L235.5,145.9 M230.9,132.8 L237.0,128.2 M230.9,115.1 L238.5,110.5 M230.9,97.4 L240.1,92.8   M230.9,79.6 L241.6,75.1 M230.9,61.9 L243.1,57.4 M230.9,44.2 L244.6,39.6 M230.9,26.5 L246.1,21.9   M248.7,380.8 L233.5,377.8 M248.7,363.1 L235.0,360.1 M248.7,345.4 L236.5,342.3 M248.7,327.7 L238.0,324.6   M248.7,309.9 L239.6,306.9 M248.7,292.2 L241.1,289.2 M248.7,274.5 L242.6,271.5 M248.7,256.8 L244.1,253.8   M248.7,239.1 L245.6,236.0 M248.7,221.4 L247.1,218.3 M248.7,203.6 L248.7,200.6 M248.7,185.9 L250.2,182.9   M248.7,168.2 L251.7,165.2 M248.7,150.5 L253.2,147.5 M248.7,132.8 L254.7,129.7 M248.7,115.1 L256.3,112.0   M248.7,97.4 L257.8,94.3 M248.7,79.6 L259.3,76.6 M248.7,61.9 L260.8,58.9 M248.7,44.2 L262.3,41.2   M248.7,26.5 L263.9,23.4 M266.4,380.8 L251.2,379.3 M266.4,363.1 L252.7,361.6 M266.4,345.4 L254.2,343.9   M266.4,327.7 L255.8,326.1 M266.4,309.9 L257.3,308.4 M266.4,292.2 L258.8,290.7 M266.4,274.5 L260.3,273.0   M266.4,256.8 L261.8,255.3 M266.4,239.1 L263.3,237.6 M266.4,221.4 L264.9,219.8 M266.4,203.6 L266.4,202.1   M266.4,185.9 L267.9,184.4 M266.4,168.2 L269.4,166.7 M266.4,150.5 L270.9,149.0 M266.4,132.8 L272.5,131.3   M266.4,115.1 L274.0,113.5 M266.4,97.4 L275.5,95.8 M266.4,79.6 L277.0,78.1 M266.4,61.9 L278.5,60.4   M266.4,44.2 L280.1,42.7 M266.4,26.5 L281.6,25.0 M284.1,380.8 L268.9,380.8 M284.1,363.1 L270.4,363.1   M284.1,345.4 L272.0,345.4 M284.1,327.7 L273.5,327.7 M284.1,309.9 L275.0,309.9 M284.1,292.2 L276.5,292.2   M284.1,274.5 L278.0,274.5 M284.1,256.8 L279.5,256.8 M284.1,239.1 L281.1,239.1 M284.1,221.4 L282.6,221.4   M284.1,203.6 M284.1,185.9 L285.6,185.9 M284.1,168.2 L287.1,168.2 M284.1,150.5 L288.7,150.5 M284.1,132.8   L290.2,132.8 M284.1,115.1 L291.7,115.1 M284.1,97.4 L293.2,97.4 M284.1,79.6 L294.7,79.6 M284.1,61.9   L296.2,61.9 M284.1,44.2 L297.8,44.2 M284.1,26.5 L299.3,26.5 M301.8,380.8 L286.6,382.3 M301.8,363.1   L288.1,364.6 M301.8,345.4 L289.7,346.9 M301.8,327.7 L291.2,329.2 M301.8,309.9 L292.7,311.5 M301.8,292.2   L294.2,293.8 M301.8,274.5 L295.7,276.0 M301.8,256.8 L297.3,258.3 M301.8,239.1 L298.8,240.6 M301.8,221.4   L300.3,222.9 M301.8,203.6 L301.8,205.2 M301.8,185.9 L303.3,187.5 M301.8,168.2 L304.9,169.7 M301.8,150.5   L306.4,152.0 M301.8,132.8 L307.9,134.3 M301.8,115.1 L309.4,116.6 M301.8,97.4 L310.9,98.9 M301.8,79.6   L312.4,81.2 M301.8,61.9 L314.0,63.4 M301.8,44.2 L315.5,45.7 M301.8,26.5 L317.0,28.0 M319.5,380.8   L304.3,383.9 M319.5,363.1 L305.9,366.1 M319.5,345.4 L307.4,348.4 M319.5,327.7 L308.9,330.7 M319.5,309.9   L310.4,313.0  \" stroke=\"rgb(  0, 114, 189)\"/>\t<path d=\"M319.5,292.2 L311.9,295.3 M319.5,274.5 L313.5,277.6 M319.5,256.8 L315.0,259.8 M319.5,239.1 L316.5,242.1   M319.5,221.4 L318.0,224.4 M319.5,203.6 L319.5,206.7 M319.5,185.9 L321.1,189.0 M319.5,168.2 L322.6,171.3   M319.5,150.5 L324.1,153.5 M319.5,132.8 L325.6,135.8 M319.5,115.1 L327.1,118.1 M319.5,97.4 L328.6,100.4   M319.5,79.6 L330.2,82.7 M319.5,61.9 L331.7,65.0 M319.5,44.2 L333.2,47.2 M319.5,26.5 L334.7,29.5   M337.3,380.8 L322.1,385.4 M337.3,363.1 L323.6,367.7 M337.3,345.4 L325.1,349.9 M337.3,327.7 L326.6,332.2   M337.3,309.9 L328.1,314.5 M337.3,292.2 L329.7,296.8 M337.3,274.5 L331.2,279.1 M337.3,256.8 L332.7,261.4   M337.3,239.1 L334.2,243.6 M337.3,221.4 L335.7,225.9 M337.3,203.6 L337.3,208.2 M337.3,185.9 L338.8,190.5   M337.3,168.2 L340.3,172.8 M337.3,150.5 L341.8,155.1 M337.3,132.8 L343.3,137.3 M337.3,115.1 L344.8,119.6   M337.3,97.4 L346.4,101.9 M337.3,79.6 L347.9,84.2 M337.3,61.9 L349.4,66.5 M337.3,44.2 L350.9,48.8   M337.3,26.5 L352.4,31.0 M355.0,380.8 L339.8,386.9 M355.0,363.1 L341.3,369.2 M355.0,345.4 L342.8,351.5   M355.0,327.7 L344.3,333.7 M355.0,309.9 L345.9,316.0 M355.0,292.2 L347.4,298.3 M355.0,274.5 L348.9,280.6   M355.0,256.8 L350.4,262.9 M355.0,239.1 L351.9,245.2 M355.0,221.4 L353.5,227.4 M355.0,203.6 L355.0,209.7   M355.0,185.9 L356.5,192.0 M355.0,168.2 L358.0,174.3 M355.0,150.5 L359.5,156.6 M355.0,132.8 L361.0,138.9   M355.0,115.1 L362.6,121.1 M355.0,97.4 L364.1,103.4 M355.0,79.6 L365.6,85.7 M355.0,61.9 L367.1,68.0   M355.0,44.2 L368.6,50.3 M355.0,26.5 L370.2,32.6 M372.7,380.8 L357.5,388.4 M372.7,363.1 L359.0,370.7   M372.7,345.4 L360.5,353.0 M372.7,327.7 L362.1,335.3 M372.7,309.9 L363.6,317.5 M372.7,292.2 L365.1,299.8   M372.7,274.5 L366.6,282.1 M372.7,256.8 L368.1,264.4 M372.7,239.1 L369.7,246.7 M372.7,221.4 L371.2,229.0   M372.7,203.6 L372.7,211.2 M372.7,185.9 L374.2,193.5 M372.7,168.2 L375.7,175.8 M372.7,150.5 L377.2,158.1   M372.7,132.8 L378.8,140.4 M372.7,115.1 L380.3,122.7 M372.7,97.4 L381.8,104.9 M372.7,79.6 L383.3,87.2   M372.7,61.9 L384.8,69.5 M372.7,44.2 L386.4,51.8 M372.7,26.5 L387.9,34.1 M390.4,380.8 L375.2,389.9   M390.4,363.1 L376.7,372.2 M390.4,345.4 L378.3,354.5 M390.4,327.7 L379.8,336.8 M390.4,309.9 L381.3,319.1   M390.4,292.2 L382.8,301.3 M390.4,274.5 L384.3,283.6 M390.4,256.8 L385.9,265.9 M390.4,239.1 L387.4,248.2   M390.4,221.4 L388.9,230.5 M390.4,203.6 L390.4,212.8 M390.4,185.9 L391.9,195.0 M390.4,168.2 L393.4,177.3   M390.4,150.5 L395.0,159.6 M390.4,132.8 L396.5,141.9 M390.4,115.1 L398.0,124.2 M390.4,97.4 L399.5,106.5   M390.4,79.6 L401.0,88.7 M390.4,61.9 L402.6,71.0 M390.4,44.2 L404.1,53.3 M390.4,26.5 L405.6,35.6   M408.1,380.8 L392.9,391.4 M408.1,363.1 L394.5,373.7 M408.1,345.4 L396.0,356.0 M408.1,327.7 L397.5,338.3   M408.1,309.9 L399.0,320.6 M408.1,292.2 L400.5,302.9 M408.1,274.5 L402.1,285.1 M408.1,256.8 L403.6,267.4   M408.1,239.1 L405.1,249.7 M408.1,221.4 L406.6,232.0 M408.1,203.6 L408.1,214.3 M408.1,185.9 L409.6,196.6   M408.1,168.2 L411.2,178.8 M408.1,150.5 L412.7,161.1 M408.1,132.8 L414.2,143.4 M408.1,115.1 L415.7,125.7   M408.1,97.4 L417.2,108.0 M408.1,79.6 L418.8,90.3 M408.1,61.9 L420.3,72.5 M408.1,44.2 L421.8,54.8   M408.1,26.5 L423.3,37.1 M425.8,380.8 L410.7,393.0 M425.8,363.1 L412.2,375.2 M425.8,345.4 L413.7,357.5   M425.8,327.7 L415.2,339.8 M425.8,309.9 L416.7,322.1 M425.8,292.2 L418.3,304.4 M425.8,274.5 L419.8,286.7   M425.8,256.8 L421.3,268.9 M425.8,239.1 L422.8,251.2 M425.8,221.4 L424.3,233.5 M425.8,203.6 L425.8,215.8   M425.8,185.9 L427.4,198.1 M425.8,168.2 L428.9,180.4 M425.8,150.5 L430.4,162.6 M425.8,132.8 L431.9,144.9   M425.8,115.1 L433.4,127.2 M425.8,97.4 L435.0,109.5 M425.8,79.6 L436.5,91.8 M425.8,61.9 L438.0,74.1   M425.8,44.2 L439.5,56.4 M425.8,26.5 L441.0,38.6 M443.6,380.8 L428.4,394.5 M443.6,363.1 L429.9,376.8   M443.6,345.4 L431.4,359.0 M443.6,327.7 L432.9,341.3 M443.6,309.9 L434.4,323.6 M443.6,292.2 L436.0,305.9   M443.6,274.5 L437.5,288.2 M443.6,256.8 L439.0,270.5 M443.6,239.1 L440.5,252.7 M443.6,221.4 L442.0,235.0   M443.6,203.6 L443.6,217.3 M443.6,185.9 L445.1,199.6 M443.6,168.2 L446.6,181.9 M443.6,150.5 L448.1,164.2   M443.6,132.8 L449.6,146.5 M443.6,115.1 L451.2,128.7 M443.6,97.4 L452.7,111.0 M443.6,79.6 L454.2,93.3   M443.6,61.9 L455.7,75.6 M443.6,44.2 L457.2,57.9 M443.6,26.5 L458.7,40.2 M461.3,380.8 L446.1,396.0   M461.3,363.1 L447.6,378.3 M461.3,345.4 L449.1,360.6 M461.3,327.7 L450.6,342.9 M461.3,309.9 L452.2,325.1   M461.3,292.2 L453.7,307.4 M461.3,274.5 L455.2,289.7 M461.3,256.8 L456.7,272.0 M461.3,239.1 L458.2,254.3   M461.3,221.4 L459.8,236.6 M461.3,203.6 L461.3,218.8 M461.3,185.9 L462.8,201.1 M461.3,168.2 L464.3,183.4   M461.3,150.5 L465.8,165.7 M461.3,132.8 L467.4,148.0 M461.3,115.1 L468.9,130.3 M461.3,97.4 L470.4,112.5   M461.3,79.6 L471.9,94.8 M461.3,61.9 L473.4,77.1 M461.3,44.2 L474.9,59.4 M461.3,26.5 L476.5,41.7    \" stroke=\"rgb(  0, 114, 189)\"/></g>\n",
       "\t</g>\n",
       "\t<g id=\"gnuplot_plot_2a\"><title>gnuplot_plot_2a</title>\n",
       "<g color=\"black\" fill=\"none\" stroke=\"currentColor\" stroke-linecap=\"butt\" stroke-linejoin=\"miter\" stroke-width=\"2.00\">\n",
       "\t<path d=\"M98.5,369.0 L91.7,365.6 L95.1,372.4 M99.5,351.5 L93.3,347.9 L96.1,354.5 M100.5,333.9 L94.8,330.2   L97.1,336.6 M101.5,316.4 L96.3,312.5 L98.1,318.7 M102.5,298.8 L97.8,294.8 L99.2,300.8 M103.5,281.3   L99.3,277.0 L100.2,283.0 M104.6,263.7 L100.8,259.3 L101.2,265.1 M105.6,246.2 L102.4,241.6 L102.2,247.2   M106.6,228.6 L103.9,223.9 L103.2,229.3 M107.6,211.1 L105.4,206.2 L104.2,211.4 M108.6,193.5 L106.9,188.5   L105.2,193.5 M109.6,176.0 L108.4,170.7 L106.2,175.6 M110.6,158.4 L110.0,153.0 L107.3,157.8 M111.6,140.9   L111.5,135.3 L108.3,139.9 M112.7,123.3 L113.0,117.6 L109.3,122.0 M113.7,105.8 L114.5,99.9 L110.3,104.1   M114.7,88.2 L116.0,82.2 L111.3,86.2 M115.7,70.7 L117.6,64.4 L112.3,68.3 M116.7,53.1 L119.1,46.7   L113.3,50.4 M117.7,35.6 L120.6,29.0 L114.3,32.6 M118.7,18.0 L122.1,11.3 L115.4,14.7 M116.0,370.0   L109.5,367.1 L113.0,373.4 M117.0,352.5 L111.0,349.4 L114.0,355.5 M118.1,334.9 L112.5,331.7 L115.0,337.6   M119.1,317.4 L114.0,314.0 L116.0,319.7 M120.1,299.8 L115.5,296.3 L117.0,301.8 M121.1,282.3 L117.0,278.6   L118.1,284.0 M122.1,264.7 L118.6,260.8 L119.1,266.1 M123.1,247.2 L120.1,243.1 L120.1,248.2 M124.1,229.6   L121.6,225.4 L121.1,230.3 M125.1,212.1 L123.1,207.7 L122.1,212.4 M126.2,194.5 L124.6,190.0 L123.1,194.5   M127.2,177.0 L126.2,172.3 L124.1,176.7 M128.2,159.4 L127.7,154.6 L125.1,158.8 M129.2,141.9 L129.2,136.8   L126.2,140.9 M130.2,124.3 L130.7,119.1 L127.2,123.0 M131.2,106.8 L132.2,101.4 L128.2,105.1 M132.2,89.3   L133.8,83.7 L129.2,87.2 M133.2,71.7 L135.3,66.0 L130.2,69.3 M134.3,54.2 L136.8,48.3 L131.2,51.5   M135.3,36.6 L138.3,30.5 L132.2,33.6 M136.3,19.1 L139.8,12.8 L133.2,15.7 M133.6,371.0 L127.2,368.7   L130.9,374.4 M134.6,353.5 L128.7,350.9 L131.9,356.5 M135.6,335.9 L130.2,333.2 L132.9,338.6 M136.6,318.4   L131.7,315.5 L133.9,320.7 M137.6,300.8 L133.2,297.8 L134.9,302.9 M138.6,283.3 L134.8,280.1 L135.9,285.0   M139.7,265.7 L136.3,262.4 L137.0,267.1 M140.7,248.2 L137.8,244.7 L138.0,249.2 M141.7,230.6 L139.3,226.9   L139.0,231.3 M142.7,213.1 L140.8,209.2 L140.0,213.4 M143.7,195.6 L142.4,191.5 L141.0,195.6 M144.7,178.0   L143.9,173.8 L142.0,177.7 M145.7,160.5 L145.4,156.1 L143.0,159.8 M146.7,142.9 L146.9,138.4 L144.0,141.9   M147.8,125.4 L148.4,120.6 L145.1,124.0 M148.8,107.8 L149.9,102.9 L146.1,106.1 M149.8,90.3 L151.5,85.2   L147.1,88.2 M150.8,72.7 L153.0,67.5 L148.1,70.4 M151.8,55.2 L154.5,49.8 L149.1,52.5 M152.8,37.6   L156.0,32.1 L150.1,34.6 M153.8,20.1 L157.5,14.3 L151.1,16.7 M151.1,372.0 L144.9,370.2 L148.8,375.4   M152.1,354.5 L146.4,352.5 L149.8,357.5 M153.2,336.9 L147.9,334.8 L150.8,339.6 M154.2,319.4 L149.4,317.0   L151.8,321.8 M155.2,301.8 L151.0,299.3 L152.8,303.9 M156.2,284.3 L152.5,281.6 L153.8,286.0 M157.2,266.8   L154.0,263.9 L154.8,268.1 M158.2,249.2 L155.5,246.2 L155.9,250.2 M159.2,231.7 L157.0,228.5 L156.9,232.3   M160.2,214.1 L158.6,210.7 L157.9,214.4 M161.3,196.6 L160.1,193.0 L158.9,196.6 M162.3,179.0 L161.6,175.3   L159.9,178.7 M163.3,161.5 L163.1,157.6 L160.9,160.8 M164.3,143.9 L164.6,139.9 L161.9,142.9 M165.3,126.4   L166.1,122.2 L162.9,125.0 M166.3,108.8 L167.7,104.4 L164.0,107.1 M167.3,91.3 L169.2,86.7 L165.0,89.3   M168.3,73.7 L170.7,69.0 L166.0,71.4 M169.4,56.2 L172.2,51.3 L167.0,53.5 M170.4,38.6 L173.7,33.6   L168.0,35.6 M171.4,21.1 L175.3,15.9 L169.0,17.7 M168.7,373.1 L162.6,371.7 L166.7,376.4 M169.7,355.5   L164.1,354.0 L167.7,358.5 M170.7,338.0 L165.6,336.3 L168.7,340.7 M171.7,320.4 L167.2,318.6 L169.7,322.8   M172.7,302.9 L168.7,300.8 L170.7,304.9 M173.7,285.3 L170.2,283.1 L171.7,287.0 M174.8,267.8 L171.7,265.4   L172.7,269.1 M175.8,250.2 L173.2,247.7 L173.7,251.2 M176.8,232.7 L174.8,230.0 L174.8,233.3 M177.8,215.1   L176.3,212.3 L175.8,215.5 M178.8,197.6 L177.8,194.5 L176.8,197.6 M179.8,180.0 L179.3,176.8 L177.8,179.7   M180.8,162.5 L180.8,159.1 L178.8,161.8 M181.8,144.9 L182.3,141.4 L179.8,143.9 M182.9,127.4 L183.9,123.7   L180.8,126.0 M183.9,109.8 L185.4,106.0 L181.8,108.1 M184.9,92.3 L186.9,88.2 L182.9,90.3 M185.9,74.7   L188.4,70.5 L183.9,72.4 M186.9,57.2 L189.9,52.8 L184.9,54.5 M187.9,39.6 L191.5,35.1 L185.9,36.6   M188.9,22.1 L193.0,17.4 L186.9,18.7 M186.2,374.1 L180.3,373.2 L184.5,377.4 M187.2,356.5 L181.8,355.5   L185.6,359.6 M188.3,339.0 L183.4,337.8 L186.6,341.7 M189.3,321.4 L184.9,320.1 L187.6,323.8 M190.3,303.9   L186.4,302.4 L188.6,305.9 M191.3,286.3 L187.9,284.6 L189.6,288.0 M192.3,268.8 L189.4,266.9 L190.6,270.1   M193.3,251.2 L191.0,249.2 L191.6,252.2 M194.3,233.7 L192.5,231.5 L192.6,234.4 M195.3,216.1 L194.0,213.8   L193.7,216.5 M196.4,198.6 L195.5,196.1 L194.7,198.6 M197.4,181.0 L197.0,178.3 L195.7,180.7 M198.4,163.5   L198.5,160.6 L196.7,162.8 M199.4,145.9 L200.1,142.9 L197.7,144.9 M200.4,128.4 L201.6,125.2 L198.7,127.0   M201.4,110.8 L203.1,107.5 L199.7,109.2 M202.4,93.3 L204.6,89.8 L200.7,91.3 M203.4,75.8 L206.1,72.0   L201.8,73.4 M204.5,58.2 L207.7,54.3 L202.8,55.5 M205.5,40.7 L209.2,36.6 L203.8,37.6 M206.5,23.1   L210.7,18.9 L204.8,19.7 M203.8,375.1 L198.0,374.7 L202.4,378.5 M204.8,357.5 L199.6,357.0 L203.4,360.6   M205.8,340.0 L201.1,339.3 L204.5,342.7 M206.8,322.4 L202.6,321.6 L205.5,324.8 M207.8,304.9 L204.1,303.9   L206.5,306.9 M208.8,287.3 L205.6,286.2 L207.5,289.0 M209.9,269.8 L207.2,268.4 L208.5,271.1 M210.9,252.2   L208.7,250.7 L209.5,253.3 M211.9,234.7 L210.2,233.0 L210.5,235.4 M212.9,217.1 L211.7,215.3 L211.5,217.5   M213.9,199.6 L213.2,197.6 L212.6,199.6 M214.9,182.1 L214.7,179.9 L213.6,181.7 M215.9,164.5 L216.3,162.1   L214.6,163.8 M216.9,147.0 L217.8,144.4 L215.6,145.9 M218.0,129.4 L219.3,126.7 L216.6,128.1 M219.0,111.9   L220.8,109.0 L217.6,110.2 M220.0,94.3 L222.3,91.3 L218.6,92.3 M221.0,76.8 L223.9,73.6 L219.6,74.4   M222.0,59.2 L225.4,55.8 L220.7,56.5 M223.0,41.7 L226.9,38.1 L221.7,38.6 M224.0,24.1 L228.4,20.4   L222.7,20.7 M221.3,376.1 L215.8,376.3 L220.3,379.5 M222.3,358.5 L217.3,358.5 L221.3,361.6 M223.4,341.0   L218.8,340.8 L222.3,343.7 M224.4,323.4 L220.3,323.1 L223.4,325.8 M225.4,305.9 L221.8,305.4 L224.4,307.9   M226.4,288.4 L223.4,287.7 L225.4,290.0 M227.4,270.8 L224.9,270.0 L226.4,272.2 M228.4,253.3 L226.4,252.2   L227.4,254.3 M229.4,235.7 L227.9,234.5 L228.4,236.4 M230.4,218.2 L229.4,216.8 L229.4,218.5 M231.5,200.6   L230.9,199.1 L230.4,200.6 M232.5,183.1 L232.5,181.4 L231.5,182.7 M233.5,165.5 L234.0,163.7 L232.5,164.8   M234.5,148.0 L235.5,145.9 L233.5,147.0 M235.5,130.4 L237.0,128.2 L234.5,129.1 M236.5,112.9 L238.5,110.5   L235.5,111.2 M237.5,95.3 L240.1,92.8 L236.5,93.3 M238.5,77.8 L241.6,75.1 L237.5,75.4 M239.6,60.2   L243.1,57.4 L238.5,57.5 M240.6,42.7 L244.6,39.6 L239.6,39.6 M241.6,25.1 L246.1,21.9 L240.6,21.8   M238.9,377.1 L233.5,377.8 L238.2,380.5 M239.9,359.6 L235.0,360.1 L239.2,362.6 M240.9,342.0 L236.5,342.3   L240.2,344.7  \" stroke=\"rgb(  0, 114, 189)\"/>\t<path d=\"M241.9,324.5 L238.0,324.6 L241.2,326.8 M242.9,306.9 L239.6,306.9 L242.3,308.9 M243.9,289.4 L241.1,289.2   L243.3,291.1 M245.0,271.8 L242.6,271.5 L244.3,273.2 M246.0,254.3 L244.1,253.8 L245.3,255.3 M247.0,236.7   L245.6,236.0 L246.3,237.4 M248.0,219.2 L247.1,218.3 L247.3,219.5 M249.0,201.6 L248.7,200.6 L248.3,201.6   M250.0,184.1 L250.2,182.9 L249.3,183.7 M251.0,166.5 L251.7,165.2 L250.4,165.9 M252.0,149.0 L253.2,147.5   L251.4,148.0 M253.1,131.4 L254.7,129.7 L252.4,130.1 M254.1,113.9 L256.3,112.0 L253.4,112.2 M255.1,96.3   L257.8,94.3 L254.4,94.3 M256.1,78.8 L259.3,76.6 L255.4,76.4 M257.1,61.2 L260.8,58.9 L256.4,58.5   M258.1,43.7 L262.3,41.2 L257.4,40.7 M259.1,26.1 L263.9,23.4 L258.5,22.8 M256.4,378.1 L251.2,379.3   L256.1,381.5 M257.4,360.6 L252.7,361.6 L257.1,363.6 M258.5,343.0 L254.2,343.9 L258.1,345.7 M259.5,325.5   L255.8,326.1 L259.1,327.8 M260.5,307.9 L257.3,308.4 L260.1,309.9 M261.5,290.4 L258.8,290.7 L261.2,292.1   M262.5,272.8 L260.3,273.0 L262.2,274.2 M263.5,255.3 L261.8,255.3 L263.2,256.3 M264.5,237.7 L263.3,237.6   L264.2,238.4 M265.5,220.2 L264.9,219.8 L265.2,220.5 M266.6,202.6 L266.4,202.1 L266.2,202.6 M267.6,185.1   L267.9,184.4 L267.2,184.8 M268.6,167.5 L269.4,166.7 L268.2,166.9 M269.6,150.0 L270.9,149.0 L269.3,149.0   M270.6,132.4 L272.5,131.3 L270.3,131.1 M271.6,114.9 L274.0,113.5 L271.3,113.2 M272.6,97.4 L275.5,95.8   L272.3,95.3 M273.6,79.8 L277.0,78.1 L273.3,77.4 M274.7,62.3 L278.5,60.4 L274.3,59.6 M275.7,44.7   L280.1,42.7 L275.3,41.7 M276.7,27.2 L281.6,25.0 L276.3,23.8 M274.0,379.1 L268.9,380.8 L274.0,382.5   M275.0,361.6 L270.4,363.1 L275.0,364.6 M276.0,344.0 L272.0,345.4 L276.0,346.7 M277.0,326.5 L273.5,327.7   L277.0,328.8 M278.0,308.9 L275.0,309.9 L278.0,311.0 M279.0,291.4 L276.5,292.2 L279.0,293.1 M280.1,273.8   L278.0,274.5 L280.1,275.2 M281.1,256.3 L279.5,256.8 L281.1,257.3 M282.1,238.7 L281.1,239.1 L282.1,239.4   M283.1,221.2 L282.6,221.4 L283.1,221.5 M284.1,203.6 M285.1,186.1 L285.6,185.9 L285.1,185.8 M286.1,168.6   L287.1,168.2 L286.1,167.9 M287.1,151.0 L288.7,150.5 L287.1,150.0 M288.1,133.5 L290.2,132.8 L288.1,132.1   M289.2,115.9 L291.7,115.1 L289.2,114.2 M290.2,98.4 L293.2,97.4 L290.2,96.3 M291.2,80.8 L294.7,79.6   L291.2,78.5 M292.2,63.3 L296.2,61.9 L292.2,60.6 M293.2,45.7 L297.8,44.2 L293.2,42.7 M294.2,28.2   L299.3,26.5 L294.2,24.8 M291.5,380.1 L286.6,382.3 L291.9,383.5 M292.5,362.6 L288.1,364.6 L292.9,365.6   M293.5,345.0 L289.7,346.9 L293.9,347.7 M294.6,327.5 L291.2,329.2 L294.9,329.9 M295.6,309.9 L292.7,311.5   L295.9,312.0 M296.6,292.4 L294.2,293.8 L296.9,294.1 M297.6,274.9 L295.7,276.0 L297.9,276.2 M298.6,257.3   L297.3,258.3 L298.9,258.3 M299.6,239.8 L298.8,240.6 L300.0,240.4 M300.6,222.2 L300.3,222.9 L301.0,222.5   M301.6,204.7 L301.8,205.2 L302.0,204.7 M302.7,187.1 L303.3,187.5 L303.0,186.8 M303.7,169.6 L304.9,169.7   L304.0,168.9 M304.7,152.0 L306.4,152.0 L305.0,151.0 M305.7,134.5 L307.9,134.3 L306.0,133.1 M306.7,116.9   L309.4,116.6 L307.0,115.2 M307.7,99.4 L310.9,98.9 L308.1,97.4 M308.7,81.8 L312.4,81.2 L309.1,79.5   M309.7,64.3 L314.0,63.4 L310.1,61.6 M310.8,46.7 L315.5,45.7 L311.1,43.7 M311.8,29.2 L317.0,28.0   L312.1,25.8 M309.1,381.2 L304.3,383.9 L309.7,384.5 M310.1,363.6 L305.9,366.1 L310.8,366.6 M311.1,346.1   L307.4,348.4 L311.8,348.8 M312.1,328.5 L308.9,330.7 L312.8,330.9 M313.1,311.0 L310.4,313.0 L313.8,313.0   M314.1,293.4 L311.9,295.3 L314.8,295.1 M315.1,275.9 L313.5,277.6 L315.8,277.2 M316.2,258.3 L315.0,259.8   L316.8,259.3 M317.2,240.8 L316.5,242.1 L317.8,241.4 M318.2,223.2 L318.0,224.4 L318.9,223.6 M319.2,205.7   L319.5,206.7 L319.9,205.7 M320.2,188.1 L321.1,189.0 L320.9,187.8 M321.2,170.6 L322.6,171.3 L321.9,169.9   M322.2,153.0 L324.1,153.5 L322.9,152.0 M323.2,135.5 L325.6,135.8 L323.9,134.1 M324.3,117.9 L327.1,118.1   L324.9,116.2 M325.3,100.4 L328.6,100.4 L325.9,98.4 M326.3,82.8 L330.2,82.7 L327.0,80.5 M327.3,65.3   L331.7,65.0 L328.0,62.6 M328.3,47.7 L333.2,47.2 L329.0,44.7 M329.3,30.2 L334.7,29.5 L330.0,26.8   M326.6,382.2 L322.1,385.4 L327.6,385.5 M327.6,364.6 L323.6,367.7 L328.6,367.7 M328.6,347.1 L325.1,349.9   L329.7,349.8 M329.7,329.5 L326.6,332.2 L330.7,331.9 M330.7,312.0 L328.1,314.5 L331.7,314.0 M331.7,294.4   L329.7,296.8 L332.7,296.1 M332.7,276.9 L331.2,279.1 L333.7,278.2 M333.7,259.3 L332.7,261.4 L334.7,260.3   M334.7,241.8 L334.2,243.6 L335.7,242.5 M335.7,224.2 L335.7,225.9 L336.7,224.6 M336.7,206.7 L337.3,208.2   L337.8,206.7 M337.8,189.1 L338.8,190.5 L338.8,188.8 M338.8,171.6 L340.3,172.8 L339.8,170.9 M339.8,154.0   L341.8,155.1 L340.8,153.0 M340.8,136.5 L343.3,137.3 L341.8,135.1 M341.8,118.9 L344.8,119.6 L342.8,117.3   M342.8,101.4 L346.4,101.9 L343.8,99.4 M343.8,83.9 L347.9,84.2 L344.8,81.5 M344.8,66.3 L349.4,66.5   L345.9,63.6 M345.9,48.8 L350.9,48.8 L346.9,45.7 M346.9,31.2 L352.4,31.0 L347.9,27.8 M344.2,383.2   L339.8,386.9 L345.5,386.6 M345.2,365.6 L341.3,369.2 L346.5,368.7 M346.2,348.1 L342.8,351.5 L347.5,350.8   M347.2,330.5 L344.3,333.7 L348.6,332.9 M348.2,313.0 L345.9,316.0 L349.6,315.0 M349.2,295.4 L347.4,298.3   L350.6,297.1 M350.2,277.9 L348.9,280.6 L351.6,279.2 M351.3,260.3 L350.4,262.9 L352.6,261.4 M352.3,242.8   L351.9,245.2 L353.6,243.5 M353.3,225.2 L353.5,227.4 L354.6,225.6 M354.3,207.7 L355.0,209.7 L355.6,207.7   M355.3,190.2 L356.5,192.0 L356.7,189.8 M356.3,172.6 L358.0,174.3 L357.7,171.9 M357.3,155.1 L359.5,156.6   L358.7,154.0 M358.3,137.5 L361.0,138.9 L359.7,136.2 M359.4,120.0 L362.6,121.1 L360.7,118.3 M360.4,102.4   L364.1,103.4 L361.7,100.4 M361.4,84.9 L365.6,85.7 L362.7,82.5 M362.4,67.3 L367.1,68.0 L363.7,64.6   M363.4,49.8 L368.6,50.3 L364.8,46.7 M364.4,32.2 L370.2,32.6 L365.8,28.8 M361.7,384.2 L357.5,388.4   L363.4,387.6 M362.7,366.6 L359.0,370.7 L364.4,369.7 M363.7,349.1 L360.5,353.0 L365.4,351.8 M364.8,331.5   L362.1,335.3 L366.4,333.9 M365.8,314.0 L363.6,317.5 L367.5,316.0 M366.8,296.5 L365.1,299.8 L368.5,298.1   M367.8,278.9 L366.6,282.1 L369.5,280.3 M368.8,261.4 L368.1,264.4 L370.5,262.4 M369.8,243.8 L369.7,246.7   L371.5,244.5 M370.8,226.3 L371.2,229.0 L372.5,226.6 M371.8,208.7 L372.7,211.2 L373.5,208.7 M372.9,191.2   L374.2,193.5 L374.5,190.8 M373.9,173.6 L375.7,175.8 L375.6,172.9 M374.9,156.1 L377.2,158.1 L376.6,155.1   M375.9,138.5 L378.8,140.4 L377.6,137.2 M376.9,121.0 L380.3,122.7 L378.6,119.3 M377.9,103.4 L381.8,104.9   L379.6,101.4 M378.9,85.9 L383.3,87.2 L380.6,83.5 M379.9,68.3 L384.8,69.5 L381.6,65.6 M381.0,50.8   L386.4,51.8 L382.6,47.7 M382.0,33.2 L387.9,34.1 L383.7,29.9 M379.3,385.2 L375.2,389.9 L381.3,388.6   M380.3,367.7 L376.7,372.2 L382.3,370.7 M381.3,350.1 L378.3,354.5 L383.3,352.8 M382.3,332.6 L379.8,336.8   L384.3,334.9 M383.3,315.0 L381.3,319.1 L385.3,317.0 M384.3,297.5 L382.8,301.3 L386.4,299.2 M385.3,279.9   L384.3,283.6 L387.4,281.3  \" stroke=\"rgb(  0, 114, 189)\"/>\t<path d=\"M386.4,262.4 L385.9,265.9 L388.4,263.4 M387.4,244.8 L387.4,248.2 L389.4,245.5 M388.4,227.3 L388.9,230.5   L390.4,227.6 M389.4,209.7 L390.4,212.8 L391.4,209.7 M390.4,192.2 L391.9,195.0 L392.4,191.8 M391.4,174.6   L393.4,177.3 L393.4,174.0 M392.4,157.1 L395.0,159.6 L394.5,156.1 M393.4,139.5 L396.5,141.9 L395.5,138.2   M394.5,122.0 L398.0,124.2 L396.5,120.3 M395.5,104.4 L399.5,106.5 L397.5,102.4 M396.5,86.9 L401.0,88.7   L398.5,84.5 M397.5,69.3 L402.6,71.0 L399.5,66.6 M398.5,51.8 L404.1,53.3 L400.5,48.8 M399.5,34.2   L405.6,35.6 L401.5,30.9 M396.8,386.2 L392.9,391.4 L399.2,389.6 M397.8,368.7 L394.5,373.7 L400.2,371.7   M398.8,351.1 L396.0,356.0 L401.2,353.8 M399.9,333.6 L397.5,338.3 L402.2,335.9 M400.9,316.0 L399.0,320.6   L403.2,318.0 M401.9,298.5 L400.5,302.9 L404.2,300.2 M402.9,280.9 L402.1,285.1 L405.3,282.3 M403.9,263.4   L403.6,267.4 L406.3,264.4 M404.9,245.8 L405.1,249.7 L407.3,246.5 M405.9,228.3 L406.6,232.0 L408.3,228.6   M406.9,210.7 L408.1,214.3 L409.3,210.7 M408.0,193.2 L409.6,196.6 L410.3,192.9 M409.0,175.6 L411.2,178.8   L411.3,175.0 M410.0,158.1 L412.7,161.1 L412.3,157.1 M411.0,140.5 L414.2,143.4 L413.4,139.2 M412.0,123.0   L415.7,125.7 L414.4,121.3 M413.0,105.5 L417.2,108.0 L415.4,103.4 M414.0,87.9 L418.8,90.3 L416.4,85.5   M415.0,70.4 L420.3,72.5 L417.4,67.7 M416.1,52.8 L421.8,54.8 L418.4,49.8 M417.1,35.3 L423.3,37.1   L419.4,31.9 M414.4,387.2 L410.7,393.0 L417.1,390.6 M415.4,369.7 L412.2,375.2 L418.1,372.7 M416.4,352.1   L413.7,357.5 L419.1,354.8 M417.4,334.6 L415.2,339.8 L420.1,336.9 M418.4,317.0 L416.7,322.1 L421.1,319.1   M419.4,299.5 L418.3,304.4 L422.1,301.2 M420.4,281.9 L419.8,286.7 L423.1,283.3 M421.5,264.4 L421.3,268.9   L424.2,265.4 M422.5,246.8 L422.8,251.2 L425.2,247.5 M423.5,229.3 L424.3,233.5 L426.2,229.6 M424.5,211.7   L425.8,215.8 L427.2,211.7 M425.5,194.2 L427.4,198.1 L428.2,193.9 M426.5,176.7 L428.9,180.4 L429.2,176.0   M427.5,159.1 L430.4,162.6 L430.2,158.1 M428.5,141.6 L431.9,144.9 L431.2,140.2 M429.6,124.0 L433.4,127.2   L432.3,122.3 M430.6,106.5 L435.0,109.5 L433.3,104.4 M431.6,88.9 L436.5,91.8 L434.3,86.6 M432.6,71.4   L438.0,74.1 L435.3,68.7 M433.6,53.8 L439.5,56.4 L436.3,50.8 M434.6,36.3 L441.0,38.6 L437.3,32.9   M431.9,388.2 L428.4,394.5 L435.0,391.6 M432.9,370.7 L429.9,376.8 L436.0,373.7 M433.9,353.1 L431.4,359.0   L437.0,355.8 M435.0,335.6 L432.9,341.3 L438.0,338.0 M436.0,318.0 L434.4,323.6 L439.0,320.1 M437.0,300.5   L436.0,305.9 L440.0,302.2 M438.0,283.0 L437.5,288.2 L441.0,284.3 M439.0,265.4 L439.0,270.5 L442.0,266.4   M440.0,247.9 L440.5,252.7 L443.1,248.5 M441.0,230.3 L442.0,235.0 L444.1,230.6 M442.0,212.8 L443.6,217.3   L445.1,212.8 M443.1,195.2 L445.1,199.6 L446.1,194.9 M444.1,177.7 L446.6,181.9 L447.1,177.0 M445.1,160.1   L448.1,164.2 L448.1,159.1 M446.1,142.6 L449.6,146.5 L449.1,141.2 M447.1,125.0 L451.2,128.7 L450.1,123.3   M448.1,107.5 L452.7,111.0 L451.2,105.5 M449.1,89.9 L454.2,93.3 L452.2,87.6 M450.1,72.4 L455.7,75.6   L453.2,69.7 M451.2,54.8 L457.2,57.9 L454.2,51.8 M452.2,37.3 L458.7,40.2 L455.2,33.9 M449.5,389.3   L446.1,396.0 L452.8,392.6 M450.5,371.7 L447.6,378.3 L453.9,374.7 M451.5,354.2 L449.1,360.6 L454.9,356.9   M452.5,336.6 L450.6,342.9 L455.9,339.0 M453.5,319.1 L452.2,325.1 L456.9,321.1 M454.5,301.5 L453.7,307.4   L457.9,303.2 M455.5,284.0 L455.2,289.7 L458.9,285.3 M456.6,266.4 L456.7,272.0 L459.9,267.4 M457.6,248.9   L458.2,254.3 L460.9,249.5 M458.6,231.3 L459.8,236.6 L462.0,231.7 M459.6,213.8 L461.3,218.8 L463.0,213.8   M460.6,196.2 L462.8,201.1 L464.0,195.9 M461.6,178.7 L464.3,183.4 L465.0,178.0 M462.6,161.1 L465.8,165.7   L466.0,160.1 M463.6,143.6 L467.4,148.0 L467.0,142.2 M464.7,126.0 L468.9,130.3 L468.0,124.3 M465.7,108.5   L470.4,112.5 L469.0,106.5 M466.7,90.9 L471.9,94.8 L470.1,88.6 M467.7,73.4 L473.4,77.1 L471.1,70.7   M468.7,55.8 L474.9,59.4 L472.1,52.8 M469.7,38.3 L476.5,41.7 L473.1,34.9  \" stroke=\"rgb(  0, 114, 189)\"/></g>\n",
       "\t</g>\n",
       "\t<g id=\"gnuplot_plot_3a\"><title>gnuplot_plot_3a</title>\n",
       "<g color=\"black\" fill=\"none\" stroke=\"currentColor\" stroke-linecap=\"butt\" stroke-linejoin=\"miter\" stroke-width=\"2.00\">\n",
       "\t<path d=\"M337.3,132.8 L372.7,132.8  \" stroke=\"rgb(255,   0,   0)\"/></g>\n",
       "\t</g>\n",
       "\t<g id=\"gnuplot_plot_4a\"><title>gnuplot_plot_4a</title>\n",
       "<g color=\"black\" fill=\"none\" stroke=\"currentColor\" stroke-linecap=\"butt\" stroke-linejoin=\"miter\" stroke-width=\"2.00\">\n",
       "\t<path d=\"M355.0,150.5 L355.0,115.1  \" stroke=\"rgb(255,   0,   0)\"/></g>\n",
       "\t</g>\n",
       "<g color=\"black\" fill=\"none\" stroke=\"currentColor\" stroke-linecap=\"butt\" stroke-linejoin=\"miter\" stroke-width=\"2.00\">\n",
       "</g>\n",
       "<g color=\"black\" fill=\"none\" stroke=\"black\" stroke-linecap=\"butt\" stroke-linejoin=\"miter\" stroke-width=\"0.50\">\n",
       "</g>\n",
       "<g color=\"black\" fill=\"none\" stroke=\"currentColor\" stroke-linecap=\"butt\" stroke-linejoin=\"miter\" stroke-width=\"0.50\">\n",
       "\t<path d=\"M40.2,396.0 L528.0,396.0  \" stroke=\"rgb( 38,  38,  38)\"/></g>\n",
       "<g color=\"black\" fill=\"none\" stroke=\"currentColor\" stroke-linecap=\"butt\" stroke-linejoin=\"miter\" stroke-width=\"0.50\">\n",
       "\t<path d=\"M40.2,11.3 L528.0,11.3  \" stroke=\"rgb( 38,  38,  38)\"/></g>\n",
       "<g color=\"black\" fill=\"none\" stroke=\"currentColor\" stroke-linecap=\"butt\" stroke-linejoin=\"miter\" stroke-width=\"0.50\">\n",
       "\t<path d=\"M40.2,396.0 L40.2,11.3  \" stroke=\"rgb( 38,  38,  38)\"/></g>\n",
       "<g color=\"black\" fill=\"none\" stroke=\"currentColor\" stroke-linecap=\"butt\" stroke-linejoin=\"miter\" stroke-width=\"0.50\">\n",
       "\t<path d=\"M528.0,396.0 L528.0,11.3  \" stroke=\"rgb( 38,  38,  38)\"/></g>\n",
       "<g color=\"black\" fill=\"none\" stroke=\"rgb( 38,  38,  38)\" stroke-linecap=\"butt\" stroke-linejoin=\"miter\" stroke-width=\"1.00\">\n",
       "</g>\n",
       "<g color=\"black\" fill=\"none\" stroke=\"currentColor\" stroke-linecap=\"butt\" stroke-linejoin=\"miter\" stroke-width=\"1.00\">\n",
       "</g>\n",
       "</g>\n",
       "</svg>"
      ],
      "text/plain": [
       "<IPython.core.display.SVG object>"
      ]
     },
     "metadata": {},
     "output_type": "display_data"
    }
   ],
   "source": [
    "[X, Y] = meshgrid(-5:.5:5,-5:.5:5);\n",
    "v1 = matlabFunction(v(1));\n",
    "v2 = matlabFunction(v(2));\n",
    "quiver(X,Y,v1(Y), v2(X), 'linewidth', 2);\n",
    "axis equal\n",
    "hold on\n",
    "line([1.5, 2.5], [2.0, 2.0], 'Color','red', 'linewidth', 2);\n",
    "line([2.0, 2.0], [1.5, 2.5], 'Color','red', 'linewidth', 2)"
   ]
  },
  {
   "cell_type": "markdown",
   "metadata": {
    "hideCode": false,
    "hidePrompt": false,
    "slideshow": {
     "slide_type": "subslide"
    }
   },
   "source": [
    "### Divergence\n",
    "\n",
    "The divergence of the vector field $\\bar v = \\begin{bmatrix} v_1(x,y,z)\\\\ v_2(x,y,z)\\\\ v_3(x,y,z)\\end{bmatrix}$ with respect to the vector $\\begin{bmatrix}x\\\\y\\\\z\\end{bmatrix}$ in Cartesian coordinates is the scalar\n",
    "$$\n",
    "\\nabla \\cdot \\bar v = \\frac{\\partial v_1}{\\partial x}+\\frac{\\partial v_2}{\\partial y}+\\frac{v_3}{\\partial z}\n",
    "$$"
   ]
  },
  {
   "cell_type": "code",
   "execution_count": 28,
   "metadata": {
    "hideCode": false,
    "hidePrompt": false
   },
   "outputs": [
    {
     "name": "stdout",
     "output_type": "stream",
     "text": [
      "ans = (sym)\n",
      "\n",
      "           2    \n",
      "  4⋅y + 9⋅z  + 1\n",
      "\n"
     ]
    }
   ],
   "source": [
    "syms x y z\n",
    "divergence([x; 2*y^2; 3*z^3], [x; y; z])"
   ]
  },
  {
   "cell_type": "markdown",
   "metadata": {
    "hideCode": false,
    "hidePrompt": false,
    "slideshow": {
     "slide_type": "subslide"
    }
   },
   "source": [
    "The divergence of a vector field at a specified point indicates if the inflow is larger or smaller than the outflow through an elementary cercle around that point:"
   ]
  },
  {
   "cell_type": "code",
   "execution_count": 29,
   "metadata": {
    "hideCode": false,
    "hidePrompt": false
   },
   "outputs": [
    {
     "name": "stdout",
     "output_type": "stream",
     "text": [
      "ans = (sym) 2\n"
     ]
    }
   ],
   "source": [
    "syms x y z\n",
    "v = [x; y; 0];\n",
    "divergence(v, [x; y; z])"
   ]
  },
  {
   "cell_type": "code",
   "execution_count": 30,
   "metadata": {
    "hideCode": false,
    "hidePrompt": false
   },
   "outputs": [
    {
     "data": {
      "image/svg+xml": [
       "<svg height=\"420px\" viewBox=\"0 0 560 420\" width=\"560px\" xmlns=\"http://www.w3.org/2000/svg\" xmlns:xlink=\"http://www.w3.org/1999/xlink\">\n",
       "\n",
       "<title>Gnuplot</title>\n",
       "<desc>Produced by GNUPLOT 5.0 patchlevel 6 </desc>\n",
       "\n",
       "<g id=\"gnuplot_canvas\">\n",
       "\n",
       "<rect fill=\"#ffffff\" height=\"420\" width=\"560\" x=\"0\" y=\"0\"/>\n",
       "<defs>\n",
       "\n",
       "\t<circle id=\"gpDot\" r=\"0.5\" stroke-width=\"0.5\"/>\n",
       "\t<path d=\"M-1,0 h2 M0,-1 v2\" id=\"gpPt0\" stroke=\"currentColor\" stroke-width=\"0.333\"/>\n",
       "\t<path d=\"M-1,-1 L1,1 M1,-1 L-1,1\" id=\"gpPt1\" stroke=\"currentColor\" stroke-width=\"0.333\"/>\n",
       "\t<path d=\"M-1,0 L1,0 M0,-1 L0,1 M-1,-1 L1,1 M-1,1 L1,-1\" id=\"gpPt2\" stroke=\"currentColor\" stroke-width=\"0.333\"/>\n",
       "\t<rect height=\"2\" id=\"gpPt3\" stroke=\"currentColor\" stroke-width=\"0.333\" width=\"2\" x=\"-1\" y=\"-1\"/>\n",
       "\t<rect fill=\"currentColor\" height=\"2\" id=\"gpPt4\" stroke=\"currentColor\" stroke-width=\"0.333\" width=\"2\" x=\"-1\" y=\"-1\"/>\n",
       "\t<circle cx=\"0\" cy=\"0\" id=\"gpPt5\" r=\"1\" stroke=\"currentColor\" stroke-width=\"0.333\"/>\n",
       "\t<use fill=\"currentColor\" id=\"gpPt6\" stroke=\"none\" xlink:href=\"#gpPt5\"/>\n",
       "\t<path d=\"M0,-1.33 L-1.33,0.67 L1.33,0.67 z\" id=\"gpPt7\" stroke=\"currentColor\" stroke-width=\"0.333\"/>\n",
       "\t<use fill=\"currentColor\" id=\"gpPt8\" stroke=\"none\" xlink:href=\"#gpPt7\"/>\n",
       "\t<use id=\"gpPt9\" stroke=\"currentColor\" transform=\"rotate(180)\" xlink:href=\"#gpPt7\"/>\n",
       "\t<use fill=\"currentColor\" id=\"gpPt10\" stroke=\"none\" xlink:href=\"#gpPt9\"/>\n",
       "\t<use id=\"gpPt11\" stroke=\"currentColor\" transform=\"rotate(45)\" xlink:href=\"#gpPt3\"/>\n",
       "\t<use fill=\"currentColor\" id=\"gpPt12\" stroke=\"none\" xlink:href=\"#gpPt11\"/>\n",
       "\t<path d=\"M0,1.330 L1.265,0.411 L0.782,-1.067 L-0.782,-1.076 L-1.265,0.411 z\" id=\"gpPt13\" stroke=\"currentColor\" stroke-width=\"0.333\"/>\n",
       "\t<use fill=\"currentColor\" id=\"gpPt14\" stroke=\"none\" xlink:href=\"#gpPt13\"/>\n",
       "\t<filter filterUnits=\"objectBoundingBox\" height=\"1\" id=\"textbox\" width=\"1\" x=\"0\" y=\"0\">\n",
       "\t  <feFlood flood-color=\"#FFFFFF\" flood-opacity=\"1\" result=\"bgnd\"/>\n",
       "\t  <feComposite in=\"SourceGraphic\" in2=\"bgnd\" operator=\"atop\"/>\n",
       "\t</filter>\n",
       "\t<filter filterUnits=\"objectBoundingBox\" height=\"1\" id=\"greybox\" width=\"1\" x=\"0\" y=\"0\">\n",
       "\t  <feFlood flood-color=\"lightgrey\" flood-opacity=\"1\" result=\"grey\"/>\n",
       "\t  <feComposite in=\"SourceGraphic\" in2=\"grey\" operator=\"atop\"/>\n",
       "\t</filter>\n",
       "</defs>\n",
       "<g color=\"#FFFFFF\" fill=\"none\" stroke=\"currentColor\" stroke-linecap=\"butt\" stroke-linejoin=\"miter\" stroke-width=\"1.00\">\n",
       "</g>\n",
       "<g color=\"black\" fill=\"none\" stroke=\"currentColor\" stroke-linecap=\"butt\" stroke-linejoin=\"miter\" stroke-width=\"1.00\">\n",
       "\t<g shape-rendering=\"crispEdges\" stroke=\"none\">\n",
       "\t\t<polygon fill=\"rgb(255, 255, 255)\" points=\"40.2,396.0 527.9,396.0 527.9,11.4 40.2,11.4 \"/>\n",
       "\t</g>\n",
       "</g>\n",
       "<g color=\"black\" fill=\"none\" stroke=\"currentColor\" stroke-linecap=\"butt\" stroke-linejoin=\"miter\" stroke-width=\"1.00\">\n",
       "\t<path d=\"M40.2,345.4 L48.6,345.4 M528.0,345.4 L519.6,345.4  \" stroke=\"rgb(  0,   0,   0)\"/>\t<g fill=\"rgb(38,38,38)\" font-family=\"Arial\" font-size=\"10.00\" stroke=\"none\" text-anchor=\"end\" transform=\"translate(34.6,348.7)\">\n",
       "\t\t<text><tspan font-family=\"Arial\">-4</tspan></text>\n",
       "\t</g>\n",
       "</g>\n",
       "<g color=\"black\" fill=\"none\" stroke=\"currentColor\" stroke-linecap=\"butt\" stroke-linejoin=\"miter\" stroke-width=\"1.00\">\n",
       "\t<path d=\"M40.2,274.5 L48.6,274.5 M528.0,274.5 L519.6,274.5  \" stroke=\"rgb(  0,   0,   0)\"/>\t<g fill=\"rgb(38,38,38)\" font-family=\"Arial\" font-size=\"10.00\" stroke=\"none\" text-anchor=\"end\" transform=\"translate(34.6,277.8)\">\n",
       "\t\t<text><tspan font-family=\"Arial\">-2</tspan></text>\n",
       "\t</g>\n",
       "</g>\n",
       "<g color=\"black\" fill=\"none\" stroke=\"currentColor\" stroke-linecap=\"butt\" stroke-linejoin=\"miter\" stroke-width=\"1.00\">\n",
       "\t<path d=\"M40.2,203.6 L48.6,203.6 M528.0,203.6 L519.6,203.6  \" stroke=\"rgb(  0,   0,   0)\"/>\t<g fill=\"rgb(38,38,38)\" font-family=\"Arial\" font-size=\"10.00\" stroke=\"none\" text-anchor=\"end\" transform=\"translate(34.6,206.9)\">\n",
       "\t\t<text><tspan font-family=\"Arial\">0</tspan></text>\n",
       "\t</g>\n",
       "</g>\n",
       "<g color=\"black\" fill=\"none\" stroke=\"currentColor\" stroke-linecap=\"butt\" stroke-linejoin=\"miter\" stroke-width=\"1.00\">\n",
       "\t<path d=\"M40.2,132.8 L48.6,132.8 M528.0,132.8 L519.6,132.8  \" stroke=\"rgb(  0,   0,   0)\"/>\t<g fill=\"rgb(38,38,38)\" font-family=\"Arial\" font-size=\"10.00\" stroke=\"none\" text-anchor=\"end\" transform=\"translate(34.6,136.1)\">\n",
       "\t\t<text><tspan font-family=\"Arial\">2</tspan></text>\n",
       "\t</g>\n",
       "</g>\n",
       "<g color=\"black\" fill=\"none\" stroke=\"currentColor\" stroke-linecap=\"butt\" stroke-linejoin=\"miter\" stroke-width=\"1.00\">\n",
       "\t<path d=\"M40.2,61.9 L48.6,61.9 M528.0,61.9 L519.6,61.9  \" stroke=\"rgb(  0,   0,   0)\"/>\t<g fill=\"rgb(38,38,38)\" font-family=\"Arial\" font-size=\"10.00\" stroke=\"none\" text-anchor=\"end\" transform=\"translate(34.6,65.2)\">\n",
       "\t\t<text><tspan font-family=\"Arial\">4</tspan></text>\n",
       "\t</g>\n",
       "</g>\n",
       "<g color=\"black\" fill=\"none\" stroke=\"currentColor\" stroke-linecap=\"butt\" stroke-linejoin=\"miter\" stroke-width=\"1.00\">\n",
       "\t<path d=\"M71.5,396.0 L71.5,387.6 M71.5,11.3 L71.5,19.7  \" stroke=\"rgb(  0,   0,   0)\"/>\t<g fill=\"rgb(38,38,38)\" font-family=\"Arial\" font-size=\"10.00\" stroke=\"none\" text-anchor=\"middle\" transform=\"translate(71.5,411.3)\">\n",
       "\t\t<text><tspan font-family=\"Arial\">-6</tspan></text>\n",
       "\t</g>\n",
       "</g>\n",
       "<g color=\"black\" fill=\"none\" stroke=\"currentColor\" stroke-linecap=\"butt\" stroke-linejoin=\"miter\" stroke-width=\"1.00\">\n",
       "\t<path d=\"M142.4,396.0 L142.4,387.6 M142.4,11.3 L142.4,19.7  \" stroke=\"rgb(  0,   0,   0)\"/>\t<g fill=\"rgb(38,38,38)\" font-family=\"Arial\" font-size=\"10.00\" stroke=\"none\" text-anchor=\"middle\" transform=\"translate(142.4,411.3)\">\n",
       "\t\t<text><tspan font-family=\"Arial\">-4</tspan></text>\n",
       "\t</g>\n",
       "</g>\n",
       "<g color=\"black\" fill=\"none\" stroke=\"currentColor\" stroke-linecap=\"butt\" stroke-linejoin=\"miter\" stroke-width=\"1.00\">\n",
       "\t<path d=\"M213.2,396.0 L213.2,387.6 M213.2,11.3 L213.2,19.7  \" stroke=\"rgb(  0,   0,   0)\"/>\t<g fill=\"rgb(38,38,38)\" font-family=\"Arial\" font-size=\"10.00\" stroke=\"none\" text-anchor=\"middle\" transform=\"translate(213.2,411.3)\">\n",
       "\t\t<text><tspan font-family=\"Arial\">-2</tspan></text>\n",
       "\t</g>\n",
       "</g>\n",
       "<g color=\"black\" fill=\"none\" stroke=\"currentColor\" stroke-linecap=\"butt\" stroke-linejoin=\"miter\" stroke-width=\"1.00\">\n",
       "\t<path d=\"M284.1,396.0 L284.1,387.6 M284.1,11.3 L284.1,19.7  \" stroke=\"rgb(  0,   0,   0)\"/>\t<g fill=\"rgb(38,38,38)\" font-family=\"Arial\" font-size=\"10.00\" stroke=\"none\" text-anchor=\"middle\" transform=\"translate(284.1,411.3)\">\n",
       "\t\t<text><tspan font-family=\"Arial\">0</tspan></text>\n",
       "\t</g>\n",
       "</g>\n",
       "<g color=\"black\" fill=\"none\" stroke=\"currentColor\" stroke-linecap=\"butt\" stroke-linejoin=\"miter\" stroke-width=\"1.00\">\n",
       "\t<path d=\"M355.0,396.0 L355.0,387.6 M355.0,11.3 L355.0,19.7  \" stroke=\"rgb(  0,   0,   0)\"/>\t<g fill=\"rgb(38,38,38)\" font-family=\"Arial\" font-size=\"10.00\" stroke=\"none\" text-anchor=\"middle\" transform=\"translate(355.0,411.3)\">\n",
       "\t\t<text><tspan font-family=\"Arial\">2</tspan></text>\n",
       "\t</g>\n",
       "</g>\n",
       "<g color=\"black\" fill=\"none\" stroke=\"currentColor\" stroke-linecap=\"butt\" stroke-linejoin=\"miter\" stroke-width=\"1.00\">\n",
       "\t<path d=\"M425.8,396.0 L425.8,387.6 M425.8,11.3 L425.8,19.7  \" stroke=\"rgb(  0,   0,   0)\"/>\t<g fill=\"rgb(38,38,38)\" font-family=\"Arial\" font-size=\"10.00\" stroke=\"none\" text-anchor=\"middle\" transform=\"translate(425.8,411.3)\">\n",
       "\t\t<text><tspan font-family=\"Arial\">4</tspan></text>\n",
       "\t</g>\n",
       "</g>\n",
       "<g color=\"black\" fill=\"none\" stroke=\"currentColor\" stroke-linecap=\"butt\" stroke-linejoin=\"miter\" stroke-width=\"1.00\">\n",
       "\t<path d=\"M496.7,396.0 L496.7,387.6 M496.7,11.3 L496.7,19.7  \" stroke=\"rgb(  0,   0,   0)\"/>\t<g fill=\"rgb(38,38,38)\" font-family=\"Arial\" font-size=\"10.00\" stroke=\"none\" text-anchor=\"middle\" transform=\"translate(496.7,411.3)\">\n",
       "\t\t<text><tspan font-family=\"Arial\">6</tspan></text>\n",
       "\t</g>\n",
       "</g>\n",
       "<g color=\"black\" fill=\"none\" stroke=\"currentColor\" stroke-linecap=\"butt\" stroke-linejoin=\"miter\" stroke-width=\"1.00\">\n",
       "</g>\n",
       "<g color=\"black\" fill=\"none\" stroke=\"currentColor\" stroke-linecap=\"butt\" stroke-linejoin=\"miter\" stroke-width=\"1.00\">\n",
       "</g>\n",
       "\t<g id=\"gnuplot_plot_1a\"><title>gnuplot_plot_1a</title>\n",
       "<g color=\"#FFFFFF\" fill=\"none\" stroke=\"rgb(  0,   0,   0)\" stroke-linecap=\"butt\" stroke-linejoin=\"miter\" stroke-width=\"2.00\">\n",
       "</g>\n",
       "<g color=\"black\" fill=\"none\" stroke=\"currentColor\" stroke-linecap=\"butt\" stroke-linejoin=\"miter\" stroke-width=\"2.00\">\n",
       "\t<path d=\"M106.9,380.8 L91.7,396.0 M106.9,363.1 L93.3,378.3 M106.9,345.4 L94.8,360.6 M106.9,327.7 L96.3,342.9   M106.9,309.9 L97.8,325.1 M106.9,292.2 L99.3,307.4 M106.9,274.5 L100.8,289.7 M106.9,256.8 L102.4,272.0   M106.9,239.1 L103.9,254.3 M106.9,221.4 L105.4,236.6 M106.9,203.6 L106.9,218.8 M106.9,185.9 L108.4,201.1   M106.9,168.2 L110.0,183.4 M106.9,150.5 L111.5,165.7 M106.9,132.8 L113.0,148.0 M106.9,115.1 L114.5,130.3   M106.9,97.4 L116.0,112.5 M106.9,79.6 L117.6,94.8 M106.9,61.9 L119.1,77.1 M106.9,44.2 L120.6,59.4   M106.9,26.5 L122.1,41.7 M124.6,380.8 L109.5,394.5 M124.6,363.1 L111.0,376.8 M124.6,345.4 L112.5,359.0   M124.6,327.7 L114.0,341.3 M124.6,309.9 L115.5,323.6 M124.6,292.2 L117.0,305.9 M124.6,274.5 L118.6,288.2   M124.6,256.8 L120.1,270.5 M124.6,239.1 L121.6,252.7 M124.6,221.4 L123.1,235.0 M124.6,203.6 L124.6,217.3   M124.6,185.9 L126.2,199.6 M124.6,168.2 L127.7,181.9 M124.6,150.5 L129.2,164.2 M124.6,132.8 L130.7,146.5   M124.6,115.1 L132.2,128.7 M124.6,97.4 L133.8,111.0 M124.6,79.6 L135.3,93.3 M124.6,61.9 L136.8,75.6   M124.6,44.2 L138.3,57.9 M124.6,26.5 L139.8,40.2 M142.4,380.8 L127.2,393.0 M142.4,363.1 L128.7,375.2   M142.4,345.4 L130.2,357.5 M142.4,327.7 L131.7,339.8 M142.4,309.9 L133.2,322.1 M142.4,292.2 L134.8,304.4   M142.4,274.5 L136.3,286.7 M142.4,256.8 L137.8,268.9 M142.4,239.1 L139.3,251.2 M142.4,221.4 L140.8,233.5   M142.4,203.6 L142.4,215.8 M142.4,185.9 L143.9,198.1 M142.4,168.2 L145.4,180.4 M142.4,150.5 L146.9,162.6   M142.4,132.8 L148.4,144.9 M142.4,115.1 L149.9,127.2 M142.4,97.4 L151.5,109.5 M142.4,79.6 L153.0,91.8   M142.4,61.9 L154.5,74.1 M142.4,44.2 L156.0,56.4 M142.4,26.5 L157.5,38.6 M160.1,380.8 L144.9,391.4   M160.1,363.1 L146.4,373.7 M160.1,345.4 L147.9,356.0 M160.1,327.7 L149.4,338.3 M160.1,309.9 L151.0,320.6   M160.1,292.2 L152.5,302.9 M160.1,274.5 L154.0,285.1 M160.1,256.8 L155.5,267.4 M160.1,239.1 L157.0,249.7   M160.1,221.4 L158.6,232.0 M160.1,203.6 L160.1,214.3 M160.1,185.9 L161.6,196.6 M160.1,168.2 L163.1,178.8   M160.1,150.5 L164.6,161.1 M160.1,132.8 L166.1,143.4 M160.1,115.1 L167.7,125.7 M160.1,97.4 L169.2,108.0   M160.1,79.6 L170.7,90.3 M160.1,61.9 L172.2,72.5 M160.1,44.2 L173.7,54.8 M160.1,26.5 L175.3,37.1   M177.8,380.8 L162.6,389.9 M177.8,363.1 L164.1,372.2 M177.8,345.4 L165.6,354.5 M177.8,327.7 L167.2,336.8   M177.8,309.9 L168.7,319.1 M177.8,292.2 L170.2,301.3 M177.8,274.5 L171.7,283.6 M177.8,256.8 L173.2,265.9   M177.8,239.1 L174.8,248.2 M177.8,221.4 L176.3,230.5 M177.8,203.6 L177.8,212.8 M177.8,185.9 L179.3,195.0   M177.8,168.2 L180.8,177.3 M177.8,150.5 L182.3,159.6 M177.8,132.8 L183.9,141.9 M177.8,115.1 L185.4,124.2   M177.8,97.4 L186.9,106.5 M177.8,79.6 L188.4,88.7 M177.8,61.9 L189.9,71.0 M177.8,44.2 L191.5,53.3   M177.8,26.5 L193.0,35.6 M195.5,380.8 L180.3,388.4 M195.5,363.1 L181.8,370.7 M195.5,345.4 L183.4,353.0   M195.5,327.7 L184.9,335.3 M195.5,309.9 L186.4,317.5 M195.5,292.2 L187.9,299.8 M195.5,274.5 L189.4,282.1   M195.5,256.8 L191.0,264.4 M195.5,239.1 L192.5,246.7 M195.5,221.4 L194.0,229.0 M195.5,203.6 L195.5,211.2   M195.5,185.9 L197.0,193.5 M195.5,168.2 L198.5,175.8 M195.5,150.5 L200.1,158.1 M195.5,132.8 L201.6,140.4   M195.5,115.1 L203.1,122.7 M195.5,97.4 L204.6,104.9 M195.5,79.6 L206.1,87.2 M195.5,61.9 L207.7,69.5   M195.5,44.2 L209.2,51.8 M195.5,26.5 L210.7,34.1 M213.2,380.8 L198.0,386.9 M213.2,363.1 L199.6,369.2   M213.2,345.4 L201.1,351.5 M213.2,327.7 L202.6,333.7 M213.2,309.9 L204.1,316.0 M213.2,292.2 L205.6,298.3   M213.2,274.5 L207.2,280.6 M213.2,256.8 L208.7,262.9 M213.2,239.1 L210.2,245.2 M213.2,221.4 L211.7,227.4   M213.2,203.6 L213.2,209.7 M213.2,185.9 L214.7,192.0 M213.2,168.2 L216.3,174.3 M213.2,150.5 L217.8,156.6   M213.2,132.8 L219.3,138.9 M213.2,115.1 L220.8,121.1 M213.2,97.4 L222.3,103.4 M213.2,79.6 L223.9,85.7   M213.2,61.9 L225.4,68.0 M213.2,44.2 L226.9,50.3 M213.2,26.5 L228.4,32.6 M230.9,380.8 L215.8,385.4   M230.9,363.1 L217.3,367.7 M230.9,345.4 L218.8,349.9 M230.9,327.7 L220.3,332.2 M230.9,309.9 L221.8,314.5   M230.9,292.2 L223.4,296.8 M230.9,274.5 L224.9,279.1 M230.9,256.8 L226.4,261.4 M230.9,239.1 L227.9,243.6   M230.9,221.4 L229.4,225.9 M230.9,203.6 L230.9,208.2 M230.9,185.9 L232.5,190.5 M230.9,168.2 L234.0,172.8   M230.9,150.5 L235.5,155.1 M230.9,132.8 L237.0,137.3 M230.9,115.1 L238.5,119.6 M230.9,97.4 L240.1,101.9   M230.9,79.6 L241.6,84.2 M230.9,61.9 L243.1,66.5 M230.9,44.2 L244.6,48.8 M230.9,26.5 L246.1,31.0   M248.7,380.8 L233.5,383.9 M248.7,363.1 L235.0,366.1 M248.7,345.4 L236.5,348.4 M248.7,327.7 L238.0,330.7   M248.7,309.9 L239.6,313.0 M248.7,292.2 L241.1,295.3 M248.7,274.5 L242.6,277.6 M248.7,256.8 L244.1,259.8   M248.7,239.1 L245.6,242.1 M248.7,221.4 L247.1,224.4 M248.7,203.6 L248.7,206.7 M248.7,185.9 L250.2,189.0   M248.7,168.2 L251.7,171.3 M248.7,150.5 L253.2,153.5 M248.7,132.8 L254.7,135.8 M248.7,115.1 L256.3,118.1   M248.7,97.4 L257.8,100.4 M248.7,79.6 L259.3,82.7 M248.7,61.9 L260.8,65.0 M248.7,44.2 L262.3,47.2   M248.7,26.5 L263.9,29.5 M266.4,380.8 L251.2,382.3 M266.4,363.1 L252.7,364.6 M266.4,345.4 L254.2,346.9   M266.4,327.7 L255.8,329.2 M266.4,309.9 L257.3,311.5 M266.4,292.2 L258.8,293.8 M266.4,274.5 L260.3,276.0   M266.4,256.8 L261.8,258.3 M266.4,239.1 L263.3,240.6 M266.4,221.4 L264.9,222.9 M266.4,203.6 L266.4,205.2   M266.4,185.9 L267.9,187.5 M266.4,168.2 L269.4,169.7 M266.4,150.5 L270.9,152.0 M266.4,132.8 L272.5,134.3   M266.4,115.1 L274.0,116.6 M266.4,97.4 L275.5,98.9 M266.4,79.6 L277.0,81.2 M266.4,61.9 L278.5,63.4   M266.4,44.2 L280.1,45.7 M266.4,26.5 L281.6,28.0 M284.1,380.8 L268.9,380.8 M284.1,363.1 L270.4,363.1   M284.1,345.4 L272.0,345.4 M284.1,327.7 L273.5,327.7 M284.1,309.9 L275.0,309.9 M284.1,292.2 L276.5,292.2   M284.1,274.5 L278.0,274.5 M284.1,256.8 L279.5,256.8 M284.1,239.1 L281.1,239.1 M284.1,221.4 L282.6,221.4   M284.1,203.6 M284.1,185.9 L285.6,185.9 M284.1,168.2 L287.1,168.2 M284.1,150.5 L288.7,150.5 M284.1,132.8   L290.2,132.8 M284.1,115.1 L291.7,115.1 M284.1,97.4 L293.2,97.4 M284.1,79.6 L294.7,79.6 M284.1,61.9   L296.2,61.9 M284.1,44.2 L297.8,44.2 M284.1,26.5 L299.3,26.5 M301.8,380.8 L286.6,379.3 M301.8,363.1   L288.1,361.6 M301.8,345.4 L289.7,343.9 M301.8,327.7 L291.2,326.1 M301.8,309.9 L292.7,308.4 M301.8,292.2   L294.2,290.7 M301.8,274.5 L295.7,273.0 M301.8,256.8 L297.3,255.3 M301.8,239.1 L298.8,237.6 M301.8,221.4   L300.3,219.8 M301.8,203.6 L301.8,202.1 M301.8,185.9 L303.3,184.4 M301.8,168.2 L304.9,166.7 M301.8,150.5   L306.4,149.0 M301.8,132.8 L307.9,131.3 M301.8,115.1 L309.4,113.5 M301.8,97.4 L310.9,95.8 M301.8,79.6   L312.4,78.1 M301.8,61.9 L314.0,60.4 M301.8,44.2 L315.5,42.7 M301.8,26.5 L317.0,25.0 M319.5,380.8   L304.3,377.8 M319.5,363.1 L305.9,360.1 M319.5,345.4 L307.4,342.3 M319.5,327.7 L308.9,324.6 M319.5,309.9   L310.4,306.9  \" stroke=\"rgb(  0, 114, 189)\"/>\t<path d=\"M319.5,292.2 L311.9,289.2 M319.5,274.5 L313.5,271.5 M319.5,256.8 L315.0,253.8 M319.5,239.1 L316.5,236.0   M319.5,221.4 L318.0,218.3 M319.5,203.6 L319.5,200.6 M319.5,185.9 L321.1,182.9 M319.5,168.2 L322.6,165.2   M319.5,150.5 L324.1,147.5 M319.5,132.8 L325.6,129.7 M319.5,115.1 L327.1,112.0 M319.5,97.4 L328.6,94.3   M319.5,79.6 L330.2,76.6 M319.5,61.9 L331.7,58.9 M319.5,44.2 L333.2,41.2 M319.5,26.5 L334.7,23.4   M337.3,380.8 L322.1,376.3 M337.3,363.1 L323.6,358.5 M337.3,345.4 L325.1,340.8 M337.3,327.7 L326.6,323.1   M337.3,309.9 L328.1,305.4 M337.3,292.2 L329.7,287.7 M337.3,274.5 L331.2,270.0 M337.3,256.8 L332.7,252.2   M337.3,239.1 L334.2,234.5 M337.3,221.4 L335.7,216.8 M337.3,203.6 L337.3,199.1 M337.3,185.9 L338.8,181.4   M337.3,168.2 L340.3,163.7 M337.3,150.5 L341.8,145.9 M337.3,132.8 L343.3,128.2 M337.3,115.1 L344.8,110.5   M337.3,97.4 L346.4,92.8 M337.3,79.6 L347.9,75.1 M337.3,61.9 L349.4,57.4 M337.3,44.2 L350.9,39.6   M337.3,26.5 L352.4,21.9 M355.0,380.8 L339.8,374.7 M355.0,363.1 L341.3,357.0 M355.0,345.4 L342.8,339.3   M355.0,327.7 L344.3,321.6 M355.0,309.9 L345.9,303.9 M355.0,292.2 L347.4,286.2 M355.0,274.5 L348.9,268.4   M355.0,256.8 L350.4,250.7 M355.0,239.1 L351.9,233.0 M355.0,221.4 L353.5,215.3 M355.0,203.6 L355.0,197.6   M355.0,185.9 L356.5,179.9 M355.0,168.2 L358.0,162.1 M355.0,150.5 L359.5,144.4 M355.0,132.8 L361.0,126.7   M355.0,115.1 L362.6,109.0 M355.0,97.4 L364.1,91.3 M355.0,79.6 L365.6,73.6 M355.0,61.9 L367.1,55.8   M355.0,44.2 L368.6,38.1 M355.0,26.5 L370.2,20.4 M372.7,380.8 L357.5,373.2 M372.7,363.1 L359.0,355.5   M372.7,345.4 L360.5,337.8 M372.7,327.7 L362.1,320.1 M372.7,309.9 L363.6,302.4 M372.7,292.2 L365.1,284.6   M372.7,274.5 L366.6,266.9 M372.7,256.8 L368.1,249.2 M372.7,239.1 L369.7,231.5 M372.7,221.4 L371.2,213.8   M372.7,203.6 L372.7,196.1 M372.7,185.9 L374.2,178.3 M372.7,168.2 L375.7,160.6 M372.7,150.5 L377.2,142.9   M372.7,132.8 L378.8,125.2 M372.7,115.1 L380.3,107.5 M372.7,97.4 L381.8,89.8 M372.7,79.6 L383.3,72.0   M372.7,61.9 L384.8,54.3 M372.7,44.2 L386.4,36.6 M372.7,26.5 L387.9,18.9 M390.4,380.8 L375.2,371.7   M390.4,363.1 L376.7,354.0 M390.4,345.4 L378.3,336.3 M390.4,327.7 L379.8,318.6 M390.4,309.9 L381.3,300.8   M390.4,292.2 L382.8,283.1 M390.4,274.5 L384.3,265.4 M390.4,256.8 L385.9,247.7 M390.4,239.1 L387.4,230.0   M390.4,221.4 L388.9,212.3 M390.4,203.6 L390.4,194.5 M390.4,185.9 L391.9,176.8 M390.4,168.2 L393.4,159.1   M390.4,150.5 L395.0,141.4 M390.4,132.8 L396.5,123.7 M390.4,115.1 L398.0,106.0 M390.4,97.4 L399.5,88.2   M390.4,79.6 L401.0,70.5 M390.4,61.9 L402.6,52.8 M390.4,44.2 L404.1,35.1 M390.4,26.5 L405.6,17.4   M408.1,380.8 L392.9,370.2 M408.1,363.1 L394.5,352.5 M408.1,345.4 L396.0,334.8 M408.1,327.7 L397.5,317.0   M408.1,309.9 L399.0,299.3 M408.1,292.2 L400.5,281.6 M408.1,274.5 L402.1,263.9 M408.1,256.8 L403.6,246.2   M408.1,239.1 L405.1,228.5 M408.1,221.4 L406.6,210.7 M408.1,203.6 L408.1,193.0 M408.1,185.9 L409.6,175.3   M408.1,168.2 L411.2,157.6 M408.1,150.5 L412.7,139.9 M408.1,132.8 L414.2,122.2 M408.1,115.1 L415.7,104.4   M408.1,97.4 L417.2,86.7 M408.1,79.6 L418.8,69.0 M408.1,61.9 L420.3,51.3 M408.1,44.2 L421.8,33.6   M408.1,26.5 L423.3,15.9 M425.8,380.8 L410.7,368.7 M425.8,363.1 L412.2,350.9 M425.8,345.4 L413.7,333.2   M425.8,327.7 L415.2,315.5 M425.8,309.9 L416.7,297.8 M425.8,292.2 L418.3,280.1 M425.8,274.5 L419.8,262.4   M425.8,256.8 L421.3,244.7 M425.8,239.1 L422.8,226.9 M425.8,221.4 L424.3,209.2 M425.8,203.6 L425.8,191.5   M425.8,185.9 L427.4,173.8 M425.8,168.2 L428.9,156.1 M425.8,150.5 L430.4,138.4 M425.8,132.8 L431.9,120.6   M425.8,115.1 L433.4,102.9 M425.8,97.4 L435.0,85.2 M425.8,79.6 L436.5,67.5 M425.8,61.9 L438.0,49.8   M425.8,44.2 L439.5,32.1 M425.8,26.5 L441.0,14.3 M443.6,380.8 L428.4,367.1 M443.6,363.1 L429.9,349.4   M443.6,345.4 L431.4,331.7 M443.6,327.7 L432.9,314.0 M443.6,309.9 L434.4,296.3 M443.6,292.2 L436.0,278.6   M443.6,274.5 L437.5,260.8 M443.6,256.8 L439.0,243.1 M443.6,239.1 L440.5,225.4 M443.6,221.4 L442.0,207.7   M443.6,203.6 L443.6,190.0 M443.6,185.9 L445.1,172.3 M443.6,168.2 L446.6,154.6 M443.6,150.5 L448.1,136.8   M443.6,132.8 L449.6,119.1 M443.6,115.1 L451.2,101.4 M443.6,97.4 L452.7,83.7 M443.6,79.6 L454.2,66.0   M443.6,61.9 L455.7,48.3 M443.6,44.2 L457.2,30.5 M443.6,26.5 L458.7,12.8 M461.3,380.8 L446.1,365.6   M461.3,363.1 L447.6,347.9 M461.3,345.4 L449.1,330.2 M461.3,327.7 L450.6,312.5 M461.3,309.9 L452.2,294.8   M461.3,292.2 L453.7,277.0 M461.3,274.5 L455.2,259.3 M461.3,256.8 L456.7,241.6 M461.3,239.1 L458.2,223.9   M461.3,221.4 L459.8,206.2 M461.3,203.6 L461.3,188.5 M461.3,185.9 L462.8,170.7 M461.3,168.2 L464.3,153.0   M461.3,150.5 L465.8,135.3 M461.3,132.8 L467.4,117.6 M461.3,115.1 L468.9,99.9 M461.3,97.4 L470.4,82.2   M461.3,79.6 L471.9,64.4 M461.3,61.9 L473.4,46.7 M461.3,44.2 L474.9,29.0 M461.3,26.5 L476.5,11.3    \" stroke=\"rgb(  0, 114, 189)\"/></g>\n",
       "\t</g>\n",
       "\t<g id=\"gnuplot_plot_2a\"><title>gnuplot_plot_2a</title>\n",
       "<g color=\"black\" fill=\"none\" stroke=\"currentColor\" stroke-linecap=\"butt\" stroke-linejoin=\"miter\" stroke-width=\"2.00\">\n",
       "\t<path d=\"M95.1,389.3 L91.7,396.0 L98.5,392.6 M96.1,371.7 L93.3,378.3 L99.5,374.7 M97.1,354.2 L94.8,360.6   L100.5,356.9 M98.1,336.6 L96.3,342.9 L101.5,339.0 M99.2,319.1 L97.8,325.1 L102.5,321.1 M100.2,301.5   L99.3,307.4 L103.5,303.2 M101.2,284.0 L100.8,289.7 L104.6,285.3 M102.2,266.4 L102.4,272.0 L105.6,267.4   M103.2,248.9 L103.9,254.3 L106.6,249.5 M104.2,231.3 L105.4,236.6 L107.6,231.7 M105.2,213.8 L106.9,218.8   L108.6,213.8 M106.2,196.2 L108.4,201.1 L109.6,195.9 M107.3,178.7 L110.0,183.4 L110.6,178.0 M108.3,161.1   L111.5,165.7 L111.6,160.1 M109.3,143.6 L113.0,148.0 L112.7,142.2 M110.3,126.0 L114.5,130.3 L113.7,124.3   M111.3,108.5 L116.0,112.5 L114.7,106.5 M112.3,90.9 L117.6,94.8 L115.7,88.6 M113.3,73.4 L119.1,77.1   L116.7,70.7 M114.3,55.8 L120.6,59.4 L117.7,52.8 M115.4,38.3 L122.1,41.7 L118.7,34.9 M113.0,388.2   L109.5,394.5 L116.0,391.6 M114.0,370.7 L111.0,376.8 L117.0,373.7 M115.0,353.1 L112.5,359.0 L118.1,355.8   M116.0,335.6 L114.0,341.3 L119.1,338.0 M117.0,318.0 L115.5,323.6 L120.1,320.1 M118.1,300.5 L117.0,305.9   L121.1,302.2 M119.1,283.0 L118.6,288.2 L122.1,284.3 M120.1,265.4 L120.1,270.5 L123.1,266.4 M121.1,247.9   L121.6,252.7 L124.1,248.5 M122.1,230.3 L123.1,235.0 L125.1,230.6 M123.1,212.8 L124.6,217.3 L126.2,212.8   M124.1,195.2 L126.2,199.6 L127.2,194.9 M125.1,177.7 L127.7,181.9 L128.2,177.0 M126.2,160.1 L129.2,164.2   L129.2,159.1 M127.2,142.6 L130.7,146.5 L130.2,141.2 M128.2,125.0 L132.2,128.7 L131.2,123.3 M129.2,107.5   L133.8,111.0 L132.2,105.5 M130.2,89.9 L135.3,93.3 L133.2,87.6 M131.2,72.4 L136.8,75.6 L134.3,69.7   M132.2,54.8 L138.3,57.9 L135.3,51.8 M133.2,37.3 L139.8,40.2 L136.3,33.9 M130.9,387.2 L127.2,393.0   L133.6,390.6 M131.9,369.7 L128.7,375.2 L134.6,372.7 M132.9,352.1 L130.2,357.5 L135.6,354.8 M133.9,334.6   L131.7,339.8 L136.6,336.9 M134.9,317.0 L133.2,322.1 L137.6,319.1 M135.9,299.5 L134.8,304.4 L138.6,301.2   M137.0,281.9 L136.3,286.7 L139.7,283.3 M138.0,264.4 L137.8,268.9 L140.7,265.4 M139.0,246.8 L139.3,251.2   L141.7,247.5 M140.0,229.3 L140.8,233.5 L142.7,229.6 M141.0,211.7 L142.4,215.8 L143.7,211.7 M142.0,194.2   L143.9,198.1 L144.7,193.9 M143.0,176.7 L145.4,180.4 L145.7,176.0 M144.0,159.1 L146.9,162.6 L146.7,158.1   M145.1,141.6 L148.4,144.9 L147.8,140.2 M146.1,124.0 L149.9,127.2 L148.8,122.3 M147.1,106.5 L151.5,109.5   L149.8,104.4 M148.1,88.9 L153.0,91.8 L150.8,86.6 M149.1,71.4 L154.5,74.1 L151.8,68.7 M150.1,53.8   L156.0,56.4 L152.8,50.8 M151.1,36.3 L157.5,38.6 L153.8,32.9 M148.8,386.2 L144.9,391.4 L151.1,389.6   M149.8,368.7 L146.4,373.7 L152.1,371.7 M150.8,351.1 L147.9,356.0 L153.2,353.8 M151.8,333.6 L149.4,338.3   L154.2,335.9 M152.8,316.0 L151.0,320.6 L155.2,318.0 M153.8,298.5 L152.5,302.9 L156.2,300.2 M154.8,280.9   L154.0,285.1 L157.2,282.3 M155.9,263.4 L155.5,267.4 L158.2,264.4 M156.9,245.8 L157.0,249.7 L159.2,246.5   M157.9,228.3 L158.6,232.0 L160.2,228.6 M158.9,210.7 L160.1,214.3 L161.3,210.7 M159.9,193.2 L161.6,196.6   L162.3,192.9 M160.9,175.6 L163.1,178.8 L163.3,175.0 M161.9,158.1 L164.6,161.1 L164.3,157.1 M162.9,140.5   L166.1,143.4 L165.3,139.2 M164.0,123.0 L167.7,125.7 L166.3,121.3 M165.0,105.5 L169.2,108.0 L167.3,103.4   M166.0,87.9 L170.7,90.3 L168.3,85.5 M167.0,70.4 L172.2,72.5 L169.4,67.7 M168.0,52.8 L173.7,54.8   L170.4,49.8 M169.0,35.3 L175.3,37.1 L171.4,31.9 M166.7,385.2 L162.6,389.9 L168.7,388.6 M167.7,367.7   L164.1,372.2 L169.7,370.7 M168.7,350.1 L165.6,354.5 L170.7,352.8 M169.7,332.6 L167.2,336.8 L171.7,334.9   M170.7,315.0 L168.7,319.1 L172.7,317.0 M171.7,297.5 L170.2,301.3 L173.7,299.2 M172.7,279.9 L171.7,283.6   L174.8,281.3 M173.7,262.4 L173.2,265.9 L175.8,263.4 M174.8,244.8 L174.8,248.2 L176.8,245.5 M175.8,227.3   L176.3,230.5 L177.8,227.6 M176.8,209.7 L177.8,212.8 L178.8,209.7 M177.8,192.2 L179.3,195.0 L179.8,191.8   M178.8,174.6 L180.8,177.3 L180.8,174.0 M179.8,157.1 L182.3,159.6 L181.8,156.1 M180.8,139.5 L183.9,141.9   L182.9,138.2 M181.8,122.0 L185.4,124.2 L183.9,120.3 M182.9,104.4 L186.9,106.5 L184.9,102.4 M183.9,86.9   L188.4,88.7 L185.9,84.5 M184.9,69.3 L189.9,71.0 L186.9,66.6 M185.9,51.8 L191.5,53.3 L187.9,48.8   M186.9,34.2 L193.0,35.6 L188.9,30.9 M184.5,384.2 L180.3,388.4 L186.2,387.6 M185.6,366.6 L181.8,370.7   L187.2,369.7 M186.6,349.1 L183.4,353.0 L188.3,351.8 M187.6,331.5 L184.9,335.3 L189.3,333.9 M188.6,314.0   L186.4,317.5 L190.3,316.0 M189.6,296.5 L187.9,299.8 L191.3,298.1 M190.6,278.9 L189.4,282.1 L192.3,280.3   M191.6,261.4 L191.0,264.4 L193.3,262.4 M192.6,243.8 L192.5,246.7 L194.3,244.5 M193.7,226.3 L194.0,229.0   L195.3,226.6 M194.7,208.7 L195.5,211.2 L196.4,208.7 M195.7,191.2 L197.0,193.5 L197.4,190.8 M196.7,173.6   L198.5,175.8 L198.4,172.9 M197.7,156.1 L200.1,158.1 L199.4,155.1 M198.7,138.5 L201.6,140.4 L200.4,137.2   M199.7,121.0 L203.1,122.7 L201.4,119.3 M200.7,103.4 L204.6,104.9 L202.4,101.4 M201.8,85.9 L206.1,87.2   L203.4,83.5 M202.8,68.3 L207.7,69.5 L204.5,65.6 M203.8,50.8 L209.2,51.8 L205.5,47.7 M204.8,33.2   L210.7,34.1 L206.5,29.9 M202.4,383.2 L198.0,386.9 L203.8,386.6 M203.4,365.6 L199.6,369.2 L204.8,368.7   M204.5,348.1 L201.1,351.5 L205.8,350.8 M205.5,330.5 L202.6,333.7 L206.8,332.9 M206.5,313.0 L204.1,316.0   L207.8,315.0 M207.5,295.4 L205.6,298.3 L208.8,297.1 M208.5,277.9 L207.2,280.6 L209.9,279.2 M209.5,260.3   L208.7,262.9 L210.9,261.4 M210.5,242.8 L210.2,245.2 L211.9,243.5 M211.5,225.2 L211.7,227.4 L212.9,225.6   M212.6,207.7 L213.2,209.7 L213.9,207.7 M213.6,190.2 L214.7,192.0 L214.9,189.8 M214.6,172.6 L216.3,174.3   L215.9,171.9 M215.6,155.1 L217.8,156.6 L216.9,154.0 M216.6,137.5 L219.3,138.9 L218.0,136.2 M217.6,120.0   L220.8,121.1 L219.0,118.3 M218.6,102.4 L222.3,103.4 L220.0,100.4 M219.6,84.9 L223.9,85.7 L221.0,82.5   M220.7,67.3 L225.4,68.0 L222.0,64.6 M221.7,49.8 L226.9,50.3 L223.0,46.7 M222.7,32.2 L228.4,32.6   L224.0,28.8 M220.3,382.2 L215.8,385.4 L221.3,385.5 M221.3,364.6 L217.3,367.7 L222.3,367.7 M222.3,347.1   L218.8,349.9 L223.4,349.8 M223.4,329.5 L220.3,332.2 L224.4,331.9 M224.4,312.0 L221.8,314.5 L225.4,314.0   M225.4,294.4 L223.4,296.8 L226.4,296.1 M226.4,276.9 L224.9,279.1 L227.4,278.2 M227.4,259.3 L226.4,261.4   L228.4,260.3 M228.4,241.8 L227.9,243.6 L229.4,242.5 M229.4,224.2 L229.4,225.9 L230.4,224.6 M230.4,206.7   L230.9,208.2 L231.5,206.7 M231.5,189.1 L232.5,190.5 L232.5,188.8 M232.5,171.6 L234.0,172.8 L233.5,170.9   M233.5,154.0 L235.5,155.1 L234.5,153.0 M234.5,136.5 L237.0,137.3 L235.5,135.1 M235.5,118.9 L238.5,119.6   L236.5,117.3 M236.5,101.4 L240.1,101.9 L237.5,99.4 M237.5,83.9 L241.6,84.2 L238.5,81.5 M238.5,66.3   L243.1,66.5 L239.6,63.6 M239.6,48.8 L244.6,48.8 L240.6,45.7 M240.6,31.2 L246.1,31.0 L241.6,27.8   M238.2,381.2 L233.5,383.9 L238.9,384.5 M239.2,363.6 L235.0,366.1 L239.9,366.6 M240.2,346.1 L236.5,348.4   L240.9,348.8  \" stroke=\"rgb(  0, 114, 189)\"/>\t<path d=\"M241.2,328.5 L238.0,330.7 L241.9,330.9 M242.3,311.0 L239.6,313.0 L242.9,313.0 M243.3,293.4 L241.1,295.3   L243.9,295.1 M244.3,275.9 L242.6,277.6 L245.0,277.2 M245.3,258.3 L244.1,259.8 L246.0,259.3 M246.3,240.8   L245.6,242.1 L247.0,241.4 M247.3,223.2 L247.1,224.4 L248.0,223.6 M248.3,205.7 L248.7,206.7 L249.0,205.7   M249.3,188.1 L250.2,189.0 L250.0,187.8 M250.4,170.6 L251.7,171.3 L251.0,169.9 M251.4,153.0 L253.2,153.5   L252.0,152.0 M252.4,135.5 L254.7,135.8 L253.1,134.1 M253.4,117.9 L256.3,118.1 L254.1,116.2 M254.4,100.4   L257.8,100.4 L255.1,98.4 M255.4,82.8 L259.3,82.7 L256.1,80.5 M256.4,65.3 L260.8,65.0 L257.1,62.6   M257.4,47.7 L262.3,47.2 L258.1,44.7 M258.5,30.2 L263.9,29.5 L259.1,26.8 M256.1,380.1 L251.2,382.3   L256.4,383.5 M257.1,362.6 L252.7,364.6 L257.4,365.6 M258.1,345.0 L254.2,346.9 L258.5,347.7 M259.1,327.5   L255.8,329.2 L259.5,329.9 M260.1,309.9 L257.3,311.5 L260.5,312.0 M261.2,292.4 L258.8,293.8 L261.5,294.1   M262.2,274.9 L260.3,276.0 L262.5,276.2 M263.2,257.3 L261.8,258.3 L263.5,258.3 M264.2,239.8 L263.3,240.6   L264.5,240.4 M265.2,222.2 L264.9,222.9 L265.5,222.5 M266.2,204.7 L266.4,205.2 L266.6,204.7 M267.2,187.1   L267.9,187.5 L267.6,186.8 M268.2,169.6 L269.4,169.7 L268.6,168.9 M269.3,152.0 L270.9,152.0 L269.6,151.0   M270.3,134.5 L272.5,134.3 L270.6,133.1 M271.3,116.9 L274.0,116.6 L271.6,115.2 M272.3,99.4 L275.5,98.9   L272.6,97.4 M273.3,81.8 L277.0,81.2 L273.6,79.5 M274.3,64.3 L278.5,63.4 L274.7,61.6 M275.3,46.7   L280.1,45.7 L275.7,43.7 M276.3,29.2 L281.6,28.0 L276.7,25.8 M274.0,379.1 L268.9,380.8 L274.0,382.5   M275.0,361.6 L270.4,363.1 L275.0,364.6 M276.0,344.0 L272.0,345.4 L276.0,346.7 M277.0,326.5 L273.5,327.7   L277.0,328.8 M278.0,308.9 L275.0,309.9 L278.0,311.0 M279.0,291.4 L276.5,292.2 L279.0,293.1 M280.1,273.8   L278.0,274.5 L280.1,275.2 M281.1,256.3 L279.5,256.8 L281.1,257.3 M282.1,238.7 L281.1,239.1 L282.1,239.4   M283.1,221.2 L282.6,221.4 L283.1,221.5 M284.1,203.6 M285.1,186.1 L285.6,185.9 L285.1,185.8 M286.1,168.6   L287.1,168.2 L286.1,167.9 M287.1,151.0 L288.7,150.5 L287.1,150.0 M288.1,133.5 L290.2,132.8 L288.1,132.1   M289.2,115.9 L291.7,115.1 L289.2,114.2 M290.2,98.4 L293.2,97.4 L290.2,96.3 M291.2,80.8 L294.7,79.6   L291.2,78.5 M292.2,63.3 L296.2,61.9 L292.2,60.6 M293.2,45.7 L297.8,44.2 L293.2,42.7 M294.2,28.2   L299.3,26.5 L294.2,24.8 M291.9,378.1 L286.6,379.3 L291.5,381.5 M292.9,360.6 L288.1,361.6 L292.5,363.6   M293.9,343.0 L289.7,343.9 L293.5,345.7 M294.9,325.5 L291.2,326.1 L294.6,327.8 M295.9,307.9 L292.7,308.4   L295.6,309.9 M296.9,290.4 L294.2,290.7 L296.6,292.1 M297.9,272.8 L295.7,273.0 L297.6,274.2 M298.9,255.3   L297.3,255.3 L298.6,256.3 M300.0,237.7 L298.8,237.6 L299.6,238.4 M301.0,220.2 L300.3,219.8 L300.6,220.5   M302.0,202.6 L301.8,202.1 L301.6,202.6 M303.0,185.1 L303.3,184.4 L302.7,184.8 M304.0,167.5 L304.9,166.7   L303.7,166.9 M305.0,150.0 L306.4,149.0 L304.7,149.0 M306.0,132.4 L307.9,131.3 L305.7,131.1 M307.0,114.9   L309.4,113.5 L306.7,113.2 M308.1,97.4 L310.9,95.8 L307.7,95.3 M309.1,79.8 L312.4,78.1 L308.7,77.4   M310.1,62.3 L314.0,60.4 L309.7,59.6 M311.1,44.7 L315.5,42.7 L310.8,41.7 M312.1,27.2 L317.0,25.0   L311.8,23.8 M309.7,377.1 L304.3,377.8 L309.1,380.5 M310.8,359.6 L305.9,360.1 L310.1,362.6 M311.8,342.0   L307.4,342.3 L311.1,344.7 M312.8,324.5 L308.9,324.6 L312.1,326.8 M313.8,306.9 L310.4,306.9 L313.1,308.9   M314.8,289.4 L311.9,289.2 L314.1,291.1 M315.8,271.8 L313.5,271.5 L315.1,273.2 M316.8,254.3 L315.0,253.8   L316.2,255.3 M317.8,236.7 L316.5,236.0 L317.2,237.4 M318.9,219.2 L318.0,218.3 L318.2,219.5 M319.9,201.6   L319.5,200.6 L319.2,201.6 M320.9,184.1 L321.1,182.9 L320.2,183.7 M321.9,166.5 L322.6,165.2 L321.2,165.9   M322.9,149.0 L324.1,147.5 L322.2,148.0 M323.9,131.4 L325.6,129.7 L323.2,130.1 M324.9,113.9 L327.1,112.0   L324.3,112.2 M325.9,96.3 L328.6,94.3 L325.3,94.3 M327.0,78.8 L330.2,76.6 L326.3,76.4 M328.0,61.2   L331.7,58.9 L327.3,58.5 M329.0,43.7 L333.2,41.2 L328.3,40.7 M330.0,26.1 L334.7,23.4 L329.3,22.8   M327.6,376.1 L322.1,376.3 L326.6,379.5 M328.6,358.5 L323.6,358.5 L327.6,361.6 M329.7,341.0 L325.1,340.8   L328.6,343.7 M330.7,323.4 L326.6,323.1 L329.7,325.8 M331.7,305.9 L328.1,305.4 L330.7,307.9 M332.7,288.4   L329.7,287.7 L331.7,290.0 M333.7,270.8 L331.2,270.0 L332.7,272.2 M334.7,253.3 L332.7,252.2 L333.7,254.3   M335.7,235.7 L334.2,234.5 L334.7,236.4 M336.7,218.2 L335.7,216.8 L335.7,218.5 M337.8,200.6 L337.3,199.1   L336.7,200.6 M338.8,183.1 L338.8,181.4 L337.8,182.7 M339.8,165.5 L340.3,163.7 L338.8,164.8 M340.8,148.0   L341.8,145.9 L339.8,147.0 M341.8,130.4 L343.3,128.2 L340.8,129.1 M342.8,112.9 L344.8,110.5 L341.8,111.2   M343.8,95.3 L346.4,92.8 L342.8,93.3 M344.8,77.8 L347.9,75.1 L343.8,75.4 M345.9,60.2 L349.4,57.4   L344.8,57.5 M346.9,42.7 L350.9,39.6 L345.9,39.6 M347.9,25.1 L352.4,21.9 L346.9,21.8 M345.5,375.1   L339.8,374.7 L344.2,378.5 M346.5,357.5 L341.3,357.0 L345.2,360.6 M347.5,340.0 L342.8,339.3 L346.2,342.7   M348.6,322.4 L344.3,321.6 L347.2,324.8 M349.6,304.9 L345.9,303.9 L348.2,306.9 M350.6,287.3 L347.4,286.2   L349.2,289.0 M351.6,269.8 L348.9,268.4 L350.2,271.1 M352.6,252.2 L350.4,250.7 L351.3,253.3 M353.6,234.7   L351.9,233.0 L352.3,235.4 M354.6,217.1 L353.5,215.3 L353.3,217.5 M355.6,199.6 L355.0,197.6 L354.3,199.6   M356.7,182.1 L356.5,179.9 L355.3,181.7 M357.7,164.5 L358.0,162.1 L356.3,163.8 M358.7,147.0 L359.5,144.4   L357.3,145.9 M359.7,129.4 L361.0,126.7 L358.3,128.1 M360.7,111.9 L362.6,109.0 L359.4,110.2 M361.7,94.3   L364.1,91.3 L360.4,92.3 M362.7,76.8 L365.6,73.6 L361.4,74.4 M363.7,59.2 L367.1,55.8 L362.4,56.5   M364.8,41.7 L368.6,38.1 L363.4,38.6 M365.8,24.1 L370.2,20.4 L364.4,20.7 M363.4,374.1 L357.5,373.2   L361.7,377.4 M364.4,356.5 L359.0,355.5 L362.7,359.6 M365.4,339.0 L360.5,337.8 L363.7,341.7 M366.4,321.4   L362.1,320.1 L364.8,323.8 M367.5,303.9 L363.6,302.4 L365.8,305.9 M368.5,286.3 L365.1,284.6 L366.8,288.0   M369.5,268.8 L366.6,266.9 L367.8,270.1 M370.5,251.2 L368.1,249.2 L368.8,252.2 M371.5,233.7 L369.7,231.5   L369.8,234.4 M372.5,216.1 L371.2,213.8 L370.8,216.5 M373.5,198.6 L372.7,196.1 L371.8,198.6 M374.5,181.0   L374.2,178.3 L372.9,180.7 M375.6,163.5 L375.7,160.6 L373.9,162.8 M376.6,145.9 L377.2,142.9 L374.9,144.9   M377.6,128.4 L378.8,125.2 L375.9,127.0 M378.6,110.8 L380.3,107.5 L376.9,109.2 M379.6,93.3 L381.8,89.8   L377.9,91.3 M380.6,75.8 L383.3,72.0 L378.9,73.4 M381.6,58.2 L384.8,54.3 L379.9,55.5 M382.6,40.7   L386.4,36.6 L381.0,37.6 M383.7,23.1 L387.9,18.9 L382.0,19.7 M381.3,373.1 L375.2,371.7 L379.3,376.4   M382.3,355.5 L376.7,354.0 L380.3,358.5 M383.3,338.0 L378.3,336.3 L381.3,340.7 M384.3,320.4 L379.8,318.6   L382.3,322.8 M385.3,302.9 L381.3,300.8 L383.3,304.9 M386.4,285.3 L382.8,283.1 L384.3,287.0 M387.4,267.8   L384.3,265.4 L385.3,269.1  \" stroke=\"rgb(  0, 114, 189)\"/>\t<path d=\"M388.4,250.2 L385.9,247.7 L386.4,251.2 M389.4,232.7 L387.4,230.0 L387.4,233.3 M390.4,215.1 L388.9,212.3   L388.4,215.5 M391.4,197.6 L390.4,194.5 L389.4,197.6 M392.4,180.0 L391.9,176.8 L390.4,179.7 M393.4,162.5   L393.4,159.1 L391.4,161.8 M394.5,144.9 L395.0,141.4 L392.4,143.9 M395.5,127.4 L396.5,123.7 L393.4,126.0   M396.5,109.8 L398.0,106.0 L394.5,108.1 M397.5,92.3 L399.5,88.2 L395.5,90.3 M398.5,74.7 L401.0,70.5   L396.5,72.4 M399.5,57.2 L402.6,52.8 L397.5,54.5 M400.5,39.6 L404.1,35.1 L398.5,36.6 M401.5,22.1   L405.6,17.4 L399.5,18.7 M399.2,372.0 L392.9,370.2 L396.8,375.4 M400.2,354.5 L394.5,352.5 L397.8,357.5   M401.2,336.9 L396.0,334.8 L398.8,339.6 M402.2,319.4 L397.5,317.0 L399.9,321.8 M403.2,301.8 L399.0,299.3   L400.9,303.9 M404.2,284.3 L400.5,281.6 L401.9,286.0 M405.3,266.8 L402.1,263.9 L402.9,268.1 M406.3,249.2   L403.6,246.2 L403.9,250.2 M407.3,231.7 L405.1,228.5 L404.9,232.3 M408.3,214.1 L406.6,210.7 L405.9,214.4   M409.3,196.6 L408.1,193.0 L406.9,196.6 M410.3,179.0 L409.6,175.3 L408.0,178.7 M411.3,161.5 L411.2,157.6   L409.0,160.8 M412.3,143.9 L412.7,139.9 L410.0,142.9 M413.4,126.4 L414.2,122.2 L411.0,125.0 M414.4,108.8   L415.7,104.4 L412.0,107.1 M415.4,91.3 L417.2,86.7 L413.0,89.3 M416.4,73.7 L418.8,69.0 L414.0,71.4   M417.4,56.2 L420.3,51.3 L415.0,53.5 M418.4,38.6 L421.8,33.6 L416.1,35.6 M419.4,21.1 L423.3,15.9   L417.1,17.7 M417.1,371.0 L410.7,368.7 L414.4,374.4 M418.1,353.5 L412.2,350.9 L415.4,356.5 M419.1,335.9   L413.7,333.2 L416.4,338.6 M420.1,318.4 L415.2,315.5 L417.4,320.7 M421.1,300.8 L416.7,297.8 L418.4,302.9   M422.1,283.3 L418.3,280.1 L419.4,285.0 M423.1,265.7 L419.8,262.4 L420.4,267.1 M424.2,248.2 L421.3,244.7   L421.5,249.2 M425.2,230.6 L422.8,226.9 L422.5,231.3 M426.2,213.1 L424.3,209.2 L423.5,213.4 M427.2,195.6   L425.8,191.5 L424.5,195.6 M428.2,178.0 L427.4,173.8 L425.5,177.7 M429.2,160.5 L428.9,156.1 L426.5,159.8   M430.2,142.9 L430.4,138.4 L427.5,141.9 M431.2,125.4 L431.9,120.6 L428.5,124.0 M432.3,107.8 L433.4,102.9   L429.6,106.1 M433.3,90.3 L435.0,85.2 L430.6,88.2 M434.3,72.7 L436.5,67.5 L431.6,70.4 M435.3,55.2   L438.0,49.8 L432.6,52.5 M436.3,37.6 L439.5,32.1 L433.6,34.6 M437.3,20.1 L441.0,14.3 L434.6,16.7   M435.0,370.0 L428.4,367.1 L431.9,373.4 M436.0,352.5 L429.9,349.4 L432.9,355.5 M437.0,334.9 L431.4,331.7   L433.9,337.6 M438.0,317.4 L432.9,314.0 L435.0,319.7 M439.0,299.8 L434.4,296.3 L436.0,301.8 M440.0,282.3   L436.0,278.6 L437.0,284.0 M441.0,264.7 L437.5,260.8 L438.0,266.1 M442.0,247.2 L439.0,243.1 L439.0,248.2   M443.1,229.6 L440.5,225.4 L440.0,230.3 M444.1,212.1 L442.0,207.7 L441.0,212.4 M445.1,194.5 L443.6,190.0   L442.0,194.5 M446.1,177.0 L445.1,172.3 L443.1,176.7 M447.1,159.4 L446.6,154.6 L444.1,158.8 M448.1,141.9   L448.1,136.8 L445.1,140.9 M449.1,124.3 L449.6,119.1 L446.1,123.0 M450.1,106.8 L451.2,101.4 L447.1,105.1   M451.2,89.3 L452.7,83.7 L448.1,87.2 M452.2,71.7 L454.2,66.0 L449.1,69.3 M453.2,54.2 L455.7,48.3   L450.1,51.5 M454.2,36.6 L457.2,30.5 L451.2,33.6 M455.2,19.1 L458.7,12.8 L452.2,15.7 M452.8,369.0   L446.1,365.6 L449.5,372.4 M453.9,351.5 L447.6,347.9 L450.5,354.5 M454.9,333.9 L449.1,330.2 L451.5,336.6   M455.9,316.4 L450.6,312.5 L452.5,318.7 M456.9,298.8 L452.2,294.8 L453.5,300.8 M457.9,281.3 L453.7,277.0   L454.5,283.0 M458.9,263.7 L455.2,259.3 L455.5,265.1 M459.9,246.2 L456.7,241.6 L456.6,247.2 M460.9,228.6   L458.2,223.9 L457.6,229.3 M462.0,211.1 L459.8,206.2 L458.6,211.4 M463.0,193.5 L461.3,188.5 L459.6,193.5   M464.0,176.0 L462.8,170.7 L460.6,175.6 M465.0,158.4 L464.3,153.0 L461.6,157.8 M466.0,140.9 L465.8,135.3   L462.6,139.9 M467.0,123.3 L467.4,117.6 L463.6,122.0 M468.0,105.8 L468.9,99.9 L464.7,104.1 M469.0,88.2   L470.4,82.2 L465.7,86.2 M470.1,70.7 L471.9,64.4 L466.7,68.3 M471.1,53.1 L473.4,46.7 L467.7,50.4   M472.1,35.6 L474.9,29.0 L468.7,32.6 M473.1,18.0 L476.5,11.3 L469.7,14.7  \" stroke=\"rgb(  0, 114, 189)\"/></g>\n",
       "\t</g>\n",
       "\t<g id=\"gnuplot_plot_3a\"><title>gnuplot_plot_3a</title>\n",
       "<g color=\"black\" fill=\"none\" stroke=\"currentColor\" stroke-linecap=\"butt\" stroke-linejoin=\"miter\" stroke-width=\"2.00\">\n",
       "\t<path d=\"M372.7,132.8 L372.6,131.0 L372.3,129.3 L371.9,127.5 L371.3,125.9 L370.5,124.3 L369.6,122.8 L368.5,121.4   L367.3,120.1 L366.0,118.9 L364.5,117.9 L363.0,117.0 L361.4,116.3 L359.7,115.7 L358.0,115.3 L356.2,115.1   L354.5,115.1 L352.7,115.2 L350.9,115.5 L349.2,116.0 L347.6,116.7 L346.0,117.5 L344.5,118.5 L343.2,119.6   L341.9,120.8 L340.8,122.2 L339.8,123.7 L339.0,125.2 L338.3,126.8 L337.8,128.5 L337.4,130.3 L337.3,132.0   L337.3,133.8 L337.5,135.6 L337.8,137.3 L338.4,139.0 L339.1,140.6 L339.9,142.2 L341.0,143.6 L342.1,145.0   L343.4,146.2 L344.8,147.3 L346.3,148.2 L347.9,149.0 L349.5,149.6 L351.2,150.1 L353.0,150.4 L354.8,150.5   L356.5,150.4 L358.3,150.2 L360.0,149.8 L361.7,149.2 L363.3,148.4 L364.8,147.5 L366.2,146.5 L367.5,145.3   L368.7,144.0 L369.8,142.5 L370.7,141.0 L371.4,139.4 L372.0,137.7 L372.4,136.0 L372.6,134.3  \" stroke=\"rgb(255,   0,   0)\"/></g>\n",
       "\t</g>\n",
       "<g color=\"black\" fill=\"none\" stroke=\"currentColor\" stroke-linecap=\"butt\" stroke-linejoin=\"miter\" stroke-width=\"2.00\">\n",
       "</g>\n",
       "<g color=\"black\" fill=\"none\" stroke=\"black\" stroke-linecap=\"butt\" stroke-linejoin=\"miter\" stroke-width=\"0.50\">\n",
       "</g>\n",
       "<g color=\"black\" fill=\"none\" stroke=\"currentColor\" stroke-linecap=\"butt\" stroke-linejoin=\"miter\" stroke-width=\"0.50\">\n",
       "\t<path d=\"M40.2,396.0 L528.0,396.0  \" stroke=\"rgb( 38,  38,  38)\"/></g>\n",
       "<g color=\"black\" fill=\"none\" stroke=\"currentColor\" stroke-linecap=\"butt\" stroke-linejoin=\"miter\" stroke-width=\"0.50\">\n",
       "\t<path d=\"M40.2,11.3 L528.0,11.3  \" stroke=\"rgb( 38,  38,  38)\"/></g>\n",
       "<g color=\"black\" fill=\"none\" stroke=\"currentColor\" stroke-linecap=\"butt\" stroke-linejoin=\"miter\" stroke-width=\"0.50\">\n",
       "\t<path d=\"M40.2,396.0 L40.2,11.3  \" stroke=\"rgb( 38,  38,  38)\"/></g>\n",
       "<g color=\"black\" fill=\"none\" stroke=\"currentColor\" stroke-linecap=\"butt\" stroke-linejoin=\"miter\" stroke-width=\"0.50\">\n",
       "\t<path d=\"M528.0,396.0 L528.0,11.3  \" stroke=\"rgb( 38,  38,  38)\"/></g>\n",
       "<g color=\"black\" fill=\"none\" stroke=\"rgb( 38,  38,  38)\" stroke-linecap=\"butt\" stroke-linejoin=\"miter\" stroke-width=\"1.00\">\n",
       "</g>\n",
       "<g color=\"black\" fill=\"none\" stroke=\"currentColor\" stroke-linecap=\"butt\" stroke-linejoin=\"miter\" stroke-width=\"1.00\">\n",
       "</g>\n",
       "</g>\n",
       "</svg>"
      ],
      "text/plain": [
       "<IPython.core.display.SVG object>"
      ]
     },
     "metadata": {},
     "output_type": "display_data"
    }
   ],
   "source": [
    "[X, Y] = meshgrid(-5:.5:5,-5:.5:5);\n",
    "v1 = matlabFunction(v(1));\n",
    "v2 = matlabFunction(v(2));\n",
    "quiver(X,Y,v1(Y), v2(X), 'linewidth', 2);\n",
    "axis equal\n",
    "hold on\n",
    "plot(2+0.5*cos([0:0.1:2*pi]),2+0.5*sin([0:0.1:2*pi]) , 'Color','red', 'linewidth', 2);"
   ]
  },
  {
   "cell_type": "markdown",
   "metadata": {
    "slideshow": {
     "slide_type": "subslide"
    }
   },
   "source": [
    "**If the curl and the divergence of a vector field are known, the vector field is completely specified!**"
   ]
  },
  {
   "cell_type": "markdown",
   "metadata": {
    "hideCode": false,
    "hidePrompt": false,
    "slideshow": {
     "slide_type": "subslide"
    }
   },
   "source": [
    "## Integration\n",
    "\n",
    "### Indefinite integral\n",
    "\n",
    "If `f` is a symbolic function, then `int(f)` attempts to find another symbolic expression `F`, so that `diff(F)=f`. The command `int`return the indefinite integral or antiderivative of `f` (provided one exists in closed form). Similar to differentiation, `int(f, v)` uses the symbolic variable `v` as the variable of integration.\n",
    "\n",
    "Some examples:"
   ]
  },
  {
   "cell_type": "code",
   "execution_count": 31,
   "metadata": {
    "hideCode": false,
    "hidePrompt": false
   },
   "outputs": [
    {
     "name": "stdout",
     "output_type": "stream",
     "text": [
      "ans = (sym)\n",
      "\n",
      "  ⎧log(x)  for n = -1\n",
      "  ⎪                  \n",
      "  ⎪ n + 1            \n",
      "  ⎨x                 \n",
      "  ⎪──────  otherwise \n",
      "  ⎪n + 1             \n",
      "  ⎩                  \n",
      "\n",
      "ans = (sym) x⋅cos(a⋅t + b)\n",
      "ans = (sym)\n",
      "\n",
      "  √π⋅erf(x)\n",
      "  ─────────\n",
      "      2    \n",
      "\n"
     ]
    }
   ],
   "source": [
    "syms x n a b t\n",
    "int(x^n, x)\n",
    "int(cos(a*t+b),x)\n",
    "int(exp(-x^2), x)"
   ]
  },
  {
   "cell_type": "markdown",
   "metadata": {
    "hideCode": false,
    "hidePrompt": false,
    "slideshow": {
     "slide_type": "subslide"
    }
   },
   "source": [
    "### Definite integral\n",
    "\n",
    "Definite integration is also possible. The command `int(f,x,a,b)` is used to find a symbolic expression for\n",
    "$$\n",
    "\\int_a^bf(x)\\mathrm dx\n",
    "$$\n",
    "\n",
    "Some examples:"
   ]
  },
  {
   "cell_type": "code",
   "execution_count": 32,
   "metadata": {
    "hideCode": false,
    "hidePrompt": false
   },
   "outputs": [
    {
     "name": "stdout",
     "output_type": "stream",
     "text": [
      "ans = (sym) log(2)\n",
      "ans = (sym)\n",
      "\n",
      "  √2⋅√π\n",
      "  ─────\n",
      "    2  \n",
      "\n"
     ]
    }
   ],
   "source": [
    "syms x\n",
    "int(1/x, x, 1, 2)\n",
    "int(exp(-x^2/2), x, 0, inf)"
   ]
  },
  {
   "cell_type": "markdown",
   "metadata": {
    "hideCode": false,
    "hidePrompt": false,
    "slideshow": {
     "slide_type": "subslide"
    }
   },
   "source": [
    "### Integration with real parameters\n",
    "\n",
    "One of the subtleties involved in symbolic integration is the \"value\" of various parameters. Eg., if $a$ is any positive real number, the function `f`, defined by"
   ]
  },
  {
   "cell_type": "code",
   "execution_count": 33,
   "metadata": {
    "hideCode": false,
    "hidePrompt": false
   },
   "outputs": [],
   "source": [
    "syms x\n",
    "a = sym('1/2');\n",
    "f = exp(-a*x^2);"
   ]
  },
  {
   "cell_type": "markdown",
   "metadata": {
    "hideCode": false,
    "hidePrompt": false
   },
   "source": [
    "is the positive, bell shaped curve"
   ]
  },
  {
   "cell_type": "code",
   "execution_count": 34,
   "metadata": {
    "hideCode": false,
    "hidePrompt": false
   },
   "outputs": [
    {
     "data": {
      "image/svg+xml": [
       "<svg height=\"420px\" viewBox=\"0 0 560 420\" width=\"560px\" xmlns=\"http://www.w3.org/2000/svg\" xmlns:xlink=\"http://www.w3.org/1999/xlink\">\n",
       "\n",
       "<title>Gnuplot</title>\n",
       "<desc>Produced by GNUPLOT 5.0 patchlevel 6 </desc>\n",
       "\n",
       "<g id=\"gnuplot_canvas\">\n",
       "\n",
       "<rect fill=\"#ffffff\" height=\"420\" width=\"560\" x=\"0\" y=\"0\"/>\n",
       "<defs>\n",
       "\n",
       "\t<circle id=\"gpDot\" r=\"0.5\" stroke-width=\"0.5\"/>\n",
       "\t<path d=\"M-1,0 h2 M0,-1 v2\" id=\"gpPt0\" stroke=\"currentColor\" stroke-width=\"0.333\"/>\n",
       "\t<path d=\"M-1,-1 L1,1 M1,-1 L-1,1\" id=\"gpPt1\" stroke=\"currentColor\" stroke-width=\"0.333\"/>\n",
       "\t<path d=\"M-1,0 L1,0 M0,-1 L0,1 M-1,-1 L1,1 M-1,1 L1,-1\" id=\"gpPt2\" stroke=\"currentColor\" stroke-width=\"0.333\"/>\n",
       "\t<rect height=\"2\" id=\"gpPt3\" stroke=\"currentColor\" stroke-width=\"0.333\" width=\"2\" x=\"-1\" y=\"-1\"/>\n",
       "\t<rect fill=\"currentColor\" height=\"2\" id=\"gpPt4\" stroke=\"currentColor\" stroke-width=\"0.333\" width=\"2\" x=\"-1\" y=\"-1\"/>\n",
       "\t<circle cx=\"0\" cy=\"0\" id=\"gpPt5\" r=\"1\" stroke=\"currentColor\" stroke-width=\"0.333\"/>\n",
       "\t<use fill=\"currentColor\" id=\"gpPt6\" stroke=\"none\" xlink:href=\"#gpPt5\"/>\n",
       "\t<path d=\"M0,-1.33 L-1.33,0.67 L1.33,0.67 z\" id=\"gpPt7\" stroke=\"currentColor\" stroke-width=\"0.333\"/>\n",
       "\t<use fill=\"currentColor\" id=\"gpPt8\" stroke=\"none\" xlink:href=\"#gpPt7\"/>\n",
       "\t<use id=\"gpPt9\" stroke=\"currentColor\" transform=\"rotate(180)\" xlink:href=\"#gpPt7\"/>\n",
       "\t<use fill=\"currentColor\" id=\"gpPt10\" stroke=\"none\" xlink:href=\"#gpPt9\"/>\n",
       "\t<use id=\"gpPt11\" stroke=\"currentColor\" transform=\"rotate(45)\" xlink:href=\"#gpPt3\"/>\n",
       "\t<use fill=\"currentColor\" id=\"gpPt12\" stroke=\"none\" xlink:href=\"#gpPt11\"/>\n",
       "\t<path d=\"M0,1.330 L1.265,0.411 L0.782,-1.067 L-0.782,-1.076 L-1.265,0.411 z\" id=\"gpPt13\" stroke=\"currentColor\" stroke-width=\"0.333\"/>\n",
       "\t<use fill=\"currentColor\" id=\"gpPt14\" stroke=\"none\" xlink:href=\"#gpPt13\"/>\n",
       "\t<filter filterUnits=\"objectBoundingBox\" height=\"1\" id=\"textbox\" width=\"1\" x=\"0\" y=\"0\">\n",
       "\t  <feFlood flood-color=\"#FFFFFF\" flood-opacity=\"1\" result=\"bgnd\"/>\n",
       "\t  <feComposite in=\"SourceGraphic\" in2=\"bgnd\" operator=\"atop\"/>\n",
       "\t</filter>\n",
       "\t<filter filterUnits=\"objectBoundingBox\" height=\"1\" id=\"greybox\" width=\"1\" x=\"0\" y=\"0\">\n",
       "\t  <feFlood flood-color=\"lightgrey\" flood-opacity=\"1\" result=\"grey\"/>\n",
       "\t  <feComposite in=\"SourceGraphic\" in2=\"grey\" operator=\"atop\"/>\n",
       "\t</filter>\n",
       "</defs>\n",
       "<g color=\"#FFFFFF\" fill=\"none\" stroke=\"currentColor\" stroke-linecap=\"butt\" stroke-linejoin=\"miter\" stroke-width=\"1.00\">\n",
       "</g>\n",
       "<g color=\"black\" fill=\"none\" stroke=\"currentColor\" stroke-linecap=\"butt\" stroke-linejoin=\"miter\" stroke-width=\"1.00\">\n",
       "\t<g shape-rendering=\"crispEdges\" stroke=\"none\">\n",
       "\t\t<polygon fill=\"rgb(255, 255, 255)\" points=\"30.8,381.6 543.0,381.6 543.0,40.7 30.8,40.7 \"/>\n",
       "\t</g>\n",
       "</g>\n",
       "<g color=\"black\" fill=\"none\" stroke=\"currentColor\" stroke-linecap=\"butt\" stroke-linejoin=\"miter\" stroke-width=\"1.00\">\n",
       "\t<path d=\"M30.8,352.0 L39.2,352.0 M543.1,352.0 L534.7,352.0  \" stroke=\"rgb(  0,   0,   0)\"/>\t<g fill=\"rgb(38,38,38)\" font-family=\"Arial\" font-size=\"10.00\" stroke=\"none\" text-anchor=\"end\" transform=\"translate(25.2,355.3)\">\n",
       "\t\t<text><tspan font-family=\"Arial\">0</tspan></text>\n",
       "\t</g>\n",
       "</g>\n",
       "<g color=\"black\" fill=\"none\" stroke=\"currentColor\" stroke-linecap=\"butt\" stroke-linejoin=\"miter\" stroke-width=\"1.00\">\n",
       "\t<path d=\"M30.8,296.1 L39.2,296.1 M543.1,296.1 L534.7,296.1  \" stroke=\"rgb(  0,   0,   0)\"/>\t<g fill=\"rgb(38,38,38)\" font-family=\"Arial\" font-size=\"10.00\" stroke=\"none\" text-anchor=\"end\" transform=\"translate(25.2,299.4)\">\n",
       "\t\t<text><tspan font-family=\"Arial\">0.2</tspan></text>\n",
       "\t</g>\n",
       "</g>\n",
       "<g color=\"black\" fill=\"none\" stroke=\"currentColor\" stroke-linecap=\"butt\" stroke-linejoin=\"miter\" stroke-width=\"1.00\">\n",
       "\t<path d=\"M30.8,240.1 L39.2,240.1 M543.1,240.1 L534.7,240.1  \" stroke=\"rgb(  0,   0,   0)\"/>\t<g fill=\"rgb(38,38,38)\" font-family=\"Arial\" font-size=\"10.00\" stroke=\"none\" text-anchor=\"end\" transform=\"translate(25.2,243.4)\">\n",
       "\t\t<text><tspan font-family=\"Arial\">0.4</tspan></text>\n",
       "\t</g>\n",
       "</g>\n",
       "<g color=\"black\" fill=\"none\" stroke=\"currentColor\" stroke-linecap=\"butt\" stroke-linejoin=\"miter\" stroke-width=\"1.00\">\n",
       "\t<path d=\"M30.8,184.1 L39.2,184.1 M543.1,184.1 L534.7,184.1  \" stroke=\"rgb(  0,   0,   0)\"/>\t<g fill=\"rgb(38,38,38)\" font-family=\"Arial\" font-size=\"10.00\" stroke=\"none\" text-anchor=\"end\" transform=\"translate(25.2,187.4)\">\n",
       "\t\t<text><tspan font-family=\"Arial\">0.6</tspan></text>\n",
       "\t</g>\n",
       "</g>\n",
       "<g color=\"black\" fill=\"none\" stroke=\"currentColor\" stroke-linecap=\"butt\" stroke-linejoin=\"miter\" stroke-width=\"1.00\">\n",
       "\t<path d=\"M30.8,128.1 L39.2,128.1 M543.1,128.1 L534.7,128.1  \" stroke=\"rgb(  0,   0,   0)\"/>\t<g fill=\"rgb(38,38,38)\" font-family=\"Arial\" font-size=\"10.00\" stroke=\"none\" text-anchor=\"end\" transform=\"translate(25.2,131.4)\">\n",
       "\t\t<text><tspan font-family=\"Arial\">0.8</tspan></text>\n",
       "\t</g>\n",
       "</g>\n",
       "<g color=\"black\" fill=\"none\" stroke=\"currentColor\" stroke-linecap=\"butt\" stroke-linejoin=\"miter\" stroke-width=\"1.00\">\n",
       "\t<path d=\"M30.8,72.2 L39.2,72.2 M543.1,72.2 L534.7,72.2  \" stroke=\"rgb(  0,   0,   0)\"/>\t<g fill=\"rgb(38,38,38)\" font-family=\"Arial\" font-size=\"10.00\" stroke=\"none\" text-anchor=\"end\" transform=\"translate(25.2,75.5)\">\n",
       "\t\t<text><tspan font-family=\"Arial\">1</tspan></text>\n",
       "\t</g>\n",
       "</g>\n",
       "<g color=\"black\" fill=\"none\" stroke=\"currentColor\" stroke-linecap=\"butt\" stroke-linejoin=\"miter\" stroke-width=\"1.00\">\n",
       "\t<path d=\"M42.3,381.6 L42.3,373.2 M42.3,40.6 L42.3,49.0  \" stroke=\"rgb(  0,   0,   0)\"/>\t<g fill=\"rgb(38,38,38)\" font-family=\"Arial\" font-size=\"10.00\" stroke=\"none\" text-anchor=\"middle\" transform=\"translate(42.3,396.9)\">\n",
       "\t\t<text><tspan font-family=\"Arial\">-3</tspan></text>\n",
       "\t</g>\n",
       "</g>\n",
       "<g color=\"black\" fill=\"none\" stroke=\"currentColor\" stroke-linecap=\"butt\" stroke-linejoin=\"miter\" stroke-width=\"1.00\">\n",
       "\t<path d=\"M123.9,381.6 L123.9,373.2 M123.9,40.6 L123.9,49.0  \" stroke=\"rgb(  0,   0,   0)\"/>\t<g fill=\"rgb(38,38,38)\" font-family=\"Arial\" font-size=\"10.00\" stroke=\"none\" text-anchor=\"middle\" transform=\"translate(123.9,396.9)\">\n",
       "\t\t<text><tspan font-family=\"Arial\">-2</tspan></text>\n",
       "\t</g>\n",
       "</g>\n",
       "<g color=\"black\" fill=\"none\" stroke=\"currentColor\" stroke-linecap=\"butt\" stroke-linejoin=\"miter\" stroke-width=\"1.00\">\n",
       "\t<path d=\"M205.4,381.6 L205.4,373.2 M205.4,40.6 L205.4,49.0  \" stroke=\"rgb(  0,   0,   0)\"/>\t<g fill=\"rgb(38,38,38)\" font-family=\"Arial\" font-size=\"10.00\" stroke=\"none\" text-anchor=\"middle\" transform=\"translate(205.4,396.9)\">\n",
       "\t\t<text><tspan font-family=\"Arial\">-1</tspan></text>\n",
       "\t</g>\n",
       "</g>\n",
       "<g color=\"black\" fill=\"none\" stroke=\"currentColor\" stroke-linecap=\"butt\" stroke-linejoin=\"miter\" stroke-width=\"1.00\">\n",
       "\t<path d=\"M287.0,381.6 L287.0,373.2 M287.0,40.6 L287.0,49.0  \" stroke=\"rgb(  0,   0,   0)\"/>\t<g fill=\"rgb(38,38,38)\" font-family=\"Arial\" font-size=\"10.00\" stroke=\"none\" text-anchor=\"middle\" transform=\"translate(287.0,396.9)\">\n",
       "\t\t<text><tspan font-family=\"Arial\">0</tspan></text>\n",
       "\t</g>\n",
       "</g>\n",
       "<g color=\"black\" fill=\"none\" stroke=\"currentColor\" stroke-linecap=\"butt\" stroke-linejoin=\"miter\" stroke-width=\"1.00\">\n",
       "\t<path d=\"M368.5,381.6 L368.5,373.2 M368.5,40.6 L368.5,49.0  \" stroke=\"rgb(  0,   0,   0)\"/>\t<g fill=\"rgb(38,38,38)\" font-family=\"Arial\" font-size=\"10.00\" stroke=\"none\" text-anchor=\"middle\" transform=\"translate(368.5,396.9)\">\n",
       "\t\t<text><tspan font-family=\"Arial\">1</tspan></text>\n",
       "\t</g>\n",
       "</g>\n",
       "<g color=\"black\" fill=\"none\" stroke=\"currentColor\" stroke-linecap=\"butt\" stroke-linejoin=\"miter\" stroke-width=\"1.00\">\n",
       "\t<path d=\"M450.0,381.6 L450.0,373.2 M450.0,40.6 L450.0,49.0  \" stroke=\"rgb(  0,   0,   0)\"/>\t<g fill=\"rgb(38,38,38)\" font-family=\"Arial\" font-size=\"10.00\" stroke=\"none\" text-anchor=\"middle\" transform=\"translate(450.0,396.9)\">\n",
       "\t\t<text><tspan font-family=\"Arial\">2</tspan></text>\n",
       "\t</g>\n",
       "</g>\n",
       "<g color=\"black\" fill=\"none\" stroke=\"currentColor\" stroke-linecap=\"butt\" stroke-linejoin=\"miter\" stroke-width=\"1.00\">\n",
       "\t<path d=\"M531.6,381.6 L531.6,373.2 M531.6,40.6 L531.6,49.0  \" stroke=\"rgb(  0,   0,   0)\"/>\t<g fill=\"rgb(38,38,38)\" font-family=\"Arial\" font-size=\"10.00\" stroke=\"none\" text-anchor=\"middle\" transform=\"translate(531.6,396.9)\">\n",
       "\t\t<text><tspan font-family=\"Arial\">3</tspan></text>\n",
       "\t</g>\n",
       "</g>\n",
       "<g color=\"black\" fill=\"none\" stroke=\"currentColor\" stroke-linecap=\"butt\" stroke-linejoin=\"miter\" stroke-width=\"1.00\">\n",
       "</g>\n",
       "<g color=\"black\" fill=\"none\" stroke=\"currentColor\" stroke-linecap=\"butt\" stroke-linejoin=\"miter\" stroke-width=\"1.00\">\n",
       "\t<g fill=\"rgb(38,38,38)\" font-family=\"Arial\" font-size=\"11.00\" stroke=\"none\" text-anchor=\"middle\" transform=\"translate(286.9,415.2)\">\n",
       "\t\t<text><tspan font-family=\"Arial\">x</tspan></text>\n",
       "\t</g>\n",
       "</g>\n",
       "<g color=\"black\" fill=\"none\" stroke=\"currentColor\" stroke-linecap=\"butt\" stroke-linejoin=\"miter\" stroke-width=\"1.00\">\n",
       "\t<g fill=\"rgb(0,0,0)\" font-family=\":Bold\" font-size=\"11.00\" stroke=\"none\" text-anchor=\"middle\" transform=\"translate(286.9,21.7)\">\n",
       "\t\t<text><tspan font-family=\"\" font-weight=\"bold\">exp (-x</tspan><tspan dy=\"-5.50px\" font-family=\"\" font-size=\"8.8\" font-weight=\"bold\">2</tspan><tspan dy=\"5.50px\" font-family=\"\" font-size=\"11.0\" font-weight=\"bold\"> / 2)</tspan></text>\n",
       "\t</g>\n",
       "</g>\n",
       "<g color=\"black\" fill=\"none\" stroke=\"currentColor\" stroke-linecap=\"butt\" stroke-linejoin=\"miter\" stroke-width=\"1.00\">\n",
       "</g>\n",
       "\t<g id=\"gnuplot_plot_1a\"><title>gnuplot_plot_1a</title>\n",
       "<g color=\"#FFFFFF\" fill=\"none\" stroke=\"currentColor\" stroke-linecap=\"butt\" stroke-linejoin=\"miter\" stroke-width=\"0.50\">\n",
       "</g>\n",
       "<g color=\"black\" fill=\"none\" stroke=\"currentColor\" stroke-linecap=\"butt\" stroke-linejoin=\"miter\" stroke-width=\"0.50\">\n",
       "\t<path d=\"M30.8,350.0 L31.8,349.9 L32.9,349.9 L33.9,349.8 L34.9,349.7 L35.9,349.6 L37.0,349.5 L38.0,349.4   L39.0,349.3 L40.0,349.2 L41.1,349.1 L42.1,349.0 L43.1,348.8 L44.1,348.7 L45.2,348.6 L46.2,348.5   L47.2,348.3 L48.3,348.2 L49.3,348.0 L50.3,347.9 L51.3,347.7 L52.4,347.6 L53.4,347.4 L54.4,347.2   L55.4,347.1 L56.5,346.9 L57.5,346.7 L58.5,346.5 L59.5,346.3 L60.6,346.1 L61.6,345.9 L62.6,345.7   L63.7,345.5 L64.7,345.2 L65.7,345.0 L66.7,344.7 L67.8,344.5 L68.8,344.2 L69.8,344.0 L70.8,343.7   L71.9,343.4 L72.9,343.1 L73.9,342.8 L74.9,342.5 L76.0,342.2 L77.0,341.9 L78.0,341.5 L79.1,341.2   L80.1,340.8 L81.1,340.5 L82.1,340.1 L83.2,339.7 L84.2,339.3 L85.2,338.9 L86.2,338.5 L87.3,338.1   L88.3,337.7 L89.3,337.2 L90.3,336.8 L91.4,336.3 L92.4,335.8 L93.4,335.3 L94.5,334.8 L95.5,334.3   L96.5,333.7 L97.5,333.2 L98.6,332.6 L99.6,332.1 L100.6,331.5 L101.6,330.9 L102.7,330.3 L103.7,329.7   L104.7,329.0 L105.7,328.4 L106.8,327.7 L107.8,327.0 L108.8,326.3 L109.9,325.6 L110.9,324.9 L111.9,324.1   L112.9,323.3 L114.0,322.6 L115.0,321.8 L116.0,321.0 L117.0,320.1 L118.1,319.3 L119.1,318.4 L120.1,317.5   L121.1,316.6 L122.2,315.7 L123.2,314.8 L124.2,313.8 L125.3,312.9 L126.3,311.9 L127.3,310.9 L128.3,309.9   L129.4,308.8 L130.4,307.8 L131.4,306.7 L132.4,305.6 L133.5,304.5 L134.5,303.3 L135.5,302.2 L136.5,301.0   L137.6,299.8 L138.6,298.6 L139.6,297.3 L140.7,296.1 L141.7,294.8 L142.7,293.5 L143.7,292.2 L144.8,290.9   L145.8,289.5 L146.8,288.1 L147.8,286.8 L148.9,285.3 L149.9,283.9 L150.9,282.5 L151.9,281.0 L153.0,279.5   L154.0,278.0 L155.0,276.4 L156.1,274.9 L157.1,273.3 L158.1,271.7 L159.1,270.1 L160.2,268.5 L161.2,266.9   L162.2,265.2 L163.2,263.5 L164.3,261.8 L165.3,260.1 L166.3,258.4 L167.3,256.6 L168.4,254.8 L169.4,253.0   L170.4,251.2 L171.5,249.4 L172.5,247.6 L173.5,245.7 L174.5,243.9 L175.6,242.0 L176.6,240.1 L177.6,238.2   L178.6,236.2 L179.7,234.3 L180.7,232.3 L181.7,230.4 L182.7,228.4 L183.8,226.4 L184.8,224.4 L185.8,222.3   L186.9,220.3 L187.9,218.3 L188.9,216.2 L189.9,214.2 L191.0,212.1 L192.0,210.0 L193.0,207.9 L194.0,205.8   L195.1,203.7 L196.1,201.6 L197.1,199.5 L198.1,197.4 L199.2,195.3 L200.2,193.1 L201.2,191.0 L202.3,188.9   L203.3,186.7 L204.3,184.6 L205.3,182.5 L206.4,180.3 L207.4,178.2 L208.4,176.1 L209.4,173.9 L210.5,171.8   L211.5,169.7 L212.5,167.5 L213.5,165.4 L214.6,163.3 L215.6,161.2 L216.6,159.1 L217.7,157.0 L218.7,154.9   L219.7,152.9 L220.7,150.8 L221.8,148.7 L222.8,146.7 L223.8,144.7 L224.8,142.7 L225.9,140.7 L226.9,138.7   L227.9,136.7 L228.9,134.7 L230.0,132.8 L231.0,130.9 L232.0,129.0 L233.1,127.1 L234.1,125.2 L235.1,123.4   L236.1,121.6 L237.2,119.8 L238.2,118.0 L239.2,116.3 L240.2,114.5 L241.3,112.8 L242.3,111.2 L243.3,109.5   L244.3,107.9 L245.4,106.3 L246.4,104.7 L247.4,103.2 L248.5,101.7 L249.5,100.2 L250.5,98.8 L251.5,97.4   L252.6,96.0 L253.6,94.6 L254.6,93.3 L255.6,92.1 L256.7,90.8 L257.7,89.6 L258.7,88.5 L259.7,87.3   L260.8,86.2 L261.8,85.2 L262.8,84.2 L263.9,83.2 L264.9,82.2 L265.9,81.3 L266.9,80.5 L268.0,79.7   L269.0,78.9 L270.0,78.1 L271.0,77.4 L272.1,76.8 L273.1,76.2 L274.1,75.6 L275.1,75.1 L276.2,74.6   L277.2,74.2 L278.2,73.8 L279.3,73.4 L280.3,73.1 L281.3,72.8 L282.3,72.6 L283.4,72.4 L284.4,72.3   L285.4,72.2 L286.4,72.2 L287.5,72.2 L288.5,72.2 L289.5,72.3 L290.5,72.4 L291.6,72.6 L292.6,72.8   L293.6,73.1 L294.6,73.4 L295.7,73.8 L296.7,74.2 L297.7,74.6 L298.8,75.1 L299.8,75.6 L300.8,76.2   L301.8,76.8 L302.9,77.4 L303.9,78.1 L304.9,78.9 L305.9,79.7 L307.0,80.5 L308.0,81.3 L309.0,82.2   L310.0,83.2 L311.1,84.2 L312.1,85.2 L313.1,86.2 L314.2,87.3 L315.2,88.5 L316.2,89.6 L317.2,90.8   L318.3,92.1 L319.3,93.3 L320.3,94.6 L321.3,96.0 L322.4,97.4 L323.4,98.8 L324.4,100.2 L325.4,101.7   L326.5,103.2 L327.5,104.7 L328.5,106.3 L329.6,107.9 L330.6,109.5 L331.6,111.2 L332.6,112.8 L333.7,114.5   L334.7,116.3 L335.7,118.0 L336.7,119.8 L337.8,121.6 L338.8,123.4 L339.8,125.2 L340.8,127.1 L341.9,129.0   L342.9,130.9 L343.9,132.8 L345.0,134.7 L346.0,136.7 L347.0,138.7 L348.0,140.7 L349.1,142.7 L350.1,144.7   L351.1,146.7 L352.1,148.7 L353.2,150.8 L354.2,152.9 L355.2,154.9 L356.2,157.0 L357.3,159.1 L358.3,161.2   L359.3,163.3 L360.4,165.4 L361.4,167.5 L362.4,169.7 L363.4,171.8 L364.5,173.9 L365.5,176.1 L366.5,178.2   L367.5,180.3 L368.6,182.5 L369.6,184.6 L370.6,186.7 L371.6,188.9 L372.7,191.0 L373.7,193.1 L374.7,195.3   L375.8,197.4 L376.8,199.5 L377.8,201.6 L378.8,203.7 L379.9,205.8 L380.9,207.9 L381.9,210.0 L382.9,212.1   L384.0,214.2 L385.0,216.2 L386.0,218.3 L387.0,220.3 L388.1,222.3 L389.1,224.4 L390.1,226.4 L391.2,228.4   L392.2,230.4 L393.2,232.3 L394.2,234.3 L395.3,236.2 L396.3,238.2 L397.3,240.1 L398.3,242.0 L399.4,243.9   L400.4,245.7 L401.4,247.6 L402.4,249.4 L403.5,251.2 L404.5,253.0 L405.5,254.8 L406.6,256.6 L407.6,258.4   L408.6,260.1 L409.6,261.8 L410.7,263.5 L411.7,265.2 L412.7,266.9 L413.7,268.5 L414.8,270.1 L415.8,271.7   L416.8,273.3 L417.8,274.9 L418.9,276.4 L419.9,278.0 L420.9,279.5 L422.0,281.0 L423.0,282.5 L424.0,283.9   L425.0,285.3 L426.1,286.8 L427.1,288.1 L428.1,289.5 L429.1,290.9 L430.2,292.2 L431.2,293.5 L432.2,294.8   L433.2,296.1 L434.3,297.3 L435.3,298.6 L436.3,299.8 L437.4,301.0 L438.4,302.2 L439.4,303.3 L440.4,304.5   L441.5,305.6 L442.5,306.7 L443.5,307.8 L444.5,308.8 L445.6,309.9 L446.6,310.9 L447.6,311.9 L448.6,312.9   L449.7,313.8 L450.7,314.8 L451.7,315.7 L452.8,316.6 L453.8,317.5 L454.8,318.4 L455.8,319.3 L456.9,320.1   L457.9,321.0 L458.9,321.8 L459.9,322.6 L461.0,323.3 L462.0,324.1 L463.0,324.9 L464.0,325.6 L465.1,326.3   L466.1,327.0 L467.1,327.7 L468.2,328.4 L469.2,329.0 L470.2,329.7 L471.2,330.3 L472.3,330.9 L473.3,331.5   L474.3,332.1 L475.3,332.6 L476.4,333.2 L477.4,333.7 L478.4,334.3 L479.4,334.8 L480.5,335.3 L481.5,335.8   L482.5,336.3 L483.6,336.8 L484.6,337.2 L485.6,337.7 L486.6,338.1 L487.7,338.5 L488.7,338.9 L489.7,339.3   L490.7,339.7 L491.8,340.1 L492.8,340.5 L493.8,340.8 L494.8,341.2 L495.9,341.5 L496.9,341.9 L497.9,342.2   L499.0,342.5 L500.0,342.8 L501.0,343.1 L502.0,343.4 L503.1,343.7 L504.1,344.0 L505.1,344.2 L506.1,344.5   L507.2,344.7 L508.2,345.0 L509.2,345.2 L510.2,345.5 L511.3,345.7 L512.3,345.9 L513.3,346.1 L514.4,346.3   L515.4,346.5 L516.4,346.7 L517.4,346.9 L518.5,347.1 L519.5,347.2 L520.5,347.4 L521.5,347.6 L522.6,347.7   L523.6,347.9 L524.6,348.0 L525.6,348.2 L526.7,348.3 L527.7,348.5 L528.7,348.6 L529.8,348.7 L530.8,348.8   L531.8,349.0 L532.8,349.1 L533.9,349.2 L534.9,349.3 L535.9,349.4 L536.9,349.5 L538.0,349.6 L539.0,349.7   L540.0,349.8 L541.0,349.9 L542.1,349.9 L543.1,350.0  \" stroke=\"rgb(  0, 114, 189)\"/></g>\n",
       "\t</g>\n",
       "<g color=\"#FFFFFF\" fill=\"none\" stroke=\"rgb(  0, 114, 189)\" stroke-linecap=\"butt\" stroke-linejoin=\"miter\" stroke-width=\"2.00\">\n",
       "</g>\n",
       "<g color=\"black\" fill=\"none\" stroke=\"currentColor\" stroke-linecap=\"butt\" stroke-linejoin=\"miter\" stroke-width=\"2.00\">\n",
       "</g>\n",
       "<g color=\"black\" fill=\"none\" stroke=\"black\" stroke-linecap=\"butt\" stroke-linejoin=\"miter\" stroke-width=\"0.50\">\n",
       "</g>\n",
       "<g color=\"black\" fill=\"none\" stroke=\"currentColor\" stroke-linecap=\"butt\" stroke-linejoin=\"miter\" stroke-width=\"0.50\">\n",
       "\t<path d=\"M30.8,381.6 L543.1,381.6  \" stroke=\"rgb( 38,  38,  38)\"/></g>\n",
       "<g color=\"black\" fill=\"none\" stroke=\"currentColor\" stroke-linecap=\"butt\" stroke-linejoin=\"miter\" stroke-width=\"0.50\">\n",
       "\t<path d=\"M30.8,40.6 L543.1,40.6  \" stroke=\"rgb( 38,  38,  38)\"/></g>\n",
       "<g color=\"black\" fill=\"none\" stroke=\"currentColor\" stroke-linecap=\"butt\" stroke-linejoin=\"miter\" stroke-width=\"0.50\">\n",
       "\t<path d=\"M30.8,381.6 L30.8,40.6  \" stroke=\"rgb( 38,  38,  38)\"/></g>\n",
       "<g color=\"black\" fill=\"none\" stroke=\"currentColor\" stroke-linecap=\"butt\" stroke-linejoin=\"miter\" stroke-width=\"0.50\">\n",
       "\t<path d=\"M543.1,381.6 L543.1,40.6  \" stroke=\"rgb( 38,  38,  38)\"/></g>\n",
       "<g color=\"black\" fill=\"none\" stroke=\"rgb( 38,  38,  38)\" stroke-linecap=\"butt\" stroke-linejoin=\"miter\" stroke-width=\"1.00\">\n",
       "</g>\n",
       "<g color=\"black\" fill=\"none\" stroke=\"currentColor\" stroke-linecap=\"butt\" stroke-linejoin=\"miter\" stroke-width=\"1.00\">\n",
       "</g>\n",
       "</g>\n",
       "</svg>"
      ],
      "text/plain": [
       "<IPython.core.display.SVG object>"
      ]
     },
     "metadata": {},
     "output_type": "display_data"
    }
   ],
   "source": [
    "ezplot(f, [-pi,pi])"
   ]
  },
  {
   "cell_type": "markdown",
   "metadata": {
    "hideCode": false,
    "hidePrompt": false,
    "slideshow": {
     "slide_type": "subslide"
    }
   },
   "source": [
    "However is you try to calculate the integral\n",
    "$$\\int_{-\\infty}^{\\infty}e^{-ax^2}\\mathrm dx$$\n",
    "without assigning a value to $a$, MATLAB assumes that $a$ represents a complex number:"
   ]
  },
  {
   "cell_type": "code",
   "execution_count": 35,
   "metadata": {
    "hideCode": false,
    "hidePrompt": false
   },
   "outputs": [
    {
     "name": "stdout",
     "output_type": "stream",
     "text": [
      "  ⎧     √π                                       π\n",
      "  ⎪     ──       for │periodic_argument(a, ∞)│ ≤ ─\n",
      "  ⎪     √a                                       2\n",
      "  ⎪                                               \n",
      "  ⎪∞                                              \n",
      "  ⎨⌠                                              \n",
      "  ⎪⎮       2                                      \n",
      "  ⎪⎮   -a⋅x                                       \n",
      "  ⎪⎮  ℯ      dx              otherwise            \n",
      "  ⎪⌡                                              \n",
      "  ⎩-∞                                             \n"
     ]
    }
   ],
   "source": [
    "syms x a\n",
    "F = int(exp(-a*x^2), x, -inf, inf);\n",
    "pretty(F) % only needed for MATLAB to beautify the output"
   ]
  },
  {
   "cell_type": "markdown",
   "metadata": {
    "hideCode": false,
    "hidePrompt": false,
    "slideshow": {
     "slide_type": "subslide"
    }
   },
   "source": [
    "If you are only interested in the case where $a$ is a real positive number, you can calculate the integral as follows:"
   ]
  },
  {
   "cell_type": "code",
   "execution_count": 36,
   "metadata": {
    "hideCode": false,
    "hidePrompt": false
   },
   "outputs": [
    {
     "name": "stdout",
     "output_type": "stream",
     "text": [
      "ans = (sym)\n",
      "\n",
      "  √π\n",
      "  ──\n",
      "  √a\n",
      "\n"
     ]
    }
   ],
   "source": [
    "syms a positive\n",
    "syms x\n",
    "int(exp(-a*x^2), x, -inf, inf)"
   ]
  },
  {
   "cell_type": "markdown",
   "metadata": {
    "hideCode": false,
    "hidePrompt": false,
    "slideshow": {
     "slide_type": "subslide"
    }
   },
   "source": [
    "## Symbolic summation\n",
    "\n",
    "You can compute symbolic summations, when they exist, by using the `symsum` command, eg. the series\n",
    "$$1 + \\frac{1}{2^2}+\\frac{1}{3^2}+\\cdots$$ sums to "
   ]
  },
  {
   "cell_type": "code",
   "execution_count": 37,
   "metadata": {
    "hideCode": false,
    "hidePrompt": false
   },
   "outputs": [
    {
     "name": "stdout",
     "output_type": "stream",
     "text": [
      "s1 = (sym)\n",
      "\n",
      "   2\n",
      "  π \n",
      "  ──\n",
      "  6 \n",
      "\n"
     ]
    }
   ],
   "source": [
    "syms k\n",
    "s1 = symsum(1/k^2, 1, inf)"
   ]
  },
  {
   "cell_type": "markdown",
   "metadata": {
    "hideCode": false,
    "hidePrompt": false
   },
   "source": [
    "while the geometric series\n",
    "$$1+\\frac{1}{2}+\\frac{1}{2}^2+\\cdots$$ sums to"
   ]
  },
  {
   "cell_type": "code",
   "execution_count": 38,
   "metadata": {
    "hideCode": false,
    "hidePrompt": false
   },
   "outputs": [
    {
     "name": "stdout",
     "output_type": "stream",
     "text": [
      "s2 = (sym) 2\n"
     ]
    }
   ],
   "source": [
    "syms x k\n",
    "a = sym('1/2');\n",
    "s2 = symsum(a^k, 0, inf)"
   ]
  },
  {
   "cell_type": "markdown",
   "metadata": {
    "hideCode": false,
    "hidePrompt": false,
    "slideshow": {
     "slide_type": "subslide"
    }
   },
   "source": [
    "## Taylor series\n",
    "\n",
    "The statements"
   ]
  },
  {
   "cell_type": "code",
   "execution_count": 39,
   "metadata": {
    "hideCode": false,
    "hidePrompt": false
   },
   "outputs": [
    {
     "name": "stdout",
     "output_type": "stream",
     "text": [
      "x = (sym) x\n",
      "      6       4      2    \n",
      "  49⋅x     5⋅x    2⋅x    1\n",
      "  ────── + ──── + ──── + ─\n",
      "  131220   1458    81    9\n"
     ]
    }
   ],
   "source": [
    "syms a, x\n",
    "f = 1/(5+4*cos(x));\n",
    "pretty(taylor(f, x, 0, 'order', 8))"
   ]
  },
  {
   "cell_type": "markdown",
   "metadata": {
    "hideCode": false,
    "hidePrompt": false
   },
   "source": [
    "gives all the terms up to, but not including, order eight in the Taylor series of $f(x)$ about $x=0$:\n",
    "$$\\sum_{n=0}^\\infty\\frac{1}{n!}(x-0)^nf^{(n)}(0)$$"
   ]
  },
  {
   "cell_type": "markdown",
   "metadata": {
    "hideCode": false,
    "hidePrompt": false,
    "slideshow": {
     "slide_type": "subslide"
    }
   },
   "source": [
    "These commands"
   ]
  },
  {
   "cell_type": "code",
   "execution_count": 40,
   "metadata": {
    "hideCode": false,
    "hidePrompt": false
   },
   "outputs": [
    {
     "name": "stdout",
     "output_type": "stream",
     "text": [
      "Waiting..........\n"
     ]
    }
   ],
   "source": [
    "syms x\n",
    "g = exp(x*sin(x));\n",
    "t = taylor(g, x, 2, 'order', 8);"
   ]
  },
  {
   "cell_type": "markdown",
   "metadata": {
    "hideCode": false,
    "hidePrompt": false
   },
   "source": [
    "generate the first 8 nonzero terms of the Taylor series for $g$ about $x=2$.\n",
    "\n",
    "We can plot both functions together to see how well the approximation compares to the actual function:"
   ]
  },
  {
   "cell_type": "code",
   "execution_count": 41,
   "metadata": {
    "hideCode": false,
    "hidePrompt": false
   },
   "outputs": [
    {
     "data": {
      "image/svg+xml": [
       "<svg height=\"420px\" viewBox=\"0 0 560 420\" width=\"560px\" xmlns=\"http://www.w3.org/2000/svg\" xmlns:xlink=\"http://www.w3.org/1999/xlink\">\n",
       "\n",
       "<title>Gnuplot</title>\n",
       "<desc>Produced by GNUPLOT 5.0 patchlevel 6 </desc>\n",
       "\n",
       "<g id=\"gnuplot_canvas\">\n",
       "\n",
       "<rect fill=\"#ffffff\" height=\"420\" width=\"560\" x=\"0\" y=\"0\"/>\n",
       "<defs>\n",
       "\n",
       "\t<circle id=\"gpDot\" r=\"0.5\" stroke-width=\"0.5\"/>\n",
       "\t<path d=\"M-1,0 h2 M0,-1 v2\" id=\"gpPt0\" stroke=\"currentColor\" stroke-width=\"0.333\"/>\n",
       "\t<path d=\"M-1,-1 L1,1 M1,-1 L-1,1\" id=\"gpPt1\" stroke=\"currentColor\" stroke-width=\"0.333\"/>\n",
       "\t<path d=\"M-1,0 L1,0 M0,-1 L0,1 M-1,-1 L1,1 M-1,1 L1,-1\" id=\"gpPt2\" stroke=\"currentColor\" stroke-width=\"0.333\"/>\n",
       "\t<rect height=\"2\" id=\"gpPt3\" stroke=\"currentColor\" stroke-width=\"0.333\" width=\"2\" x=\"-1\" y=\"-1\"/>\n",
       "\t<rect fill=\"currentColor\" height=\"2\" id=\"gpPt4\" stroke=\"currentColor\" stroke-width=\"0.333\" width=\"2\" x=\"-1\" y=\"-1\"/>\n",
       "\t<circle cx=\"0\" cy=\"0\" id=\"gpPt5\" r=\"1\" stroke=\"currentColor\" stroke-width=\"0.333\"/>\n",
       "\t<use fill=\"currentColor\" id=\"gpPt6\" stroke=\"none\" xlink:href=\"#gpPt5\"/>\n",
       "\t<path d=\"M0,-1.33 L-1.33,0.67 L1.33,0.67 z\" id=\"gpPt7\" stroke=\"currentColor\" stroke-width=\"0.333\"/>\n",
       "\t<use fill=\"currentColor\" id=\"gpPt8\" stroke=\"none\" xlink:href=\"#gpPt7\"/>\n",
       "\t<use id=\"gpPt9\" stroke=\"currentColor\" transform=\"rotate(180)\" xlink:href=\"#gpPt7\"/>\n",
       "\t<use fill=\"currentColor\" id=\"gpPt10\" stroke=\"none\" xlink:href=\"#gpPt9\"/>\n",
       "\t<use id=\"gpPt11\" stroke=\"currentColor\" transform=\"rotate(45)\" xlink:href=\"#gpPt3\"/>\n",
       "\t<use fill=\"currentColor\" id=\"gpPt12\" stroke=\"none\" xlink:href=\"#gpPt11\"/>\n",
       "\t<path d=\"M0,1.330 L1.265,0.411 L0.782,-1.067 L-0.782,-1.076 L-1.265,0.411 z\" id=\"gpPt13\" stroke=\"currentColor\" stroke-width=\"0.333\"/>\n",
       "\t<use fill=\"currentColor\" id=\"gpPt14\" stroke=\"none\" xlink:href=\"#gpPt13\"/>\n",
       "\t<filter filterUnits=\"objectBoundingBox\" height=\"1\" id=\"textbox\" width=\"1\" x=\"0\" y=\"0\">\n",
       "\t  <feFlood flood-color=\"#FFFFFF\" flood-opacity=\"1\" result=\"bgnd\"/>\n",
       "\t  <feComposite in=\"SourceGraphic\" in2=\"bgnd\" operator=\"atop\"/>\n",
       "\t</filter>\n",
       "\t<filter filterUnits=\"objectBoundingBox\" height=\"1\" id=\"greybox\" width=\"1\" x=\"0\" y=\"0\">\n",
       "\t  <feFlood flood-color=\"lightgrey\" flood-opacity=\"1\" result=\"grey\"/>\n",
       "\t  <feComposite in=\"SourceGraphic\" in2=\"grey\" operator=\"atop\"/>\n",
       "\t</filter>\n",
       "</defs>\n",
       "<g color=\"#FFFFFF\" fill=\"none\" stroke=\"currentColor\" stroke-linecap=\"butt\" stroke-linejoin=\"miter\" stroke-width=\"1.00\">\n",
       "</g>\n",
       "<g color=\"black\" fill=\"none\" stroke=\"currentColor\" stroke-linecap=\"butt\" stroke-linejoin=\"miter\" stroke-width=\"1.00\">\n",
       "\t<g shape-rendering=\"crispEdges\" stroke=\"none\">\n",
       "\t\t<polygon fill=\"rgb(255, 255, 255)\" points=\"19.6,381.6 543.0,381.6 543.0,40.7 19.6,40.7 \"/>\n",
       "\t</g>\n",
       "</g>\n",
       "<g color=\"black\" fill=\"none\" stroke=\"currentColor\" stroke-linecap=\"butt\" stroke-linejoin=\"miter\" stroke-width=\"1.00\">\n",
       "\t<path d=\"M19.6,325.1 L28.0,325.1 M543.1,325.1 L534.7,325.1  \" stroke=\"rgb(  0,   0,   0)\"/>\t<g fill=\"rgb(38,38,38)\" font-family=\"Arial\" font-size=\"10.00\" stroke=\"none\" text-anchor=\"end\" transform=\"translate(14.0,328.4)\">\n",
       "\t\t<text><tspan font-family=\"Arial\">2</tspan></text>\n",
       "\t</g>\n",
       "</g>\n",
       "<g color=\"black\" fill=\"none\" stroke=\"currentColor\" stroke-linecap=\"butt\" stroke-linejoin=\"miter\" stroke-width=\"1.00\">\n",
       "\t<path d=\"M19.6,263.4 L28.0,263.4 M543.1,263.4 L534.7,263.4  \" stroke=\"rgb(  0,   0,   0)\"/>\t<g fill=\"rgb(38,38,38)\" font-family=\"Arial\" font-size=\"10.00\" stroke=\"none\" text-anchor=\"end\" transform=\"translate(14.0,266.7)\">\n",
       "\t\t<text><tspan font-family=\"Arial\">3</tspan></text>\n",
       "\t</g>\n",
       "</g>\n",
       "<g color=\"black\" fill=\"none\" stroke=\"currentColor\" stroke-linecap=\"butt\" stroke-linejoin=\"miter\" stroke-width=\"1.00\">\n",
       "\t<path d=\"M19.6,201.8 L28.0,201.8 M543.1,201.8 L534.7,201.8  \" stroke=\"rgb(  0,   0,   0)\"/>\t<g fill=\"rgb(38,38,38)\" font-family=\"Arial\" font-size=\"10.00\" stroke=\"none\" text-anchor=\"end\" transform=\"translate(14.0,205.1)\">\n",
       "\t\t<text><tspan font-family=\"Arial\">4</tspan></text>\n",
       "\t</g>\n",
       "</g>\n",
       "<g color=\"black\" fill=\"none\" stroke=\"currentColor\" stroke-linecap=\"butt\" stroke-linejoin=\"miter\" stroke-width=\"1.00\">\n",
       "\t<path d=\"M19.6,140.1 L28.0,140.1 M543.1,140.1 L534.7,140.1  \" stroke=\"rgb(  0,   0,   0)\"/>\t<g fill=\"rgb(38,38,38)\" font-family=\"Arial\" font-size=\"10.00\" stroke=\"none\" text-anchor=\"end\" transform=\"translate(14.0,143.4)\">\n",
       "\t\t<text><tspan font-family=\"Arial\">5</tspan></text>\n",
       "\t</g>\n",
       "</g>\n",
       "<g color=\"black\" fill=\"none\" stroke=\"currentColor\" stroke-linecap=\"butt\" stroke-linejoin=\"miter\" stroke-width=\"1.00\">\n",
       "\t<path d=\"M19.6,78.4 L28.0,78.4 M543.1,78.4 L534.7,78.4  \" stroke=\"rgb(  0,   0,   0)\"/>\t<g fill=\"rgb(38,38,38)\" font-family=\"Arial\" font-size=\"10.00\" stroke=\"none\" text-anchor=\"end\" transform=\"translate(14.0,81.7)\">\n",
       "\t\t<text><tspan font-family=\"Arial\">6</tspan></text>\n",
       "\t</g>\n",
       "</g>\n",
       "<g color=\"black\" fill=\"none\" stroke=\"currentColor\" stroke-linecap=\"butt\" stroke-linejoin=\"miter\" stroke-width=\"1.00\">\n",
       "\t<path d=\"M19.6,381.6 L19.6,373.2 M19.6,40.6 L19.6,49.0  \" stroke=\"rgb(  0,   0,   0)\"/>\t<g fill=\"rgb(38,38,38)\" font-family=\"Arial\" font-size=\"10.00\" stroke=\"none\" text-anchor=\"middle\" transform=\"translate(19.6,396.9)\">\n",
       "\t\t<text><tspan font-family=\"Arial\">1</tspan></text>\n",
       "\t</g>\n",
       "</g>\n",
       "<g color=\"black\" fill=\"none\" stroke=\"currentColor\" stroke-linecap=\"butt\" stroke-linejoin=\"miter\" stroke-width=\"1.00\">\n",
       "\t<path d=\"M150.5,381.6 L150.5,373.2 M150.5,40.6 L150.5,49.0  \" stroke=\"rgb(  0,   0,   0)\"/>\t<g fill=\"rgb(38,38,38)\" font-family=\"Arial\" font-size=\"10.00\" stroke=\"none\" text-anchor=\"middle\" transform=\"translate(150.5,396.9)\">\n",
       "\t\t<text><tspan font-family=\"Arial\">1.5</tspan></text>\n",
       "\t</g>\n",
       "</g>\n",
       "<g color=\"black\" fill=\"none\" stroke=\"currentColor\" stroke-linecap=\"butt\" stroke-linejoin=\"miter\" stroke-width=\"1.00\">\n",
       "\t<path d=\"M281.4,381.6 L281.4,373.2 M281.4,40.6 L281.4,49.0  \" stroke=\"rgb(  0,   0,   0)\"/>\t<g fill=\"rgb(38,38,38)\" font-family=\"Arial\" font-size=\"10.00\" stroke=\"none\" text-anchor=\"middle\" transform=\"translate(281.4,396.9)\">\n",
       "\t\t<text><tspan font-family=\"Arial\">2</tspan></text>\n",
       "\t</g>\n",
       "</g>\n",
       "<g color=\"black\" fill=\"none\" stroke=\"currentColor\" stroke-linecap=\"butt\" stroke-linejoin=\"miter\" stroke-width=\"1.00\">\n",
       "\t<path d=\"M412.2,381.6 L412.2,373.2 M412.2,40.6 L412.2,49.0  \" stroke=\"rgb(  0,   0,   0)\"/>\t<g fill=\"rgb(38,38,38)\" font-family=\"Arial\" font-size=\"10.00\" stroke=\"none\" text-anchor=\"middle\" transform=\"translate(412.2,396.9)\">\n",
       "\t\t<text><tspan font-family=\"Arial\">2.5</tspan></text>\n",
       "\t</g>\n",
       "</g>\n",
       "<g color=\"black\" fill=\"none\" stroke=\"currentColor\" stroke-linecap=\"butt\" stroke-linejoin=\"miter\" stroke-width=\"1.00\">\n",
       "\t<path d=\"M543.1,381.6 L543.1,373.2 M543.1,40.6 L543.1,49.0  \" stroke=\"rgb(  0,   0,   0)\"/>\t<g fill=\"rgb(38,38,38)\" font-family=\"Arial\" font-size=\"10.00\" stroke=\"none\" text-anchor=\"middle\" transform=\"translate(543.1,396.9)\">\n",
       "\t\t<text><tspan font-family=\"Arial\">3</tspan></text>\n",
       "\t</g>\n",
       "</g>\n",
       "<g color=\"black\" fill=\"none\" stroke=\"currentColor\" stroke-linecap=\"butt\" stroke-linejoin=\"miter\" stroke-width=\"1.00\">\n",
       "</g>\n",
       "<g color=\"black\" fill=\"none\" stroke=\"currentColor\" stroke-linecap=\"butt\" stroke-linejoin=\"miter\" stroke-width=\"1.00\">\n",
       "\t<g fill=\"rgb(38,38,38)\" font-family=\"Arial\" font-size=\"11.00\" stroke=\"none\" text-anchor=\"middle\" transform=\"translate(281.3,415.2)\">\n",
       "\t\t<text><tspan font-family=\"Arial\">x</tspan></text>\n",
       "\t</g>\n",
       "</g>\n",
       "<g color=\"black\" fill=\"none\" stroke=\"currentColor\" stroke-linecap=\"butt\" stroke-linejoin=\"miter\" stroke-width=\"1.00\">\n",
       "\t<g fill=\"rgb(0,0,0)\" font-family=\":Bold\" font-size=\"11.00\" stroke=\"none\" text-anchor=\"middle\" transform=\"translate(281.3,21.7)\">\n",
       "\t\t<text><tspan font-family=\"\" font-weight=\"bold\">Taylor approximation vs actual function</tspan></text>\n",
       "\t</g>\n",
       "</g>\n",
       "<g color=\"black\" fill=\"none\" stroke=\"currentColor\" stroke-linecap=\"butt\" stroke-linejoin=\"miter\" stroke-width=\"1.00\">\n",
       "</g>\n",
       "<g color=\"black\" fill=\"none\" stroke=\"currentColor\" stroke-linecap=\"butt\" stroke-linejoin=\"miter\" stroke-width=\"1.00\">\n",
       "\t<path d=\"M433.5,84.0 L433.5,46.6 L537.5,46.6 L537.5,84.0 L433.5,84.0 Z  \" stroke=\"black\"/></g>\n",
       "\t<g id=\"gnuplot_plot_1a\"><title>Taylor</title>\n",
       "<g color=\"#FFFFFF\" fill=\"none\" stroke=\"black\" stroke-linecap=\"butt\" stroke-linejoin=\"miter\" stroke-width=\"0.50\">\n",
       "</g>\n",
       "<g color=\"black\" fill=\"none\" stroke=\"currentColor\" stroke-linecap=\"butt\" stroke-linejoin=\"miter\" stroke-width=\"0.50\">\n",
       "\t<g fill=\"rgb(0,0,0)\" font-family=\"Arial\" font-size=\"10.00\" stroke=\"none\" text-anchor=\"start\" transform=\"translate(481.5,59.3)\">\n",
       "\t\t<text><tspan font-family=\"Arial\">Taylor</tspan></text>\n",
       "\t</g>\n",
       "</g>\n",
       "<g color=\"black\" fill=\"none\" stroke=\"currentColor\" stroke-linecap=\"butt\" stroke-linejoin=\"miter\" stroke-width=\"0.50\">\n",
       "\t<path d=\"M440.5,56.0 L474.5,56.0 M19.6,299.2 L20.6,298.7 L21.7,298.3 L22.7,297.8 L23.8,297.3 L24.8,296.8   L25.9,296.3 L26.9,295.7 L28.0,295.2 L29.0,294.6 L30.1,294.0 L31.1,293.4 L32.2,292.7 L33.2,292.1   L34.3,291.4 L35.3,290.8 L36.4,290.1 L37.4,289.4 L38.5,288.6 L39.5,287.9 L40.6,287.2 L41.6,286.4   L42.7,285.7 L43.7,284.9 L44.8,284.1 L45.8,283.3 L46.9,282.5 L47.9,281.6 L49.0,280.8 L50.0,280.0   L51.1,279.1 L52.1,278.2 L53.2,277.4 L54.2,276.5 L55.3,275.6 L56.3,274.7 L57.4,273.8 L58.4,272.9   L59.5,271.9 L60.5,271.0 L61.6,270.1 L62.6,269.1 L63.7,268.1 L64.7,267.2 L65.8,266.2 L66.8,265.2   L67.9,264.2 L68.9,263.2 L70.0,262.2 L71.0,261.2 L72.1,260.2 L73.1,259.2 L74.2,258.1 L75.2,257.1   L76.3,256.1 L77.3,255.0 L78.3,254.0 L79.4,252.9 L80.4,251.8 L81.5,250.8 L82.5,249.7 L83.6,248.6   L84.6,247.5 L85.7,246.4 L86.7,245.3 L87.8,244.2 L88.8,243.1 L89.9,242.0 L90.9,240.9 L92.0,239.8   L93.0,238.7 L94.1,237.5 L95.1,236.4 L96.2,235.3 L97.2,234.1 L98.3,233.0 L99.3,231.8 L100.4,230.7   L101.4,229.5 L102.5,228.4 L103.5,227.2 L104.6,226.0 L105.6,224.9 L106.7,223.7 L107.7,222.5 L108.8,221.4   L109.8,220.2 L110.9,219.0 L111.9,217.8 L113.0,216.6 L114.0,215.4 L115.1,214.2 L116.1,213.0 L117.2,211.9   L118.2,210.7 L119.3,209.5 L120.3,208.2 L121.4,207.0 L122.4,205.8 L123.5,204.6 L124.5,203.4 L125.6,202.2   L126.6,201.0 L127.7,199.8 L128.7,198.6 L129.8,197.3 L130.8,196.1 L131.9,194.9 L132.9,193.7 L134.0,192.5   L135.0,191.2 L136.0,190.0 L137.1,188.8 L138.1,187.6 L139.2,186.3 L140.2,185.1 L141.3,183.9 L142.3,182.7   L143.4,181.4 L144.4,180.2 L145.5,179.0 L146.5,177.8 L147.6,176.5 L148.6,175.3 L149.7,174.1 L150.7,172.9   L151.8,171.6 L152.8,170.4 L153.9,169.2 L154.9,168.0 L156.0,166.8 L157.0,165.6 L158.1,164.3 L159.1,163.1   L160.2,161.9 L161.2,160.7 L162.3,159.5 L163.3,158.3 L164.4,157.1 L165.4,155.9 L166.5,154.7 L167.5,153.5   L168.6,152.3 L169.6,151.1 L170.7,149.9 L171.7,148.7 L172.8,147.5 L173.8,146.4 L174.9,145.2 L175.9,144.0   L177.0,142.9 L178.0,141.7 L179.1,140.5 L180.1,139.4 L181.2,138.2 L182.2,137.1 L183.3,135.9 L184.3,134.8   L185.4,133.7 L186.4,132.5 L187.5,131.4 L188.5,130.3 L189.6,129.2 L190.6,128.1 L191.7,127.0 L192.7,125.9   L193.8,124.8 L194.8,123.7 L195.8,122.6 L196.9,121.5 L197.9,120.5 L199.0,119.4 L200.0,118.4 L201.1,117.3   L202.1,116.3 L203.2,115.2 L204.2,114.2 L205.3,113.2 L206.3,112.2 L207.4,111.2 L208.4,110.2 L209.5,109.2   L210.5,108.2 L211.6,107.3 L212.6,106.3 L213.7,105.3 L214.7,104.4 L215.8,103.5 L216.8,102.5 L217.9,101.6   L218.9,100.7 L220.0,99.8 L221.0,98.9 L222.1,98.0 L223.1,97.2 L224.2,96.3 L225.2,95.5 L226.3,94.6   L227.3,93.8 L228.4,93.0 L229.4,92.2 L230.5,91.4 L231.5,90.6 L232.6,89.8 L233.6,89.1 L234.7,88.3   L235.7,87.6 L236.8,86.8 L237.8,86.1 L238.9,85.4 L239.9,84.7 L241.0,84.0 L242.0,83.4 L243.1,82.7   L244.1,82.1 L245.2,81.5 L246.2,80.8 L247.3,80.2 L248.3,79.6 L249.4,79.1 L250.4,78.5 L251.5,77.9   L252.5,77.4 L253.5,76.9 L254.6,76.4 L255.6,75.9 L256.7,75.4 L257.7,74.9 L258.8,74.5 L259.8,74.0   L260.9,73.6 L261.9,73.2 L263.0,72.8 L264.0,72.4 L265.1,72.1 L266.1,71.7 L267.2,71.4 L268.2,71.0   L269.3,70.7 L270.3,70.4 L271.4,70.2 L272.4,69.9 L273.5,69.7 L274.5,69.4 L275.6,69.2 L276.6,69.0   L277.7,68.8 L278.7,68.7 L279.8,68.5 L280.8,68.4 L281.9,68.3 L282.9,68.2 L284.0,68.1 L285.0,68.0   L286.1,68.0 L287.1,67.9 L288.2,67.9 L289.2,67.9 L290.3,67.9 L291.3,68.0 L292.4,68.0 L293.4,68.1   L294.5,68.2 L295.5,68.2 L296.6,68.4 L297.6,68.5 L298.7,68.6 L299.7,68.8 L300.8,69.0 L301.8,69.2   L302.9,69.4 L303.9,69.6 L305.0,69.9 L306.0,70.1 L307.1,70.4 L308.1,70.7 L309.2,71.0 L310.2,71.4   L311.2,71.7 L312.3,72.1 L313.3,72.5 L314.4,72.9 L315.4,73.3 L316.5,73.7 L317.5,74.2 L318.6,74.6   L319.6,75.1 L320.7,75.6 L321.7,76.1 L322.8,76.7 L323.8,77.2 L324.9,77.8 L325.9,78.4 L327.0,79.0   L328.0,79.6 L329.1,80.2 L330.1,80.9 L331.2,81.5 L332.2,82.2 L333.3,82.9 L334.3,83.6 L335.4,84.4   L336.4,85.1 L337.5,85.9 L338.5,86.6 L339.6,87.4 L340.6,88.2 L341.7,89.1 L342.7,89.9 L343.8,90.8   L344.8,91.6 L345.9,92.5 L346.9,93.4 L348.0,94.3 L349.0,95.3 L350.1,96.2 L351.1,97.2 L352.2,98.1   L353.2,99.1 L354.3,100.1 L355.3,101.1 L356.4,102.2 L357.4,103.2 L358.5,104.3 L359.5,105.3 L360.6,106.4   L361.6,107.5 L362.7,108.6 L363.7,109.7 L364.8,110.9 L365.8,112.0 L366.9,113.2 L367.9,114.4 L368.9,115.6   L370.0,116.8 L371.0,118.0 L372.1,119.2 L373.1,120.4 L374.2,121.7 L375.2,122.9 L376.3,124.2 L377.3,125.5   L378.4,126.8 L379.4,128.1 L380.5,129.4 L381.5,130.7 L382.6,132.0 L383.6,133.4 L384.7,134.7 L385.7,136.1   L386.8,137.5 L387.8,138.9 L388.9,140.3 L389.9,141.7 L391.0,143.1 L392.0,144.5 L393.1,145.9 L394.1,147.4   L395.2,148.8 L396.2,150.3 L397.3,151.8 L398.3,153.2 L399.4,154.7 L400.4,156.2 L401.5,157.7 L402.5,159.2   L403.6,160.7 L404.6,162.2 L405.7,163.8 L406.7,165.3 L407.8,166.9 L408.8,168.4 L409.9,170.0 L410.9,171.5   L412.0,173.1 L413.0,174.7 L414.1,176.3 L415.1,177.9 L416.2,179.4 L417.2,181.1 L418.3,182.7 L419.3,184.3   L420.4,185.9 L421.4,187.5 L422.5,189.2 L423.5,190.8 L424.6,192.4 L425.6,194.1 L426.7,195.7 L427.7,197.4   L428.7,199.1 L429.8,200.7 L430.8,202.4 L431.9,204.1 L432.9,205.8 L434.0,207.5 L435.0,209.1 L436.1,210.8   L437.1,212.6 L438.2,214.3 L439.2,216.0 L440.3,217.7 L441.3,219.4 L442.4,221.2 L443.4,222.9 L444.5,224.6   L445.5,226.4 L446.6,228.1 L447.6,229.9 L448.7,231.7 L449.7,233.4 L450.8,235.2 L451.8,237.0 L452.9,238.8   L453.9,240.6 L455.0,242.4 L456.0,244.2 L457.1,246.0 L458.1,247.8 L459.2,249.6 L460.2,251.4 L461.3,253.3   L462.3,255.1 L463.4,257.0 L464.4,258.9 L465.5,260.7 L466.5,262.6 L467.6,264.5 L468.6,266.4 L469.7,268.3   L470.7,270.2 L471.8,272.2 L472.8,274.1 L473.9,276.0 L474.9,278.0 L476.0,280.0 L477.0,282.0 L478.1,284.0   L479.1,286.0 L480.2,288.0 L481.2,290.0 L482.3,292.1 L483.3,294.2 L484.4,296.3 L485.4,298.4 L486.4,300.5   L487.5,302.6 L488.5,304.8 L489.6,306.9 L490.6,309.1 L491.7,311.4 L492.7,313.6 L493.8,315.8 L494.8,318.1   L495.9,320.4 L496.9,322.8 L498.0,325.1 L499.0,327.5 L500.1,329.9 L501.1,332.3 L502.2,334.8 L503.2,337.3   L504.3,339.8 L505.3,342.3 L506.4,344.9 L507.4,347.5 L508.5,350.2 L509.5,352.8 L510.6,355.6 L511.6,358.3   L512.7,361.1 L513.7,364.0 L514.8,366.8 L515.8,369.8 L516.9,372.7 L517.9,375.7 L519.0,378.8 L519.9,381.6    \" stroke=\"rgb(  0, 114, 189)\"/></g>\n",
       "\t</g>\n",
       "\t<g id=\"gnuplot_plot_2a\"><title>Function</title>\n",
       "<g color=\"black\" fill=\"none\" stroke=\"currentColor\" stroke-linecap=\"butt\" stroke-linejoin=\"miter\" stroke-width=\"0.50\">\n",
       "\t<g fill=\"rgb(0,0,0)\" font-family=\"Arial\" font-size=\"10.00\" stroke=\"none\" text-anchor=\"start\" transform=\"translate(481.5,78.0)\">\n",
       "\t\t<text><tspan font-family=\"Arial\">Function</tspan></text>\n",
       "\t</g>\n",
       "</g>\n",
       "<g color=\"black\" fill=\"none\" stroke=\"currentColor\" stroke-linecap=\"butt\" stroke-linejoin=\"miter\" stroke-width=\"0.50\">\n",
       "\t<path d=\"M440.5,74.7 L474.5,74.7 M19.6,305.4 L20.6,304.6 L21.7,303.8 L22.7,303.0 L23.8,302.2 L24.8,301.4   L25.9,300.5 L26.9,299.7 L28.0,298.9 L29.0,298.1 L30.1,297.2 L31.1,296.4 L32.2,295.5 L33.2,294.7   L34.3,293.8 L35.3,292.9 L36.4,292.1 L37.4,291.2 L38.5,290.3 L39.5,289.4 L40.6,288.6 L41.6,287.7   L42.7,286.8 L43.7,285.9 L44.8,284.9 L45.8,284.0 L46.9,283.1 L47.9,282.2 L49.0,281.3 L50.0,280.3   L51.1,279.4 L52.1,278.4 L53.2,277.5 L54.2,276.5 L55.3,275.6 L56.3,274.6 L57.4,273.7 L58.4,272.7   L59.5,271.7 L60.5,270.7 L61.6,269.7 L62.6,268.8 L63.7,267.8 L64.7,266.8 L65.8,265.8 L66.8,264.7   L67.9,263.7 L68.9,262.7 L70.0,261.7 L71.0,260.7 L72.1,259.6 L73.1,258.6 L74.2,257.5 L75.2,256.5   L76.3,255.5 L77.3,254.4 L78.3,253.3 L79.4,252.3 L80.4,251.2 L81.5,250.1 L82.5,249.1 L83.6,248.0   L84.6,246.9 L85.7,245.8 L86.7,244.7 L87.8,243.6 L88.8,242.5 L89.9,241.4 L90.9,240.3 L92.0,239.2   L93.0,238.1 L94.1,237.0 L95.1,235.8 L96.2,234.7 L97.2,233.6 L98.3,232.5 L99.3,231.3 L100.4,230.2   L101.4,229.0 L102.5,227.9 L103.5,226.7 L104.6,225.6 L105.6,224.4 L106.7,223.3 L107.7,222.1 L108.8,220.9   L109.8,219.8 L110.9,218.6 L111.9,217.4 L113.0,216.3 L114.0,215.1 L115.1,213.9 L116.1,212.7 L117.2,211.5   L118.2,210.3 L119.3,209.1 L120.3,208.0 L121.4,206.8 L122.4,205.6 L123.5,204.4 L124.5,203.2 L125.6,202.0   L126.6,200.8 L127.7,199.5 L128.7,198.3 L129.8,197.1 L130.8,195.9 L131.9,194.7 L132.9,193.5 L134.0,192.3   L135.0,191.1 L136.0,189.8 L137.1,188.6 L138.1,187.4 L139.2,186.2 L140.2,185.0 L141.3,183.8 L142.3,182.5   L143.4,181.3 L144.4,180.1 L145.5,178.9 L146.5,177.7 L147.6,176.4 L148.6,175.2 L149.7,174.0 L150.7,172.8   L151.8,171.6 L152.8,170.3 L153.9,169.1 L154.9,167.9 L156.0,166.7 L157.0,165.5 L158.1,164.3 L159.1,163.1   L160.2,161.9 L161.2,160.7 L162.3,159.4 L163.3,158.2 L164.4,157.0 L165.4,155.8 L166.5,154.6 L167.5,153.5   L168.6,152.3 L169.6,151.1 L170.7,149.9 L171.7,148.7 L172.8,147.5 L173.8,146.3 L174.9,145.2 L175.9,144.0   L177.0,142.8 L178.0,141.7 L179.1,140.5 L180.1,139.4 L181.2,138.2 L182.2,137.1 L183.3,135.9 L184.3,134.8   L185.4,133.6 L186.4,132.5 L187.5,131.4 L188.5,130.3 L189.6,129.2 L190.6,128.1 L191.7,127.0 L192.7,125.9   L193.8,124.8 L194.8,123.7 L195.8,122.6 L196.9,121.5 L197.9,120.5 L199.0,119.4 L200.0,118.4 L201.1,117.3   L202.1,116.3 L203.2,115.2 L204.2,114.2 L205.3,113.2 L206.3,112.2 L207.4,111.2 L208.4,110.2 L209.5,109.2   L210.5,108.2 L211.6,107.3 L212.6,106.3 L213.7,105.3 L214.7,104.4 L215.8,103.5 L216.8,102.5 L217.9,101.6   L218.9,100.7 L220.0,99.8 L221.0,98.9 L222.1,98.0 L223.1,97.2 L224.2,96.3 L225.2,95.5 L226.3,94.6   L227.3,93.8 L228.4,93.0 L229.4,92.2 L230.5,91.4 L231.5,90.6 L232.6,89.8 L233.6,89.1 L234.7,88.3   L235.7,87.6 L236.8,86.8 L237.8,86.1 L238.9,85.4 L239.9,84.7 L241.0,84.0 L242.0,83.4 L243.1,82.7   L244.1,82.1 L245.2,81.5 L246.2,80.8 L247.3,80.2 L248.3,79.6 L249.4,79.1 L250.4,78.5 L251.5,77.9   L252.5,77.4 L253.5,76.9 L254.6,76.4 L255.6,75.9 L256.7,75.4 L257.7,74.9 L258.8,74.5 L259.8,74.0   L260.9,73.6 L261.9,73.2 L263.0,72.8 L264.0,72.4 L265.1,72.1 L266.1,71.7 L267.2,71.4 L268.2,71.0   L269.3,70.7 L270.3,70.4 L271.4,70.2 L272.4,69.9 L273.5,69.7 L274.5,69.4 L275.6,69.2 L276.6,69.0   L277.7,68.8 L278.7,68.7 L279.8,68.5 L280.8,68.4 L281.9,68.3 L282.9,68.2 L284.0,68.1 L285.0,68.0   L286.1,68.0 L287.1,67.9 L288.2,67.9 L289.2,67.9 L290.3,67.9 L291.3,68.0 L292.4,68.0 L293.4,68.1   L294.5,68.2 L295.5,68.2 L296.6,68.4 L297.6,68.5 L298.7,68.6 L299.7,68.8 L300.8,69.0 L301.8,69.2   L302.9,69.4 L303.9,69.6 L305.0,69.9 L306.0,70.1 L307.1,70.4 L308.1,70.7 L309.2,71.0 L310.2,71.4   L311.2,71.7 L312.3,72.1 L313.3,72.5 L314.4,72.9 L315.4,73.3 L316.5,73.7 L317.5,74.2 L318.6,74.6   L319.6,75.1 L320.7,75.6 L321.7,76.1 L322.8,76.7 L323.8,77.2 L324.9,77.8 L325.9,78.4 L327.0,79.0   L328.0,79.6 L329.1,80.2 L330.1,80.9 L331.2,81.5 L332.2,82.2 L333.3,82.9 L334.3,83.6 L335.4,84.4   L336.4,85.1 L337.5,85.9 L338.5,86.6 L339.6,87.4 L340.6,88.2 L341.7,89.1 L342.7,89.9 L343.8,90.8   L344.8,91.6 L345.9,92.5 L346.9,93.4 L348.0,94.3 L349.0,95.3 L350.1,96.2 L351.1,97.2 L352.2,98.1   L353.2,99.1 L354.3,100.1 L355.3,101.1 L356.4,102.2 L357.4,103.2 L358.5,104.3 L359.5,105.3 L360.6,106.4   L361.6,107.5 L362.7,108.6 L363.7,109.7 L364.8,110.9 L365.8,112.0 L366.9,113.2 L367.9,114.4 L368.9,115.5   L370.0,116.7 L371.0,117.9 L372.1,119.2 L373.1,120.4 L374.2,121.6 L375.2,122.9 L376.3,124.2 L377.3,125.4   L378.4,126.7 L379.4,128.0 L380.5,129.3 L381.5,130.7 L382.6,132.0 L383.6,133.3 L384.7,134.7 L385.7,136.0   L386.8,137.4 L387.8,138.8 L388.9,140.2 L389.9,141.6 L391.0,143.0 L392.0,144.4 L393.1,145.8 L394.1,147.3   L395.2,148.7 L396.2,150.2 L397.3,151.6 L398.3,153.1 L399.4,154.5 L400.4,156.0 L401.5,157.5 L402.5,159.0   L403.6,160.5 L404.6,162.0 L405.7,163.5 L406.7,165.0 L407.8,166.6 L408.8,168.1 L409.9,169.6 L410.9,171.2   L412.0,172.7 L413.0,174.3 L414.1,175.8 L415.1,177.4 L416.2,178.9 L417.2,180.5 L418.3,182.1 L419.3,183.7   L420.4,185.3 L421.4,186.8 L422.5,188.4 L423.5,190.0 L424.6,191.6 L425.6,193.2 L426.7,194.8 L427.7,196.4   L428.7,198.0 L429.8,199.6 L430.8,201.2 L431.9,202.8 L432.9,204.4 L434.0,206.1 L435.0,207.7 L436.1,209.3   L437.1,210.9 L438.2,212.5 L439.2,214.1 L440.3,215.8 L441.3,217.4 L442.4,219.0 L443.4,220.6 L444.5,222.2   L445.5,223.8 L446.6,225.5 L447.6,227.1 L448.7,228.7 L449.7,230.3 L450.8,231.9 L451.8,233.5 L452.9,235.1   L453.9,236.7 L455.0,238.3 L456.0,239.9 L457.1,241.6 L458.1,243.1 L459.2,244.7 L460.2,246.3 L461.3,247.9   L462.3,249.5 L463.4,251.1 L464.4,252.7 L465.5,254.3 L466.5,255.8 L467.6,257.4 L468.6,259.0 L469.7,260.5   L470.7,262.1 L471.8,263.6 L472.8,265.2 L473.9,266.7 L474.9,268.3 L476.0,269.8 L477.0,271.3 L478.1,272.9   L479.1,274.4 L480.2,275.9 L481.2,277.4 L482.3,278.9 L483.3,280.4 L484.4,281.9 L485.4,283.4 L486.4,284.9   L487.5,286.4 L488.5,287.8 L489.6,289.3 L490.6,290.8 L491.7,292.2 L492.7,293.6 L493.8,295.1 L494.8,296.5   L495.9,297.9 L496.9,299.4 L498.0,300.8 L499.0,302.2 L500.1,303.6 L501.1,305.0 L502.2,306.4 L503.2,307.7   L504.3,309.1 L505.3,310.5 L506.4,311.8 L507.4,313.2 L508.5,314.5 L509.5,315.9 L510.6,317.2 L511.6,318.5   L512.7,319.8 L513.7,321.1 L514.8,322.4 L515.8,323.7 L516.9,325.0 L517.9,326.2 L519.0,327.5 L520.0,328.8   L521.1,330.0 L522.1,331.2 L523.2,332.5 L524.2,333.7 L525.3,334.9 L526.3,336.1 L527.4,337.3 L528.4,338.5   L529.5,339.7 L530.5,340.9 L531.6,342.0 L532.6,343.2 L533.7,344.3 L534.7,345.5 L535.8,346.6 L536.8,347.7   L537.9,348.8 L538.9,349.9 L540.0,351.0 L541.0,352.1 L542.1,353.2 L543.1,354.3  \" stroke=\"rgb(217,  83,  25)\"/></g>\n",
       "\t</g>\n",
       "<g color=\"#FFFFFF\" fill=\"none\" stroke=\"rgb(217,  83,  25)\" stroke-linecap=\"butt\" stroke-linejoin=\"miter\" stroke-width=\"2.00\">\n",
       "</g>\n",
       "<g color=\"black\" fill=\"none\" stroke=\"currentColor\" stroke-linecap=\"butt\" stroke-linejoin=\"miter\" stroke-width=\"2.00\">\n",
       "</g>\n",
       "<g color=\"black\" fill=\"none\" stroke=\"black\" stroke-linecap=\"butt\" stroke-linejoin=\"miter\" stroke-width=\"0.50\">\n",
       "</g>\n",
       "<g color=\"black\" fill=\"none\" stroke=\"currentColor\" stroke-linecap=\"butt\" stroke-linejoin=\"miter\" stroke-width=\"0.50\">\n",
       "\t<path d=\"M19.6,381.6 L543.1,381.6  \" stroke=\"rgb( 38,  38,  38)\"/></g>\n",
       "<g color=\"black\" fill=\"none\" stroke=\"currentColor\" stroke-linecap=\"butt\" stroke-linejoin=\"miter\" stroke-width=\"0.50\">\n",
       "\t<path d=\"M19.6,40.6 L543.1,40.6  \" stroke=\"rgb( 38,  38,  38)\"/></g>\n",
       "<g color=\"black\" fill=\"none\" stroke=\"currentColor\" stroke-linecap=\"butt\" stroke-linejoin=\"miter\" stroke-width=\"0.50\">\n",
       "\t<path d=\"M19.6,381.6 L19.6,40.6  \" stroke=\"rgb( 38,  38,  38)\"/></g>\n",
       "<g color=\"black\" fill=\"none\" stroke=\"currentColor\" stroke-linecap=\"butt\" stroke-linejoin=\"miter\" stroke-width=\"0.50\">\n",
       "\t<path d=\"M543.1,381.6 L543.1,40.6  \" stroke=\"rgb( 38,  38,  38)\"/></g>\n",
       "<g color=\"black\" fill=\"none\" stroke=\"rgb( 38,  38,  38)\" stroke-linecap=\"butt\" stroke-linejoin=\"miter\" stroke-width=\"1.00\">\n",
       "</g>\n",
       "<g color=\"black\" fill=\"none\" stroke=\"currentColor\" stroke-linecap=\"butt\" stroke-linejoin=\"miter\" stroke-width=\"1.00\">\n",
       "</g>\n",
       "</g>\n",
       "</svg>"
      ],
      "text/plain": [
       "<IPython.core.display.SVG object>"
      ]
     },
     "metadata": {},
     "output_type": "display_data"
    }
   ],
   "source": [
    "ezplot(t, [1, 3]);\n",
    "hold on\n",
    "ezplot(g, [1, 3]);\n",
    "title('Taylor approximation vs actual function');\n",
    "legend('Taylor', 'Function');"
   ]
  },
  {
   "cell_type": "markdown",
   "metadata": {
    "hideCode": false,
    "hidePrompt": false,
    "slideshow": {
     "slide_type": "subslide"
    }
   },
   "source": [
    "Taylor series in multiple variables are also possible, eg."
   ]
  },
  {
   "cell_type": "code",
   "execution_count": 42,
   "metadata": {
    "hideCode": false,
    "hidePrompt": false
   },
   "outputs": [
    {
     "name": "stdout",
     "output_type": "stream",
     "text": [
      "ans = (sym)\n",
      "\n",
      "   2  2          \n",
      "  x ⋅y           \n",
      "  ───── + x⋅y + 1\n",
      "    2            \n",
      "\n"
     ]
    }
   ],
   "source": [
    "syms x y\n",
    "f = exp(x*y);\n",
    "taylor(f, [x,y] , [0,0], 'order', 5)"
   ]
  }
 ],
 "metadata": {
  "celltoolbar": "Slideshow",
  "hide_code_all_hidden": false,
  "kernelspec": {
   "display_name": "Octave",
   "language": "octave",
   "name": "octave"
  },
  "language_info": {
   "file_extension": ".m",
   "help_links": [
    {
     "text": "GNU Octave",
     "url": "https://www.gnu.org/software/octave/support.html"
    },
    {
     "text": "Octave Kernel",
     "url": "https://github.com/Calysto/octave_kernel"
    },
    {
     "text": "MetaKernel Magics",
     "url": "https://github.com/calysto/metakernel/blob/master/metakernel/magics/README.md"
    }
   ],
   "mimetype": "text/x-octave",
   "name": "octave",
   "version": "4.2.1"
  },
  "livereveal": {
   "controls": "false",
   "scroll": "true",
   "start_slideshow_at": "selected"
  }
 },
 "nbformat": 4,
 "nbformat_minor": 2
}
