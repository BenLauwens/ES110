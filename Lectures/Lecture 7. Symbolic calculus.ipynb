{
 "cells": [
  {
   "cell_type": "markdown",
   "metadata": {
    "hideCode": false,
    "hidePrompt": false,
    "slideshow": {
     "slide_type": "slide"
    }
   },
   "source": [
    "# Algebraic equations\n",
    "\n",
    "## Solving an algebraic equation\n",
    "\n",
    "If `S` is a symbolic expression, the command `solve`, attempts to find values of the symbolic variable in `S` for which `S` is zero, eg."
   ]
  },
  {
   "cell_type": "code",
   "execution_count": 2,
   "metadata": {
    "hideCode": false,
    "hidePrompt": false
   },
   "outputs": [
    {
     "name": "stdout",
     "output_type": "stream",
     "text": [
      "OctSymPy v2.6.0: this is free software without warranty, see source.\n",
      "Initializing communication with SymPy using a popen2() pipe.\n",
      "Some output from the Python subprocess (pid 1291) might appear next.\n",
      "Python 2.7.14 (default, Nov  3 2017, 10:55:25) \n",
      "[GCC 7.2.1 20170915 (Red Hat 7.2.1-2)] on linux2\n",
      "Type \"help\", \"copyright\", \"credits\" or \"license\" for more information.\n",
      ">>> >>> \n",
      "OctSymPy: Communication established.  SymPy v1.1.1.\n",
      "S = (sym)\n",
      "\n",
      "   2          \n",
      "  x  - 3⋅x - 4\n",
      "\n",
      "ans = (sym 2×1 matrix)\n",
      "\n",
      "  ⎡-1⎤\n",
      "  ⎢  ⎥\n",
      "  ⎣4 ⎦\n",
      "\n"
     ]
    }
   ],
   "source": [
    "pkg load symbolic\n",
    "syms x\n",
    "S = x^2-3*x-4\n",
    "solve(S)"
   ]
  },
  {
   "cell_type": "markdown",
   "metadata": {
    "hideCode": false,
    "hidePrompt": false,
    "slideshow": {
     "slide_type": "subslide"
    }
   },
   "source": [
    "If more than one symbolic variable is used in the expression `E`, you must specify with respect to which variable you want to solve the equation, eg."
   ]
  },
  {
   "cell_type": "code",
   "execution_count": 3,
   "metadata": {
    "hideCode": false,
    "hidePrompt": false
   },
   "outputs": [
    {
     "name": "stdout",
     "output_type": "stream",
     "text": [
      "E = (sym)\n",
      "\n",
      "     2              \n",
      "  a⋅x  + b⋅x + c = 0\n",
      "\n",
      "ans = (sym 2×1 matrix)\n",
      "\n",
      "  ⎡           _____________⎤\n",
      "  ⎢          ╱           2 ⎥\n",
      "  ⎢   b    ╲╱  -4⋅a⋅c + b  ⎥\n",
      "  ⎢- ─── - ────────────────⎥\n",
      "  ⎢  2⋅a         2⋅a       ⎥\n",
      "  ⎢                        ⎥\n",
      "  ⎢           _____________⎥\n",
      "  ⎢          ╱           2 ⎥\n",
      "  ⎢   b    ╲╱  -4⋅a⋅c + b  ⎥\n",
      "  ⎢- ─── + ────────────────⎥\n",
      "  ⎣  2⋅a         2⋅a       ⎦\n",
      "\n",
      "ans = (sym)\n",
      "\n",
      "         c\n",
      "  -a⋅x - ─\n",
      "         x\n",
      "\n"
     ]
    }
   ],
   "source": [
    "syms a b c x\n",
    "E = a*x^2+b*x+c == 0\n",
    "solve(E, x)\n",
    "solve(E, b)"
   ]
  },
  {
   "cell_type": "markdown",
   "metadata": {
    "hideCode": false,
    "hidePrompt": false,
    "slideshow": {
     "slide_type": "subslide"
    }
   },
   "source": [
    "## Systems of algebraic equations\n",
    "\n",
    "As an example, suppose you have the system\n",
    "$$\n",
    "\\begin{cases}\n",
    "x^2y^2=0\\\\\n",
    "x-\\frac{y}{2}=\\alpha\n",
    "\\end{cases}\n",
    "$$\n",
    "and you want to solve for $x$ and $y$:"
   ]
  },
  {
   "cell_type": "code",
   "execution_count": 3,
   "metadata": {
    "hideCode": false,
    "hidePrompt": false
   },
   "outputs": [
    {
     "name": "stdout",
     "output_type": "stream",
     "text": [
      "x = (sym 2×1 matrix)\n",
      "\n",
      "  ⎡α⎤\n",
      "  ⎢ ⎥\n",
      "  ⎣0⎦\n",
      "\n",
      "y = (sym 2×1 matrix)\n",
      "\n",
      "  ⎡ 0  ⎤\n",
      "  ⎢    ⎥\n",
      "  ⎣-2⋅α⎦\n",
      "\n"
     ]
    }
   ],
   "source": [
    "syms x y alpha\n",
    "[x, y] = solve(x^2*y^2==0, x-y/2==alpha, x, y)"
   ]
  },
  {
   "cell_type": "markdown",
   "metadata": {
    "hideCode": false,
    "hidePrompt": false
   },
   "source": [
    "The solutions are\n",
    "$$\n",
    "\\begin{cases}\n",
    "x = \\alpha,\\ y = 0\\\\\n",
    "x = 0,\\ y=-2\\alpha\n",
    "\\end{cases}\n",
    "$$"
   ]
  },
  {
   "cell_type": "markdown",
   "metadata": {
    "hideCode": false,
    "hidePrompt": false,
    "slideshow": {
     "slide_type": "subslide"
    }
   },
   "source": [
    "This way of assigning output from `solve` is quite successful for \"small\" systems. If you had a 10-by-10 system of equations, typing\n",
    "\n",
    "`[x1, x2, x3, x4, x5, x6, x7, x8, x9, x10] = solve(...)`\n",
    "\n",
    "is both awkward and time consuming. To circumvent this difficulty, `solve` in MATLAB can return a struct whose fields are the solutions, and `solve` in Octave can return a cell array containing structs whose fields are the solution."
   ]
  },
  {
   "cell_type": "code",
   "execution_count": 4,
   "metadata": {
    "hideCode": false,
    "hidePrompt": false
   },
   "outputs": [
    {
     "name": "stdout",
     "output_type": "stream",
     "text": [
      "a = (sym 2×1 matrix)\n",
      "\n",
      "  ⎡-1⎤\n",
      "  ⎢  ⎥\n",
      "  ⎣3 ⎦\n",
      "\n",
      "u = (sym 2×1 matrix)\n",
      "\n",
      "  ⎡1⎤\n",
      "  ⎢ ⎥\n",
      "  ⎣5⎦\n",
      "\n",
      "v = (sym 2×1 matrix)\n",
      "\n",
      "  ⎡0 ⎤\n",
      "  ⎢  ⎥\n",
      "  ⎣-4⎦\n",
      "\n"
     ]
    }
   ],
   "source": [
    "syms a u v\n",
    "S = solve(u^2-v^2==a^2, u+v==1, a^2-2*a==3);\n",
    "sol1 = S{1}; % octave\n",
    "sol2 = S{2}; % octave\n",
    "a = [sol1.a; sol2.a]\n",
    "u = [sol1.u; sol2.u]\n",
    "v = [sol1.v; sol2.v]\n",
    "%S.a % MATLAB\n",
    "%S.u % MATLAB\n",
    "%S.v % MATLAB"
   ]
  },
  {
   "cell_type": "markdown",
   "metadata": {
    "hideCode": false,
    "hidePrompt": false,
    "slideshow": {
     "slide_type": "subslide"
    }
   },
   "source": [
    "## Linear systems\n",
    "\n",
    "Linear systems of equations can also be solved using matrix division, eg."
   ]
  },
  {
   "cell_type": "code",
   "execution_count": 5,
   "metadata": {
    "hideCode": false,
    "hidePrompt": false
   },
   "outputs": [
    {
     "name": "stdout",
     "output_type": "stream",
     "text": [
      "sol = (sym 2×1 matrix)\n",
      "\n",
      "  ⎡  5⋅u   2⋅v⎤\n",
      "  ⎢- ─── + ───⎥\n",
      "  ⎢   3     3 ⎥\n",
      "  ⎢           ⎥\n",
      "  ⎢  4⋅u   v  ⎥\n",
      "  ⎢  ─── - ─  ⎥\n",
      "  ⎣   3    3  ⎦\n",
      "\n",
      "z = (sym 2×1 matrix)\n",
      "\n",
      "  ⎡  5⋅u   2⋅v⎤\n",
      "  ⎢- ─── + ───⎥\n",
      "  ⎢   3     3 ⎥\n",
      "  ⎢           ⎥\n",
      "  ⎢  4⋅u   v  ⎥\n",
      "  ⎢  ─── - ─  ⎥\n",
      "  ⎣   3    3  ⎦\n",
      "\n"
     ]
    }
   ],
   "source": [
    "syms u v x y\n",
    "S = solve(x+2*y-u, 4*x+5*y-v, x, y);\n",
    "sol = [S.x;S.y]\n",
    "A = [1, 2; 4, 5];\n",
    "b = [u; v];\n",
    "z = A\\b"
   ]
  },
  {
   "cell_type": "markdown",
   "metadata": {
    "hideCode": false,
    "hidePrompt": false,
    "slideshow": {
     "slide_type": "subslide"
    }
   },
   "source": [
    "## Solving symbolic equations numerically\n",
    "\n",
    "Symbolic equations can also be solved numerically with the command `vpasolve`, eg."
   ]
  },
  {
   "cell_type": "code",
   "execution_count": 10,
   "metadata": {
    "hideCode": false,
    "hidePrompt": false
   },
   "outputs": [
    {
     "name": "stdout",
     "output_type": "stream",
     "text": [
      "ans = (sym 2×1 matrix)\n",
      "\n",
      "  ⎡1.7324062670465659633407456995303⎤\n",
      "  ⎢                                 ⎥\n",
      "  ⎣2.8297332667835974266598942031498⎦\n",
      "\n"
     ]
    }
   ],
   "source": [
    "syms x y\n",
    "eqns = [y*exp(x) == 16; x^5 == x + x*y^2];\n",
    "vpasolve(eqns, [x; y], [1; 1])"
   ]
  },
  {
   "cell_type": "markdown",
   "metadata": {
    "hideCode": false,
    "hidePrompt": false,
    "slideshow": {
     "slide_type": "slide"
    }
   },
   "source": [
    "Complex roots can be found but you must provide a complex initial guess:"
   ]
  },
  {
   "cell_type": "code",
   "execution_count": 11,
   "metadata": {
    "hideCode": false,
    "hidePrompt": false
   },
   "outputs": [
    {
     "name": "stdout",
     "output_type": "stream",
     "text": [
      "ans = (sym) 1.4142135623730950488016887242097⋅ⅈ\n"
     ]
    }
   ],
   "source": [
    "syms x\n",
    "vpasolve(x^2 + 2 == 0, x, 1i)"
   ]
  },
  {
   "cell_type": "markdown",
   "metadata": {
    "hideCode": false,
    "hidePrompt": false,
    "slideshow": {
     "slide_type": "slide"
    }
   },
   "source": [
    "# Calculus\n",
    "\n",
    "\n",
    "## Limits\n",
    "\n",
    "### Definition\n",
    "\n",
    "The fundamental idea of a limit is to make calculations on functions as a variable \"gets close to\" or approaches a certain value. Recall that the definition of the derivative is given by a limit\n",
    "$$\n",
    "f^\\prime = \\lim_{h\\rightarrow 0}\\frac{f(x+h)-f(x)}{h}\n",
    "$$\n",
    "provided this limit exists. The command `limit` enables you to calculate the limits of functions directly, eg."
   ]
  },
  {
   "cell_type": "code",
   "execution_count": 12,
   "metadata": {
    "hideCode": false,
    "hidePrompt": false
   },
   "outputs": [
    {
     "name": "stdout",
     "output_type": "stream",
     "text": [
      "ans = (sym) -sin(x)\n"
     ]
    }
   ],
   "source": [
    "syms h x\n",
    "limit((cos(x+h)-cos(x))/h, h, 0)"
   ]
  },
  {
   "cell_type": "markdown",
   "metadata": {
    "hideCode": false,
    "hidePrompt": false,
    "slideshow": {
     "slide_type": "subslide"
    }
   },
   "source": [
    "Another example\n",
    "$$\n",
    "\\lim_{n\\rightarrow\\infty}\\left(1+\\frac{x}{n}\\right)^n=e^x\n",
    "$$\n"
   ]
  },
  {
   "cell_type": "code",
   "execution_count": 15,
   "metadata": {
    "hideCode": false,
    "hidePrompt": false,
    "scrolled": true
   },
   "outputs": [
    {
     "name": "stdout",
     "output_type": "stream",
     "text": [
      "ans = (sym)\n",
      "\n",
      "   x\n",
      "  ℯ \n",
      "\n"
     ]
    }
   ],
   "source": [
    "syms n x\n",
    "limit((1+x/n)^n, n, inf)"
   ]
  },
  {
   "cell_type": "markdown",
   "metadata": {
    "hideCode": false,
    "hidePrompt": false,
    "slideshow": {
     "slide_type": "subslide"
    }
   },
   "source": [
    "### One-sided limits\n",
    "\n",
    "You can also calculate one-sided limits, eg."
   ]
  },
  {
   "cell_type": "code",
   "execution_count": 10,
   "metadata": {
    "hideCode": false,
    "hidePrompt": false
   },
   "outputs": [
    {
     "name": "stdout",
     "output_type": "stream",
     "text": [
      "f = (sym)\n",
      "\n",
      "   x \n",
      "  ───\n",
      "  │x│\n",
      "\n",
      "ans = (sym) -1\n",
      "ans = (sym) 1\n"
     ]
    },
    {
     "data": {
      "image/svg+xml": [
       "<svg height=\"420px\" viewBox=\"0 0 560 420\" width=\"560px\" xmlns=\"http://www.w3.org/2000/svg\" xmlns:xlink=\"http://www.w3.org/1999/xlink\">\n",
       "\n",
       "<title>Gnuplot</title>\n",
       "<desc>Produced by GNUPLOT 5.0 patchlevel 6 </desc>\n",
       "\n",
       "<g id=\"gnuplot_canvas\">\n",
       "\n",
       "<rect fill=\"#ffffff\" height=\"420\" width=\"560\" x=\"0\" y=\"0\"/>\n",
       "<defs>\n",
       "\n",
       "\t<circle id=\"gpDot\" r=\"0.5\" stroke-width=\"0.5\"/>\n",
       "\t<path d=\"M-1,0 h2 M0,-1 v2\" id=\"gpPt0\" stroke=\"currentColor\" stroke-width=\"0.333\"/>\n",
       "\t<path d=\"M-1,-1 L1,1 M1,-1 L-1,1\" id=\"gpPt1\" stroke=\"currentColor\" stroke-width=\"0.333\"/>\n",
       "\t<path d=\"M-1,0 L1,0 M0,-1 L0,1 M-1,-1 L1,1 M-1,1 L1,-1\" id=\"gpPt2\" stroke=\"currentColor\" stroke-width=\"0.333\"/>\n",
       "\t<rect height=\"2\" id=\"gpPt3\" stroke=\"currentColor\" stroke-width=\"0.333\" width=\"2\" x=\"-1\" y=\"-1\"/>\n",
       "\t<rect fill=\"currentColor\" height=\"2\" id=\"gpPt4\" stroke=\"currentColor\" stroke-width=\"0.333\" width=\"2\" x=\"-1\" y=\"-1\"/>\n",
       "\t<circle cx=\"0\" cy=\"0\" id=\"gpPt5\" r=\"1\" stroke=\"currentColor\" stroke-width=\"0.333\"/>\n",
       "\t<use fill=\"currentColor\" id=\"gpPt6\" stroke=\"none\" xlink:href=\"#gpPt5\"/>\n",
       "\t<path d=\"M0,-1.33 L-1.33,0.67 L1.33,0.67 z\" id=\"gpPt7\" stroke=\"currentColor\" stroke-width=\"0.333\"/>\n",
       "\t<use fill=\"currentColor\" id=\"gpPt8\" stroke=\"none\" xlink:href=\"#gpPt7\"/>\n",
       "\t<use id=\"gpPt9\" stroke=\"currentColor\" transform=\"rotate(180)\" xlink:href=\"#gpPt7\"/>\n",
       "\t<use fill=\"currentColor\" id=\"gpPt10\" stroke=\"none\" xlink:href=\"#gpPt9\"/>\n",
       "\t<use id=\"gpPt11\" stroke=\"currentColor\" transform=\"rotate(45)\" xlink:href=\"#gpPt3\"/>\n",
       "\t<use fill=\"currentColor\" id=\"gpPt12\" stroke=\"none\" xlink:href=\"#gpPt11\"/>\n",
       "\t<path d=\"M0,1.330 L1.265,0.411 L0.782,-1.067 L-0.782,-1.076 L-1.265,0.411 z\" id=\"gpPt13\" stroke=\"currentColor\" stroke-width=\"0.333\"/>\n",
       "\t<use fill=\"currentColor\" id=\"gpPt14\" stroke=\"none\" xlink:href=\"#gpPt13\"/>\n",
       "\t<filter filterUnits=\"objectBoundingBox\" height=\"1\" id=\"textbox\" width=\"1\" x=\"0\" y=\"0\">\n",
       "\t  <feFlood flood-color=\"#FFFFFF\" flood-opacity=\"1\" result=\"bgnd\"/>\n",
       "\t  <feComposite in=\"SourceGraphic\" in2=\"bgnd\" operator=\"atop\"/>\n",
       "\t</filter>\n",
       "\t<filter filterUnits=\"objectBoundingBox\" height=\"1\" id=\"greybox\" width=\"1\" x=\"0\" y=\"0\">\n",
       "\t  <feFlood flood-color=\"lightgrey\" flood-opacity=\"1\" result=\"grey\"/>\n",
       "\t  <feComposite in=\"SourceGraphic\" in2=\"grey\" operator=\"atop\"/>\n",
       "\t</filter>\n",
       "</defs>\n",
       "<g color=\"#FFFFFF\" fill=\"none\" stroke=\"currentColor\" stroke-linecap=\"butt\" stroke-linejoin=\"miter\" stroke-width=\"1.00\">\n",
       "</g>\n",
       "<g color=\"black\" fill=\"none\" stroke=\"currentColor\" stroke-linecap=\"butt\" stroke-linejoin=\"miter\" stroke-width=\"1.00\">\n",
       "\t<g shape-rendering=\"crispEdges\" stroke=\"none\">\n",
       "\t\t<polygon fill=\"rgb(255, 255, 255)\" points=\"36.4,381.6 543.0,381.6 543.0,40.7 36.4,40.7 \"/>\n",
       "\t</g>\n",
       "</g>\n",
       "<g color=\"black\" fill=\"none\" stroke=\"currentColor\" stroke-linecap=\"butt\" stroke-linejoin=\"miter\" stroke-width=\"1.00\">\n",
       "\t<path d=\"M36.4,347.5 L44.8,347.5 M543.1,347.5 L534.7,347.5  \" stroke=\"rgb(  0,   0,   0)\"/>\t<g fill=\"rgb(38,38,38)\" font-family=\"Arial\" font-size=\"10.00\" stroke=\"none\" text-anchor=\"end\" transform=\"translate(30.8,350.8)\">\n",
       "\t\t<text><tspan font-family=\"Arial\">-1</tspan></text>\n",
       "\t</g>\n",
       "</g>\n",
       "<g color=\"black\" fill=\"none\" stroke=\"currentColor\" stroke-linecap=\"butt\" stroke-linejoin=\"miter\" stroke-width=\"1.00\">\n",
       "\t<path d=\"M36.4,279.3 L44.8,279.3 M543.1,279.3 L534.7,279.3  \" stroke=\"rgb(  0,   0,   0)\"/>\t<g fill=\"rgb(38,38,38)\" font-family=\"Arial\" font-size=\"10.00\" stroke=\"none\" text-anchor=\"end\" transform=\"translate(30.8,282.6)\">\n",
       "\t\t<text><tspan font-family=\"Arial\">-0.5</tspan></text>\n",
       "\t</g>\n",
       "</g>\n",
       "<g color=\"black\" fill=\"none\" stroke=\"currentColor\" stroke-linecap=\"butt\" stroke-linejoin=\"miter\" stroke-width=\"1.00\">\n",
       "\t<path d=\"M36.4,211.1 L44.8,211.1 M543.1,211.1 L534.7,211.1  \" stroke=\"rgb(  0,   0,   0)\"/>\t<g fill=\"rgb(38,38,38)\" font-family=\"Arial\" font-size=\"10.00\" stroke=\"none\" text-anchor=\"end\" transform=\"translate(30.8,214.4)\">\n",
       "\t\t<text><tspan font-family=\"Arial\">0</tspan></text>\n",
       "\t</g>\n",
       "</g>\n",
       "<g color=\"black\" fill=\"none\" stroke=\"currentColor\" stroke-linecap=\"butt\" stroke-linejoin=\"miter\" stroke-width=\"1.00\">\n",
       "\t<path d=\"M36.4,142.9 L44.8,142.9 M543.1,142.9 L534.7,142.9  \" stroke=\"rgb(  0,   0,   0)\"/>\t<g fill=\"rgb(38,38,38)\" font-family=\"Arial\" font-size=\"10.00\" stroke=\"none\" text-anchor=\"end\" transform=\"translate(30.8,146.2)\">\n",
       "\t\t<text><tspan font-family=\"Arial\">0.5</tspan></text>\n",
       "\t</g>\n",
       "</g>\n",
       "<g color=\"black\" fill=\"none\" stroke=\"currentColor\" stroke-linecap=\"butt\" stroke-linejoin=\"miter\" stroke-width=\"1.00\">\n",
       "\t<path d=\"M36.4,74.7 L44.8,74.7 M543.1,74.7 L534.7,74.7  \" stroke=\"rgb(  0,   0,   0)\"/>\t<g fill=\"rgb(38,38,38)\" font-family=\"Arial\" font-size=\"10.00\" stroke=\"none\" text-anchor=\"end\" transform=\"translate(30.8,78.0)\">\n",
       "\t\t<text><tspan font-family=\"Arial\">1</tspan></text>\n",
       "\t</g>\n",
       "</g>\n",
       "<g color=\"black\" fill=\"none\" stroke=\"currentColor\" stroke-linecap=\"butt\" stroke-linejoin=\"miter\" stroke-width=\"1.00\">\n",
       "\t<path d=\"M36.4,381.6 L36.4,373.2 M36.4,40.6 L36.4,49.0  \" stroke=\"rgb(  0,   0,   0)\"/>\t<g fill=\"rgb(38,38,38)\" font-family=\"Arial\" font-size=\"10.00\" stroke=\"none\" text-anchor=\"middle\" transform=\"translate(36.4,396.9)\">\n",
       "\t\t<text><tspan font-family=\"Arial\">-1</tspan></text>\n",
       "\t</g>\n",
       "</g>\n",
       "<g color=\"black\" fill=\"none\" stroke=\"currentColor\" stroke-linecap=\"butt\" stroke-linejoin=\"miter\" stroke-width=\"1.00\">\n",
       "\t<path d=\"M163.1,381.6 L163.1,373.2 M163.1,40.6 L163.1,49.0  \" stroke=\"rgb(  0,   0,   0)\"/>\t<g fill=\"rgb(38,38,38)\" font-family=\"Arial\" font-size=\"10.00\" stroke=\"none\" text-anchor=\"middle\" transform=\"translate(163.1,396.9)\">\n",
       "\t\t<text><tspan font-family=\"Arial\">-0.5</tspan></text>\n",
       "\t</g>\n",
       "</g>\n",
       "<g color=\"black\" fill=\"none\" stroke=\"currentColor\" stroke-linecap=\"butt\" stroke-linejoin=\"miter\" stroke-width=\"1.00\">\n",
       "\t<path d=\"M289.8,381.6 L289.8,373.2 M289.8,40.6 L289.8,49.0  \" stroke=\"rgb(  0,   0,   0)\"/>\t<g fill=\"rgb(38,38,38)\" font-family=\"Arial\" font-size=\"10.00\" stroke=\"none\" text-anchor=\"middle\" transform=\"translate(289.8,396.9)\">\n",
       "\t\t<text><tspan font-family=\"Arial\">0</tspan></text>\n",
       "\t</g>\n",
       "</g>\n",
       "<g color=\"black\" fill=\"none\" stroke=\"currentColor\" stroke-linecap=\"butt\" stroke-linejoin=\"miter\" stroke-width=\"1.00\">\n",
       "\t<path d=\"M416.4,381.6 L416.4,373.2 M416.4,40.6 L416.4,49.0  \" stroke=\"rgb(  0,   0,   0)\"/>\t<g fill=\"rgb(38,38,38)\" font-family=\"Arial\" font-size=\"10.00\" stroke=\"none\" text-anchor=\"middle\" transform=\"translate(416.4,396.9)\">\n",
       "\t\t<text><tspan font-family=\"Arial\">0.5</tspan></text>\n",
       "\t</g>\n",
       "</g>\n",
       "<g color=\"black\" fill=\"none\" stroke=\"currentColor\" stroke-linecap=\"butt\" stroke-linejoin=\"miter\" stroke-width=\"1.00\">\n",
       "\t<path d=\"M543.1,381.6 L543.1,373.2 M543.1,40.6 L543.1,49.0  \" stroke=\"rgb(  0,   0,   0)\"/>\t<g fill=\"rgb(38,38,38)\" font-family=\"Arial\" font-size=\"10.00\" stroke=\"none\" text-anchor=\"middle\" transform=\"translate(543.1,396.9)\">\n",
       "\t\t<text><tspan font-family=\"Arial\">1</tspan></text>\n",
       "\t</g>\n",
       "</g>\n",
       "<g color=\"black\" fill=\"none\" stroke=\"currentColor\" stroke-linecap=\"butt\" stroke-linejoin=\"miter\" stroke-width=\"1.00\">\n",
       "</g>\n",
       "<g color=\"black\" fill=\"none\" stroke=\"currentColor\" stroke-linecap=\"butt\" stroke-linejoin=\"miter\" stroke-width=\"1.00\">\n",
       "\t<g fill=\"rgb(38,38,38)\" font-family=\"Arial\" font-size=\"11.00\" stroke=\"none\" text-anchor=\"middle\" transform=\"translate(289.7,415.2)\">\n",
       "\t\t<text><tspan font-family=\"Arial\">x</tspan></text>\n",
       "\t</g>\n",
       "</g>\n",
       "<g color=\"black\" fill=\"none\" stroke=\"currentColor\" stroke-linecap=\"butt\" stroke-linejoin=\"miter\" stroke-width=\"1.00\">\n",
       "\t<g fill=\"rgb(0,0,0)\" font-family=\":Bold\" font-size=\"11.00\" stroke=\"none\" text-anchor=\"middle\" transform=\"translate(289.7,21.7)\">\n",
       "\t\t<text><tspan font-family=\"\" font-weight=\"bold\">x / abs (x)</tspan></text>\n",
       "\t</g>\n",
       "</g>\n",
       "<g color=\"black\" fill=\"none\" stroke=\"currentColor\" stroke-linecap=\"butt\" stroke-linejoin=\"miter\" stroke-width=\"1.00\">\n",
       "</g>\n",
       "\t<g id=\"gnuplot_plot_1a\"><title>gnuplot_plot_1a</title>\n",
       "<g color=\"#FFFFFF\" fill=\"none\" stroke=\"currentColor\" stroke-linecap=\"butt\" stroke-linejoin=\"miter\" stroke-width=\"0.50\">\n",
       "</g>\n",
       "<g color=\"black\" fill=\"none\" stroke=\"currentColor\" stroke-linecap=\"butt\" stroke-linejoin=\"miter\" stroke-width=\"0.50\">\n",
       "\t<path d=\"M36.4,347.5 L37.4,347.5 L38.4,347.5 L39.4,347.5 L40.5,347.5 L41.5,347.5 L42.5,347.5 L43.5,347.5   L44.5,347.5 L45.5,347.5 L46.6,347.5 L47.6,347.5 L48.6,347.5 L49.6,347.5 L50.6,347.5 L51.6,347.5   L52.6,347.5 L53.7,347.5 L54.7,347.5 L55.7,347.5 L56.7,347.5 L57.7,347.5 L58.7,347.5 L59.8,347.5   L60.8,347.5 L61.8,347.5 L62.8,347.5 L63.8,347.5 L64.8,347.5 L65.8,347.5 L66.9,347.5 L67.9,347.5   L68.9,347.5 L69.9,347.5 L70.9,347.5 L71.9,347.5 L73.0,347.5 L74.0,347.5 L75.0,347.5 L76.0,347.5   L77.0,347.5 L78.0,347.5 L79.0,347.5 L80.1,347.5 L81.1,347.5 L82.1,347.5 L83.1,347.5 L84.1,347.5   L85.1,347.5 L86.2,347.5 L87.2,347.5 L88.2,347.5 L89.2,347.5 L90.2,347.5 L91.2,347.5 L92.2,347.5   L93.3,347.5 L94.3,347.5 L95.3,347.5 L96.3,347.5 L97.3,347.5 L98.3,347.5 L99.4,347.5 L100.4,347.5   L101.4,347.5 L102.4,347.5 L103.4,347.5 L104.4,347.5 L105.4,347.5 L106.5,347.5 L107.5,347.5 L108.5,347.5   L109.5,347.5 L110.5,347.5 L111.5,347.5 L112.6,347.5 L113.6,347.5 L114.6,347.5 L115.6,347.5 L116.6,347.5   L117.6,347.5 L118.6,347.5 L119.7,347.5 L120.7,347.5 L121.7,347.5 L122.7,347.5 L123.7,347.5 L124.7,347.5   L125.8,347.5 L126.8,347.5 L127.8,347.5 L128.8,347.5 L129.8,347.5 L130.8,347.5 L131.9,347.5 L132.9,347.5   L133.9,347.5 L134.9,347.5 L135.9,347.5 L136.9,347.5 L137.9,347.5 L139.0,347.5 L140.0,347.5 L141.0,347.5   L142.0,347.5 L143.0,347.5 L144.0,347.5 L145.1,347.5 L146.1,347.5 L147.1,347.5 L148.1,347.5 L149.1,347.5   L150.1,347.5 L151.1,347.5 L152.2,347.5 L153.2,347.5 L154.2,347.5 L155.2,347.5 L156.2,347.5 L157.2,347.5   L158.3,347.5 L159.3,347.5 L160.3,347.5 L161.3,347.5 L162.3,347.5 L163.3,347.5 L164.3,347.5 L165.4,347.5   L166.4,347.5 L167.4,347.5 L168.4,347.5 L169.4,347.5 L170.4,347.5 L171.5,347.5 L172.5,347.5 L173.5,347.5   L174.5,347.5 L175.5,347.5 L176.5,347.5 L177.5,347.5 L178.6,347.5 L179.6,347.5 L180.6,347.5 L181.6,347.5   L182.6,347.5 L183.6,347.5 L184.7,347.5 L185.7,347.5 L186.7,347.5 L187.7,347.5 L188.7,347.5 L189.7,347.5   L190.7,347.5 L191.8,347.5 L192.8,347.5 L193.8,347.5 L194.8,347.5 L195.8,347.5 L196.8,347.5 L197.9,347.5   L198.9,347.5 L199.9,347.5 L200.9,347.5 L201.9,347.5 L202.9,347.5 L203.9,347.5 L205.0,347.5 L206.0,347.5   L207.0,347.5 L208.0,347.5 L209.0,347.5 L210.0,347.5 L211.1,347.5 L212.1,347.5 L213.1,347.5 L214.1,347.5   L215.1,347.5 L216.1,347.5 L217.1,347.5 L218.2,347.5 L219.2,347.5 L220.2,347.5 L221.2,347.5 L222.2,347.5   L223.2,347.5 L224.3,347.5 L225.3,347.5 L226.3,347.5 L227.3,347.5 L228.3,347.5 L229.3,347.5 L230.3,347.5   L231.4,347.5 L232.4,347.5 L233.4,347.5 L234.4,347.5 L235.4,347.5 L236.4,347.5 L237.5,347.5 L238.5,347.5   L239.5,347.5 L240.5,347.5 L241.5,347.5 L242.5,347.5 L243.5,347.5 L244.6,347.5 L245.6,347.5 L246.6,347.5   L247.6,347.5 L248.6,347.5 L249.6,347.5 L250.7,347.5 L251.7,347.5 L252.7,347.5 L253.7,347.5 L254.7,347.5   L255.7,347.5 L256.7,347.5 L257.8,347.5 L258.8,347.5 L259.8,347.5 L260.8,347.5 L261.8,347.5 L262.8,347.5   L263.9,347.5 L264.9,347.5 L265.9,347.5 L266.9,347.5 L267.9,347.5 L268.9,347.5 L269.9,347.5 L271.0,347.5   L272.0,347.5 L273.0,347.5 L274.0,347.5 L275.0,347.5 L276.0,347.5 L277.1,347.5 L278.1,347.5 L279.1,347.5   L280.1,347.5 L281.1,347.5 L282.1,347.5 L283.1,347.5 L284.2,347.5 L285.2,347.5 L286.2,347.5 L287.2,347.5   L288.2,347.5 M291.3,74.7 L292.3,74.7 L293.3,74.7 L294.3,74.7 L295.3,74.7 L296.4,74.7 L297.4,74.7   L298.4,74.7 L299.4,74.7 L300.4,74.7 L301.4,74.7 L302.4,74.7 L303.5,74.7 L304.5,74.7 L305.5,74.7   L306.5,74.7 L307.5,74.7 L308.5,74.7 L309.6,74.7 L310.6,74.7 L311.6,74.7 L312.6,74.7 L313.6,74.7   L314.6,74.7 L315.6,74.7 L316.7,74.7 L317.7,74.7 L318.7,74.7 L319.7,74.7 L320.7,74.7 L321.7,74.7   L322.8,74.7 L323.8,74.7 L324.8,74.7 L325.8,74.7 L326.8,74.7 L327.8,74.7 L328.8,74.7 L329.9,74.7   L330.9,74.7 L331.9,74.7 L332.9,74.7 L333.9,74.7 L334.9,74.7 L336.0,74.7 L337.0,74.7 L338.0,74.7   L339.0,74.7 L340.0,74.7 L341.0,74.7 L342.0,74.7 L343.1,74.7 L344.1,74.7 L345.1,74.7 L346.1,74.7   L347.1,74.7 L348.1,74.7 L349.2,74.7 L350.2,74.7 L351.2,74.7 L352.2,74.7 L353.2,74.7 L354.2,74.7   L355.2,74.7 L356.3,74.7 L357.3,74.7 L358.3,74.7 L359.3,74.7 L360.3,74.7 L361.3,74.7 L362.4,74.7   L363.4,74.7 L364.4,74.7 L365.4,74.7 L366.4,74.7 L367.4,74.7 L368.4,74.7 L369.5,74.7 L370.5,74.7   L371.5,74.7 L372.5,74.7 L373.5,74.7 L374.5,74.7 L375.6,74.7 L376.6,74.7 L377.6,74.7 L378.6,74.7   L379.6,74.7 L380.6,74.7 L381.6,74.7 L382.7,74.7 L383.7,74.7 L384.7,74.7 L385.7,74.7 L386.7,74.7   L387.7,74.7 L388.8,74.7 L389.8,74.7 L390.8,74.7 L391.8,74.7 L392.8,74.7 L393.8,74.7 L394.8,74.7   L395.9,74.7 L396.9,74.7 L397.9,74.7 L398.9,74.7 L399.9,74.7 L400.9,74.7 L402.0,74.7 L403.0,74.7   L404.0,74.7 L405.0,74.7 L406.0,74.7 L407.0,74.7 L408.0,74.7 L409.1,74.7 L410.1,74.7 L411.1,74.7   L412.1,74.7 L413.1,74.7 L414.1,74.7 L415.2,74.7 L416.2,74.7 L417.2,74.7 L418.2,74.7 L419.2,74.7   L420.2,74.7 L421.2,74.7 L422.3,74.7 L423.3,74.7 L424.3,74.7 L425.3,74.7 L426.3,74.7 L427.3,74.7   L428.4,74.7 L429.4,74.7 L430.4,74.7 L431.4,74.7 L432.4,74.7 L433.4,74.7 L434.4,74.7 L435.5,74.7   L436.5,74.7 L437.5,74.7 L438.5,74.7 L439.5,74.7 L440.5,74.7 L441.6,74.7 L442.6,74.7 L443.6,74.7   L444.6,74.7 L445.6,74.7 L446.6,74.7 L447.6,74.7 L448.7,74.7 L449.7,74.7 L450.7,74.7 L451.7,74.7   L452.7,74.7 L453.7,74.7 L454.8,74.7 L455.8,74.7 L456.8,74.7 L457.8,74.7 L458.8,74.7 L459.8,74.7   L460.9,74.7 L461.9,74.7 L462.9,74.7 L463.9,74.7 L464.9,74.7 L465.9,74.7 L466.9,74.7 L468.0,74.7   L469.0,74.7 L470.0,74.7 L471.0,74.7 L472.0,74.7 L473.0,74.7 L474.1,74.7 L475.1,74.7 L476.1,74.7   L477.1,74.7 L478.1,74.7 L479.1,74.7 L480.1,74.7 L481.2,74.7 L482.2,74.7 L483.2,74.7 L484.2,74.7   L485.2,74.7 L486.2,74.7 L487.3,74.7 L488.3,74.7 L489.3,74.7 L490.3,74.7 L491.3,74.7 L492.3,74.7   L493.3,74.7 L494.4,74.7 L495.4,74.7 L496.4,74.7 L497.4,74.7 L498.4,74.7 L499.4,74.7 L500.5,74.7   L501.5,74.7 L502.5,74.7 L503.5,74.7 L504.5,74.7 L505.5,74.7 L506.5,74.7 L507.6,74.7 L508.6,74.7   L509.6,74.7 L510.6,74.7 L511.6,74.7 L512.6,74.7 L513.7,74.7 L514.7,74.7 L515.7,74.7 L516.7,74.7   L517.7,74.7 L518.7,74.7 L519.7,74.7 L520.8,74.7 L521.8,74.7 L522.8,74.7 L523.8,74.7 L524.8,74.7   L525.8,74.7 L526.9,74.7 L527.9,74.7 L528.9,74.7 L529.9,74.7 L530.9,74.7 L531.9,74.7 L532.9,74.7   L534.0,74.7 L535.0,74.7 L536.0,74.7 L537.0,74.7 L538.0,74.7 L539.0,74.7 L540.1,74.7 L541.1,74.7   L542.1,74.7 L543.1,74.7  \" stroke=\"rgb(  0, 114, 189)\"/></g>\n",
       "\t</g>\n",
       "<g color=\"#FFFFFF\" fill=\"none\" stroke=\"rgb(  0, 114, 189)\" stroke-linecap=\"butt\" stroke-linejoin=\"miter\" stroke-width=\"2.00\">\n",
       "</g>\n",
       "<g color=\"black\" fill=\"none\" stroke=\"currentColor\" stroke-linecap=\"butt\" stroke-linejoin=\"miter\" stroke-width=\"2.00\">\n",
       "</g>\n",
       "<g color=\"black\" fill=\"none\" stroke=\"black\" stroke-linecap=\"butt\" stroke-linejoin=\"miter\" stroke-width=\"0.50\">\n",
       "</g>\n",
       "<g color=\"black\" fill=\"none\" stroke=\"currentColor\" stroke-linecap=\"butt\" stroke-linejoin=\"miter\" stroke-width=\"0.50\">\n",
       "\t<path d=\"M36.4,381.6 L543.1,381.6  \" stroke=\"rgb( 38,  38,  38)\"/></g>\n",
       "<g color=\"black\" fill=\"none\" stroke=\"currentColor\" stroke-linecap=\"butt\" stroke-linejoin=\"miter\" stroke-width=\"0.50\">\n",
       "\t<path d=\"M36.4,40.6 L543.1,40.6  \" stroke=\"rgb( 38,  38,  38)\"/></g>\n",
       "<g color=\"black\" fill=\"none\" stroke=\"currentColor\" stroke-linecap=\"butt\" stroke-linejoin=\"miter\" stroke-width=\"0.50\">\n",
       "\t<path d=\"M36.4,381.6 L36.4,40.6  \" stroke=\"rgb( 38,  38,  38)\"/></g>\n",
       "<g color=\"black\" fill=\"none\" stroke=\"currentColor\" stroke-linecap=\"butt\" stroke-linejoin=\"miter\" stroke-width=\"0.50\">\n",
       "\t<path d=\"M543.1,381.6 L543.1,40.6  \" stroke=\"rgb( 38,  38,  38)\"/></g>\n",
       "<g color=\"black\" fill=\"none\" stroke=\"rgb( 38,  38,  38)\" stroke-linecap=\"butt\" stroke-linejoin=\"miter\" stroke-width=\"1.00\">\n",
       "</g>\n",
       "<g color=\"black\" fill=\"none\" stroke=\"currentColor\" stroke-linecap=\"butt\" stroke-linejoin=\"miter\" stroke-width=\"1.00\">\n",
       "</g>\n",
       "</g>\n",
       "</svg>"
      ],
      "text/plain": [
       "<IPython.core.display.SVG object>"
      ]
     },
     "metadata": {},
     "output_type": "display_data"
    }
   ],
   "source": [
    "%plot --format svg\n",
    "syms x\n",
    "f = x/abs(x)\n",
    "ezplot(f, [-1, 1])\n",
    "limit(f,x,0,'left')\n",
    "limit(f,x,0,'right')"
   ]
  },
  {
   "cell_type": "markdown",
   "metadata": {
    "hideCode": false,
    "hidePrompt": false,
    "slideshow": {
     "slide_type": "subslide"
    }
   },
   "source": [
    "## Differentiation\n",
    "\n",
    "### Derivatives of symbolic functions\n",
    "\n",
    "To illustrate how to take derivatives, first create a symbolic expression:"
   ]
  },
  {
   "cell_type": "code",
   "execution_count": 3,
   "metadata": {
    "hideCode": false,
    "hidePrompt": false
   },
   "outputs": [
    {
     "name": "stdout",
     "output_type": "stream",
     "text": [
      "f = (sym) sin(5⋅x)\n"
     ]
    }
   ],
   "source": [
    "syms x\n",
    "f = sin(5*x)"
   ]
  },
  {
   "cell_type": "markdown",
   "metadata": {
    "hideCode": false,
    "hidePrompt": false
   },
   "source": [
    "The command"
   ]
  },
  {
   "cell_type": "code",
   "execution_count": 4,
   "metadata": {
    "hideCode": false,
    "hidePrompt": false
   },
   "outputs": [
    {
     "name": "stdout",
     "output_type": "stream",
     "text": [
      "ans = (sym) 5⋅cos(5⋅x)\n"
     ]
    }
   ],
   "source": [
    "diff(f, x)"
   ]
  },
  {
   "cell_type": "markdown",
   "metadata": {
    "hideCode": false,
    "hidePrompt": false
   },
   "source": [
    "differentiates `f` with respect to `x`."
   ]
  },
  {
   "cell_type": "markdown",
   "metadata": {
    "hideCode": false,
    "hidePrompt": false,
    "slideshow": {
     "slide_type": "subslide"
    }
   },
   "source": [
    "Let"
   ]
  },
  {
   "cell_type": "code",
   "execution_count": 5,
   "metadata": {
    "hideCode": false,
    "hidePrompt": false
   },
   "outputs": [
    {
     "name": "stdout",
     "output_type": "stream",
     "text": [
      "g = (sym)\n",
      "\n",
      "   x       \n",
      "  ℯ ⋅cos(x)\n",
      "\n"
     ]
    }
   ],
   "source": [
    "g = exp(x)*cos(x)"
   ]
  },
  {
   "cell_type": "markdown",
   "metadata": {
    "hideCode": false,
    "hidePrompt": false
   },
   "source": [
    "and differentiate `g`:"
   ]
  },
  {
   "cell_type": "code",
   "execution_count": 6,
   "metadata": {
    "hideCode": false,
    "hidePrompt": false
   },
   "outputs": [
    {
     "name": "stdout",
     "output_type": "stream",
     "text": [
      "ans = (sym)\n",
      "\n",
      "     x           x       \n",
      "  - ℯ ⋅sin(x) + ℯ ⋅cos(x)\n",
      "\n"
     ]
    }
   ],
   "source": [
    "diff(g)"
   ]
  },
  {
   "cell_type": "markdown",
   "metadata": {
    "hideCode": false,
    "hidePrompt": false
   },
   "source": [
    "To take the second derivative of `g`, enter"
   ]
  },
  {
   "cell_type": "code",
   "execution_count": 7,
   "metadata": {
    "hideCode": false,
    "hidePrompt": false,
    "slideshow": {
     "slide_type": "subslide"
    }
   },
   "outputs": [
    {
     "name": "stdout",
     "output_type": "stream",
     "text": [
      "ans = (sym)\n",
      "\n",
      "      x       \n",
      "  -2⋅ℯ ⋅sin(x)\n",
      "\n"
     ]
    }
   ],
   "source": [
    "diff(g, x, 2)"
   ]
  },
  {
   "cell_type": "markdown",
   "metadata": {
    "hideCode": false,
    "hidePrompt": false
   },
   "source": [
    "You can get the same result by taking the derivative twice:"
   ]
  },
  {
   "cell_type": "code",
   "execution_count": 8,
   "metadata": {
    "hideCode": false,
    "hidePrompt": false
   },
   "outputs": [
    {
     "name": "stdout",
     "output_type": "stream",
     "text": [
      "ans = (sym)\n",
      "\n",
      "      x       \n",
      "  -2⋅ℯ ⋅sin(x)\n",
      "\n"
     ]
    }
   ],
   "source": [
    "diff(diff(g, x), x)"
   ]
  },
  {
   "cell_type": "markdown",
   "metadata": {
    "hideCode": false,
    "hidePrompt": false,
    "slideshow": {
     "slide_type": "subslide"
    }
   },
   "source": [
    "### Derivatives of functions with several variables\n",
    "\n",
    "To differentiate a function that contains more than one symbolic variable, you must specify with respect to which variable you want to differentiate. the `diff` command then calculates the partial derivative of the expression with respect to that variable, eg. the commands"
   ]
  },
  {
   "cell_type": "code",
   "execution_count": 11,
   "metadata": {
    "hideCode": false,
    "hidePrompt": false
   },
   "outputs": [
    {
     "name": "stdout",
     "output_type": "stream",
     "text": [
      "f = (sym) sin(s⋅t)\n",
      "ans = (sym) s⋅cos(s⋅t)\n"
     ]
    }
   ],
   "source": [
    "syms s t\n",
    "f = sin(s*t)\n",
    "diff(f, t)"
   ]
  },
  {
   "cell_type": "markdown",
   "metadata": {
    "hideCode": false,
    "hidePrompt": false
   },
   "source": [
    "calculate the partial derivative of the function $f:\\mathbb R^2\\rightarrow \\mathbb R:(s,t)\\mapsto \\sin(st)$, i.e. \n",
    "$$\n",
    "\\frac{\\partial f}{\\partial t}:\\mathbb R^2\\rightarrow \\mathbb R:(s,t)\\mapsto s\\cos(st)\n",
    "$$\n",
    "\n",
    "To differentiate with respect to the variable `s`, enter"
   ]
  },
  {
   "cell_type": "code",
   "execution_count": 12,
   "metadata": {
    "hideCode": false,
    "hidePrompt": false
   },
   "outputs": [
    {
     "name": "stdout",
     "output_type": "stream",
     "text": [
      "ans = (sym) t⋅cos(s⋅t)\n"
     ]
    }
   ],
   "source": [
    "diff(f, s)"
   ]
  },
  {
   "cell_type": "markdown",
   "metadata": {
    "hideCode": false,
    "hidePrompt": false
   },
   "source": [
    "If you do not specify a variable, MATLAB chooses a default variable by the same rule as described in the previous lecture (`subs` command)."
   ]
  },
  {
   "cell_type": "markdown",
   "metadata": {
    "hideCode": false,
    "hidePrompt": false,
    "slideshow": {
     "slide_type": "subslide"
    }
   },
   "source": [
    "Some more examples:"
   ]
  },
  {
   "cell_type": "code",
   "execution_count": 11,
   "metadata": {
    "hideCode": false,
    "hidePrompt": false
   },
   "outputs": [
    {
     "name": "stdout",
     "output_type": "stream",
     "text": [
      "df = (sym)\n",
      "\n",
      "     n\n",
      "  n⋅x \n",
      "  ────\n",
      "   x  \n",
      "\n",
      "ans = (sym)\n",
      "\n",
      "     n - 1\n",
      "  n⋅x     \n",
      "\n",
      "dg = (sym) a⋅cos(a⋅t + b)\n",
      "dh = (sym)\n",
      "\n",
      "     ⅈ⋅θ\n",
      "  ⅈ⋅ℯ   \n",
      "\n"
     ]
    }
   ],
   "source": [
    "syms a b x n t theta\n",
    "f = x^n;\n",
    "df = diff(f, x)\n",
    "simplify(df)\n",
    "g = sin(a*t+b);\n",
    "dg = diff(g, t)\n",
    "h = exp(1i*theta);\n",
    "dh = diff(h)"
   ]
  },
  {
   "cell_type": "markdown",
   "metadata": {
    "hideCode": false,
    "hidePrompt": false,
    "slideshow": {
     "slide_type": "subslide"
    }
   },
   "source": [
    "### Gradient\n",
    "\n",
    "The command `gradient(f,v)` finds the gradient vector of the scalar function `f` with respect to vector `v` in Cartesian coordinates:\n",
    "$$\n",
    "\\nabla f=\\begin{bmatrix}\n",
    "\\frac{\\partial f}{\\partial x}\\\\\n",
    "\\frac{\\partial f}{\\partial y}\\\\\n",
    "\\frac{\\partial f}{\\partial z}\n",
    "\\end{bmatrix}\n",
    "$$"
   ]
  },
  {
   "cell_type": "code",
   "execution_count": 20,
   "metadata": {
    "hideCode": false,
    "hidePrompt": false
   },
   "outputs": [
    {
     "name": "stdout",
     "output_type": "stream",
     "text": [
      "gradf = (sym 2×1 matrix)\n",
      "\n",
      "  ⎡2⋅x⎤\n",
      "  ⎢   ⎥\n",
      "  ⎣2⋅y⎦\n",
      "\n"
     ]
    }
   ],
   "source": [
    "syms x y\n",
    "f = x^2+y^2;\n",
    "gradf = gradient(f, [x;y])"
   ]
  },
  {
   "cell_type": "markdown",
   "metadata": {
    "hideCode": false,
    "hidePrompt": false,
    "slideshow": {
     "slide_type": "subslide"
    }
   },
   "source": [
    "The gradient points in the direction of maximal increase:"
   ]
  },
  {
   "cell_type": "code",
   "execution_count": 22,
   "metadata": {
    "hideCode": false,
    "hidePrompt": false
   },
   "outputs": [
    {
     "name": "stdout",
     "output_type": "stream",
     "text": [
      "ff =\n",
      "\n",
      "@(x, y) x .^ 2 + y .^ 2\n",
      "\n",
      "fg1 =\n",
      "\n",
      "@(x) 2 * x\n",
      "\n",
      "fg2 =\n",
      "\n",
      "@(y) 2 * y\n",
      "\n"
     ]
    },
    {
     "data": {
      "image/png": "[encoded data removed]",
      "text/plain": [
       "<IPython.core.display.Image object>"
      ]
     },
     "metadata": {},
     "output_type": "display_data"
    }
   ],
   "source": [
    "[X, Y] = meshgrid(-1:.1:1,-1:.1:1);\n",
    "ff = matlabFunction(f)\n",
    "contourf(X, Y, ff(X,Y))\n",
    "axis equal\n",
    "hold on\n",
    "fg1 = matlabFunction(gradf(1)) % convert symbolic function to a MATLAB function\n",
    "fg2 = matlabFunction(gradf(2))\n",
    "quiver(X, Y, fg1(X), fg2(Y),'linewidth', 2, 'color', 'red');"
   ]
  },
  {
   "cell_type": "markdown",
   "metadata": {
    "hideCode": false,
    "hidePrompt": false,
    "slideshow": {
     "slide_type": "subslide"
    }
   },
   "source": [
    "### Derivatives of vector (matrix) valued functions\n",
    "\n",
    "The `diff` command can also take a symbolic vector (or matrix) as its input. In this case the differentiation is done element-by-element, eg."
   ]
  },
  {
   "cell_type": "code",
   "execution_count": 23,
   "metadata": {
    "hideCode": false,
    "hidePrompt": false
   },
   "outputs": [
    {
     "name": "stdout",
     "output_type": "stream",
     "text": [
      "ans = (sym 2×2 matrix)\n",
      "\n",
      "  ⎡-a⋅x⋅cos(a⋅x) - sin(a⋅x)  -a⋅x⋅sin(a⋅x) + cos(a⋅x)⎤\n",
      "  ⎢                                                  ⎥\n",
      "  ⎣a⋅x⋅sin(a⋅x) - cos(a⋅x)   -a⋅x⋅cos(a⋅x) - sin(a⋅x)⎦\n",
      "\n"
     ]
    }
   ],
   "source": [
    "syms a x\n",
    "A = [cos(a*x), sin(a*x); -sin(a*x), cos(a*x)];\n",
    "diff(diff(A, a),x)"
   ]
  },
  {
   "cell_type": "markdown",
   "metadata": {
    "hideCode": false,
    "hidePrompt": false,
    "slideshow": {
     "slide_type": "subslide"
    }
   },
   "source": [
    "### Jacobian\n",
    "\n",
    "You can also perform differentiation of a column vector with respect to a row vector. Consider the transformation from Euclidean $(x,y,z)$ to spherical ($(r, \\lambda, \\phi)$ coordinates as given by\n",
    "$$\n",
    "\\begin{cases}\n",
    "x = r \\cos\\lambda\\cos\\phi\\\\\n",
    "y = r \\cos\\lambda\\sin\\phi\\\\\n",
    "z = r \\sin\\lambda\n",
    "\\end{cases}\n",
    "$$\n",
    "Note that $\\lambda$ corresponds to elevation or latitude while $\\phi$ denotes azimuth or longitude.\n",
    "\n",
    "To calculate the Jacobian matrix $J$, of this transformation, use the `jacobian` command. The mathematical notation for $J$ is\n",
    "$$\n",
    "J = \\frac{\\partial(x,y,z)}{\\partial(r,\\lambda,\\phi)}\n",
    "$$\n"
   ]
  },
  {
   "cell_type": "markdown",
   "metadata": {
    "hideCode": false,
    "hidePrompt": false,
    "slideshow": {
     "slide_type": "subslide"
    }
   },
   "source": [
    "The commands"
   ]
  },
  {
   "cell_type": "code",
   "execution_count": 24,
   "metadata": {
    "hideCode": false,
    "hidePrompt": false
   },
   "outputs": [
    {
     "name": "stdout",
     "output_type": "stream",
     "text": [
      "x = (sym) r⋅cos(λ)⋅cos(φ)\n",
      "y = (sym) r⋅sin(φ)⋅cos(λ)\n",
      "z = (sym) r⋅sin(λ)\n",
      "J = (sym 3×3 matrix)\n",
      "\n",
      "  ⎡cos(λ)⋅cos(φ)  -r⋅sin(λ)⋅cos(φ)  -r⋅sin(φ)⋅cos(λ)⎤\n",
      "  ⎢                                                 ⎥\n",
      "  ⎢sin(φ)⋅cos(λ)  -r⋅sin(λ)⋅sin(φ)  r⋅cos(λ)⋅cos(φ) ⎥\n",
      "  ⎢                                                 ⎥\n",
      "  ⎣   sin(λ)          r⋅cos(λ)             0        ⎦\n",
      "\n"
     ]
    }
   ],
   "source": [
    "syms r lambda phi\n",
    "x = r*cos(lambda)*cos(phi)\n",
    "y = r*cos(lambda)*sin(phi)\n",
    "z = r*sin(lambda)\n",
    "J = jacobian([x;y;z],[r;lambda;phi])"
   ]
  },
  {
   "cell_type": "markdown",
   "metadata": {
    "hideCode": false,
    "hidePrompt": false
   },
   "source": [
    "return the Jacobian and the command"
   ]
  },
  {
   "cell_type": "code",
   "execution_count": 25,
   "metadata": {
    "hideCode": false,
    "hidePrompt": false
   },
   "outputs": [
    {
     "name": "stdout",
     "output_type": "stream",
     "text": [
      "detJ = (sym)\n",
      "\n",
      "    2       \n",
      "  -r ⋅cos(λ)\n",
      "\n"
     ]
    }
   ],
   "source": [
    "detJ = simplify(det(J))"
   ]
  },
  {
   "cell_type": "markdown",
   "metadata": {
    "hideCode": false,
    "hidePrompt": false
   },
   "source": [
    "returns its determinant."
   ]
  },
  {
   "cell_type": "markdown",
   "metadata": {
    "hideCode": false,
    "hidePrompt": false,
    "slideshow": {
     "slide_type": "subslide"
    }
   },
   "source": [
    "### Curl\n",
    "\n",
    "The curl of the vector field $\\bar v = \\begin{bmatrix} v_1(x,y,z)\\\\ v_2(x,y,z)\\\\ v_3(x,y,z)\\end{bmatrix}$ with respect to the vector $\\begin{bmatrix}x\\\\y\\\\z\\end{bmatrix}$ in Cartesian coordinates is the vector\n",
    "$$\n",
    "\\nabla \\times \\bar v = \\begin{bmatrix}\n",
    "\\frac{\\partial v_3}{\\partial y}-\\frac{\\partial v_2}{\\partial z}\\\\\n",
    "\\frac{\\partial v_1}{\\partial z}-\\frac{\\partial v_3}{\\partial x}\\\\\n",
    "\\frac{\\partial v_2}{\\partial x}-\\frac{\\partial v_1}{\\partial y}\n",
    "\\end{bmatrix}\n",
    "$$"
   ]
  },
  {
   "cell_type": "code",
   "execution_count": 26,
   "metadata": {
    "hideCode": false,
    "hidePrompt": false
   },
   "outputs": [
    {
     "name": "stdout",
     "output_type": "stream",
     "text": [
      "ans = (sym 3×1 matrix)\n",
      "\n",
      "  ⎡  2  3        3   ⎤\n",
      "  ⎢ x ⋅z  - 2⋅x⋅y ⋅z ⎥\n",
      "  ⎢                  ⎥\n",
      "  ⎢  3  2          3 ⎥\n",
      "  ⎢ x ⋅y  - 2⋅x⋅y⋅z  ⎥\n",
      "  ⎢                  ⎥\n",
      "  ⎢     3        3  2⎥\n",
      "  ⎣- 2⋅x ⋅y⋅z + y ⋅z ⎦\n",
      "\n"
     ]
    }
   ],
   "source": [
    "syms x y z\n",
    "curl([x^3*y^2*z; y^3*z^2*x; z^3*x^2*y], [x; y; z])"
   ]
  },
  {
   "cell_type": "markdown",
   "metadata": {
    "hideCode": false,
    "hidePrompt": false,
    "slideshow": {
     "slide_type": "subslide"
    }
   },
   "source": [
    "The curl of a vector field at a specified point indicates that an elementary paddle wheel placed in the point will start rotating yes or no:"
   ]
  },
  {
   "cell_type": "code",
   "execution_count": 27,
   "metadata": {
    "hideCode": false,
    "hidePrompt": false
   },
   "outputs": [
    {
     "name": "stdout",
     "output_type": "stream",
     "text": [
      "ans = (sym 3×1 matrix)\n",
      "\n",
      "  ⎡0 ⎤\n",
      "  ⎢  ⎥\n",
      "  ⎢0 ⎥\n",
      "  ⎢  ⎥\n",
      "  ⎣-2⎦\n",
      "\n"
     ]
    }
   ],
   "source": [
    "syms x y z\n",
    "v = [y; -x; 0];\n",
    "curl(v, [x; y; z])"
   ]
  },
  {
   "cell_type": "code",
   "execution_count": 27,
   "metadata": {
    "hideCode": false,
    "hidePrompt": false
   },
   "outputs": [
    {
     "data": {
      "image/png": "[encoded data removed]",
      "text/plain": [
       "<IPython.core.display.Image object>"
      ]
     },
     "metadata": {},
     "output_type": "display_data"
    }
   ],
   "source": [
    "[X, Y] = meshgrid(-5:.5:5,-5:.5:5);\n",
    "v1 = matlabFunction(v(1));\n",
    "v2 = matlabFunction(v(2));\n",
    "quiver(X,Y,v1(Y), v2(X), 'linewidth', 2);\n",
    "axis equal\n",
    "hold on\n",
    "line([1.5, 2.5], [2.0, 2.0], 'Color','red', 'linewidth', 2);\n",
    "line([2.0, 2.0], [1.5, 2.5], 'Color','red', 'linewidth', 2)"
   ]
  },
  {
   "cell_type": "markdown",
   "metadata": {
    "hideCode": false,
    "hidePrompt": false,
    "slideshow": {
     "slide_type": "subslide"
    }
   },
   "source": [
    "### Divergence\n",
    "\n",
    "The divergence of the vector field $\\bar v = \\begin{bmatrix} v_1(x,y,z)\\\\ v_2(x,y,z)\\\\ v_3(x,y,z)\\end{bmatrix}$ with respect to the vector $\\begin{bmatrix}x\\\\y\\\\z\\end{bmatrix}$ in Cartesian coordinates is the scalar\n",
    "$$\n",
    "\\nabla \\cdot \\bar v = \\frac{\\partial v_1}{\\partial x}+\\frac{\\partial v_2}{\\partial y}+\\frac{\\partial v_3}{\\partial z}\n",
    "$$"
   ]
  },
  {
   "cell_type": "code",
   "execution_count": 28,
   "metadata": {
    "hideCode": false,
    "hidePrompt": false
   },
   "outputs": [
    {
     "name": "stdout",
     "output_type": "stream",
     "text": [
      "ans = (sym)\n",
      "\n",
      "           2    \n",
      "  4⋅y + 9⋅z  + 1\n",
      "\n"
     ]
    }
   ],
   "source": [
    "syms x y z\n",
    "divergence([x; 2*y^2; 3*z^3], [x; y; z])"
   ]
  },
  {
   "cell_type": "markdown",
   "metadata": {
    "hideCode": false,
    "hidePrompt": false,
    "slideshow": {
     "slide_type": "subslide"
    }
   },
   "source": [
    "The divergence of a vector field at a specified point indicates if the inflow is larger or smaller than the outflow through an elementary cercle around that point:"
   ]
  },
  {
   "cell_type": "code",
   "execution_count": 29,
   "metadata": {
    "hideCode": false,
    "hidePrompt": false
   },
   "outputs": [
    {
     "name": "stdout",
     "output_type": "stream",
     "text": [
      "ans = (sym) 2\n"
     ]
    }
   ],
   "source": [
    "syms x y z\n",
    "v = [x; y; 0];\n",
    "divergence(v, [x; y; z])"
   ]
  },
  {
   "cell_type": "code",
   "execution_count": 30,
   "metadata": {
    "hideCode": false,
    "hidePrompt": false
   },
   "outputs": [
    {
     "data": {
      "image/png": "[encoded data removed]",
      "text/plain": [
       "<IPython.core.display.Image object>"
      ]
     },
     "metadata": {},
     "output_type": "display_data"
    }
   ],
   "source": [
    "[X, Y] = meshgrid(-5:.5:5,-5:.5:5);\n",
    "v1 = matlabFunction(v(1));\n",
    "v2 = matlabFunction(v(2));\n",
    "quiver(X,Y,v1(X), v2(Y), 'linewidth', 2);\n",
    "axis equal\n",
    "hold on\n",
    "plot(2+0.5*cos([0:0.1:2*pi]),2+0.5*sin([0:0.1:2*pi]) , 'Color','red', 'linewidth', 2);"
   ]
  },
  {
   "cell_type": "markdown",
   "metadata": {
    "slideshow": {
     "slide_type": "subslide"
    }
   },
   "source": [
    "**If the curl and the divergence of a vector field are known, the vector field is completely specified!**"
   ]
  },
  {
   "cell_type": "markdown",
   "metadata": {
    "hideCode": false,
    "hidePrompt": false,
    "slideshow": {
     "slide_type": "subslide"
    }
   },
   "source": [
    "## Integration\n",
    "\n",
    "### Indefinite integral\n",
    "\n",
    "If `f` is a symbolic function, then `int(f)` attempts to find another symbolic expression `F`, so that `diff(F)=f`. The command `int`return the indefinite integral or antiderivative of `f` (provided one exists in closed form). Similar to differentiation, `int(f, v)` uses the symbolic variable `v` as the variable of integration.\n",
    "\n",
    "Some examples:"
   ]
  },
  {
   "cell_type": "code",
   "execution_count": 35,
   "metadata": {
    "hideCode": false,
    "hidePrompt": false
   },
   "outputs": [
    {
     "data": {
      "image/png": "[encoded data removed]",
      "text/plain": [
       "<IPython.core.display.Image object>"
      ]
     },
     "metadata": {},
     "output_type": "display_data"
    }
   ],
   "source": [
    "syms x n a b t\n",
    "%int(x^n, x)\n",
    "%int(cos(a*t+b), t)\n",
    "ezplot(int(exp(-x^2), x))\n"
   ]
  },
  {
   "cell_type": "markdown",
   "metadata": {
    "hideCode": false,
    "hidePrompt": false,
    "slideshow": {
     "slide_type": "subslide"
    }
   },
   "source": [
    "### Definite integral\n",
    "\n",
    "Definite integration is also possible. The command `int(f,x,a,b)` is used to find a symbolic expression for\n",
    "$$\n",
    "\\int_a^bf(x)\\mathrm dx\n",
    "$$\n",
    "\n",
    "Some examples:"
   ]
  },
  {
   "cell_type": "code",
   "execution_count": 36,
   "metadata": {
    "hideCode": false,
    "hidePrompt": false
   },
   "outputs": [
    {
     "name": "stdout",
     "output_type": "stream",
     "text": [
      "ans = (sym) log(2)\n",
      "ans = (sym)\n",
      "\n",
      "  √2⋅√π\n",
      "  ─────\n",
      "    2  \n",
      "\n"
     ]
    }
   ],
   "source": [
    "syms x\n",
    "int(1/x, x, 1, 2)\n",
    "int(exp(-x^2/2), x, 0, inf)"
   ]
  },
  {
   "cell_type": "markdown",
   "metadata": {
    "hideCode": false,
    "hidePrompt": false,
    "slideshow": {
     "slide_type": "subslide"
    }
   },
   "source": [
    "### Integration with real parameters\n",
    "\n",
    "One of the subtleties involved in symbolic integration is the \"value\" of various parameters. Eg., if $a$ is any positive real number, the function `f`, defined by"
   ]
  },
  {
   "cell_type": "code",
   "execution_count": 42,
   "metadata": {
    "hideCode": false,
    "hidePrompt": false
   },
   "outputs": [],
   "source": [
    "syms x\n",
    "a = sym('1/2');\n",
    "f = exp(-a*x^2);"
   ]
  },
  {
   "cell_type": "markdown",
   "metadata": {
    "hideCode": false,
    "hidePrompt": false
   },
   "source": [
    "is the positive, bell shaped curve"
   ]
  },
  {
   "cell_type": "code",
   "execution_count": 43,
   "metadata": {
    "hideCode": false,
    "hidePrompt": false
   },
   "outputs": [
    {
     "data": {
      "image/png": "[encoded data removed]",
      "text/plain": [
       "<IPython.core.display.Image object>"
      ]
     },
     "metadata": {},
     "output_type": "display_data"
    }
   ],
   "source": [
    "ezplot(f, [-pi,pi])"
   ]
  },
  {
   "cell_type": "markdown",
   "metadata": {
    "hideCode": false,
    "hidePrompt": false,
    "slideshow": {
     "slide_type": "subslide"
    }
   },
   "source": [
    "However is you try to calculate the integral\n",
    "$$\\int_{-\\infty}^{\\infty}e^{-ax^2}\\mathrm dx$$\n",
    "without assigning a value to $a$, MATLAB assumes that $a$ represents a complex number:"
   ]
  },
  {
   "cell_type": "code",
   "execution_count": 44,
   "metadata": {
    "hideCode": false,
    "hidePrompt": false
   },
   "outputs": [
    {
     "name": "stdout",
     "output_type": "stream",
     "text": [
      "  ⎧     √π                                       π\n",
      "  ⎪     ──       for │periodic_argument(a, ∞)│ ≤ ─\n",
      "  ⎪     √a                                       2\n",
      "  ⎪                                               \n",
      "  ⎪∞                                              \n",
      "  ⎨⌠                                              \n",
      "  ⎪⎮       2                                      \n",
      "  ⎪⎮   -a⋅x                                       \n",
      "  ⎪⎮  ℯ      dx              otherwise            \n",
      "  ⎪⌡                                              \n",
      "  ⎩-∞                                             \n"
     ]
    }
   ],
   "source": [
    "syms x a\n",
    "F = int(exp(-a*x^2), x, -inf, inf);\n",
    "pretty(F) % only needed for MATLAB to beautify the output"
   ]
  },
  {
   "cell_type": "markdown",
   "metadata": {
    "hideCode": false,
    "hidePrompt": false,
    "slideshow": {
     "slide_type": "subslide"
    }
   },
   "source": [
    "If you are only interested in the case where $a$ is a real positive number, you can calculate the integral as follows:"
   ]
  },
  {
   "cell_type": "code",
   "execution_count": 47,
   "metadata": {
    "hideCode": false,
    "hidePrompt": false
   },
   "outputs": [
    {
     "name": "stdout",
     "output_type": "stream",
     "text": [
      "ans = (sym)\n",
      "\n",
      "  √π\n",
      "  ──\n",
      "  √a\n",
      "\n"
     ]
    }
   ],
   "source": [
    "syms a positive\n",
    "syms x\n",
    "int(exp(-a*x^2), x, -inf, inf)"
   ]
  },
  {
   "cell_type": "markdown",
   "metadata": {
    "hideCode": false,
    "hidePrompt": false,
    "slideshow": {
     "slide_type": "subslide"
    }
   },
   "source": [
    "## Symbolic summation\n",
    "\n",
    "You can compute symbolic summations, when they exist, by using the `symsum` command, eg. the series\n",
    "$$1 + \\frac{1}{2^2}+\\frac{1}{3^2}+\\cdots$$ sums to "
   ]
  },
  {
   "cell_type": "code",
   "execution_count": 51,
   "metadata": {
    "hideCode": false,
    "hidePrompt": false
   },
   "outputs": [],
   "source": [
    "%syms k\n",
    "%s1 = symsum(1/k^2, 1, inf)"
   ]
  },
  {
   "cell_type": "markdown",
   "metadata": {
    "hideCode": false,
    "hidePrompt": false
   },
   "source": [
    "while the geometric series\n",
    "$$1+\\frac{1}{2}+\\frac{1}{2}^2+\\cdots$$ sums to"
   ]
  },
  {
   "cell_type": "code",
   "execution_count": 53,
   "metadata": {
    "hideCode": false,
    "hidePrompt": false
   },
   "outputs": [
    {
     "name": "stdout",
     "output_type": "stream",
     "text": [
      "s2 = (sym)\n",
      "\n",
      "  ⎧   1                 \n",
      "  ⎪ ──────   for │a│ < 1\n",
      "  ⎪ -a + 1              \n",
      "  ⎪                     \n",
      "  ⎪  ∞                  \n",
      "  ⎪ ___                 \n",
      "  ⎨ ╲                   \n",
      "  ⎪  ╲    k             \n",
      "  ⎪  ╱   a    otherwise \n",
      "  ⎪ ╱                   \n",
      "  ⎪ ‾‾‾                 \n",
      "  ⎪k = 0                \n",
      "  ⎩                     \n",
      "\n"
     ]
    }
   ],
   "source": [
    "syms k a\n",
    "%a = sym('1/2');\n",
    "s2 = symsum(a^k, 0, inf)"
   ]
  },
  {
   "cell_type": "markdown",
   "metadata": {
    "hideCode": false,
    "hidePrompt": false,
    "slideshow": {
     "slide_type": "subslide"
    }
   },
   "source": [
    "## Taylor series\n",
    "\n",
    "The statements"
   ]
  },
  {
   "cell_type": "code",
   "execution_count": 54,
   "metadata": {
    "hideCode": false,
    "hidePrompt": false
   },
   "outputs": [
    {
     "name": "stdout",
     "output_type": "stream",
     "text": [
      "x = (sym) x\n",
      "      6       4      2    \n",
      "  49⋅x     5⋅x    2⋅x    1\n",
      "  ────── + ──── + ──── + ─\n",
      "  131220   1458    81    9\n"
     ]
    }
   ],
   "source": [
    "syms a, x\n",
    "f = 1/(5+4*cos(x));\n",
    "pretty(taylor(f, x, 0, 'order', 8))"
   ]
  },
  {
   "cell_type": "markdown",
   "metadata": {
    "hideCode": false,
    "hidePrompt": false
   },
   "source": [
    "gives all the terms up to, but not including, order eight in the Taylor series of $f(x)$ about $x=0$:\n",
    "$$\\sum_{n=0}^\\infty\\frac{1}{n!}(x-0)^nf^{(n)}(0)$$"
   ]
  },
  {
   "cell_type": "markdown",
   "metadata": {
    "hideCode": false,
    "hidePrompt": false,
    "slideshow": {
     "slide_type": "subslide"
    }
   },
   "source": [
    "These commands"
   ]
  },
  {
   "cell_type": "code",
   "execution_count": 55,
   "metadata": {
    "hideCode": false,
    "hidePrompt": false
   },
   "outputs": [
    {
     "name": "stdout",
     "output_type": "stream",
     "text": [
      "Waiting........\n"
     ]
    }
   ],
   "source": [
    "syms x\n",
    "g = exp(x*sin(x));\n",
    "t = taylor(g, x, 2, 'order', 8);"
   ]
  },
  {
   "cell_type": "markdown",
   "metadata": {
    "hideCode": false,
    "hidePrompt": false
   },
   "source": [
    "generate the first 8 nonzero terms of the Taylor series for $g$ about $x=2$.\n",
    "\n",
    "We can plot both functions together to see how well the approximation compares to the actual function:"
   ]
  },
  {
   "cell_type": "code",
   "execution_count": 56,
   "metadata": {
    "hideCode": false,
    "hidePrompt": false
   },
   "outputs": [
    {
     "data": {
      "image/png": "[encoded data removed]",
      "text/plain": [
       "<IPython.core.display.Image object>"
      ]
     },
     "metadata": {},
     "output_type": "display_data"
    }
   ],
   "source": [
    "ezplot(t, [-1, 5]);\n",
    "hold on\n",
    "ezplot(g, [-1, 5]);\n",
    "title('Taylor approximation vs actual function');\n",
    "legend('Taylor', 'Function');"
   ]
  },
  {
   "cell_type": "markdown",
   "metadata": {
    "hideCode": false,
    "hidePrompt": false,
    "slideshow": {
     "slide_type": "subslide"
    }
   },
   "source": [
    "Taylor series in multiple variables are also possible, eg."
   ]
  },
  {
   "cell_type": "code",
   "execution_count": 57,
   "metadata": {
    "hideCode": false,
    "hidePrompt": false
   },
   "outputs": [
    {
     "name": "stdout",
     "output_type": "stream",
     "text": [
      "ans = (sym)\n",
      "\n",
      "   2  2          \n",
      "  x ⋅y           \n",
      "  ───── + x⋅y + 1\n",
      "    2            \n",
      "\n"
     ]
    }
   ],
   "source": [
    "syms x y\n",
    "f = exp(x*y);\n",
    "taylor(f, [x,y] , [0,0], 'order', 5)"
   ]
  },
  {
   "cell_type": "code",
   "execution_count": null,
   "metadata": {},
   "outputs": [],
   "source": []
  }
 ],
 "metadata": {
  "celltoolbar": "Slideshow",
  "hide_code_all_hidden": false,
  "kernelspec": {
   "display_name": "Octave",
   "language": "octave",
   "name": "octave"
  },
  "language_info": {
   "file_extension": ".m",
   "help_links": [
    {
     "text": "GNU Octave",
     "url": "https://www.gnu.org/software/octave/support.html"
    },
    {
     "text": "Octave Kernel",
     "url": "https://github.com/Calysto/octave_kernel"
    },
    {
     "text": "MetaKernel Magics",
     "url": "https://github.com/calysto/metakernel/blob/master/metakernel/magics/README.md"
    }
   ],
   "mimetype": "text/x-octave",
   "name": "octave",
   "version": "4.2.1"
  },
  "livereveal": {
   "controls": "false",
   "scroll": "true",
   "start_slideshow_at": "selected"
  }
 },
 "nbformat": 4,
 "nbformat_minor": 2
}
