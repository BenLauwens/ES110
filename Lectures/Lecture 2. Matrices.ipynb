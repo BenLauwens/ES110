{
 "cells": [
  {
   "cell_type": "markdown",
   "metadata": {
    "hideCode": false,
    "hidePrompt": false,
    "slideshow": {
     "slide_type": "slide"
    }
   },
   "source": [
    "# Definition\n",
    "\n",
    "**In MATLAB, a *matrix* is a rectangular array of number. Special meaning is attached to 1-by-1 matrices, which are *scalars*, and to matrices with only one row or column, which are *vectors*.**"
   ]
  },
  {
   "cell_type": "markdown",
   "metadata": {
    "hideCode": false,
    "hidePrompt": false,
    "slideshow": {
     "slide_type": "slide"
    }
   },
   "source": [
    "# Entering matrices\n",
    "\n",
    "A matrix can be entered as an explicit list of elements:\n",
    "\n",
    "- Seperate the elements of a row with blanks or commas.\n",
    "- Use a semicolon, `;`, or insert `enter` to indicate the end of each row.\n",
    "- Surround the entire list of elements with square brackets, `[ ]`."
   ]
  },
  {
   "cell_type": "code",
   "execution_count": 1,
   "metadata": {
    "hideCode": false,
    "hidePrompt": false,
    "slideshow": {
     "slide_type": "fragment"
    }
   },
   "outputs": [
    {
     "name": "stdout",
     "output_type": "stream",
     "text": [
      "A =\n",
      "\n",
      "   16    3    2   13\n",
      "    5   10   11    8\n",
      "    9    6    7   12\n",
      "    4   15   14    1\n",
      "\n",
      "B =\n",
      "\n",
      "   16    3    2   13\n",
      "    5   10   11    8\n",
      "    9    6    7   12\n",
      "    4   15   14    1\n",
      "\n"
     ]
    }
   ],
   "source": [
    "A = [16, 3, 2, 13; 5, 10, 11, 8; 9, 6, 7, 12; 4, 15, 14, 1]\n",
    "B = [16 3 2 13\n",
    "     5 10 11 8\n",
    "     9 6 7 12\n",
    "     4 15 14 1]"
   ]
  },
  {
   "cell_type": "markdown",
   "metadata": {
    "hideCode": false,
    "hidePrompt": false,
    "slideshow": {
     "slide_type": "slide"
    }
   },
   "source": [
    "# Magic square\n",
    "\n",
    "The matrix `A` is a magic square: if you take the sum along any row or column, or along either of the two main diagonals, you will always get the samber number."
   ]
  },
  {
   "cell_type": "markdown",
   "metadata": {
    "hideCode": false,
    "hidePrompt": false,
    "slideshow": {
     "slide_type": "fragment"
    }
   },
   "source": [
    "The function `sum` returns the sum of each of the columns:"
   ]
  },
  {
   "cell_type": "code",
   "execution_count": 2,
   "metadata": {
    "hideCode": false,
    "hidePrompt": false
   },
   "outputs": [
    {
     "name": "stdout",
     "output_type": "stream",
     "text": [
      "ans =\n",
      "\n",
      "   34   34   34   34\n",
      "\n"
     ]
    }
   ],
   "source": [
    "sum(A)"
   ]
  },
  {
   "cell_type": "markdown",
   "metadata": {
    "collapsed": true,
    "hideCode": false,
    "hidePrompt": false,
    "slideshow": {
     "slide_type": "fragment"
    }
   },
   "source": [
    "To get the sum of each of the rows, a second argument indicating the dimension has to be added to the function `sum`:"
   ]
  },
  {
   "cell_type": "code",
   "execution_count": 3,
   "metadata": {
    "hideCode": false,
    "hidePrompt": false
   },
   "outputs": [
    {
     "name": "stdout",
     "output_type": "stream",
     "text": [
      "ans =\n",
      "\n",
      "   34\n",
      "   34\n",
      "   34\n",
      "   34\n",
      "\n"
     ]
    }
   ],
   "source": [
    "sum(A, 2)"
   ]
  },
  {
   "cell_type": "markdown",
   "metadata": {
    "hideCode": false,
    "hidePrompt": false,
    "slideshow": {
     "slide_type": "subslide"
    }
   },
   "source": [
    "The same vector can be found by evaluating the `sum` function on the transpose of the matrix:"
   ]
  },
  {
   "cell_type": "code",
   "execution_count": 4,
   "metadata": {
    "hideCode": false,
    "hidePrompt": false
   },
   "outputs": [
    {
     "name": "stdout",
     "output_type": "stream",
     "text": [
      "ans =\n",
      "\n",
      "   34\n",
      "   34\n",
      "   34\n",
      "   34\n",
      "\n"
     ]
    }
   ],
   "source": [
    "sum(A')'"
   ]
  },
  {
   "cell_type": "markdown",
   "metadata": {
    "hideCode": false,
    "hidePrompt": false,
    "slideshow": {
     "slide_type": "fragment"
    }
   },
   "source": [
    "The operator `'` can be replaced by the function `transpose`:"
   ]
  },
  {
   "cell_type": "code",
   "execution_count": 5,
   "metadata": {},
   "outputs": [
    {
     "name": "stdout",
     "output_type": "stream",
     "text": [
      "ans =\n",
      "\n",
      "   34\n",
      "   34\n",
      "   34\n",
      "   34\n",
      "\n"
     ]
    }
   ],
   "source": [
    "transpose(sum(transpose(A)))"
   ]
  },
  {
   "cell_type": "markdown",
   "metadata": {
    "slideshow": {
     "slide_type": "subslide"
    }
   },
   "source": [
    "The sum of the elements on the main diagonal is obtained with the `sum` and the `diag` function:"
   ]
  },
  {
   "cell_type": "code",
   "execution_count": 6,
   "metadata": {},
   "outputs": [
    {
     "name": "stdout",
     "output_type": "stream",
     "text": [
      "ans =  34\n"
     ]
    }
   ],
   "source": [
    "sum(diag(A))"
   ]
  },
  {
   "cell_type": "markdown",
   "metadata": {
    "slideshow": {
     "slide_type": "fragment"
    }
   },
   "source": [
    "The other diagonal can be found by the function `fliplr`, that flips a matrix from left to right:"
   ]
  },
  {
   "cell_type": "code",
   "execution_count": 7,
   "metadata": {},
   "outputs": [
    {
     "name": "stdout",
     "output_type": "stream",
     "text": [
      "ans =  34\n"
     ]
    }
   ],
   "source": [
    "sum(diag(fliplr(A)))"
   ]
  },
  {
   "cell_type": "markdown",
   "metadata": {
    "slideshow": {
     "slide_type": "slide"
    }
   },
   "source": [
    "# Subscripts\n",
    "\n",
    "The element in row `i` and column `j` of `A` is denoted by `A(i,j)`. Eg. `A(4,2)` is the number in the fourth row and second column:"
   ]
  },
  {
   "cell_type": "code",
   "execution_count": 8,
   "metadata": {},
   "outputs": [
    {
     "name": "stdout",
     "output_type": "stream",
     "text": [
      "A =\n",
      "\n",
      "   16    3    2   13\n",
      "    5   10   11    8\n",
      "    9    6    7   12\n",
      "    4   15   14    1\n",
      "\n",
      "ans =  15\n"
     ]
    }
   ],
   "source": [
    "A\n",
    "A(4,2)"
   ]
  },
  {
   "cell_type": "markdown",
   "metadata": {
    "slideshow": {
     "slide_type": "fragment"
    }
   },
   "source": [
    "It is also possible to refer to the elements of a matrix with a single subscript, `A(k)`. Eg. `A(8)` is another way of referring to the value `15` stored in `A(4,2)`:"
   ]
  },
  {
   "cell_type": "code",
   "execution_count": 22,
   "metadata": {},
   "outputs": [
    {
     "name": "stdout",
     "output_type": "stream",
     "text": [
      "k =  13\n",
      "j =  4\n",
      "i =  1\n",
      "ans =  1\n"
     ]
    }
   ],
   "source": [
    "k = 13\n",
    "j = ceil(k / 4)\n",
    "i = k - 4 * (j-1)\n",
    "A(k) == A(i,j)"
   ]
  },
  {
   "cell_type": "markdown",
   "metadata": {
    "slideshow": {
     "slide_type": "subslide"
    }
   },
   "source": [
    "If you try to use the value of an element outside of the matrix, it is an error:"
   ]
  },
  {
   "cell_type": "code",
   "execution_count": 10,
   "metadata": {},
   "outputs": [
    {
     "name": "stdout",
     "output_type": "stream",
     "text": [
      "error: A(I,J): row index out of bounds; value 5 out of bound 4\n"
     ]
    }
   ],
   "source": [
    "A(5,4)"
   ]
  },
  {
   "cell_type": "markdown",
   "metadata": {
    "slideshow": {
     "slide_type": "fragment"
    }
   },
   "source": [
    "On the other hand, if you store a value in an element outside of the matrix, the size increases to accommodate the new element:"
   ]
  },
  {
   "cell_type": "code",
   "execution_count": 11,
   "metadata": {},
   "outputs": [
    {
     "name": "stdout",
     "output_type": "stream",
     "text": [
      "X =\n",
      "\n",
      "   16    3    2   13    0\n",
      "    5   10   11    8    0\n",
      "    9    6    7   12    0\n",
      "    4   15   14    1   17\n",
      "\n"
     ]
    }
   ],
   "source": [
    "X = A;\n",
    "X(4,5) = 17"
   ]
  },
  {
   "cell_type": "markdown",
   "metadata": {
    "slideshow": {
     "slide_type": "slide"
    }
   },
   "source": [
    "# The colon operator\n",
    "\n",
    "The colon, `:`, is one of the most important MATLAB operators. It occurs in several different forms."
   ]
  },
  {
   "cell_type": "markdown",
   "metadata": {
    "slideshow": {
     "slide_type": "fragment"
    }
   },
   "source": [
    "The expression `1:10` is a row vector containing the integers from 1 to 10:"
   ]
  },
  {
   "cell_type": "code",
   "execution_count": 12,
   "metadata": {},
   "outputs": [
    {
     "name": "stdout",
     "output_type": "stream",
     "text": [
      "ans =\n",
      "\n",
      "    1    2    3    4    5    6    7    8    9   10\n",
      "\n"
     ]
    }
   ],
   "source": [
    "1:10"
   ]
  },
  {
   "cell_type": "markdown",
   "metadata": {
    "slideshow": {
     "slide_type": "fragment"
    }
   },
   "source": [
    "To obtain nonunit spacing, specify an increment. Eg."
   ]
  },
  {
   "cell_type": "code",
   "execution_count": 13,
   "metadata": {},
   "outputs": [
    {
     "name": "stdout",
     "output_type": "stream",
     "text": [
      "ans =\n",
      "\n",
      "   100    93    86    79    72    65    58    51\n",
      "\n"
     ]
    }
   ],
   "source": [
    "100:-7:50"
   ]
  },
  {
   "cell_type": "code",
   "execution_count": 14,
   "metadata": {},
   "outputs": [
    {
     "name": "stdout",
     "output_type": "stream",
     "text": [
      "ans =\n",
      "\n",
      "    0.00000    0.78540    1.57080    2.35619    3.14159\n",
      "\n"
     ]
    }
   ],
   "source": [
    "0:pi/4:pi"
   ]
  },
  {
   "cell_type": "markdown",
   "metadata": {
    "slideshow": {
     "slide_type": "slide"
    }
   },
   "source": [
    "Subscript expressions involving colons refer to portions of a matrix. Eg."
   ]
  },
  {
   "cell_type": "code",
   "execution_count": 15,
   "metadata": {},
   "outputs": [
    {
     "name": "stdout",
     "output_type": "stream",
     "text": [
      "A =\n",
      "\n",
      "   16    3    2   13\n",
      "    5   10   11    8\n",
      "    9    6    7   12\n",
      "    4   15   14    1\n",
      "\n",
      "ans =\n",
      "\n",
      "   13\n",
      "    8\n",
      "   12\n",
      "    1\n",
      "\n",
      "ans =\n",
      "\n",
      "   6   7\n",
      "\n"
     ]
    }
   ],
   "source": [
    "A\n",
    "A(1:4,4)\n",
    "A(3, 2:3)"
   ]
  },
  {
   "cell_type": "markdown",
   "metadata": {
    "slideshow": {
     "slide_type": "slide"
    }
   },
   "source": [
    "# Generating matrices\n",
    "\n",
    "MATLAB provides four functions that generate basic matrices:\n",
    "\n",
    "|Function|Description|\n",
    "|:---|:---|\n",
    "|`zeros(m,n)`|all zeros|\n",
    "|`ones(m,n)`|all ones|\n",
    "|`rand(m,n)`|uniformly distributed random elements in the interval $[0,1]$|\n",
    "|`randn(m,n)`|normally distributed random elements|"
   ]
  },
  {
   "cell_type": "code",
   "execution_count": 16,
   "metadata": {
    "slideshow": {
     "slide_type": "fragment"
    }
   },
   "outputs": [
    {
     "name": "stdout",
     "output_type": "stream",
     "text": [
      "Z =\n",
      "\n",
      "   0   0   0   0\n",
      "   0   0   0   0\n",
      "\n",
      "F =\n",
      "\n",
      "   1   1   1\n",
      "   1   1   1\n",
      "   1   1   1\n",
      "\n",
      "R =\n",
      "\n",
      "   0.56201   0.28665   0.11383   0.78958   0.36597\n",
      "\n",
      "N =\n",
      "\n",
      "  -1.38586\n",
      "   0.99166\n",
      "\n"
     ]
    }
   ],
   "source": [
    "Z = zeros(2,4)\n",
    "F = ones(3,3)\n",
    "R = rand(1,5)\n",
    "N = randn(2,1)"
   ]
  },
  {
   "cell_type": "markdown",
   "metadata": {
    "slideshow": {
     "slide_type": "slide"
    }
   },
   "source": [
    "# Dimensions\n",
    "\n",
    "MATLAB provides two functions that return the dimensions of a matrix: `length` and `size`:\n",
    "\n",
    "|Statement|Description|\n",
    "|:--|:--|\n",
    "|`l = length(A)`| the length of the largest array dimension in `A`|\n",
    "|`sz = size(A)`| a row vector whose elements contain the length of the corresponding dimension of `A`|\n",
    "|`szdim = size(A,dim)`| the length of dimension `dim`|\n",
    "|`[m,n] = size(A)`| the number of rows and columns when `A` is a matrix|"
   ]
  },
  {
   "cell_type": "code",
   "execution_count": 17,
   "metadata": {
    "slideshow": {
     "slide_type": "fragment"
    }
   },
   "outputs": [
    {
     "name": "stdout",
     "output_type": "stream",
     "text": [
      "lz =  4\n",
      "lr =  5\n",
      "lrn =  2\n",
      "sz =\n",
      "\n",
      "   2   4\n",
      "\n",
      "szdim =  2\n",
      "m =  2\n",
      "n =  4\n"
     ]
    }
   ],
   "source": [
    "lz = length(Z)\n",
    "lr = length(R)\n",
    "lrn = length(N)\n",
    "sz = size(Z)\n",
    "szdim = size(Z,1)\n",
    "[m,n]=size(Z)"
   ]
  },
  {
   "cell_type": "markdown",
   "metadata": {
    "slideshow": {
     "slide_type": "slide"
    }
   },
   "source": [
    "# Concatenation"
   ]
  }
 ],
 "metadata": {
  "celltoolbar": "Slideshow",
  "hide_code_all_hidden": false,
  "kernelspec": {
   "display_name": "Octave",
   "language": "octave",
   "name": "octave"
  },
  "language_info": {
   "file_extension": ".m",
   "help_links": [
    {
     "text": "GNU Octave",
     "url": "https://www.gnu.org/software/octave/support.html"
    },
    {
     "text": "Octave Kernel",
     "url": "https://github.com/Calysto/octave_kernel"
    },
    {
     "text": "MetaKernel Magics",
     "url": "https://github.com/calysto/metakernel/blob/master/metakernel/magics/README.md"
    }
   ],
   "mimetype": "text/x-octave",
   "name": "octave",
   "version": "4.0.3"
  }
 },
 "nbformat": 4,
 "nbformat_minor": 2
}
