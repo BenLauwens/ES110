{
 "cells": [
  {
   "cell_type": "markdown",
   "metadata": {
    "slideshow": {
     "slide_type": "slide"
    }
   },
   "source": [
    "# Logical expressions\n",
    "\n",
    "## Logical operators\n",
    "\n",
    "MATLAB has the following logical operators:\n",
    "\n",
    "- `==`: equal to\n",
    "- `~=`: not equal to\n",
    "- `<`: less than\n",
    "- `>`: greater than\n",
    "- `<=`: less than or equal\n",
    "- `>=`: greater than or equal\n",
    "- `&`: and\n",
    "- `|`: or\n",
    "\n",
    "returning an array of the same size having as values `0` or `1`."
   ]
  },
  {
   "cell_type": "code",
   "execution_count": 1,
   "metadata": {
    "slideshow": {
     "slide_type": "subslide"
    }
   },
   "outputs": [
    {
     "name": "stdout",
     "output_type": "stream",
     "text": [
      "b =\n",
      "\n",
      "   3   2   1   4  -4  -7   6\n",
      "\n",
      "ans =\n",
      "\n",
      "  1  0  0  1  0  0  1\n",
      "\n",
      "ans =\n",
      "\n",
      "  1  1  1  0  0  0  0\n",
      "\n",
      "ans =\n",
      "\n",
      "  1  1  1  0  0  0  1\n",
      "\n"
     ]
    }
   ],
   "source": [
    "b = [3 2 1 4 -4 -7 6]\n",
    "b > 2\n",
    "(b >= 1) & (b < 4)\n",
    "(b <= 3) & (b > 0) | (b > 4)"
   ]
  },
  {
   "cell_type": "markdown",
   "metadata": {
    "hideCode": true,
    "slideshow": {
     "slide_type": "subslide"
    }
   },
   "source": [
    "## `find`\n",
    "\n",
    "The command `find` returns an array containing the indices of values that satisfy a logical operation, eg."
   ]
  },
  {
   "cell_type": "code",
   "execution_count": 2,
   "metadata": {},
   "outputs": [
    {
     "name": "stdout",
     "output_type": "stream",
     "text": [
      "b =\n",
      "\n",
      "   3   2   1   4  -4  -7   6\n",
      "\n",
      "ans =\n",
      "\n",
      "   1   4   7\n",
      "\n",
      "ans =\n",
      "\n",
      "   1   2   3\n",
      "\n",
      "ans =\n",
      "\n",
      "   1   2   3   7\n",
      "\n"
     ]
    }
   ],
   "source": [
    "b = [3 2 1 4 -4 -7 6]\n",
    "find(b > 2)\n",
    "find((b >= 1) & (b < 4))\n",
    "find((b <= 3) & (b > 0) | (b > 4))"
   ]
  },
  {
   "cell_type": "markdown",
   "metadata": {
    "slideshow": {
     "slide_type": "subslide"
    }
   },
   "source": [
    "To select the elements of an array satisfying a logical operator we combine `find` with array selection:"
   ]
  },
  {
   "cell_type": "code",
   "execution_count": 12,
   "metadata": {},
   "outputs": [
    {
     "name": "stdout",
     "output_type": "stream",
     "text": [
      "b =\n",
      "\n",
      "   3   2   1   4  -4  -7   6\n",
      "\n",
      "ans =\n",
      "\n",
      "   3   4   6\n",
      "\n",
      "ans =\n",
      "\n",
      "   3   2   1\n",
      "\n",
      "ans =\n",
      "\n",
      "   3   2   1   6\n",
      "\n"
     ]
    }
   ],
   "source": [
    "b = [3 2 1 4 -4 -7 6]\n",
    "b(find(b > 2))\n",
    "b(find((b >= 1) & (b < 4)))\n",
    "b(find((b <= 3) & (b > 0) | (b > 4)))"
   ]
  },
  {
   "cell_type": "markdown",
   "metadata": {
    "slideshow": {
     "slide_type": "subslide"
    }
   },
   "source": [
    "## `isequal`\n",
    "\n",
    "The proper way to check for equality between two variables is the `isequal` command, eg."
   ]
  },
  {
   "cell_type": "code",
   "execution_count": 4,
   "metadata": {},
   "outputs": [
    {
     "name": "stdout",
     "output_type": "stream",
     "text": [
      "ans =\n",
      "\n",
      "  1  1  1\n",
      "\n",
      "ans =\n",
      "\n",
      "  1  0  0\n",
      "  0  1  0\n",
      "  0  0  1\n",
      "\n",
      "ans = 1\n",
      "ans = 0\n"
     ]
    }
   ],
   "source": [
    "a = [1 2 3];\n",
    "b = [1, 2, 3];\n",
    "c = [1; 2; 3];\n",
    "a == b\n",
    "a == c\n",
    "isequal(a, b)\n",
    "isequal(a, c)"
   ]
  },
  {
   "cell_type": "markdown",
   "metadata": {
    "slideshow": {
     "slide_type": "subslide"
    }
   },
   "source": [
    "## Helper functions\n",
    "\n",
    "These functions are helpful for reducing the results of matrix comparisons to scalar conditions:\n",
    "\n",
    "- `isempty`: returns 1 if array is empty, otherwise 0\n",
    "- `all`: returns 1 if all elements are different from 0, otherwise 0\n",
    "- `any`: return 1 if an element is different from 0, otherwise 0"
   ]
  },
  {
   "cell_type": "code",
   "execution_count": 5,
   "metadata": {},
   "outputs": [
    {
     "name": "stdout",
     "output_type": "stream",
     "text": [
      "ans = 1\n",
      "ans = 0\n",
      "ans = 1\n",
      "ans = 0\n",
      "ans = 1\n",
      "ans = 0\n"
     ]
    }
   ],
   "source": [
    "isempty([])\n",
    "isempty(1)\n",
    "all(ones(3, 1))\n",
    "all([1 0 3])\n",
    "any([1 0 3])\n",
    "any(zeros(3, 1))"
   ]
  },
  {
   "cell_type": "markdown",
   "metadata": {
    "slideshow": {
     "slide_type": "slide"
    }
   },
   "source": [
    "# Branching\n",
    "\n",
    "The `if` statement evaluates a logical expression and executes a group of statements when the expressions is *true*. The optional `elseif` and `else` keywords provide for the execution of alternate groups of statements. And `end` keyword, which matches the `if`, terminates the last group of statements.\n",
    "\n",
    "Eg., the leap day falls in the Gregorian calendar on 29 February and occurs when the year is divisible by 4, but not by 100 - unless the year is divisible by 400:"
   ]
  },
  {
   "cell_type": "code",
   "execution_count": 6,
   "metadata": {},
   "outputs": [
    {
     "name": "stdout",
     "output_type": "stream",
     "text": [
      "year =  2017\n",
      "warning: Matlab-style short-circuit operation performed for operator &\n",
      "No leap year\n",
      "C =  2\n"
     ]
    }
   ],
   "source": [
    "year = 2017\n",
    "if (mod(year, 4) == 0) & ((mod(year, 100) ~= 0) | (mod(year, 400) == 0))\n",
    "    disp('Leap year');\n",
    "    C = 1;\n",
    "else\n",
    "    disp('No leap year');\n",
    "    C = 2;\n",
    "end\n",
    "C"
   ]
  },
  {
   "cell_type": "markdown",
   "metadata": {
    "slideshow": {
     "slide_type": "subslide"
    }
   },
   "source": [
    "Or we can do this with nested `if` statements: "
   ]
  },
  {
   "cell_type": "code",
   "execution_count": 7,
   "metadata": {
    "slideshow": {
     "slide_type": "-"
    }
   },
   "outputs": [
    {
     "name": "stdout",
     "output_type": "stream",
     "text": [
      "year =  2017\n",
      "No leap year\n",
      "C =  4\n"
     ]
    }
   ],
   "source": [
    "year = 2017\n",
    "if mod(year, 4) == 0\n",
    "    if mod(year, 100) ~= 0\n",
    "        disp('Leap year');\n",
    "        C = 1;\n",
    "    else\n",
    "        if mod(year, 400) == 0\n",
    "            disp('Leap year');\n",
    "            C = 2;\n",
    "        else\n",
    "            disp('No leap year');\n",
    "            C = 3;\n",
    "        end\n",
    "    end\n",
    "else\n",
    "    disp('No leap year');\n",
    "    C = 4;\n",
    "end\n",
    "C"
   ]
  },
  {
   "cell_type": "markdown",
   "metadata": {},
   "source": [
    "It is a good idea to indent the branches for readability, especially when they are nested!"
   ]
  },
  {
   "cell_type": "markdown",
   "metadata": {
    "slideshow": {
     "slide_type": "subslide"
    }
   },
   "source": [
    "If `A` and `B` are scalars, the following statements will never reach the *unexpected situation*. But for most pairs of matrices, none of the conditions is true for all elements and so the `else` clause is executed:"
   ]
  },
  {
   "cell_type": "code",
   "execution_count": 8,
   "metadata": {},
   "outputs": [
    {
     "name": "stdout",
     "output_type": "stream",
     "text": [
      "A =  1\n",
      "B =  2\n",
      "less\n"
     ]
    }
   ],
   "source": [
    "A = [1]\n",
    "B = [2]\n",
    "if A > B\n",
    "    disp('greater');\n",
    "elseif A < B\n",
    "    disp('less');\n",
    "elseif A == B\n",
    "    disp('equal');\n",
    "else\n",
    "    error('Unexpected situation');\n",
    "end"
   ]
  },
  {
   "cell_type": "markdown",
   "metadata": {
    "slideshow": {
     "slide_type": "slide"
    }
   },
   "source": [
    "# Loops\n",
    "\n",
    "## `for`\n",
    "\n",
    "A `for` loop repeats a group of statements a fixed predermined number of times. A matching `end` delineates the statements, eg.:"
   ]
  },
  {
   "cell_type": "code",
   "execution_count": 9,
   "metadata": {},
   "outputs": [
    {
     "name": "stdout",
     "output_type": "stream",
     "text": [
      "    0    1    1    2    3    5    8   13   21   34\n"
     ]
    }
   ],
   "source": [
    "clear x\n",
    "x(1) = 0;\n",
    "x(2) = 1;\n",
    "for n = 3:10\n",
    "    x(n) = x(n-1)+x(n-2);\n",
    "end\n",
    "disp(x)"
   ]
  },
  {
   "cell_type": "markdown",
   "metadata": {
    "slideshow": {
     "slide_type": "subslide"
    }
   },
   "source": [
    "It is a good idea to indent the loops for readability, especially when they are nested, eg.:"
   ]
  },
  {
   "cell_type": "code",
   "execution_count": 10,
   "metadata": {},
   "outputs": [
    {
     "name": "stdout",
     "output_type": "stream",
     "text": [
      "   0.50000   0.33333   0.25000   0.20000\n",
      "   0.33333   0.25000   0.20000   0.16667\n",
      "   0.25000   0.20000   0.16667   0.14286\n"
     ]
    }
   ],
   "source": [
    "m = 3;\n",
    "n = 4;\n",
    "for i = 1:m\n",
    "    for j = 1:n\n",
    "        H(i,j) = 1/(i+j);\n",
    "    end\n",
    "end\n",
    "disp(H)"
   ]
  },
  {
   "cell_type": "markdown",
   "metadata": {
    "slideshow": {
     "slide_type": "subslide"
    }
   },
   "source": [
    "## `while`\n",
    "\n",
    "The `while` loop repeats a group of statements an indefinite number of times until a logicial condition is no longer satisfied. A matching `end` delineates the statements, eg.:"
   ]
  },
  {
   "cell_type": "code",
   "execution_count": 11,
   "metadata": {},
   "outputs": [
    {
     "name": "stdout",
     "output_type": "stream",
     "text": [
      " Columns 1 through 13:\n",
      "\n",
      "     0     1     1     2     3     5     8    13    21    34    55    89   144\n",
      "\n",
      " Columns 14 through 17:\n",
      "\n",
      "   233   377   610   987\n"
     ]
    }
   ],
   "source": [
    "clear x\n",
    "x(1) = 0;\n",
    "x(2) = 1;\n",
    "while x(end-1) + x(end) < 1000\n",
    "    x(end + 1) = x(end) + x(end - 1);\n",
    "end\n",
    "disp(x) "
   ]
  },
  {
   "cell_type": "markdown",
   "metadata": {
    "slideshow": {
     "slide_type": "subslide"
    }
   },
   "source": [
    "## `continue`\n",
    "\n",
    "The `continue` statement passes control to the next iteration of the `for` loop or `while` loop in which it appears, skipping any remaining statements in the body of the loop, eg.:"
   ]
  },
  {
   "cell_type": "code",
   "execution_count": 16,
   "metadata": {},
   "outputs": [
    {
     "name": "stdout",
     "output_type": "stream",
     "text": [
      "     0     2     8    34   144   610\n"
     ]
    }
   ],
   "source": [
    "clear x y\n",
    "x(1) = 0;\n",
    "x(2) = 1;\n",
    "y(1) = 0;\n",
    "while x(end-1) + x(end) < 1000\n",
    "    x(end + 1) = x(end) + x(end - 1);\n",
    "    if mod(x(end), 2) ~= 0\n",
    "        continue\n",
    "    end\n",
    "    y(end + 1) = x(end);\n",
    "end\n",
    "disp(y)"
   ]
  },
  {
   "cell_type": "markdown",
   "metadata": {
    "slideshow": {
     "slide_type": "subslide"
    }
   },
   "source": [
    "## `break`\n",
    "\n",
    "A `break` statement lets you exit early from a `for` loop or `while` loop. In nested loops, `break` exits from the innermost loop only. Eg.:"
   ]
  },
  {
   "cell_type": "code",
   "execution_count": 17,
   "metadata": {},
   "outputs": [
    {
     "name": "stdout",
     "output_type": "stream",
     "text": [
      " Columns 1 through 13:\n",
      "\n",
      "     0     1     1     2     3     5     8    13    21    34    55    89   144\n",
      "\n",
      " Columns 14 through 17:\n",
      "\n",
      "   233   377   610   987\n"
     ]
    }
   ],
   "source": [
    "clear x\n",
    "x(1) = 0;\n",
    "x(2) = 1;\n",
    "for n = 3:1000\n",
    "    x(n) = x(n-1)+x(n-2);\n",
    "    if x(n) + x(n-1) > 1000\n",
    "        break\n",
    "    end\n",
    "end\n",
    "disp(x)"
   ]
  }
 ],
 "metadata": {
  "celltoolbar": "Slideshow",
  "kernelspec": {
   "display_name": "Octave",
   "language": "octave",
   "name": "octave"
  },
  "language_info": {
   "file_extension": ".m",
   "help_links": [
    {
     "text": "GNU Octave",
     "url": "https://www.gnu.org/software/octave/support.html"
    },
    {
     "text": "Octave Kernel",
     "url": "https://github.com/Calysto/octave_kernel"
    },
    {
     "text": "MetaKernel Magics",
     "url": "https://github.com/calysto/metakernel/blob/master/metakernel/magics/README.md"
    }
   ],
   "mimetype": "text/x-octave",
   "name": "octave",
   "version": "4.2.2"
  },
  "livereveal": {
   "controls": "false",
   "scroll": "true",
   "start_slideshow_at": "selected"
  }
 },
 "nbformat": 4,
 "nbformat_minor": 2
}
