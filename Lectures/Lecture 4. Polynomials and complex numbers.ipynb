{
 "cells": [
  {
   "cell_type": "markdown",
   "metadata": {
    "slideshow": {
     "slide_type": "slide"
    }
   },
   "source": [
    "# Polynomials"
   ]
  },
  {
   "cell_type": "markdown",
   "metadata": {
    "collapsed": true
   },
   "source": [
    "## Definition\n",
    "\n",
    "Polynomials\n",
    "$$p(x)=a_nx^n+\\cdot+a_1x+a_0$$\n",
    "are stored in MATLAB as the array of coefficients:\n",
    "$$p=[a_n\\ \\dots\\ a_1\\ a_0]$$\n",
    "eg., $p(x)=x^2-3x+2$"
   ]
  },
  {
   "cell_type": "code",
   "execution_count": 1,
   "metadata": {
    "slideshow": {
     "slide_type": "-"
    }
   },
   "outputs": [],
   "source": [
    "p = [1 -3 2];"
   ]
  },
  {
   "cell_type": "markdown",
   "metadata": {
    "slideshow": {
     "slide_type": "subslide"
    }
   },
   "source": [
    "## Evaluation\n",
    "\n",
    "The command `polyval` allows us to evaluate the polynomial in a point:"
   ]
  },
  {
   "cell_type": "code",
   "execution_count": 2,
   "metadata": {},
   "outputs": [
    {
     "name": "stdout",
     "output_type": "stream",
     "text": [
      "ans =  12\n",
      "ans =  6\n",
      "ans =  2\n",
      "ans = 0\n",
      "ans = 0\n"
     ]
    }
   ],
   "source": [
    "polyval(p, -2)\n",
    "polyval(p, -1)\n",
    "polyval(p, 0)\n",
    "polyval(p, 1)\n",
    "polyval(p, 2)"
   ]
  },
  {
   "cell_type": "markdown",
   "metadata": {
    "slideshow": {
     "slide_type": "subslide"
    }
   },
   "source": [
    "## Roots\n",
    "\n",
    "The command `roots` gives the roots of a polynomial:"
   ]
  },
  {
   "cell_type": "code",
   "execution_count": 3,
   "metadata": {},
   "outputs": [
    {
     "name": "stdout",
     "output_type": "stream",
     "text": [
      "ans =\n",
      "\n",
      "   2\n",
      "   1\n",
      "\n"
     ]
    }
   ],
   "source": [
    "roots(p)"
   ]
  },
  {
   "cell_type": "markdown",
   "metadata": {
    "slideshow": {
     "slide_type": "subslide"
    }
   },
   "source": [
    "## Plotting"
   ]
  },
  {
   "cell_type": "code",
   "execution_count": 4,
   "metadata": {},
   "outputs": [
    {
     "data": {
      "image/svg+xml": [
       "<svg height=\"420px\" viewBox=\"0 0 560 420\" width=\"560px\" xmlns=\"http://www.w3.org/2000/svg\" xmlns:xlink=\"http://www.w3.org/1999/xlink\">\n",
       "\n",
       "<title>Gnuplot</title>\n",
       "<desc>Produced by GNUPLOT 5.0 patchlevel 7 </desc>\n",
       "\n",
       "<g id=\"gnuplot_canvas\">\n",
       "\n",
       "<rect fill=\"none\" height=\"420\" width=\"560\" x=\"0\" y=\"0\"/>\n",
       "<defs>\n",
       "\n",
       "\t<circle id=\"gpDot\" r=\"0.5\" stroke-width=\"0.5\"/>\n",
       "\t<path d=\"M-1,0 h2 M0,-1 v2\" id=\"gpPt0\" stroke=\"currentColor\" stroke-width=\"0.333\"/>\n",
       "\t<path d=\"M-1,-1 L1,1 M1,-1 L-1,1\" id=\"gpPt1\" stroke=\"currentColor\" stroke-width=\"0.333\"/>\n",
       "\t<path d=\"M-1,0 L1,0 M0,-1 L0,1 M-1,-1 L1,1 M-1,1 L1,-1\" id=\"gpPt2\" stroke=\"currentColor\" stroke-width=\"0.333\"/>\n",
       "\t<rect height=\"2\" id=\"gpPt3\" stroke=\"currentColor\" stroke-width=\"0.333\" width=\"2\" x=\"-1\" y=\"-1\"/>\n",
       "\t<rect fill=\"currentColor\" height=\"2\" id=\"gpPt4\" stroke=\"currentColor\" stroke-width=\"0.333\" width=\"2\" x=\"-1\" y=\"-1\"/>\n",
       "\t<circle cx=\"0\" cy=\"0\" id=\"gpPt5\" r=\"1\" stroke=\"currentColor\" stroke-width=\"0.333\"/>\n",
       "\t<use fill=\"currentColor\" id=\"gpPt6\" stroke=\"none\" xlink:href=\"#gpPt5\"/>\n",
       "\t<path d=\"M0,-1.33 L-1.33,0.67 L1.33,0.67 z\" id=\"gpPt7\" stroke=\"currentColor\" stroke-width=\"0.333\"/>\n",
       "\t<use fill=\"currentColor\" id=\"gpPt8\" stroke=\"none\" xlink:href=\"#gpPt7\"/>\n",
       "\t<use id=\"gpPt9\" stroke=\"currentColor\" transform=\"rotate(180)\" xlink:href=\"#gpPt7\"/>\n",
       "\t<use fill=\"currentColor\" id=\"gpPt10\" stroke=\"none\" xlink:href=\"#gpPt9\"/>\n",
       "\t<use id=\"gpPt11\" stroke=\"currentColor\" transform=\"rotate(45)\" xlink:href=\"#gpPt3\"/>\n",
       "\t<use fill=\"currentColor\" id=\"gpPt12\" stroke=\"none\" xlink:href=\"#gpPt11\"/>\n",
       "\t<path d=\"M0,1.330 L1.265,0.411 L0.782,-1.067 L-0.782,-1.076 L-1.265,0.411 z\" id=\"gpPt13\" stroke=\"currentColor\" stroke-width=\"0.333\"/>\n",
       "\t<use fill=\"currentColor\" id=\"gpPt14\" stroke=\"none\" xlink:href=\"#gpPt13\"/>\n",
       "\t<filter filterUnits=\"objectBoundingBox\" height=\"1\" id=\"textbox\" width=\"1\" x=\"0\" y=\"0\">\n",
       "\t  <feFlood flood-color=\"white\" flood-opacity=\"1\" result=\"bgnd\"/>\n",
       "\t  <feComposite in=\"SourceGraphic\" in2=\"bgnd\" operator=\"atop\"/>\n",
       "\t</filter>\n",
       "\t<filter filterUnits=\"objectBoundingBox\" height=\"1\" id=\"greybox\" width=\"1\" x=\"0\" y=\"0\">\n",
       "\t  <feFlood flood-color=\"lightgrey\" flood-opacity=\"1\" result=\"grey\"/>\n",
       "\t  <feComposite in=\"SourceGraphic\" in2=\"grey\" operator=\"atop\"/>\n",
       "\t</filter>\n",
       "</defs>\n",
       "<g color=\"white\" fill=\"none\" stroke=\"currentColor\" stroke-linecap=\"butt\" stroke-linejoin=\"miter\" stroke-width=\"1.00\">\n",
       "</g>\n",
       "<g color=\"black\" fill=\"none\" stroke=\"currentColor\" stroke-linecap=\"butt\" stroke-linejoin=\"miter\" stroke-width=\"1.00\">\n",
       "\t<g shape-rendering=\"crispEdges\" stroke=\"none\">\n",
       "\t\t<polygon fill=\"rgb(255, 255, 255)\" points=\"36.4,396.0 543.0,396.0 543.0,11.4 36.4,11.4 \"/>\n",
       "\t</g>\n",
       "</g>\n",
       "<g color=\"black\" fill=\"none\" stroke=\"rgb(255, 255, 255)\" stroke-linecap=\"butt\" stroke-linejoin=\"miter\" stroke-width=\"0.50\">\n",
       "</g>\n",
       "<g color=\"black\" fill=\"none\" stroke=\"currentColor\" stroke-linecap=\"butt\" stroke-linejoin=\"miter\" stroke-width=\"0.50\">\n",
       "</g>\n",
       "<g color=\"gray\" fill=\"none\" stroke=\"currentColor\" stroke-linecap=\"butt\" stroke-linejoin=\"miter\" stroke-width=\"0.50\">\n",
       "\t<path class=\"gridline\" d=\"M36.4,396.0 L543.1,396.0  \" stroke=\"gray\" stroke-dasharray=\"2,4\"/></g>\n",
       "<g color=\"black\" fill=\"none\" stroke=\"currentColor\" stroke-linecap=\"butt\" stroke-linejoin=\"miter\" stroke-width=\"0.50\">\n",
       "\t<path d=\"M36.4,396.0 L44.8,396.0 M543.1,396.0 L534.7,396.0  \" stroke=\"black\"/>\t<g fill=\"rgb(0,0,0)\" font-family=\"{}\" font-size=\"10.00\" stroke=\"none\" text-anchor=\"end\" transform=\"translate(30.8,399.3)\">\n",
       "\t\t<text><tspan font-family=\"{}\">-0.5</tspan></text>\n",
       "\t</g>\n",
       "</g>\n",
       "<g color=\"black\" fill=\"none\" stroke=\"currentColor\" stroke-linecap=\"butt\" stroke-linejoin=\"miter\" stroke-width=\"0.50\">\n",
       "</g>\n",
       "<g color=\"gray\" fill=\"none\" stroke=\"currentColor\" stroke-linecap=\"butt\" stroke-linejoin=\"miter\" stroke-width=\"0.50\">\n",
       "\t<path class=\"gridline\" d=\"M36.4,319.1 L543.1,319.1  \" stroke=\"gray\" stroke-dasharray=\"2,4\"/></g>\n",
       "<g color=\"black\" fill=\"none\" stroke=\"currentColor\" stroke-linecap=\"butt\" stroke-linejoin=\"miter\" stroke-width=\"0.50\">\n",
       "\t<path d=\"M36.4,319.1 L44.8,319.1 M543.1,319.1 L534.7,319.1  \" stroke=\"black\"/>\t<g fill=\"rgb(0,0,0)\" font-family=\"{}\" font-size=\"10.00\" stroke=\"none\" text-anchor=\"end\" transform=\"translate(30.8,322.4)\">\n",
       "\t\t<text><tspan font-family=\"{}\">0</tspan></text>\n",
       "\t</g>\n",
       "</g>\n",
       "<g color=\"black\" fill=\"none\" stroke=\"currentColor\" stroke-linecap=\"butt\" stroke-linejoin=\"miter\" stroke-width=\"0.50\">\n",
       "</g>\n",
       "<g color=\"gray\" fill=\"none\" stroke=\"currentColor\" stroke-linecap=\"butt\" stroke-linejoin=\"miter\" stroke-width=\"0.50\">\n",
       "\t<path class=\"gridline\" d=\"M36.4,242.1 L543.1,242.1  \" stroke=\"gray\" stroke-dasharray=\"2,4\"/></g>\n",
       "<g color=\"black\" fill=\"none\" stroke=\"currentColor\" stroke-linecap=\"butt\" stroke-linejoin=\"miter\" stroke-width=\"0.50\">\n",
       "\t<path d=\"M36.4,242.1 L44.8,242.1 M543.1,242.1 L534.7,242.1  \" stroke=\"black\"/>\t<g fill=\"rgb(0,0,0)\" font-family=\"{}\" font-size=\"10.00\" stroke=\"none\" text-anchor=\"end\" transform=\"translate(30.8,245.4)\">\n",
       "\t\t<text><tspan font-family=\"{}\">0.5</tspan></text>\n",
       "\t</g>\n",
       "</g>\n",
       "<g color=\"black\" fill=\"none\" stroke=\"currentColor\" stroke-linecap=\"butt\" stroke-linejoin=\"miter\" stroke-width=\"0.50\">\n",
       "</g>\n",
       "<g color=\"gray\" fill=\"none\" stroke=\"currentColor\" stroke-linecap=\"butt\" stroke-linejoin=\"miter\" stroke-width=\"0.50\">\n",
       "\t<path class=\"gridline\" d=\"M36.4,165.2 L543.1,165.2  \" stroke=\"gray\" stroke-dasharray=\"2,4\"/></g>\n",
       "<g color=\"black\" fill=\"none\" stroke=\"currentColor\" stroke-linecap=\"butt\" stroke-linejoin=\"miter\" stroke-width=\"0.50\">\n",
       "\t<path d=\"M36.4,165.2 L44.8,165.2 M543.1,165.2 L534.7,165.2  \" stroke=\"black\"/>\t<g fill=\"rgb(0,0,0)\" font-family=\"{}\" font-size=\"10.00\" stroke=\"none\" text-anchor=\"end\" transform=\"translate(30.8,168.5)\">\n",
       "\t\t<text><tspan font-family=\"{}\">1</tspan></text>\n",
       "\t</g>\n",
       "</g>\n",
       "<g color=\"black\" fill=\"none\" stroke=\"currentColor\" stroke-linecap=\"butt\" stroke-linejoin=\"miter\" stroke-width=\"0.50\">\n",
       "</g>\n",
       "<g color=\"gray\" fill=\"none\" stroke=\"currentColor\" stroke-linecap=\"butt\" stroke-linejoin=\"miter\" stroke-width=\"0.50\">\n",
       "\t<path class=\"gridline\" d=\"M36.4,88.2 L543.1,88.2  \" stroke=\"gray\" stroke-dasharray=\"2,4\"/></g>\n",
       "<g color=\"black\" fill=\"none\" stroke=\"currentColor\" stroke-linecap=\"butt\" stroke-linejoin=\"miter\" stroke-width=\"0.50\">\n",
       "\t<path d=\"M36.4,88.2 L44.8,88.2 M543.1,88.2 L534.7,88.2  \" stroke=\"black\"/>\t<g fill=\"rgb(0,0,0)\" font-family=\"{}\" font-size=\"10.00\" stroke=\"none\" text-anchor=\"end\" transform=\"translate(30.8,91.5)\">\n",
       "\t\t<text><tspan font-family=\"{}\">1.5</tspan></text>\n",
       "\t</g>\n",
       "</g>\n",
       "<g color=\"black\" fill=\"none\" stroke=\"currentColor\" stroke-linecap=\"butt\" stroke-linejoin=\"miter\" stroke-width=\"0.50\">\n",
       "</g>\n",
       "<g color=\"gray\" fill=\"none\" stroke=\"currentColor\" stroke-linecap=\"butt\" stroke-linejoin=\"miter\" stroke-width=\"0.50\">\n",
       "\t<path class=\"gridline\" d=\"M36.4,11.3 L543.1,11.3  \" stroke=\"gray\" stroke-dasharray=\"2,4\"/></g>\n",
       "<g color=\"black\" fill=\"none\" stroke=\"currentColor\" stroke-linecap=\"butt\" stroke-linejoin=\"miter\" stroke-width=\"0.50\">\n",
       "\t<path d=\"M36.4,11.3 L44.8,11.3 M543.1,11.3 L534.7,11.3  \" stroke=\"black\"/>\t<g fill=\"rgb(0,0,0)\" font-family=\"{}\" font-size=\"10.00\" stroke=\"none\" text-anchor=\"end\" transform=\"translate(30.8,14.6)\">\n",
       "\t\t<text><tspan font-family=\"{}\">2</tspan></text>\n",
       "\t</g>\n",
       "</g>\n",
       "<g color=\"black\" fill=\"none\" stroke=\"currentColor\" stroke-linecap=\"butt\" stroke-linejoin=\"miter\" stroke-width=\"0.50\">\n",
       "</g>\n",
       "<g color=\"gray\" fill=\"none\" stroke=\"currentColor\" stroke-linecap=\"butt\" stroke-linejoin=\"miter\" stroke-width=\"0.50\">\n",
       "\t<path class=\"gridline\" d=\"M36.4,396.0 L36.4,11.3  \" stroke=\"gray\" stroke-dasharray=\"2,4\"/></g>\n",
       "<g color=\"black\" fill=\"none\" stroke=\"currentColor\" stroke-linecap=\"butt\" stroke-linejoin=\"miter\" stroke-width=\"0.50\">\n",
       "\t<path d=\"M36.4,396.0 L36.4,387.6 M36.4,11.3 L36.4,19.7  \" stroke=\"black\"/>\t<g fill=\"rgb(0,0,0)\" font-family=\"{}\" font-size=\"10.00\" stroke=\"none\" text-anchor=\"middle\" transform=\"translate(36.4,411.3)\">\n",
       "\t\t<text><tspan font-family=\"{}\">0</tspan></text>\n",
       "\t</g>\n",
       "</g>\n",
       "<g color=\"black\" fill=\"none\" stroke=\"currentColor\" stroke-linecap=\"butt\" stroke-linejoin=\"miter\" stroke-width=\"0.50\">\n",
       "</g>\n",
       "<g color=\"gray\" fill=\"none\" stroke=\"currentColor\" stroke-linecap=\"butt\" stroke-linejoin=\"miter\" stroke-width=\"0.50\">\n",
       "\t<path class=\"gridline\" d=\"M120.9,396.0 L120.9,11.3  \" stroke=\"gray\" stroke-dasharray=\"2,4\"/></g>\n",
       "<g color=\"black\" fill=\"none\" stroke=\"currentColor\" stroke-linecap=\"butt\" stroke-linejoin=\"miter\" stroke-width=\"0.50\">\n",
       "\t<path d=\"M120.9,396.0 L120.9,387.6 M120.9,11.3 L120.9,19.7  \" stroke=\"black\"/>\t<g fill=\"rgb(0,0,0)\" font-family=\"{}\" font-size=\"10.00\" stroke=\"none\" text-anchor=\"middle\" transform=\"translate(120.9,411.3)\">\n",
       "\t\t<text><tspan font-family=\"{}\">0.5</tspan></text>\n",
       "\t</g>\n",
       "</g>\n",
       "<g color=\"black\" fill=\"none\" stroke=\"currentColor\" stroke-linecap=\"butt\" stroke-linejoin=\"miter\" stroke-width=\"0.50\">\n",
       "</g>\n",
       "<g color=\"gray\" fill=\"none\" stroke=\"currentColor\" stroke-linecap=\"butt\" stroke-linejoin=\"miter\" stroke-width=\"0.50\">\n",
       "\t<path class=\"gridline\" d=\"M205.3,396.0 L205.3,11.3  \" stroke=\"gray\" stroke-dasharray=\"2,4\"/></g>\n",
       "<g color=\"black\" fill=\"none\" stroke=\"currentColor\" stroke-linecap=\"butt\" stroke-linejoin=\"miter\" stroke-width=\"0.50\">\n",
       "\t<path d=\"M205.3,396.0 L205.3,387.6 M205.3,11.3 L205.3,19.7  \" stroke=\"black\"/>\t<g fill=\"rgb(0,0,0)\" font-family=\"{}\" font-size=\"10.00\" stroke=\"none\" text-anchor=\"middle\" transform=\"translate(205.3,411.3)\">\n",
       "\t\t<text><tspan font-family=\"{}\">1</tspan></text>\n",
       "\t</g>\n",
       "</g>\n",
       "<g color=\"black\" fill=\"none\" stroke=\"currentColor\" stroke-linecap=\"butt\" stroke-linejoin=\"miter\" stroke-width=\"0.50\">\n",
       "</g>\n",
       "<g color=\"gray\" fill=\"none\" stroke=\"currentColor\" stroke-linecap=\"butt\" stroke-linejoin=\"miter\" stroke-width=\"0.50\">\n",
       "\t<path class=\"gridline\" d=\"M289.8,396.0 L289.8,11.3  \" stroke=\"gray\" stroke-dasharray=\"2,4\"/></g>\n",
       "<g color=\"black\" fill=\"none\" stroke=\"currentColor\" stroke-linecap=\"butt\" stroke-linejoin=\"miter\" stroke-width=\"0.50\">\n",
       "\t<path d=\"M289.8,396.0 L289.8,387.6 M289.8,11.3 L289.8,19.7  \" stroke=\"black\"/>\t<g fill=\"rgb(0,0,0)\" font-family=\"{}\" font-size=\"10.00\" stroke=\"none\" text-anchor=\"middle\" transform=\"translate(289.8,411.3)\">\n",
       "\t\t<text><tspan font-family=\"{}\">1.5</tspan></text>\n",
       "\t</g>\n",
       "</g>\n",
       "<g color=\"black\" fill=\"none\" stroke=\"currentColor\" stroke-linecap=\"butt\" stroke-linejoin=\"miter\" stroke-width=\"0.50\">\n",
       "</g>\n",
       "<g color=\"gray\" fill=\"none\" stroke=\"currentColor\" stroke-linecap=\"butt\" stroke-linejoin=\"miter\" stroke-width=\"0.50\">\n",
       "\t<path class=\"gridline\" d=\"M374.2,396.0 L374.2,11.3  \" stroke=\"gray\" stroke-dasharray=\"2,4\"/></g>\n",
       "<g color=\"black\" fill=\"none\" stroke=\"currentColor\" stroke-linecap=\"butt\" stroke-linejoin=\"miter\" stroke-width=\"0.50\">\n",
       "\t<path d=\"M374.2,396.0 L374.2,387.6 M374.2,11.3 L374.2,19.7  \" stroke=\"black\"/>\t<g fill=\"rgb(0,0,0)\" font-family=\"{}\" font-size=\"10.00\" stroke=\"none\" text-anchor=\"middle\" transform=\"translate(374.2,411.3)\">\n",
       "\t\t<text><tspan font-family=\"{}\">2</tspan></text>\n",
       "\t</g>\n",
       "</g>\n",
       "<g color=\"black\" fill=\"none\" stroke=\"currentColor\" stroke-linecap=\"butt\" stroke-linejoin=\"miter\" stroke-width=\"0.50\">\n",
       "</g>\n",
       "<g color=\"gray\" fill=\"none\" stroke=\"currentColor\" stroke-linecap=\"butt\" stroke-linejoin=\"miter\" stroke-width=\"0.50\">\n",
       "\t<path class=\"gridline\" d=\"M458.7,396.0 L458.7,11.3  \" stroke=\"gray\" stroke-dasharray=\"2,4\"/></g>\n",
       "<g color=\"black\" fill=\"none\" stroke=\"currentColor\" stroke-linecap=\"butt\" stroke-linejoin=\"miter\" stroke-width=\"0.50\">\n",
       "\t<path d=\"M458.7,396.0 L458.7,387.6 M458.7,11.3 L458.7,19.7  \" stroke=\"black\"/>\t<g fill=\"rgb(0,0,0)\" font-family=\"{}\" font-size=\"10.00\" stroke=\"none\" text-anchor=\"middle\" transform=\"translate(458.7,411.3)\">\n",
       "\t\t<text><tspan font-family=\"{}\">2.5</tspan></text>\n",
       "\t</g>\n",
       "</g>\n",
       "<g color=\"black\" fill=\"none\" stroke=\"currentColor\" stroke-linecap=\"butt\" stroke-linejoin=\"miter\" stroke-width=\"0.50\">\n",
       "</g>\n",
       "<g color=\"gray\" fill=\"none\" stroke=\"currentColor\" stroke-linecap=\"butt\" stroke-linejoin=\"miter\" stroke-width=\"0.50\">\n",
       "\t<path class=\"gridline\" d=\"M543.1,396.0 L543.1,11.3  \" stroke=\"gray\" stroke-dasharray=\"2,4\"/></g>\n",
       "<g color=\"black\" fill=\"none\" stroke=\"currentColor\" stroke-linecap=\"butt\" stroke-linejoin=\"miter\" stroke-width=\"0.50\">\n",
       "\t<path d=\"M543.1,396.0 L543.1,387.6 M543.1,11.3 L543.1,19.7  \" stroke=\"black\"/>\t<g fill=\"rgb(0,0,0)\" font-family=\"{}\" font-size=\"10.00\" stroke=\"none\" text-anchor=\"middle\" transform=\"translate(543.1,411.3)\">\n",
       "\t\t<text><tspan font-family=\"{}\">3</tspan></text>\n",
       "\t</g>\n",
       "</g>\n",
       "<g color=\"black\" fill=\"none\" stroke=\"currentColor\" stroke-linecap=\"butt\" stroke-linejoin=\"miter\" stroke-width=\"0.50\">\n",
       "</g>\n",
       "<g color=\"black\" fill=\"none\" stroke=\"currentColor\" stroke-linecap=\"butt\" stroke-linejoin=\"miter\" stroke-width=\"0.50\">\n",
       "\t<path d=\"M36.4,11.3 L36.4,396.0 L543.1,396.0 L543.1,11.3 L36.4,11.3 Z  \" stroke=\"black\"/></g>\n",
       "<g color=\"black\" fill=\"none\" stroke=\"currentColor\" stroke-linecap=\"butt\" stroke-linejoin=\"miter\" stroke-width=\"0.50\">\n",
       "</g>\n",
       "\t<g id=\"gnuplot_plot_1a\"><title>gnuplot_plot_1a</title>\n",
       "<g color=\"black\" fill=\"none\" stroke=\"currentColor\" stroke-linecap=\"butt\" stroke-linejoin=\"miter\" stroke-width=\"0.50\">\n",
       "\t<path d=\"M36.4,11.3 L38.1,15.9 L39.8,20.5 L41.5,25.0 L43.2,29.5 L44.8,34.0 L46.5,38.4 L48.2,42.9   L49.9,47.2 L51.6,51.6 L53.3,55.9 L55.0,60.2 L56.7,64.5 L58.4,68.7 L60.0,72.9 L61.7,77.1   L63.4,81.2 L65.1,85.3 L66.8,89.4 L68.5,93.5 L70.2,97.5 L71.9,101.5 L73.6,105.4 L75.2,109.3   L76.9,113.2 L78.6,117.1 L80.3,120.9 L82.0,124.7 L83.7,128.5 L85.4,132.2 L87.1,135.9 L88.8,139.6   L90.4,143.3 L92.1,146.9 L93.8,150.5 L95.5,154.0 L97.2,157.5 L98.9,161.0 L100.6,164.5 L102.3,167.9   L104.0,171.3 L105.6,174.7 L107.3,178.0 L109.0,181.4 L110.7,184.6 L112.4,187.9 L114.1,191.1 L115.8,194.3   L117.5,197.4 L119.2,200.6 L120.9,203.6 L122.5,206.7 L124.2,209.7 L125.9,212.7 L127.6,215.7 L129.3,218.7   L131.0,221.6 L132.7,224.4 L134.4,227.3 L136.1,230.1 L137.7,232.9 L139.4,235.6 L141.1,238.4 L142.8,241.1   L144.5,243.7 L146.2,246.4 L147.9,249.0 L149.6,251.5 L151.3,254.1 L152.9,256.6 L154.6,259.0 L156.3,261.5   L158.0,263.9 L159.7,266.3 L161.4,268.6 L163.1,271.0 L164.8,273.3 L166.5,275.5 L168.1,277.8 L169.8,280.0   L171.5,282.1 L173.2,284.3 L174.9,286.4 L176.6,288.5 L178.3,290.5 L180.0,292.5 L181.7,294.5 L183.3,296.5   L185.0,298.4 L186.7,300.3 L188.4,302.1 L190.1,304.0 L191.8,305.8 L193.5,307.5 L195.2,309.3 L196.9,311.0   L198.5,312.7 L200.2,314.3 L201.9,315.9 L203.6,317.5 L205.3,319.1 L207.0,320.6 L208.7,322.1 L210.4,323.5   L212.1,325.0 L213.7,326.4 L215.4,327.7 L217.1,329.1 L218.8,330.4 L220.5,331.7 L222.2,332.9 L223.9,334.1   L225.6,335.3 L227.3,336.5 L228.9,337.6 L230.6,338.7 L232.3,339.7 L234.0,340.8 L235.7,341.8 L237.4,342.7   L239.1,343.7 L240.8,344.6 L242.5,345.5 L244.1,346.3 L245.8,347.1 L247.5,347.9 L249.2,348.7 L250.9,349.4   L252.6,350.1 L254.3,350.7 L256.0,351.4 L257.7,352.0 L259.3,352.5 L261.0,353.1 L262.7,353.6 L264.4,354.1   L266.1,354.5 L267.8,354.9 L269.5,355.3 L271.2,355.7 L272.9,356.0 L274.5,356.3 L276.2,356.5 L277.9,356.8   L279.6,357.0 L281.3,357.1 L283.0,357.3 L284.7,357.4 L286.4,357.5 L288.1,357.5 L289.8,357.5 L291.4,357.5   L293.1,357.5 L294.8,357.4 L296.5,357.3 L298.2,357.1 L299.9,357.0 L301.6,356.8 L303.3,356.5 L305.0,356.3   L306.6,356.0 L308.3,355.7 L310.0,355.3 L311.7,354.9 L313.4,354.5 L315.1,354.1 L316.8,353.6 L318.5,353.1   L320.2,352.5 L321.8,352.0 L323.5,351.4 L325.2,350.7 L326.9,350.1 L328.6,349.4 L330.3,348.7 L332.0,347.9   L333.7,347.1 L335.4,346.3 L337.0,345.5 L338.7,344.6 L340.4,343.7 L342.1,342.7 L343.8,341.8 L345.5,340.8   L347.2,339.7 L348.9,338.7 L350.6,337.6 L352.2,336.5 L353.9,335.3 L355.6,334.1 L357.3,332.9 L359.0,331.7   L360.7,330.4 L362.4,329.1 L364.1,327.7 L365.8,326.4 L367.4,325.0 L369.1,323.5 L370.8,322.1 L372.5,320.6   L374.2,319.1 L375.9,317.5 L377.6,315.9 L379.3,314.3 L381.0,312.7 L382.6,311.0 L384.3,309.3 L386.0,307.5   L387.7,305.8 L389.4,304.0 L391.1,302.1 L392.8,300.3 L394.5,298.4 L396.2,296.5 L397.8,294.5 L399.5,292.5   L401.2,290.5 L402.9,288.5 L404.6,286.4 L406.3,284.3 L408.0,282.1 L409.7,280.0 L411.4,277.8 L413.0,275.5   L414.7,273.3 L416.4,271.0 L418.1,268.6 L419.8,266.3 L421.5,263.9 L423.2,261.5 L424.9,259.0 L426.6,256.6   L428.2,254.1 L429.9,251.5 L431.6,249.0 L433.3,246.4 L435.0,243.7 L436.7,241.1 L438.4,238.4 L440.1,235.6   L441.8,232.9 L443.4,230.1 L445.1,227.3 L446.8,224.4 L448.5,221.6 L450.2,218.7 L451.9,215.7 L453.6,212.7   L455.3,209.7 L457.0,206.7 L458.7,203.6 L460.3,200.6 L462.0,197.4 L463.7,194.3 L465.4,191.1 L467.1,187.9   L468.8,184.6 L470.5,181.4 L472.2,178.0 L473.9,174.7 L475.5,171.3 L477.2,167.9 L478.9,164.5 L480.6,161.0   L482.3,157.5 L484.0,154.0 L485.7,150.5 L487.4,146.9 L489.1,143.3 L490.7,139.6 L492.4,135.9 L494.1,132.2   L495.8,128.5 L497.5,124.7 L499.2,120.9 L500.9,117.1 L502.6,113.2 L504.3,109.3 L505.9,105.4 L507.6,101.5   L509.3,97.5 L511.0,93.5 L512.7,89.4 L514.4,85.3 L516.1,81.2 L517.8,77.1 L519.5,72.9 L521.1,68.7   L522.8,64.5 L524.5,60.2 L526.2,55.9 L527.9,51.6 L529.6,47.2 L531.3,42.9 L533.0,38.4 L534.7,34.0   L536.3,29.5 L538.0,25.0 L539.7,20.5 L541.4,15.9 L543.1,11.3  \" stroke=\"rgb(  0,   0, 255)\"/></g>\n",
       "\t</g>\n",
       "<g color=\"white\" fill=\"none\" stroke=\"rgb(  0,   0, 255)\" stroke-linecap=\"butt\" stroke-linejoin=\"miter\" stroke-width=\"2.00\">\n",
       "</g>\n",
       "<g color=\"black\" fill=\"none\" stroke=\"currentColor\" stroke-linecap=\"butt\" stroke-linejoin=\"miter\" stroke-width=\"2.00\">\n",
       "</g>\n",
       "<g color=\"black\" fill=\"none\" stroke=\"black\" stroke-linecap=\"butt\" stroke-linejoin=\"miter\" stroke-width=\"0.50\">\n",
       "</g>\n",
       "<g color=\"black\" fill=\"none\" stroke=\"currentColor\" stroke-linecap=\"butt\" stroke-linejoin=\"miter\" stroke-width=\"0.50\">\n",
       "</g>\n",
       "</g>\n",
       "</svg>"
      ],
      "text/plain": [
       "<IPython.core.display.SVG object>"
      ]
     },
     "metadata": {},
     "output_type": "display_data"
    }
   ],
   "source": [
    "%plot --format svg\n",
    "x = 0:0.01:3;\n",
    "y = polyval(p, x);\n",
    "plot(x,y);\n",
    "grid on;"
   ]
  },
  {
   "cell_type": "markdown",
   "metadata": {
    "slideshow": {
     "slide_type": "subslide"
    }
   },
   "source": [
    "## Interpolation\n",
    "\n",
    "Interpolation is finding a curve going through a set of data points `x` and `y`. The command `interp1` does interpolating in MATLAB"
   ]
  },
  {
   "cell_type": "code",
   "execution_count": 5,
   "metadata": {},
   "outputs": [
    {
     "name": "stdout",
     "output_type": "stream",
     "text": [
      "'interp1' is a function from the file /usr/local/share/octave/4.0.3/m/general/interp1.m\n",
      "\n",
      " -- Function File: YI = interp1 (X, Y, XI)\n",
      " -- Function File: YI = interp1 (Y, XI)\n",
      " -- Function File: YI = interp1 (..., METHOD)\n",
      " -- Function File: YI = interp1 (..., EXTRAP)\n",
      " -- Function File: YI = interp1 (..., \"left\")\n",
      " -- Function File: YI = interp1 (..., \"right\")\n",
      " -- Function File: PP = interp1 (..., \"pp\")\n",
      "\n",
      "     One-dimensional interpolation.\n",
      "\n",
      "     Interpolate input data to determine the value of YI at the points\n",
      "     XI.  If not specified, X is taken to be the indices of Y ('1:length\n",
      "     (Y)').  If Y is a matrix or an N-dimensional array, the\n",
      "     interpolation is performed on each column of Y.\n",
      "\n",
      "     The interpolation METHOD is one of:\n",
      "\n",
      "     \"nearest\"\n",
      "          Return the nearest neighbor.\n",
      "\n",
      "     \"previous\"\n",
      "          Return the previous neighbor.\n",
      "\n",
      "     \"next\"\n",
      "          Return the next neighbor.\n",
      "\n",
      "     \"linear\" (default)\n",
      "          Linear interpolation from nearest neighbors.\n",
      "\n",
      "     \"pchip\"\n",
      "          Piecewise cubic Hermite interpolating\n",
      "          polynomial--shape-preserving interpolation with smooth first\n",
      "          derivative.\n",
      "\n",
      "     \"cubic\"\n",
      "          Cubic interpolation (same as \"pchip\").\n",
      "\n",
      "     \"spline\"\n",
      "          Cubic spline interpolation--smooth first and second\n",
      "          derivatives throughout the curve.\n",
      "\n",
      "     Adding '*' to the start of any method above forces 'interp1' to\n",
      "     assume that X is uniformly spaced, and only 'X(1)' and 'X(2)' are\n",
      "     referenced.  This is usually faster, and is never slower.  The\n",
      "     default method is \"linear\".\n",
      "\n",
      "     If EXTRAP is the string \"extrap\", then extrapolate values beyond\n",
      "     the endpoints using the current METHOD.  If EXTRAP is a number,\n",
      "     then replace values beyond the endpoints with that number.  When\n",
      "     unspecified, EXTRAP defaults to 'NA'.\n",
      "\n",
      "     If the string argument \"pp\" is specified, then XI should not be\n",
      "     supplied and 'interp1' returns a piecewise polynomial object.  This\n",
      "     object can later be used with 'ppval' to evaluate the\n",
      "     interpolation.  There is an equivalence, such that 'ppval (interp1\n",
      "     (X, Y, METHOD, \"pp\"), XI) == interp1 (X, Y, XI, METHOD, \"extrap\")'.\n",
      "\n",
      "     Duplicate points in X specify a discontinuous interpolant.  There\n",
      "     may be at most 2 consecutive points with the same value.  If X is\n",
      "     increasing, the default discontinuous interpolant is\n",
      "     right-continuous.  If X is decreasing, the default discontinuous\n",
      "     interpolant is left-continuous.  The continuity condition of the\n",
      "     interpolant may be specified by using the options \"left\" or \"right\"\n",
      "     to select a left-continuous or right-continuous interpolant,\n",
      "     respectively.  Discontinuous interpolation is only allowed for\n",
      "     \"nearest\" and \"linear\" methods; in all other cases, the X-values\n",
      "     must be unique.\n",
      "\n",
      "     An example of the use of 'interp1' is\n",
      "\n",
      "          xf = [0:0.05:10];\n",
      "          yf = sin (2*pi*xf/5);\n",
      "          xp = [0:10];\n",
      "          yp = sin (2*pi*xp/5);\n",
      "          lin = interp1 (xp, yp, xf);\n",
      "          near = interp1 (xp, yp, xf, \"nearest\");\n",
      "          pch = interp1 (xp, yp, xf, \"pchip\");\n",
      "          spl = interp1 (xp, yp, xf, \"spline\");\n",
      "          plot (xf,yf,\"r\", xf,near,\"g\", xf,lin,\"b\", xf,pch,\"c\", xf,spl,\"m\",\n",
      "                xp,yp,\"r*\");\n",
      "          legend (\"original\", \"nearest\", \"linear\", \"pchip\", \"spline\");\n",
      "\n",
      "     See also: pchip, spline, interpft, interp2, interp3, interpn.\n",
      "\n",
      "Additional help for built-in functions and operators is\n",
      "available in the online version of the manual.  Use the command\n",
      "'doc <topic>' to search the manual index.\n",
      "\n",
      "Help and information about Octave is also available on the WWW\n",
      "at http://www.octave.org and via the help@octave.org\n",
      "mailing list.\n"
     ]
    }
   ],
   "source": [
    "help interp1"
   ]
  },
  {
   "cell_type": "code",
   "execution_count": 6,
   "metadata": {
    "slideshow": {
     "slide_type": "subslide"
    }
   },
   "outputs": [
    {
     "data": {
      "image/svg+xml": [
       "<svg height=\"420px\" viewBox=\"0 0 560 420\" width=\"560px\" xmlns=\"http://www.w3.org/2000/svg\" xmlns:xlink=\"http://www.w3.org/1999/xlink\">\n",
       "\n",
       "<title>Gnuplot</title>\n",
       "<desc>Produced by GNUPLOT 5.0 patchlevel 7 </desc>\n",
       "\n",
       "<g id=\"gnuplot_canvas\">\n",
       "\n",
       "<rect fill=\"none\" height=\"420\" width=\"560\" x=\"0\" y=\"0\"/>\n",
       "<defs>\n",
       "\n",
       "\t<circle id=\"gpDot\" r=\"0.5\" stroke-width=\"0.5\"/>\n",
       "\t<path d=\"M-1,0 h2 M0,-1 v2\" id=\"gpPt0\" stroke=\"currentColor\" stroke-width=\"0.333\"/>\n",
       "\t<path d=\"M-1,-1 L1,1 M1,-1 L-1,1\" id=\"gpPt1\" stroke=\"currentColor\" stroke-width=\"0.333\"/>\n",
       "\t<path d=\"M-1,0 L1,0 M0,-1 L0,1 M-1,-1 L1,1 M-1,1 L1,-1\" id=\"gpPt2\" stroke=\"currentColor\" stroke-width=\"0.333\"/>\n",
       "\t<rect height=\"2\" id=\"gpPt3\" stroke=\"currentColor\" stroke-width=\"0.333\" width=\"2\" x=\"-1\" y=\"-1\"/>\n",
       "\t<rect fill=\"currentColor\" height=\"2\" id=\"gpPt4\" stroke=\"currentColor\" stroke-width=\"0.333\" width=\"2\" x=\"-1\" y=\"-1\"/>\n",
       "\t<circle cx=\"0\" cy=\"0\" id=\"gpPt5\" r=\"1\" stroke=\"currentColor\" stroke-width=\"0.333\"/>\n",
       "\t<use fill=\"currentColor\" id=\"gpPt6\" stroke=\"none\" xlink:href=\"#gpPt5\"/>\n",
       "\t<path d=\"M0,-1.33 L-1.33,0.67 L1.33,0.67 z\" id=\"gpPt7\" stroke=\"currentColor\" stroke-width=\"0.333\"/>\n",
       "\t<use fill=\"currentColor\" id=\"gpPt8\" stroke=\"none\" xlink:href=\"#gpPt7\"/>\n",
       "\t<use id=\"gpPt9\" stroke=\"currentColor\" transform=\"rotate(180)\" xlink:href=\"#gpPt7\"/>\n",
       "\t<use fill=\"currentColor\" id=\"gpPt10\" stroke=\"none\" xlink:href=\"#gpPt9\"/>\n",
       "\t<use id=\"gpPt11\" stroke=\"currentColor\" transform=\"rotate(45)\" xlink:href=\"#gpPt3\"/>\n",
       "\t<use fill=\"currentColor\" id=\"gpPt12\" stroke=\"none\" xlink:href=\"#gpPt11\"/>\n",
       "\t<path d=\"M0,1.330 L1.265,0.411 L0.782,-1.067 L-0.782,-1.076 L-1.265,0.411 z\" id=\"gpPt13\" stroke=\"currentColor\" stroke-width=\"0.333\"/>\n",
       "\t<use fill=\"currentColor\" id=\"gpPt14\" stroke=\"none\" xlink:href=\"#gpPt13\"/>\n",
       "\t<filter filterUnits=\"objectBoundingBox\" height=\"1\" id=\"textbox\" width=\"1\" x=\"0\" y=\"0\">\n",
       "\t  <feFlood flood-color=\"white\" flood-opacity=\"1\" result=\"bgnd\"/>\n",
       "\t  <feComposite in=\"SourceGraphic\" in2=\"bgnd\" operator=\"atop\"/>\n",
       "\t</filter>\n",
       "\t<filter filterUnits=\"objectBoundingBox\" height=\"1\" id=\"greybox\" width=\"1\" x=\"0\" y=\"0\">\n",
       "\t  <feFlood flood-color=\"lightgrey\" flood-opacity=\"1\" result=\"grey\"/>\n",
       "\t  <feComposite in=\"SourceGraphic\" in2=\"grey\" operator=\"atop\"/>\n",
       "\t</filter>\n",
       "</defs>\n",
       "<g color=\"white\" fill=\"none\" stroke=\"currentColor\" stroke-linecap=\"butt\" stroke-linejoin=\"miter\" stroke-width=\"1.00\">\n",
       "</g>\n",
       "<g color=\"black\" fill=\"none\" stroke=\"currentColor\" stroke-linecap=\"butt\" stroke-linejoin=\"miter\" stroke-width=\"1.00\">\n",
       "\t<g shape-rendering=\"crispEdges\" stroke=\"none\">\n",
       "\t\t<polygon fill=\"rgb(255, 255, 255)\" points=\"36.4,396.0 543.0,396.0 543.0,11.4 36.4,11.4 \"/>\n",
       "\t</g>\n",
       "</g>\n",
       "<g color=\"black\" fill=\"none\" stroke=\"rgb(255, 255, 255)\" stroke-linecap=\"butt\" stroke-linejoin=\"miter\" stroke-width=\"0.50\">\n",
       "</g>\n",
       "<g color=\"black\" fill=\"none\" stroke=\"currentColor\" stroke-linecap=\"butt\" stroke-linejoin=\"miter\" stroke-width=\"0.50\">\n",
       "\t<path d=\"M36.4,396.0 L44.8,396.0 M543.1,396.0 L534.7,396.0  \" stroke=\"black\"/>\t<g fill=\"rgb(0,0,0)\" font-family=\"{}\" font-size=\"10.00\" stroke=\"none\" text-anchor=\"end\" transform=\"translate(30.8,399.3)\">\n",
       "\t\t<text><tspan font-family=\"{}\">-1.5</tspan></text>\n",
       "\t</g>\n",
       "</g>\n",
       "<g color=\"black\" fill=\"none\" stroke=\"currentColor\" stroke-linecap=\"butt\" stroke-linejoin=\"miter\" stroke-width=\"0.50\">\n",
       "\t<path d=\"M36.4,319.1 L44.8,319.1 M543.1,319.1 L534.7,319.1  \" stroke=\"black\"/>\t<g fill=\"rgb(0,0,0)\" font-family=\"{}\" font-size=\"10.00\" stroke=\"none\" text-anchor=\"end\" transform=\"translate(30.8,322.4)\">\n",
       "\t\t<text><tspan font-family=\"{}\">-1</tspan></text>\n",
       "\t</g>\n",
       "</g>\n",
       "<g color=\"black\" fill=\"none\" stroke=\"currentColor\" stroke-linecap=\"butt\" stroke-linejoin=\"miter\" stroke-width=\"0.50\">\n",
       "\t<path d=\"M36.4,242.1 L44.8,242.1 M543.1,242.1 L534.7,242.1  \" stroke=\"black\"/>\t<g fill=\"rgb(0,0,0)\" font-family=\"{}\" font-size=\"10.00\" stroke=\"none\" text-anchor=\"end\" transform=\"translate(30.8,245.4)\">\n",
       "\t\t<text><tspan font-family=\"{}\">-0.5</tspan></text>\n",
       "\t</g>\n",
       "</g>\n",
       "<g color=\"black\" fill=\"none\" stroke=\"currentColor\" stroke-linecap=\"butt\" stroke-linejoin=\"miter\" stroke-width=\"0.50\">\n",
       "\t<path d=\"M36.4,165.2 L44.8,165.2 M543.1,165.2 L534.7,165.2  \" stroke=\"black\"/>\t<g fill=\"rgb(0,0,0)\" font-family=\"{}\" font-size=\"10.00\" stroke=\"none\" text-anchor=\"end\" transform=\"translate(30.8,168.5)\">\n",
       "\t\t<text><tspan font-family=\"{}\">0</tspan></text>\n",
       "\t</g>\n",
       "</g>\n",
       "<g color=\"black\" fill=\"none\" stroke=\"currentColor\" stroke-linecap=\"butt\" stroke-linejoin=\"miter\" stroke-width=\"0.50\">\n",
       "\t<path d=\"M36.4,88.2 L44.8,88.2 M543.1,88.2 L534.7,88.2  \" stroke=\"black\"/>\t<g fill=\"rgb(0,0,0)\" font-family=\"{}\" font-size=\"10.00\" stroke=\"none\" text-anchor=\"end\" transform=\"translate(30.8,91.5)\">\n",
       "\t\t<text><tspan font-family=\"{}\">0.5</tspan></text>\n",
       "\t</g>\n",
       "</g>\n",
       "<g color=\"black\" fill=\"none\" stroke=\"currentColor\" stroke-linecap=\"butt\" stroke-linejoin=\"miter\" stroke-width=\"0.50\">\n",
       "\t<path d=\"M36.4,11.3 L44.8,11.3 M543.1,11.3 L534.7,11.3  \" stroke=\"black\"/>\t<g fill=\"rgb(0,0,0)\" font-family=\"{}\" font-size=\"10.00\" stroke=\"none\" text-anchor=\"end\" transform=\"translate(30.8,14.6)\">\n",
       "\t\t<text><tspan font-family=\"{}\">1</tspan></text>\n",
       "\t</g>\n",
       "</g>\n",
       "<g color=\"black\" fill=\"none\" stroke=\"currentColor\" stroke-linecap=\"butt\" stroke-linejoin=\"miter\" stroke-width=\"0.50\">\n",
       "\t<path d=\"M36.4,396.0 L36.4,387.6 M36.4,11.3 L36.4,19.7  \" stroke=\"black\"/>\t<g fill=\"rgb(0,0,0)\" font-family=\"{}\" font-size=\"10.00\" stroke=\"none\" text-anchor=\"middle\" transform=\"translate(36.4,411.3)\">\n",
       "\t\t<text><tspan font-family=\"{}\">0</tspan></text>\n",
       "\t</g>\n",
       "</g>\n",
       "<g color=\"black\" fill=\"none\" stroke=\"currentColor\" stroke-linecap=\"butt\" stroke-linejoin=\"miter\" stroke-width=\"0.50\">\n",
       "\t<path d=\"M99.7,396.0 L99.7,387.6 M99.7,11.3 L99.7,19.7  \" stroke=\"black\"/>\t<g fill=\"rgb(0,0,0)\" font-family=\"{}\" font-size=\"10.00\" stroke=\"none\" text-anchor=\"middle\" transform=\"translate(99.7,411.3)\">\n",
       "\t\t<text><tspan font-family=\"{}\">0.5</tspan></text>\n",
       "\t</g>\n",
       "</g>\n",
       "<g color=\"black\" fill=\"none\" stroke=\"currentColor\" stroke-linecap=\"butt\" stroke-linejoin=\"miter\" stroke-width=\"0.50\">\n",
       "\t<path d=\"M163.1,396.0 L163.1,387.6 M163.1,11.3 L163.1,19.7  \" stroke=\"black\"/>\t<g fill=\"rgb(0,0,0)\" font-family=\"{}\" font-size=\"10.00\" stroke=\"none\" text-anchor=\"middle\" transform=\"translate(163.1,411.3)\">\n",
       "\t\t<text><tspan font-family=\"{}\">1</tspan></text>\n",
       "\t</g>\n",
       "</g>\n",
       "<g color=\"black\" fill=\"none\" stroke=\"currentColor\" stroke-linecap=\"butt\" stroke-linejoin=\"miter\" stroke-width=\"0.50\">\n",
       "\t<path d=\"M226.4,396.0 L226.4,387.6 M226.4,11.3 L226.4,19.7  \" stroke=\"black\"/>\t<g fill=\"rgb(0,0,0)\" font-family=\"{}\" font-size=\"10.00\" stroke=\"none\" text-anchor=\"middle\" transform=\"translate(226.4,411.3)\">\n",
       "\t\t<text><tspan font-family=\"{}\">1.5</tspan></text>\n",
       "\t</g>\n",
       "</g>\n",
       "<g color=\"black\" fill=\"none\" stroke=\"currentColor\" stroke-linecap=\"butt\" stroke-linejoin=\"miter\" stroke-width=\"0.50\">\n",
       "\t<path d=\"M289.8,396.0 L289.8,387.6 M289.8,11.3 L289.8,19.7  \" stroke=\"black\"/>\t<g fill=\"rgb(0,0,0)\" font-family=\"{}\" font-size=\"10.00\" stroke=\"none\" text-anchor=\"middle\" transform=\"translate(289.8,411.3)\">\n",
       "\t\t<text><tspan font-family=\"{}\">2</tspan></text>\n",
       "\t</g>\n",
       "</g>\n",
       "<g color=\"black\" fill=\"none\" stroke=\"currentColor\" stroke-linecap=\"butt\" stroke-linejoin=\"miter\" stroke-width=\"0.50\">\n",
       "\t<path d=\"M353.1,396.0 L353.1,387.6 M353.1,11.3 L353.1,19.7  \" stroke=\"black\"/>\t<g fill=\"rgb(0,0,0)\" font-family=\"{}\" font-size=\"10.00\" stroke=\"none\" text-anchor=\"middle\" transform=\"translate(353.1,411.3)\">\n",
       "\t\t<text><tspan font-family=\"{}\">2.5</tspan></text>\n",
       "\t</g>\n",
       "</g>\n",
       "<g color=\"black\" fill=\"none\" stroke=\"currentColor\" stroke-linecap=\"butt\" stroke-linejoin=\"miter\" stroke-width=\"0.50\">\n",
       "\t<path d=\"M416.4,396.0 L416.4,387.6 M416.4,11.3 L416.4,19.7  \" stroke=\"black\"/>\t<g fill=\"rgb(0,0,0)\" font-family=\"{}\" font-size=\"10.00\" stroke=\"none\" text-anchor=\"middle\" transform=\"translate(416.4,411.3)\">\n",
       "\t\t<text><tspan font-family=\"{}\">3</tspan></text>\n",
       "\t</g>\n",
       "</g>\n",
       "<g color=\"black\" fill=\"none\" stroke=\"currentColor\" stroke-linecap=\"butt\" stroke-linejoin=\"miter\" stroke-width=\"0.50\">\n",
       "\t<path d=\"M479.8,396.0 L479.8,387.6 M479.8,11.3 L479.8,19.7  \" stroke=\"black\"/>\t<g fill=\"rgb(0,0,0)\" font-family=\"{}\" font-size=\"10.00\" stroke=\"none\" text-anchor=\"middle\" transform=\"translate(479.8,411.3)\">\n",
       "\t\t<text><tspan font-family=\"{}\">3.5</tspan></text>\n",
       "\t</g>\n",
       "</g>\n",
       "<g color=\"black\" fill=\"none\" stroke=\"currentColor\" stroke-linecap=\"butt\" stroke-linejoin=\"miter\" stroke-width=\"0.50\">\n",
       "\t<path d=\"M543.1,396.0 L543.1,387.6 M543.1,11.3 L543.1,19.7  \" stroke=\"black\"/>\t<g fill=\"rgb(0,0,0)\" font-family=\"{}\" font-size=\"10.00\" stroke=\"none\" text-anchor=\"middle\" transform=\"translate(543.1,411.3)\">\n",
       "\t\t<text><tspan font-family=\"{}\">4</tspan></text>\n",
       "\t</g>\n",
       "</g>\n",
       "<g color=\"black\" fill=\"none\" stroke=\"currentColor\" stroke-linecap=\"butt\" stroke-linejoin=\"miter\" stroke-width=\"0.50\">\n",
       "</g>\n",
       "<g color=\"black\" fill=\"none\" stroke=\"currentColor\" stroke-linecap=\"butt\" stroke-linejoin=\"miter\" stroke-width=\"0.50\">\n",
       "\t<path d=\"M36.4,11.3 L36.4,396.0 L543.1,396.0 L543.1,11.3 L36.4,11.3 Z  \" stroke=\"black\"/></g>\n",
       "<g color=\"black\" fill=\"none\" stroke=\"currentColor\" stroke-linecap=\"butt\" stroke-linejoin=\"miter\" stroke-width=\"0.50\">\n",
       "</g>\n",
       "<g color=\"black\" fill=\"none\" stroke=\"black\" stroke-linecap=\"butt\" stroke-linejoin=\"miter\" stroke-width=\"1.00\">\n",
       "</g>\n",
       "<g color=\"black\" fill=\"none\" stroke=\"currentColor\" stroke-linecap=\"butt\" stroke-linejoin=\"miter\" stroke-width=\"1.00\">\n",
       "\t<path d=\"M433.5,110.8 L433.5,17.3 L537.5,17.3 L537.5,110.8 L433.5,110.8 Z  \" stroke=\"black\"/></g>\n",
       "\t<g id=\"gnuplot_plot_1a\"><title>original</title>\n",
       "<g color=\"white\" fill=\"none\" stroke=\"black\" stroke-linecap=\"butt\" stroke-linejoin=\"miter\" stroke-width=\"0.50\">\n",
       "</g>\n",
       "<g color=\"black\" fill=\"none\" stroke=\"currentColor\" stroke-linecap=\"butt\" stroke-linejoin=\"miter\" stroke-width=\"0.50\">\n",
       "\t<g fill=\"rgb(0,0,0)\" font-family=\"{}\" font-size=\"10.00\" stroke=\"none\" text-anchor=\"end\" transform=\"translate(537.5,30.0)\">\n",
       "\t\t<text><tspan font-family=\"{}\">original</tspan></text>\n",
       "\t</g>\n",
       "</g>\n",
       "<g color=\"black\" fill=\"none\" stroke=\"currentColor\" stroke-linecap=\"butt\" stroke-linejoin=\"miter\" stroke-width=\"0.50\">\n",
       "\t<path d=\"M440.5,26.7 L474.5,26.7 M36.4,165.2 L42.7,155.5 L49.1,145.9 L55.4,136.3 L61.7,126.9 L68.1,117.6   L74.4,108.5 L80.7,99.7 L87.1,91.0 L93.4,82.7 L99.7,74.7 L106.1,67.1 L112.4,59.8 L118.7,53.0   L125.1,46.6 L131.4,40.7 L137.7,35.3 L144.1,30.3 L150.4,25.9 L156.7,22.1 L163.1,18.8 L169.4,16.1   L175.7,14.0 L182.1,12.5 L188.4,11.6 L194.7,11.3 L201.1,11.6 L207.4,12.5 L213.7,14.0 L220.1,16.1   L226.4,18.8 L232.7,22.1 L239.1,25.9 L245.4,30.3 L251.7,35.3 L258.1,40.7 L264.4,46.6 L270.7,53.0   L277.1,59.8 L283.4,67.1 L289.8,74.7 L296.1,82.7 L302.4,91.0 L308.8,99.7 L315.1,108.5 L321.4,117.6   L327.8,126.9 L334.1,136.3 L340.4,145.9 L346.8,155.5 L353.1,165.2 L359.4,174.8 L365.8,184.5 L372.1,194.0   L378.4,203.4 L384.8,212.7 L391.1,221.8 L397.4,230.7 L403.8,239.3 L410.1,247.6 L416.4,255.6 L422.8,263.3   L429.1,270.5 L435.4,277.4 L441.8,283.7 L448.1,289.7 L454.4,295.1 L460.8,300.0 L467.1,304.4 L473.4,308.3   L479.8,311.5 L486.1,314.2 L492.4,316.3 L498.8,317.8 L505.1,318.8 L511.4,319.1 L517.8,318.8 L524.1,317.8   L530.4,316.3 L536.8,314.2 L543.1,311.5  \" stroke=\"rgb(255,   0,   0)\"/></g>\n",
       "\t</g>\n",
       "\t<g id=\"gnuplot_plot_2a\"><title>nearest</title>\n",
       "<g color=\"black\" fill=\"none\" stroke=\"currentColor\" stroke-linecap=\"butt\" stroke-linejoin=\"miter\" stroke-width=\"0.50\">\n",
       "\t<g fill=\"rgb(0,0,0)\" font-family=\"{}\" font-size=\"10.00\" stroke=\"none\" text-anchor=\"end\" transform=\"translate(537.5,48.7)\">\n",
       "\t\t<text><tspan font-family=\"{}\">nearest</tspan></text>\n",
       "\t</g>\n",
       "</g>\n",
       "<g color=\"black\" fill=\"none\" stroke=\"currentColor\" stroke-linecap=\"butt\" stroke-linejoin=\"miter\" stroke-width=\"0.50\">\n",
       "\t<path d=\"M440.5,45.4 L474.5,45.4 M36.4,165.2 L42.7,165.2 L49.1,165.2 L55.4,165.2 L61.7,165.2 L68.1,165.2   L74.4,165.2 L80.7,165.2 L87.1,165.2 L93.4,165.2 L99.7,18.8 L106.1,18.8 L112.4,18.8 L118.7,18.8   L125.1,18.8 L131.4,18.8 L137.7,18.8 L144.1,18.8 L150.4,18.8 L156.7,18.8 L163.1,18.8 L169.4,18.8   L175.7,18.8 L182.1,18.8 L188.4,18.8 L194.7,18.8 L201.1,18.8 L207.4,18.8 L213.7,18.8 L220.1,18.8   L226.4,74.7 L232.7,74.7 L239.1,74.7 L245.4,74.7 L251.7,74.7 L258.1,74.7 L264.4,74.7 L270.7,74.7   L277.1,74.7 L283.4,74.7 L289.8,74.7 L296.1,74.7 L302.4,74.7 L308.8,74.7 L315.1,74.7 L321.4,74.7   L327.8,74.7 L334.1,74.7 L340.4,74.7 L346.8,74.7 L353.1,255.6 L359.4,255.6 L365.8,255.6 L372.1,255.6   L378.4,255.6 L384.8,255.6 L391.1,255.6 L397.4,255.6 L403.8,255.6 L410.1,255.6 L416.4,255.6 L422.8,255.6   L429.1,255.6 L435.4,255.6 L441.8,255.6 L448.1,255.6 L454.4,255.6 L460.8,255.6 L467.1,255.6 L473.4,255.6   L479.8,311.5 L486.1,311.5 L492.4,311.5 L498.8,311.5 L505.1,311.5 L511.4,311.5 L517.8,311.5 L524.1,311.5   L530.4,311.5 L536.8,311.5 L543.1,311.5  \" stroke=\"rgb(  0, 255,   0)\"/></g>\n",
       "\t</g>\n",
       "\t<g id=\"gnuplot_plot_3a\"><title>linear</title>\n",
       "<g color=\"black\" fill=\"none\" stroke=\"currentColor\" stroke-linecap=\"butt\" stroke-linejoin=\"miter\" stroke-width=\"0.50\">\n",
       "\t<g fill=\"rgb(0,0,0)\" font-family=\"{}\" font-size=\"10.00\" stroke=\"none\" text-anchor=\"end\" transform=\"translate(537.5,67.4)\">\n",
       "\t\t<text><tspan font-family=\"{}\">linear</tspan></text>\n",
       "\t</g>\n",
       "</g>\n",
       "<g color=\"black\" fill=\"none\" stroke=\"currentColor\" stroke-linecap=\"butt\" stroke-linejoin=\"miter\" stroke-width=\"0.50\">\n",
       "\t<path d=\"M440.5,64.1 L474.5,64.1 M36.4,165.2 L42.7,157.9 L49.1,150.5 L55.4,143.2 L61.7,135.9 L68.1,128.6   L74.4,121.3 L80.7,114.0 L87.1,106.6 L93.4,99.3 L99.7,92.0 L106.1,84.7 L112.4,77.4 L118.7,70.1   L125.1,62.7 L131.4,55.4 L137.7,48.1 L144.1,40.8 L150.4,33.5 L156.7,26.1 L163.1,18.8 L169.4,21.6   L175.7,24.4 L182.1,27.2 L188.4,30.0 L194.7,32.8 L201.1,35.6 L207.4,38.4 L213.7,41.2 L220.1,44.0   L226.4,46.8 L232.7,49.6 L239.1,52.4 L245.4,55.2 L251.7,58.0 L258.1,60.8 L264.4,63.6 L270.7,66.3   L277.1,69.1 L283.4,71.9 L289.8,74.7 L296.1,83.8 L302.4,92.8 L308.8,101.9 L315.1,110.9 L321.4,120.0   L327.8,129.0 L334.1,138.0 L340.4,147.1 L346.8,156.1 L353.1,165.2 L359.4,174.2 L365.8,183.3 L372.1,192.3   L378.4,201.4 L384.8,210.4 L391.1,219.4 L397.4,228.5 L403.8,237.5 L410.1,246.6 L416.4,255.6 L422.8,258.4   L429.1,261.2 L435.4,264.0 L441.8,266.8 L448.1,269.6 L454.4,272.4 L460.8,275.2 L467.1,278.0 L473.4,280.8   L479.8,283.6 L486.1,286.4 L492.4,289.2 L498.8,292.0 L505.1,294.8 L511.4,297.6 L517.8,300.3 L524.1,303.1   L530.4,305.9 L536.8,308.7 L543.1,311.5  \" stroke=\"rgb(  0,   0, 255)\"/></g>\n",
       "\t</g>\n",
       "\t<g id=\"gnuplot_plot_4a\"><title>cubic</title>\n",
       "<g color=\"black\" fill=\"none\" stroke=\"currentColor\" stroke-linecap=\"butt\" stroke-linejoin=\"miter\" stroke-width=\"0.50\">\n",
       "\t<g fill=\"rgb(0,0,0)\" font-family=\"{}\" font-size=\"10.00\" stroke=\"none\" text-anchor=\"end\" transform=\"translate(537.5,86.1)\">\n",
       "\t\t<text><tspan font-family=\"{}\">cubic</tspan></text>\n",
       "\t</g>\n",
       "</g>\n",
       "<g color=\"black\" fill=\"none\" stroke=\"currentColor\" stroke-linecap=\"butt\" stroke-linejoin=\"miter\" stroke-width=\"0.50\">\n",
       "\t<path d=\"M440.5,82.8 L474.5,82.8 M36.4,165.2 L42.7,153.0 L49.1,141.0 L55.4,129.5 L61.7,118.3 L68.1,107.5   L74.4,97.2 L80.7,87.4 L87.1,78.0 L93.4,69.3 L99.7,61.1 L106.1,53.5 L112.4,46.6 L118.7,40.4   L125.1,34.9 L131.4,30.1 L137.7,26.1 L144.1,23.0 L150.4,20.7 L156.7,19.3 L163.1,18.8 L169.4,19.0   L175.7,19.6 L182.1,20.6 L188.4,21.9 L194.7,23.6 L201.1,25.5 L207.4,27.8 L213.7,30.3 L220.1,33.1   L226.4,36.1 L232.7,39.3 L239.1,42.8 L245.4,46.4 L251.7,50.1 L258.1,54.0 L264.4,58.0 L270.7,62.1   L277.1,66.2 L283.4,70.5 L289.8,74.7 L296.1,79.7 L302.4,85.9 L308.8,93.3 L315.1,101.7 L321.4,111.0   L327.8,121.0 L334.1,131.5 L340.4,142.5 L346.8,153.8 L353.1,165.2 L359.4,176.6 L365.8,187.9 L372.1,198.8   L378.4,209.4 L384.8,219.4 L391.1,228.6 L397.4,237.0 L403.8,244.4 L410.1,250.7 L416.4,255.6 L422.8,259.9   L429.1,264.1 L435.4,268.3 L441.8,272.4 L448.1,276.4 L454.4,280.3 L460.8,284.0 L467.1,287.6 L473.4,291.0   L479.8,294.3 L486.1,297.3 L492.4,300.1 L498.8,302.6 L505.1,304.8 L511.4,306.8 L517.8,308.4 L524.1,309.8   L530.4,310.7 L536.8,311.3 L543.1,311.5  \" stroke=\"rgb(  0, 255, 255)\"/></g>\n",
       "\t</g>\n",
       "\t<g id=\"gnuplot_plot_5a\"><title>spline</title>\n",
       "<g color=\"black\" fill=\"none\" stroke=\"currentColor\" stroke-linecap=\"butt\" stroke-linejoin=\"miter\" stroke-width=\"0.50\">\n",
       "\t<g fill=\"rgb(0,0,0)\" font-family=\"{}\" font-size=\"10.00\" stroke=\"none\" text-anchor=\"end\" transform=\"translate(537.5,104.8)\">\n",
       "\t\t<text><tspan font-family=\"{}\">spline</tspan></text>\n",
       "\t</g>\n",
       "</g>\n",
       "<g color=\"black\" fill=\"none\" stroke=\"currentColor\" stroke-linecap=\"butt\" stroke-linejoin=\"miter\" stroke-width=\"0.50\">\n",
       "\t<path d=\"M440.5,101.5 L474.5,101.5 M36.4,165.2 L42.7,152.5 L49.1,140.5 L55.4,129.0 L61.7,118.1 L68.1,107.8   L74.4,98.0 L80.7,88.8 L87.1,80.2 L93.4,72.1 L99.7,64.6 L106.1,57.6 L112.4,51.2 L118.7,45.3   L125.1,39.9 L131.4,35.1 L137.7,30.8 L144.1,27.1 L150.4,23.8 L156.7,21.1 L163.1,18.8 L169.4,17.1   L175.7,15.9 L182.1,15.2 L188.4,14.9 L194.7,15.2 L201.1,15.9 L207.4,17.1 L213.7,18.8 L220.1,21.0   L226.4,23.6 L232.7,26.7 L239.1,30.3 L245.4,34.3 L251.7,38.8 L258.1,43.7 L264.4,49.0 L270.7,54.8   L277.1,61.0 L283.4,67.7 L289.8,74.7 L296.1,82.2 L302.4,90.1 L308.8,98.3 L315.1,106.8 L321.4,115.6   L327.8,124.7 L334.1,133.9 L340.4,143.3 L346.8,152.9 L353.1,162.5 L359.4,172.2 L365.8,181.9 L372.1,191.5   L378.4,201.1 L384.8,210.7 L391.1,220.1 L397.4,229.3 L403.8,238.3 L410.1,247.1 L416.4,255.6 L422.8,263.8   L429.1,271.7 L435.4,279.1 L441.8,286.2 L448.1,292.8 L454.4,298.9 L460.8,304.4 L467.1,309.4 L473.4,313.8   L479.8,317.5 L486.1,320.6 L492.4,322.9 L498.8,324.5 L505.1,325.3 L511.4,325.3 L517.8,324.4 L524.1,322.6   L530.4,319.9 L536.8,316.2 L543.1,311.5  \" stroke=\"rgb(255,   0, 255)\"/></g>\n",
       "\t</g>\n",
       "\t<g id=\"gnuplot_plot_6a\"><title>gnuplot_plot_6a</title>\n",
       "<g color=\"black\" fill=\"none\" stroke=\"currentColor\" stroke-linecap=\"butt\" stroke-linejoin=\"miter\" stroke-width=\"0.50\">\n",
       "\t<g onmousemove=\"gnuplot_svg.showHypertext(evt,'')\" onmouseout=\"gnuplot_svg.hideHypertext()\"><title> </title>\n",
       "\t<use color=\"rgb(255,   0,   0)\" transform=\"translate(36.4,165.2) scale(6.00)\" xlink:href=\"#gpPt5\"/></g>\n",
       "\t<use color=\"rgb(255,   0,   0)\" transform=\"translate(163.1,18.8) scale(6.00)\" xlink:href=\"#gpPt5\"/>\n",
       "\t<use color=\"rgb(255,   0,   0)\" transform=\"translate(289.8,74.7) scale(6.00)\" xlink:href=\"#gpPt5\"/>\n",
       "\t<use color=\"rgb(255,   0,   0)\" transform=\"translate(416.4,255.6) scale(6.00)\" xlink:href=\"#gpPt5\"/>\n",
       "\t<use color=\"rgb(255,   0,   0)\" transform=\"translate(543.1,311.5) scale(6.00)\" xlink:href=\"#gpPt5\"/>\n",
       "</g>\n",
       "\t</g>\n",
       "<g color=\"white\" fill=\"none\" stroke=\"rgb(255,   0,   0)\" stroke-linecap=\"butt\" stroke-linejoin=\"miter\" stroke-width=\"2.00\">\n",
       "</g>\n",
       "<g color=\"black\" fill=\"none\" stroke=\"currentColor\" stroke-linecap=\"butt\" stroke-linejoin=\"miter\" stroke-width=\"2.00\">\n",
       "</g>\n",
       "<g color=\"black\" fill=\"none\" stroke=\"black\" stroke-linecap=\"butt\" stroke-linejoin=\"miter\" stroke-width=\"0.50\">\n",
       "</g>\n",
       "<g color=\"black\" fill=\"none\" stroke=\"currentColor\" stroke-linecap=\"butt\" stroke-linejoin=\"miter\" stroke-width=\"0.50\">\n",
       "</g>\n",
       "</g>\n",
       "</svg>"
      ],
      "text/plain": [
       "<IPython.core.display.SVG object>"
      ]
     },
     "metadata": {},
     "output_type": "display_data"
    }
   ],
   "source": [
    "xf = [0:0.05:4];\n",
    "yf = sin(2*pi*xf/5);\n",
    "xp = [0:4];\n",
    "yp = sin(2*pi*xp/5);\n",
    "lin = interp1(xp, yp, xf);\n",
    "near = interp1(xp, yp, xf, 'nearest');\n",
    "pch = interp1(xp, yp, xf, 'cubic');\n",
    "spl = interp1(xp, yp, xf, 'spline');\n",
    "plot(xf,yf,'r', xf,near,'g', xf,lin,'b', xf,pch,'c', xf,spl,'m', xp,yp,'ro');\n",
    "legend('original', 'nearest', 'linear', 'cubic', 'spline');"
   ]
  },
  {
   "cell_type": "markdown",
   "metadata": {
    "slideshow": {
     "slide_type": "subslide"
    }
   },
   "source": [
    "## Regression\n",
    "\n",
    "Regression is finding the curve of 'best fit' for a set a data points `x` and `y`. MATLAB fits a polynomial of degree $n$ using `polyfit(x, y, n)`:"
   ]
  },
  {
   "cell_type": "code",
   "execution_count": 7,
   "metadata": {
    "slideshow": {
     "slide_type": "subslide"
    }
   },
   "outputs": [
    {
     "data": {
      "image/svg+xml": [
       "<svg height=\"420px\" viewBox=\"0 0 560 420\" width=\"560px\" xmlns=\"http://www.w3.org/2000/svg\" xmlns:xlink=\"http://www.w3.org/1999/xlink\">\n",
       "\n",
       "<title>Gnuplot</title>\n",
       "<desc>Produced by GNUPLOT 5.0 patchlevel 7 </desc>\n",
       "\n",
       "<g id=\"gnuplot_canvas\">\n",
       "\n",
       "<rect fill=\"none\" height=\"420\" width=\"560\" x=\"0\" y=\"0\"/>\n",
       "<defs>\n",
       "\n",
       "\t<circle id=\"gpDot\" r=\"0.5\" stroke-width=\"0.5\"/>\n",
       "\t<path d=\"M-1,0 h2 M0,-1 v2\" id=\"gpPt0\" stroke=\"currentColor\" stroke-width=\"0.333\"/>\n",
       "\t<path d=\"M-1,-1 L1,1 M1,-1 L-1,1\" id=\"gpPt1\" stroke=\"currentColor\" stroke-width=\"0.333\"/>\n",
       "\t<path d=\"M-1,0 L1,0 M0,-1 L0,1 M-1,-1 L1,1 M-1,1 L1,-1\" id=\"gpPt2\" stroke=\"currentColor\" stroke-width=\"0.333\"/>\n",
       "\t<rect height=\"2\" id=\"gpPt3\" stroke=\"currentColor\" stroke-width=\"0.333\" width=\"2\" x=\"-1\" y=\"-1\"/>\n",
       "\t<rect fill=\"currentColor\" height=\"2\" id=\"gpPt4\" stroke=\"currentColor\" stroke-width=\"0.333\" width=\"2\" x=\"-1\" y=\"-1\"/>\n",
       "\t<circle cx=\"0\" cy=\"0\" id=\"gpPt5\" r=\"1\" stroke=\"currentColor\" stroke-width=\"0.333\"/>\n",
       "\t<use fill=\"currentColor\" id=\"gpPt6\" stroke=\"none\" xlink:href=\"#gpPt5\"/>\n",
       "\t<path d=\"M0,-1.33 L-1.33,0.67 L1.33,0.67 z\" id=\"gpPt7\" stroke=\"currentColor\" stroke-width=\"0.333\"/>\n",
       "\t<use fill=\"currentColor\" id=\"gpPt8\" stroke=\"none\" xlink:href=\"#gpPt7\"/>\n",
       "\t<use id=\"gpPt9\" stroke=\"currentColor\" transform=\"rotate(180)\" xlink:href=\"#gpPt7\"/>\n",
       "\t<use fill=\"currentColor\" id=\"gpPt10\" stroke=\"none\" xlink:href=\"#gpPt9\"/>\n",
       "\t<use id=\"gpPt11\" stroke=\"currentColor\" transform=\"rotate(45)\" xlink:href=\"#gpPt3\"/>\n",
       "\t<use fill=\"currentColor\" id=\"gpPt12\" stroke=\"none\" xlink:href=\"#gpPt11\"/>\n",
       "\t<path d=\"M0,1.330 L1.265,0.411 L0.782,-1.067 L-0.782,-1.076 L-1.265,0.411 z\" id=\"gpPt13\" stroke=\"currentColor\" stroke-width=\"0.333\"/>\n",
       "\t<use fill=\"currentColor\" id=\"gpPt14\" stroke=\"none\" xlink:href=\"#gpPt13\"/>\n",
       "\t<filter filterUnits=\"objectBoundingBox\" height=\"1\" id=\"textbox\" width=\"1\" x=\"0\" y=\"0\">\n",
       "\t  <feFlood flood-color=\"white\" flood-opacity=\"1\" result=\"bgnd\"/>\n",
       "\t  <feComposite in=\"SourceGraphic\" in2=\"bgnd\" operator=\"atop\"/>\n",
       "\t</filter>\n",
       "\t<filter filterUnits=\"objectBoundingBox\" height=\"1\" id=\"greybox\" width=\"1\" x=\"0\" y=\"0\">\n",
       "\t  <feFlood flood-color=\"lightgrey\" flood-opacity=\"1\" result=\"grey\"/>\n",
       "\t  <feComposite in=\"SourceGraphic\" in2=\"grey\" operator=\"atop\"/>\n",
       "\t</filter>\n",
       "</defs>\n",
       "<g color=\"white\" fill=\"none\" stroke=\"currentColor\" stroke-linecap=\"butt\" stroke-linejoin=\"miter\" stroke-width=\"1.00\">\n",
       "</g>\n",
       "<g color=\"black\" fill=\"none\" stroke=\"currentColor\" stroke-linecap=\"butt\" stroke-linejoin=\"miter\" stroke-width=\"1.00\">\n",
       "\t<g shape-rendering=\"crispEdges\" stroke=\"none\">\n",
       "\t\t<polygon fill=\"rgb(255, 255, 255)\" points=\"36.4,396.0 543.0,396.0 543.0,11.4 36.4,11.4 \"/>\n",
       "\t</g>\n",
       "</g>\n",
       "<g color=\"black\" fill=\"none\" stroke=\"rgb(255, 255, 255)\" stroke-linecap=\"butt\" stroke-linejoin=\"miter\" stroke-width=\"0.50\">\n",
       "</g>\n",
       "<g color=\"black\" fill=\"none\" stroke=\"currentColor\" stroke-linecap=\"butt\" stroke-linejoin=\"miter\" stroke-width=\"0.50\">\n",
       "\t<path d=\"M36.4,396.0 L44.8,396.0 M543.1,396.0 L534.7,396.0  \" stroke=\"black\"/>\t<g fill=\"rgb(0,0,0)\" font-family=\"{}\" font-size=\"10.00\" stroke=\"none\" text-anchor=\"end\" transform=\"translate(30.8,399.3)\">\n",
       "\t\t<text><tspan font-family=\"{}\">-1.5</tspan></text>\n",
       "\t</g>\n",
       "</g>\n",
       "<g color=\"black\" fill=\"none\" stroke=\"currentColor\" stroke-linecap=\"butt\" stroke-linejoin=\"miter\" stroke-width=\"0.50\">\n",
       "\t<path d=\"M36.4,331.9 L44.8,331.9 M543.1,331.9 L534.7,331.9  \" stroke=\"black\"/>\t<g fill=\"rgb(0,0,0)\" font-family=\"{}\" font-size=\"10.00\" stroke=\"none\" text-anchor=\"end\" transform=\"translate(30.8,335.2)\">\n",
       "\t\t<text><tspan font-family=\"{}\">-1</tspan></text>\n",
       "\t</g>\n",
       "</g>\n",
       "<g color=\"black\" fill=\"none\" stroke=\"currentColor\" stroke-linecap=\"butt\" stroke-linejoin=\"miter\" stroke-width=\"0.50\">\n",
       "\t<path d=\"M36.4,267.8 L44.8,267.8 M543.1,267.8 L534.7,267.8  \" stroke=\"black\"/>\t<g fill=\"rgb(0,0,0)\" font-family=\"{}\" font-size=\"10.00\" stroke=\"none\" text-anchor=\"end\" transform=\"translate(30.8,271.1)\">\n",
       "\t\t<text><tspan font-family=\"{}\">-0.5</tspan></text>\n",
       "\t</g>\n",
       "</g>\n",
       "<g color=\"black\" fill=\"none\" stroke=\"currentColor\" stroke-linecap=\"butt\" stroke-linejoin=\"miter\" stroke-width=\"0.50\">\n",
       "\t<path d=\"M36.4,203.6 L44.8,203.6 M543.1,203.6 L534.7,203.6  \" stroke=\"black\"/>\t<g fill=\"rgb(0,0,0)\" font-family=\"{}\" font-size=\"10.00\" stroke=\"none\" text-anchor=\"end\" transform=\"translate(30.8,206.9)\">\n",
       "\t\t<text><tspan font-family=\"{}\">0</tspan></text>\n",
       "\t</g>\n",
       "</g>\n",
       "<g color=\"black\" fill=\"none\" stroke=\"currentColor\" stroke-linecap=\"butt\" stroke-linejoin=\"miter\" stroke-width=\"0.50\">\n",
       "\t<path d=\"M36.4,139.5 L44.8,139.5 M543.1,139.5 L534.7,139.5  \" stroke=\"black\"/>\t<g fill=\"rgb(0,0,0)\" font-family=\"{}\" font-size=\"10.00\" stroke=\"none\" text-anchor=\"end\" transform=\"translate(30.8,142.8)\">\n",
       "\t\t<text><tspan font-family=\"{}\">0.5</tspan></text>\n",
       "\t</g>\n",
       "</g>\n",
       "<g color=\"black\" fill=\"none\" stroke=\"currentColor\" stroke-linecap=\"butt\" stroke-linejoin=\"miter\" stroke-width=\"0.50\">\n",
       "\t<path d=\"M36.4,75.4 L44.8,75.4 M543.1,75.4 L534.7,75.4  \" stroke=\"black\"/>\t<g fill=\"rgb(0,0,0)\" font-family=\"{}\" font-size=\"10.00\" stroke=\"none\" text-anchor=\"end\" transform=\"translate(30.8,78.7)\">\n",
       "\t\t<text><tspan font-family=\"{}\">1</tspan></text>\n",
       "\t</g>\n",
       "</g>\n",
       "<g color=\"black\" fill=\"none\" stroke=\"currentColor\" stroke-linecap=\"butt\" stroke-linejoin=\"miter\" stroke-width=\"0.50\">\n",
       "\t<path d=\"M36.4,11.3 L44.8,11.3 M543.1,11.3 L534.7,11.3  \" stroke=\"black\"/>\t<g fill=\"rgb(0,0,0)\" font-family=\"{}\" font-size=\"10.00\" stroke=\"none\" text-anchor=\"end\" transform=\"translate(30.8,14.6)\">\n",
       "\t\t<text><tspan font-family=\"{}\">1.5</tspan></text>\n",
       "\t</g>\n",
       "</g>\n",
       "<g color=\"black\" fill=\"none\" stroke=\"currentColor\" stroke-linecap=\"butt\" stroke-linejoin=\"miter\" stroke-width=\"0.50\">\n",
       "\t<path d=\"M36.4,396.0 L36.4,387.6 M36.4,11.3 L36.4,19.7  \" stroke=\"black\"/>\t<g fill=\"rgb(0,0,0)\" font-family=\"{}\" font-size=\"10.00\" stroke=\"none\" text-anchor=\"middle\" transform=\"translate(36.4,411.3)\">\n",
       "\t\t<text><tspan font-family=\"{}\">0</tspan></text>\n",
       "\t</g>\n",
       "</g>\n",
       "<g color=\"black\" fill=\"none\" stroke=\"currentColor\" stroke-linecap=\"butt\" stroke-linejoin=\"miter\" stroke-width=\"0.50\">\n",
       "\t<path d=\"M99.7,396.0 L99.7,387.6 M99.7,11.3 L99.7,19.7  \" stroke=\"black\"/>\t<g fill=\"rgb(0,0,0)\" font-family=\"{}\" font-size=\"10.00\" stroke=\"none\" text-anchor=\"middle\" transform=\"translate(99.7,411.3)\">\n",
       "\t\t<text><tspan font-family=\"{}\">0.5</tspan></text>\n",
       "\t</g>\n",
       "</g>\n",
       "<g color=\"black\" fill=\"none\" stroke=\"currentColor\" stroke-linecap=\"butt\" stroke-linejoin=\"miter\" stroke-width=\"0.50\">\n",
       "\t<path d=\"M163.1,396.0 L163.1,387.6 M163.1,11.3 L163.1,19.7  \" stroke=\"black\"/>\t<g fill=\"rgb(0,0,0)\" font-family=\"{}\" font-size=\"10.00\" stroke=\"none\" text-anchor=\"middle\" transform=\"translate(163.1,411.3)\">\n",
       "\t\t<text><tspan font-family=\"{}\">1</tspan></text>\n",
       "\t</g>\n",
       "</g>\n",
       "<g color=\"black\" fill=\"none\" stroke=\"currentColor\" stroke-linecap=\"butt\" stroke-linejoin=\"miter\" stroke-width=\"0.50\">\n",
       "\t<path d=\"M226.4,396.0 L226.4,387.6 M226.4,11.3 L226.4,19.7  \" stroke=\"black\"/>\t<g fill=\"rgb(0,0,0)\" font-family=\"{}\" font-size=\"10.00\" stroke=\"none\" text-anchor=\"middle\" transform=\"translate(226.4,411.3)\">\n",
       "\t\t<text><tspan font-family=\"{}\">1.5</tspan></text>\n",
       "\t</g>\n",
       "</g>\n",
       "<g color=\"black\" fill=\"none\" stroke=\"currentColor\" stroke-linecap=\"butt\" stroke-linejoin=\"miter\" stroke-width=\"0.50\">\n",
       "\t<path d=\"M289.8,396.0 L289.8,387.6 M289.8,11.3 L289.8,19.7  \" stroke=\"black\"/>\t<g fill=\"rgb(0,0,0)\" font-family=\"{}\" font-size=\"10.00\" stroke=\"none\" text-anchor=\"middle\" transform=\"translate(289.8,411.3)\">\n",
       "\t\t<text><tspan font-family=\"{}\">2</tspan></text>\n",
       "\t</g>\n",
       "</g>\n",
       "<g color=\"black\" fill=\"none\" stroke=\"currentColor\" stroke-linecap=\"butt\" stroke-linejoin=\"miter\" stroke-width=\"0.50\">\n",
       "\t<path d=\"M353.1,396.0 L353.1,387.6 M353.1,11.3 L353.1,19.7  \" stroke=\"black\"/>\t<g fill=\"rgb(0,0,0)\" font-family=\"{}\" font-size=\"10.00\" stroke=\"none\" text-anchor=\"middle\" transform=\"translate(353.1,411.3)\">\n",
       "\t\t<text><tspan font-family=\"{}\">2.5</tspan></text>\n",
       "\t</g>\n",
       "</g>\n",
       "<g color=\"black\" fill=\"none\" stroke=\"currentColor\" stroke-linecap=\"butt\" stroke-linejoin=\"miter\" stroke-width=\"0.50\">\n",
       "\t<path d=\"M416.4,396.0 L416.4,387.6 M416.4,11.3 L416.4,19.7  \" stroke=\"black\"/>\t<g fill=\"rgb(0,0,0)\" font-family=\"{}\" font-size=\"10.00\" stroke=\"none\" text-anchor=\"middle\" transform=\"translate(416.4,411.3)\">\n",
       "\t\t<text><tspan font-family=\"{}\">3</tspan></text>\n",
       "\t</g>\n",
       "</g>\n",
       "<g color=\"black\" fill=\"none\" stroke=\"currentColor\" stroke-linecap=\"butt\" stroke-linejoin=\"miter\" stroke-width=\"0.50\">\n",
       "\t<path d=\"M479.8,396.0 L479.8,387.6 M479.8,11.3 L479.8,19.7  \" stroke=\"black\"/>\t<g fill=\"rgb(0,0,0)\" font-family=\"{}\" font-size=\"10.00\" stroke=\"none\" text-anchor=\"middle\" transform=\"translate(479.8,411.3)\">\n",
       "\t\t<text><tspan font-family=\"{}\">3.5</tspan></text>\n",
       "\t</g>\n",
       "</g>\n",
       "<g color=\"black\" fill=\"none\" stroke=\"currentColor\" stroke-linecap=\"butt\" stroke-linejoin=\"miter\" stroke-width=\"0.50\">\n",
       "\t<path d=\"M543.1,396.0 L543.1,387.6 M543.1,11.3 L543.1,19.7  \" stroke=\"black\"/>\t<g fill=\"rgb(0,0,0)\" font-family=\"{}\" font-size=\"10.00\" stroke=\"none\" text-anchor=\"middle\" transform=\"translate(543.1,411.3)\">\n",
       "\t\t<text><tspan font-family=\"{}\">4</tspan></text>\n",
       "\t</g>\n",
       "</g>\n",
       "<g color=\"black\" fill=\"none\" stroke=\"currentColor\" stroke-linecap=\"butt\" stroke-linejoin=\"miter\" stroke-width=\"0.50\">\n",
       "</g>\n",
       "<g color=\"black\" fill=\"none\" stroke=\"currentColor\" stroke-linecap=\"butt\" stroke-linejoin=\"miter\" stroke-width=\"0.50\">\n",
       "\t<path d=\"M36.4,11.3 L36.4,396.0 L543.1,396.0 L543.1,11.3 L36.4,11.3 Z  \" stroke=\"black\"/></g>\n",
       "<g color=\"black\" fill=\"none\" stroke=\"currentColor\" stroke-linecap=\"butt\" stroke-linejoin=\"miter\" stroke-width=\"0.50\">\n",
       "</g>\n",
       "<g color=\"black\" fill=\"none\" stroke=\"black\" stroke-linecap=\"butt\" stroke-linejoin=\"miter\" stroke-width=\"1.00\">\n",
       "</g>\n",
       "<g color=\"black\" fill=\"none\" stroke=\"currentColor\" stroke-linecap=\"butt\" stroke-linejoin=\"miter\" stroke-width=\"1.00\">\n",
       "\t<path d=\"M405.5,110.8 L405.5,17.3 L537.5,17.3 L537.5,110.8 L405.5,110.8 Z  \" stroke=\"black\"/></g>\n",
       "\t<g id=\"gnuplot_plot_1a\"><title>original</title>\n",
       "<g color=\"white\" fill=\"none\" stroke=\"black\" stroke-linecap=\"butt\" stroke-linejoin=\"miter\" stroke-width=\"0.50\">\n",
       "</g>\n",
       "<g color=\"black\" fill=\"none\" stroke=\"currentColor\" stroke-linecap=\"butt\" stroke-linejoin=\"miter\" stroke-width=\"0.50\">\n",
       "\t<g fill=\"rgb(0,0,0)\" font-family=\"{}\" font-size=\"10.00\" stroke=\"none\" text-anchor=\"end\" transform=\"translate(537.5,30.0)\">\n",
       "\t\t<text><tspan font-family=\"{}\">original</tspan></text>\n",
       "\t</g>\n",
       "</g>\n",
       "<g color=\"black\" fill=\"none\" stroke=\"currentColor\" stroke-linecap=\"butt\" stroke-linejoin=\"miter\" stroke-width=\"0.50\">\n",
       "\t<path d=\"M412.5,26.7 L446.5,26.7 M36.4,203.6 L42.7,195.6 L49.1,187.6 L55.4,179.6 L61.7,171.8 L68.1,164.0   L74.4,156.4 L80.7,149.1 L87.1,141.9 L93.4,134.9 L99.7,128.3 L106.1,121.9 L112.4,115.9 L118.7,110.2   L125.1,104.8 L131.4,99.9 L137.7,95.4 L144.1,91.3 L150.4,87.6 L156.7,84.4 L163.1,81.7 L169.4,79.4   L175.7,77.7 L182.1,76.4 L188.4,75.7 L194.7,75.4 L201.1,75.7 L207.4,76.4 L213.7,77.7 L220.1,79.4   L226.4,81.7 L232.7,84.4 L239.1,87.6 L245.4,91.3 L251.7,95.4 L258.1,99.9 L264.4,104.8 L270.7,110.2   L277.1,115.9 L283.4,121.9 L289.8,128.3 L296.1,134.9 L302.4,141.9 L308.8,149.1 L315.1,156.4 L321.4,164.0   L327.8,171.8 L334.1,179.6 L340.4,187.6 L346.8,195.6 L353.1,203.6 L359.4,211.7 L365.8,219.7 L372.1,227.7   L378.4,235.5 L384.8,243.3 L391.1,250.9 L397.4,258.2 L403.8,265.4 L410.1,272.4 L416.4,279.0 L422.8,285.4   L429.1,291.4 L435.4,297.1 L441.8,302.5 L448.1,307.4 L454.4,311.9 L460.8,316.0 L467.1,319.7 L473.4,322.9   L479.8,325.6 L486.1,327.9 L492.4,329.6 L498.8,330.9 L505.1,331.6 L511.4,331.9 L517.8,331.6 L524.1,330.9   L530.4,329.6 L536.8,327.9 L543.1,325.6  \" stroke=\"rgb(255,   0,   0)\"/></g>\n",
       "\t</g>\n",
       "\t<g id=\"gnuplot_plot_2a\"><title>first order</title>\n",
       "<g color=\"black\" fill=\"none\" stroke=\"currentColor\" stroke-linecap=\"butt\" stroke-linejoin=\"miter\" stroke-width=\"0.50\">\n",
       "\t<g fill=\"rgb(0,0,0)\" font-family=\"{}\" font-size=\"10.00\" stroke=\"none\" text-anchor=\"end\" transform=\"translate(537.5,48.7)\">\n",
       "\t\t<text><tspan font-family=\"{}\">first order</tspan></text>\n",
       "\t</g>\n",
       "</g>\n",
       "<g color=\"black\" fill=\"none\" stroke=\"currentColor\" stroke-linecap=\"butt\" stroke-linejoin=\"miter\" stroke-width=\"0.50\">\n",
       "\t<path d=\"M412.5,45.4 L446.5,45.4 M36.4,115.4 L42.7,117.6 L49.1,119.8 L55.4,122.0 L61.7,124.2 L68.1,126.4   L74.4,128.6 L80.7,130.8 L87.1,133.1 L93.4,135.3 L99.7,137.5 L106.1,139.7 L112.4,141.9 L118.7,144.1   L125.1,146.3 L131.4,148.5 L137.7,150.7 L144.1,152.9 L150.4,155.1 L156.7,157.3 L163.1,159.5 L169.4,161.7   L175.7,163.9 L182.1,166.1 L188.4,168.4 L194.7,170.6 L201.1,172.8 L207.4,175.0 L213.7,177.2 L220.1,179.4   L226.4,181.6 L232.7,183.8 L239.1,186.0 L245.4,188.2 L251.7,190.4 L258.1,192.6 L264.4,194.8 L270.7,197.0   L277.1,199.2 L283.4,201.4 L289.8,203.6 L296.1,205.9 L302.4,208.1 L308.8,210.3 L315.1,212.5 L321.4,214.7   L327.8,216.9 L334.1,219.1 L340.4,221.3 L346.8,223.5 L353.1,225.7 L359.4,227.9 L365.8,230.1 L372.1,232.3   L378.4,234.5 L384.8,236.7 L391.1,238.9 L397.4,241.2 L403.8,243.4 L410.1,245.6 L416.4,247.8 L422.8,250.0   L429.1,252.2 L435.4,254.4 L441.8,256.6 L448.1,258.8 L454.4,261.0 L460.8,263.2 L467.1,265.4 L473.4,267.6   L479.8,269.8 L486.1,272.0 L492.4,274.2 L498.8,276.5 L505.1,278.7 L511.4,280.9 L517.8,283.1 L524.1,285.3   L530.4,287.5 L536.8,289.7 L543.1,291.9  \" stroke=\"rgb(  0, 255,   0)\"/></g>\n",
       "\t</g>\n",
       "\t<g id=\"gnuplot_plot_3a\"><title>second order</title>\n",
       "<g color=\"black\" fill=\"none\" stroke=\"currentColor\" stroke-linecap=\"butt\" stroke-linejoin=\"miter\" stroke-width=\"0.50\">\n",
       "\t<g fill=\"rgb(0,0,0)\" font-family=\"{}\" font-size=\"10.00\" stroke=\"none\" text-anchor=\"end\" transform=\"translate(537.5,67.4)\">\n",
       "\t\t<text><tspan font-family=\"{}\">second order</tspan></text>\n",
       "\t</g>\n",
       "</g>\n",
       "<g color=\"black\" fill=\"none\" stroke=\"currentColor\" stroke-linecap=\"butt\" stroke-linejoin=\"miter\" stroke-width=\"0.50\">\n",
       "\t<path d=\"M412.5,64.1 L446.5,64.1 M36.4,178.4 L42.7,174.4 L49.1,170.6 L55.4,166.9 L61.7,163.3 L68.1,159.9   L74.4,156.7 L80.7,153.6 L87.1,150.7 L93.4,147.9 L99.7,145.3 L106.1,142.9 L112.4,140.6 L118.7,138.5   L125.1,136.5 L131.4,134.7 L137.7,133.1 L144.1,131.6 L150.4,130.2 L156.7,129.0 L163.1,128.0 L169.4,127.1   L175.7,126.4 L182.1,125.9 L188.4,125.5 L194.7,125.3 L201.1,125.2 L207.4,125.3 L213.7,125.5 L220.1,125.9   L226.4,126.4 L232.7,127.1 L239.1,128.0 L245.4,129.0 L251.7,130.2 L258.1,131.6 L264.4,133.1 L270.7,134.7   L277.1,136.5 L283.4,138.5 L289.8,140.6 L296.1,142.9 L302.4,145.3 L308.8,147.9 L315.1,150.7 L321.4,153.6   L327.8,156.7 L334.1,159.9 L340.4,163.3 L346.8,166.9 L353.1,170.6 L359.4,174.4 L365.8,178.4 L372.1,182.6   L378.4,186.9 L384.8,191.4 L391.1,196.1 L397.4,200.9 L403.8,205.9 L410.1,211.0 L416.4,216.3 L422.8,221.7   L429.1,227.3 L435.4,233.0 L441.8,238.9 L448.1,245.0 L454.4,251.2 L460.8,257.6 L467.1,264.2 L473.4,270.9   L479.8,277.7 L486.1,284.7 L492.4,291.9 L498.8,299.2 L505.1,306.7 L511.4,314.4 L517.8,322.2 L524.1,330.1   L530.4,338.2 L536.8,346.5 L543.1,354.9  \" stroke=\"rgb(  0,   0, 255)\"/></g>\n",
       "\t</g>\n",
       "\t<g id=\"gnuplot_plot_4a\"><title>third order</title>\n",
       "<g color=\"black\" fill=\"none\" stroke=\"currentColor\" stroke-linecap=\"butt\" stroke-linejoin=\"miter\" stroke-width=\"0.50\">\n",
       "\t<g fill=\"rgb(0,0,0)\" font-family=\"{}\" font-size=\"10.00\" stroke=\"none\" text-anchor=\"end\" transform=\"translate(537.5,86.1)\">\n",
       "\t\t<text><tspan font-family=\"{}\">third order</tspan></text>\n",
       "\t</g>\n",
       "</g>\n",
       "<g color=\"black\" fill=\"none\" stroke=\"currentColor\" stroke-linecap=\"butt\" stroke-linejoin=\"miter\" stroke-width=\"0.50\">\n",
       "\t<path d=\"M412.5,82.8 L446.5,82.8 M36.4,205.7 L42.7,192.3 L49.1,179.6 L55.4,167.8 L61.7,156.8 L68.1,146.5   L74.4,137.0 L80.7,128.2 L87.1,120.2 L93.4,112.8 L99.7,106.1 L106.1,100.1 L112.4,94.8 L118.7,90.1   L125.1,86.0 L131.4,82.5 L137.7,79.6 L144.1,77.3 L150.4,75.5 L156.7,74.2 L163.1,73.5 L169.4,73.2   L175.7,73.5 L182.1,74.2 L188.4,75.3 L194.7,76.9 L201.1,78.9 L207.4,81.3 L213.7,84.0 L220.1,87.2   L226.4,90.6 L232.7,94.4 L239.1,98.6 L245.4,103.0 L251.7,107.6 L258.1,112.6 L264.4,117.8 L270.7,123.2   L277.1,128.8 L283.4,134.6 L289.8,140.6 L296.1,146.8 L302.4,153.0 L308.8,159.5 L315.1,166.0 L321.4,172.6   L327.8,179.3 L334.1,186.0 L340.4,192.8 L346.8,199.6 L353.1,206.3 L359.4,213.1 L365.8,219.9 L372.1,226.6   L378.4,233.2 L384.8,239.8 L391.1,246.3 L397.4,252.6 L403.8,258.8 L410.1,264.9 L416.4,270.8 L422.8,276.5   L429.1,282.0 L435.4,287.3 L441.8,292.4 L448.1,297.2 L454.4,301.8 L460.8,306.0 L467.1,310.0 L473.4,313.6   L479.8,316.9 L486.1,319.9 L492.4,322.4 L498.8,324.6 L505.1,326.4 L511.4,327.8 L517.8,328.7 L524.1,329.2   L530.4,329.2 L536.8,328.7 L543.1,327.7  \" stroke=\"rgb(  0, 255, 255)\"/></g>\n",
       "\t</g>\n",
       "\t<g id=\"gnuplot_plot_5a\"><title>fourth order</title>\n",
       "<g color=\"black\" fill=\"none\" stroke=\"currentColor\" stroke-linecap=\"butt\" stroke-linejoin=\"miter\" stroke-width=\"0.50\">\n",
       "\t<g fill=\"rgb(0,0,0)\" font-family=\"{}\" font-size=\"10.00\" stroke=\"none\" text-anchor=\"end\" transform=\"translate(537.5,104.8)\">\n",
       "\t\t<text><tspan font-family=\"{}\">fourth order</tspan></text>\n",
       "\t</g>\n",
       "</g>\n",
       "<g color=\"black\" fill=\"none\" stroke=\"currentColor\" stroke-linecap=\"butt\" stroke-linejoin=\"miter\" stroke-width=\"0.50\">\n",
       "\t<path d=\"M412.5,101.5 L446.5,101.5 M36.4,203.7 L42.7,194.2 L49.1,185.0 L55.4,176.1 L61.7,167.5 L68.1,159.3   L74.4,151.3 L80.7,143.7 L87.1,136.5 L93.4,129.7 L99.7,123.2 L106.1,117.1 L112.4,111.5 L118.7,106.2   L125.1,101.4 L131.4,97.0 L137.7,93.1 L144.1,89.6 L150.4,86.5 L156.7,83.9 L163.1,81.7 L169.4,80.0   L175.7,78.7 L182.1,77.9 L188.4,77.5 L194.7,77.6 L201.1,78.1 L207.4,79.1 L213.7,80.5 L220.1,82.3   L226.4,84.6 L232.7,87.2 L239.1,90.3 L245.4,93.8 L251.7,97.7 L258.1,101.9 L264.4,106.5 L270.7,111.4   L277.1,116.7 L283.4,122.4 L289.8,128.3 L296.1,134.5 L302.4,141.0 L308.8,147.7 L315.1,154.7 L321.4,161.9   L327.8,169.3 L334.1,176.8 L340.4,184.5 L346.8,192.3 L353.1,200.3 L359.4,208.3 L365.8,216.3 L372.1,224.4   L378.4,232.5 L384.8,240.5 L391.1,248.5 L397.4,256.3 L403.8,264.1 L410.1,271.6 L416.4,279.0 L422.8,286.2   L429.1,293.1 L435.4,299.6 L441.8,305.9 L448.1,311.7 L454.4,317.2 L460.8,322.2 L467.1,326.7 L473.4,330.6   L479.8,334.0 L486.1,336.7 L492.4,338.8 L498.8,340.2 L505.1,340.7 L511.4,340.5 L517.8,339.5 L524.1,337.5   L530.4,334.5 L536.8,330.6 L543.1,325.6  \" stroke=\"rgb(255,   0, 255)\"/></g>\n",
       "\t</g>\n",
       "\t<g id=\"gnuplot_plot_6a\"><title>gnuplot_plot_6a</title>\n",
       "<g color=\"black\" fill=\"none\" stroke=\"currentColor\" stroke-linecap=\"butt\" stroke-linejoin=\"miter\" stroke-width=\"0.50\">\n",
       "\t<g onmousemove=\"gnuplot_svg.showHypertext(evt,'')\" onmouseout=\"gnuplot_svg.hideHypertext()\"><title> </title>\n",
       "\t<use color=\"rgb(255,   0,   0)\" transform=\"translate(36.4,203.6) scale(6.00)\" xlink:href=\"#gpPt5\"/></g>\n",
       "\t<use color=\"rgb(255,   0,   0)\" transform=\"translate(163.1,81.7) scale(6.00)\" xlink:href=\"#gpPt5\"/>\n",
       "\t<use color=\"rgb(255,   0,   0)\" transform=\"translate(289.8,128.3) scale(6.00)\" xlink:href=\"#gpPt5\"/>\n",
       "\t<use color=\"rgb(255,   0,   0)\" transform=\"translate(416.4,279.0) scale(6.00)\" xlink:href=\"#gpPt5\"/>\n",
       "\t<use color=\"rgb(255,   0,   0)\" transform=\"translate(543.1,325.6) scale(6.00)\" xlink:href=\"#gpPt5\"/>\n",
       "</g>\n",
       "\t</g>\n",
       "<g color=\"white\" fill=\"none\" stroke=\"rgb(255,   0,   0)\" stroke-linecap=\"butt\" stroke-linejoin=\"miter\" stroke-width=\"2.00\">\n",
       "</g>\n",
       "<g color=\"black\" fill=\"none\" stroke=\"currentColor\" stroke-linecap=\"butt\" stroke-linejoin=\"miter\" stroke-width=\"2.00\">\n",
       "</g>\n",
       "<g color=\"black\" fill=\"none\" stroke=\"black\" stroke-linecap=\"butt\" stroke-linejoin=\"miter\" stroke-width=\"0.50\">\n",
       "</g>\n",
       "<g color=\"black\" fill=\"none\" stroke=\"currentColor\" stroke-linecap=\"butt\" stroke-linejoin=\"miter\" stroke-width=\"0.50\">\n",
       "</g>\n",
       "</g>\n",
       "</svg>"
      ],
      "text/plain": [
       "<IPython.core.display.SVG object>"
      ]
     },
     "metadata": {},
     "output_type": "display_data"
    }
   ],
   "source": [
    "p1 = polyfit(xp, yp, 1); yp1 = polyval(p1, xf); \n",
    "p2 = polyfit(xp, yp, 2); yp2 = polyval(p2, xf);\n",
    "p3 = polyfit(xp, yp, 3); yp3 = polyval(p3, xf); \n",
    "p4 = polyfit(xp, yp, 4); yp4 = polyval(p4, xf);\n",
    "plot(xf,yf,'r', xf,yp1,'g', xf,yp2,'b', xf,yp3,'c', xf,yp4,'m', xp,yp,'ro');\n",
    "legend('original', 'first order', 'second order', 'third order', 'fourth order');"
   ]
  },
  {
   "cell_type": "markdown",
   "metadata": {
    "slideshow": {
     "slide_type": "subslide"
    }
   },
   "source": [
    "## Polynomial multiplication\n",
    "\n",
    "Polynomials can be multiplicated by the operator `conv`, eg.\n",
    "$$(x^2-1)(x^2+1)=x^4-1$$"
   ]
  },
  {
   "cell_type": "code",
   "execution_count": 8,
   "metadata": {},
   "outputs": [
    {
     "name": "stdout",
     "output_type": "stream",
     "text": [
      "ans =\n",
      "\n",
      "   1   0   0   0  -1\n",
      "\n"
     ]
    }
   ],
   "source": [
    "p1=[1 0 -1];\n",
    "p2=[1 0 1];\n",
    "conv(p1, p2)"
   ]
  },
  {
   "cell_type": "markdown",
   "metadata": {
    "slideshow": {
     "slide_type": "subslide"
    }
   },
   "source": [
    "## Partial fractions\n",
    "\n",
    "The command `residue` gives the partial fraction expansion of a polynomial division, eg."
   ]
  },
  {
   "cell_type": "markdown",
   "metadata": {
    "slideshow": {
     "slide_type": "subslide"
    }
   },
   "source": [
    "$$\\frac{7x-5}{x^2-x-2}$$"
   ]
  },
  {
   "cell_type": "code",
   "execution_count": 9,
   "metadata": {},
   "outputs": [
    {
     "name": "stdout",
     "output_type": "stream",
     "text": [
      "r =\n",
      "\n",
      "   3\n",
      "   4\n",
      "\n",
      "p =\n",
      "\n",
      "   2\n",
      "  -1\n",
      "\n",
      "k = [](0x0)\n"
     ]
    }
   ],
   "source": [
    "p1 = [7 -5];\n",
    "p2 = [1 -1 -2];\n",
    "[r,p,k] = residue(p1, p2)"
   ]
  },
  {
   "cell_type": "markdown",
   "metadata": {},
   "source": [
    "$$\\frac{7x-5}{x^2-x-2}=\\frac{3}{x-2}+\\frac{4}{x+1}$$"
   ]
  },
  {
   "cell_type": "markdown",
   "metadata": {
    "slideshow": {
     "slide_type": "subslide"
    }
   },
   "source": [
    "$$\\frac{3x^3+2x^2+x+1}{x-1}$$"
   ]
  },
  {
   "cell_type": "code",
   "execution_count": 10,
   "metadata": {},
   "outputs": [
    {
     "name": "stdout",
     "output_type": "stream",
     "text": [
      "r =  7\n",
      "p =  1\n",
      "k =\n",
      "\n",
      "   3   5   6\n",
      "\n"
     ]
    }
   ],
   "source": [
    "[r,p,k] = residue([3,2,1,1],[1,-1])"
   ]
  },
  {
   "cell_type": "markdown",
   "metadata": {},
   "source": [
    "$$\\frac{3x^3+2x^2+x+1}{x-1}=3x^2+5x+6+\\frac{7}{x-1}$$"
   ]
  },
  {
   "cell_type": "markdown",
   "metadata": {
    "slideshow": {
     "slide_type": "slide"
    }
   },
   "source": [
    "# Complex numbers"
   ]
  },
  {
   "cell_type": "markdown",
   "metadata": {},
   "source": [
    "## Definition\n",
    "\n",
    "If $a$ and $b$ are real numbers and $i$ is defined by $i^2 = -1$, then\n",
    "$$z=a+bi$$\n",
    "is called a complex number:"
   ]
  },
  {
   "cell_type": "code",
   "execution_count": 11,
   "metadata": {},
   "outputs": [
    {
     "name": "stdout",
     "output_type": "stream",
     "text": [
      "z =  2 - 1i\n"
     ]
    }
   ],
   "source": [
    "a = 2;\n",
    "b = -1;\n",
    "z = a+b*i"
   ]
  },
  {
   "cell_type": "markdown",
   "metadata": {
    "slideshow": {
     "slide_type": "subslide"
    }
   },
   "source": [
    "## Representations\n",
    "\n",
    "### Cartesian form\n",
    "\n",
    "The real part and the imaginary part of a complex number can be found by the following commands:"
   ]
  },
  {
   "cell_type": "code",
   "execution_count": 12,
   "metadata": {},
   "outputs": [
    {
     "name": "stdout",
     "output_type": "stream",
     "text": [
      "ans =  2\n",
      "ans = -1\n"
     ]
    }
   ],
   "source": [
    "real(z)\n",
    "imag(z)"
   ]
  },
  {
   "cell_type": "markdown",
   "metadata": {
    "slideshow": {
     "slide_type": "subslide"
    }
   },
   "source": [
    "### Polar form\n",
    "\n",
    "The modulus $r$ and the argument $\\theta$ are given by:"
   ]
  },
  {
   "cell_type": "code",
   "execution_count": 13,
   "metadata": {},
   "outputs": [
    {
     "name": "stdout",
     "output_type": "stream",
     "text": [
      "r =  2.2361\n",
      "theta = -0.46365\n"
     ]
    }
   ],
   "source": [
    "r = norm(z) # or abs(z)\n",
    "theta = angle(z) # expressed in radians"
   ]
  },
  {
   "cell_type": "markdown",
   "metadata": {},
   "source": [
    "The exponential notation\n",
    "$$z = r(\\cos\\theta+i\\sin\\theta) = re^{i\\theta}$$\n",
    "gives the same complex number:"
   ]
  },
  {
   "cell_type": "code",
   "execution_count": 14,
   "metadata": {},
   "outputs": [
    {
     "name": "stdout",
     "output_type": "stream",
     "text": [
      "ans =  2 - 1i\n",
      "ans =  2 - 1i\n"
     ]
    }
   ],
   "source": [
    "r*(cos(theta)+i*sin(theta))\n",
    "r*exp(i*theta)"
   ]
  },
  {
   "cell_type": "markdown",
   "metadata": {
    "slideshow": {
     "slide_type": "subslide"
    }
   },
   "source": [
    "## Operators\n",
    "\n",
    "All the operators defined for real numbers can be used for complex numbers. The complex conjugate of $z=a+bi$, $$\\bar z=a-bi$$\n",
    "is calculated by the command `conj`:"
   ]
  },
  {
   "cell_type": "code",
   "execution_count": 15,
   "metadata": {},
   "outputs": [
    {
     "name": "stdout",
     "output_type": "stream",
     "text": [
      "ans =  0.13793 + 0.65517i\n",
      "ans =  0.13793 + 0.65517i\n",
      "ans =  16 + 11i\n",
      "ans =  16.000 + 11.000i\n"
     ]
    }
   ],
   "source": [
    "z1 = 2+3*i;\n",
    "z2 = 5-2*i;\n",
    "z1/z2\n",
    "z1*conj(z2)/abs(z2)^2\n",
    "z1*z2\n",
    "abs(z1)*abs(z2)*exp(i*(angle(z1)+angle(z2)))"
   ]
  },
  {
   "cell_type": "markdown",
   "metadata": {
    "slideshow": {
     "slide_type": "subslide"
    }
   },
   "source": [
    "## Functions\n",
    "\n",
    "All function defined for real number can also be used for complex numbers, eg:\n",
    "$$\\sin z = \\frac{e^{zi}-e^{-zi}}{2i}$$\n",
    "$$\\cos z = \\frac{e^{zi}+e^{-zi}}{2}$$"
   ]
  },
  {
   "cell_type": "code",
   "execution_count": 16,
   "metadata": {},
   "outputs": [
    {
     "name": "stdout",
     "output_type": "stream",
     "text": [
      "ans =  9.1545 - 4.1689i\n",
      "ans =  9.1545 - 4.1689i\n",
      "ans =  1.0672 - 3.4779i\n",
      "ans =  1.0672 - 3.4779i\n"
     ]
    }
   ],
   "source": [
    "sin(z1)\n",
    "0.5*(exp(z1*i)-exp(-z1*i))/i\n",
    "cos(z2)\n",
    "0.5*(exp(z2*i)+exp(-z2*i))"
   ]
  },
  {
   "cell_type": "markdown",
   "metadata": {
    "slideshow": {
     "slide_type": "subslide"
    }
   },
   "source": [
    "## Root finding\n",
    "\n",
    "Find all cubic roots of $-1$:"
   ]
  },
  {
   "cell_type": "code",
   "execution_count": 17,
   "metadata": {
    "slideshow": {
     "slide_type": "subslide"
    }
   },
   "outputs": [
    {
     "data": {
      "image/svg+xml": [
       "<svg height=\"420px\" viewBox=\"0 0 560 420\" width=\"560px\" xmlns=\"http://www.w3.org/2000/svg\" xmlns:xlink=\"http://www.w3.org/1999/xlink\">\n",
       "\n",
       "<title>Gnuplot</title>\n",
       "<desc>Produced by GNUPLOT 5.0 patchlevel 7 </desc>\n",
       "\n",
       "<g id=\"gnuplot_canvas\">\n",
       "\n",
       "<rect fill=\"none\" height=\"420\" width=\"560\" x=\"0\" y=\"0\"/>\n",
       "<defs>\n",
       "\n",
       "\t<circle id=\"gpDot\" r=\"0.5\" stroke-width=\"0.5\"/>\n",
       "\t<path d=\"M-1,0 h2 M0,-1 v2\" id=\"gpPt0\" stroke=\"currentColor\" stroke-width=\"0.333\"/>\n",
       "\t<path d=\"M-1,-1 L1,1 M1,-1 L-1,1\" id=\"gpPt1\" stroke=\"currentColor\" stroke-width=\"0.333\"/>\n",
       "\t<path d=\"M-1,0 L1,0 M0,-1 L0,1 M-1,-1 L1,1 M-1,1 L1,-1\" id=\"gpPt2\" stroke=\"currentColor\" stroke-width=\"0.333\"/>\n",
       "\t<rect height=\"2\" id=\"gpPt3\" stroke=\"currentColor\" stroke-width=\"0.333\" width=\"2\" x=\"-1\" y=\"-1\"/>\n",
       "\t<rect fill=\"currentColor\" height=\"2\" id=\"gpPt4\" stroke=\"currentColor\" stroke-width=\"0.333\" width=\"2\" x=\"-1\" y=\"-1\"/>\n",
       "\t<circle cx=\"0\" cy=\"0\" id=\"gpPt5\" r=\"1\" stroke=\"currentColor\" stroke-width=\"0.333\"/>\n",
       "\t<use fill=\"currentColor\" id=\"gpPt6\" stroke=\"none\" xlink:href=\"#gpPt5\"/>\n",
       "\t<path d=\"M0,-1.33 L-1.33,0.67 L1.33,0.67 z\" id=\"gpPt7\" stroke=\"currentColor\" stroke-width=\"0.333\"/>\n",
       "\t<use fill=\"currentColor\" id=\"gpPt8\" stroke=\"none\" xlink:href=\"#gpPt7\"/>\n",
       "\t<use id=\"gpPt9\" stroke=\"currentColor\" transform=\"rotate(180)\" xlink:href=\"#gpPt7\"/>\n",
       "\t<use fill=\"currentColor\" id=\"gpPt10\" stroke=\"none\" xlink:href=\"#gpPt9\"/>\n",
       "\t<use id=\"gpPt11\" stroke=\"currentColor\" transform=\"rotate(45)\" xlink:href=\"#gpPt3\"/>\n",
       "\t<use fill=\"currentColor\" id=\"gpPt12\" stroke=\"none\" xlink:href=\"#gpPt11\"/>\n",
       "\t<path d=\"M0,1.330 L1.265,0.411 L0.782,-1.067 L-0.782,-1.076 L-1.265,0.411 z\" id=\"gpPt13\" stroke=\"currentColor\" stroke-width=\"0.333\"/>\n",
       "\t<use fill=\"currentColor\" id=\"gpPt14\" stroke=\"none\" xlink:href=\"#gpPt13\"/>\n",
       "\t<filter filterUnits=\"objectBoundingBox\" height=\"1\" id=\"textbox\" width=\"1\" x=\"0\" y=\"0\">\n",
       "\t  <feFlood flood-color=\"white\" flood-opacity=\"1\" result=\"bgnd\"/>\n",
       "\t  <feComposite in=\"SourceGraphic\" in2=\"bgnd\" operator=\"atop\"/>\n",
       "\t</filter>\n",
       "\t<filter filterUnits=\"objectBoundingBox\" height=\"1\" id=\"greybox\" width=\"1\" x=\"0\" y=\"0\">\n",
       "\t  <feFlood flood-color=\"lightgrey\" flood-opacity=\"1\" result=\"grey\"/>\n",
       "\t  <feComposite in=\"SourceGraphic\" in2=\"grey\" operator=\"atop\"/>\n",
       "\t</filter>\n",
       "</defs>\n",
       "<g color=\"white\" fill=\"none\" stroke=\"currentColor\" stroke-linecap=\"butt\" stroke-linejoin=\"miter\" stroke-width=\"1.00\">\n",
       "</g>\n",
       "<g color=\"black\" fill=\"none\" stroke=\"currentColor\" stroke-linecap=\"butt\" stroke-linejoin=\"miter\" stroke-width=\"1.00\">\n",
       "\t<g shape-rendering=\"crispEdges\" stroke=\"none\">\n",
       "\t\t<polygon fill=\"rgb(255, 255, 255)\" points=\"106.4,396.0 473.0,396.0 473.0,11.4 106.4,11.4 \"/>\n",
       "\t</g>\n",
       "</g>\n",
       "<g color=\"black\" fill=\"none\" stroke=\"rgb(255, 255, 255)\" stroke-linecap=\"butt\" stroke-linejoin=\"miter\" stroke-width=\"0.50\">\n",
       "</g>\n",
       "<g color=\"black\" fill=\"none\" stroke=\"currentColor\" stroke-linecap=\"butt\" stroke-linejoin=\"miter\" stroke-width=\"0.50\">\n",
       "</g>\n",
       "<g color=\"gray\" fill=\"none\" stroke=\"currentColor\" stroke-linecap=\"butt\" stroke-linejoin=\"miter\" stroke-width=\"0.50\">\n",
       "\t<path class=\"gridline\" d=\"M106.4,396.0 L473.1,396.0  \" stroke=\"gray\" stroke-dasharray=\"2,4\"/></g>\n",
       "<g color=\"black\" fill=\"none\" stroke=\"currentColor\" stroke-linecap=\"butt\" stroke-linejoin=\"miter\" stroke-width=\"0.50\">\n",
       "\t<path d=\"M106.4,396.0 L114.8,396.0 M473.1,396.0 L464.7,396.0  \" stroke=\"black\"/>\t<g fill=\"rgb(0,0,0)\" font-family=\"{}\" font-size=\"10.00\" stroke=\"none\" text-anchor=\"end\" transform=\"translate(100.8,399.3)\">\n",
       "\t\t<text><tspan font-family=\"{}\">-1</tspan></text>\n",
       "\t</g>\n",
       "</g>\n",
       "<g color=\"black\" fill=\"none\" stroke=\"currentColor\" stroke-linecap=\"butt\" stroke-linejoin=\"miter\" stroke-width=\"0.50\">\n",
       "</g>\n",
       "<g color=\"gray\" fill=\"none\" stroke=\"currentColor\" stroke-linecap=\"butt\" stroke-linejoin=\"miter\" stroke-width=\"0.50\">\n",
       "\t<path class=\"gridline\" d=\"M106.4,299.8 L473.1,299.8  \" stroke=\"gray\" stroke-dasharray=\"2,4\"/></g>\n",
       "<g color=\"black\" fill=\"none\" stroke=\"currentColor\" stroke-linecap=\"butt\" stroke-linejoin=\"miter\" stroke-width=\"0.50\">\n",
       "\t<path d=\"M106.4,299.8 L114.8,299.8 M473.1,299.8 L464.7,299.8  \" stroke=\"black\"/>\t<g fill=\"rgb(0,0,0)\" font-family=\"{}\" font-size=\"10.00\" stroke=\"none\" text-anchor=\"end\" transform=\"translate(100.8,303.1)\">\n",
       "\t\t<text><tspan font-family=\"{}\">-0.5</tspan></text>\n",
       "\t</g>\n",
       "</g>\n",
       "<g color=\"black\" fill=\"none\" stroke=\"currentColor\" stroke-linecap=\"butt\" stroke-linejoin=\"miter\" stroke-width=\"0.50\">\n",
       "</g>\n",
       "<g color=\"gray\" fill=\"none\" stroke=\"currentColor\" stroke-linecap=\"butt\" stroke-linejoin=\"miter\" stroke-width=\"0.50\">\n",
       "\t<path class=\"gridline\" d=\"M106.4,203.6 L473.1,203.6  \" stroke=\"gray\" stroke-dasharray=\"2,4\"/></g>\n",
       "<g color=\"black\" fill=\"none\" stroke=\"currentColor\" stroke-linecap=\"butt\" stroke-linejoin=\"miter\" stroke-width=\"0.50\">\n",
       "\t<path d=\"M106.4,203.6 L114.8,203.6 M473.1,203.6 L464.7,203.6  \" stroke=\"black\"/>\t<g fill=\"rgb(0,0,0)\" font-family=\"{}\" font-size=\"10.00\" stroke=\"none\" text-anchor=\"end\" transform=\"translate(100.8,206.9)\">\n",
       "\t\t<text><tspan font-family=\"{}\">0</tspan></text>\n",
       "\t</g>\n",
       "</g>\n",
       "<g color=\"black\" fill=\"none\" stroke=\"currentColor\" stroke-linecap=\"butt\" stroke-linejoin=\"miter\" stroke-width=\"0.50\">\n",
       "</g>\n",
       "<g color=\"gray\" fill=\"none\" stroke=\"currentColor\" stroke-linecap=\"butt\" stroke-linejoin=\"miter\" stroke-width=\"0.50\">\n",
       "\t<path class=\"gridline\" d=\"M106.4,107.5 L473.1,107.5  \" stroke=\"gray\" stroke-dasharray=\"2,4\"/></g>\n",
       "<g color=\"black\" fill=\"none\" stroke=\"currentColor\" stroke-linecap=\"butt\" stroke-linejoin=\"miter\" stroke-width=\"0.50\">\n",
       "\t<path d=\"M106.4,107.5 L114.8,107.5 M473.1,107.5 L464.7,107.5  \" stroke=\"black\"/>\t<g fill=\"rgb(0,0,0)\" font-family=\"{}\" font-size=\"10.00\" stroke=\"none\" text-anchor=\"end\" transform=\"translate(100.8,110.8)\">\n",
       "\t\t<text><tspan font-family=\"{}\">0.5</tspan></text>\n",
       "\t</g>\n",
       "</g>\n",
       "<g color=\"black\" fill=\"none\" stroke=\"currentColor\" stroke-linecap=\"butt\" stroke-linejoin=\"miter\" stroke-width=\"0.50\">\n",
       "</g>\n",
       "<g color=\"gray\" fill=\"none\" stroke=\"currentColor\" stroke-linecap=\"butt\" stroke-linejoin=\"miter\" stroke-width=\"0.50\">\n",
       "\t<path class=\"gridline\" d=\"M106.4,11.3 L473.1,11.3  \" stroke=\"gray\" stroke-dasharray=\"2,4\"/></g>\n",
       "<g color=\"black\" fill=\"none\" stroke=\"currentColor\" stroke-linecap=\"butt\" stroke-linejoin=\"miter\" stroke-width=\"0.50\">\n",
       "\t<path d=\"M106.4,11.3 L114.8,11.3 M473.1,11.3 L464.7,11.3  \" stroke=\"black\"/>\t<g fill=\"rgb(0,0,0)\" font-family=\"{}\" font-size=\"10.00\" stroke=\"none\" text-anchor=\"end\" transform=\"translate(100.8,14.6)\">\n",
       "\t\t<text><tspan font-family=\"{}\">1</tspan></text>\n",
       "\t</g>\n",
       "</g>\n",
       "<g color=\"black\" fill=\"none\" stroke=\"currentColor\" stroke-linecap=\"butt\" stroke-linejoin=\"miter\" stroke-width=\"0.50\">\n",
       "</g>\n",
       "<g color=\"gray\" fill=\"none\" stroke=\"currentColor\" stroke-linecap=\"butt\" stroke-linejoin=\"miter\" stroke-width=\"0.50\">\n",
       "\t<path class=\"gridline\" d=\"M106.4,396.0 L106.4,11.3  \" stroke=\"gray\" stroke-dasharray=\"2,4\"/></g>\n",
       "<g color=\"black\" fill=\"none\" stroke=\"currentColor\" stroke-linecap=\"butt\" stroke-linejoin=\"miter\" stroke-width=\"0.50\">\n",
       "\t<path d=\"M106.4,396.0 L106.4,387.6 M106.4,11.3 L106.4,19.7  \" stroke=\"black\"/>\t<g fill=\"rgb(0,0,0)\" font-family=\"{}\" font-size=\"10.00\" stroke=\"none\" text-anchor=\"middle\" transform=\"translate(106.4,411.3)\">\n",
       "\t\t<text><tspan font-family=\"{}\">-1</tspan></text>\n",
       "\t</g>\n",
       "</g>\n",
       "<g color=\"black\" fill=\"none\" stroke=\"currentColor\" stroke-linecap=\"butt\" stroke-linejoin=\"miter\" stroke-width=\"0.50\">\n",
       "</g>\n",
       "<g color=\"gray\" fill=\"none\" stroke=\"currentColor\" stroke-linecap=\"butt\" stroke-linejoin=\"miter\" stroke-width=\"0.50\">\n",
       "\t<path class=\"gridline\" d=\"M198.1,396.0 L198.1,11.3  \" stroke=\"gray\" stroke-dasharray=\"2,4\"/></g>\n",
       "<g color=\"black\" fill=\"none\" stroke=\"currentColor\" stroke-linecap=\"butt\" stroke-linejoin=\"miter\" stroke-width=\"0.50\">\n",
       "\t<path d=\"M198.1,396.0 L198.1,387.6 M198.1,11.3 L198.1,19.7  \" stroke=\"black\"/>\t<g fill=\"rgb(0,0,0)\" font-family=\"{}\" font-size=\"10.00\" stroke=\"none\" text-anchor=\"middle\" transform=\"translate(198.1,411.3)\">\n",
       "\t\t<text><tspan font-family=\"{}\">-0.5</tspan></text>\n",
       "\t</g>\n",
       "</g>\n",
       "<g color=\"black\" fill=\"none\" stroke=\"currentColor\" stroke-linecap=\"butt\" stroke-linejoin=\"miter\" stroke-width=\"0.50\">\n",
       "</g>\n",
       "<g color=\"gray\" fill=\"none\" stroke=\"currentColor\" stroke-linecap=\"butt\" stroke-linejoin=\"miter\" stroke-width=\"0.50\">\n",
       "\t<path class=\"gridline\" d=\"M289.8,396.0 L289.8,11.3  \" stroke=\"gray\" stroke-dasharray=\"2,4\"/></g>\n",
       "<g color=\"black\" fill=\"none\" stroke=\"currentColor\" stroke-linecap=\"butt\" stroke-linejoin=\"miter\" stroke-width=\"0.50\">\n",
       "\t<path d=\"M289.8,396.0 L289.8,387.6 M289.8,11.3 L289.8,19.7  \" stroke=\"black\"/>\t<g fill=\"rgb(0,0,0)\" font-family=\"{}\" font-size=\"10.00\" stroke=\"none\" text-anchor=\"middle\" transform=\"translate(289.8,411.3)\">\n",
       "\t\t<text><tspan font-family=\"{}\">0</tspan></text>\n",
       "\t</g>\n",
       "</g>\n",
       "<g color=\"black\" fill=\"none\" stroke=\"currentColor\" stroke-linecap=\"butt\" stroke-linejoin=\"miter\" stroke-width=\"0.50\">\n",
       "</g>\n",
       "<g color=\"gray\" fill=\"none\" stroke=\"currentColor\" stroke-linecap=\"butt\" stroke-linejoin=\"miter\" stroke-width=\"0.50\">\n",
       "\t<path class=\"gridline\" d=\"M381.4,396.0 L381.4,11.3  \" stroke=\"gray\" stroke-dasharray=\"2,4\"/></g>\n",
       "<g color=\"black\" fill=\"none\" stroke=\"currentColor\" stroke-linecap=\"butt\" stroke-linejoin=\"miter\" stroke-width=\"0.50\">\n",
       "\t<path d=\"M381.4,396.0 L381.4,387.6 M381.4,11.3 L381.4,19.7  \" stroke=\"black\"/>\t<g fill=\"rgb(0,0,0)\" font-family=\"{}\" font-size=\"10.00\" stroke=\"none\" text-anchor=\"middle\" transform=\"translate(381.4,411.3)\">\n",
       "\t\t<text><tspan font-family=\"{}\">0.5</tspan></text>\n",
       "\t</g>\n",
       "</g>\n",
       "<g color=\"black\" fill=\"none\" stroke=\"currentColor\" stroke-linecap=\"butt\" stroke-linejoin=\"miter\" stroke-width=\"0.50\">\n",
       "</g>\n",
       "<g color=\"gray\" fill=\"none\" stroke=\"currentColor\" stroke-linecap=\"butt\" stroke-linejoin=\"miter\" stroke-width=\"0.50\">\n",
       "\t<path class=\"gridline\" d=\"M473.1,396.0 L473.1,11.3  \" stroke=\"gray\" stroke-dasharray=\"2,4\"/></g>\n",
       "<g color=\"black\" fill=\"none\" stroke=\"currentColor\" stroke-linecap=\"butt\" stroke-linejoin=\"miter\" stroke-width=\"0.50\">\n",
       "\t<path d=\"M473.1,396.0 L473.1,387.6 M473.1,11.3 L473.1,19.7  \" stroke=\"black\"/>\t<g fill=\"rgb(0,0,0)\" font-family=\"{}\" font-size=\"10.00\" stroke=\"none\" text-anchor=\"middle\" transform=\"translate(473.1,411.3)\">\n",
       "\t\t<text><tspan font-family=\"{}\">1</tspan></text>\n",
       "\t</g>\n",
       "</g>\n",
       "<g color=\"black\" fill=\"none\" stroke=\"currentColor\" stroke-linecap=\"butt\" stroke-linejoin=\"miter\" stroke-width=\"0.50\">\n",
       "</g>\n",
       "<g color=\"black\" fill=\"none\" stroke=\"currentColor\" stroke-linecap=\"butt\" stroke-linejoin=\"miter\" stroke-width=\"0.50\">\n",
       "\t<path d=\"M106.4,11.3 L106.4,396.0 L473.1,396.0 L473.1,11.3 L106.4,11.3 Z  \" stroke=\"black\"/></g>\n",
       "<g color=\"black\" fill=\"none\" stroke=\"currentColor\" stroke-linecap=\"butt\" stroke-linejoin=\"miter\" stroke-width=\"0.50\">\n",
       "</g>\n",
       "\t<g id=\"gnuplot_plot_1a\"><title>gnuplot_plot_1a</title>\n",
       "<g color=\"black\" fill=\"none\" stroke=\"currentColor\" stroke-linecap=\"butt\" stroke-linejoin=\"miter\" stroke-width=\"0.50\">\n",
       "\t<g onmousemove=\"gnuplot_svg.showHypertext(evt,'')\" onmouseout=\"gnuplot_svg.hideHypertext()\"><title> </title>\n",
       "\t<use color=\"rgb(255,   0,   0)\" transform=\"translate(381.4,37.1) scale(6.00)\" xlink:href=\"#gpPt5\"/></g>\n",
       "\t<use color=\"rgb(255,   0,   0)\" transform=\"translate(106.4,203.6) scale(6.00)\" xlink:href=\"#gpPt5\"/>\n",
       "\t<use color=\"rgb(255,   0,   0)\" transform=\"translate(381.4,370.2) scale(6.00)\" xlink:href=\"#gpPt5\"/>\n",
       "</g>\n",
       "\t</g>\n",
       "\t<g id=\"gnuplot_plot_2a\"><title>gnuplot_plot_2a</title>\n",
       "<g color=\"black\" fill=\"none\" stroke=\"currentColor\" stroke-linecap=\"butt\" stroke-linejoin=\"miter\" stroke-width=\"0.50\">\n",
       "\t<path d=\"M473.1,203.6 L472.7,191.6 L471.7,179.5 L469.9,167.6 L467.3,155.8 L464.1,144.2 L460.2,132.8 L455.7,121.8   L450.4,111.0 L444.6,100.6 L438.1,90.6 L431.0,81.0 L423.4,72.0 L415.3,63.4 L406.6,55.4 L397.5,48.0   L388.0,41.2 L378.1,35.1 L367.8,29.6 L357.2,24.8 L346.4,20.7 L335.3,17.3 L324.1,14.7 L312.7,12.8   L301.3,11.7 L289.8,11.3 L278.2,11.7 L266.8,12.8 L255.4,14.7 L244.2,17.3 L233.1,20.7 L222.3,24.8   L211.7,29.6 L201.4,35.1 L191.5,41.2 L182.0,48.0 L172.9,55.4 L164.2,63.4 L156.1,72.0 L148.5,81.0   L141.4,90.6 L134.9,100.6 L129.1,111.0 L123.8,121.8 L119.3,132.8 L115.4,144.2 L112.2,155.8 L109.6,167.6   L107.8,179.5 L106.8,191.6 L106.4,203.7 L106.8,215.7 L107.8,227.8 L109.6,239.7 L112.2,251.5 L115.4,263.1   L119.3,274.5 L123.8,285.5 L129.1,296.3 L134.9,306.7 L141.4,316.7 L148.5,326.3 L156.1,335.3 L164.2,343.9   L172.9,351.9 L182.0,359.3 L191.5,366.1 L201.4,372.2 L211.7,377.7 L222.3,382.5 L233.1,386.6 L244.2,390.0   L255.4,392.6 L266.8,394.5 L278.2,395.6 L289.7,396.0 L301.3,395.6 L312.7,394.5 L324.1,392.6 L335.3,390.0   L346.4,386.6 L357.2,382.5 L367.8,377.7 L378.1,372.2 L388.0,366.1 L397.5,359.3 L406.6,351.9 L415.3,343.9   L423.4,335.3 L431.0,326.3 L438.1,316.7 L444.6,306.7 L450.4,296.3 L455.7,285.5 L460.2,274.5 L464.1,263.1   L467.3,251.5 L469.9,239.7 L471.7,227.8 L472.7,215.7 L473.1,203.7  \" stroke=\"rgb(  0,   0, 255)\"/></g>\n",
       "\t</g>\n",
       "<g color=\"white\" fill=\"none\" stroke=\"rgb(  0,   0, 255)\" stroke-linecap=\"butt\" stroke-linejoin=\"miter\" stroke-width=\"2.00\">\n",
       "</g>\n",
       "<g color=\"black\" fill=\"none\" stroke=\"currentColor\" stroke-linecap=\"butt\" stroke-linejoin=\"miter\" stroke-width=\"2.00\">\n",
       "</g>\n",
       "<g color=\"black\" fill=\"none\" stroke=\"black\" stroke-linecap=\"butt\" stroke-linejoin=\"miter\" stroke-width=\"0.50\">\n",
       "</g>\n",
       "<g color=\"black\" fill=\"none\" stroke=\"currentColor\" stroke-linecap=\"butt\" stroke-linejoin=\"miter\" stroke-width=\"0.50\">\n",
       "</g>\n",
       "</g>\n",
       "</svg>"
      ],
      "text/plain": [
       "<IPython.core.display.SVG object>"
      ]
     },
     "metadata": {},
     "output_type": "display_data"
    }
   ],
   "source": [
    "z = -1; r = norm(z); theta = angle(z);\n",
    "cubic_root(1) = r^(1/3)*exp(i*theta/3);\n",
    "cubic_root(2) = r^(1/3)*exp(i*(theta+2*pi)/3);\n",
    "cubic_root(3) = r^(1/3)*exp(i*(theta+4*pi)/3);\n",
    "plot(cubic_root, 'ro'); axis square; grid on;\n",
    "hold on; t = 0:2*pi/100:2*pi; plot(exp(i*t));"
   ]
  },
  {
   "cell_type": "markdown",
   "metadata": {
    "slideshow": {
     "slide_type": "slide"
    }
   },
   "source": [
    "# Fundamental theorem of algebra\n",
    "\n",
    "The fundamental theorem of algebra states that every non-constant single-variable polynomial with complex coefficients has at least one complex root. This includes polynomials with real coefficients, since every real number is a complex number with an imaginary part equal to zero.\n",
    "\n",
    "Equivalently (by definition), the theorem states that the field of complex numbers is algebraically closed.\n",
    "\n",
    "The theorem is also stated as follows: every non-zero, single-variable, degree n polynomial with complex coefficients has, counted with multiplicity, exactly n complex roots. The equivalence of the two statements can be proven through the use of successive polynomial division."
   ]
  },
  {
   "cell_type": "markdown",
   "metadata": {
    "slideshow": {
     "slide_type": "subslide"
    }
   },
   "source": [
    "Evaluate the solutions of $z^3-3z^2+4z-2=0$"
   ]
  },
  {
   "cell_type": "code",
   "execution_count": 18,
   "metadata": {},
   "outputs": [
    {
     "name": "stdout",
     "output_type": "stream",
     "text": [
      "r = 0\n",
      "p =  1\n",
      "k =\n",
      "\n",
      "   1  -2   2\n",
      "\n"
     ]
    }
   ],
   "source": [
    "p = [1 -3 4 -2];\n",
    "z1 = 1; # is a solution\n",
    "[r,p,k] = residue(p, [1 -z1])"
   ]
  },
  {
   "cell_type": "markdown",
   "metadata": {
    "slideshow": {
     "slide_type": "-"
    }
   },
   "source": [
    "$$z^3-3z^2+4z-2=0+1(z^2-2z+2)(z-1)$$"
   ]
  },
  {
   "cell_type": "code",
   "execution_count": 19,
   "metadata": {
    "slideshow": {
     "slide_type": "subslide"
    }
   },
   "outputs": [
    {
     "name": "stdout",
     "output_type": "stream",
     "text": [
      "z2 =  1 + 1i\n",
      "z3 =  1 - 1i\n"
     ]
    }
   ],
   "source": [
    "D = (-2)^2-4*2;\n",
    "z2 = 0.5*(2+sqrt(D))/1\n",
    "z3 = 0.5*(2-sqrt(D))/1"
   ]
  },
  {
   "cell_type": "markdown",
   "metadata": {},
   "source": [
    "$$z^3-3z^2+4z-2=(z-(1+i))(z-(1-i))(z-1)$$"
   ]
  },
  {
   "cell_type": "code",
   "execution_count": 20,
   "metadata": {
    "slideshow": {
     "slide_type": "fragment"
    }
   },
   "outputs": [
    {
     "name": "stdout",
     "output_type": "stream",
     "text": [
      "ans =\n",
      "\n",
      "   1  -3   4  -2\n",
      "\n"
     ]
    }
   ],
   "source": [
    "p1=[1 -1];\n",
    "p2=[1 -(1+i)];\n",
    "p3=[1 -(1-i)];\n",
    "conv(conv(p2,p3),p1)"
   ]
  }
 ],
 "metadata": {
  "celltoolbar": "Slideshow",
  "kernelspec": {
   "display_name": "Octave",
   "language": "octave",
   "name": "octave"
  },
  "language_info": {
   "file_extension": ".m",
   "help_links": [
    {
     "text": "GNU Octave",
     "url": "https://www.gnu.org/software/octave/support.html"
    },
    {
     "text": "Octave Kernel",
     "url": "https://github.com/Calysto/octave_kernel"
    },
    {
     "text": "MetaKernel Magics",
     "url": "https://github.com/calysto/metakernel/blob/master/metakernel/magics/README.md"
    }
   ],
   "mimetype": "text/x-octave",
   "name": "octave",
   "version": "4.0.3"
  }
 },
 "nbformat": 4,
 "nbformat_minor": 2
}
