{
 "cells": [
  {
   "cell_type": "markdown",
   "metadata": {
    "slideshow": {
     "slide_type": "slide"
    }
   },
   "source": [
    "# Symbolic objects\n",
    "\n",
    "The *Symbolic Math Toolbox* defines a new MATLAB data type called a **symbolic object**. Internally, a symbolic object is a data structure that stores a string representation of the symbol. It is used to represent symbolic variables, expressions and matrices."
   ]
  },
  {
   "cell_type": "code",
   "execution_count": 37,
   "metadata": {},
   "outputs": [],
   "source": [
    "pkg load symbolic # only octave, not needed in MATLAB "
   ]
  },
  {
   "cell_type": "markdown",
   "metadata": {
    "slideshow": {
     "slide_type": "subslide"
    }
   },
   "source": [
    "The following example illustrates the difference between a standard MATLAB number and the corresponding symbolic object."
   ]
  },
  {
   "cell_type": "code",
   "execution_count": 38,
   "metadata": {},
   "outputs": [
    {
     "name": "stdout",
     "output_type": "stream",
     "text": [
      "a =  1.4142\n",
      "b = (sym) √2\n"
     ]
    }
   ],
   "source": [
    "a = sqrt(2)\n",
    "b = sqrt(sym(2))"
   ]
  },
  {
   "cell_type": "markdown",
   "metadata": {
    "slideshow": {
     "slide_type": "fragment"
    }
   },
   "source": [
    "MATLAB gives the result $\\sqrt2$ without actual calculating a numerical value. You can always obtain the numerical value with the `double` command:"
   ]
  },
  {
   "cell_type": "code",
   "execution_count": 39,
   "metadata": {},
   "outputs": [
    {
     "name": "stdout",
     "output_type": "stream",
     "text": [
      "ans =  1.4142\n"
     ]
    }
   ],
   "source": [
    "double(b)"
   ]
  },
  {
   "cell_type": "markdown",
   "metadata": {
    "slideshow": {
     "slide_type": "subslide"
    }
   },
   "source": [
    "Some more examples:"
   ]
  },
  {
   "cell_type": "code",
   "execution_count": 40,
   "metadata": {},
   "outputs": [
    {
     "name": "stdout",
     "output_type": "stream",
     "text": [
      "ans = (sym) 2/5\n",
      "ans =  0.73333\n",
      "ans = (sym)\n",
      "\n",
      "  11\n",
      "  ──\n",
      "  15\n",
      "\n"
     ]
    }
   ],
   "source": [
    "sym(2)/sym(5)\n",
    "2/5 + 1/3\n",
    "sym(2)/sym(5)+sym(1)/sym(3)"
   ]
  },
  {
   "cell_type": "markdown",
   "metadata": {},
   "source": [
    "The Symbolic Math Toolbox enables you to perform a variety of symbolic calculations. These will be described in detail next week"
   ]
  },
  {
   "cell_type": "markdown",
   "metadata": {
    "slideshow": {
     "slide_type": "slide"
    }
   },
   "source": [
    "# Creating symbolic variables and expressions\n",
    "\n",
    "## `sym`\n",
    "\n",
    "The `sym` command lets you construct symbolic variables and expressions, eg."
   ]
  },
  {
   "cell_type": "code",
   "execution_count": 5,
   "metadata": {},
   "outputs": [
    {
     "name": "stdout",
     "output_type": "stream",
     "text": [
      "x = (sym) x\n",
      "alpha = (sym) α\n"
     ]
    }
   ],
   "source": [
    "x = sym('x')\n",
    "alpha = sym('alpha')"
   ]
  },
  {
   "cell_type": "markdown",
   "metadata": {
    "slideshow": {
     "slide_type": "subslide"
    }
   },
   "source": [
    "Suppose you want to use a symbolic variable to create the golden ratio"
   ]
  },
  {
   "cell_type": "code",
   "execution_count": 6,
   "metadata": {},
   "outputs": [
    {
     "name": "stdout",
     "output_type": "stream",
     "text": [
      "rho = (sym)\n",
      "\n",
      "  1   √5\n",
      "  ─ + ──\n",
      "  2   2 \n",
      "\n"
     ]
    }
   ],
   "source": [
    "rho = sym('(1+sqrt(5))/2')"
   ]
  },
  {
   "cell_type": "markdown",
   "metadata": {
    "slideshow": {
     "slide_type": "fragment"
    }
   },
   "source": [
    "Now you can perform various mathematical operations on `rho`, eg."
   ]
  },
  {
   "cell_type": "code",
   "execution_count": 7,
   "metadata": {},
   "outputs": [
    {
     "name": "stdout",
     "output_type": "stream",
     "text": [
      "f = (sym)\n",
      "\n",
      "                     2\n",
      "    3   √5   ⎛1   √5⎞ \n",
      "  - ─ - ── + ⎜─ + ──⎟ \n",
      "    2   2    ⎝2   2 ⎠ \n",
      "\n"
     ]
    }
   ],
   "source": [
    "f = rho^2 - rho -1"
   ]
  },
  {
   "cell_type": "markdown",
   "metadata": {
    "slideshow": {
     "slide_type": "fragment"
    }
   },
   "source": [
    "You can simplify this answer by entering"
   ]
  },
  {
   "cell_type": "code",
   "execution_count": 8,
   "metadata": {},
   "outputs": [
    {
     "name": "stdout",
     "output_type": "stream",
     "text": [
      "ans = (sym) 0\n"
     ]
    }
   ],
   "source": [
    "simplify(f)"
   ]
  },
  {
   "cell_type": "markdown",
   "metadata": {
    "slideshow": {
     "slide_type": "subslide"
    }
   },
   "source": [
    "Suppose you want to study the quadratic function $f=ax^2+bx+c$. One approach is to enter the command"
   ]
  },
  {
   "cell_type": "code",
   "execution_count": 9,
   "metadata": {},
   "outputs": [
    {
     "name": "stdout",
     "output_type": "stream",
     "text": [
      "f = (sym)\n",
      "\n",
      "     2          \n",
      "  a⋅x  + b⋅x + c\n",
      "\n"
     ]
    }
   ],
   "source": [
    "f = sym('a*x^2+b*x+c')"
   ]
  },
  {
   "cell_type": "markdown",
   "metadata": {
    "slideshow": {
     "slide_type": "fragment"
    }
   },
   "source": [
    "However the Symbolic Math Toolbox does not create variables corresponding to the terms of the expression, $a$, $b$, $c$ and $x$. To perform symbolic math on $f$, you need to create the variables explicitely:"
   ]
  },
  {
   "cell_type": "code",
   "execution_count": 10,
   "metadata": {
    "slideshow": {
     "slide_type": "-"
    }
   },
   "outputs": [],
   "source": [
    "a = sym('a'); b = sym('b'); c = sym('c'); x = sym('x');"
   ]
  },
  {
   "cell_type": "markdown",
   "metadata": {},
   "source": [
    "or simply"
   ]
  },
  {
   "cell_type": "code",
   "execution_count": 11,
   "metadata": {},
   "outputs": [],
   "source": [
    "syms a b c x;"
   ]
  },
  {
   "cell_type": "markdown",
   "metadata": {},
   "source": [
    "and enter"
   ]
  },
  {
   "cell_type": "code",
   "execution_count": 12,
   "metadata": {},
   "outputs": [
    {
     "name": "stdout",
     "output_type": "stream",
     "text": [
      "f = (sym)\n",
      "\n",
      "     2          \n",
      "  a⋅x  + b⋅x + c\n",
      "\n"
     ]
    }
   ],
   "source": [
    "f = a*x^2+b*x+c"
   ]
  },
  {
   "cell_type": "markdown",
   "metadata": {
    "slideshow": {
     "slide_type": "subslide"
    }
   },
   "source": [
    "To clear a symbolic variable, you redefine it:"
   ]
  },
  {
   "cell_type": "code",
   "execution_count": 13,
   "metadata": {},
   "outputs": [
    {
     "name": "stdout",
     "output_type": "stream",
     "text": [
      "f = (sym) f\n"
     ]
    }
   ],
   "source": [
    "syms f;\n",
    "f"
   ]
  },
  {
   "cell_type": "markdown",
   "metadata": {
    "slideshow": {
     "slide_type": "slide"
    }
   },
   "source": [
    "## `findsym`\n",
    "\n",
    "To determine which symbolic variables are present in an expression, use the `findsym` command, eg."
   ]
  },
  {
   "cell_type": "code",
   "execution_count": 14,
   "metadata": {},
   "outputs": [
    {
     "name": "stdout",
     "output_type": "stream",
     "text": [
      "ans = x\n",
      "ans = a,b,t\n"
     ]
    }
   ],
   "source": [
    "syms a b n t x z;\n",
    "f = x^2; g = sin(a*t+b);\n",
    "findsym(f)\n",
    "findsym(g)"
   ]
  },
  {
   "cell_type": "markdown",
   "metadata": {
    "slideshow": {
     "slide_type": "slide"
    }
   },
   "source": [
    "## `subs`\n",
    "\n",
    "You can substitute a numerical value for a symbolic value using the `subs` command, eg."
   ]
  },
  {
   "cell_type": "code",
   "execution_count": 15,
   "metadata": {},
   "outputs": [
    {
     "name": "stdout",
     "output_type": "stream",
     "text": [
      "ans = (sym) 3\n"
     ]
    }
   ],
   "source": [
    "syms x;\n",
    "f = 2*x^2-3*x+1;\n",
    "subs(f, 2)"
   ]
  },
  {
   "cell_type": "code",
   "execution_count": 16,
   "metadata": {
    "slideshow": {
     "slide_type": "fragment"
    }
   },
   "outputs": [
    {
     "name": "stdout",
     "output_type": "stream",
     "text": [
      "ans = (sym) 15⋅√y + 9⋅y\n",
      "ans = (sym)\n",
      "\n",
      "     2         \n",
      "  3⋅x  + 5⋅√3⋅x\n",
      "\n"
     ]
    }
   ],
   "source": [
    "syms x y;\n",
    "f = x^2*y+5*x*sqrt(y);\n",
    "subs(f, x, 3)\n",
    "subs(f, y, 3)"
   ]
  },
  {
   "cell_type": "markdown",
   "metadata": {
    "slideshow": {
     "slide_type": "subslide"
    }
   },
   "source": [
    "To substitute a matrix $\\mathbf A$ into the symbolic expression $f$, use the command `polyvalm(sym2poly(f), A)`, which replaces all occurrences of $x$ by $\\mathbf A$ and replaces the constant term of $f$ with the constant times and identity matrix, eg."
   ]
  },
  {
   "cell_type": "code",
   "execution_count": 17,
   "metadata": {},
   "outputs": [
    {
     "name": "stdout",
     "output_type": "stream",
     "text": [
      "ans =\n",
      "\n",
      "   12   14\n",
      "   21   33\n",
      "\n"
     ]
    }
   ],
   "source": [
    "syms x;\n",
    "f = 2*x^2-3*x+1;\n",
    "A = [1,2;3,4];\n",
    "polyvalm(sym2poly(f), A)"
   ]
  },
  {
   "cell_type": "markdown",
   "metadata": {
    "slideshow": {
     "slide_type": "subslide"
    }
   },
   "source": [
    "If you do not specify a variable to substitute for, MATLAB chooses a default variable according to the following rule. For one-letter variables, MATLAB chooses the letter closest to $x$ in the alphabet. If there are two letter equally close to $x$, MATLAB chooses the one that comes later in the alphabet. You can use the `findsym` command to determine the default variable, eg."
   ]
  },
  {
   "cell_type": "code",
   "execution_count": 18,
   "metadata": {},
   "outputs": [
    {
     "name": "stdout",
     "output_type": "stream",
     "text": [
      "ans = t\n"
     ]
    }
   ],
   "source": [
    "syms s t;\n",
    "g = s+t;\n",
    "findsym(g, 1)"
   ]
  },
  {
   "cell_type": "markdown",
   "metadata": {
    "slideshow": {
     "slide_type": "slide"
    }
   },
   "source": [
    "# Constructing real and complex variables\n",
    "\n",
    "The `sym` command allows you to specify the mathematical properties of symbolic variables by using the `real` option, eg"
   ]
  },
  {
   "cell_type": "code",
   "execution_count": 19,
   "metadata": {},
   "outputs": [],
   "source": [
    "x = sym('x', 'real'); y = sym('y', 'real');"
   ]
  },
  {
   "cell_type": "markdown",
   "metadata": {},
   "source": [
    "or more efficiently"
   ]
  },
  {
   "cell_type": "code",
   "execution_count": 20,
   "metadata": {},
   "outputs": [
    {
     "name": "stdout",
     "output_type": "stream",
     "text": [
      "z = (sym) x + ⅈ⋅y\n"
     ]
    }
   ],
   "source": [
    "syms x y real\n",
    "z = x + i * y"
   ]
  },
  {
   "cell_type": "markdown",
   "metadata": {},
   "source": [
    "creates symbolic variables $x$ and $y$ that have the added mathematical property of being real variables. This means that the expressions"
   ]
  },
  {
   "cell_type": "code",
   "execution_count": 21,
   "metadata": {},
   "outputs": [
    {
     "name": "stdout",
     "output_type": "stream",
     "text": [
      "f = (sym)\n",
      "\n",
      "   2    2\n",
      "  x  + y \n",
      "\n"
     ]
    }
   ],
   "source": [
    "f = x^2 + y^2"
   ]
  },
  {
   "cell_type": "markdown",
   "metadata": {},
   "source": [
    "is strictly nonnegative."
   ]
  },
  {
   "cell_type": "markdown",
   "metadata": {
    "slideshow": {
     "slide_type": "subslide"
    }
   },
   "source": [
    "$z$ is a complex variable and can be manipulated as such, eg."
   ]
  },
  {
   "cell_type": "code",
   "execution_count": 22,
   "metadata": {},
   "outputs": [
    {
     "name": "stdout",
     "output_type": "stream",
     "text": [
      "ans = (sym) x - ⅈ⋅y\n",
      "ans = (sym)\n",
      "\n",
      "   2    2\n",
      "  x  + y \n",
      "\n"
     ]
    }
   ],
   "source": [
    "conj(z)\n",
    "expand(z*conj(z))"
   ]
  },
  {
   "cell_type": "markdown",
   "metadata": {
    "slideshow": {
     "slide_type": "fragment"
    }
   },
   "source": [
    "When you declare $x$ to be real with the command"
   ]
  },
  {
   "cell_type": "code",
   "execution_count": 23,
   "metadata": {},
   "outputs": [],
   "source": [
    "syms x real;"
   ]
  },
  {
   "cell_type": "markdown",
   "metadata": {},
   "source": [
    "$x$ becomes a symbolic object in the MATLAB workspace and a positive real variable in the workspace of the Symbolic Toolbox. To remove the `real` property, enter"
   ]
  },
  {
   "cell_type": "code",
   "execution_count": 24,
   "metadata": {},
   "outputs": [],
   "source": [
    "syms x unreal;"
   ]
  },
  {
   "cell_type": "markdown",
   "metadata": {},
   "source": [
    "Note that entering"
   ]
  },
  {
   "cell_type": "code",
   "execution_count": 25,
   "metadata": {},
   "outputs": [],
   "source": [
    "clear x;"
   ]
  },
  {
   "cell_type": "markdown",
   "metadata": {},
   "source": [
    "only clears $x$ in the MATLAB workspace."
   ]
  },
  {
   "cell_type": "markdown",
   "metadata": {
    "slideshow": {
     "slide_type": "slide"
    }
   },
   "source": [
    "## Creating abstract functions\n",
    "\n",
    "If you want to create an abstract (i.e. indeterminant) function $f(x)$, type"
   ]
  },
  {
   "cell_type": "code",
   "execution_count": 26,
   "metadata": {},
   "outputs": [
    {
     "name": "stdout",
     "output_type": "stream",
     "text": [
      "f = (sym) f(x)\n"
     ]
    }
   ],
   "source": [
    "f = sym('f(x)')"
   ]
  },
  {
   "cell_type": "markdown",
   "metadata": {},
   "source": [
    "Then $f$ acts like $f(x)$ and can be manipulated by the toolbox command, eg."
   ]
  },
  {
   "cell_type": "code",
   "execution_count": 27,
   "metadata": {},
   "outputs": [
    {
     "name": "stdout",
     "output_type": "stream",
     "text": [
      "df = (sym)\n",
      "\n",
      "  -f(x) + f(h + x)\n",
      "  ────────────────\n",
      "         h        \n",
      "\n"
     ]
    }
   ],
   "source": [
    "syms x h;\n",
    "df = (subs(f, x, x+h) - f)/h"
   ]
  },
  {
   "cell_type": "markdown",
   "metadata": {
    "slideshow": {
     "slide_type": "slide"
    }
   },
   "source": [
    "## Creating a symbolic matrix\n",
    "\n",
    "A circulant matrix has the property that each row is obtained from the previous one by cyclically permuting the netries one step forward. You can create the circulant matrix $\\mathbf A$ whose elements are $a$, $b$ and $c$, using the commands"
   ]
  },
  {
   "cell_type": "code",
   "execution_count": 35,
   "metadata": {},
   "outputs": [
    {
     "name": "stdout",
     "output_type": "stream",
     "text": [
      "A = (sym 3×3 matrix)\n",
      "\n",
      "  ⎡a  b  c⎤\n",
      "  ⎢       ⎥\n",
      "  ⎢b  c  a⎥\n",
      "  ⎢       ⎥\n",
      "  ⎣c  a  b⎦\n",
      "\n",
      "ans = (sym) [a + b + c  a + b + c  a + b + c]  (1×3 matrix)\n"
     ]
    }
   ],
   "source": [
    "syms a b c;\n",
    "A = [a, b, c; b, c, a;c, a, b]\n",
    "sum(A)"
   ]
  },
  {
   "cell_type": "markdown",
   "metadata": {
    "slideshow": {
     "slide_type": "subslide"
    }
   },
   "source": [
    "All normal manipulations are allowed:"
   ]
  },
  {
   "cell_type": "code",
   "execution_count": 36,
   "metadata": {},
   "outputs": [
    {
     "name": "stdout",
     "output_type": "stream",
     "text": [
      "ans = (sym 3×1 matrix)\n",
      "\n",
      "  ⎡             a + b + c              ⎤\n",
      "  ⎢                                    ⎥\n",
      "  ⎢   ________________________________ ⎥\n",
      "  ⎢  ╱  2                2          2  ⎥\n",
      "  ⎢╲╱  a  - a⋅b - a⋅c + b  - b⋅c + c   ⎥\n",
      "  ⎢                                    ⎥\n",
      "  ⎢    ________________________________⎥\n",
      "  ⎢   ╱  2                2          2 ⎥\n",
      "  ⎣-╲╱  a  - a⋅b - a⋅c + b  - b⋅c + c  ⎦\n",
      "\n",
      "A = (sym 3×3 matrix)\n",
      "\n",
      "  ⎡a  α  c⎤\n",
      "  ⎢       ⎥\n",
      "  ⎢α  c  β⎥\n",
      "  ⎢       ⎥\n",
      "  ⎣c  a  α⎦\n",
      "\n",
      "ans = (sym)\n",
      "\n",
      "     2                3            3\n",
      "  - a ⋅β + 2⋅a⋅α⋅c - α  + α⋅β⋅c - c \n",
      "\n"
     ]
    }
   ],
   "source": [
    "eig(A)\n",
    "syms alpha beta;\n",
    "A(2,3) = beta;\n",
    "A = subs(A, b, alpha)\n",
    "det(A)"
   ]
  }
 ],
 "metadata": {
  "celltoolbar": "Slideshow",
  "kernelspec": {
   "display_name": "Octave",
   "language": "octave",
   "name": "octave"
  },
  "language_info": {
   "file_extension": ".m",
   "help_links": [
    {
     "text": "GNU Octave",
     "url": "https://www.gnu.org/software/octave/support.html"
    },
    {
     "text": "Octave Kernel",
     "url": "https://github.com/Calysto/octave_kernel"
    },
    {
     "text": "MetaKernel Magics",
     "url": "https://github.com/calysto/metakernel/blob/master/metakernel/magics/README.md"
    }
   ],
   "mimetype": "text/x-octave",
   "name": "octave",
   "version": "4.0.3"
  },
  "livereveal": {
   "controls": "false",
   "scroll": "true",
   "start_slideshow_at": "selected"
  }
 },
 "nbformat": 4,
 "nbformat_minor": 2
}
