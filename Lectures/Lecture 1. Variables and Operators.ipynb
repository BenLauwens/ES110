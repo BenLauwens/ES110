{
 "cells": [
  {
   "cell_type": "markdown",
   "metadata": {
    "collapsed": true,
    "slideshow": {
     "slide_type": "fragment"
    }
   },
   "source": [
    "# Variables\n",
    "\n",
    "## Definition\n",
    "\n",
    "*A variable is a storage location paired with an associated symbolic name, which contains some known or unknown quantity of information referred to as a value.*\n",
    "\n",
    "- The variable name is the usual way to reference the stored value; this separation of name and content allows the name to be used independently of the exact information it represents. \n",
    "- The identifier can be bound to a value during run time, and the value of the variable may thus change during the course of program execution."
   ]
  },
  {
   "cell_type": "markdown",
   "metadata": {
    "slideshow": {
     "slide_type": "subslide"
    }
   },
   "source": [
    "## MATLAB (Octave)\n",
    "\n",
    "MATLAB does not require any type declaration:\n",
    "\n",
    "- When MATLAB encounters a new variable name, it automatically creates the variable and allocate the appropriate amount of storage. \n",
    "- If the variable already exists, MATLAB changes its contents and, if necessary, allocates new storage."
   ]
  },
  {
   "cell_type": "code",
   "execution_count": 1,
   "metadata": {
    "slideshow": {
     "slide_type": "fragment"
    }
   },
   "outputs": [
    {
     "name": "stdout",
     "output_type": "stream",
     "text": [
      "num_students =  25\n"
     ]
    }
   ],
   "source": [
    "num_students = 25"
   ]
  },
  {
   "cell_type": "markdown",
   "metadata": {
    "slideshow": {
     "slide_type": "fragment"
    }
   },
   "source": [
    "This statement creates a 1-by-1 matrix named `num_students` and stores the value `25` in its single element."
   ]
  },
  {
   "cell_type": "markdown",
   "metadata": {
    "slideshow": {
     "slide_type": "subslide"
    }
   },
   "source": [
    "Variable names consist of a letter, followed by a number of letters, digits, or underscores:\n",
    "\n",
    "- MATLAB uses only the first 31 characters of a variable name.\n",
    "- MATLAB is case sensitive; it distinguishes between uppercase and lowercase letters."
   ]
  },
  {
   "cell_type": "markdown",
   "metadata": {
    "slideshow": {
     "slide_type": "fragment"
    }
   },
   "source": [
    "To view the matrix assigned to any variable, simply enter the variable name:"
   ]
  },
  {
   "cell_type": "code",
   "execution_count": 2,
   "metadata": {},
   "outputs": [
    {
     "name": "stdout",
     "output_type": "stream",
     "text": [
      "num_students =  25\n"
     ]
    }
   ],
   "source": [
    "num_students"
   ]
  },
  {
   "cell_type": "markdown",
   "metadata": {
    "slideshow": {
     "slide_type": "slide"
    }
   },
   "source": [
    "## Numbers\n",
    "\n",
    "MATLAB uses conventional decimal notation, with an optional decimal point and leading plus or minus sign, for numbers.\n",
    "\n",
    "*Scientific notation* uses the letter `e` to specify a power-of-ten scale factor:\n",
    "\n",
    "|         |           |           |\n",
    "|---------|-----------|-----------|\n",
    "|3        |-99        |0.0001     |\n",
    "|9.6397238|1.60210e-20|-6.02252e23|"
   ]
  },
  {
   "cell_type": "code",
   "execution_count": null,
   "metadata": {
    "collapsed": true,
    "slideshow": {
     "slide_type": "fragment"
    }
   },
   "outputs": [],
   "source": []
  }
 ],
 "metadata": {
  "celltoolbar": "Slideshow",
  "kernelspec": {
   "display_name": "Octave",
   "language": "octave",
   "name": "octave"
  },
  "language_info": {
   "file_extension": ".m",
   "help_links": [
    {
     "text": "GNU Octave",
     "url": "https://www.gnu.org/software/octave/support.html"
    },
    {
     "text": "Octave Kernel",
     "url": "https://github.com/Calysto/octave_kernel"
    },
    {
     "text": "MetaKernel Magics",
     "url": "https://github.com/calysto/metakernel/blob/master/metakernel/magics/README.md"
    }
   ],
   "mimetype": "text/x-octave",
   "name": "octave",
   "version": "4.0.3"
  }
 },
 "nbformat": 4,
 "nbformat_minor": 2
}
