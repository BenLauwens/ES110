{
 "cells": [
  {
   "cell_type": "markdown",
   "metadata": {
    "slideshow": {
     "slide_type": "slide"
    }
   },
   "source": [
    "# Symbolic solution of ODEs\n",
    "\n",
    "## Single Differential Equation\n",
    "\n",
    "The command `dsolve` computes symbolic solutions to ordinary differential equations. The equations are specified by symbolic equations containing the command `diff` to denote differentiation, eg. solve\n",
    "$$\\frac{\\mathrm dy}{\\mathrm dx}=1+y^2$$"
   ]
  },
  {
   "cell_type": "code",
   "execution_count": 3,
   "metadata": {},
   "outputs": [
    {
     "name": "stdout",
     "output_type": "stream",
     "text": [
      "ans = (sym) y(x) = -tan(C₁ - x)\n"
     ]
    }
   ],
   "source": [
    "pkg load symbolic\n",
    "syms x y(x)\n",
    "dsolve(diff(y, x)==1+y^2) "
   ]
  },
  {
   "cell_type": "markdown",
   "metadata": {
    "slideshow": {
     "slide_type": "subslide"
    }
   },
   "source": [
    "Initial conditions can be specified by additional equations, eg."
   ]
  },
  {
   "cell_type": "code",
   "execution_count": 11,
   "metadata": {},
   "outputs": [
    {
     "name": "stdout",
     "output_type": "stream",
     "text": [
      "ans = (sym)\n",
      "\n",
      "            ⎛    π⎞\n",
      "  y(x) = tan⎜x + ─⎟\n",
      "            ⎝    4⎠\n",
      "\n",
      "ans = (sym)\n",
      "\n",
      "     ⎛    π⎞\n",
      "  tan⎜x + ─⎟\n",
      "     ⎝    4⎠\n",
      "\n"
     ]
    }
   ],
   "source": [
    "dsolve(diff(y)==1+y^2, y(0)==1)\n",
    "rhs(ans) % Not needed in MATLAB"
   ]
  },
  {
   "cell_type": "markdown",
   "metadata": {
    "slideshow": {
     "slide_type": "subslide"
    }
   },
   "source": [
    "Nonlinear equations may have multiple solutions, even when initial conditions are given, eg. solve\n",
    "$$\\left(\\frac{\\mathrm dx}{\\mathrm dt}\\right)^2+x^2=1$$\n",
    "where $x(0)=0$:"
   ]
  },
  {
   "cell_type": "code",
   "execution_count": 12,
   "metadata": {},
   "outputs": [
    {
     "name": "stdout",
     "output_type": "stream",
     "text": [
      "x1 = (sym) -sin(t)\n",
      "x2 = (sym) sin(t)\n"
     ]
    }
   ],
   "source": [
    "syms t x(t)\n",
    "x = dsolve((diff(x,t))^2+x^2==1, x(0)==0);\n",
    "x1 = rhs(x{1}) % MATLAB x1 = x(1)\n",
    "x2 = rhs(x{2}) % MATLAB x2 = x(2)"
   ]
  },
  {
   "cell_type": "markdown",
   "metadata": {
    "slideshow": {
     "slide_type": "subslide"
    }
   },
   "source": [
    "Here is a second order differential equation with two initial conditions:\n",
    "$$\\frac{\\mathrm d^2y}{\\mathrm dx^2}=\\cos(2x)-y$$\n",
    "with $y(0)=1$ and $\\frac{\\mathrm dy}{\\mathrm dx}(0)=0$:"
   ]
  },
  {
   "cell_type": "code",
   "execution_count": 13,
   "metadata": {},
   "outputs": [
    {
     "name": "stdout",
     "output_type": "stream",
     "text": [
      "warning: worked around octave bug #42735\n",
      "warning: called from\n",
      "    minus at line 42 column 5\n",
      "y = (sym)\n",
      "\n",
      "  4⋅cos(x)   cos(2⋅x)\n",
      "  ──────── - ────────\n",
      "     3          3    \n",
      "\n"
     ]
    }
   ],
   "source": [
    "syms x y(x)\n",
    "Dy = diff(y, x);\n",
    "y = rhs(dsolve(diff(y, 2)==cos(2*x)-y, y(0)==1, Dy(0)==0)) % MATLAB y = dsolve(diff(y, 2)==cos(2*x)-y, y(0)==1, Dy(0)==0)"
   ]
  },
  {
   "cell_type": "markdown",
   "metadata": {
    "slideshow": {
     "slide_type": "subslide"
    }
   },
   "source": [
    "## System of Differential Equations\n",
    "\n",
    "The command `dsolve` can also handle several ordinary differential equations in several variables, with or without initial conditions, eg."
   ]
  },
  {
   "cell_type": "code",
   "execution_count": 14,
   "metadata": {},
   "outputs": [
    {
     "name": "stdout",
     "output_type": "stream",
     "text": [
      "f = (sym)\n",
      "\n",
      "                                 3⋅x\n",
      "  4⋅(C₁⋅sin(4⋅x) + C₂⋅cos(4⋅x))⋅ℯ   \n",
      "\n",
      "g = (sym)\n",
      "\n",
      "                                   3⋅x\n",
      "  (4⋅C₁⋅cos(4⋅x) - 4⋅C₂⋅sin(4⋅x))⋅ℯ   \n",
      "\n"
     ]
    }
   ],
   "source": [
    "syms x f(x) g(x)\n",
    "S = dsolve([diff(f)==3*f+4*g, diff(g)==-4*f+3*g]);\n",
    "f = rhs(S{1}) % MATLAB: f = S.f\n",
    "g = rhs(S{2}) % MATLAB: g = S.g"
   ]
  },
  {
   "cell_type": "markdown",
   "metadata": {
    "slideshow": {
     "slide_type": "subslide"
    }
   },
   "source": [
    "Initial conditions can also be included, eg:"
   ]
  },
  {
   "cell_type": "code",
   "execution_count": 15,
   "metadata": {},
   "outputs": [
    {
     "name": "stdout",
     "output_type": "stream",
     "text": [
      "f = (sym)\n",
      "\n",
      "   3⋅x         \n",
      "  ℯ   ⋅sin(4⋅x)\n",
      "\n",
      "g = (sym)\n",
      "\n",
      "   3⋅x         \n",
      "  ℯ   ⋅cos(4⋅x)\n",
      "\n"
     ]
    }
   ],
   "source": [
    "syms x f(x) g(x)\n",
    "S = dsolve([diff(f)==3*f+4*g, diff(g)==-4*f+3*g], f(0)==0, g(0)==1);\n",
    "f = rhs(S{1}) % MATLAB: f = S.f\n",
    "g = rhs(S{2}) % MATLAB: g = S.g"
   ]
  },
  {
   "cell_type": "markdown",
   "metadata": {},
   "source": [
    "# Numerical solution of ODEs\n",
    "\n",
    "To solve the differential equation\n",
    "$$\\frac{\\mathrm dy}{\\mathrm dx}=f(x,y),\\quad y(x_0)=y_0$$\n",
    "we can use the forward derivative differencing formula:\n",
    "$$y_{n+1}=y_n+hf(x_n,y_n)$$\n",
    "where $x_n$ are de discrete values of $x$, $y_n$ the solutions of $y(x_n)$ and $h=x_{n+1}-x_n$."
   ]
  },
  {
   "cell_type": "code",
   "execution_count": 9,
   "metadata": {
    "collapsed": true
   },
   "outputs": [],
   "source": [
    "function [x, y] = euler_ode(f, x_0, y_0, h, steps)\n",
    "    x = x_0 + h * [0:steps];\n",
    "    y = zeros(1, steps+1);\n",
    "    y(1) = y_0;\n",
    "    for i = 2:steps+1\n",
    "        y(i) = y(i-1) + h * f(x(i-1), y(i-1));\n",
    "    end\n",
    "end"
   ]
  },
  {
   "cell_type": "code",
   "execution_count": 16,
   "metadata": {
    "slideshow": {
     "slide_type": "subslide"
    }
   },
   "outputs": [
    {
     "name": "stdout",
     "output_type": "stream",
     "text": [
      "warning: worked around octave bug #42735\n",
      "warning: called from\n",
      "    plus at line 42 column 5\n"
     ]
    },
    {
     "data": {
      "image/png": "[encoded data removed]",
      "text/plain": [
       "<IPython.core.display.Image object>"
      ]
     },
     "metadata": {},
     "output_type": "display_data"
    }
   ],
   "source": [
    "fh = @(x,y)x+y;\n",
    "[x, y] = euler_ode(fh, 0, 1, 0.1, 10); % MATLAB euler_ode_matlab(fh, 0, 1, 0.01, 100);\n",
    "plot(x,y,'r')\n",
    "hold on\n",
    "syms x y(x)\n",
    "sol = dsolve(diff(y)==x+y, y(0)==1);\n",
    "y_ex = simplify(rhs(sol)); % MATLAB y_ex = sol;\n",
    "ezplot(y_ex, [0,1])"
   ]
  },
  {
   "cell_type": "code",
   "execution_count": null,
   "metadata": {
    "collapsed": true
   },
   "outputs": [],
   "source": []
  }
 ],
 "metadata": {
  "celltoolbar": "Slideshow",
  "kernelspec": {
   "display_name": "Octave",
   "language": "octave",
   "name": "octave"
  },
  "language_info": {
   "file_extension": ".m",
   "help_links": [
    {
     "text": "GNU Octave",
     "url": "https://www.gnu.org/software/octave/support.html"
    },
    {
     "text": "Octave Kernel",
     "url": "https://github.com/Calysto/octave_kernel"
    },
    {
     "text": "MetaKernel Magics",
     "url": "https://github.com/calysto/metakernel/blob/master/metakernel/magics/README.md"
    }
   ],
   "mimetype": "text/x-octave",
   "name": "octave",
   "version": "4.0.3"
  },
  "livereveal": {
   "controls": "false",
   "scroll": "true",
   "start_slideshow_at": "selected"
  }
 },
 "nbformat": 4,
 "nbformat_minor": 2
}
