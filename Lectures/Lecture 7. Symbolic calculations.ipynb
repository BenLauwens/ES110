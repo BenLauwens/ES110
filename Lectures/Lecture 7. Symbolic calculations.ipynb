{
 "cells": [
  {
   "cell_type": "markdown",
   "metadata": {
    "hideCode": false,
    "hidePrompt": false,
    "slideshow": {
     "slide_type": "slide"
    }
   },
   "source": [
    "# Algebraic equations\n",
    "\n",
    "## Solving an algebraic equation\n",
    "\n",
    "If `S` is a symbolic expression, the command `solve`, attempts to find values of the symbolic variable in `S` for which `S` is zero, eg."
   ]
  },
  {
   "cell_type": "code",
   "execution_count": 1,
   "metadata": {
    "hideCode": false,
    "hidePrompt": false
   },
   "outputs": [
    {
     "name": "stdout",
     "output_type": "stream",
     "text": [
      "OctSymPy v2.6.0: this is free software without warranty, see source.\n",
      "Initializing communication with SymPy using a popen2() pipe.\n",
      "Some output from the Python subprocess (pid 3181) might appear next.\n",
      "Python 2.7.14 (default, Nov  3 2017, 10:55:25) \n",
      "[GCC 7.2.1 20170915 (Red Hat 7.2.1-2)] on linux2\n",
      "Type \"help\", \"copyright\", \"credits\" or \"license\" for more information.\n",
      ">>> >>> \n",
      "OctSymPy: Communication established.  SymPy v1.1.1.\n",
      "S = (sym)\n",
      "\n",
      "   2          \n",
      "  x  - 3⋅x - 4\n",
      "\n",
      "ans = (sym 2×1 matrix)\n",
      "\n",
      "  ⎡-1⎤\n",
      "  ⎢  ⎥\n",
      "  ⎣4 ⎦\n",
      "\n"
     ]
    }
   ],
   "source": [
    "pkg load symbolic\n",
    "syms x S\n",
    "S = x^2-3*x-4\n",
    "solve(S)"
   ]
  },
  {
   "cell_type": "markdown",
   "metadata": {
    "hideCode": false,
    "hidePrompt": false,
    "slideshow": {
     "slide_type": "subslide"
    }
   },
   "source": [
    "If more than one symbolic variable is used in the expression `E`, you must specify with respect to which variable you want to solve the equation, eg."
   ]
  },
  {
   "cell_type": "code",
   "execution_count": 2,
   "metadata": {
    "hideCode": false,
    "hidePrompt": false
   },
   "outputs": [
    {
     "name": "stdout",
     "output_type": "stream",
     "text": [
      "E = (sym)\n",
      "\n",
      "     2              \n",
      "  a⋅x  + b⋅x + c = 0\n",
      "\n",
      "ans = (sym 2×1 matrix)\n",
      "\n",
      "  ⎡           _____________⎤\n",
      "  ⎢          ╱           2 ⎥\n",
      "  ⎢   b    ╲╱  -4⋅a⋅c + b  ⎥\n",
      "  ⎢- ─── - ────────────────⎥\n",
      "  ⎢  2⋅a         2⋅a       ⎥\n",
      "  ⎢                        ⎥\n",
      "  ⎢           _____________⎥\n",
      "  ⎢          ╱           2 ⎥\n",
      "  ⎢   b    ╲╱  -4⋅a⋅c + b  ⎥\n",
      "  ⎢- ─── + ────────────────⎥\n",
      "  ⎣  2⋅a         2⋅a       ⎦\n",
      "\n",
      "ans = (sym)\n",
      "\n",
      "         c\n",
      "  -a⋅x - ─\n",
      "         x\n",
      "\n"
     ]
    }
   ],
   "source": [
    "syms a b c x\n",
    "E = a*x^2+b*x+c == 0\n",
    "solve(E, x)\n",
    "solve(E, b)"
   ]
  },
  {
   "cell_type": "markdown",
   "metadata": {
    "hideCode": false,
    "hidePrompt": false,
    "slideshow": {
     "slide_type": "subslide"
    }
   },
   "source": [
    "## Systems of algebraic equations\n",
    "\n",
    "As an example, suppose you have the system\n",
    "$$\n",
    "\\begin{cases}\n",
    "x^2y^2=0\\\\\n",
    "x-\\frac{y}{2}=\\alpha\n",
    "\\end{cases}\n",
    "$$\n",
    "and you want to solve for $x$ and $y$:"
   ]
  },
  {
   "cell_type": "code",
   "execution_count": 3,
   "metadata": {
    "hideCode": false,
    "hidePrompt": false
   },
   "outputs": [
    {
     "name": "stdout",
     "output_type": "stream",
     "text": [
      "x = (sym 2×1 matrix)\n",
      "\n",
      "  ⎡α⎤\n",
      "  ⎢ ⎥\n",
      "  ⎣0⎦\n",
      "\n",
      "y = (sym 2×1 matrix)\n",
      "\n",
      "  ⎡ 0  ⎤\n",
      "  ⎢    ⎥\n",
      "  ⎣-2⋅α⎦\n",
      "\n"
     ]
    }
   ],
   "source": [
    "syms x y alpha\n",
    "[x, y] = solve(x^2*y^2==0, x-y/2==alpha, x, y)"
   ]
  },
  {
   "cell_type": "markdown",
   "metadata": {
    "hideCode": false,
    "hidePrompt": false
   },
   "source": [
    "The solutions are\n",
    "$$\n",
    "\\begin{cases}\n",
    "x = \\alpha,\\ y = 0\\\\\n",
    "x = 0,\\ y=-2\\alpha\n",
    "\\end{cases}\n",
    "$$"
   ]
  },
  {
   "cell_type": "markdown",
   "metadata": {
    "hideCode": false,
    "hidePrompt": false,
    "slideshow": {
     "slide_type": "subslide"
    }
   },
   "source": [
    "This way of assigning output from `solve` is quite successful for \"small\" systems. If you had a 10-by-10 system of equations, typing\n",
    "\n",
    "`[x1, x2, x3, x4, x5, x6, x7, x8, x9, x10] = solve(...)`\n",
    "\n",
    "is both awkward and time consuming. To circumvent this difficulty, `solve` in MATLAB can return a struct whose fields are the solutions, and `solve` in Octave can return a cell array containing structs whose fields are the solution."
   ]
  },
  {
   "cell_type": "code",
   "execution_count": 4,
   "metadata": {
    "hideCode": false,
    "hidePrompt": false
   },
   "outputs": [
    {
     "name": "stdout",
     "output_type": "stream",
     "text": [
      "a = (sym 2×1 matrix)\n",
      "\n",
      "  ⎡-1⎤\n",
      "  ⎢  ⎥\n",
      "  ⎣3 ⎦\n",
      "\n",
      "u = (sym 2×1 matrix)\n",
      "\n",
      "  ⎡1⎤\n",
      "  ⎢ ⎥\n",
      "  ⎣5⎦\n",
      "\n",
      "v = (sym 2×1 matrix)\n",
      "\n",
      "  ⎡0 ⎤\n",
      "  ⎢  ⎥\n",
      "  ⎣-4⎦\n",
      "\n"
     ]
    }
   ],
   "source": [
    "syms a u v\n",
    "S = solve(u^2-v^2==a^2, u+v==1, a^2-2*a==3);\n",
    "sol1 = S{1}; % octave\n",
    "sol2 = S{2}; % octave\n",
    "a = [sol1.a; sol2.a]\n",
    "u = [sol1.u; sol2.u]\n",
    "v = [sol1.v; sol2.v]\n",
    "%S.a % MATLAB\n",
    "%S.u % MATLAB\n",
    "%S.v % MATLAB"
   ]
  },
  {
   "cell_type": "markdown",
   "metadata": {
    "hideCode": false,
    "hidePrompt": false,
    "slideshow": {
     "slide_type": "subslide"
    }
   },
   "source": [
    "## Linear systems\n",
    "\n",
    "Linear systems of equations can also be solved using matrix division, eg."
   ]
  },
  {
   "cell_type": "code",
   "execution_count": 5,
   "metadata": {
    "hideCode": false,
    "hidePrompt": false
   },
   "outputs": [
    {
     "name": "stdout",
     "output_type": "stream",
     "text": [
      "sol = (sym 2×1 matrix)\n",
      "\n",
      "  ⎡  5⋅u   2⋅v⎤\n",
      "  ⎢- ─── + ───⎥\n",
      "  ⎢   3     3 ⎥\n",
      "  ⎢           ⎥\n",
      "  ⎢  4⋅u   v  ⎥\n",
      "  ⎢  ─── - ─  ⎥\n",
      "  ⎣   3    3  ⎦\n",
      "\n",
      "z = (sym 2×1 matrix)\n",
      "\n",
      "  ⎡  5⋅u   2⋅v⎤\n",
      "  ⎢- ─── + ───⎥\n",
      "  ⎢   3     3 ⎥\n",
      "  ⎢           ⎥\n",
      "  ⎢  4⋅u   v  ⎥\n",
      "  ⎢  ─── - ─  ⎥\n",
      "  ⎣   3    3  ⎦\n",
      "\n"
     ]
    }
   ],
   "source": [
    "syms u v x y\n",
    "S = solve(x+2*y-u, 4*x+5*y-v, x, y);\n",
    "sol = [S.x;S.y]\n",
    "A = [1, 2; 4, 5];\n",
    "b = [u; v];\n",
    "z = A\\b"
   ]
  },
  {
   "cell_type": "markdown",
   "metadata": {
    "slideshow": {
     "slide_type": "subslide"
    }
   },
   "source": [
    "## Solving symbolic equations numerically\n",
    "\n",
    "Symbolic equations can also be solved numerically with the command `vpasolve`, eg."
   ]
  },
  {
   "cell_type": "code",
   "execution_count": 47,
   "metadata": {},
   "outputs": [
    {
     "name": "stdout",
     "output_type": "stream",
     "text": [
      "ans = (sym 2×1 matrix)\n",
      "\n",
      "  ⎡1.7324062670465659633407456995303⎤\n",
      "  ⎢                                 ⎥\n",
      "  ⎣2.8297332667835974266598942031498⎦\n",
      "\n"
     ]
    }
   ],
   "source": [
    "syms x y\n",
    "eqns = [y*exp(x) == 16; x^5 == x + x*y^2];\n",
    "vpasolve(eqns, [x; y], [1; 1])"
   ]
  },
  {
   "cell_type": "markdown",
   "metadata": {
    "hideCode": false,
    "hidePrompt": false,
    "slideshow": {
     "slide_type": "slide"
    }
   },
   "source": [
    "# Calculus\n",
    "\n",
    "\n",
    "## Limits\n",
    "\n",
    "### Definition\n",
    "\n",
    "The fundamental idea of a limit is to make calculations on functions as a variable \"gets close to\" or approaches a certain value. Recall that the definition of the derivative is given by a limit\n",
    "$$\n",
    "f^\\prime = \\lim_{h\\rightarrow 0}\\frac{f(x+h)-f(x}{h}\n",
    "$$\n",
    "provided this limit exists. The command `limit` enables you to calculate the limits of functions directly, eg."
   ]
  },
  {
   "cell_type": "code",
   "execution_count": 6,
   "metadata": {
    "hideCode": false,
    "hidePrompt": false
   },
   "outputs": [
    {
     "name": "stdout",
     "output_type": "stream",
     "text": [
      "ans = (sym) -sin(x)\n"
     ]
    }
   ],
   "source": [
    "syms h x\n",
    "limit((cos(x+h)-cos(x))/h, h, 0)"
   ]
  },
  {
   "cell_type": "markdown",
   "metadata": {
    "hideCode": false,
    "hidePrompt": false
   },
   "source": [
    "Another example\n",
    "$$\n",
    "\\lim_{n\\rightarrow\\infty}\\left(1+\\frac{x}{n}\\right)^n=e^x\n",
    "$$\n"
   ]
  },
  {
   "cell_type": "code",
   "execution_count": 7,
   "metadata": {
    "hideCode": false,
    "hidePrompt": false,
    "scrolled": true
   },
   "outputs": [
    {
     "name": "stdout",
     "output_type": "stream",
     "text": [
      "ans = (sym)\n",
      "\n",
      "   x\n",
      "  ℯ \n",
      "\n"
     ]
    }
   ],
   "source": [
    "syms n x\n",
    "limit((1+x/n)^n, n, inf)"
   ]
  },
  {
   "cell_type": "markdown",
   "metadata": {
    "hideCode": false,
    "hidePrompt": false,
    "slideshow": {
     "slide_type": "subslide"
    }
   },
   "source": [
    "### One-sided limits\n",
    "\n",
    "You can also calculate one-sided limits, eg."
   ]
  },
  {
   "cell_type": "code",
   "execution_count": 8,
   "metadata": {
    "hideCode": false,
    "hidePrompt": false
   },
   "outputs": [
    {
     "name": "stdout",
     "output_type": "stream",
     "text": [
      "f = (sym)\n",
      "\n",
      "   x \n",
      "  ───\n",
      "  │x│\n",
      "\n",
      "ans = (sym) -1\n",
      "ans = (sym) 1\n"
     ]
    },
    {
     "data": {
      "image/svg+xml": [
       "<svg height=\"420px\" viewBox=\"0 0 560 420\" width=\"560px\" xmlns=\"http://www.w3.org/2000/svg\" xmlns:xlink=\"http://www.w3.org/1999/xlink\">\n",
       "\n",
       "<title>Gnuplot</title>\n",
       "<desc>Produced by GNUPLOT 5.0 patchlevel 6 </desc>\n",
       "\n",
       "<g id=\"gnuplot_canvas\">\n",
       "\n",
       "<rect fill=\"#ffffff\" height=\"420\" width=\"560\" x=\"0\" y=\"0\"/>\n",
       "<defs>\n",
       "\n",
       "\t<circle id=\"gpDot\" r=\"0.5\" stroke-width=\"0.5\"/>\n",
       "\t<path d=\"M-1,0 h2 M0,-1 v2\" id=\"gpPt0\" stroke=\"currentColor\" stroke-width=\"0.333\"/>\n",
       "\t<path d=\"M-1,-1 L1,1 M1,-1 L-1,1\" id=\"gpPt1\" stroke=\"currentColor\" stroke-width=\"0.333\"/>\n",
       "\t<path d=\"M-1,0 L1,0 M0,-1 L0,1 M-1,-1 L1,1 M-1,1 L1,-1\" id=\"gpPt2\" stroke=\"currentColor\" stroke-width=\"0.333\"/>\n",
       "\t<rect height=\"2\" id=\"gpPt3\" stroke=\"currentColor\" stroke-width=\"0.333\" width=\"2\" x=\"-1\" y=\"-1\"/>\n",
       "\t<rect fill=\"currentColor\" height=\"2\" id=\"gpPt4\" stroke=\"currentColor\" stroke-width=\"0.333\" width=\"2\" x=\"-1\" y=\"-1\"/>\n",
       "\t<circle cx=\"0\" cy=\"0\" id=\"gpPt5\" r=\"1\" stroke=\"currentColor\" stroke-width=\"0.333\"/>\n",
       "\t<use fill=\"currentColor\" id=\"gpPt6\" stroke=\"none\" xlink:href=\"#gpPt5\"/>\n",
       "\t<path d=\"M0,-1.33 L-1.33,0.67 L1.33,0.67 z\" id=\"gpPt7\" stroke=\"currentColor\" stroke-width=\"0.333\"/>\n",
       "\t<use fill=\"currentColor\" id=\"gpPt8\" stroke=\"none\" xlink:href=\"#gpPt7\"/>\n",
       "\t<use id=\"gpPt9\" stroke=\"currentColor\" transform=\"rotate(180)\" xlink:href=\"#gpPt7\"/>\n",
       "\t<use fill=\"currentColor\" id=\"gpPt10\" stroke=\"none\" xlink:href=\"#gpPt9\"/>\n",
       "\t<use id=\"gpPt11\" stroke=\"currentColor\" transform=\"rotate(45)\" xlink:href=\"#gpPt3\"/>\n",
       "\t<use fill=\"currentColor\" id=\"gpPt12\" stroke=\"none\" xlink:href=\"#gpPt11\"/>\n",
       "\t<path d=\"M0,1.330 L1.265,0.411 L0.782,-1.067 L-0.782,-1.076 L-1.265,0.411 z\" id=\"gpPt13\" stroke=\"currentColor\" stroke-width=\"0.333\"/>\n",
       "\t<use fill=\"currentColor\" id=\"gpPt14\" stroke=\"none\" xlink:href=\"#gpPt13\"/>\n",
       "\t<filter filterUnits=\"objectBoundingBox\" height=\"1\" id=\"textbox\" width=\"1\" x=\"0\" y=\"0\">\n",
       "\t  <feFlood flood-color=\"#FFFFFF\" flood-opacity=\"1\" result=\"bgnd\"/>\n",
       "\t  <feComposite in=\"SourceGraphic\" in2=\"bgnd\" operator=\"atop\"/>\n",
       "\t</filter>\n",
       "\t<filter filterUnits=\"objectBoundingBox\" height=\"1\" id=\"greybox\" width=\"1\" x=\"0\" y=\"0\">\n",
       "\t  <feFlood flood-color=\"lightgrey\" flood-opacity=\"1\" result=\"grey\"/>\n",
       "\t  <feComposite in=\"SourceGraphic\" in2=\"grey\" operator=\"atop\"/>\n",
       "\t</filter>\n",
       "</defs>\n",
       "<g color=\"#FFFFFF\" fill=\"none\" stroke=\"currentColor\" stroke-linecap=\"butt\" stroke-linejoin=\"miter\" stroke-width=\"1.00\">\n",
       "</g>\n",
       "<g color=\"black\" fill=\"none\" stroke=\"currentColor\" stroke-linecap=\"butt\" stroke-linejoin=\"miter\" stroke-width=\"1.00\">\n",
       "\t<g shape-rendering=\"crispEdges\" stroke=\"none\">\n",
       "\t\t<polygon fill=\"rgb(255, 255, 255)\" points=\"36.4,381.6 543.0,381.6 543.0,40.7 36.4,40.7 \"/>\n",
       "\t</g>\n",
       "</g>\n",
       "<g color=\"black\" fill=\"none\" stroke=\"currentColor\" stroke-linecap=\"butt\" stroke-linejoin=\"miter\" stroke-width=\"1.00\">\n",
       "\t<path d=\"M36.4,347.5 L44.8,347.5 M543.1,347.5 L534.7,347.5  \" stroke=\"rgb(  0,   0,   0)\"/>\t<g fill=\"rgb(38,38,38)\" font-family=\"Arial\" font-size=\"10.00\" stroke=\"none\" text-anchor=\"end\" transform=\"translate(30.8,350.8)\">\n",
       "\t\t<text><tspan font-family=\"Arial\">-1</tspan></text>\n",
       "\t</g>\n",
       "</g>\n",
       "<g color=\"black\" fill=\"none\" stroke=\"currentColor\" stroke-linecap=\"butt\" stroke-linejoin=\"miter\" stroke-width=\"1.00\">\n",
       "\t<path d=\"M36.4,279.3 L44.8,279.3 M543.1,279.3 L534.7,279.3  \" stroke=\"rgb(  0,   0,   0)\"/>\t<g fill=\"rgb(38,38,38)\" font-family=\"Arial\" font-size=\"10.00\" stroke=\"none\" text-anchor=\"end\" transform=\"translate(30.8,282.6)\">\n",
       "\t\t<text><tspan font-family=\"Arial\">-0.5</tspan></text>\n",
       "\t</g>\n",
       "</g>\n",
       "<g color=\"black\" fill=\"none\" stroke=\"currentColor\" stroke-linecap=\"butt\" stroke-linejoin=\"miter\" stroke-width=\"1.00\">\n",
       "\t<path d=\"M36.4,211.1 L44.8,211.1 M543.1,211.1 L534.7,211.1  \" stroke=\"rgb(  0,   0,   0)\"/>\t<g fill=\"rgb(38,38,38)\" font-family=\"Arial\" font-size=\"10.00\" stroke=\"none\" text-anchor=\"end\" transform=\"translate(30.8,214.4)\">\n",
       "\t\t<text><tspan font-family=\"Arial\">0</tspan></text>\n",
       "\t</g>\n",
       "</g>\n",
       "<g color=\"black\" fill=\"none\" stroke=\"currentColor\" stroke-linecap=\"butt\" stroke-linejoin=\"miter\" stroke-width=\"1.00\">\n",
       "\t<path d=\"M36.4,142.9 L44.8,142.9 M543.1,142.9 L534.7,142.9  \" stroke=\"rgb(  0,   0,   0)\"/>\t<g fill=\"rgb(38,38,38)\" font-family=\"Arial\" font-size=\"10.00\" stroke=\"none\" text-anchor=\"end\" transform=\"translate(30.8,146.2)\">\n",
       "\t\t<text><tspan font-family=\"Arial\">0.5</tspan></text>\n",
       "\t</g>\n",
       "</g>\n",
       "<g color=\"black\" fill=\"none\" stroke=\"currentColor\" stroke-linecap=\"butt\" stroke-linejoin=\"miter\" stroke-width=\"1.00\">\n",
       "\t<path d=\"M36.4,74.7 L44.8,74.7 M543.1,74.7 L534.7,74.7  \" stroke=\"rgb(  0,   0,   0)\"/>\t<g fill=\"rgb(38,38,38)\" font-family=\"Arial\" font-size=\"10.00\" stroke=\"none\" text-anchor=\"end\" transform=\"translate(30.8,78.0)\">\n",
       "\t\t<text><tspan font-family=\"Arial\">1</tspan></text>\n",
       "\t</g>\n",
       "</g>\n",
       "<g color=\"black\" fill=\"none\" stroke=\"currentColor\" stroke-linecap=\"butt\" stroke-linejoin=\"miter\" stroke-width=\"1.00\">\n",
       "\t<path d=\"M36.4,381.6 L36.4,373.2 M36.4,40.6 L36.4,49.0  \" stroke=\"rgb(  0,   0,   0)\"/>\t<g fill=\"rgb(38,38,38)\" font-family=\"Arial\" font-size=\"10.00\" stroke=\"none\" text-anchor=\"middle\" transform=\"translate(36.4,396.9)\">\n",
       "\t\t<text><tspan font-family=\"Arial\">-1</tspan></text>\n",
       "\t</g>\n",
       "</g>\n",
       "<g color=\"black\" fill=\"none\" stroke=\"currentColor\" stroke-linecap=\"butt\" stroke-linejoin=\"miter\" stroke-width=\"1.00\">\n",
       "\t<path d=\"M163.1,381.6 L163.1,373.2 M163.1,40.6 L163.1,49.0  \" stroke=\"rgb(  0,   0,   0)\"/>\t<g fill=\"rgb(38,38,38)\" font-family=\"Arial\" font-size=\"10.00\" stroke=\"none\" text-anchor=\"middle\" transform=\"translate(163.1,396.9)\">\n",
       "\t\t<text><tspan font-family=\"Arial\">-0.5</tspan></text>\n",
       "\t</g>\n",
       "</g>\n",
       "<g color=\"black\" fill=\"none\" stroke=\"currentColor\" stroke-linecap=\"butt\" stroke-linejoin=\"miter\" stroke-width=\"1.00\">\n",
       "\t<path d=\"M289.8,381.6 L289.8,373.2 M289.8,40.6 L289.8,49.0  \" stroke=\"rgb(  0,   0,   0)\"/>\t<g fill=\"rgb(38,38,38)\" font-family=\"Arial\" font-size=\"10.00\" stroke=\"none\" text-anchor=\"middle\" transform=\"translate(289.8,396.9)\">\n",
       "\t\t<text><tspan font-family=\"Arial\">0</tspan></text>\n",
       "\t</g>\n",
       "</g>\n",
       "<g color=\"black\" fill=\"none\" stroke=\"currentColor\" stroke-linecap=\"butt\" stroke-linejoin=\"miter\" stroke-width=\"1.00\">\n",
       "\t<path d=\"M416.4,381.6 L416.4,373.2 M416.4,40.6 L416.4,49.0  \" stroke=\"rgb(  0,   0,   0)\"/>\t<g fill=\"rgb(38,38,38)\" font-family=\"Arial\" font-size=\"10.00\" stroke=\"none\" text-anchor=\"middle\" transform=\"translate(416.4,396.9)\">\n",
       "\t\t<text><tspan font-family=\"Arial\">0.5</tspan></text>\n",
       "\t</g>\n",
       "</g>\n",
       "<g color=\"black\" fill=\"none\" stroke=\"currentColor\" stroke-linecap=\"butt\" stroke-linejoin=\"miter\" stroke-width=\"1.00\">\n",
       "\t<path d=\"M543.1,381.6 L543.1,373.2 M543.1,40.6 L543.1,49.0  \" stroke=\"rgb(  0,   0,   0)\"/>\t<g fill=\"rgb(38,38,38)\" font-family=\"Arial\" font-size=\"10.00\" stroke=\"none\" text-anchor=\"middle\" transform=\"translate(543.1,396.9)\">\n",
       "\t\t<text><tspan font-family=\"Arial\">1</tspan></text>\n",
       "\t</g>\n",
       "</g>\n",
       "<g color=\"black\" fill=\"none\" stroke=\"currentColor\" stroke-linecap=\"butt\" stroke-linejoin=\"miter\" stroke-width=\"1.00\">\n",
       "</g>\n",
       "<g color=\"black\" fill=\"none\" stroke=\"currentColor\" stroke-linecap=\"butt\" stroke-linejoin=\"miter\" stroke-width=\"1.00\">\n",
       "\t<g fill=\"rgb(38,38,38)\" font-family=\"Arial\" font-size=\"11.00\" stroke=\"none\" text-anchor=\"middle\" transform=\"translate(289.7,415.2)\">\n",
       "\t\t<text><tspan font-family=\"Arial\">x</tspan></text>\n",
       "\t</g>\n",
       "</g>\n",
       "<g color=\"black\" fill=\"none\" stroke=\"currentColor\" stroke-linecap=\"butt\" stroke-linejoin=\"miter\" stroke-width=\"1.00\">\n",
       "\t<g fill=\"rgb(0,0,0)\" font-family=\":Bold\" font-size=\"11.00\" stroke=\"none\" text-anchor=\"middle\" transform=\"translate(289.7,21.7)\">\n",
       "\t\t<text><tspan font-family=\"\" font-weight=\"bold\">x / abs (x)</tspan></text>\n",
       "\t</g>\n",
       "</g>\n",
       "<g color=\"black\" fill=\"none\" stroke=\"currentColor\" stroke-linecap=\"butt\" stroke-linejoin=\"miter\" stroke-width=\"1.00\">\n",
       "</g>\n",
       "\t<g id=\"gnuplot_plot_1a\"><title>gnuplot_plot_1a</title>\n",
       "<g color=\"#FFFFFF\" fill=\"none\" stroke=\"currentColor\" stroke-linecap=\"butt\" stroke-linejoin=\"miter\" stroke-width=\"0.50\">\n",
       "</g>\n",
       "<g color=\"black\" fill=\"none\" stroke=\"currentColor\" stroke-linecap=\"butt\" stroke-linejoin=\"miter\" stroke-width=\"0.50\">\n",
       "\t<path d=\"M36.4,347.5 L37.4,347.5 L38.4,347.5 L39.4,347.5 L40.5,347.5 L41.5,347.5 L42.5,347.5 L43.5,347.5   L44.5,347.5 L45.5,347.5 L46.6,347.5 L47.6,347.5 L48.6,347.5 L49.6,347.5 L50.6,347.5 L51.6,347.5   L52.6,347.5 L53.7,347.5 L54.7,347.5 L55.7,347.5 L56.7,347.5 L57.7,347.5 L58.7,347.5 L59.8,347.5   L60.8,347.5 L61.8,347.5 L62.8,347.5 L63.8,347.5 L64.8,347.5 L65.8,347.5 L66.9,347.5 L67.9,347.5   L68.9,347.5 L69.9,347.5 L70.9,347.5 L71.9,347.5 L73.0,347.5 L74.0,347.5 L75.0,347.5 L76.0,347.5   L77.0,347.5 L78.0,347.5 L79.0,347.5 L80.1,347.5 L81.1,347.5 L82.1,347.5 L83.1,347.5 L84.1,347.5   L85.1,347.5 L86.2,347.5 L87.2,347.5 L88.2,347.5 L89.2,347.5 L90.2,347.5 L91.2,347.5 L92.2,347.5   L93.3,347.5 L94.3,347.5 L95.3,347.5 L96.3,347.5 L97.3,347.5 L98.3,347.5 L99.4,347.5 L100.4,347.5   L101.4,347.5 L102.4,347.5 L103.4,347.5 L104.4,347.5 L105.4,347.5 L106.5,347.5 L107.5,347.5 L108.5,347.5   L109.5,347.5 L110.5,347.5 L111.5,347.5 L112.6,347.5 L113.6,347.5 L114.6,347.5 L115.6,347.5 L116.6,347.5   L117.6,347.5 L118.6,347.5 L119.7,347.5 L120.7,347.5 L121.7,347.5 L122.7,347.5 L123.7,347.5 L124.7,347.5   L125.8,347.5 L126.8,347.5 L127.8,347.5 L128.8,347.5 L129.8,347.5 L130.8,347.5 L131.9,347.5 L132.9,347.5   L133.9,347.5 L134.9,347.5 L135.9,347.5 L136.9,347.5 L137.9,347.5 L139.0,347.5 L140.0,347.5 L141.0,347.5   L142.0,347.5 L143.0,347.5 L144.0,347.5 L145.1,347.5 L146.1,347.5 L147.1,347.5 L148.1,347.5 L149.1,347.5   L150.1,347.5 L151.1,347.5 L152.2,347.5 L153.2,347.5 L154.2,347.5 L155.2,347.5 L156.2,347.5 L157.2,347.5   L158.3,347.5 L159.3,347.5 L160.3,347.5 L161.3,347.5 L162.3,347.5 L163.3,347.5 L164.3,347.5 L165.4,347.5   L166.4,347.5 L167.4,347.5 L168.4,347.5 L169.4,347.5 L170.4,347.5 L171.5,347.5 L172.5,347.5 L173.5,347.5   L174.5,347.5 L175.5,347.5 L176.5,347.5 L177.5,347.5 L178.6,347.5 L179.6,347.5 L180.6,347.5 L181.6,347.5   L182.6,347.5 L183.6,347.5 L184.7,347.5 L185.7,347.5 L186.7,347.5 L187.7,347.5 L188.7,347.5 L189.7,347.5   L190.7,347.5 L191.8,347.5 L192.8,347.5 L193.8,347.5 L194.8,347.5 L195.8,347.5 L196.8,347.5 L197.9,347.5   L198.9,347.5 L199.9,347.5 L200.9,347.5 L201.9,347.5 L202.9,347.5 L203.9,347.5 L205.0,347.5 L206.0,347.5   L207.0,347.5 L208.0,347.5 L209.0,347.5 L210.0,347.5 L211.1,347.5 L212.1,347.5 L213.1,347.5 L214.1,347.5   L215.1,347.5 L216.1,347.5 L217.1,347.5 L218.2,347.5 L219.2,347.5 L220.2,347.5 L221.2,347.5 L222.2,347.5   L223.2,347.5 L224.3,347.5 L225.3,347.5 L226.3,347.5 L227.3,347.5 L228.3,347.5 L229.3,347.5 L230.3,347.5   L231.4,347.5 L232.4,347.5 L233.4,347.5 L234.4,347.5 L235.4,347.5 L236.4,347.5 L237.5,347.5 L238.5,347.5   L239.5,347.5 L240.5,347.5 L241.5,347.5 L242.5,347.5 L243.5,347.5 L244.6,347.5 L245.6,347.5 L246.6,347.5   L247.6,347.5 L248.6,347.5 L249.6,347.5 L250.7,347.5 L251.7,347.5 L252.7,347.5 L253.7,347.5 L254.7,347.5   L255.7,347.5 L256.7,347.5 L257.8,347.5 L258.8,347.5 L259.8,347.5 L260.8,347.5 L261.8,347.5 L262.8,347.5   L263.9,347.5 L264.9,347.5 L265.9,347.5 L266.9,347.5 L267.9,347.5 L268.9,347.5 L269.9,347.5 L271.0,347.5   L272.0,347.5 L273.0,347.5 L274.0,347.5 L275.0,347.5 L276.0,347.5 L277.1,347.5 L278.1,347.5 L279.1,347.5   L280.1,347.5 L281.1,347.5 L282.1,347.5 L283.1,347.5 L284.2,347.5 L285.2,347.5 L286.2,347.5 L287.2,347.5   L288.2,347.5 M291.3,74.7 L292.3,74.7 L293.3,74.7 L294.3,74.7 L295.3,74.7 L296.4,74.7 L297.4,74.7   L298.4,74.7 L299.4,74.7 L300.4,74.7 L301.4,74.7 L302.4,74.7 L303.5,74.7 L304.5,74.7 L305.5,74.7   L306.5,74.7 L307.5,74.7 L308.5,74.7 L309.6,74.7 L310.6,74.7 L311.6,74.7 L312.6,74.7 L313.6,74.7   L314.6,74.7 L315.6,74.7 L316.7,74.7 L317.7,74.7 L318.7,74.7 L319.7,74.7 L320.7,74.7 L321.7,74.7   L322.8,74.7 L323.8,74.7 L324.8,74.7 L325.8,74.7 L326.8,74.7 L327.8,74.7 L328.8,74.7 L329.9,74.7   L330.9,74.7 L331.9,74.7 L332.9,74.7 L333.9,74.7 L334.9,74.7 L336.0,74.7 L337.0,74.7 L338.0,74.7   L339.0,74.7 L340.0,74.7 L341.0,74.7 L342.0,74.7 L343.1,74.7 L344.1,74.7 L345.1,74.7 L346.1,74.7   L347.1,74.7 L348.1,74.7 L349.2,74.7 L350.2,74.7 L351.2,74.7 L352.2,74.7 L353.2,74.7 L354.2,74.7   L355.2,74.7 L356.3,74.7 L357.3,74.7 L358.3,74.7 L359.3,74.7 L360.3,74.7 L361.3,74.7 L362.4,74.7   L363.4,74.7 L364.4,74.7 L365.4,74.7 L366.4,74.7 L367.4,74.7 L368.4,74.7 L369.5,74.7 L370.5,74.7   L371.5,74.7 L372.5,74.7 L373.5,74.7 L374.5,74.7 L375.6,74.7 L376.6,74.7 L377.6,74.7 L378.6,74.7   L379.6,74.7 L380.6,74.7 L381.6,74.7 L382.7,74.7 L383.7,74.7 L384.7,74.7 L385.7,74.7 L386.7,74.7   L387.7,74.7 L388.8,74.7 L389.8,74.7 L390.8,74.7 L391.8,74.7 L392.8,74.7 L393.8,74.7 L394.8,74.7   L395.9,74.7 L396.9,74.7 L397.9,74.7 L398.9,74.7 L399.9,74.7 L400.9,74.7 L402.0,74.7 L403.0,74.7   L404.0,74.7 L405.0,74.7 L406.0,74.7 L407.0,74.7 L408.0,74.7 L409.1,74.7 L410.1,74.7 L411.1,74.7   L412.1,74.7 L413.1,74.7 L414.1,74.7 L415.2,74.7 L416.2,74.7 L417.2,74.7 L418.2,74.7 L419.2,74.7   L420.2,74.7 L421.2,74.7 L422.3,74.7 L423.3,74.7 L424.3,74.7 L425.3,74.7 L426.3,74.7 L427.3,74.7   L428.4,74.7 L429.4,74.7 L430.4,74.7 L431.4,74.7 L432.4,74.7 L433.4,74.7 L434.4,74.7 L435.5,74.7   L436.5,74.7 L437.5,74.7 L438.5,74.7 L439.5,74.7 L440.5,74.7 L441.6,74.7 L442.6,74.7 L443.6,74.7   L444.6,74.7 L445.6,74.7 L446.6,74.7 L447.6,74.7 L448.7,74.7 L449.7,74.7 L450.7,74.7 L451.7,74.7   L452.7,74.7 L453.7,74.7 L454.8,74.7 L455.8,74.7 L456.8,74.7 L457.8,74.7 L458.8,74.7 L459.8,74.7   L460.9,74.7 L461.9,74.7 L462.9,74.7 L463.9,74.7 L464.9,74.7 L465.9,74.7 L466.9,74.7 L468.0,74.7   L469.0,74.7 L470.0,74.7 L471.0,74.7 L472.0,74.7 L473.0,74.7 L474.1,74.7 L475.1,74.7 L476.1,74.7   L477.1,74.7 L478.1,74.7 L479.1,74.7 L480.1,74.7 L481.2,74.7 L482.2,74.7 L483.2,74.7 L484.2,74.7   L485.2,74.7 L486.2,74.7 L487.3,74.7 L488.3,74.7 L489.3,74.7 L490.3,74.7 L491.3,74.7 L492.3,74.7   L493.3,74.7 L494.4,74.7 L495.4,74.7 L496.4,74.7 L497.4,74.7 L498.4,74.7 L499.4,74.7 L500.5,74.7   L501.5,74.7 L502.5,74.7 L503.5,74.7 L504.5,74.7 L505.5,74.7 L506.5,74.7 L507.6,74.7 L508.6,74.7   L509.6,74.7 L510.6,74.7 L511.6,74.7 L512.6,74.7 L513.7,74.7 L514.7,74.7 L515.7,74.7 L516.7,74.7   L517.7,74.7 L518.7,74.7 L519.7,74.7 L520.8,74.7 L521.8,74.7 L522.8,74.7 L523.8,74.7 L524.8,74.7   L525.8,74.7 L526.9,74.7 L527.9,74.7 L528.9,74.7 L529.9,74.7 L530.9,74.7 L531.9,74.7 L532.9,74.7   L534.0,74.7 L535.0,74.7 L536.0,74.7 L537.0,74.7 L538.0,74.7 L539.0,74.7 L540.1,74.7 L541.1,74.7   L542.1,74.7 L543.1,74.7  \" stroke=\"rgb(  0, 114, 189)\"/></g>\n",
       "\t</g>\n",
       "<g color=\"#FFFFFF\" fill=\"none\" stroke=\"rgb(  0, 114, 189)\" stroke-linecap=\"butt\" stroke-linejoin=\"miter\" stroke-width=\"2.00\">\n",
       "</g>\n",
       "<g color=\"black\" fill=\"none\" stroke=\"currentColor\" stroke-linecap=\"butt\" stroke-linejoin=\"miter\" stroke-width=\"2.00\">\n",
       "</g>\n",
       "<g color=\"black\" fill=\"none\" stroke=\"black\" stroke-linecap=\"butt\" stroke-linejoin=\"miter\" stroke-width=\"0.50\">\n",
       "</g>\n",
       "<g color=\"black\" fill=\"none\" stroke=\"currentColor\" stroke-linecap=\"butt\" stroke-linejoin=\"miter\" stroke-width=\"0.50\">\n",
       "\t<path d=\"M36.4,381.6 L543.1,381.6  \" stroke=\"rgb( 38,  38,  38)\"/></g>\n",
       "<g color=\"black\" fill=\"none\" stroke=\"currentColor\" stroke-linecap=\"butt\" stroke-linejoin=\"miter\" stroke-width=\"0.50\">\n",
       "\t<path d=\"M36.4,40.6 L543.1,40.6  \" stroke=\"rgb( 38,  38,  38)\"/></g>\n",
       "<g color=\"black\" fill=\"none\" stroke=\"currentColor\" stroke-linecap=\"butt\" stroke-linejoin=\"miter\" stroke-width=\"0.50\">\n",
       "\t<path d=\"M36.4,381.6 L36.4,40.6  \" stroke=\"rgb( 38,  38,  38)\"/></g>\n",
       "<g color=\"black\" fill=\"none\" stroke=\"currentColor\" stroke-linecap=\"butt\" stroke-linejoin=\"miter\" stroke-width=\"0.50\">\n",
       "\t<path d=\"M543.1,381.6 L543.1,40.6  \" stroke=\"rgb( 38,  38,  38)\"/></g>\n",
       "<g color=\"black\" fill=\"none\" stroke=\"rgb( 38,  38,  38)\" stroke-linecap=\"butt\" stroke-linejoin=\"miter\" stroke-width=\"1.00\">\n",
       "</g>\n",
       "<g color=\"black\" fill=\"none\" stroke=\"currentColor\" stroke-linecap=\"butt\" stroke-linejoin=\"miter\" stroke-width=\"1.00\">\n",
       "</g>\n",
       "</g>\n",
       "</svg>"
      ],
      "text/plain": [
       "<IPython.core.display.SVG object>"
      ]
     },
     "metadata": {},
     "output_type": "display_data"
    }
   ],
   "source": [
    "%plot --format svg\n",
    "syms x\n",
    "f = x/abs(x)\n",
    "ezplot(f, [-1, 1])\n",
    "limit(f,x,0,'left')\n",
    "limit(f,x,0,'right')"
   ]
  },
  {
   "cell_type": "markdown",
   "metadata": {
    "hideCode": false,
    "hidePrompt": false,
    "slideshow": {
     "slide_type": "subslide"
    }
   },
   "source": [
    "## Differentiation\n",
    "\n",
    "### Derivatives of symbolic functions\n",
    "\n",
    "To illustrate how to take derivatives, first create a symbolic expression:"
   ]
  },
  {
   "cell_type": "code",
   "execution_count": 9,
   "metadata": {
    "hideCode": false,
    "hidePrompt": false
   },
   "outputs": [
    {
     "name": "stdout",
     "output_type": "stream",
     "text": [
      "f = (sym) sin(5⋅x)\n"
     ]
    }
   ],
   "source": [
    "syms x\n",
    "f = sin(5*x)"
   ]
  },
  {
   "cell_type": "markdown",
   "metadata": {
    "hideCode": false,
    "hidePrompt": false
   },
   "source": [
    "The command"
   ]
  },
  {
   "cell_type": "code",
   "execution_count": 10,
   "metadata": {
    "hideCode": false,
    "hidePrompt": false
   },
   "outputs": [
    {
     "name": "stdout",
     "output_type": "stream",
     "text": [
      "ans = (sym) 5⋅cos(5⋅x)\n"
     ]
    }
   ],
   "source": [
    "diff(f)"
   ]
  },
  {
   "cell_type": "markdown",
   "metadata": {
    "hideCode": false,
    "hidePrompt": false
   },
   "source": [
    "differentiates `f` with respect to `x`."
   ]
  },
  {
   "cell_type": "markdown",
   "metadata": {
    "hideCode": false,
    "hidePrompt": false,
    "slideshow": {
     "slide_type": "subslide"
    }
   },
   "source": [
    "Let"
   ]
  },
  {
   "cell_type": "code",
   "execution_count": 11,
   "metadata": {
    "hideCode": false,
    "hidePrompt": false
   },
   "outputs": [
    {
     "name": "stdout",
     "output_type": "stream",
     "text": [
      "g = (sym)\n",
      "\n",
      "   x       \n",
      "  ℯ ⋅cos(x)\n",
      "\n"
     ]
    }
   ],
   "source": [
    "g = exp(x)*cos(x)"
   ]
  },
  {
   "cell_type": "markdown",
   "metadata": {
    "hideCode": false,
    "hidePrompt": false
   },
   "source": [
    "and differentiate `g`:"
   ]
  },
  {
   "cell_type": "code",
   "execution_count": 12,
   "metadata": {
    "hideCode": false,
    "hidePrompt": false
   },
   "outputs": [
    {
     "name": "stdout",
     "output_type": "stream",
     "text": [
      "ans = (sym)\n",
      "\n",
      "     x           x       \n",
      "  - ℯ ⋅sin(x) + ℯ ⋅cos(x)\n",
      "\n"
     ]
    }
   ],
   "source": [
    "diff(g)"
   ]
  },
  {
   "cell_type": "markdown",
   "metadata": {
    "hideCode": false,
    "hidePrompt": false
   },
   "source": [
    "To take the second derivative of `g`, enter"
   ]
  },
  {
   "cell_type": "code",
   "execution_count": 13,
   "metadata": {
    "hideCode": false,
    "hidePrompt": false
   },
   "outputs": [
    {
     "name": "stdout",
     "output_type": "stream",
     "text": [
      "ans = (sym)\n",
      "\n",
      "      x       \n",
      "  -2⋅ℯ ⋅sin(x)\n",
      "\n"
     ]
    }
   ],
   "source": [
    "diff(g, 2)"
   ]
  },
  {
   "cell_type": "markdown",
   "metadata": {
    "hideCode": false,
    "hidePrompt": false
   },
   "source": [
    "You can get the same result by taking the derivative twice:"
   ]
  },
  {
   "cell_type": "code",
   "execution_count": 14,
   "metadata": {
    "hideCode": false,
    "hidePrompt": false
   },
   "outputs": [
    {
     "name": "stdout",
     "output_type": "stream",
     "text": [
      "ans = (sym)\n",
      "\n",
      "      x       \n",
      "  -2⋅ℯ ⋅sin(x)\n",
      "\n"
     ]
    }
   ],
   "source": [
    "diff(diff(g))"
   ]
  },
  {
   "cell_type": "markdown",
   "metadata": {
    "hideCode": false,
    "hidePrompt": false,
    "slideshow": {
     "slide_type": "subslide"
    }
   },
   "source": [
    "### Derivatives of functions with several variables\n",
    "\n",
    "To differentiate a function that contains more than one symbolic variable, you must specify with respect to which variable you want to differentiate. the `diff` command then calculates the partial derivative of the expression with respect to that variable, eg. the commands"
   ]
  },
  {
   "cell_type": "code",
   "execution_count": 15,
   "metadata": {
    "hideCode": false,
    "hidePrompt": false
   },
   "outputs": [
    {
     "name": "stdout",
     "output_type": "stream",
     "text": [
      "f = (sym) sin(s⋅t)\n",
      "ans = (sym) s⋅cos(s⋅t)\n"
     ]
    }
   ],
   "source": [
    "syms s t\n",
    "f = sin(s*t)\n",
    "diff(f, t)"
   ]
  },
  {
   "cell_type": "markdown",
   "metadata": {
    "hideCode": false,
    "hidePrompt": false
   },
   "source": [
    "calculate the partial derivative of the function $f:\\mathbb R^2\\rightarrow \\mathbb R:(s,t)\\mapsto \\sin(st)$, i.e. \n",
    "$$\n",
    "\\frac{\\partial f}{\\partial t}:\\mathbb R^2\\rightarrow \\mathbb R:(s,t)\\mapsto s\\cos(st)\n",
    "$$\n",
    "\n",
    "To differentiate with respect to the variable `s`, enter"
   ]
  },
  {
   "cell_type": "code",
   "execution_count": 16,
   "metadata": {
    "hideCode": false,
    "hidePrompt": false
   },
   "outputs": [
    {
     "name": "stdout",
     "output_type": "stream",
     "text": [
      "ans = (sym) t⋅cos(s⋅t)\n"
     ]
    }
   ],
   "source": [
    "diff(f, s)"
   ]
  },
  {
   "cell_type": "markdown",
   "metadata": {
    "hideCode": false,
    "hidePrompt": false
   },
   "source": [
    "If you do not specify a variable, MATLAB chooses a default variable by the same rule as described in the previous lecture (`subs` command)."
   ]
  },
  {
   "cell_type": "markdown",
   "metadata": {
    "hideCode": false,
    "hidePrompt": false,
    "slideshow": {
     "slide_type": "subslide"
    }
   },
   "source": [
    "Some more examples:"
   ]
  },
  {
   "cell_type": "code",
   "execution_count": 17,
   "metadata": {
    "hideCode": false,
    "hidePrompt": false
   },
   "outputs": [
    {
     "name": "stdout",
     "output_type": "stream",
     "text": [
      "df = (sym)\n",
      "\n",
      "     n\n",
      "  n⋅x \n",
      "  ────\n",
      "   x  \n",
      "\n",
      "ans = (sym)\n",
      "\n",
      "     n - 1\n",
      "  n⋅x     \n",
      "\n",
      "g = (sym) sin(a⋅t + b)\n",
      "dg = (sym) a⋅cos(a⋅t + b)\n",
      "h = (sym)\n",
      "\n",
      "   ⅈ⋅θ\n",
      "  ℯ   \n",
      "\n",
      "dh = (sym)\n",
      "\n",
      "     ⅈ⋅θ\n",
      "  ⅈ⋅ℯ   \n",
      "\n"
     ]
    }
   ],
   "source": [
    "syms a b x n t theta\n",
    "f = x^n;\n",
    "df = diff(f)\n",
    "simplify(df)\n",
    "g = sin(a*t+b)\n",
    "dg = diff(g)\n",
    "h = exp(1i*theta)\n",
    "dh = diff(h)"
   ]
  },
  {
   "cell_type": "markdown",
   "metadata": {
    "hideCode": false,
    "hidePrompt": false,
    "slideshow": {
     "slide_type": "subslide"
    }
   },
   "source": [
    "### Derivatives of vector (matrix) valued functions\n",
    "\n",
    "The `diff` command can also take a symbolic vector (or matrix) as its input. In this case the differentiation is done element-by-element, eg."
   ]
  },
  {
   "cell_type": "code",
   "execution_count": 18,
   "metadata": {
    "hideCode": false,
    "hidePrompt": false
   },
   "outputs": [
    {
     "name": "stdout",
     "output_type": "stream",
     "text": [
      "ans = (sym 2×2 matrix)\n",
      "\n",
      "  ⎡-a⋅sin(a⋅x)  a⋅cos(a⋅x) ⎤\n",
      "  ⎢                        ⎥\n",
      "  ⎣-a⋅cos(a⋅x)  -a⋅sin(a⋅x)⎦\n",
      "\n"
     ]
    }
   ],
   "source": [
    "syms a x\n",
    "A = [cos(a*x), sin(a*x); -sin(a*x), cos(a*x)];\n",
    "diff(A)"
   ]
  },
  {
   "cell_type": "markdown",
   "metadata": {
    "hideCode": false,
    "hidePrompt": false,
    "slideshow": {
     "slide_type": "subslide"
    }
   },
   "source": [
    "### Jacobian\n",
    "\n",
    "You can also perform differentiation of a column vector with respect to a row vector. Consider the transformation from Euclidean $(x,y,z)$ to spherical ($(r, \\lambda, \\phi)$ coordinates as given by\n",
    "$$\n",
    "\\begin{cases}\n",
    "x = r \\cos\\lambda\\cos\\phi\\\\\n",
    "y = r \\cos\\lambda\\sin\\phi\\\\\n",
    "z = r \\sin\\lambda\n",
    "\\end{cases}\n",
    "$$\n",
    "Note that $\\lambda$ corresponds to elevation or latitude while $\\phi$ denotes azimuth or longitude.\n",
    "\n",
    "To calculate the Jacobian matrix $J$, of this transformation, use the `jacobian` command. The mathematical notation for $J$ is\n",
    "$$\n",
    "J = \\frac{\\partial(x,y,z}{\\partial(r,\\lambda,\\phi}\n",
    "$$\n"
   ]
  },
  {
   "cell_type": "markdown",
   "metadata": {
    "hideCode": false,
    "hidePrompt": false,
    "slideshow": {
     "slide_type": "subslide"
    }
   },
   "source": [
    "The commands"
   ]
  },
  {
   "cell_type": "code",
   "execution_count": 19,
   "metadata": {
    "hideCode": false,
    "hidePrompt": false
   },
   "outputs": [
    {
     "name": "stdout",
     "output_type": "stream",
     "text": [
      "x = (sym) r⋅cos(λ)⋅cos(φ)\n",
      "y = (sym) r⋅sin(φ)⋅cos(λ)\n",
      "z = (sym) r⋅sin(λ)\n",
      "J = (sym 3×3 matrix)\n",
      "\n",
      "  ⎡cos(λ)⋅cos(φ)  -r⋅sin(λ)⋅cos(φ)  -r⋅sin(φ)⋅cos(λ)⎤\n",
      "  ⎢                                                 ⎥\n",
      "  ⎢sin(φ)⋅cos(λ)  -r⋅sin(λ)⋅sin(φ)  r⋅cos(λ)⋅cos(φ) ⎥\n",
      "  ⎢                                                 ⎥\n",
      "  ⎣   sin(λ)          r⋅cos(λ)             0        ⎦\n",
      "\n"
     ]
    }
   ],
   "source": [
    "syms r lambda phi\n",
    "x = r*cos(lambda)*cos(phi)\n",
    "y = r*cos(lambda)*sin(phi)\n",
    "z = r*sin(lambda)\n",
    "J = jacobian([x;y;z],[r lambda phi])"
   ]
  },
  {
   "cell_type": "markdown",
   "metadata": {
    "hideCode": false,
    "hidePrompt": false
   },
   "source": [
    "return the Jacobian and the command"
   ]
  },
  {
   "cell_type": "code",
   "execution_count": 20,
   "metadata": {
    "hideCode": false,
    "hidePrompt": false
   },
   "outputs": [
    {
     "name": "stdout",
     "output_type": "stream",
     "text": [
      "detJ = (sym)\n",
      "\n",
      "    2       \n",
      "  -r ⋅cos(λ)\n",
      "\n"
     ]
    }
   ],
   "source": [
    "detJ = simplify(det(J))"
   ]
  },
  {
   "cell_type": "markdown",
   "metadata": {
    "hideCode": false,
    "hidePrompt": false
   },
   "source": [
    "returns its determinant."
   ]
  },
  {
   "cell_type": "markdown",
   "metadata": {
    "hideCode": false,
    "hidePrompt": false,
    "slideshow": {
     "slide_type": "subslide"
    }
   },
   "source": [
    "### Curl\n",
    "\n",
    "The curl of the vector field $\\bar v = \\begin{bmatrix} v_1(x,y,z)\\\\ v_2(x,y,z)\\\\ v_3(x,y,z)\\end{bmatrix}$ with respect to the vector $\\begin{bmatrix}x\\\\y\\\\z\\end{bmatrix}$ in Cartesian coordinates is the vector\n",
    "$$\n",
    "rot(\\bar v) = \\begin{bmatrix}\n",
    "\\frac{\\partial v_3}{\\partial y}-\\frac{\\partial v_2}{\\partial z}\\\\\n",
    "\\frac{\\partial v_1}{\\partial z}-\\frac{\\partial v_3}{\\partial x}\\\\\n",
    "\\frac{\\partial v_2}{\\partial x}-\\frac{\\partial v_1}{\\partial y}\n",
    "\\end{bmatrix}\n",
    "$$"
   ]
  },
  {
   "cell_type": "code",
   "execution_count": 21,
   "metadata": {
    "hideCode": false,
    "hidePrompt": false
   },
   "outputs": [
    {
     "name": "stdout",
     "output_type": "stream",
     "text": [
      "ans = (sym 3×1 matrix)\n",
      "\n",
      "  ⎡  2  3        3   ⎤\n",
      "  ⎢ x ⋅z  - 2⋅x⋅y ⋅z ⎥\n",
      "  ⎢                  ⎥\n",
      "  ⎢  3  2          3 ⎥\n",
      "  ⎢ x ⋅y  - 2⋅x⋅y⋅z  ⎥\n",
      "  ⎢                  ⎥\n",
      "  ⎢     3        3  2⎥\n",
      "  ⎣- 2⋅x ⋅y⋅z + y ⋅z ⎦\n",
      "\n"
     ]
    }
   ],
   "source": [
    "syms x y z\n",
    "curl([x^3*y^2*z; y^3*z^2*x; z^3*x^2*y], [x; y; z])"
   ]
  },
  {
   "cell_type": "markdown",
   "metadata": {
    "hideCode": false,
    "hidePrompt": false,
    "slideshow": {
     "slide_type": "subslide"
    }
   },
   "source": [
    "### Divergence\n",
    "\n",
    "The divergence of the vector field $\\bar v = \\begin{bmatrix} v_1(x,y,z)\\\\ v_2(x,y,z)\\\\ v_3(x,y,z)\\end{bmatrix}$ with respect to the vector $\\begin{bmatrix}x\\\\y\\\\z\\end{bmatrix}$ in Cartesian coordinates is the scalar\n",
    "$$\n",
    "div(\\bar v) = \\frac{\\partial v_1}{\\partial x}+\\frac{\\partial v_2}{\\partial y}+\\frac{v_3}{\\partial z}\n",
    "$$"
   ]
  },
  {
   "cell_type": "code",
   "execution_count": 22,
   "metadata": {
    "hideCode": false,
    "hidePrompt": false
   },
   "outputs": [
    {
     "name": "stdout",
     "output_type": "stream",
     "text": [
      "ans = (sym)\n",
      "\n",
      "           2    \n",
      "  4⋅y + 9⋅z  + 1\n",
      "\n"
     ]
    }
   ],
   "source": [
    "syms x y z\n",
    "divergence([x; 2*y^2; 3*z^3], [x; y; z])"
   ]
  },
  {
   "cell_type": "markdown",
   "metadata": {
    "hideCode": false,
    "hidePrompt": false,
    "slideshow": {
     "slide_type": "subslide"
    }
   },
   "source": [
    "## Integration\n",
    "\n",
    "### Indefinite integral\n",
    "\n",
    "If `f` is a symbolic function, then `int(f)` attempts to find another symbolic expression `F`, so that `diff(F)=f`. The command `int`return the indefinite integral or antiderivative of `f` (provided one exists in closed form). Similar to differentiation, `int(f, v)` uses the symbolic variable `v` as the variable of integration.\n",
    "\n",
    "Some examples:"
   ]
  },
  {
   "cell_type": "code",
   "execution_count": 23,
   "metadata": {
    "hideCode": false,
    "hidePrompt": false
   },
   "outputs": [
    {
     "name": "stdout",
     "output_type": "stream",
     "text": [
      "ans = (sym)\n",
      "\n",
      "  ⎧log(x)  for n = -1\n",
      "  ⎪                  \n",
      "  ⎪ n + 1            \n",
      "  ⎨x                 \n",
      "  ⎪──────  otherwise \n",
      "  ⎪n + 1             \n",
      "  ⎩                  \n",
      "\n",
      "ans = (sym) x⋅cos(a⋅t + b)\n",
      "ans = (sym)\n",
      "\n",
      "  √π⋅erf(x)\n",
      "  ─────────\n",
      "      2    \n",
      "\n"
     ]
    }
   ],
   "source": [
    "syms x n a b t\n",
    "int(x^n, x)\n",
    "int(cos(a*t+b),x)\n",
    "int(exp(-x^2), x)"
   ]
  },
  {
   "cell_type": "markdown",
   "metadata": {
    "hideCode": false,
    "hidePrompt": false,
    "slideshow": {
     "slide_type": "subslide"
    }
   },
   "source": [
    "### Definite integral\n",
    "\n",
    "Definite integration is also possible. The command `int(f,x,a,b)` is used to find a symbolic expression for\n",
    "$$\n",
    "\\int_a^bf(x)\\mathrm dx\n",
    "$$\n",
    "\n",
    "Some examples:"
   ]
  },
  {
   "cell_type": "code",
   "execution_count": 24,
   "metadata": {
    "hideCode": false,
    "hidePrompt": false
   },
   "outputs": [
    {
     "name": "stdout",
     "output_type": "stream",
     "text": [
      "ans = (sym) log(2)\n",
      "ans = (sym)\n",
      "\n",
      "  √2⋅√π\n",
      "  ─────\n",
      "    2  \n",
      "\n"
     ]
    }
   ],
   "source": [
    "syms x\n",
    "int(1/x, x, 1, 2)\n",
    "int(exp(-x^2/2), x, 0, inf)"
   ]
  },
  {
   "cell_type": "markdown",
   "metadata": {
    "hideCode": false,
    "hidePrompt": false,
    "slideshow": {
     "slide_type": "subslide"
    }
   },
   "source": [
    "### Integration with real parameters\n",
    "\n",
    "One of the subtleties involved in symbolic integration is the \"value\" of various parameters. Eg., if $a$ is any positive real number, the function `f`, defined by"
   ]
  },
  {
   "cell_type": "code",
   "execution_count": 25,
   "metadata": {
    "hideCode": false,
    "hidePrompt": false
   },
   "outputs": [],
   "source": [
    "syms x\n",
    "a = sym('1/2');\n",
    "f = exp(-a*x^2);"
   ]
  },
  {
   "cell_type": "markdown",
   "metadata": {
    "hideCode": false,
    "hidePrompt": false
   },
   "source": [
    "is the positive, bell shaped curve"
   ]
  },
  {
   "cell_type": "code",
   "execution_count": 26,
   "metadata": {
    "hideCode": false,
    "hidePrompt": false
   },
   "outputs": [
    {
     "data": {
      "image/svg+xml": [
       "<svg height=\"420px\" viewBox=\"0 0 560 420\" width=\"560px\" xmlns=\"http://www.w3.org/2000/svg\" xmlns:xlink=\"http://www.w3.org/1999/xlink\">\n",
       "\n",
       "<title>Gnuplot</title>\n",
       "<desc>Produced by GNUPLOT 5.0 patchlevel 6 </desc>\n",
       "\n",
       "<g id=\"gnuplot_canvas\">\n",
       "\n",
       "<rect fill=\"#ffffff\" height=\"420\" width=\"560\" x=\"0\" y=\"0\"/>\n",
       "<defs>\n",
       "\n",
       "\t<circle id=\"gpDot\" r=\"0.5\" stroke-width=\"0.5\"/>\n",
       "\t<path d=\"M-1,0 h2 M0,-1 v2\" id=\"gpPt0\" stroke=\"currentColor\" stroke-width=\"0.333\"/>\n",
       "\t<path d=\"M-1,-1 L1,1 M1,-1 L-1,1\" id=\"gpPt1\" stroke=\"currentColor\" stroke-width=\"0.333\"/>\n",
       "\t<path d=\"M-1,0 L1,0 M0,-1 L0,1 M-1,-1 L1,1 M-1,1 L1,-1\" id=\"gpPt2\" stroke=\"currentColor\" stroke-width=\"0.333\"/>\n",
       "\t<rect height=\"2\" id=\"gpPt3\" stroke=\"currentColor\" stroke-width=\"0.333\" width=\"2\" x=\"-1\" y=\"-1\"/>\n",
       "\t<rect fill=\"currentColor\" height=\"2\" id=\"gpPt4\" stroke=\"currentColor\" stroke-width=\"0.333\" width=\"2\" x=\"-1\" y=\"-1\"/>\n",
       "\t<circle cx=\"0\" cy=\"0\" id=\"gpPt5\" r=\"1\" stroke=\"currentColor\" stroke-width=\"0.333\"/>\n",
       "\t<use fill=\"currentColor\" id=\"gpPt6\" stroke=\"none\" xlink:href=\"#gpPt5\"/>\n",
       "\t<path d=\"M0,-1.33 L-1.33,0.67 L1.33,0.67 z\" id=\"gpPt7\" stroke=\"currentColor\" stroke-width=\"0.333\"/>\n",
       "\t<use fill=\"currentColor\" id=\"gpPt8\" stroke=\"none\" xlink:href=\"#gpPt7\"/>\n",
       "\t<use id=\"gpPt9\" stroke=\"currentColor\" transform=\"rotate(180)\" xlink:href=\"#gpPt7\"/>\n",
       "\t<use fill=\"currentColor\" id=\"gpPt10\" stroke=\"none\" xlink:href=\"#gpPt9\"/>\n",
       "\t<use id=\"gpPt11\" stroke=\"currentColor\" transform=\"rotate(45)\" xlink:href=\"#gpPt3\"/>\n",
       "\t<use fill=\"currentColor\" id=\"gpPt12\" stroke=\"none\" xlink:href=\"#gpPt11\"/>\n",
       "\t<path d=\"M0,1.330 L1.265,0.411 L0.782,-1.067 L-0.782,-1.076 L-1.265,0.411 z\" id=\"gpPt13\" stroke=\"currentColor\" stroke-width=\"0.333\"/>\n",
       "\t<use fill=\"currentColor\" id=\"gpPt14\" stroke=\"none\" xlink:href=\"#gpPt13\"/>\n",
       "\t<filter filterUnits=\"objectBoundingBox\" height=\"1\" id=\"textbox\" width=\"1\" x=\"0\" y=\"0\">\n",
       "\t  <feFlood flood-color=\"#FFFFFF\" flood-opacity=\"1\" result=\"bgnd\"/>\n",
       "\t  <feComposite in=\"SourceGraphic\" in2=\"bgnd\" operator=\"atop\"/>\n",
       "\t</filter>\n",
       "\t<filter filterUnits=\"objectBoundingBox\" height=\"1\" id=\"greybox\" width=\"1\" x=\"0\" y=\"0\">\n",
       "\t  <feFlood flood-color=\"lightgrey\" flood-opacity=\"1\" result=\"grey\"/>\n",
       "\t  <feComposite in=\"SourceGraphic\" in2=\"grey\" operator=\"atop\"/>\n",
       "\t</filter>\n",
       "</defs>\n",
       "<g color=\"#FFFFFF\" fill=\"none\" stroke=\"currentColor\" stroke-linecap=\"butt\" stroke-linejoin=\"miter\" stroke-width=\"1.00\">\n",
       "</g>\n",
       "<g color=\"black\" fill=\"none\" stroke=\"currentColor\" stroke-linecap=\"butt\" stroke-linejoin=\"miter\" stroke-width=\"1.00\">\n",
       "\t<g shape-rendering=\"crispEdges\" stroke=\"none\">\n",
       "\t\t<polygon fill=\"rgb(255, 255, 255)\" points=\"30.8,381.6 543.0,381.6 543.0,40.7 30.8,40.7 \"/>\n",
       "\t</g>\n",
       "</g>\n",
       "<g color=\"black\" fill=\"none\" stroke=\"currentColor\" stroke-linecap=\"butt\" stroke-linejoin=\"miter\" stroke-width=\"1.00\">\n",
       "\t<path d=\"M30.8,352.0 L39.2,352.0 M543.1,352.0 L534.7,352.0  \" stroke=\"rgb(  0,   0,   0)\"/>\t<g fill=\"rgb(38,38,38)\" font-family=\"Arial\" font-size=\"10.00\" stroke=\"none\" text-anchor=\"end\" transform=\"translate(25.2,355.3)\">\n",
       "\t\t<text><tspan font-family=\"Arial\">0</tspan></text>\n",
       "\t</g>\n",
       "</g>\n",
       "<g color=\"black\" fill=\"none\" stroke=\"currentColor\" stroke-linecap=\"butt\" stroke-linejoin=\"miter\" stroke-width=\"1.00\">\n",
       "\t<path d=\"M30.8,296.1 L39.2,296.1 M543.1,296.1 L534.7,296.1  \" stroke=\"rgb(  0,   0,   0)\"/>\t<g fill=\"rgb(38,38,38)\" font-family=\"Arial\" font-size=\"10.00\" stroke=\"none\" text-anchor=\"end\" transform=\"translate(25.2,299.4)\">\n",
       "\t\t<text><tspan font-family=\"Arial\">0.2</tspan></text>\n",
       "\t</g>\n",
       "</g>\n",
       "<g color=\"black\" fill=\"none\" stroke=\"currentColor\" stroke-linecap=\"butt\" stroke-linejoin=\"miter\" stroke-width=\"1.00\">\n",
       "\t<path d=\"M30.8,240.1 L39.2,240.1 M543.1,240.1 L534.7,240.1  \" stroke=\"rgb(  0,   0,   0)\"/>\t<g fill=\"rgb(38,38,38)\" font-family=\"Arial\" font-size=\"10.00\" stroke=\"none\" text-anchor=\"end\" transform=\"translate(25.2,243.4)\">\n",
       "\t\t<text><tspan font-family=\"Arial\">0.4</tspan></text>\n",
       "\t</g>\n",
       "</g>\n",
       "<g color=\"black\" fill=\"none\" stroke=\"currentColor\" stroke-linecap=\"butt\" stroke-linejoin=\"miter\" stroke-width=\"1.00\">\n",
       "\t<path d=\"M30.8,184.1 L39.2,184.1 M543.1,184.1 L534.7,184.1  \" stroke=\"rgb(  0,   0,   0)\"/>\t<g fill=\"rgb(38,38,38)\" font-family=\"Arial\" font-size=\"10.00\" stroke=\"none\" text-anchor=\"end\" transform=\"translate(25.2,187.4)\">\n",
       "\t\t<text><tspan font-family=\"Arial\">0.6</tspan></text>\n",
       "\t</g>\n",
       "</g>\n",
       "<g color=\"black\" fill=\"none\" stroke=\"currentColor\" stroke-linecap=\"butt\" stroke-linejoin=\"miter\" stroke-width=\"1.00\">\n",
       "\t<path d=\"M30.8,128.1 L39.2,128.1 M543.1,128.1 L534.7,128.1  \" stroke=\"rgb(  0,   0,   0)\"/>\t<g fill=\"rgb(38,38,38)\" font-family=\"Arial\" font-size=\"10.00\" stroke=\"none\" text-anchor=\"end\" transform=\"translate(25.2,131.4)\">\n",
       "\t\t<text><tspan font-family=\"Arial\">0.8</tspan></text>\n",
       "\t</g>\n",
       "</g>\n",
       "<g color=\"black\" fill=\"none\" stroke=\"currentColor\" stroke-linecap=\"butt\" stroke-linejoin=\"miter\" stroke-width=\"1.00\">\n",
       "\t<path d=\"M30.8,72.2 L39.2,72.2 M543.1,72.2 L534.7,72.2  \" stroke=\"rgb(  0,   0,   0)\"/>\t<g fill=\"rgb(38,38,38)\" font-family=\"Arial\" font-size=\"10.00\" stroke=\"none\" text-anchor=\"end\" transform=\"translate(25.2,75.5)\">\n",
       "\t\t<text><tspan font-family=\"Arial\">1</tspan></text>\n",
       "\t</g>\n",
       "</g>\n",
       "<g color=\"black\" fill=\"none\" stroke=\"currentColor\" stroke-linecap=\"butt\" stroke-linejoin=\"miter\" stroke-width=\"1.00\">\n",
       "\t<path d=\"M42.3,381.6 L42.3,373.2 M42.3,40.6 L42.3,49.0  \" stroke=\"rgb(  0,   0,   0)\"/>\t<g fill=\"rgb(38,38,38)\" font-family=\"Arial\" font-size=\"10.00\" stroke=\"none\" text-anchor=\"middle\" transform=\"translate(42.3,396.9)\">\n",
       "\t\t<text><tspan font-family=\"Arial\">-3</tspan></text>\n",
       "\t</g>\n",
       "</g>\n",
       "<g color=\"black\" fill=\"none\" stroke=\"currentColor\" stroke-linecap=\"butt\" stroke-linejoin=\"miter\" stroke-width=\"1.00\">\n",
       "\t<path d=\"M123.9,381.6 L123.9,373.2 M123.9,40.6 L123.9,49.0  \" stroke=\"rgb(  0,   0,   0)\"/>\t<g fill=\"rgb(38,38,38)\" font-family=\"Arial\" font-size=\"10.00\" stroke=\"none\" text-anchor=\"middle\" transform=\"translate(123.9,396.9)\">\n",
       "\t\t<text><tspan font-family=\"Arial\">-2</tspan></text>\n",
       "\t</g>\n",
       "</g>\n",
       "<g color=\"black\" fill=\"none\" stroke=\"currentColor\" stroke-linecap=\"butt\" stroke-linejoin=\"miter\" stroke-width=\"1.00\">\n",
       "\t<path d=\"M205.4,381.6 L205.4,373.2 M205.4,40.6 L205.4,49.0  \" stroke=\"rgb(  0,   0,   0)\"/>\t<g fill=\"rgb(38,38,38)\" font-family=\"Arial\" font-size=\"10.00\" stroke=\"none\" text-anchor=\"middle\" transform=\"translate(205.4,396.9)\">\n",
       "\t\t<text><tspan font-family=\"Arial\">-1</tspan></text>\n",
       "\t</g>\n",
       "</g>\n",
       "<g color=\"black\" fill=\"none\" stroke=\"currentColor\" stroke-linecap=\"butt\" stroke-linejoin=\"miter\" stroke-width=\"1.00\">\n",
       "\t<path d=\"M287.0,381.6 L287.0,373.2 M287.0,40.6 L287.0,49.0  \" stroke=\"rgb(  0,   0,   0)\"/>\t<g fill=\"rgb(38,38,38)\" font-family=\"Arial\" font-size=\"10.00\" stroke=\"none\" text-anchor=\"middle\" transform=\"translate(287.0,396.9)\">\n",
       "\t\t<text><tspan font-family=\"Arial\">0</tspan></text>\n",
       "\t</g>\n",
       "</g>\n",
       "<g color=\"black\" fill=\"none\" stroke=\"currentColor\" stroke-linecap=\"butt\" stroke-linejoin=\"miter\" stroke-width=\"1.00\">\n",
       "\t<path d=\"M368.5,381.6 L368.5,373.2 M368.5,40.6 L368.5,49.0  \" stroke=\"rgb(  0,   0,   0)\"/>\t<g fill=\"rgb(38,38,38)\" font-family=\"Arial\" font-size=\"10.00\" stroke=\"none\" text-anchor=\"middle\" transform=\"translate(368.5,396.9)\">\n",
       "\t\t<text><tspan font-family=\"Arial\">1</tspan></text>\n",
       "\t</g>\n",
       "</g>\n",
       "<g color=\"black\" fill=\"none\" stroke=\"currentColor\" stroke-linecap=\"butt\" stroke-linejoin=\"miter\" stroke-width=\"1.00\">\n",
       "\t<path d=\"M450.0,381.6 L450.0,373.2 M450.0,40.6 L450.0,49.0  \" stroke=\"rgb(  0,   0,   0)\"/>\t<g fill=\"rgb(38,38,38)\" font-family=\"Arial\" font-size=\"10.00\" stroke=\"none\" text-anchor=\"middle\" transform=\"translate(450.0,396.9)\">\n",
       "\t\t<text><tspan font-family=\"Arial\">2</tspan></text>\n",
       "\t</g>\n",
       "</g>\n",
       "<g color=\"black\" fill=\"none\" stroke=\"currentColor\" stroke-linecap=\"butt\" stroke-linejoin=\"miter\" stroke-width=\"1.00\">\n",
       "\t<path d=\"M531.6,381.6 L531.6,373.2 M531.6,40.6 L531.6,49.0  \" stroke=\"rgb(  0,   0,   0)\"/>\t<g fill=\"rgb(38,38,38)\" font-family=\"Arial\" font-size=\"10.00\" stroke=\"none\" text-anchor=\"middle\" transform=\"translate(531.6,396.9)\">\n",
       "\t\t<text><tspan font-family=\"Arial\">3</tspan></text>\n",
       "\t</g>\n",
       "</g>\n",
       "<g color=\"black\" fill=\"none\" stroke=\"currentColor\" stroke-linecap=\"butt\" stroke-linejoin=\"miter\" stroke-width=\"1.00\">\n",
       "</g>\n",
       "<g color=\"black\" fill=\"none\" stroke=\"currentColor\" stroke-linecap=\"butt\" stroke-linejoin=\"miter\" stroke-width=\"1.00\">\n",
       "\t<g fill=\"rgb(38,38,38)\" font-family=\"Arial\" font-size=\"11.00\" stroke=\"none\" text-anchor=\"middle\" transform=\"translate(286.9,415.2)\">\n",
       "\t\t<text><tspan font-family=\"Arial\">x</tspan></text>\n",
       "\t</g>\n",
       "</g>\n",
       "<g color=\"black\" fill=\"none\" stroke=\"currentColor\" stroke-linecap=\"butt\" stroke-linejoin=\"miter\" stroke-width=\"1.00\">\n",
       "\t<g fill=\"rgb(0,0,0)\" font-family=\":Bold\" font-size=\"11.00\" stroke=\"none\" text-anchor=\"middle\" transform=\"translate(286.9,21.7)\">\n",
       "\t\t<text><tspan font-family=\"\" font-weight=\"bold\">exp (-x</tspan><tspan dy=\"-5.50px\" font-family=\"\" font-size=\"8.8\" font-weight=\"bold\">2</tspan><tspan dy=\"5.50px\" font-family=\"\" font-size=\"11.0\" font-weight=\"bold\"> / 2)</tspan></text>\n",
       "\t</g>\n",
       "</g>\n",
       "<g color=\"black\" fill=\"none\" stroke=\"currentColor\" stroke-linecap=\"butt\" stroke-linejoin=\"miter\" stroke-width=\"1.00\">\n",
       "</g>\n",
       "\t<g id=\"gnuplot_plot_1a\"><title>gnuplot_plot_1a</title>\n",
       "<g color=\"#FFFFFF\" fill=\"none\" stroke=\"currentColor\" stroke-linecap=\"butt\" stroke-linejoin=\"miter\" stroke-width=\"0.50\">\n",
       "</g>\n",
       "<g color=\"black\" fill=\"none\" stroke=\"currentColor\" stroke-linecap=\"butt\" stroke-linejoin=\"miter\" stroke-width=\"0.50\">\n",
       "\t<path d=\"M30.8,350.0 L31.8,349.9 L32.9,349.9 L33.9,349.8 L34.9,349.7 L35.9,349.6 L37.0,349.5 L38.0,349.4   L39.0,349.3 L40.0,349.2 L41.1,349.1 L42.1,349.0 L43.1,348.8 L44.1,348.7 L45.2,348.6 L46.2,348.5   L47.2,348.3 L48.3,348.2 L49.3,348.0 L50.3,347.9 L51.3,347.7 L52.4,347.6 L53.4,347.4 L54.4,347.2   L55.4,347.1 L56.5,346.9 L57.5,346.7 L58.5,346.5 L59.5,346.3 L60.6,346.1 L61.6,345.9 L62.6,345.7   L63.7,345.5 L64.7,345.2 L65.7,345.0 L66.7,344.7 L67.8,344.5 L68.8,344.2 L69.8,344.0 L70.8,343.7   L71.9,343.4 L72.9,343.1 L73.9,342.8 L74.9,342.5 L76.0,342.2 L77.0,341.9 L78.0,341.5 L79.1,341.2   L80.1,340.8 L81.1,340.5 L82.1,340.1 L83.2,339.7 L84.2,339.3 L85.2,338.9 L86.2,338.5 L87.3,338.1   L88.3,337.7 L89.3,337.2 L90.3,336.8 L91.4,336.3 L92.4,335.8 L93.4,335.3 L94.5,334.8 L95.5,334.3   L96.5,333.7 L97.5,333.2 L98.6,332.6 L99.6,332.1 L100.6,331.5 L101.6,330.9 L102.7,330.3 L103.7,329.7   L104.7,329.0 L105.7,328.4 L106.8,327.7 L107.8,327.0 L108.8,326.3 L109.9,325.6 L110.9,324.9 L111.9,324.1   L112.9,323.3 L114.0,322.6 L115.0,321.8 L116.0,321.0 L117.0,320.1 L118.1,319.3 L119.1,318.4 L120.1,317.5   L121.1,316.6 L122.2,315.7 L123.2,314.8 L124.2,313.8 L125.3,312.9 L126.3,311.9 L127.3,310.9 L128.3,309.9   L129.4,308.8 L130.4,307.8 L131.4,306.7 L132.4,305.6 L133.5,304.5 L134.5,303.3 L135.5,302.2 L136.5,301.0   L137.6,299.8 L138.6,298.6 L139.6,297.3 L140.7,296.1 L141.7,294.8 L142.7,293.5 L143.7,292.2 L144.8,290.9   L145.8,289.5 L146.8,288.1 L147.8,286.8 L148.9,285.3 L149.9,283.9 L150.9,282.5 L151.9,281.0 L153.0,279.5   L154.0,278.0 L155.0,276.4 L156.1,274.9 L157.1,273.3 L158.1,271.7 L159.1,270.1 L160.2,268.5 L161.2,266.9   L162.2,265.2 L163.2,263.5 L164.3,261.8 L165.3,260.1 L166.3,258.4 L167.3,256.6 L168.4,254.8 L169.4,253.0   L170.4,251.2 L171.5,249.4 L172.5,247.6 L173.5,245.7 L174.5,243.9 L175.6,242.0 L176.6,240.1 L177.6,238.2   L178.6,236.2 L179.7,234.3 L180.7,232.3 L181.7,230.4 L182.7,228.4 L183.8,226.4 L184.8,224.4 L185.8,222.3   L186.9,220.3 L187.9,218.3 L188.9,216.2 L189.9,214.2 L191.0,212.1 L192.0,210.0 L193.0,207.9 L194.0,205.8   L195.1,203.7 L196.1,201.6 L197.1,199.5 L198.1,197.4 L199.2,195.3 L200.2,193.1 L201.2,191.0 L202.3,188.9   L203.3,186.7 L204.3,184.6 L205.3,182.5 L206.4,180.3 L207.4,178.2 L208.4,176.1 L209.4,173.9 L210.5,171.8   L211.5,169.7 L212.5,167.5 L213.5,165.4 L214.6,163.3 L215.6,161.2 L216.6,159.1 L217.7,157.0 L218.7,154.9   L219.7,152.9 L220.7,150.8 L221.8,148.7 L222.8,146.7 L223.8,144.7 L224.8,142.7 L225.9,140.7 L226.9,138.7   L227.9,136.7 L228.9,134.7 L230.0,132.8 L231.0,130.9 L232.0,129.0 L233.1,127.1 L234.1,125.2 L235.1,123.4   L236.1,121.6 L237.2,119.8 L238.2,118.0 L239.2,116.3 L240.2,114.5 L241.3,112.8 L242.3,111.2 L243.3,109.5   L244.3,107.9 L245.4,106.3 L246.4,104.7 L247.4,103.2 L248.5,101.7 L249.5,100.2 L250.5,98.8 L251.5,97.4   L252.6,96.0 L253.6,94.6 L254.6,93.3 L255.6,92.1 L256.7,90.8 L257.7,89.6 L258.7,88.5 L259.7,87.3   L260.8,86.2 L261.8,85.2 L262.8,84.2 L263.9,83.2 L264.9,82.2 L265.9,81.3 L266.9,80.5 L268.0,79.7   L269.0,78.9 L270.0,78.1 L271.0,77.4 L272.1,76.8 L273.1,76.2 L274.1,75.6 L275.1,75.1 L276.2,74.6   L277.2,74.2 L278.2,73.8 L279.3,73.4 L280.3,73.1 L281.3,72.8 L282.3,72.6 L283.4,72.4 L284.4,72.3   L285.4,72.2 L286.4,72.2 L287.5,72.2 L288.5,72.2 L289.5,72.3 L290.5,72.4 L291.6,72.6 L292.6,72.8   L293.6,73.1 L294.6,73.4 L295.7,73.8 L296.7,74.2 L297.7,74.6 L298.8,75.1 L299.8,75.6 L300.8,76.2   L301.8,76.8 L302.9,77.4 L303.9,78.1 L304.9,78.9 L305.9,79.7 L307.0,80.5 L308.0,81.3 L309.0,82.2   L310.0,83.2 L311.1,84.2 L312.1,85.2 L313.1,86.2 L314.2,87.3 L315.2,88.5 L316.2,89.6 L317.2,90.8   L318.3,92.1 L319.3,93.3 L320.3,94.6 L321.3,96.0 L322.4,97.4 L323.4,98.8 L324.4,100.2 L325.4,101.7   L326.5,103.2 L327.5,104.7 L328.5,106.3 L329.6,107.9 L330.6,109.5 L331.6,111.2 L332.6,112.8 L333.7,114.5   L334.7,116.3 L335.7,118.0 L336.7,119.8 L337.8,121.6 L338.8,123.4 L339.8,125.2 L340.8,127.1 L341.9,129.0   L342.9,130.9 L343.9,132.8 L345.0,134.7 L346.0,136.7 L347.0,138.7 L348.0,140.7 L349.1,142.7 L350.1,144.7   L351.1,146.7 L352.1,148.7 L353.2,150.8 L354.2,152.9 L355.2,154.9 L356.2,157.0 L357.3,159.1 L358.3,161.2   L359.3,163.3 L360.4,165.4 L361.4,167.5 L362.4,169.7 L363.4,171.8 L364.5,173.9 L365.5,176.1 L366.5,178.2   L367.5,180.3 L368.6,182.5 L369.6,184.6 L370.6,186.7 L371.6,188.9 L372.7,191.0 L373.7,193.1 L374.7,195.3   L375.8,197.4 L376.8,199.5 L377.8,201.6 L378.8,203.7 L379.9,205.8 L380.9,207.9 L381.9,210.0 L382.9,212.1   L384.0,214.2 L385.0,216.2 L386.0,218.3 L387.0,220.3 L388.1,222.3 L389.1,224.4 L390.1,226.4 L391.2,228.4   L392.2,230.4 L393.2,232.3 L394.2,234.3 L395.3,236.2 L396.3,238.2 L397.3,240.1 L398.3,242.0 L399.4,243.9   L400.4,245.7 L401.4,247.6 L402.4,249.4 L403.5,251.2 L404.5,253.0 L405.5,254.8 L406.6,256.6 L407.6,258.4   L408.6,260.1 L409.6,261.8 L410.7,263.5 L411.7,265.2 L412.7,266.9 L413.7,268.5 L414.8,270.1 L415.8,271.7   L416.8,273.3 L417.8,274.9 L418.9,276.4 L419.9,278.0 L420.9,279.5 L422.0,281.0 L423.0,282.5 L424.0,283.9   L425.0,285.3 L426.1,286.8 L427.1,288.1 L428.1,289.5 L429.1,290.9 L430.2,292.2 L431.2,293.5 L432.2,294.8   L433.2,296.1 L434.3,297.3 L435.3,298.6 L436.3,299.8 L437.4,301.0 L438.4,302.2 L439.4,303.3 L440.4,304.5   L441.5,305.6 L442.5,306.7 L443.5,307.8 L444.5,308.8 L445.6,309.9 L446.6,310.9 L447.6,311.9 L448.6,312.9   L449.7,313.8 L450.7,314.8 L451.7,315.7 L452.8,316.6 L453.8,317.5 L454.8,318.4 L455.8,319.3 L456.9,320.1   L457.9,321.0 L458.9,321.8 L459.9,322.6 L461.0,323.3 L462.0,324.1 L463.0,324.9 L464.0,325.6 L465.1,326.3   L466.1,327.0 L467.1,327.7 L468.2,328.4 L469.2,329.0 L470.2,329.7 L471.2,330.3 L472.3,330.9 L473.3,331.5   L474.3,332.1 L475.3,332.6 L476.4,333.2 L477.4,333.7 L478.4,334.3 L479.4,334.8 L480.5,335.3 L481.5,335.8   L482.5,336.3 L483.6,336.8 L484.6,337.2 L485.6,337.7 L486.6,338.1 L487.7,338.5 L488.7,338.9 L489.7,339.3   L490.7,339.7 L491.8,340.1 L492.8,340.5 L493.8,340.8 L494.8,341.2 L495.9,341.5 L496.9,341.9 L497.9,342.2   L499.0,342.5 L500.0,342.8 L501.0,343.1 L502.0,343.4 L503.1,343.7 L504.1,344.0 L505.1,344.2 L506.1,344.5   L507.2,344.7 L508.2,345.0 L509.2,345.2 L510.2,345.5 L511.3,345.7 L512.3,345.9 L513.3,346.1 L514.4,346.3   L515.4,346.5 L516.4,346.7 L517.4,346.9 L518.5,347.1 L519.5,347.2 L520.5,347.4 L521.5,347.6 L522.6,347.7   L523.6,347.9 L524.6,348.0 L525.6,348.2 L526.7,348.3 L527.7,348.5 L528.7,348.6 L529.8,348.7 L530.8,348.8   L531.8,349.0 L532.8,349.1 L533.9,349.2 L534.9,349.3 L535.9,349.4 L536.9,349.5 L538.0,349.6 L539.0,349.7   L540.0,349.8 L541.0,349.9 L542.1,349.9 L543.1,350.0  \" stroke=\"rgb(  0, 114, 189)\"/></g>\n",
       "\t</g>\n",
       "<g color=\"#FFFFFF\" fill=\"none\" stroke=\"rgb(  0, 114, 189)\" stroke-linecap=\"butt\" stroke-linejoin=\"miter\" stroke-width=\"2.00\">\n",
       "</g>\n",
       "<g color=\"black\" fill=\"none\" stroke=\"currentColor\" stroke-linecap=\"butt\" stroke-linejoin=\"miter\" stroke-width=\"2.00\">\n",
       "</g>\n",
       "<g color=\"black\" fill=\"none\" stroke=\"black\" stroke-linecap=\"butt\" stroke-linejoin=\"miter\" stroke-width=\"0.50\">\n",
       "</g>\n",
       "<g color=\"black\" fill=\"none\" stroke=\"currentColor\" stroke-linecap=\"butt\" stroke-linejoin=\"miter\" stroke-width=\"0.50\">\n",
       "\t<path d=\"M30.8,381.6 L543.1,381.6  \" stroke=\"rgb( 38,  38,  38)\"/></g>\n",
       "<g color=\"black\" fill=\"none\" stroke=\"currentColor\" stroke-linecap=\"butt\" stroke-linejoin=\"miter\" stroke-width=\"0.50\">\n",
       "\t<path d=\"M30.8,40.6 L543.1,40.6  \" stroke=\"rgb( 38,  38,  38)\"/></g>\n",
       "<g color=\"black\" fill=\"none\" stroke=\"currentColor\" stroke-linecap=\"butt\" stroke-linejoin=\"miter\" stroke-width=\"0.50\">\n",
       "\t<path d=\"M30.8,381.6 L30.8,40.6  \" stroke=\"rgb( 38,  38,  38)\"/></g>\n",
       "<g color=\"black\" fill=\"none\" stroke=\"currentColor\" stroke-linecap=\"butt\" stroke-linejoin=\"miter\" stroke-width=\"0.50\">\n",
       "\t<path d=\"M543.1,381.6 L543.1,40.6  \" stroke=\"rgb( 38,  38,  38)\"/></g>\n",
       "<g color=\"black\" fill=\"none\" stroke=\"rgb( 38,  38,  38)\" stroke-linecap=\"butt\" stroke-linejoin=\"miter\" stroke-width=\"1.00\">\n",
       "</g>\n",
       "<g color=\"black\" fill=\"none\" stroke=\"currentColor\" stroke-linecap=\"butt\" stroke-linejoin=\"miter\" stroke-width=\"1.00\">\n",
       "</g>\n",
       "</g>\n",
       "</svg>"
      ],
      "text/plain": [
       "<IPython.core.display.SVG object>"
      ]
     },
     "metadata": {},
     "output_type": "display_data"
    }
   ],
   "source": [
    "ezplot(f, [-pi,pi])"
   ]
  },
  {
   "cell_type": "markdown",
   "metadata": {
    "hideCode": false,
    "hidePrompt": false,
    "slideshow": {
     "slide_type": "subslide"
    }
   },
   "source": [
    "However is you try to calculate the integral\n",
    "$$\\int_{-\\infty}^{\\infty}e^{-ax^2}\\mathrm dx$$\n",
    "without assigning a value to $a$, MATLAB assumes that $a$ represents a complex number:"
   ]
  },
  {
   "cell_type": "code",
   "execution_count": 27,
   "metadata": {
    "hideCode": false,
    "hidePrompt": false
   },
   "outputs": [
    {
     "name": "stdout",
     "output_type": "stream",
     "text": [
      "  ⎧     √π                                       π\n",
      "  ⎪     ──       for │periodic_argument(a, ∞)│ ≤ ─\n",
      "  ⎪     √a                                       2\n",
      "  ⎪                                               \n",
      "  ⎪∞                                              \n",
      "  ⎨⌠                                              \n",
      "  ⎪⎮       2                                      \n",
      "  ⎪⎮   -a⋅x                                       \n",
      "  ⎪⎮  ℯ      dx              otherwise            \n",
      "  ⎪⌡                                              \n",
      "  ⎩-∞                                             \n"
     ]
    }
   ],
   "source": [
    "syms x a\n",
    "F = int(exp(-a*x^2), x, -inf, inf);\n",
    "pretty(F) % only needed for MATLAB to beautify the output"
   ]
  },
  {
   "cell_type": "markdown",
   "metadata": {
    "hideCode": false,
    "hidePrompt": false,
    "slideshow": {
     "slide_type": "subslide"
    }
   },
   "source": [
    "If you are only interested in the case where $a$ is a real positive number, you can calculate the integral as follows:"
   ]
  },
  {
   "cell_type": "code",
   "execution_count": 28,
   "metadata": {
    "hideCode": false,
    "hidePrompt": false
   },
   "outputs": [
    {
     "name": "stdout",
     "output_type": "stream",
     "text": [
      "ans = (sym)\n",
      "\n",
      "  √π\n",
      "  ──\n",
      "  √a\n",
      "\n"
     ]
    }
   ],
   "source": [
    "syms a positive\n",
    "syms x\n",
    "int(exp(-a*x^2), x, -inf, inf)"
   ]
  },
  {
   "cell_type": "markdown",
   "metadata": {
    "hideCode": false,
    "hidePrompt": false,
    "slideshow": {
     "slide_type": "subslide"
    }
   },
   "source": [
    "## Symbolic summation\n",
    "\n",
    "You can compute symbolic summations, when they exist, by using the `symsum` command, eg. the series\n",
    "$$1 + \\frac{1}{2^2}+\\frac{1}{3^2}+\\cdots$$ sums to "
   ]
  },
  {
   "cell_type": "code",
   "execution_count": 29,
   "metadata": {
    "hideCode": false,
    "hidePrompt": false
   },
   "outputs": [
    {
     "name": "stdout",
     "output_type": "stream",
     "text": [
      "s1 = (sym)\n",
      "\n",
      "   2\n",
      "  π \n",
      "  ──\n",
      "  6 \n",
      "\n"
     ]
    }
   ],
   "source": [
    "syms k\n",
    "s1 = symsum(1/k^2, 1, inf)"
   ]
  },
  {
   "cell_type": "markdown",
   "metadata": {
    "hideCode": false,
    "hidePrompt": false
   },
   "source": [
    "while the geometric series\n",
    "$$1+\\frac{1}{2}+\\frac{1}{2}^2+\\cdots$$ sums to"
   ]
  },
  {
   "cell_type": "code",
   "execution_count": 30,
   "metadata": {
    "hideCode": false,
    "hidePrompt": false
   },
   "outputs": [
    {
     "name": "stdout",
     "output_type": "stream",
     "text": [
      "s2 = (sym) 2\n"
     ]
    }
   ],
   "source": [
    "syms x k\n",
    "a = sym('1/2');\n",
    "s2 = symsum(a^k, 0, inf)"
   ]
  },
  {
   "cell_type": "markdown",
   "metadata": {
    "hideCode": false,
    "hidePrompt": false,
    "slideshow": {
     "slide_type": "subslide"
    }
   },
   "source": [
    "## Taylor series\n",
    "\n",
    "The statements"
   ]
  },
  {
   "cell_type": "code",
   "execution_count": 31,
   "metadata": {
    "hideCode": false,
    "hidePrompt": false
   },
   "outputs": [
    {
     "name": "stdout",
     "output_type": "stream",
     "text": [
      "x = (sym) x\n",
      "      6       4      2    \n",
      "  49⋅x     5⋅x    2⋅x    1\n",
      "  ────── + ──── + ──── + ─\n",
      "  131220   1458    81    9\n"
     ]
    }
   ],
   "source": [
    "syms a, x\n",
    "f = 1/(5+4*cos(x));\n",
    "pretty(taylor(f, x, 0, 'order', 8))"
   ]
  },
  {
   "cell_type": "markdown",
   "metadata": {
    "hideCode": false,
    "hidePrompt": false
   },
   "source": [
    "gives all the terms up to, but not including, order eight in the Taylor series of $f(x)$ about $x=0$:\n",
    "$$\\sum_{n=0}^\\infty\\frac{1}{n!}(x-0)^nf^{(n)}(0)$$"
   ]
  },
  {
   "cell_type": "code",
   "execution_count": null,
   "metadata": {
    "hideCode": false,
    "hidePrompt": false
   },
   "outputs": [],
   "source": []
  },
  {
   "cell_type": "markdown",
   "metadata": {
    "hideCode": false,
    "hidePrompt": false,
    "slideshow": {
     "slide_type": "subslide"
    }
   },
   "source": [
    "These commands"
   ]
  },
  {
   "cell_type": "code",
   "execution_count": 32,
   "metadata": {
    "hideCode": false,
    "hidePrompt": false
   },
   "outputs": [
    {
     "name": "stdout",
     "output_type": "stream",
     "text": [
      "Waiting..........\n"
     ]
    }
   ],
   "source": [
    "syms x\n",
    "g = exp(x*sin(x));\n",
    "t = taylor(g, x, 2, 'order', 8);"
   ]
  },
  {
   "cell_type": "markdown",
   "metadata": {
    "hideCode": false,
    "hidePrompt": false
   },
   "source": [
    "generate the first 8 nonzero terms of the Taylor series for $g$ about $x=2$.\n",
    "\n",
    "We can plot both functions together to see how well the approximation compares to the actual function:"
   ]
  },
  {
   "cell_type": "code",
   "execution_count": 33,
   "metadata": {},
   "outputs": [
    {
     "data": {
      "image/svg+xml": [
       "<svg height=\"420px\" viewBox=\"0 0 560 420\" width=\"560px\" xmlns=\"http://www.w3.org/2000/svg\" xmlns:xlink=\"http://www.w3.org/1999/xlink\">\n",
       "\n",
       "<title>Gnuplot</title>\n",
       "<desc>Produced by GNUPLOT 5.0 patchlevel 6 </desc>\n",
       "\n",
       "<g id=\"gnuplot_canvas\">\n",
       "\n",
       "<rect fill=\"#ffffff\" height=\"420\" width=\"560\" x=\"0\" y=\"0\"/>\n",
       "<defs>\n",
       "\n",
       "\t<circle id=\"gpDot\" r=\"0.5\" stroke-width=\"0.5\"/>\n",
       "\t<path d=\"M-1,0 h2 M0,-1 v2\" id=\"gpPt0\" stroke=\"currentColor\" stroke-width=\"0.333\"/>\n",
       "\t<path d=\"M-1,-1 L1,1 M1,-1 L-1,1\" id=\"gpPt1\" stroke=\"currentColor\" stroke-width=\"0.333\"/>\n",
       "\t<path d=\"M-1,0 L1,0 M0,-1 L0,1 M-1,-1 L1,1 M-1,1 L1,-1\" id=\"gpPt2\" stroke=\"currentColor\" stroke-width=\"0.333\"/>\n",
       "\t<rect height=\"2\" id=\"gpPt3\" stroke=\"currentColor\" stroke-width=\"0.333\" width=\"2\" x=\"-1\" y=\"-1\"/>\n",
       "\t<rect fill=\"currentColor\" height=\"2\" id=\"gpPt4\" stroke=\"currentColor\" stroke-width=\"0.333\" width=\"2\" x=\"-1\" y=\"-1\"/>\n",
       "\t<circle cx=\"0\" cy=\"0\" id=\"gpPt5\" r=\"1\" stroke=\"currentColor\" stroke-width=\"0.333\"/>\n",
       "\t<use fill=\"currentColor\" id=\"gpPt6\" stroke=\"none\" xlink:href=\"#gpPt5\"/>\n",
       "\t<path d=\"M0,-1.33 L-1.33,0.67 L1.33,0.67 z\" id=\"gpPt7\" stroke=\"currentColor\" stroke-width=\"0.333\"/>\n",
       "\t<use fill=\"currentColor\" id=\"gpPt8\" stroke=\"none\" xlink:href=\"#gpPt7\"/>\n",
       "\t<use id=\"gpPt9\" stroke=\"currentColor\" transform=\"rotate(180)\" xlink:href=\"#gpPt7\"/>\n",
       "\t<use fill=\"currentColor\" id=\"gpPt10\" stroke=\"none\" xlink:href=\"#gpPt9\"/>\n",
       "\t<use id=\"gpPt11\" stroke=\"currentColor\" transform=\"rotate(45)\" xlink:href=\"#gpPt3\"/>\n",
       "\t<use fill=\"currentColor\" id=\"gpPt12\" stroke=\"none\" xlink:href=\"#gpPt11\"/>\n",
       "\t<path d=\"M0,1.330 L1.265,0.411 L0.782,-1.067 L-0.782,-1.076 L-1.265,0.411 z\" id=\"gpPt13\" stroke=\"currentColor\" stroke-width=\"0.333\"/>\n",
       "\t<use fill=\"currentColor\" id=\"gpPt14\" stroke=\"none\" xlink:href=\"#gpPt13\"/>\n",
       "\t<filter filterUnits=\"objectBoundingBox\" height=\"1\" id=\"textbox\" width=\"1\" x=\"0\" y=\"0\">\n",
       "\t  <feFlood flood-color=\"#FFFFFF\" flood-opacity=\"1\" result=\"bgnd\"/>\n",
       "\t  <feComposite in=\"SourceGraphic\" in2=\"bgnd\" operator=\"atop\"/>\n",
       "\t</filter>\n",
       "\t<filter filterUnits=\"objectBoundingBox\" height=\"1\" id=\"greybox\" width=\"1\" x=\"0\" y=\"0\">\n",
       "\t  <feFlood flood-color=\"lightgrey\" flood-opacity=\"1\" result=\"grey\"/>\n",
       "\t  <feComposite in=\"SourceGraphic\" in2=\"grey\" operator=\"atop\"/>\n",
       "\t</filter>\n",
       "</defs>\n",
       "<g color=\"#FFFFFF\" fill=\"none\" stroke=\"currentColor\" stroke-linecap=\"butt\" stroke-linejoin=\"miter\" stroke-width=\"1.00\">\n",
       "</g>\n",
       "<g color=\"black\" fill=\"none\" stroke=\"currentColor\" stroke-linecap=\"butt\" stroke-linejoin=\"miter\" stroke-width=\"1.00\">\n",
       "\t<g shape-rendering=\"crispEdges\" stroke=\"none\">\n",
       "\t\t<polygon fill=\"rgb(255, 255, 255)\" points=\"19.6,381.6 543.0,381.6 543.0,40.7 19.6,40.7 \"/>\n",
       "\t</g>\n",
       "</g>\n",
       "<g color=\"black\" fill=\"none\" stroke=\"currentColor\" stroke-linecap=\"butt\" stroke-linejoin=\"miter\" stroke-width=\"1.00\">\n",
       "\t<path d=\"M19.6,325.1 L28.0,325.1 M543.1,325.1 L534.7,325.1  \" stroke=\"rgb(  0,   0,   0)\"/>\t<g fill=\"rgb(38,38,38)\" font-family=\"Arial\" font-size=\"10.00\" stroke=\"none\" text-anchor=\"end\" transform=\"translate(14.0,328.4)\">\n",
       "\t\t<text><tspan font-family=\"Arial\">2</tspan></text>\n",
       "\t</g>\n",
       "</g>\n",
       "<g color=\"black\" fill=\"none\" stroke=\"currentColor\" stroke-linecap=\"butt\" stroke-linejoin=\"miter\" stroke-width=\"1.00\">\n",
       "\t<path d=\"M19.6,263.4 L28.0,263.4 M543.1,263.4 L534.7,263.4  \" stroke=\"rgb(  0,   0,   0)\"/>\t<g fill=\"rgb(38,38,38)\" font-family=\"Arial\" font-size=\"10.00\" stroke=\"none\" text-anchor=\"end\" transform=\"translate(14.0,266.7)\">\n",
       "\t\t<text><tspan font-family=\"Arial\">3</tspan></text>\n",
       "\t</g>\n",
       "</g>\n",
       "<g color=\"black\" fill=\"none\" stroke=\"currentColor\" stroke-linecap=\"butt\" stroke-linejoin=\"miter\" stroke-width=\"1.00\">\n",
       "\t<path d=\"M19.6,201.8 L28.0,201.8 M543.1,201.8 L534.7,201.8  \" stroke=\"rgb(  0,   0,   0)\"/>\t<g fill=\"rgb(38,38,38)\" font-family=\"Arial\" font-size=\"10.00\" stroke=\"none\" text-anchor=\"end\" transform=\"translate(14.0,205.1)\">\n",
       "\t\t<text><tspan font-family=\"Arial\">4</tspan></text>\n",
       "\t</g>\n",
       "</g>\n",
       "<g color=\"black\" fill=\"none\" stroke=\"currentColor\" stroke-linecap=\"butt\" stroke-linejoin=\"miter\" stroke-width=\"1.00\">\n",
       "\t<path d=\"M19.6,140.1 L28.0,140.1 M543.1,140.1 L534.7,140.1  \" stroke=\"rgb(  0,   0,   0)\"/>\t<g fill=\"rgb(38,38,38)\" font-family=\"Arial\" font-size=\"10.00\" stroke=\"none\" text-anchor=\"end\" transform=\"translate(14.0,143.4)\">\n",
       "\t\t<text><tspan font-family=\"Arial\">5</tspan></text>\n",
       "\t</g>\n",
       "</g>\n",
       "<g color=\"black\" fill=\"none\" stroke=\"currentColor\" stroke-linecap=\"butt\" stroke-linejoin=\"miter\" stroke-width=\"1.00\">\n",
       "\t<path d=\"M19.6,78.4 L28.0,78.4 M543.1,78.4 L534.7,78.4  \" stroke=\"rgb(  0,   0,   0)\"/>\t<g fill=\"rgb(38,38,38)\" font-family=\"Arial\" font-size=\"10.00\" stroke=\"none\" text-anchor=\"end\" transform=\"translate(14.0,81.7)\">\n",
       "\t\t<text><tspan font-family=\"Arial\">6</tspan></text>\n",
       "\t</g>\n",
       "</g>\n",
       "<g color=\"black\" fill=\"none\" stroke=\"currentColor\" stroke-linecap=\"butt\" stroke-linejoin=\"miter\" stroke-width=\"1.00\">\n",
       "\t<path d=\"M19.6,381.6 L19.6,373.2 M19.6,40.6 L19.6,49.0  \" stroke=\"rgb(  0,   0,   0)\"/>\t<g fill=\"rgb(38,38,38)\" font-family=\"Arial\" font-size=\"10.00\" stroke=\"none\" text-anchor=\"middle\" transform=\"translate(19.6,396.9)\">\n",
       "\t\t<text><tspan font-family=\"Arial\">1</tspan></text>\n",
       "\t</g>\n",
       "</g>\n",
       "<g color=\"black\" fill=\"none\" stroke=\"currentColor\" stroke-linecap=\"butt\" stroke-linejoin=\"miter\" stroke-width=\"1.00\">\n",
       "\t<path d=\"M150.5,381.6 L150.5,373.2 M150.5,40.6 L150.5,49.0  \" stroke=\"rgb(  0,   0,   0)\"/>\t<g fill=\"rgb(38,38,38)\" font-family=\"Arial\" font-size=\"10.00\" stroke=\"none\" text-anchor=\"middle\" transform=\"translate(150.5,396.9)\">\n",
       "\t\t<text><tspan font-family=\"Arial\">1.5</tspan></text>\n",
       "\t</g>\n",
       "</g>\n",
       "<g color=\"black\" fill=\"none\" stroke=\"currentColor\" stroke-linecap=\"butt\" stroke-linejoin=\"miter\" stroke-width=\"1.00\">\n",
       "\t<path d=\"M281.4,381.6 L281.4,373.2 M281.4,40.6 L281.4,49.0  \" stroke=\"rgb(  0,   0,   0)\"/>\t<g fill=\"rgb(38,38,38)\" font-family=\"Arial\" font-size=\"10.00\" stroke=\"none\" text-anchor=\"middle\" transform=\"translate(281.4,396.9)\">\n",
       "\t\t<text><tspan font-family=\"Arial\">2</tspan></text>\n",
       "\t</g>\n",
       "</g>\n",
       "<g color=\"black\" fill=\"none\" stroke=\"currentColor\" stroke-linecap=\"butt\" stroke-linejoin=\"miter\" stroke-width=\"1.00\">\n",
       "\t<path d=\"M412.2,381.6 L412.2,373.2 M412.2,40.6 L412.2,49.0  \" stroke=\"rgb(  0,   0,   0)\"/>\t<g fill=\"rgb(38,38,38)\" font-family=\"Arial\" font-size=\"10.00\" stroke=\"none\" text-anchor=\"middle\" transform=\"translate(412.2,396.9)\">\n",
       "\t\t<text><tspan font-family=\"Arial\">2.5</tspan></text>\n",
       "\t</g>\n",
       "</g>\n",
       "<g color=\"black\" fill=\"none\" stroke=\"currentColor\" stroke-linecap=\"butt\" stroke-linejoin=\"miter\" stroke-width=\"1.00\">\n",
       "\t<path d=\"M543.1,381.6 L543.1,373.2 M543.1,40.6 L543.1,49.0  \" stroke=\"rgb(  0,   0,   0)\"/>\t<g fill=\"rgb(38,38,38)\" font-family=\"Arial\" font-size=\"10.00\" stroke=\"none\" text-anchor=\"middle\" transform=\"translate(543.1,396.9)\">\n",
       "\t\t<text><tspan font-family=\"Arial\">3</tspan></text>\n",
       "\t</g>\n",
       "</g>\n",
       "<g color=\"black\" fill=\"none\" stroke=\"currentColor\" stroke-linecap=\"butt\" stroke-linejoin=\"miter\" stroke-width=\"1.00\">\n",
       "</g>\n",
       "<g color=\"black\" fill=\"none\" stroke=\"currentColor\" stroke-linecap=\"butt\" stroke-linejoin=\"miter\" stroke-width=\"1.00\">\n",
       "\t<g fill=\"rgb(38,38,38)\" font-family=\"Arial\" font-size=\"11.00\" stroke=\"none\" text-anchor=\"middle\" transform=\"translate(281.3,415.2)\">\n",
       "\t\t<text><tspan font-family=\"Arial\">x</tspan></text>\n",
       "\t</g>\n",
       "</g>\n",
       "<g color=\"black\" fill=\"none\" stroke=\"currentColor\" stroke-linecap=\"butt\" stroke-linejoin=\"miter\" stroke-width=\"1.00\">\n",
       "\t<g fill=\"rgb(0,0,0)\" font-family=\":Bold\" font-size=\"11.00\" stroke=\"none\" text-anchor=\"middle\" transform=\"translate(281.3,21.7)\">\n",
       "\t\t<text><tspan font-family=\"\" font-weight=\"bold\">Taylor approximation vs actual function</tspan></text>\n",
       "\t</g>\n",
       "</g>\n",
       "<g color=\"black\" fill=\"none\" stroke=\"currentColor\" stroke-linecap=\"butt\" stroke-linejoin=\"miter\" stroke-width=\"1.00\">\n",
       "</g>\n",
       "<g color=\"black\" fill=\"none\" stroke=\"currentColor\" stroke-linecap=\"butt\" stroke-linejoin=\"miter\" stroke-width=\"1.00\">\n",
       "\t<path d=\"M433.5,84.0 L433.5,46.6 L537.5,46.6 L537.5,84.0 L433.5,84.0 Z  \" stroke=\"black\"/></g>\n",
       "\t<g id=\"gnuplot_plot_1a\"><title>Taylor</title>\n",
       "<g color=\"#FFFFFF\" fill=\"none\" stroke=\"black\" stroke-linecap=\"butt\" stroke-linejoin=\"miter\" stroke-width=\"0.50\">\n",
       "</g>\n",
       "<g color=\"black\" fill=\"none\" stroke=\"currentColor\" stroke-linecap=\"butt\" stroke-linejoin=\"miter\" stroke-width=\"0.50\">\n",
       "\t<g fill=\"rgb(0,0,0)\" font-family=\"Arial\" font-size=\"10.00\" stroke=\"none\" text-anchor=\"start\" transform=\"translate(481.5,59.3)\">\n",
       "\t\t<text><tspan font-family=\"Arial\">Taylor</tspan></text>\n",
       "\t</g>\n",
       "</g>\n",
       "<g color=\"black\" fill=\"none\" stroke=\"currentColor\" stroke-linecap=\"butt\" stroke-linejoin=\"miter\" stroke-width=\"0.50\">\n",
       "\t<path d=\"M440.5,56.0 L474.5,56.0 M19.6,299.2 L20.6,298.7 L21.7,298.3 L22.7,297.8 L23.8,297.3 L24.8,296.8   L25.9,296.3 L26.9,295.7 L28.0,295.2 L29.0,294.6 L30.1,294.0 L31.1,293.4 L32.2,292.7 L33.2,292.1   L34.3,291.4 L35.3,290.8 L36.4,290.1 L37.4,289.4 L38.5,288.6 L39.5,287.9 L40.6,287.2 L41.6,286.4   L42.7,285.7 L43.7,284.9 L44.8,284.1 L45.8,283.3 L46.9,282.5 L47.9,281.6 L49.0,280.8 L50.0,280.0   L51.1,279.1 L52.1,278.2 L53.2,277.4 L54.2,276.5 L55.3,275.6 L56.3,274.7 L57.4,273.8 L58.4,272.9   L59.5,271.9 L60.5,271.0 L61.6,270.1 L62.6,269.1 L63.7,268.1 L64.7,267.2 L65.8,266.2 L66.8,265.2   L67.9,264.2 L68.9,263.2 L70.0,262.2 L71.0,261.2 L72.1,260.2 L73.1,259.2 L74.2,258.1 L75.2,257.1   L76.3,256.1 L77.3,255.0 L78.3,254.0 L79.4,252.9 L80.4,251.8 L81.5,250.8 L82.5,249.7 L83.6,248.6   L84.6,247.5 L85.7,246.4 L86.7,245.3 L87.8,244.2 L88.8,243.1 L89.9,242.0 L90.9,240.9 L92.0,239.8   L93.0,238.7 L94.1,237.5 L95.1,236.4 L96.2,235.3 L97.2,234.1 L98.3,233.0 L99.3,231.8 L100.4,230.7   L101.4,229.5 L102.5,228.4 L103.5,227.2 L104.6,226.0 L105.6,224.9 L106.7,223.7 L107.7,222.5 L108.8,221.4   L109.8,220.2 L110.9,219.0 L111.9,217.8 L113.0,216.6 L114.0,215.4 L115.1,214.2 L116.1,213.0 L117.2,211.9   L118.2,210.7 L119.3,209.5 L120.3,208.2 L121.4,207.0 L122.4,205.8 L123.5,204.6 L124.5,203.4 L125.6,202.2   L126.6,201.0 L127.7,199.8 L128.7,198.6 L129.8,197.3 L130.8,196.1 L131.9,194.9 L132.9,193.7 L134.0,192.5   L135.0,191.2 L136.0,190.0 L137.1,188.8 L138.1,187.6 L139.2,186.3 L140.2,185.1 L141.3,183.9 L142.3,182.7   L143.4,181.4 L144.4,180.2 L145.5,179.0 L146.5,177.8 L147.6,176.5 L148.6,175.3 L149.7,174.1 L150.7,172.9   L151.8,171.6 L152.8,170.4 L153.9,169.2 L154.9,168.0 L156.0,166.8 L157.0,165.6 L158.1,164.3 L159.1,163.1   L160.2,161.9 L161.2,160.7 L162.3,159.5 L163.3,158.3 L164.4,157.1 L165.4,155.9 L166.5,154.7 L167.5,153.5   L168.6,152.3 L169.6,151.1 L170.7,149.9 L171.7,148.7 L172.8,147.5 L173.8,146.4 L174.9,145.2 L175.9,144.0   L177.0,142.9 L178.0,141.7 L179.1,140.5 L180.1,139.4 L181.2,138.2 L182.2,137.1 L183.3,135.9 L184.3,134.8   L185.4,133.7 L186.4,132.5 L187.5,131.4 L188.5,130.3 L189.6,129.2 L190.6,128.1 L191.7,127.0 L192.7,125.9   L193.8,124.8 L194.8,123.7 L195.8,122.6 L196.9,121.5 L197.9,120.5 L199.0,119.4 L200.0,118.4 L201.1,117.3   L202.1,116.3 L203.2,115.2 L204.2,114.2 L205.3,113.2 L206.3,112.2 L207.4,111.2 L208.4,110.2 L209.5,109.2   L210.5,108.2 L211.6,107.3 L212.6,106.3 L213.7,105.3 L214.7,104.4 L215.8,103.5 L216.8,102.5 L217.9,101.6   L218.9,100.7 L220.0,99.8 L221.0,98.9 L222.1,98.0 L223.1,97.2 L224.2,96.3 L225.2,95.5 L226.3,94.6   L227.3,93.8 L228.4,93.0 L229.4,92.2 L230.5,91.4 L231.5,90.6 L232.6,89.8 L233.6,89.1 L234.7,88.3   L235.7,87.6 L236.8,86.8 L237.8,86.1 L238.9,85.4 L239.9,84.7 L241.0,84.0 L242.0,83.4 L243.1,82.7   L244.1,82.1 L245.2,81.5 L246.2,80.8 L247.3,80.2 L248.3,79.6 L249.4,79.1 L250.4,78.5 L251.5,77.9   L252.5,77.4 L253.5,76.9 L254.6,76.4 L255.6,75.9 L256.7,75.4 L257.7,74.9 L258.8,74.5 L259.8,74.0   L260.9,73.6 L261.9,73.2 L263.0,72.8 L264.0,72.4 L265.1,72.1 L266.1,71.7 L267.2,71.4 L268.2,71.0   L269.3,70.7 L270.3,70.4 L271.4,70.2 L272.4,69.9 L273.5,69.7 L274.5,69.4 L275.6,69.2 L276.6,69.0   L277.7,68.8 L278.7,68.7 L279.8,68.5 L280.8,68.4 L281.9,68.3 L282.9,68.2 L284.0,68.1 L285.0,68.0   L286.1,68.0 L287.1,67.9 L288.2,67.9 L289.2,67.9 L290.3,67.9 L291.3,68.0 L292.4,68.0 L293.4,68.1   L294.5,68.2 L295.5,68.2 L296.6,68.4 L297.6,68.5 L298.7,68.6 L299.7,68.8 L300.8,69.0 L301.8,69.2   L302.9,69.4 L303.9,69.6 L305.0,69.9 L306.0,70.1 L307.1,70.4 L308.1,70.7 L309.2,71.0 L310.2,71.4   L311.2,71.7 L312.3,72.1 L313.3,72.5 L314.4,72.9 L315.4,73.3 L316.5,73.7 L317.5,74.2 L318.6,74.6   L319.6,75.1 L320.7,75.6 L321.7,76.1 L322.8,76.7 L323.8,77.2 L324.9,77.8 L325.9,78.4 L327.0,79.0   L328.0,79.6 L329.1,80.2 L330.1,80.9 L331.2,81.5 L332.2,82.2 L333.3,82.9 L334.3,83.6 L335.4,84.4   L336.4,85.1 L337.5,85.9 L338.5,86.6 L339.6,87.4 L340.6,88.2 L341.7,89.1 L342.7,89.9 L343.8,90.8   L344.8,91.6 L345.9,92.5 L346.9,93.4 L348.0,94.3 L349.0,95.3 L350.1,96.2 L351.1,97.2 L352.2,98.1   L353.2,99.1 L354.3,100.1 L355.3,101.1 L356.4,102.2 L357.4,103.2 L358.5,104.3 L359.5,105.3 L360.6,106.4   L361.6,107.5 L362.7,108.6 L363.7,109.7 L364.8,110.9 L365.8,112.0 L366.9,113.2 L367.9,114.4 L368.9,115.6   L370.0,116.8 L371.0,118.0 L372.1,119.2 L373.1,120.4 L374.2,121.7 L375.2,122.9 L376.3,124.2 L377.3,125.5   L378.4,126.8 L379.4,128.1 L380.5,129.4 L381.5,130.7 L382.6,132.0 L383.6,133.4 L384.7,134.7 L385.7,136.1   L386.8,137.5 L387.8,138.9 L388.9,140.3 L389.9,141.7 L391.0,143.1 L392.0,144.5 L393.1,145.9 L394.1,147.4   L395.2,148.8 L396.2,150.3 L397.3,151.8 L398.3,153.2 L399.4,154.7 L400.4,156.2 L401.5,157.7 L402.5,159.2   L403.6,160.7 L404.6,162.2 L405.7,163.8 L406.7,165.3 L407.8,166.9 L408.8,168.4 L409.9,170.0 L410.9,171.5   L412.0,173.1 L413.0,174.7 L414.1,176.3 L415.1,177.9 L416.2,179.4 L417.2,181.1 L418.3,182.7 L419.3,184.3   L420.4,185.9 L421.4,187.5 L422.5,189.2 L423.5,190.8 L424.6,192.4 L425.6,194.1 L426.7,195.7 L427.7,197.4   L428.7,199.1 L429.8,200.7 L430.8,202.4 L431.9,204.1 L432.9,205.8 L434.0,207.5 L435.0,209.1 L436.1,210.8   L437.1,212.6 L438.2,214.3 L439.2,216.0 L440.3,217.7 L441.3,219.4 L442.4,221.2 L443.4,222.9 L444.5,224.6   L445.5,226.4 L446.6,228.1 L447.6,229.9 L448.7,231.7 L449.7,233.4 L450.8,235.2 L451.8,237.0 L452.9,238.8   L453.9,240.6 L455.0,242.4 L456.0,244.2 L457.1,246.0 L458.1,247.8 L459.2,249.6 L460.2,251.4 L461.3,253.3   L462.3,255.1 L463.4,257.0 L464.4,258.9 L465.5,260.7 L466.5,262.6 L467.6,264.5 L468.6,266.4 L469.7,268.3   L470.7,270.2 L471.8,272.2 L472.8,274.1 L473.9,276.0 L474.9,278.0 L476.0,280.0 L477.0,282.0 L478.1,284.0   L479.1,286.0 L480.2,288.0 L481.2,290.0 L482.3,292.1 L483.3,294.2 L484.4,296.3 L485.4,298.4 L486.4,300.5   L487.5,302.6 L488.5,304.8 L489.6,306.9 L490.6,309.1 L491.7,311.4 L492.7,313.6 L493.8,315.8 L494.8,318.1   L495.9,320.4 L496.9,322.8 L498.0,325.1 L499.0,327.5 L500.1,329.9 L501.1,332.3 L502.2,334.8 L503.2,337.3   L504.3,339.8 L505.3,342.3 L506.4,344.9 L507.4,347.5 L508.5,350.2 L509.5,352.8 L510.6,355.6 L511.6,358.3   L512.7,361.1 L513.7,364.0 L514.8,366.8 L515.8,369.8 L516.9,372.7 L517.9,375.7 L519.0,378.8 L519.9,381.6    \" stroke=\"rgb(  0, 114, 189)\"/></g>\n",
       "\t</g>\n",
       "\t<g id=\"gnuplot_plot_2a\"><title>Function</title>\n",
       "<g color=\"black\" fill=\"none\" stroke=\"currentColor\" stroke-linecap=\"butt\" stroke-linejoin=\"miter\" stroke-width=\"0.50\">\n",
       "\t<g fill=\"rgb(0,0,0)\" font-family=\"Arial\" font-size=\"10.00\" stroke=\"none\" text-anchor=\"start\" transform=\"translate(481.5,78.0)\">\n",
       "\t\t<text><tspan font-family=\"Arial\">Function</tspan></text>\n",
       "\t</g>\n",
       "</g>\n",
       "<g color=\"black\" fill=\"none\" stroke=\"currentColor\" stroke-linecap=\"butt\" stroke-linejoin=\"miter\" stroke-width=\"0.50\">\n",
       "\t<path d=\"M440.5,74.7 L474.5,74.7 M19.6,305.4 L20.6,304.6 L21.7,303.8 L22.7,303.0 L23.8,302.2 L24.8,301.4   L25.9,300.5 L26.9,299.7 L28.0,298.9 L29.0,298.1 L30.1,297.2 L31.1,296.4 L32.2,295.5 L33.2,294.7   L34.3,293.8 L35.3,292.9 L36.4,292.1 L37.4,291.2 L38.5,290.3 L39.5,289.4 L40.6,288.6 L41.6,287.7   L42.7,286.8 L43.7,285.9 L44.8,284.9 L45.8,284.0 L46.9,283.1 L47.9,282.2 L49.0,281.3 L50.0,280.3   L51.1,279.4 L52.1,278.4 L53.2,277.5 L54.2,276.5 L55.3,275.6 L56.3,274.6 L57.4,273.7 L58.4,272.7   L59.5,271.7 L60.5,270.7 L61.6,269.7 L62.6,268.8 L63.7,267.8 L64.7,266.8 L65.8,265.8 L66.8,264.7   L67.9,263.7 L68.9,262.7 L70.0,261.7 L71.0,260.7 L72.1,259.6 L73.1,258.6 L74.2,257.5 L75.2,256.5   L76.3,255.5 L77.3,254.4 L78.3,253.3 L79.4,252.3 L80.4,251.2 L81.5,250.1 L82.5,249.1 L83.6,248.0   L84.6,246.9 L85.7,245.8 L86.7,244.7 L87.8,243.6 L88.8,242.5 L89.9,241.4 L90.9,240.3 L92.0,239.2   L93.0,238.1 L94.1,237.0 L95.1,235.8 L96.2,234.7 L97.2,233.6 L98.3,232.5 L99.3,231.3 L100.4,230.2   L101.4,229.0 L102.5,227.9 L103.5,226.7 L104.6,225.6 L105.6,224.4 L106.7,223.3 L107.7,222.1 L108.8,220.9   L109.8,219.8 L110.9,218.6 L111.9,217.4 L113.0,216.3 L114.0,215.1 L115.1,213.9 L116.1,212.7 L117.2,211.5   L118.2,210.3 L119.3,209.1 L120.3,208.0 L121.4,206.8 L122.4,205.6 L123.5,204.4 L124.5,203.2 L125.6,202.0   L126.6,200.8 L127.7,199.5 L128.7,198.3 L129.8,197.1 L130.8,195.9 L131.9,194.7 L132.9,193.5 L134.0,192.3   L135.0,191.1 L136.0,189.8 L137.1,188.6 L138.1,187.4 L139.2,186.2 L140.2,185.0 L141.3,183.8 L142.3,182.5   L143.4,181.3 L144.4,180.1 L145.5,178.9 L146.5,177.7 L147.6,176.4 L148.6,175.2 L149.7,174.0 L150.7,172.8   L151.8,171.6 L152.8,170.3 L153.9,169.1 L154.9,167.9 L156.0,166.7 L157.0,165.5 L158.1,164.3 L159.1,163.1   L160.2,161.9 L161.2,160.7 L162.3,159.4 L163.3,158.2 L164.4,157.0 L165.4,155.8 L166.5,154.6 L167.5,153.5   L168.6,152.3 L169.6,151.1 L170.7,149.9 L171.7,148.7 L172.8,147.5 L173.8,146.3 L174.9,145.2 L175.9,144.0   L177.0,142.8 L178.0,141.7 L179.1,140.5 L180.1,139.4 L181.2,138.2 L182.2,137.1 L183.3,135.9 L184.3,134.8   L185.4,133.6 L186.4,132.5 L187.5,131.4 L188.5,130.3 L189.6,129.2 L190.6,128.1 L191.7,127.0 L192.7,125.9   L193.8,124.8 L194.8,123.7 L195.8,122.6 L196.9,121.5 L197.9,120.5 L199.0,119.4 L200.0,118.4 L201.1,117.3   L202.1,116.3 L203.2,115.2 L204.2,114.2 L205.3,113.2 L206.3,112.2 L207.4,111.2 L208.4,110.2 L209.5,109.2   L210.5,108.2 L211.6,107.3 L212.6,106.3 L213.7,105.3 L214.7,104.4 L215.8,103.5 L216.8,102.5 L217.9,101.6   L218.9,100.7 L220.0,99.8 L221.0,98.9 L222.1,98.0 L223.1,97.2 L224.2,96.3 L225.2,95.5 L226.3,94.6   L227.3,93.8 L228.4,93.0 L229.4,92.2 L230.5,91.4 L231.5,90.6 L232.6,89.8 L233.6,89.1 L234.7,88.3   L235.7,87.6 L236.8,86.8 L237.8,86.1 L238.9,85.4 L239.9,84.7 L241.0,84.0 L242.0,83.4 L243.1,82.7   L244.1,82.1 L245.2,81.5 L246.2,80.8 L247.3,80.2 L248.3,79.6 L249.4,79.1 L250.4,78.5 L251.5,77.9   L252.5,77.4 L253.5,76.9 L254.6,76.4 L255.6,75.9 L256.7,75.4 L257.7,74.9 L258.8,74.5 L259.8,74.0   L260.9,73.6 L261.9,73.2 L263.0,72.8 L264.0,72.4 L265.1,72.1 L266.1,71.7 L267.2,71.4 L268.2,71.0   L269.3,70.7 L270.3,70.4 L271.4,70.2 L272.4,69.9 L273.5,69.7 L274.5,69.4 L275.6,69.2 L276.6,69.0   L277.7,68.8 L278.7,68.7 L279.8,68.5 L280.8,68.4 L281.9,68.3 L282.9,68.2 L284.0,68.1 L285.0,68.0   L286.1,68.0 L287.1,67.9 L288.2,67.9 L289.2,67.9 L290.3,67.9 L291.3,68.0 L292.4,68.0 L293.4,68.1   L294.5,68.2 L295.5,68.2 L296.6,68.4 L297.6,68.5 L298.7,68.6 L299.7,68.8 L300.8,69.0 L301.8,69.2   L302.9,69.4 L303.9,69.6 L305.0,69.9 L306.0,70.1 L307.1,70.4 L308.1,70.7 L309.2,71.0 L310.2,71.4   L311.2,71.7 L312.3,72.1 L313.3,72.5 L314.4,72.9 L315.4,73.3 L316.5,73.7 L317.5,74.2 L318.6,74.6   L319.6,75.1 L320.7,75.6 L321.7,76.1 L322.8,76.7 L323.8,77.2 L324.9,77.8 L325.9,78.4 L327.0,79.0   L328.0,79.6 L329.1,80.2 L330.1,80.9 L331.2,81.5 L332.2,82.2 L333.3,82.9 L334.3,83.6 L335.4,84.4   L336.4,85.1 L337.5,85.9 L338.5,86.6 L339.6,87.4 L340.6,88.2 L341.7,89.1 L342.7,89.9 L343.8,90.8   L344.8,91.6 L345.9,92.5 L346.9,93.4 L348.0,94.3 L349.0,95.3 L350.1,96.2 L351.1,97.2 L352.2,98.1   L353.2,99.1 L354.3,100.1 L355.3,101.1 L356.4,102.2 L357.4,103.2 L358.5,104.3 L359.5,105.3 L360.6,106.4   L361.6,107.5 L362.7,108.6 L363.7,109.7 L364.8,110.9 L365.8,112.0 L366.9,113.2 L367.9,114.4 L368.9,115.5   L370.0,116.7 L371.0,117.9 L372.1,119.2 L373.1,120.4 L374.2,121.6 L375.2,122.9 L376.3,124.2 L377.3,125.4   L378.4,126.7 L379.4,128.0 L380.5,129.3 L381.5,130.7 L382.6,132.0 L383.6,133.3 L384.7,134.7 L385.7,136.0   L386.8,137.4 L387.8,138.8 L388.9,140.2 L389.9,141.6 L391.0,143.0 L392.0,144.4 L393.1,145.8 L394.1,147.3   L395.2,148.7 L396.2,150.2 L397.3,151.6 L398.3,153.1 L399.4,154.5 L400.4,156.0 L401.5,157.5 L402.5,159.0   L403.6,160.5 L404.6,162.0 L405.7,163.5 L406.7,165.0 L407.8,166.6 L408.8,168.1 L409.9,169.6 L410.9,171.2   L412.0,172.7 L413.0,174.3 L414.1,175.8 L415.1,177.4 L416.2,178.9 L417.2,180.5 L418.3,182.1 L419.3,183.7   L420.4,185.3 L421.4,186.8 L422.5,188.4 L423.5,190.0 L424.6,191.6 L425.6,193.2 L426.7,194.8 L427.7,196.4   L428.7,198.0 L429.8,199.6 L430.8,201.2 L431.9,202.8 L432.9,204.4 L434.0,206.1 L435.0,207.7 L436.1,209.3   L437.1,210.9 L438.2,212.5 L439.2,214.1 L440.3,215.8 L441.3,217.4 L442.4,219.0 L443.4,220.6 L444.5,222.2   L445.5,223.8 L446.6,225.5 L447.6,227.1 L448.7,228.7 L449.7,230.3 L450.8,231.9 L451.8,233.5 L452.9,235.1   L453.9,236.7 L455.0,238.3 L456.0,239.9 L457.1,241.6 L458.1,243.1 L459.2,244.7 L460.2,246.3 L461.3,247.9   L462.3,249.5 L463.4,251.1 L464.4,252.7 L465.5,254.3 L466.5,255.8 L467.6,257.4 L468.6,259.0 L469.7,260.5   L470.7,262.1 L471.8,263.6 L472.8,265.2 L473.9,266.7 L474.9,268.3 L476.0,269.8 L477.0,271.3 L478.1,272.9   L479.1,274.4 L480.2,275.9 L481.2,277.4 L482.3,278.9 L483.3,280.4 L484.4,281.9 L485.4,283.4 L486.4,284.9   L487.5,286.4 L488.5,287.8 L489.6,289.3 L490.6,290.8 L491.7,292.2 L492.7,293.6 L493.8,295.1 L494.8,296.5   L495.9,297.9 L496.9,299.4 L498.0,300.8 L499.0,302.2 L500.1,303.6 L501.1,305.0 L502.2,306.4 L503.2,307.7   L504.3,309.1 L505.3,310.5 L506.4,311.8 L507.4,313.2 L508.5,314.5 L509.5,315.9 L510.6,317.2 L511.6,318.5   L512.7,319.8 L513.7,321.1 L514.8,322.4 L515.8,323.7 L516.9,325.0 L517.9,326.2 L519.0,327.5 L520.0,328.8   L521.1,330.0 L522.1,331.2 L523.2,332.5 L524.2,333.7 L525.3,334.9 L526.3,336.1 L527.4,337.3 L528.4,338.5   L529.5,339.7 L530.5,340.9 L531.6,342.0 L532.6,343.2 L533.7,344.3 L534.7,345.5 L535.8,346.6 L536.8,347.7   L537.9,348.8 L538.9,349.9 L540.0,351.0 L541.0,352.1 L542.1,353.2 L543.1,354.3  \" stroke=\"rgb(217,  83,  25)\"/></g>\n",
       "\t</g>\n",
       "<g color=\"#FFFFFF\" fill=\"none\" stroke=\"rgb(217,  83,  25)\" stroke-linecap=\"butt\" stroke-linejoin=\"miter\" stroke-width=\"2.00\">\n",
       "</g>\n",
       "<g color=\"black\" fill=\"none\" stroke=\"currentColor\" stroke-linecap=\"butt\" stroke-linejoin=\"miter\" stroke-width=\"2.00\">\n",
       "</g>\n",
       "<g color=\"black\" fill=\"none\" stroke=\"black\" stroke-linecap=\"butt\" stroke-linejoin=\"miter\" stroke-width=\"0.50\">\n",
       "</g>\n",
       "<g color=\"black\" fill=\"none\" stroke=\"currentColor\" stroke-linecap=\"butt\" stroke-linejoin=\"miter\" stroke-width=\"0.50\">\n",
       "\t<path d=\"M19.6,381.6 L543.1,381.6  \" stroke=\"rgb( 38,  38,  38)\"/></g>\n",
       "<g color=\"black\" fill=\"none\" stroke=\"currentColor\" stroke-linecap=\"butt\" stroke-linejoin=\"miter\" stroke-width=\"0.50\">\n",
       "\t<path d=\"M19.6,40.6 L543.1,40.6  \" stroke=\"rgb( 38,  38,  38)\"/></g>\n",
       "<g color=\"black\" fill=\"none\" stroke=\"currentColor\" stroke-linecap=\"butt\" stroke-linejoin=\"miter\" stroke-width=\"0.50\">\n",
       "\t<path d=\"M19.6,381.6 L19.6,40.6  \" stroke=\"rgb( 38,  38,  38)\"/></g>\n",
       "<g color=\"black\" fill=\"none\" stroke=\"currentColor\" stroke-linecap=\"butt\" stroke-linejoin=\"miter\" stroke-width=\"0.50\">\n",
       "\t<path d=\"M543.1,381.6 L543.1,40.6  \" stroke=\"rgb( 38,  38,  38)\"/></g>\n",
       "<g color=\"black\" fill=\"none\" stroke=\"rgb( 38,  38,  38)\" stroke-linecap=\"butt\" stroke-linejoin=\"miter\" stroke-width=\"1.00\">\n",
       "</g>\n",
       "<g color=\"black\" fill=\"none\" stroke=\"currentColor\" stroke-linecap=\"butt\" stroke-linejoin=\"miter\" stroke-width=\"1.00\">\n",
       "</g>\n",
       "</g>\n",
       "</svg>"
      ],
      "text/plain": [
       "<IPython.core.display.SVG object>"
      ]
     },
     "metadata": {},
     "output_type": "display_data"
    }
   ],
   "source": [
    "ezplot(t, [1, 3]);\n",
    "hold on\n",
    "ezplot(g, [1, 3]);\n",
    "title('Taylor approximation vs actual function');\n",
    "legend('Taylor', 'Function');"
   ]
  },
  {
   "cell_type": "markdown",
   "metadata": {
    "hideCode": false,
    "hidePrompt": false,
    "slideshow": {
     "slide_type": "subslide"
    }
   },
   "source": [
    "Taylor series in multiple variables are also possible, eg."
   ]
  },
  {
   "cell_type": "code",
   "execution_count": 34,
   "metadata": {
    "hideCode": false,
    "hidePrompt": false
   },
   "outputs": [
    {
     "name": "stdout",
     "output_type": "stream",
     "text": [
      "ans = (sym)\n",
      "\n",
      "   2  2          \n",
      "  x ⋅y           \n",
      "  ───── + x⋅y + 1\n",
      "    2            \n",
      "\n"
     ]
    }
   ],
   "source": [
    "syms x y\n",
    "f = exp(x*y);\n",
    "taylor(f, [x,y] , [0,0], 'order', 5)"
   ]
  },
  {
   "cell_type": "code",
   "execution_count": null,
   "metadata": {
    "hideCode": false,
    "hidePrompt": false
   },
   "outputs": [],
   "source": []
  }
 ],
 "metadata": {
  "celltoolbar": "Slideshow",
  "hide_code_all_hidden": false,
  "kernelspec": {
   "display_name": "Octave",
   "language": "octave",
   "name": "octave"
  },
  "language_info": {
   "file_extension": ".m",
   "help_links": [
    {
     "text": "GNU Octave",
     "url": "https://www.gnu.org/software/octave/support.html"
    },
    {
     "text": "Octave Kernel",
     "url": "https://github.com/Calysto/octave_kernel"
    },
    {
     "text": "MetaKernel Magics",
     "url": "https://github.com/calysto/metakernel/blob/master/metakernel/magics/README.md"
    }
   ],
   "mimetype": "text/x-octave",
   "name": "octave",
   "version": "4.2.1"
  },
  "livereveal": {
   "controls": "false",
   "scroll": "true",
   "start_slideshow_at": "selected"
  }
 },
 "nbformat": 4,
 "nbformat_minor": 2
}
