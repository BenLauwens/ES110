{
 "cells": [
  {
   "cell_type": "markdown",
   "metadata": {
    "slideshow": {
     "slide_type": "slide"
    }
   },
   "source": [
    "# Creating a plot\n",
    "\n",
    "The `plot` function has different forms, depending on the input arguments. If `y` is a vector, `plot(y)` produces a piecewise linear graph of the elements of `y` versus the index of the elements of `y`. If you specify two vectors as arguments, `plot(x,y)` produces a graph of `y` versus `x`. Eg."
   ]
  },
  {
   "cell_type": "code",
   "execution_count": null,
   "metadata": {
    "slideshow": {
     "slide_type": "fragment"
    }
   },
   "outputs": [],
   "source": [
    "x = 0:pi/100:2*pi;\n",
    "y = sin(x);\n",
    "plot(x,y)\n",
    "title('Plot of the Sine functions', 'FontSize', 12)"
   ]
  },
  {
   "cell_type": "markdown",
   "metadata": {
    "slideshow": {
     "slide_type": "subslide"
    }
   },
   "source": [
    "Now we can label the axes and add a title."
   ]
  },
  {
   "cell_type": "code",
   "execution_count": null,
   "metadata": {},
   "outputs": [],
   "source": [
    "plot(x,y)\n",
    "xlabel('x = 0:2\\pi');\n",
    "ylabel('Sine of x');\n",
    "title('Plot of the Sine functions', 'FontSize', 12)"
   ]
  },
  {
   "cell_type": "markdown",
   "metadata": {
    "slideshow": {
     "slide_type": "-"
    }
   },
   "source": [
    "**Remark**:  The character `\\pi` creates the symbol $\\pi$."
   ]
  },
  {
   "cell_type": "markdown",
   "metadata": {
    "slideshow": {
     "slide_type": "slide"
    }
   },
   "source": [
    "# Multiple data sets in one graph\n",
    "\n",
    "Multiple `x`-`y` pair arguments create multiple graphs with a single call to plot. MATLAB cycles through a predefined (but user settable) list of colors to allow discrimination among sets of data. Eg."
   ]
  },
  {
   "cell_type": "code",
   "execution_count": null,
   "metadata": {
    "slideshow": {
     "slide_type": "fragment"
    }
   },
   "outputs": [],
   "source": [
    "x = 0:pi/100:2*pi;\n",
    "y1 = sin(x);\n",
    "y2 = sin(x-pi/6);\n",
    "y3 = sin(x-pi/3);\n",
    "plot(x,y1,x,y2,x,y3)\n",
    "title('Multiple plots', 'FontSize', 12)"
   ]
  },
  {
   "cell_type": "markdown",
   "metadata": {
    "slideshow": {
     "slide_type": "subslide"
    }
   },
   "source": [
    "The `legend` command provides an easy way to identify the individual plots:"
   ]
  },
  {
   "cell_type": "code",
   "execution_count": null,
   "metadata": {},
   "outputs": [],
   "source": [
    "plot(x,y1,x,y2,x,y3)\n",
    "legend('sin(x)', 'sin(x-\\pi/6)', 'sin(x-\\pi/3)')\n",
    "title('Multiple plots with legend', 'FontSize', 12)\n",
    "grid on"
   ]
  },
  {
   "cell_type": "markdown",
   "metadata": {
    "slideshow": {
     "slide_type": "slide"
    }
   },
   "source": [
    "# Specifying line styles and colors\n",
    "\n",
    "It is possible to specify color, line styles, and markers (such as plus signs or circles) when your plot your data using the plot command: \n",
    "\n",
    "`plot(x,y,color_style_marker)`.\n",
    "\n",
    "`color_style_marker` is a string containing from one to four characters (enclosed in single quotation marks) constructed from a color, a line style, and a marker type:\n",
    "\n",
    "- Color strings are `c`, `m`, `y`, `r`, `g`, `b`, `w` and `k`. The correspond to cyan, magenta, yellow, red, green, blue, white and black.\n",
    "- Line style strings are `-` for solid, `--` for dashed, `.` for dotted, `-.` for dash-dot. Omit the line style for no line. (MATLAB only)\n",
    "- The marker types are `.`, `+`, `o`, `*` and `x`; the filled marker types are `s` for square, `d` for diamond, `^` for up triangle, `v` for down triangle, `>` for right triangle, `<` for left triangle, `p` for pentagram, `h` for hexagram. Omit the marker type for no marker."
   ]
  },
  {
   "cell_type": "code",
   "execution_count": null,
   "metadata": {
    "slideshow": {
     "slide_type": "subslide"
    }
   },
   "outputs": [],
   "source": [
    "plot(x, y, 'r:')\n",
    "title('Red dotted', 'FontSize', 12)"
   ]
  },
  {
   "cell_type": "code",
   "execution_count": null,
   "metadata": {
    "slideshow": {
     "slide_type": "subslide"
    }
   },
   "outputs": [],
   "source": [
    "plot(x,y, 'rd')\n",
    "title('Red diamonds', 'FontSize', 12)"
   ]
  },
  {
   "cell_type": "markdown",
   "metadata": {
    "slideshow": {
     "slide_type": "subslide"
    }
   },
   "source": [
    "You might want to use fewer data points to plot the markers that you use than you use to plot the lines"
   ]
  },
  {
   "cell_type": "code",
   "execution_count": null,
   "metadata": {},
   "outputs": [],
   "source": [
    "x1 = 0:pi/100:2*pi;\n",
    "x2 = 0:pi/10:2*pi;\n",
    "plot(x1, sin(x1), 'r--', x2, sin(x2), 'k+')\n",
    "title('Red dashed and black + markers', 'FontSize', 12)"
   ]
  },
  {
   "cell_type": "markdown",
   "metadata": {
    "collapsed": true,
    "slideshow": {
     "slide_type": "slide"
    }
   },
   "source": [
    "# Multiple plots in one figure\n",
    "\n",
    "The `subplot` command enables you to display multiple plots in the same window. Typing\n",
    "\n",
    "`subplot(m,n,p)`\n",
    "\n",
    "partitions the figure into an `m`-by`n` matrix of small subplots and selects the `p`th subplot for the current plot. The plots are numbered along first the top row of the figure, then the second row, and so on. Eg."
   ]
  },
  {
   "cell_type": "code",
   "execution_count": null,
   "metadata": {
    "slideshow": {
     "slide_type": "subslide"
    }
   },
   "outputs": [],
   "source": [
    "t = 0:pi/10:2*pi;\n",
    "title('Multiple plots', 'FontSize', 12)\n",
    "subplot(2,2,1); plot(t, sin(t))\n",
    "subplot(2,2,2); plot(t, cos(t))\n",
    "subplot(2,2,3); plot(sin(t), cos(t))\n",
    "subplot(2,2,4); plot(cos(t), sin(t))"
   ]
  },
  {
   "cell_type": "code",
   "execution_count": null,
   "metadata": {
    "collapsed": true
   },
   "outputs": [],
   "source": [
    "%plot --format svg"
   ]
  },
  {
   "cell_type": "code",
   "execution_count": null,
   "metadata": {
    "collapsed": true
   },
   "outputs": [],
   "source": []
  }
 ],
 "metadata": {
  "celltoolbar": "Slideshow",
  "kernelspec": {
   "display_name": "Octave",
   "language": "octave",
   "name": "octave"
  },
  "language_info": {
   "file_extension": ".m",
   "help_links": [
    {
     "text": "GNU Octave",
     "url": "https://www.gnu.org/software/octave/support.html"
    },
    {
     "text": "Octave Kernel",
     "url": "https://github.com/Calysto/octave_kernel"
    },
    {
     "text": "MetaKernel Magics",
     "url": "https://github.com/calysto/metakernel/blob/master/metakernel/magics/README.md"
    }
   ],
   "mimetype": "text/x-octave",
   "name": "octave",
   "version": "4.2.1"
  }
 },
 "nbformat": 4,
 "nbformat_minor": 2
}
