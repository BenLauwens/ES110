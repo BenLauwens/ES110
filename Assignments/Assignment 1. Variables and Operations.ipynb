{
 "cells": [
  {
   "cell_type": "markdown",
   "metadata": {
    "hideCode": false,
    "hidePrompt": false
   },
   "source": [
    "# Variables"
   ]
  },
  {
   "cell_type": "markdown",
   "metadata": {
    "hideCode": false,
    "hidePrompt": false
   },
   "source": [
    "Create the variables `birthday`, `birthmonth` and `birthyear` and initialise with your birth date. Hide the output."
   ]
  },
  {
   "cell_type": "code",
   "execution_count": 1,
   "metadata": {
    "collapsed": true
   },
   "outputs": [],
   "source": [
    "birthday=9;\n",
    "birthmonth=1;\n",
    "birthyear=1977;"
   ]
  },
  {
   "cell_type": "markdown",
   "metadata": {
    "hideCode": false,
    "hidePrompt": false
   },
   "source": [
    "Assign to the variable `birthyear` the value `2017`. Show the output."
   ]
  },
  {
   "cell_type": "code",
   "execution_count": 2,
   "metadata": {},
   "outputs": [
    {
     "name": "stdout",
     "output_type": "stream",
     "text": [
      "birthyear =  2017\n"
     ]
    }
   ],
   "source": [
    "birthyear=2017"
   ]
  },
  {
   "cell_type": "markdown",
   "metadata": {
    "hideCode": false,
    "hidePrompt": false
   },
   "source": [
    "What is the value of the variable `birthmonth`?"
   ]
  },
  {
   "cell_type": "code",
   "execution_count": 5,
   "metadata": {},
   "outputs": [
    {
     "name": "stdout",
     "output_type": "stream",
     "text": [
      "birthmonth =  1\n",
      " 1\n"
     ]
    }
   ],
   "source": [
    "birthmonth\n",
    "disp(birthmonth)"
   ]
  },
  {
   "cell_type": "markdown",
   "metadata": {
    "hideCode": false,
    "hidePrompt": false
   },
   "source": [
    "Undefine the variable `birthday`."
   ]
  },
  {
   "cell_type": "code",
   "execution_count": 7,
   "metadata": {},
   "outputs": [],
   "source": [
    "clear birthday"
   ]
  },
  {
   "cell_type": "markdown",
   "metadata": {
    "hideCode": false,
    "hidePrompt": false
   },
   "source": [
    "Verify that the variable `birthday` is no longer equal to your birth day and add a comment that this will not work."
   ]
  },
  {
   "cell_type": "code",
   "execution_count": 8,
   "metadata": {
    "hideCode": false,
    "hidePrompt": false
   },
   "outputs": [
    {
     "name": "stdout",
     "output_type": "stream",
     "text": [
      "error: 'birthday' undefined near line 1 column 1\n"
     ]
    }
   ],
   "source": [
    "birthday"
   ]
  },
  {
   "cell_type": "markdown",
   "metadata": {},
   "source": [
    "# Operations\n",
    "\n",
    "Evaluate:\n",
    "\n",
    "\\begin{equation}\\frac{2}{9}\\cdot\\frac{3}{8}\\end{equation}\n",
    "\\begin{equation}\\frac{1}{3}+\\frac{1}{6}\\end{equation}\n",
    "\\begin{equation}\\frac{3}{\\frac{1}{2}+\\frac{1}{3}}\\end{equation}"
   ]
  },
  {
   "cell_type": "code",
   "execution_count": 9,
   "metadata": {},
   "outputs": [
    {
     "name": "stdout",
     "output_type": "stream",
     "text": [
      "ans =  0.083333\n",
      "ans =  0.50000\n",
      "ans =  3.6000\n"
     ]
    }
   ],
   "source": [
    "2/9*3/8\n",
    "1/3+1/6\n",
    "3/(1/2+1/3)"
   ]
  },
  {
   "cell_type": "markdown",
   "metadata": {},
   "source": [
    "Verify (and explain if you don't get the right answer!)\n",
    "\\begin{equation}\\frac{5}{1+\\sqrt5}=\\frac{5\\sqrt5-5}{4}\\end{equation}"
   ]
  },
  {
   "cell_type": "code",
   "execution_count": 14,
   "metadata": {},
   "outputs": [
    {
     "name": "stdout",
     "output_type": "stream",
     "text": [
      "ans =    0.00000000000000e+00\n",
      "ans =    1.54508497187474e+00\n",
      "ans =    1.54508497187474e+00\n",
      "ans =   -2.22044604925031e-16\n",
      "ans =    2.22044604925031e-16\n"
     ]
    }
   ],
   "source": [
    "5/(1+sqrt(5)) == (5*sqrt(5)-5)/4\n",
    "format long e\n",
    "5/(1+sqrt(5))\n",
    "(5*sqrt(5)-5)/4\n",
    "5/(1+sqrt(5)) - (5*sqrt(5)-5)/4\n",
    "eps"
   ]
  },
  {
   "cell_type": "markdown",
   "metadata": {},
   "source": [
    "Explain why the following statement is false: `rem(-1,3) == mod(-1,3)`."
   ]
  },
  {
   "cell_type": "code",
   "execution_count": 17,
   "metadata": {},
   "outputs": [
    {
     "name": "stdout",
     "output_type": "stream",
     "text": [
      "ans =   -1.00000000000000e+00\n",
      "ans =    2.00000000000000e+00\n"
     ]
    }
   ],
   "source": [
    "format long e\n",
    "rem(-1,3)\n",
    "mod(-1,3)"
   ]
  },
  {
   "cell_type": "markdown",
   "metadata": {},
   "source": [
    "Verify $\\sin^2x+cos^2x=1$ for $x$ in $0$, $\\frac{\\pi}{6}$, $\\frac{\\pi}{4}$, $\\frac{\\pi}{3}$, $\\frac{\\pi}{2}$ and $\\pi$."
   ]
  },
  {
   "cell_type": "code",
   "execution_count": 20,
   "metadata": {},
   "outputs": [
    {
     "name": "stdout",
     "output_type": "stream",
     "text": [
      "ans =  1\n",
      "ans =  1\n",
      "ans =  1\n",
      "ans =  1\n",
      "ans =  1\n",
      "ans =  1\n"
     ]
    }
   ],
   "source": [
    "format short\n",
    "x = 0;\n",
    "sin(x)^2+cos(x)^2 == 1\n",
    "x = pi/6;\n",
    "sin(x)^2+cos(x)^2 == 1\n",
    "x = pi/4;\n",
    "sin(x)^2+cos(x)^2 == 1\n",
    "x = pi/3;\n",
    "sin(x)^2+cos(x)^2 == 1\n",
    "x = pi/2;\n",
    "sin(x)^2+cos(x)^2 == 1\n",
    "x = pi;\n",
    "sin(x)^2+cos(x)^2 == 1"
   ]
  },
  {
   "cell_type": "markdown",
   "metadata": {},
   "source": [
    "Verify $\\sinh x - \\cosh x = -\\mathrm{e}^{-x}$ for x in $-10$, $-1$, $0$, $1$ and $10$"
   ]
  },
  {
   "cell_type": "code",
   "execution_count": 24,
   "metadata": {},
   "outputs": [
    {
     "name": "stdout",
     "output_type": "stream",
     "text": [
      "ans =  1\n",
      "ans =  1\n",
      "ans =  1\n",
      "ans =  1\n",
      "ans = 0\n",
      "ans =   -1.2059e-12\n"
     ]
    }
   ],
   "source": [
    "x = -10;\n",
    "sinh(x) - cosh(x) == -exp(-x)\n",
    "x = -1;\n",
    "sinh(x) - cosh(x) == -exp(-x)\n",
    "x = 0;\n",
    "sinh(x) - cosh(x) == -exp(-x)\n",
    "x = 1;\n",
    "sinh(x) - cosh(x) == -exp(-x)\n",
    "x = 10;\n",
    "sinh(x) - cosh(x) == -exp(-x)\n",
    "sinh(x) - cosh(x) - -exp(-x)"
   ]
  },
  {
   "cell_type": "code",
   "execution_count": null,
   "metadata": {
    "collapsed": true
   },
   "outputs": [],
   "source": []
  }
 ],
 "metadata": {
  "hide_code_all_hidden": false,
  "kernelspec": {
   "display_name": "Octave",
   "language": "octave",
   "name": "octave"
  },
  "language_info": {
   "file_extension": ".m",
   "help_links": [
    {
     "text": "GNU Octave",
     "url": "https://www.gnu.org/software/octave/support.html"
    },
    {
     "text": "Octave Kernel",
     "url": "https://github.com/Calysto/octave_kernel"
    },
    {
     "text": "MetaKernel Magics",
     "url": "https://github.com/calysto/metakernel/blob/master/metakernel/magics/README.md"
    }
   ],
   "mimetype": "text/x-octave",
   "name": "octave",
   "version": "4.0.3"
  }
 },
 "nbformat": 4,
 "nbformat_minor": 2
}
