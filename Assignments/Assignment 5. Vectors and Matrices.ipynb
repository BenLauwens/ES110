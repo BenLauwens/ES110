{
 "cells": [
  {
   "cell_type": "markdown",
   "metadata": {},
   "source": [
    "# Assignment 5: Vectors and Matrices\n",
    "\n",
    "## Exercise 1\n",
    "\n",
    "Determine whether the following vectors are linearly independent:\n",
    "- {(4,1),(1,2)}\n",
    "- {(2,1),(4,2)}\n",
    "- {(1,1),(1,2),(3,1)}\n",
    "- {(1,1,1),(0,2,0),(1,3,2)}\n",
    "- {(1,1,1),(0,2,0),(1,3,1)}\n",
    "- {(1,2,0,1),(1,1,0,1),(2,1,3,1),(0,2,-3,1)}"
   ]
  },
  {
   "cell_type": "code",
   "execution_count": null,
   "metadata": {
    "collapsed": true
   },
   "outputs": [],
   "source": []
  },
  {
   "cell_type": "markdown",
   "metadata": {},
   "source": [
    "## Exercise 2\n",
    "\n",
    "Find a number $c$ so that $(1,2,c)$ is orthogonal to $(2,1,2)$."
   ]
  },
  {
   "cell_type": "code",
   "execution_count": null,
   "metadata": {
    "collapsed": true
   },
   "outputs": [],
   "source": []
  },
  {
   "cell_type": "markdown",
   "metadata": {},
   "source": [
    "## Exercise 3\n",
    "\n",
    "What is the length of the vector that goes from the point (1,3,1) to the point (2,5,3)?"
   ]
  },
  {
   "cell_type": "code",
   "execution_count": null,
   "metadata": {
    "collapsed": true
   },
   "outputs": [],
   "source": []
  },
  {
   "cell_type": "markdown",
   "metadata": {},
   "source": [
    "## Exercise 4\n",
    "\n",
    "Write a small _script_ that provides, for two vectors $u$ and $v$ given by a user at the beginning of the script:\n",
    "\n",
    "- $u + v$\n",
    "- $3u$\n",
    "- $||u||$\n",
    "- The answer if $$|| u + v|| \\leq ||u|| + ||v||$$  (Yes → 1 ; No → 0)\n",
    "- $u \\cdot v$\n",
    "- $u \\times v$\n",
    "- $\\cos \\theta$ where $\\theta$ is the angle between $u$ and $v$.\n",
    "\n",
    "Try it with some $u$ and $v$ vectors given on page 92 of your manual “_essential MATHEMATICAL skills_” and give the result for\n",
    "$$ u = (3,4,2) $$\n",
    "$$ v = (1,1,1) $$\n",
    "(example question 7.9.1.(iv)), for instance."
   ]
  },
  {
   "cell_type": "code",
   "execution_count": null,
   "metadata": {
    "collapsed": true
   },
   "outputs": [],
   "source": []
  },
  {
   "cell_type": "markdown",
   "metadata": {},
   "source": [
    "## Exercise 5\n",
    "\n",
    "Write a small _script_ that provides, for two square matrices $A$ and $B$ given by a user at the beginning of the script:\n",
    "\n",
    "- $A + B$\n",
    "- $AB$\n",
    "- $BA$\n",
    "- the eigenvalues and eigenvectors of $A$\n",
    "- the trace of $A$\n",
    "- an answer to the question “Is the sum of the eigenvalues equal to the trace?”\n",
    "\n",
    "Try it with some $A$ and $B$ matrices given on page 92 of your manual “_essential MATHEMATICAL skills_” and give finally the result for\n",
    "\n",
    "$$  A = \\begin{bmatrix}\n",
    "1 & 0 & 1 & 0 \\\\\n",
    "3 & 2 & -7 & 1 \\\\\n",
    "6 & 1 & -6 & 1 \\\\\n",
    "2 & 2 & 2 & 3 \n",
    "\\end{bmatrix} \n",
    "\\textrm{ and }\n",
    "B = \\begin{bmatrix}\n",
    "4 & 1 & 6 & 2 \\\\\n",
    "0 & 1 & 4 & 2 \\\\\n",
    "0 & 0 & 9 & 0 \\\\\n",
    "0 & 0 & 0 & -1 \\\\\n",
    "\\end{bmatrix} $$"
   ]
  },
  {
   "cell_type": "code",
   "execution_count": null,
   "metadata": {
    "collapsed": true
   },
   "outputs": [],
   "source": []
  },
  {
   "cell_type": "markdown",
   "metadata": {},
   "source": [
    "## Exercise 6\n",
    "\n",
    "Solve the following system of equations:\n",
    "\n",
    "$$\\left\\{\\begin{array}{rcl}4x-y&=&0 \\\\ 4y-z&=&0 \\\\ -4x+17y-4z&=&0 \\end{array} \\right. $$\n"
   ]
  },
  {
   "cell_type": "code",
   "execution_count": null,
   "metadata": {
    "collapsed": true
   },
   "outputs": [],
   "source": []
  },
  {
   "cell_type": "markdown",
   "metadata": {},
   "source": [
    "## Exercise 7\n",
    "\n",
    "Draw (in turn with `surf`, `mesh` and `contour`, then with the one you prefer) the following function:  \n",
    "\n",
    "$$ z = \\frac{2(x^2-1)(y^2-1)\\sin(20x)}{5} $$\n",
    "\n",
    "Draw this function over $x\\in [-1,1]$, $y\\in [-1,1]$ and:\n",
    "\n",
    "- Make sure that the axes are equal in all directions.\n",
    "- Make the axes go from -1,1 to 1,1 for $x$ and $y$ and from -0,5 to 0,5 for $z$.\n",
    "\n",
    "\n",
    "1. Begin with 100 intervals for $x$ and for $y$.\n",
    "2. Next, adapt the intervals to better fit the form: 150 intervals for $x$ and 40 for $y$.\n",
    "\n",
    "⇒ _You should get the proof that it's possible to put a sinus function into a ravioli!_\n",
    "\n",
    "What is the big difference between `contour` and ther other two functions?"
   ]
  },
  {
   "cell_type": "code",
   "execution_count": null,
   "metadata": {
    "collapsed": true
   },
   "outputs": [],
   "source": []
  }
 ],
 "metadata": {
  "celltoolbar": "Slideshow",
  "kernelspec": {
   "display_name": "Octave",
   "language": "octave",
   "name": "octave"
  },
  "language_info": {
   "file_extension": ".m",
   "help_links": [
    {
     "text": "GNU Octave",
     "url": "https://www.gnu.org/software/octave/support.html"
    },
    {
     "text": "Octave Kernel",
     "url": "https://github.com/Calysto/octave_kernel"
    },
    {
     "text": "MetaKernel Magics",
     "url": "https://github.com/calysto/metakernel/blob/master/metakernel/magics/README.md"
    }
   ],
   "mimetype": "text/x-octave",
   "name": "octave",
   "version": "4.2.1"
  }
 },
 "nbformat": 4,
 "nbformat_minor": 2
}
