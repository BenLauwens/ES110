{
 "cells": [
  {
   "cell_type": "markdown",
   "metadata": {},
   "source": [
    "# Re-inventing Matlab\n",
    "In the next exercises, we will make the same as Matlab can do in one single operation, but we will do this the hard way: handling matrices and vectors element by element.  \n",
    "Don't write code outside the limits. Stay between \"beginning of your code\" and \"end of your code\"."
   ]
  },
  {
   "cell_type": "markdown",
   "metadata": {},
   "source": [
    "## -1- Sum\n",
    "Compute the sum of all elements of a vector."
   ]
  },
  {
   "cell_type": "code",
   "execution_count": null,
   "metadata": {},
   "outputs": [],
   "source": [
    "V = [5 9 1 0 6 2 7 3 3 4];\n",
    "OctSum = sum(V)\n",
    "MySum = 0; % Variable where your code has to put the result\n",
    "% Beginning of your code\n",
    "\n",
    "% End of your code\n",
    "MySum"
   ]
  },
  {
   "cell_type": "markdown",
   "metadata": {},
   "source": [
    "## -2- Sum (matrix)\n",
    "Compute the sum of all elements of a matrix."
   ]
  },
  {
   "cell_type": "code",
   "execution_count": null,
   "metadata": {},
   "outputs": [],
   "source": [
    "M = [5 9 1 0 6 2 7 3 3 4;\n",
    "     0 5 9 4 4 6 5 1 0 2;\n",
    "     7 4 5 9 3 1 8 2 0 9];\n",
    "OctSum = sum(sum(M))\n",
    "MySum = 0; % Variable where your code has to put the result\n",
    "% Beginning of your code\n",
    "\n",
    "% End of your code\n",
    "MySum"
   ]
  },
  {
   "cell_type": "markdown",
   "metadata": {},
   "source": [
    "## -3- Find\n",
    "Find the place(s) of the elements of a vector where a condition is true."
   ]
  },
  {
   "cell_type": "code",
   "execution_count": null,
   "metadata": {},
   "outputs": [],
   "source": [
    "V = [5 9 1 0 6 2 7 3 3 4];\n",
    "OctFind = find(mod(V,2)==0)\n",
    "MyFind = []; % Variable where your code has to put the result\n",
    "% Beginning of your code\n",
    "\n",
    "% End of your code\n",
    "MyFind"
   ]
  },
  {
   "cell_type": "markdown",
   "metadata": {},
   "source": [
    "## -4- Eye\n",
    "Make an identity matrix of a given size."
   ]
  },
  {
   "cell_type": "code",
   "execution_count": null,
   "metadata": {},
   "outputs": [],
   "source": [
    "givenSize = 7;\n",
    "OctEye = eye(givenSize)\n",
    "MyEye = []; % Variable where your code has to put the result\n",
    "% Beginning of your code\n",
    "\n",
    "% End of your code\n",
    "MyEye"
   ]
  },
  {
   "cell_type": "markdown",
   "metadata": {},
   "source": [
    "# Other scripts\n",
    "Don't use matrix specific operators of Octave / Matlab!"
   ]
  },
  {
   "cell_type": "markdown",
   "metadata": {},
   "source": [
    "## -5-  Positive and negative sums\n",
    "Compute the sums of all positive and all negative elements of a matrix as two separate results."
   ]
  },
  {
   "cell_type": "code",
   "execution_count": null,
   "metadata": {},
   "outputs": [],
   "source": [
    "M = [5 -9 1 0 6 2 -7 3 -3 4;\n",
    "     0 -5 9 4 -4 -6 5 1 0 2;\n",
    "     7 4 5 -9 3 1 -8 -2 0 9];\n",
    "OctSumPos = sum(M(find(M > 0)))\n",
    "OctSumNeg = sum(M(find(M < 0)))\n",
    "MySumPos = 0; % Variable where your code has to put the sum of positive elements\n",
    "MySumNeg = 0; % Variable where your code has to put the sum of negative elements\n",
    "% Beginning of your code\n",
    "\n",
    "% End of your code\n",
    "MySumPos\n",
    "MySumNeg"
   ]
  },
  {
   "cell_type": "markdown",
   "metadata": {},
   "source": [
    "## -6- Sum of positive numbers\n",
    "Read a matrix _**line by line**_ and compute the sum of positive elements in it.  \n",
    "If negative number comes up, interpret it as a stop sign:  \n",
    "Stop summing up and give the result."
   ]
  },
  {
   "cell_type": "code",
   "execution_count": null,
   "metadata": {},
   "outputs": [],
   "source": [
    "M = [5 9 1 0 6 2 7 3 3 4;\n",
    "     0 5 9 4 4 6 5 1 0 2;\n",
    "     7 4 5 9 3 1 8 -2 0 9];\n",
    "OctSum = 113\n",
    "MySum = 0; % Variable where your code has to put the result\n",
    "% Beginning of your code\n",
    "\n",
    "% End of your code\n",
    "MySum"
   ]
  },
  {
   "cell_type": "markdown",
   "metadata": {},
   "source": [
    "## -7- Sum of products\n",
    "Read a matrix _**column by column**_ and compute the product of each column.  \n",
    "Compute the sum of all these products.  \n",
    "**Avoid useless computations:** If you read a \"0\", you know the product will be 0 for this column.  \n",
    "So take 0 as result for the column and stop the calculations."
   ]
  },
  {
   "cell_type": "code",
   "execution_count": null,
   "metadata": {},
   "outputs": [],
   "source": [
    "M = [5 9 1 0 6 2 7 3 3 4;\n",
    "     0 5 9 4 4 6 5 1 0 2;\n",
    "     7 4 5 9 3 1 8 -2 0 9];\n",
    "OctProd = prod(M) % Just to show. No need to compute this.\n",
    "OctSumProd = sum(prod(M))\n",
    "MySumProd = 0; % Variable where your code has to put the result\n",
    "% Beginning of your code\n",
    "\n",
    "% End of your code\n",
    "MySumProd"
   ]
  },
  {
   "cell_type": "markdown",
   "metadata": {},
   "source": [
    "## -8- Bubble sort\n",
    "Sort the elements of a vector in growing order by reading it repeatedly from its start to the end (really the end?) and swapping two consecutive elements if they are in wrong order.  \n",
    "You can find an animation of this on [this page on Wikipedia](https://en.wikipedia.org/wiki/Bubble_sort).  \n",
    "[Here is the image](https://en.wikipedia.org/wiki/Bubble_sort#/media/File:Bubble-sort-example-300px.gif)."
   ]
  },
  {
   "cell_type": "code",
   "execution_count": null,
   "metadata": {},
   "outputs": [],
   "source": [
    "M = magic(5); % M is a square matrix.\n",
    "M = M(1:end); % Now, M is a vector.\n",
    "OctSort = sort(M)\n",
    "MySort = M; % Variable where your code has to put the result\n",
    "% Beginning of your code\n",
    "\n",
    "% End of your code\n",
    "MySort"
   ]
  }
 ],
 "metadata": {
  "kernelspec": {
   "display_name": "Octave",
   "language": "octave",
   "name": "octave"
  },
  "language_info": {
   "file_extension": ".m",
   "help_links": [
    {
     "text": "GNU Octave",
     "url": "https://www.gnu.org/software/octave/support.html"
    },
    {
     "text": "Octave Kernel",
     "url": "https://github.com/Calysto/octave_kernel"
    },
    {
     "text": "MetaKernel Magics",
     "url": "https://github.com/calysto/metakernel/blob/master/metakernel/magics/README.md"
    }
   ],
   "mimetype": "text/x-octave",
   "name": "octave",
   "version": "4.0.3"
  }
 },
 "nbformat": 4,
 "nbformat_minor": 2
}
