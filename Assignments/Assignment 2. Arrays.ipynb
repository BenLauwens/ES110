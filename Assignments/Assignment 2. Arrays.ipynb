{
 "cells": [
  {
   "cell_type": "markdown",
   "metadata": {},
   "source": [
    "## Arrays exercises:\n",
    "### Always try to find the shortest possible instruction(s)  \n",
    "### Let the result be displayed, unless otherwise said.\n",
    "\n",
    "Creat a row vector v1 where the elements go from 0 (first column) to 14 with increments of 1."
   ]
  },
  {
   "cell_type": "code",
   "execution_count": 11,
   "metadata": {},
   "outputs": [
    {
     "name": "stdout",
     "output_type": "stream",
     "text": [
      "v1 =\n",
      "\n",
      "    0    1    2    3    4    5    6    7    8    9   10   11   12   13   14\n",
      "\n"
     ]
    }
   ],
   "source": [
    "v1 = 0:14"
   ]
  },
  {
   "cell_type": "markdown",
   "metadata": {},
   "source": [
    "Add a second row to the result, where the elements are the corresponding powers of 2.  \n",
    "_e.g. 5 → 2^5 = 32._  \n",
    "**Tip:** You can add a row or a column to an array by assigning a value to places that do not exist yet."
   ]
  },
  {
   "cell_type": "code",
   "execution_count": 12,
   "metadata": {},
   "outputs": [
    {
     "name": "stdout",
     "output_type": "stream",
     "text": [
      "v1 =\n",
      "\n",
      " Columns 1 through 9:\n",
      "\n",
      "       0       1       2       3       4       5       6       7       8\n",
      "       1       2       4       8      16      32      64     128     256\n",
      "\n",
      " Columns 10 through 15:\n",
      "\n",
      "       9      10      11      12      13      14\n",
      "     512    1024    2048    4096    8192   16384\n",
      "\n"
     ]
    }
   ],
   "source": [
    "v1(2,:) = 2.^v1"
   ]
  },
  {
   "cell_type": "markdown",
   "metadata": {},
   "source": [
    "Create \"A\", a 5 × 5 matrix where all elements are '0', but where the diagonal elements are equal to the row (or column!)."
   ]
  },
  {
   "cell_type": "code",
   "execution_count": 3,
   "metadata": {},
   "outputs": [
    {
     "name": "stdout",
     "output_type": "stream",
     "text": [
      "A =\n",
      "\n",
      "Diagonal Matrix\n",
      "\n",
      "   1   0   0   0   0\n",
      "   0   2   0   0   0\n",
      "   0   0   3   0   0\n",
      "   0   0   0   4   0\n",
      "   0   0   0   0   5\n",
      "\n"
     ]
    }
   ],
   "source": [
    "A = diag(1:5)"
   ]
  },
  {
   "cell_type": "markdown",
   "metadata": {},
   "source": [
    "Create \"B\", a 5 × 5 matrix where all elements are random integers from 0 to 10 (incl.), use `rand()`."
   ]
  },
  {
   "cell_type": "code",
   "execution_count": 6,
   "metadata": {},
   "outputs": [
    {
     "name": "stdout",
     "output_type": "stream",
     "text": [
      "B =\n",
      "\n",
      "    1    8    2    9    9\n",
      "    2    4    2    3    1\n",
      "    1    4    8    3    5\n",
      "    7    7    8    7    0\n",
      "    8    0   10    4    7\n",
      "\n"
     ]
    }
   ],
   "source": [
    "B = floor(rand(5,5)*11)"
   ]
  },
  {
   "cell_type": "markdown",
   "metadata": {},
   "source": [
    "Create \"PowB\", a 5 × 5 matrix where the elements are 2^[corresponding element of matrix B]."
   ]
  },
  {
   "cell_type": "code",
   "execution_count": 8,
   "metadata": {},
   "outputs": [
    {
     "name": "stdout",
     "output_type": "stream",
     "text": [
      "PowB =\n",
      "\n",
      "      2    256      4    512    512\n",
      "      4     16      4      8      2\n",
      "      2     16    256      8     32\n",
      "    128    128    256    128      1\n",
      "    256      1   1024     16    128\n",
      "\n"
     ]
    }
   ],
   "source": [
    "PowB = 2.^B"
   ]
  },
  {
   "cell_type": "code",
   "execution_count": null,
   "metadata": {
    "collapsed": true
   },
   "outputs": [],
   "source": []
  }
 ],
 "metadata": {
  "kernelspec": {
   "display_name": "Octave",
   "language": "octave",
   "name": "octave"
  },
  "language_info": {
   "file_extension": ".m",
   "help_links": [
    {
     "text": "GNU Octave",
     "url": "https://www.gnu.org/software/octave/support.html"
    },
    {
     "text": "Octave Kernel",
     "url": "https://github.com/Calysto/octave_kernel"
    },
    {
     "text": "MetaKernel Magics",
     "url": "https://github.com/calysto/metakernel/blob/master/metakernel/magics/README.md"
    }
   ],
   "mimetype": "text/x-octave",
   "name": "octave",
   "version": "4.0.3"
  }
 },
 "nbformat": 4,
 "nbformat_minor": 2
}
