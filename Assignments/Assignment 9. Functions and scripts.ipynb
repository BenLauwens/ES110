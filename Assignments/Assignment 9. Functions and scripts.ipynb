{
 "cells": [
  {
   "cell_type": "markdown",
   "metadata": {
    "hideCode": false,
    "hidePrompt": false
   },
   "source": [
    "# Writing functions\n",
    "The functions you write must be easy to understand and easy to use, even after a few months.  \n",
    "So it's a good idea to make it give a clear signal when it's not used the right way.\n",
    "\n",
    "## 1. A long string filled with the same character\n",
    "Complete the next code in order to make it do what is aked in the testing.  \n",
    "(Don't change the code after \"`% Testing of the function:\"`!)  \n",
    "The purpose of the function is to create a vector of characters (in other words, a \"string\") of a given length and with the same character everywhere.\n",
    "\n",
    "**Arguments** (= information to pass to the function):\n",
    "1. the character\n",
    "2. the length of the vector to create\n",
    "\n",
    "**Output** (or \"returned value\"):\n",
    "1. the vector\n",
    "\n",
    "**Errors**  \n",
    "1. If the first argument is not a character, the returned vector must contain \"_First argument must be a character._\"\n",
    "2. If the second argument is not > 0, returned vector must contain \"_Second argument must be a positive (non zero) integer._\""
   ]
  },
  {
   "cell_type": "code",
   "execution_count": null,
   "metadata": {
    "hideCode": false,
    "hidePrompt": false
   },
   "outputs": [],
   "source": [
    "function filledVector = fill(character,numbChar)\n",
    "    if ~ischar(character)\n",
    "        % Some code here.\n",
    "    end\n",
    "    if % Your condition\n",
    "        % Some code here.\n",
    "    end\n",
    "    % Some code here.\n",
    "end\n",
    "\n",
    "% Testing of the function:\n",
    "disp(fill('m',21))\n",
    "disp(fill('m',11))\n",
    "disp(fill('m',1))\n",
    "disp(fill('m',0))\n",
    "disp(fill('m',-2))\n",
    "disp(fill(8,10))\n",
    "%{\n",
    "The above insctructions should give this result:\n",
    "————————————————————————————————————————————————\n",
    "mmmmmmmmmmmmmmmmmmmmm\n",
    "mmmmmmmmmmm\n",
    "m\n",
    "Second argument must be a positive (non zero) integer.\n",
    "Second argument must be a positive (non zero) integer.\n",
    "First argument must be a character.\n",
    "%} "
   ]
  },
  {
   "cell_type": "markdown",
   "metadata": {
    "hideCode": false,
    "hidePrompt": false
   },
   "source": [
    "## 2. Putting stars, symetrically, into a string of spaces\n",
    "This function, \"stars\", will create a vector full of spaces with a number of \"*\" in it.\n",
    "The characters \"*\" must be separated by a space (\" \") and placed in the center of the resulting vector.\n",
    "\n",
    "**Arguments** (= information to pass to the function):\n",
    "1. the number of stars to include\n",
    "2. the length of the vector to create — will be increased by 1 if it's even\n",
    "\n",
    "**Output** (or \"returned value\"):\n",
    "1. the vector (string)\n",
    "\n",
    "**Errors**  \n",
    "1. If the first argument is not > 0, the returned vector must contain \"_First argument must be a positive (non zero) integer._\"\n",
    "2. If the second argument (length of the vector) is not big enough for all the stars and a space between each of them, the returned vector must contain \"_Too many stars, vector too short._\""
   ]
  },
  {
   "cell_type": "code",
   "execution_count": null,
   "metadata": {
    "hideCode": false,
    "hidePrompt": false
   },
   "outputs": [],
   "source": [
    "% Your function code here.\n",
    "\n",
    "\n",
    "% Testing of the function:\n",
    "disp(stars(0,10));\n",
    "disp(stars(-2,16));\n",
    "disp(stars(5,10));\n",
    "disp(stars(6,10));\n",
    "disp(stars(7,10));\n",
    "for ii = 1:7\n",
    "    disp(stars(ii,12))\n",
    "end\n",
    "%{\n",
    "The above insctructions should give this result:\n",
    "————————————————————————————————————————————————\n",
    "First argument must be a positive (non zero) integer.\n",
    "First argument must be a positive (non zero) integer.\n",
    " * * * * * \n",
    "* * * * * *\n",
    "Too many stars, vector too short.\n",
    "      *      \n",
    "     * *     \n",
    "    * * *    \n",
    "   * * * *   \n",
    "  * * * * *  \n",
    " * * * * * * \n",
    "* * * * * * *\n",
    "%}\n"
   ]
  },
  {
   "cell_type": "markdown",
   "metadata": {
    "hideCode": false,
    "hidePrompt": false
   },
   "source": [
    "## 3. Chistmas tree\n",
    "This time, you will write a function that draws a christmas tree.  \n",
    "It will be made of a triangle of stars, like above, and a trunk.\n",
    "If the height is 4 or less, the is just a pipe (\"`|`\") and if the tree is taler, the trunk will be a pipe, a space and a pipe, like this: \"`| |`\".  \n",
    "The only argument of the function is the height (how many lines are drawn with stars).  \n",
    "There is no need for a return value, but you might want to return a string with an error message.  \n",
    "Will you make the trunk in a separate function?  "
   ]
  },
  {
   "cell_type": "code",
   "execution_count": null,
   "metadata": {
    "hideCode": false,
    "hidePrompt": false
   },
   "outputs": [],
   "source": [
    "% Remove this line and place your code here.\n",
    "\n",
    "\n",
    "\n",
    "% Testing of the function:\n",
    "XmasTree(3)\n",
    "disp('_____________________')\n",
    "disp(' ')\n",
    "XmasTree(4)\n",
    "disp('_____________________')\n",
    "disp(' ')\n",
    "XmasTree(5)\n",
    "\n",
    "%{\n",
    "The above insctructions should give this result:\n",
    "————————————————————————————————————————————————\n",
    "  *  \n",
    " * * \n",
    "* * *\n",
    "  |  \n",
    "_____________________\n",
    " \n",
    "   *   \n",
    "  * *  \n",
    " * * * \n",
    "* * * *\n",
    "   |   \n",
    "_____________________\n",
    " \n",
    "    *    \n",
    "   * *   \n",
    "  * * *  \n",
    " * * * * \n",
    "* * * * *\n",
    "   | |   \n",
    "%}"
   ]
  },
  {
   "cell_type": "markdown",
   "metadata": {
    "hideCode": false,
    "hidePrompt": false
   },
   "source": [
    "## 4. Pass a function as argument\n",
    "In this exercise, we will use a function that receives functions as arguments.  \n",
    "The new function fMax will return the maximum of two functions f and g, passed as arguments, applied to the elements of a vector, passed as third argument.  \n",
    "\n",
    "**Arguments** (= information to pass to the function):\n",
    "1. the first function\n",
    "1. the second function\n",
    "2. the vector to compute\n",
    "\n",
    "**Output** (or \"returned value\"):\n",
    "1. the resulting vector (max of the two functions applied to the vector argument)"
   ]
  },
  {
   "cell_type": "code",
   "execution_count": null,
   "metadata": {
    "hideCode": false,
    "hidePrompt": false
   },
   "outputs": [],
   "source": [
    "%plot --format svg --size 800,250\n",
    "function % ???\n",
    "    % ???\n",
    "end\n",
    "\n",
    "% Define here f as a handle on a sine function.\n",
    "\n",
    "% Define here g as a handle on a cosine function.\n",
    "\n",
    "% Leave the following lines unchanged\n",
    "x = -pi:0.01:3*pi;\n",
    "y = fMax(f,g,x)+fMax(f,g,-x);\n",
    "plot(x,y)\n",
    "axis([-pi 3*pi -0.3 2.3]);\n",
    "axis equal;\n",
    "title('max(sin(x),cos(x))+max(sin(-x),cos(-x))')"
   ]
  },
  {
   "cell_type": "markdown",
   "metadata": {
    "hideCode": false,
    "hidePrompt": false
   },
   "source": [
    "## 5. Transform an integer to binary\n",
    "Here we will convert an positive integer to its binary equivalent.  \n",
    "In order to have functions that are very easy to understand, we will create artificially short functions."
   ]
  },
  {
   "cell_type": "markdown",
   "metadata": {
    "hideCode": false,
    "hidePrompt": false
   },
   "source": [
    "#### 1. The first function, \"powerOf2\"…\n",
    "gets a positive integer as argument and returns $2^{argument}$."
   ]
  },
  {
   "cell_type": "code",
   "execution_count": null,
   "metadata": {
    "hideCode": false,
    "hidePrompt": false
   },
   "outputs": [],
   "source": [
    "function %...\n",
    "\n",
    "% You can test your function with some code to check it works properly.\n",
    "% What's outside the function won't be run as the function is called.\n",
    "% For instance:\n",
    "powerOf2(7) % (Answer is 128.)"
   ]
  },
  {
   "cell_type": "markdown",
   "metadata": {
    "hideCode": false,
    "hidePrompt": false
   },
   "source": [
    "#### 2. The second function, \"isPowerOf2Lesser\"…\n",
    "gets two positive integers as arguments and returns a character and a positive integer.\n",
    "\n",
    "**Arguments** (= information to pass to the function):\n",
    "1. the exponent to use\n",
    "1. the number to test\n",
    "\n",
    "**Output** (or \"returned value\"):\n",
    "1. '0' if $2^{exponent}$ > number to test ; '1' in the other case.\n",
    "1. (number to test) if $2^{exponent}$ > number to test ; (number to test - $2^{exponent}$) in the other case."
   ]
  },
  {
   "cell_type": "code",
   "execution_count": null,
   "metadata": {
    "hideCode": false,
    "hidePrompt": false
   },
   "outputs": [],
   "source": [
    "function\n",
    "\n",
    "\n",
    "% Testing. For instance:\n",
    "[bitChar, rest] = isPowerOf2Lesser(7,128) % Must return '1' and 0."
   ]
  },
  {
   "cell_type": "markdown",
   "metadata": {
    "hideCode": false,
    "hidePrompt": false
   },
   "source": [
    "#### 3. The third function, \"findOrder\"…\n",
    "gets a positive integer as argument and returns the biggest exponent to use in the binary form of the argument.  \n",
    "Examples:  \n",
    "- argument 127 => return 7 (as 127 = 1111111, you need 7 bits to represent 127)\n",
    "- argument 128 => return 8 (as 128 = 10000000, you need 8 bits to represent 128)\n"
   ]
  },
  {
   "cell_type": "code",
   "execution_count": null,
   "metadata": {
    "hideCode": false,
    "hidePrompt": false
   },
   "outputs": [],
   "source": [
    "function \n",
    "\n",
    "\n",
    "% Testing. For instance:\n",
    "findOrder(127) % Must return 6.\n",
    "findOrder(128) % Must return 7.\n",
    "findOrder(129) % Must return 7."
   ]
  },
  {
   "cell_type": "markdown",
   "metadata": {
    "hideCode": false,
    "hidePrompt": false
   },
   "source": [
    "#### 4. At last, the program to convert integers to binaries\n",
    "gets a positive integer as argument and returns $2^{argument}$."
   ]
  },
  {
   "cell_type": "code",
   "execution_count": null,
   "metadata": {
    "hideCode": false,
    "hidePrompt": false
   },
   "outputs": [],
   "source": [
    "% Parameter:\n",
    "int2convert = 131;\n",
    "% Program:  (Should run properly if the functions are correctly implemented.)\n",
    "clear binaryForm;\n",
    "order = findOrder(int2convert);\n",
    "text2disp = strcat(\"The binary form of \",num2str(int2convert),\" is \");\n",
    "binaryForm(1:order+1) = '*'; % Initiates the vector to avoid increasing its size at each loop.\n",
    "for ii = order:-1:0\n",
    "    [bit,int2convert] = isPowerOf2Lesser(ii,int2convert);\n",
    "    binaryForm(order-ii+1) = bit;\n",
    "end\n",
    "text2disp = strcat(text2disp,num2str(binaryForm),\".\");\n",
    "disp(text2disp);"
   ]
  }
 ],
 "metadata": {
  "hide_code_all_hidden": false,
  "kernelspec": {
   "display_name": "Octave",
   "language": "octave",
   "name": "octave"
  },
  "language_info": {
   "file_extension": ".m",
   "help_links": [
    {
     "text": "GNU Octave",
     "url": "https://www.gnu.org/software/octave/support.html"
    },
    {
     "text": "Octave Kernel",
     "url": "https://github.com/Calysto/octave_kernel"
    },
    {
     "text": "MetaKernel Magics",
     "url": "https://github.com/calysto/metakernel/blob/master/metakernel/magics/README.md"
    }
   ],
   "mimetype": "text/x-octave",
   "name": "octave",
   "version": "4.0.3"
  }
 },
 "nbformat": 4,
 "nbformat_minor": 2
}
